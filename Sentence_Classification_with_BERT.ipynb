{
 "cells": [
  {
   "cell_type": "markdown",
   "metadata": {
    "id": "JuWGT1Oxpkjp"
   },
   "source": [
    "# BERT Fine-Tuning Tutorial with PyTorch\n",
    "\n",
    "Note taken from  Youtube tutorial By Chris McCormick https://www.youtube.com/watch?v=Hnvb9b7a_Ps\n",
    "\n",
    "Pre-Trained BERT MODEL to CoLA sentence classification"
   ]
  },
  {
   "cell_type": "markdown",
   "metadata": {
    "id": "Muzj_E_8qjta"
   },
   "source": [
    "\n",
    "## History\n",
    "\n",
    "2018 was a breakthrough year in NLP. Transfer learning, particularly models like Allen AI's ELMO, OpenAI's Open-GPT, and Google's BERT allowed researchers to smash multiple benchmarks with minimal task-specific fine-tuning and provided the rest of the NLP community with pretrained models that could easily (with less data and less compute time) be fine-tuned and implemented to produce state of the art results. Unfortunately, for many starting out in NLP and even for some experienced practicioners, the theory and practical application of these powerful models is still not well understood.\n"
   ]
  },
  {
   "cell_type": "markdown",
   "metadata": {
    "id": "p1ZTuYxWqxy6"
   },
   "source": [
    "\n",
    "## What is BERT?\n",
    "\n",
    "BERT (Bidirectional Encoder Representations from Transformers), released in late 2018, is the model we will use in this tutorial to provide readers with a better understanding of and practical guidance for using transfer learning models in NLP. BERT is a method of pretraining language representations that was used to create models that NLP practicioners can then download and use for free. You can either use these models to extract high quality language features from your text data, or you can fine-tune these models on a specific task (classification, entity recognition, question answering, etc.) with your own data to produce state of the art predictions.\n",
    "\n",
    "This post will explain how you can modify and fine-tune BERT to create a powerful NLP model that quickly gives you state of the art results. \n"
   ]
  },
  {
   "cell_type": "markdown",
   "metadata": {
    "id": "mlUdtn3LrFHJ"
   },
   "source": [
    "# Advantages of Fine-Tuning\n",
    "\n",
    "\n",
    "In this tutorial, we will use BERT to train a text classifier. Specifically, we will take the pre-trained BERT model, add an untrained layer of neurons on the end, and train the new model for our classification task. Why do this rather than train a train a specific deep learning model (a CNN, BiLSTM, etc.) that is well suited for the specific NLP task you need? \n",
    "\n",
    "1. **Quicker Development**\n",
    "\n",
    "    * First, the pre-trained BERT model weights already encode a lot of information about our language. As a result, it takes much less time to train our fine-tuned model - it is as if we have already trained the bottom layers of our network extensively and only need to gently tune them while using their output as features for our classification task. In fact, the authors recommend only 2-4 epochs of training for fine-tuning BERT on a specific NLP task (compared to the hundreds of GPU hours needed to train the original BERT model or a LSTM from scratch!). \n",
    "\n",
    "2. **Less Data**\n",
    "\n",
    "    * In addition and perhaps just as important, because of the pre-trained weights this method allows us to fine-tune our task on a much smaller dataset than would be required in a model that is built from scratch. A major drawback of NLP models built from scratch is that we often need a prohibitively large dataset in order to train our network to reasonable accuracy, meaning a lot of time and energy had to be put into dataset creation. By fine-tuning BERT, we are now able to get away with training a model to good performance on a much smaller amount of training data.\n",
    "\n",
    "3. **Better Results**\n",
    "\n",
    "    * Finally, this simple fine-tuning procedure (typically adding one fully-connected layer on top of BERT and training for a few epochs) was shown to achieve state of the art results with minimal task-specific adjustments for a wide variety of tasks: classification, language inference, semantic similarity, question answering, etc. Rather than implementing custom and sometimes-obscure architetures shown to work well on a specific task, simply fine-tuning BERT is shown to be a better (or at least equal) alternative.\n"
   ]
  },
  {
   "cell_type": "markdown",
   "metadata": {
    "id": "kuwW_tuMrxFn"
   },
   "source": [
    "\n",
    "### A Shift in NLP\n",
    "\n",
    "This shift to transfer learning parallels the same shift that took place in computer vision a few years ago. Creating a good deep learning network for computer vision tasks can take millions of parameters and be very expensive to train. Researchers discovered that deep networks learn hierarchical feature representations (simple features like edges at the lowest layers with gradually more complex features at higher layers). Rather than training a new network from scratch each time, the lower layers of a trained network with generalized image features could be copied and transfered for use in another network with a different task. It soon became common practice to download a pre-trained deep network and quickly retrain it for the new task or add additional layers on top - vastly preferable to the expensive process of training a network from scratch. For many, the introduction of deep pre-trained language models in 2018 (ELMO, BERT, ULMFIT, Open-GPT, etc.) signals the same shift to transfer learning in NLP that computer vision saw.\n",
    "\n",
    "Let's get started!"
   ]
  },
  {
   "cell_type": "code",
   "execution_count": 2,
   "metadata": {
    "colab": {
     "base_uri": "https://localhost:8080/"
    },
    "id": "CeQR4D3VqEb0",
    "outputId": "c130d507-c7dd-460b-aa92-ca224f2e6860"
   },
   "outputs": [
    {
     "name": "stdout",
     "output_type": "stream",
     "text": [
      "Found GPU at: /device:GPU:0\n"
     ]
    }
   ],
   "source": [
    "#import tensorflow\n",
    "\n",
    "import tensorflow as tf\n",
    "\n",
    "# Getting the GPU device name\n",
    "device = tf.test.gpu_device_name()\n",
    "\n",
    "#The device name should look like:\n",
    "if device == '/device:GPU:0':\n",
    "  print('Found GPU at: {}'.format(device))\n",
    "else:\n",
    "  raise SystemError('GPU device not found')"
   ]
  },
  {
   "cell_type": "markdown",
   "metadata": {
    "id": "0qdJPh76smfi"
   },
   "source": [
    "In order for torch to use the GPU, we need to identify and specify the GPU as the device. Later, in our training loop, we will load data onto the device. "
   ]
  },
  {
   "cell_type": "markdown",
   "metadata": {
    "id": "0Equ9cKxqwo-"
   },
   "source": []
  },
  {
   "cell_type": "code",
   "execution_count": 3,
   "metadata": {
    "colab": {
     "base_uri": "https://localhost:8080/"
    },
    "id": "d-UpihlLqLem",
    "outputId": "14aa09fa-5db0-405c-d47a-eb7dbe3f5f52"
   },
   "outputs": [
    {
     "name": "stdout",
     "output_type": "stream",
     "text": [
      "There are 1 GPU(s) available.\n",
      "We will use the GPU: Tesla T4\n"
     ]
    }
   ],
   "source": [
    "import torch\n",
    "\n",
    "# if there's a GPU available...\n",
    "if torch.cuda.is_available():\n",
    "\n",
    "  # Tell Pytorch to use the GPU.\n",
    "  device = torch.device('cuda')\n",
    "\n",
    "  print('There are %d GPU(s) available.' % torch.cuda.device_count())\n",
    "  print('We will use the GPU:', torch.cuda.get_device_name(0))\n",
    "else:\n",
    "  print('No GPU available, using th CPU instead')\n",
    "  device = torch.device('CPU')"
   ]
  },
  {
   "cell_type": "markdown",
   "metadata": {
    "id": "KdWvTWK0t0YF"
   },
   "source": [
    "## 1.2. Installing the Hugging Face Library\n",
    "\n",
    "\n",
    "\n",
    "Next, let's install the [transformers](https://github.com/huggingface/transformers) package from Hugging Face which will give us a pytorch interface for working with BERT. (This library contains interfaces for other pretrained language models like OpenAI's GPT and GPT-2.) We've selected the pytorch interface because it strikes a nice balance between the high-level APIs (which are easy to use but don't provide insight into how things work) and tensorflow code (which contains lots of details but often sidetracks us into lessons about tensorflow, when the purpose here is BERT!).\n",
    "\n",
    "At the moment, the Hugging Face library seems to be the most widely accepted and powerful pytorch interface for working with BERT. In addition to supporting a variety of different pre-trained transformer models, the library also includes pre-built modifications of these models suited to your specific task. For example, in this tutorial we will use `BertForSequenceClassification`.\n",
    "\n",
    "The library also includes task-specific classes for token classification, question answering, next sentence prediciton, etc. Using these pre-built classes simplifies the process of modifying BERT for your purposes.\n",
    "\n"
   ]
  },
  {
   "cell_type": "code",
   "execution_count": 4,
   "metadata": {
    "colab": {
     "base_uri": "https://localhost:8080/"
    },
    "id": "stO07gIHtgSb",
    "outputId": "f5faca15-e7b0-42ff-de5e-40857833f5cd"
   },
   "outputs": [
    {
     "name": "stdout",
     "output_type": "stream",
     "text": [
      "Collecting transformers\n",
      "  Downloading transformers-4.17.0-py3-none-any.whl (3.8 MB)\n",
      "\u001b[K     |████████████████████████████████| 3.8 MB 37.1 MB/s \n",
      "\u001b[?25hRequirement already satisfied: numpy>=1.17 in /usr/local/lib/python3.7/dist-packages (from transformers) (1.21.5)\n",
      "Requirement already satisfied: packaging>=20.0 in /usr/local/lib/python3.7/dist-packages (from transformers) (21.3)\n",
      "Requirement already satisfied: filelock in /usr/local/lib/python3.7/dist-packages (from transformers) (3.6.0)\n",
      "Collecting sacremoses\n",
      "  Downloading sacremoses-0.0.49-py3-none-any.whl (895 kB)\n",
      "\u001b[K     |████████████████████████████████| 895 kB 60.0 MB/s \n",
      "\u001b[?25hCollecting huggingface-hub<1.0,>=0.1.0\n",
      "  Downloading huggingface_hub-0.4.0-py3-none-any.whl (67 kB)\n",
      "\u001b[K     |████████████████████████████████| 67 kB 6.3 MB/s \n",
      "\u001b[?25hRequirement already satisfied: tqdm>=4.27 in /usr/local/lib/python3.7/dist-packages (from transformers) (4.63.0)\n",
      "Requirement already satisfied: regex!=2019.12.17 in /usr/local/lib/python3.7/dist-packages (from transformers) (2019.12.20)\n",
      "Collecting tokenizers!=0.11.3,>=0.11.1\n",
      "  Downloading tokenizers-0.11.6-cp37-cp37m-manylinux_2_12_x86_64.manylinux2010_x86_64.whl (6.5 MB)\n",
      "\u001b[K     |████████████████████████████████| 6.5 MB 56.3 MB/s \n",
      "\u001b[?25hRequirement already satisfied: importlib-metadata in /usr/local/lib/python3.7/dist-packages (from transformers) (4.11.2)\n",
      "Requirement already satisfied: requests in /usr/local/lib/python3.7/dist-packages (from transformers) (2.23.0)\n",
      "Collecting pyyaml>=5.1\n",
      "  Downloading PyYAML-6.0-cp37-cp37m-manylinux_2_5_x86_64.manylinux1_x86_64.manylinux_2_12_x86_64.manylinux2010_x86_64.whl (596 kB)\n",
      "\u001b[K     |████████████████████████████████| 596 kB 61.0 MB/s \n",
      "\u001b[?25hRequirement already satisfied: typing-extensions>=3.7.4.3 in /usr/local/lib/python3.7/dist-packages (from huggingface-hub<1.0,>=0.1.0->transformers) (3.10.0.2)\n",
      "Requirement already satisfied: pyparsing!=3.0.5,>=2.0.2 in /usr/local/lib/python3.7/dist-packages (from packaging>=20.0->transformers) (3.0.7)\n",
      "Requirement already satisfied: zipp>=0.5 in /usr/local/lib/python3.7/dist-packages (from importlib-metadata->transformers) (3.7.0)\n",
      "Requirement already satisfied: idna<3,>=2.5 in /usr/local/lib/python3.7/dist-packages (from requests->transformers) (2.10)\n",
      "Requirement already satisfied: urllib3!=1.25.0,!=1.25.1,<1.26,>=1.21.1 in /usr/local/lib/python3.7/dist-packages (from requests->transformers) (1.24.3)\n",
      "Requirement already satisfied: chardet<4,>=3.0.2 in /usr/local/lib/python3.7/dist-packages (from requests->transformers) (3.0.4)\n",
      "Requirement already satisfied: certifi>=2017.4.17 in /usr/local/lib/python3.7/dist-packages (from requests->transformers) (2021.10.8)\n",
      "Requirement already satisfied: click in /usr/local/lib/python3.7/dist-packages (from sacremoses->transformers) (7.1.2)\n",
      "Requirement already satisfied: joblib in /usr/local/lib/python3.7/dist-packages (from sacremoses->transformers) (1.1.0)\n",
      "Requirement already satisfied: six in /usr/local/lib/python3.7/dist-packages (from sacremoses->transformers) (1.15.0)\n",
      "Installing collected packages: pyyaml, tokenizers, sacremoses, huggingface-hub, transformers\n",
      "  Attempting uninstall: pyyaml\n",
      "    Found existing installation: PyYAML 3.13\n",
      "    Uninstalling PyYAML-3.13:\n",
      "      Successfully uninstalled PyYAML-3.13\n",
      "Successfully installed huggingface-hub-0.4.0 pyyaml-6.0 sacremoses-0.0.49 tokenizers-0.11.6 transformers-4.17.0\n"
     ]
    }
   ],
   "source": [
    "!pip install transformers"
   ]
  },
  {
   "cell_type": "markdown",
   "metadata": {
    "id": "EmFIO_Orv7VY"
   },
   "source": [
    "# Glue Benchmark\n",
    "The code in this notebook is actually a simplified version of the [run_glue.py](https://github.com/huggingface/transformers/blob/master/examples/run_glue.py) example script from huggingface.\n",
    "\n",
    "`run_glue.py` is a helpful utility which allows you to pick which GLUE benchmark task you want to run on, and which pre-trained model you want to use (you can see the list of possible models [here](https://github.com/huggingface/transformers/blob/e6cff60b4cbc1158fbd6e4a1c3afda8dc224f566/examples/run_glue.py#L69)). It also supports using either the CPU, a single GPU, or multiple GPUs. It even supports using 16-bit precision if you want further speed up.\n",
    "\n",
    "Unfortunately, all of this configurability comes at the cost of *readability*. In this Notebook, we've simplified the code greatly and added plenty of comments to make it clear what's going on. "
   ]
  },
  {
   "cell_type": "markdown",
   "metadata": {
    "id": "oPDdqqj7DRgq"
   },
   "source": [
    "# 2. Loading CoLA Dataset\n",
    "\n",
    "We'll use [The Corpus of Linguistic Acceptability (CoLA)](https://nyu-mll.github.io/CoLA/) dataset for single sentence classification. It's a set of sentences labeled as grammatically correct or incorrect. It was first published in May of 2018, and is one of the tests included in the \"GLUE Benchmark\" on which models like BERT are competing.\n"
   ]
  },
  {
   "cell_type": "markdown",
   "metadata": {
    "id": "Vdcj--4cDeh9"
   },
   "source": [
    "## 2.1. Download & Extract"
   ]
  },
  {
   "cell_type": "code",
   "execution_count": 5,
   "metadata": {
    "colab": {
     "base_uri": "https://localhost:8080/"
    },
    "id": "Ld9ZQDrquxVe",
    "outputId": "dfc75b3e-6fb1-4f01-aadc-cde5ae2b5525"
   },
   "outputs": [
    {
     "name": "stdout",
     "output_type": "stream",
     "text": [
      "Collecting wget\n",
      "  Downloading wget-3.2.zip (10 kB)\n",
      "Building wheels for collected packages: wget\n",
      "  Building wheel for wget (setup.py) ... \u001b[?25l\u001b[?25hdone\n",
      "  Created wheel for wget: filename=wget-3.2-py3-none-any.whl size=9675 sha256=11460af9c5f98d9eefe555ebb3fbedb4e6441f24ba44fc2243202c0dbc5d5765\n",
      "  Stored in directory: /root/.cache/pip/wheels/a1/b6/7c/0e63e34eb06634181c63adacca38b79ff8f35c37e3c13e3c02\n",
      "Successfully built wget\n",
      "Installing collected packages: wget\n",
      "Successfully installed wget-3.2\n"
     ]
    }
   ],
   "source": [
    "!pip install wget"
   ]
  },
  {
   "cell_type": "code",
   "execution_count": 6,
   "metadata": {
    "colab": {
     "base_uri": "https://localhost:8080/"
    },
    "id": "cDFOF-XLDhdr",
    "outputId": "1461c859-a849-4552-eca3-0f35047d6f22"
   },
   "outputs": [
    {
     "name": "stdout",
     "output_type": "stream",
     "text": [
      "Downloading dataset...\n"
     ]
    }
   ],
   "source": [
    "import wget\n",
    "import os\n",
    "\n",
    "print('Downloading dataset...')\n",
    "\n",
    "# The URL for the dataset zip file.\n",
    "url = 'https://nyu-mll.github.io/CoLA/cola_public_1.1.zip'\n",
    "\n",
    "# Download the file (if we haven't already)\n",
    "if not os.path.exists('./cola_public_1.1.zip'):\n",
    "    wget.download(url, './cola_public_1.1.zip')"
   ]
  },
  {
   "cell_type": "markdown",
   "metadata": {
    "id": "k4ew-UNiD3sq"
   },
   "source": [
    "Unzipping the dataset to the file system"
   ]
  },
  {
   "cell_type": "code",
   "execution_count": 7,
   "metadata": {
    "colab": {
     "base_uri": "https://localhost:8080/"
    },
    "id": "UJ0qV--xD8m-",
    "outputId": "6ede6ee0-5dcf-4195-af0b-1bb314d00bf5"
   },
   "outputs": [
    {
     "name": "stdout",
     "output_type": "stream",
     "text": [
      "Archive:  cola_public_1.1.zip\n",
      "   creating: cola_public/\n",
      "  inflating: cola_public/README      \n",
      "   creating: cola_public/tokenized/\n",
      "  inflating: cola_public/tokenized/in_domain_dev.tsv  \n",
      "  inflating: cola_public/tokenized/in_domain_train.tsv  \n",
      "  inflating: cola_public/tokenized/out_of_domain_dev.tsv  \n",
      "   creating: cola_public/raw/\n",
      "  inflating: cola_public/raw/in_domain_dev.tsv  \n",
      "  inflating: cola_public/raw/in_domain_train.tsv  \n",
      "  inflating: cola_public/raw/out_of_domain_dev.tsv  \n"
     ]
    }
   ],
   "source": [
    "if not os.path.exists('./cola_public/'):\n",
    "  !unzip cola_public_1.1.zip"
   ]
  },
  {
   "cell_type": "markdown",
   "metadata": {
    "id": "ah05nr6QHUuk"
   },
   "source": [
    "## 2.2. Parse\n",
    "\n",
    "We can see from the file names that both `tokenized` and `raw` versions of the data are available. \n",
    "\n",
    "We can't use the pre-tokenized version because, in order to apply the pre-trained BERT, we *must* use the tokenizer provided by the model. This is because (1) the model has a specific, fixed vocabulary and (2) the BERT tokenizer has a particular way of handling out-of-vocabulary words."
   ]
  },
  {
   "cell_type": "markdown",
   "metadata": {
    "id": "kw1jBJp5HkCz"
   },
   "source": [
    "We'll use pandas to parse the \"in-domain\" training set and look at a few of its properties and data points."
   ]
  },
  {
   "cell_type": "code",
   "execution_count": 8,
   "metadata": {
    "id": "pHp01bvoHkjb"
   },
   "outputs": [],
   "source": [
    "import pandas as pd"
   ]
  },
  {
   "cell_type": "code",
   "execution_count": 9,
   "metadata": {
    "id": "n_IlAEBzHo0F"
   },
   "outputs": [],
   "source": [
    "# Load the  dataset into pandas framework\n",
    "df = pd.read_csv(\"./cola_public/raw/in_domain_train.tsv\",  delimiter='\\t', header=None, names = ['code', 'label', 'label_note', 'sentence'])"
   ]
  },
  {
   "cell_type": "code",
   "execution_count": 10,
   "metadata": {
    "colab": {
     "base_uri": "https://localhost:8080/",
     "height": 380
    },
    "id": "dGVNePnOIGZK",
    "outputId": "93f5dc03-88e2-4f52-fb99-9748cd29a672"
   },
   "outputs": [
    {
     "name": "stdout",
     "output_type": "stream",
     "text": [
      "Number of training sentences: 8551\n"
     ]
    },
    {
     "data": {
      "text/html": [
       "\n",
       "  <div id=\"df-d1c13d0e-60cc-49bb-a4ba-0b59a0cab6b2\">\n",
       "    <div class=\"colab-df-container\">\n",
       "      <div>\n",
       "<style scoped>\n",
       "    .dataframe tbody tr th:only-of-type {\n",
       "        vertical-align: middle;\n",
       "    }\n",
       "\n",
       "    .dataframe tbody tr th {\n",
       "        vertical-align: top;\n",
       "    }\n",
       "\n",
       "    .dataframe thead th {\n",
       "        text-align: right;\n",
       "    }\n",
       "</style>\n",
       "<table border=\"1\" class=\"dataframe\">\n",
       "  <thead>\n",
       "    <tr style=\"text-align: right;\">\n",
       "      <th></th>\n",
       "      <th>code</th>\n",
       "      <th>label</th>\n",
       "      <th>label_note</th>\n",
       "      <th>sentence</th>\n",
       "    </tr>\n",
       "  </thead>\n",
       "  <tbody>\n",
       "    <tr>\n",
       "      <th>5437</th>\n",
       "      <td>b_73</td>\n",
       "      <td>0</td>\n",
       "      <td>*</td>\n",
       "      <td>She speaks enough clearly.</td>\n",
       "    </tr>\n",
       "    <tr>\n",
       "      <th>8144</th>\n",
       "      <td>ad03</td>\n",
       "      <td>1</td>\n",
       "      <td>NaN</td>\n",
       "      <td>What did she eat?</td>\n",
       "    </tr>\n",
       "    <tr>\n",
       "      <th>2624</th>\n",
       "      <td>l-93</td>\n",
       "      <td>1</td>\n",
       "      <td>NaN</td>\n",
       "      <td>The king banished the general from the army.</td>\n",
       "    </tr>\n",
       "    <tr>\n",
       "      <th>8037</th>\n",
       "      <td>ad03</td>\n",
       "      <td>0</td>\n",
       "      <td>*</td>\n",
       "      <td>He looked up it</td>\n",
       "    </tr>\n",
       "    <tr>\n",
       "      <th>7167</th>\n",
       "      <td>sks13</td>\n",
       "      <td>1</td>\n",
       "      <td>NaN</td>\n",
       "      <td>This girl in the red coat will put a picture o...</td>\n",
       "    </tr>\n",
       "    <tr>\n",
       "      <th>6512</th>\n",
       "      <td>g_81</td>\n",
       "      <td>1</td>\n",
       "      <td>NaN</td>\n",
       "      <td>Different teams beat the Red Sox and were beat...</td>\n",
       "    </tr>\n",
       "    <tr>\n",
       "      <th>4395</th>\n",
       "      <td>ks08</td>\n",
       "      <td>0</td>\n",
       "      <td>*</td>\n",
       "      <td>Mary not avoided Bill.</td>\n",
       "    </tr>\n",
       "    <tr>\n",
       "      <th>5286</th>\n",
       "      <td>b_82</td>\n",
       "      <td>1</td>\n",
       "      <td>NaN</td>\n",
       "      <td>This book I enjoyed.</td>\n",
       "    </tr>\n",
       "    <tr>\n",
       "      <th>7677</th>\n",
       "      <td>sks13</td>\n",
       "      <td>1</td>\n",
       "      <td>NaN</td>\n",
       "      <td>the rice was cooked by Bill.</td>\n",
       "    </tr>\n",
       "    <tr>\n",
       "      <th>5756</th>\n",
       "      <td>c_13</td>\n",
       "      <td>1</td>\n",
       "      <td>NaN</td>\n",
       "      <td>The book of poems with the bright red cover st...</td>\n",
       "    </tr>\n",
       "  </tbody>\n",
       "</table>\n",
       "</div>\n",
       "      <button class=\"colab-df-convert\" onclick=\"convertToInteractive('df-d1c13d0e-60cc-49bb-a4ba-0b59a0cab6b2')\"\n",
       "              title=\"Convert this dataframe to an interactive table.\"\n",
       "              style=\"display:none;\">\n",
       "        \n",
       "  <svg xmlns=\"http://www.w3.org/2000/svg\" height=\"24px\"viewBox=\"0 0 24 24\"\n",
       "       width=\"24px\">\n",
       "    <path d=\"M0 0h24v24H0V0z\" fill=\"none\"/>\n",
       "    <path d=\"M18.56 5.44l.94 2.06.94-2.06 2.06-.94-2.06-.94-.94-2.06-.94 2.06-2.06.94zm-11 1L8.5 8.5l.94-2.06 2.06-.94-2.06-.94L8.5 2.5l-.94 2.06-2.06.94zm10 10l.94 2.06.94-2.06 2.06-.94-2.06-.94-.94-2.06-.94 2.06-2.06.94z\"/><path d=\"M17.41 7.96l-1.37-1.37c-.4-.4-.92-.59-1.43-.59-.52 0-1.04.2-1.43.59L10.3 9.45l-7.72 7.72c-.78.78-.78 2.05 0 2.83L4 21.41c.39.39.9.59 1.41.59.51 0 1.02-.2 1.41-.59l7.78-7.78 2.81-2.81c.8-.78.8-2.07 0-2.86zM5.41 20L4 18.59l7.72-7.72 1.47 1.35L5.41 20z\"/>\n",
       "  </svg>\n",
       "      </button>\n",
       "      \n",
       "  <style>\n",
       "    .colab-df-container {\n",
       "      display:flex;\n",
       "      flex-wrap:wrap;\n",
       "      gap: 12px;\n",
       "    }\n",
       "\n",
       "    .colab-df-convert {\n",
       "      background-color: #E8F0FE;\n",
       "      border: none;\n",
       "      border-radius: 50%;\n",
       "      cursor: pointer;\n",
       "      display: none;\n",
       "      fill: #1967D2;\n",
       "      height: 32px;\n",
       "      padding: 0 0 0 0;\n",
       "      width: 32px;\n",
       "    }\n",
       "\n",
       "    .colab-df-convert:hover {\n",
       "      background-color: #E2EBFA;\n",
       "      box-shadow: 0px 1px 2px rgba(60, 64, 67, 0.3), 0px 1px 3px 1px rgba(60, 64, 67, 0.15);\n",
       "      fill: #174EA6;\n",
       "    }\n",
       "\n",
       "    [theme=dark] .colab-df-convert {\n",
       "      background-color: #3B4455;\n",
       "      fill: #D2E3FC;\n",
       "    }\n",
       "\n",
       "    [theme=dark] .colab-df-convert:hover {\n",
       "      background-color: #434B5C;\n",
       "      box-shadow: 0px 1px 3px 1px rgba(0, 0, 0, 0.15);\n",
       "      filter: drop-shadow(0px 1px 2px rgba(0, 0, 0, 0.3));\n",
       "      fill: #FFFFFF;\n",
       "    }\n",
       "  </style>\n",
       "\n",
       "      <script>\n",
       "        const buttonEl =\n",
       "          document.querySelector('#df-d1c13d0e-60cc-49bb-a4ba-0b59a0cab6b2 button.colab-df-convert');\n",
       "        buttonEl.style.display =\n",
       "          google.colab.kernel.accessAllowed ? 'block' : 'none';\n",
       "\n",
       "        async function convertToInteractive(key) {\n",
       "          const element = document.querySelector('#df-d1c13d0e-60cc-49bb-a4ba-0b59a0cab6b2');\n",
       "          const dataTable =\n",
       "            await google.colab.kernel.invokeFunction('convertToInteractive',\n",
       "                                                     [key], {});\n",
       "          if (!dataTable) return;\n",
       "\n",
       "          const docLinkHtml = 'Like what you see? Visit the ' +\n",
       "            '<a target=\"_blank\" href=https://colab.research.google.com/notebooks/data_table.ipynb>data table notebook</a>'\n",
       "            + ' to learn more about interactive tables.';\n",
       "          element.innerHTML = '';\n",
       "          dataTable['output_type'] = 'display_data';\n",
       "          await google.colab.output.renderOutput(dataTable, element);\n",
       "          const docLink = document.createElement('div');\n",
       "          docLink.innerHTML = docLinkHtml;\n",
       "          element.appendChild(docLink);\n",
       "        }\n",
       "      </script>\n",
       "    </div>\n",
       "  </div>\n",
       "  "
      ],
      "text/plain": [
       "       code  label label_note  \\\n",
       "5437   b_73      0          *   \n",
       "8144   ad03      1        NaN   \n",
       "2624   l-93      1        NaN   \n",
       "8037   ad03      0          *   \n",
       "7167  sks13      1        NaN   \n",
       "6512   g_81      1        NaN   \n",
       "4395   ks08      0          *   \n",
       "5286   b_82      1        NaN   \n",
       "7677  sks13      1        NaN   \n",
       "5756   c_13      1        NaN   \n",
       "\n",
       "                                               sentence  \n",
       "5437                         She speaks enough clearly.  \n",
       "8144                                  What did she eat?  \n",
       "2624       The king banished the general from the army.  \n",
       "8037                                    He looked up it  \n",
       "7167  This girl in the red coat will put a picture o...  \n",
       "6512  Different teams beat the Red Sox and were beat...  \n",
       "4395                             Mary not avoided Bill.  \n",
       "5286                               This book I enjoyed.  \n",
       "7677                       the rice was cooked by Bill.  \n",
       "5756  The book of poems with the bright red cover st...  "
      ]
     },
     "execution_count": 10,
     "metadata": {},
     "output_type": "execute_result"
    }
   ],
   "source": [
    "# number of sentences\n",
    "print('Number of training sentences: {}'.format(len(df)))\n",
    "\n",
    "# display 10 random rows from the data\n",
    "df.sample(10)"
   ]
  },
  {
   "cell_type": "markdown",
   "metadata": {
    "id": "UiFx4DjGJurB"
   },
   "source": [
    "**Note:** The two properties we actually care about are the the `sentence` and its `label`, which is referred to as the \"acceptibility judgment\" (0=unacceptable, 1=acceptable)."
   ]
  },
  {
   "cell_type": "markdown",
   "metadata": {
    "id": "-jX7o7N-J4sd"
   },
   "source": [
    "Here are five sentences which are labeled as not grammatically acceptible. Note how much more difficult this task is than something like sentiment analysis!"
   ]
  },
  {
   "cell_type": "code",
   "execution_count": 11,
   "metadata": {
    "colab": {
     "base_uri": "https://localhost:8080/",
     "height": 206
    },
    "id": "RV5j05QnIYSn",
    "outputId": "1e4412a9-0a76-47ad-f60f-3843bea91332"
   },
   "outputs": [
    {
     "data": {
      "text/html": [
       "\n",
       "  <div id=\"df-7571c31e-685f-489d-b38a-3a9647e7f37c\">\n",
       "    <div class=\"colab-df-container\">\n",
       "      <div>\n",
       "<style scoped>\n",
       "    .dataframe tbody tr th:only-of-type {\n",
       "        vertical-align: middle;\n",
       "    }\n",
       "\n",
       "    .dataframe tbody tr th {\n",
       "        vertical-align: top;\n",
       "    }\n",
       "\n",
       "    .dataframe thead th {\n",
       "        text-align: right;\n",
       "    }\n",
       "</style>\n",
       "<table border=\"1\" class=\"dataframe\">\n",
       "  <thead>\n",
       "    <tr style=\"text-align: right;\">\n",
       "      <th></th>\n",
       "      <th>sentence</th>\n",
       "      <th>label</th>\n",
       "    </tr>\n",
       "  </thead>\n",
       "  <tbody>\n",
       "    <tr>\n",
       "      <th>5129</th>\n",
       "      <td>That brought the letter is Bill.</td>\n",
       "      <td>0</td>\n",
       "    </tr>\n",
       "    <tr>\n",
       "      <th>2788</th>\n",
       "      <td>Steve pelted at Anna with acorns.</td>\n",
       "      <td>0</td>\n",
       "    </tr>\n",
       "    <tr>\n",
       "      <th>1943</th>\n",
       "      <td>I didn't eat the ice cream and any cake.</td>\n",
       "      <td>0</td>\n",
       "    </tr>\n",
       "    <tr>\n",
       "      <th>6436</th>\n",
       "      <td>Mary talked to any actual student.</td>\n",
       "      <td>0</td>\n",
       "    </tr>\n",
       "    <tr>\n",
       "      <th>641</th>\n",
       "      <td>Give the baby the bottle awake.</td>\n",
       "      <td>0</td>\n",
       "    </tr>\n",
       "  </tbody>\n",
       "</table>\n",
       "</div>\n",
       "      <button class=\"colab-df-convert\" onclick=\"convertToInteractive('df-7571c31e-685f-489d-b38a-3a9647e7f37c')\"\n",
       "              title=\"Convert this dataframe to an interactive table.\"\n",
       "              style=\"display:none;\">\n",
       "        \n",
       "  <svg xmlns=\"http://www.w3.org/2000/svg\" height=\"24px\"viewBox=\"0 0 24 24\"\n",
       "       width=\"24px\">\n",
       "    <path d=\"M0 0h24v24H0V0z\" fill=\"none\"/>\n",
       "    <path d=\"M18.56 5.44l.94 2.06.94-2.06 2.06-.94-2.06-.94-.94-2.06-.94 2.06-2.06.94zm-11 1L8.5 8.5l.94-2.06 2.06-.94-2.06-.94L8.5 2.5l-.94 2.06-2.06.94zm10 10l.94 2.06.94-2.06 2.06-.94-2.06-.94-.94-2.06-.94 2.06-2.06.94z\"/><path d=\"M17.41 7.96l-1.37-1.37c-.4-.4-.92-.59-1.43-.59-.52 0-1.04.2-1.43.59L10.3 9.45l-7.72 7.72c-.78.78-.78 2.05 0 2.83L4 21.41c.39.39.9.59 1.41.59.51 0 1.02-.2 1.41-.59l7.78-7.78 2.81-2.81c.8-.78.8-2.07 0-2.86zM5.41 20L4 18.59l7.72-7.72 1.47 1.35L5.41 20z\"/>\n",
       "  </svg>\n",
       "      </button>\n",
       "      \n",
       "  <style>\n",
       "    .colab-df-container {\n",
       "      display:flex;\n",
       "      flex-wrap:wrap;\n",
       "      gap: 12px;\n",
       "    }\n",
       "\n",
       "    .colab-df-convert {\n",
       "      background-color: #E8F0FE;\n",
       "      border: none;\n",
       "      border-radius: 50%;\n",
       "      cursor: pointer;\n",
       "      display: none;\n",
       "      fill: #1967D2;\n",
       "      height: 32px;\n",
       "      padding: 0 0 0 0;\n",
       "      width: 32px;\n",
       "    }\n",
       "\n",
       "    .colab-df-convert:hover {\n",
       "      background-color: #E2EBFA;\n",
       "      box-shadow: 0px 1px 2px rgba(60, 64, 67, 0.3), 0px 1px 3px 1px rgba(60, 64, 67, 0.15);\n",
       "      fill: #174EA6;\n",
       "    }\n",
       "\n",
       "    [theme=dark] .colab-df-convert {\n",
       "      background-color: #3B4455;\n",
       "      fill: #D2E3FC;\n",
       "    }\n",
       "\n",
       "    [theme=dark] .colab-df-convert:hover {\n",
       "      background-color: #434B5C;\n",
       "      box-shadow: 0px 1px 3px 1px rgba(0, 0, 0, 0.15);\n",
       "      filter: drop-shadow(0px 1px 2px rgba(0, 0, 0, 0.3));\n",
       "      fill: #FFFFFF;\n",
       "    }\n",
       "  </style>\n",
       "\n",
       "      <script>\n",
       "        const buttonEl =\n",
       "          document.querySelector('#df-7571c31e-685f-489d-b38a-3a9647e7f37c button.colab-df-convert');\n",
       "        buttonEl.style.display =\n",
       "          google.colab.kernel.accessAllowed ? 'block' : 'none';\n",
       "\n",
       "        async function convertToInteractive(key) {\n",
       "          const element = document.querySelector('#df-7571c31e-685f-489d-b38a-3a9647e7f37c');\n",
       "          const dataTable =\n",
       "            await google.colab.kernel.invokeFunction('convertToInteractive',\n",
       "                                                     [key], {});\n",
       "          if (!dataTable) return;\n",
       "\n",
       "          const docLinkHtml = 'Like what you see? Visit the ' +\n",
       "            '<a target=\"_blank\" href=https://colab.research.google.com/notebooks/data_table.ipynb>data table notebook</a>'\n",
       "            + ' to learn more about interactive tables.';\n",
       "          element.innerHTML = '';\n",
       "          dataTable['output_type'] = 'display_data';\n",
       "          await google.colab.output.renderOutput(dataTable, element);\n",
       "          const docLink = document.createElement('div');\n",
       "          docLink.innerHTML = docLinkHtml;\n",
       "          element.appendChild(docLink);\n",
       "        }\n",
       "      </script>\n",
       "    </div>\n",
       "  </div>\n",
       "  "
      ],
      "text/plain": [
       "                                      sentence  label\n",
       "5129          That brought the letter is Bill.      0\n",
       "2788         Steve pelted at Anna with acorns.      0\n",
       "1943  I didn't eat the ice cream and any cake.      0\n",
       "6436        Mary talked to any actual student.      0\n",
       "641            Give the baby the bottle awake.      0"
      ]
     },
     "execution_count": 11,
     "metadata": {},
     "output_type": "execute_result"
    }
   ],
   "source": [
    "df.loc[df.label== 0].sample(5)[['sentence', 'label']]"
   ]
  },
  {
   "cell_type": "markdown",
   "metadata": {
    "id": "xPlpJeFDLE8J"
   },
   "source": [
    "\n",
    "# Extracting (sentence and label) \n",
    "Let's extract the sentences and labels of our training set as numpy ndarrays."
   ]
  },
  {
   "cell_type": "code",
   "execution_count": 12,
   "metadata": {
    "id": "pjJINtSlKi9_"
   },
   "outputs": [],
   "source": [
    "# Get the list of sentences and their labels\n",
    "sentences = df.sentence.values\n",
    "labels = df.label.values"
   ]
  },
  {
   "cell_type": "markdown",
   "metadata": {
    "id": "juQzlheJLuEU"
   },
   "source": [
    "# 3. Tokenization & Input Formatting\n",
    "\n",
    "In this section, we'll transform our dataset into the format that BERT can be trained on.\n"
   ]
  },
  {
   "cell_type": "markdown",
   "metadata": {
    "id": "zeo2-tBhL1s7"
   },
   "source": [
    "## 3.1. BERT Tokenizer\n",
    "\n",
    "\n",
    "To feed our text to BERT, it must be split into tokens, and then these tokens must be mapped to their index in the tokenizer vocabulary.\n",
    "\n",
    "The tokenization must be performed by the tokenizer included with BERT--the below cell will download this for us. We'll be using the \"uncased\" version here.\n"
   ]
  },
  {
   "cell_type": "code",
   "execution_count": 13,
   "metadata": {
    "id": "WK7kB0ZpLc1i"
   },
   "outputs": [],
   "source": [
    "from transformers import BertTokenizer"
   ]
  },
  {
   "cell_type": "code",
   "execution_count": 14,
   "metadata": {
    "colab": {
     "base_uri": "https://localhost:8080/",
     "height": 130,
     "referenced_widgets": [
      "8f4bc84164bb40f7b8905a58ac32833d",
      "0ab5e9c393ae4405987e9a438354e590",
      "b8b8972d25d44d59bdf49139cc9a593a",
      "71bee048147d4d7b8362f32ba5dc8aab",
      "b39569611e974683a9fb4017a76c556f",
      "7b4547ea7d9f4a17abe418796b5fa558",
      "8e345e8d32164d93b8bb1962895ad6b8",
      "08716288507a471ca0ed0edeb2cf3dfd",
      "a7bb0a6a2d9a4a609eb10f2b3a08a98f",
      "1986612148a4470e86f70aa25bfad0c2",
      "3409fab1840f432cb5336705673e8976",
      "2f2eb3c7415a4046ad50e88d84b3e450",
      "be896cdeb7454a9ca4190abda53c4ff4",
      "9a8a644b9a8943668f438becabe7590a",
      "38b8be7d5a6746878b1e6cf706a206d3",
      "38930c7b81a8464b9a6891ee9392fc14",
      "128aace3e857444fb8d2a3a5b59216cf",
      "a06915cec84e4beb8e3556e00369f074",
      "18b58b3446a64189b8b44cf781d7f2c3",
      "c250cc2b41ef48e4ac6c03303afd87a7",
      "202b322e1c1b4ad2b05bdf8f95602f7f",
      "30bd656fc6744a9daf1b3b2eeafc65d8",
      "4f4eb63e42d54221a5629052ca68f67c",
      "3c823256cd504c8eb8db9f7897748a1b",
      "f5e3614da5764fb892daf84eb8de63a8",
      "6d96bdf272ae476fa3546159acf898a7",
      "51acdf4798b14f608b1b4ed50e874569",
      "a991c903dbee40cf9254dd5af0b38439",
      "6ee5182305504252b415fdf2356b6786",
      "3ca89b5a58b640c7af457fa3fa68ee1c",
      "ae8bd98ad8e149bcb4f8bbe749c91379",
      "b2952d4f984242559ceb58a247f0f680",
      "af6965b932754a50931ecc4240babbf3"
     ]
    },
    "id": "yrZ3CvXCMZGl",
    "outputId": "57a292fb-5943-4c20-a12f-dc53c976a5b7"
   },
   "outputs": [
    {
     "name": "stdout",
     "output_type": "stream",
     "text": [
      "loading Bert Tokenizer...\n"
     ]
    },
    {
     "data": {
      "application/vnd.jupyter.widget-view+json": {
       "model_id": "8f4bc84164bb40f7b8905a58ac32833d",
       "version_major": 2,
       "version_minor": 0
      },
      "text/plain": [
       "Downloading:   0%|          | 0.00/226k [00:00<?, ?B/s]"
      ]
     },
     "metadata": {},
     "output_type": "display_data"
    },
    {
     "data": {
      "application/vnd.jupyter.widget-view+json": {
       "model_id": "2f2eb3c7415a4046ad50e88d84b3e450",
       "version_major": 2,
       "version_minor": 0
      },
      "text/plain": [
       "Downloading:   0%|          | 0.00/28.0 [00:00<?, ?B/s]"
      ]
     },
     "metadata": {},
     "output_type": "display_data"
    },
    {
     "data": {
      "application/vnd.jupyter.widget-view+json": {
       "model_id": "4f4eb63e42d54221a5629052ca68f67c",
       "version_major": 2,
       "version_minor": 0
      },
      "text/plain": [
       "Downloading:   0%|          | 0.00/570 [00:00<?, ?B/s]"
      ]
     },
     "metadata": {},
     "output_type": "display_data"
    }
   ],
   "source": [
    "# Load the BERT tokenizer.\n",
    "print(\"loading Bert Tokenizer...\")\n",
    "tokenizer = BertTokenizer.from_pretrained('bert-base-uncased', do_lower_case = True)\n"
   ]
  },
  {
   "cell_type": "markdown",
   "metadata": {
    "id": "h5Pj66_oNbls"
   },
   "source": [
    "Let's apply the tokenizer to one sentence just to see the output.\n"
   ]
  },
  {
   "cell_type": "code",
   "execution_count": 15,
   "metadata": {
    "colab": {
     "base_uri": "https://localhost:8080/"
    },
    "id": "_tkvOqP8NP7X",
    "outputId": "5c9979ec-d479-4b2b-e45b-293ffedf5ad3"
   },
   "outputs": [
    {
     "name": "stdout",
     "output_type": "stream",
     "text": [
      "Origianl:  Our friends won't buy this analysis, let alone the next one we propose. \n",
      "\n",
      "Tokenized IDs:  ['our', 'friends', 'won', \"'\", 't', 'buy', 'this', 'analysis', ',', 'let', 'alone', 'the', 'next', 'one', 'we', 'propose', '.'] \n",
      "\n",
      "Token IDs:  [2256, 2814, 2180, 1005, 1056, 4965, 2023, 4106, 1010, 2292, 2894, 1996, 2279, 2028, 2057, 16599, 1012]\n"
     ]
    }
   ],
   "source": [
    "# Print the original sentence.\n",
    "print('Origianl: ', sentences[0], '\\n')\n",
    "\n",
    "# print the sentence split into tokens\n",
    "print('Tokenized IDs: ', tokenizer.tokenize(sentences[0]) ,'\\n')\n",
    "\n",
    "# Print the sentence mapped to token ids\n",
    "print('Token IDs: ', tokenizer.convert_tokens_to_ids( tokenizer.tokenize(sentences[0]) ))"
   ]
  },
  {
   "cell_type": "markdown",
   "metadata": {
    "id": "XcRsAY3nPBUl"
   },
   "source": [
    "**Note**: When we actually convert all of our sentences, we'll use the `tokenize.encode` function to handle both steps, rather than calling `tokenize` and `convert_tokens_to_ids` separately. \n",
    "\n",
    "Before we can do that, though, we need to talk about some of BERT's formatting requirements."
   ]
  },
  {
   "cell_type": "markdown",
   "metadata": {
    "id": "KJZnu8mGQ-qJ"
   },
   "source": [
    "## 3.2. Required Formatting"
   ]
  },
  {
   "cell_type": "markdown",
   "metadata": {
    "id": "COwnjmbRCmu-"
   },
   "source": [
    "The above code left out a few required formatting steps that we'll look at here.\n",
    "\n",
    "*Side Note: The input format to BERT seems \"over-specified\" to me... We are required to give it a number of pieces of information which seem redundant, or like they could easily be inferred from the data without us explicity providing it. But it is what it is, and I suspect it will make more sense once I have a deeper understanding of the BERT internals.*\n",
    "\n",
    "We are required to:\n",
    "1. Add special tokens to the start and end of each sentence.\n",
    "2. Pad & truncate all sentences to a single constant length.\n",
    "3. Explicitly differentiate real tokens from padding tokens with the \"attention mask\".\n",
    "\n"
   ]
  },
  {
   "cell_type": "markdown",
   "metadata": {
    "id": "CHtru7lFCsxI"
   },
   "source": [
    "### Special Tokens\n",
    "\n",
    "\n",
    "**`[SEP]`**\n",
    "\n",
    "At the end of every sentence, we need to append the special `[SEP]` token. \n",
    "\n",
    "This token is an artifact of two-sentence tasks, where BERT is given two separate sentences and asked to determine something (e.g., can the answer to the question in sentence A be found in sentence B?). \n",
    "\n",
    "I am not certain yet why the token is still required when we have only single-sentence input, but it is!\n"
   ]
  },
  {
   "cell_type": "markdown",
   "metadata": {
    "id": "vVqW9HeyC5jY"
   },
   "source": [
    "**`[CLS]`**\n",
    "\n",
    "For classification tasks, we must prepend the special `[CLS]` token to the beginning of every sentence.\n",
    "\n",
    "This token has special significance. BERT consists of 12 Transformer layers. Each transformer takes in a list of token embeddings, and produces the same number of embeddings on the output (but with the feature values changed, of course!).\n",
    "\n",
    "![Illustration of CLS token purpose](http://www.mccormickml.com/assets/BERT/CLS_token_500x606.png)\n",
    "\n",
    "On the output of the final (12th) transformer, *only the first embedding (corresponding to the [CLS] token) is used by the classifier*.\n",
    "\n",
    ">  \"The first token of every sequence is always a special classification token (`[CLS]`). The final hidden state\n",
    "corresponding to this token is used as the aggregate sequence representation for classification\n",
    "tasks.\" (from the [BERT paper](https://arxiv.org/pdf/1810.04805.pdf))\n",
    "\n",
    "I'm not sure why the authors took this strategy instead of some kind of pooling of all the final vectors, but I'm sure that if pooling were better they would have gone that route. \n",
    "\n",
    "Also, because BERT is trained to only use this [CLS] token for classification, we know that the model has been motivated to encode everything it needs for the classification step into that single 768-value embedding vector.\n",
    "\n"
   ]
  },
  {
   "cell_type": "markdown",
   "metadata": {
    "id": "W2MJYo4ODGRI"
   },
   "source": [
    "### Sentence Length & Attention Mask\n",
    "\n"
   ]
  },
  {
   "cell_type": "markdown",
   "metadata": {
    "id": "IcoQkxp5DfRJ"
   },
   "source": [
    "The sentences in our dataset obviously have varying lengths, so how does BERT handle this?\n",
    "\n",
    "BERT has two constraints:\n",
    "1. All sentences must be padded or truncated to a single, fixed length.\n",
    "2. The maximum sentence length is 512 tokens.\n",
    "\n",
    "Padding is done with a special `[PAD]` token, which is at index 0 in the BERT vocabulary. The below illustration demonstrates padding out to a \"MAX_LEN\" of 8 tokens.\n",
    "\n",
    "<img src=\"http://www.mccormickml.com/assets/BERT/padding_and_mask.png\" width=\"600\">\n",
    "\n",
    "The \"Attention Mask\" is simply an array of 1s and 0s indicating which tokens are padding and which aren't (seems kind of redundant, doesn't it?! Again, I don't currently know why).\n",
    "\n",
    "I've experimented with running this notebook with two different values of MAX_LEN, and it impacted both the training speed and the  test set accuracy.\n",
    "\n",
    "With a Tesla K80 and:\n",
    "\n",
    "```\n",
    "MAX_LEN = 128  -->  Training epochs take ~5:28 each, score is 0.535\n",
    "MAX_LEN = 64   -->  Training epochs take ~2:57 each, score is 0.566\n",
    "```\n",
    "These results suggest to me that the padding tokens aren't simply skipped over--that they are in fact fed through the model and incorporated in the results (thereby impacting both model speed and accuracy). I'll have to dig into the architecture more to understand this.\n",
    "\n",
    "\n",
    "\n",
    "\n"
   ]
  },
  {
   "cell_type": "markdown",
   "metadata": {
    "id": "2WtJnLQ2DkSx"
   },
   "source": [
    "## 3.2. Sentences to IDs"
   ]
  },
  {
   "cell_type": "markdown",
   "metadata": {
    "id": "UWISplGBDnBP"
   },
   "source": [
    "The `tokenizer.encode` function combines multiple steps for us:\n",
    "1. Split the sentence into tokens.\n",
    "2. Add the special `[CLS]` and `[SEP]` tokens.\n",
    "3. Map the tokens to their IDs.\n",
    "\n",
    "Oddly, this function can perform truncating for us, but doesn't handle padding. "
   ]
  },
  {
   "cell_type": "code",
   "execution_count": 16,
   "metadata": {
    "id": "3V9pjw8ZNvrR"
   },
   "outputs": [],
   "source": [
    "# Tokenize all of the sentences and map the tokens to thier word IDs.\n",
    "input_ids = []\n",
    "\n",
    "for sent in sentences:\n",
    "\n",
    "  # `encode` will:\n",
    "  # 1) Tonizie the sentence,\n",
    "  #2) Prepend the [CLS] token to the start\n",
    "  # 3) Append the [SEP] token to the end.\n",
    "  # 4) Map tokens to their IDs\n",
    "  encoded_sent = tokenizer.encode(sent,\n",
    "                               add_special_tokens =True,#add [CLS] and [SEP]\n",
    "                               # This function also supports truncation and conversion\n",
    "                        # to pytorch tensors, but we need to do padding, so we\n",
    "                        # can't use these features :( .\n",
    "                        #max_length = 128,          # Truncate all sentences.\n",
    "                        #return_tensors = 'pt',     # Return pytorch tensors.\n",
    "                               )\n",
    "  # append to the list\n",
    "  input_ids.append(encoded_sent)"
   ]
  },
  {
   "cell_type": "code",
   "execution_count": 17,
   "metadata": {
    "colab": {
     "base_uri": "https://localhost:8080/"
    },
    "id": "z81YGKS9EJGv",
    "outputId": "4a64cd2a-901b-4c6a-9dc2-c40f20b19425"
   },
   "outputs": [
    {
     "name": "stdout",
     "output_type": "stream",
     "text": [
      "Original:  Our friends won't buy this analysis, let alone the next one we propose. \n",
      "\n",
      "Token IDs:  [[101, 2256, 2814, 2180, 1005, 1056, 4965, 2023, 4106, 1010, 2292, 2894, 1996, 2279, 2028, 2057, 16599, 1012, 102], [101, 2028, 2062, 18404, 2236, 3989, 1998, 1045, 1005, 1049, 3228, 2039, 1012, 102], [101, 2028, 2062, 18404, 2236, 3989, 2030, 1045, 1005, 1049, 3228, 2039, 1012, 102], [101, 1996, 2062, 2057, 2817, 16025, 1010, 1996, 13675, 16103, 2121, 2027, 2131, 1012, 102], [101, 2154, 2011, 2154, 1996, 8866, 2024, 2893, 14163, 8024, 3771, 1012, 102], [101, 1045, 1005, 2222, 8081, 2017, 1037, 4392, 1012, 102], [101, 5965, 27129, 1996, 4264, 4257, 1012, 102], [101, 3021, 19055, 2010, 2126, 2041, 1997, 1996, 4825, 1012, 102], [101, 2057, 1005, 2128, 5613, 1996, 2305, 2185, 1012, 102], [101, 11458, 25756, 1996, 3384, 4257, 1012, 102], [101, 1996, 4401, 4191, 1996, 2377, 2125, 1996, 2754, 1012, 102], [101, 1996, 8644, 10619, 5024, 1012, 102], [101, 3021, 4565, 2041, 1997, 1996, 2282, 1012, 102], [101, 1996, 19785, 27129, 1996, 4870, 4257, 1012, 102], [101, 1996, 19785, 27129, 1996, 4870, 1012, 102], [101, 3021, 3631, 1996, 7198, 28251, 2046, 4109, 1012, 102], [101, 3021, 3631, 1996, 7198, 28251, 1012, 102], [101, 2027, 10749, 1996, 9047, 4318, 1012, 102], [101, 2027, 10749, 1996, 9047, 1012, 102], [101, 1996, 2934, 5720, 2149, 2046, 1037, 24646, 17822, 1012, 102], [101, 1996, 2934, 5720, 2149, 1012, 102], [101, 2057, 7581, 9731, 21221, 1012, 102], [101, 2057, 7581, 9731, 1012, 102], [101, 2057, 7581, 4302, 21221, 1012, 102], [101, 4302, 19055, 2370, 2046, 1037, 4906, 1012, 102], [101, 4302, 19055, 2370, 1012, 102], [101, 4302, 19055, 2149, 2046, 1037, 4906, 1012, 102], [101, 3021, 2628, 1996, 2346, 2046, 1996, 3224, 1012, 102], [101, 2057, 5225, 3307, 1019, 2013, 17371, 2000, 16420, 1012, 102], [101, 5965, 12808, 1996, 17271, 2000, 2049, 3120, 1012, 102], [101, 2198, 10948, 17569, 2229, 2408, 1996, 2282, 1012, 102], [101, 3021, 24471, 15833, 2041, 1996, 3332, 1012, 102], [101, 3021, 19055, 2041, 1996, 3332, 1012, 102], [101, 3021, 23919, 2006, 1996, 2723, 1012, 102], [101, 1996, 11848, 15748, 2083, 1996, 2723, 2046, 1996, 3829, 2917, 1012, 102], [101, 3021, 8823, 2125, 1996, 2723, 1012, 102], [101, 3021, 10749, 2013, 1996, 21290, 1012, 102], [101, 2023, 3384, 8691, 2015, 4257, 4089, 1012, 102], [101, 2027, 2081, 2032, 2343, 1012, 102], [101, 2027, 2081, 2032, 4854, 1012, 102], [101, 2027, 3303, 2032, 2000, 2468, 4854, 2011, 2437, 2032, 1012, 102], [101, 2027, 3303, 2032, 2000, 2468, 2343, 2011, 2437, 2032, 1012, 102], [101, 2027, 2081, 2032, 2000, 15575, 1012, 102], [101, 2027, 2081, 2032, 2046, 1037, 6071, 1012, 102], [101, 1996, 20820, 22257, 2083, 1996, 5234, 1012, 102], [101, 1996, 9540, 22257, 2091, 1996, 2346, 1012, 102], [101, 1996, 10432, 26265, 2627, 1996, 2160, 1012, 102], [101, 1996, 6181, 6110, 4018, 9655, 2039, 1996, 5108, 1012, 102], [101, 1996, 2482, 10189, 8126, 2091, 1996, 2346, 1012, 102], [101, 1996, 3899, 17554, 2041, 1997, 1996, 2282, 1012, 102], [101, 1996, 3899, 17554, 2049, 2126, 2041, 1997, 1996, 2282, 1012, 102], [101, 3021, 26265, 2010, 2126, 2627, 1996, 2160, 1012, 102], [101, 1996, 6965, 9955, 2046, 1996, 3224, 1012, 102], [101, 3021, 5419, 2091, 1996, 2346, 1012, 102], [101, 1996, 6965, 2253, 2046, 1996, 3224, 2011, 24866, 1012, 102], [101, 1996, 6965, 2253, 2046, 1996, 3224, 1998, 8558, 9955, 1012, 102], [101, 1996, 2311, 2003, 4206, 1998, 2898, 1012, 102], [101, 1996, 2311, 2003, 4206, 1998, 4206, 1012, 102], [101, 2023, 2311, 2003, 12283, 1998, 7289, 2084, 2008, 2028, 1012, 102], [101, 2023, 2311, 2288, 12283, 1998, 7289, 2084, 2008, 2028, 1012, 102], [101, 2023, 2311, 2288, 12283, 1998, 12283, 1012, 102], [101, 2023, 2311, 2003, 12283, 1998, 12283, 1012, 102], [101, 2023, 2311, 2288, 2084, 2008, 2028, 1012, 102], [101, 2023, 2311, 2003, 2084, 2008, 2028, 1012, 102], [101, 3021, 13715, 2046, 1996, 5430, 1012, 102], [101, 3021, 13715, 2046, 1996, 5430, 2005, 2847, 1012, 102], [101, 3021, 3724, 4302, 2125, 1996, 10682, 2005, 2847, 1012, 102], [101, 3021, 13715, 2091, 1996, 2314, 2005, 2847, 1012, 102], [101, 3021, 13715, 2091, 1996, 2314, 1012, 102], [101, 3021, 3724, 4302, 2247, 1996, 4446, 2005, 2847, 1012, 102], [101, 3021, 3724, 4302, 2247, 1996, 4446, 1012, 102], [101, 1996, 2346, 1062, 8004, 4143, 15567, 2091, 1996, 2940, 1012, 102], [101, 1996, 8164, 7121, 2058, 1996, 4139, 3240, 1012, 102], [101, 1996, 15871, 7121, 1996, 8164, 2058, 1996, 4139, 3240, 1012, 102], [101, 1996, 15871, 2921, 1996, 8164, 7121, 2058, 1996, 4139, 3240, 1012, 102], [101, 3520, 3013, 2370, 2489, 1012, 102], [101, 3520, 2288, 2489, 2011, 6276, 2010, 4344, 1012, 102], [101, 3021, 6639, 2370, 2000, 3637, 1012, 102], [101, 3021, 6639, 9790, 2000, 3637, 1012, 102], [101, 3021, 7757, 2370, 2083, 1996, 4920, 1012, 102], [101, 3021, 6369, 2370, 2000, 3637, 1012, 102], [101, 3021, 7757, 1996, 13997, 2083, 1996, 4920, 1012, 102], [101, 3021, 6369, 9790, 2000, 3637, 1012, 102], [101, 1996, 7764, 22257, 2993, 2000, 1996, 2598, 1012, 102], [101, 2065, 1996, 7026, 8369, 1010, 2009, 2071, 3614, 2993, 10021, 1012, 102], [101, 2016, 7581, 21221, 1012, 102], [101, 6945, 6639, 2000, 3637, 1012, 102], [101, 1996, 6816, 23919, 2000, 2331, 1012, 102], [101, 2002, 19055, 8300, 1998, 2057, 2020, 2035, 2058, 24793, 2098, 1010, 2926, 7838, 1012, 102], [101, 2198, 19055, 8300, 1010, 10137, 2010, 4451, 1998, 19752, 2104, 2010, 3052, 1012, 102], [101, 2198, 19055, 2370, 8300, 2006, 1996, 2924, 1997, 1996, 2697, 2073, 2002, 1998, 3021, 2018, 2037, 2377, 1012, 102], [101, 6902, 27626, 2370, 8300, 1012, 102], [101, 2016, 19055, 2841, 8300, 2004, 1996, 7053, 5565, 2006, 2014, 4451, 1012, 102], [101, 1996, 15485, 23277, 8004, 11533, 3031, 1996, 10135, 1012, 102], [101, 1996, 7967, 12501, 3031, 1996, 10135, 1012, 102], [101, 1996, 3608, 23277, 8004, 11533, 2993, 6065, 1012, 102], [101, 3021, 23277, 8004, 11533, 2370, 6065, 1012, 102], [101, 4862, 4143, 23277, 8004, 11533, 2014, 11868, 6065, 1012, 102], [101, 1996, 2125, 2415, 9419, 4875, 22920, 3184, 2993, 6065, 1012, 102], [101, 1996, 2062, 2017, 4521, 1010, 1996, 2625, 2017, 2215, 1012, 102], [101, 2065, 2017, 4521, 2062, 1010, 2017, 2215, 7978, 2135, 2625, 1012, 102], [101, 2043, 2017, 4521, 2062, 1010, 2017, 2215, 7978, 2135, 2625, 1012, 102], [101, 2004, 2017, 4521, 2062, 1010, 2017, 2215, 7978, 2135, 2625, 1012, 102], [101, 1996, 2087, 2017, 2215, 1010, 1996, 2560, 2017, 4521, 1012, 102], [101, 1996, 17076, 16252, 9790, 4152, 1010, 1996, 2062, 5965, 19837, 2015, 2014, 1012, 102], [101, 1996, 2062, 2008, 2017, 4521, 1010, 1996, 2625, 2008, 2017, 2215, 1012, 102], [101, 1996, 17076, 16252, 2008, 9790, 4152, 1010, 1996, 2062, 2008, 5965, 19837, 2015, 2014, 1012, 102], [101, 1045, 2228, 2008, 1996, 2062, 2017, 4521, 1010, 1996, 2625, 2017, 2215, 1012, 102], [101, 1045, 1005, 1049, 2025, 7135, 2011, 1996, 2801, 2008, 1996, 2062, 2017, 4521, 1010, 1996, 2625, 2017, 2215, 1012, 102], [101, 2009, 2003, 5793, 2008, 1996, 2062, 2017, 4521, 1010, 1996, 2625, 2017, 2215, 1012, 102], [101, 2009, 2003, 2025, 4498, 3154, 2065, 1996, 2062, 2017, 4521, 1010, 1996, 2625, 2017, 2215, 1012, 102], [101, 1045, 2215, 2000, 4863, 3599, 2339, 1996, 2062, 2017, 4521, 1010, 1996, 2625, 2017, 2215, 1012, 102], [101, 1045, 5157, 2008, 1996, 2062, 2198, 20323, 1010, 1996, 2062, 2002, 12778, 1012, 102], [101, 1045, 5157, 2008, 1996, 2062, 2198, 4521, 1010, 1996, 2062, 2002, 3477, 1012, 102], [101, 1045, 5157, 2008, 2198, 3477, 2062, 1010, 1996, 2062, 2002, 20323, 1012, 102], [101, 1045, 5157, 2008, 2198, 12778, 2062, 1010, 1996, 2062, 2002, 4521, 1012, 102], [101, 2017, 2131, 17076, 16252, 1010, 1996, 2062, 2057, 4521, 1010, 2123, 1005, 1056, 2017, 1012, 102], [101, 2017, 2131, 17076, 16252, 1010, 1996, 2062, 2057, 4521, 1010, 2123, 1005, 1056, 2057, 1012, 102], [101, 1996, 6211, 2009, 2038, 28270, 1010, 2129, 2172, 5514, 1037, 4834, 2008, 3544, 1999, 1996, 2314, 1029, 102], [101, 1996, 6211, 2009, 2038, 28270, 1010, 2129, 2172, 5514, 1037, 4834, 3544, 1999, 1996, 2314, 1029, 102], [101, 1996, 6211, 2009, 15811, 1010, 2129, 2172, 5514, 2008, 2079, 2017, 2448, 1029, 102], [101, 1996, 6211, 2009, 15811, 1010, 2129, 2172, 5514, 2079, 2017, 2448, 1029, 102], [101, 1996, 6211, 2009, 15811, 1010, 2129, 2172, 5514, 1037, 4834, 2079, 2017, 2156, 1999, 1996, 2314, 1029, 102], [101, 1996, 6211, 2009, 15811, 1010, 2129, 2172, 5514, 1037, 4834, 2008, 2079, 2017, 2156, 1999, 1996, 2314, 1029, 102], [101, 2043, 2009, 15811, 6211, 1010, 2129, 2172, 5514, 1037, 4834, 3544, 1999, 1996, 2314, 1029, 102], [101, 2004, 2009, 15811, 6211, 1010, 2129, 2172, 5514, 1037, 4834, 3544, 1999, 1996, 2314, 1029, 102], [101, 2004, 2009, 15811, 6211, 1010, 2129, 2172, 5514, 1037, 4834, 2008, 3544, 1999, 1996, 2314, 1029, 102], [101, 2043, 2009, 15811, 6211, 1010, 2129, 2172, 5514, 1037, 4834, 2008, 3544, 1999, 1996, 2314, 1029, 102], [101, 2129, 2172, 6211, 2038, 2009, 28270, 1010, 1996, 5514, 1037, 4834, 2017, 2156, 1999, 1996, 2314, 1029, 102], [101, 2129, 2172, 6211, 2038, 2009, 28270, 1010, 2043, 2017, 2156, 1037, 5514, 4834, 1999, 1996, 2314, 1029, 102], [101, 1996, 2062, 2198, 20323, 1010, 1996, 12347, 2562, 2115, 2677, 3844, 2055, 2009, 1012, 102], [101, 1996, 2062, 3071, 4521, 1010, 1996, 2062, 2198, 7906, 2010, 2502, 2677, 3844, 2055, 2009, 1010, 7929, 1029, 102], [101, 2043, 2198, 20323, 2062, 1010, 2562, 2115, 2677, 3844, 12347, 1010, 7929, 1029, 102], [101, 2004, 2198, 20323, 2062, 1010, 2562, 2115, 2677, 3844, 12347, 1010, 7929, 1029, 102], [101, 2562, 2115, 2677, 3844, 12347, 1010, 1996, 2062, 2198, 20323, 1010, 7929, 1029, 102], [101, 3071, 2562, 2115, 2677, 3844, 12347, 1010, 1996, 2062, 2198, 20323, 1010, 7929, 1029, 102], [101, 1045, 2064, 2092, 5674, 1996, 2062, 2032, 5983, 1010, 1996, 6638, 3334, 2032, 2893, 1012, 102], [101, 3021, 2064, 2092, 5674, 2893, 6638, 1012, 102], [101, 3021, 2064, 2092, 5674, 1996, 2062, 2002, 20323, 1010, 1996, 6638, 3334, 2893, 1012, 102], [101, 5965, 2064, 2092, 5674, 3533, 2893, 6638, 3334, 1010, 1996, 2062, 2002, 20323, 1012, 102], [101, 2009, 2003, 2590, 1996, 2062, 2017, 4521, 1010, 1996, 2062, 6176, 2000, 2022, 1012, 102], [101, 2009, 2003, 2590, 2005, 1996, 2062, 2017, 4521, 1010, 1996, 2062, 6176, 2000, 2022, 1012, 102], [101, 2009, 2003, 2590, 1996, 2062, 2017, 2000, 4521, 1010, 1996, 2062, 6176, 2000, 2022, 1012, 102], [101, 2009, 2003, 2590, 1996, 2062, 2017, 4521, 1010, 1996, 2062, 6176, 2017, 2000, 2022, 1012, 102], [101, 2009, 2003, 2590, 1996, 2062, 2017, 4521, 1010, 1996, 2062, 6176, 2005, 2017, 2000, 2022, 1012, 102], [101, 2009, 2003, 2590, 2005, 1996, 2062, 2017, 2000, 4521, 1010, 1996, 2062, 6176, 2000, 2022, 1012, 102], [101, 2009, 2003, 2590, 2005, 1996, 2062, 2017, 2000, 4521, 1010, 1996, 2062, 6176, 2005, 2017, 2000, 2022, 1012, 102], [101, 2009, 2003, 2590, 1996, 2062, 2017, 2000, 4521, 1010, 1996, 2062, 6176, 2005, 2017, 2000, 2022, 1012, 102], [101, 2009, 2003, 2590, 2005, 1996, 2062, 2017, 4521, 1010, 1996, 2062, 6176, 2017, 2000, 2022, 1012, 102], [101, 2009, 2003, 2590, 2005, 2017, 2000, 2022, 2062, 6176, 1010, 1996, 2062, 2017, 4521, 1012, 102], [101, 2009, 2003, 2590, 2000, 2022, 2062, 6176, 1010, 1996, 2062, 2017, 4521, 1012, 102], [101, 1045, 2064, 2092, 5674, 2855, 2984, 10739, 1996, 3160, 1012, 102], [101, 1045, 2064, 2092, 5674, 2007, 1037, 11300, 3388, 2984, 9846, 1996, 14007, 1012, 102], [101, 1045, 2064, 2092, 5674, 2065, 2002, 20323, 2062, 1010, 2032, 2893, 6638, 1012, 102], [101, 2009, 2003, 2025, 4498, 5793, 2065, 1010, 2984, 4952, 2015, 2000, 1996, 8794, 2757, 1010, 2016, 4152, 14777, 1012, 102], [101, 2009, 2003, 2025, 4498, 5793, 3251, 1010, 2984, 4952, 2015, 2000, 1996, 8794, 2757, 1010, 2016, 4152, 14777, 1012, 102], [101, 2984, 4952, 2015, 2000, 1996, 8794, 2757, 1998, 2016, 4152, 14777, 1012, 102], [101, 2065, 2984, 4952, 2015, 2000, 1996, 8794, 2757, 1010, 2016, 4152, 14777, 1012, 102], [101, 2043, 2984, 4952, 2015, 2000, 1996, 8794, 2757, 1010, 2016, 4152, 14777, 1012, 102], [101, 2984, 4152, 14777, 2065, 2016, 4952, 2015, 2000, 1996, 8794, 2757, 1012, 102], [101, 2984, 4152, 14777, 2043, 2016, 4952, 2015, 2000, 1996, 8794, 2757, 1012, 102], [101, 1996, 2062, 2016, 2246, 2012, 4620, 1010, 1996, 17076, 16252, 2984, 2288, 1012, 102], [101, 1996, 2062, 4620, 2984, 2246, 2012, 1010, 2016, 2288, 17076, 16252, 1998, 17076, 16252, 1012, 102], [101, 2984, 4152, 14777, 1998, 2016, 4952, 2015, 2000, 1996, 8794, 2757, 1012, 102], [101, 1996, 3020, 1996, 7533, 2024, 1010, 1996, 2896, 2010, 10908, 2024, 1012, 102], [101, 1996, 3020, 1996, 7533, 1010, 1996, 2896, 2010, 10908, 1012, 102], [101, 2010, 10908, 2024, 2896, 1010, 1996, 3020, 1996, 7533, 1012, 102], [101, 2010, 10908, 2024, 2896, 1010, 1996, 3020, 1996, 7533, 2024, 1012, 102], [101, 2010, 10908, 2896, 1010, 1996, 3020, 1996, 7533, 1012, 102], [101, 2010, 10908, 2896, 1010, 1996, 3020, 1996, 7533, 2024, 1012, 102], [101, 1996, 2062, 27885, 3630, 25171, 5965, 2003, 1010, 1996, 2625, 3086, 2017, 2323, 3477, 2000, 2032, 1012, 102], [101, 1996, 2062, 27885, 3630, 25171, 5965, 1010, 1996, 2625, 3086, 2017, 2323, 3477, 2000, 2032, 1012, 102], [101, 1996, 2062, 5965, 2003, 27885, 3630, 25171, 1010, 1996, 2625, 2017, 2323, 3477, 3086, 2000, 2032, 1012, 102], [101, 1996, 2062, 27885, 3630, 25171, 5965, 1010, 1996, 2625, 2017, 2323, 3477, 3086, 2000, 2032, 1012, 102], [101, 2010, 10908, 2024, 2467, 2896, 2084, 3067, 1012, 102], [101, 2198, 2001, 7167, 2062, 27885, 3630, 25171, 2084, 5965, 2001, 1012, 102], [101, 2017, 2323, 2467, 5843, 2115, 2341, 1010, 2053, 3043, 2129, 11281, 1996, 3309, 2453, 2022, 1012, 102], [101, 2017, 2323, 2467, 5843, 2115, 2341, 1010, 2053, 3043, 2129, 11281, 1996, 3309, 1012, 102], [101, 1045, 2123, 1005, 1056, 2933, 2000, 5843, 1996, 2341, 1010, 2053, 3043, 2129, 11281, 2023, 3309, 2003, 1012, 102], [101, 1045, 2123, 1005, 1056, 2933, 2000, 5843, 1996, 2341, 1010, 2053, 3043, 2129, 11281, 2023, 3309, 1012, 102], [101, 1045, 1005, 1049, 2183, 2041, 1010, 3649, 1996, 4633, 1012, 102], [101, 1045, 1005, 1049, 2183, 2041, 1010, 11210, 2008, 7064, 2453, 2022, 1012, 102], [101, 1045, 1005, 1049, 2183, 2041, 1010, 11210, 2008, 7064, 1012, 102], [101, 1996, 2062, 4973, 2984, 2758, 2008, 3021, 2038, 3271, 5965, 2000, 7523, 1996, 2625, 1045, 2903, 2014, 1012, 102], [101, 1996, 2062, 2833, 2984, 4282, 1037, 2158, 2008, 20323, 1996, 27196, 2016, 4152, 1012, 102], [101, 1996, 6638, 3334, 2002, 3632, 2000, 1037, 3460, 2043, 2002, 4152, 1996, 2062, 2002, 20323, 1012, 102], [101, 1996, 6638, 3334, 2008, 2008, 2002, 4152, 8572, 2015, 2032, 1010, 1996, 2062, 2002, 20323, 1012, 102], [101, 1996, 2062, 2808, 1045, 3198, 2000, 3183, 2002, 2097, 2507, 1010, 1996, 2062, 2002, 9631, 1012, 102], [101, 1996, 2062, 2111, 1045, 3198, 2054, 2002, 2097, 2507, 2000, 1996, 2062, 2002, 9631, 1012, 102], [101, 1996, 2062, 5362, 2002, 2616, 1996, 3661, 1996, 13726, 2002, 1005, 2222, 2022, 1012, 102], [101, 1996, 2062, 5362, 2002, 4282, 1037, 2158, 2008, 2773, 2098, 1996, 3661, 1996, 13726, 2002, 1005, 2222, 2022, 1012, 102], [101, 1996, 2062, 11067, 2229, 2198, 6010, 1010, 1996, 17076, 16252, 2002, 4152, 1012, 102], [101, 1996, 2062, 2198, 6010, 11067, 2229, 1010, 1996, 17076, 16252, 2002, 4152, 1012, 102], [101, 1996, 2062, 2111, 2017, 2360, 2097, 4965, 9735, 1010, 1996, 19366, 1045, 1005, 2222, 2022, 1012, 102], [101, 1996, 2062, 2111, 2017, 2360, 2008, 2097, 4965, 9735, 1010, 1996, 19366, 1045, 1005, 2222, 2022, 1012, 102], [101, 1996, 2062, 2111, 2017, 2360, 2008, 2157, 2044, 1996, 2265, 7480, 2097, 4965, 9735, 1010, 1996, 19366, 1045, 1005, 2222, 2022, 1012, 102], [101, 1996, 2062, 1045, 2831, 2000, 3533, 1010, 1996, 2625, 2055, 15397, 1045, 2572, 13050, 2000, 2228, 8836, 2038, 4036, 2032, 2000, 9120, 1012, 102], [101, 1996, 2062, 2002, 20323, 1010, 1996, 27196, 2002, 4282, 1037, 2450, 2008, 4152, 1012, 102], [101, 1996, 2062, 2002, 20323, 1010, 1996, 6638, 3334, 2002, 3632, 2000, 1037, 3460, 2043, 2002, 4152, 1012, 102], [101, 1996, 2062, 2002, 20323, 1010, 1996, 6638, 3334, 2008, 2008, 2002, 4152, 2428, 8572, 2015, 2033, 1012, 102], [101, 1996, 2062, 2002, 9631, 1010, 1996, 2062, 2808, 1045, 4687, 2000, 3183, 2002, 2097, 2507, 1012, 102], [101, 1996, 2062, 2002, 9631, 1010, 1996, 2062, 2111, 1045, 4687, 2054, 2002, 2097, 2507, 2000, 1012, 102], [101, 1996, 10076, 2017, 2655, 1010, 1996, 2062, 5362, 1045, 2113, 1037, 2158, 2008, 2097, 2773, 1996, 3661, 1012, 102], [101, 1996, 26108, 2198, 4152, 1010, 1996, 2062, 11067, 2229, 2198, 6010, 1012, 102], [101, 1996, 26108, 2002, 4152, 1010, 1996, 2062, 2198, 6010, 11067, 2229, 1012, 102], [101, 1996, 2062, 4790, 2002, 9631, 1010, 1996, 8491, 2111, 2002, 6732, 2097, 2175, 2046, 15397, 1012, 102], [101, 1996, 2062, 4790, 2002, 9631, 1010, 1996, 8491, 2111, 2002, 6732, 2008, 2097, 2175, 2046, 15397, 1012, 102], [101, 1996, 2062, 4790, 2002, 9631, 1010, 1996, 8491, 2111, 2002, 6732, 2008, 2104, 1996, 2783, 6214, 2097, 2175, 2046, 15397, 1012, 102], [101, 1996, 2062, 4790, 2002, 9631, 1010, 1996, 8491, 2111, 2002, 6732, 2104, 1996, 2783, 6214, 2097, 2175, 2046, 15397, 1012, 102], [101, 1996, 2062, 2111, 2008, 7180, 1010, 1996, 10989, 2008, 2009, 4152, 1012, 102], [101, 1996, 2062, 2111, 2008, 7180, 1010, 1996, 10989, 2009, 4152, 1012, 102], [101, 1996, 2062, 2111, 2017, 2507, 5404, 2000, 1010, 1996, 2062, 2111, 2008, 2131, 5305, 1012, 102], [101, 1996, 2062, 2111, 2008, 2017, 2507, 5404, 2000, 1010, 1996, 2062, 2111, 2008, 2131, 5305, 1012, 102], [101, 1996, 2062, 2111, 7180, 1010, 1996, 10989, 2008, 2009, 4152, 1012, 102], [101, 1996, 2062, 2111, 7180, 1010, 1996, 10989, 2009, 4152, 1012, 102], [101, 1996, 2062, 2111, 2008, 2017, 2507, 5404, 2000, 1010, 1996, 2062, 2111, 2131, 5305, 1012, 102], [101, 1996, 2062, 4620, 1997, 2198, 2008, 2002, 23311, 1996, 2062, 15818, 2002, 4150, 1012, 102], [101, 1996, 2062, 4620, 1997, 2370, 2008, 2198, 23311, 1996, 2062, 15818, 2002, 4150, 1012, 102], [101, 1996, 2158, 2008, 3369, 2006, 1996, 3345, 2001, 2026, 2567, 1012, 102], [101, 1996, 2158, 3369, 2006, 1996, 3345, 2001, 2026, 2567, 1012, 102], [101, 1996, 2062, 2111, 3071, 2040, 7777, 12778, 3086, 2000, 1010, 1996, 19366, 2057, 2035, 2024, 1012, 102], [101, 1996, 2101, 2009, 4152, 1010, 1996, 2062, 2111, 3071, 2040, 7777, 12778, 3086, 2000, 1012, 102], [101, 7188, 3021, 5610, 2015, 1010, 6294, 16424, 2032, 2035, 1996, 2062, 1012, 102], [101, 7188, 3021, 5610, 2015, 1010, 6294, 16424, 2032, 2172, 2062, 1012, 102], [101, 7188, 3021, 5610, 2015, 1010, 6294, 16424, 2032, 2521, 2062, 1012, 102], [101, 7188, 3021, 5610, 2015, 1010, 6294, 16424, 2032, 1037, 2843, 2062, 1012, 102], [101, 2320, 9965, 2187, 1010, 5965, 2150, 2035, 1996, 13675, 16103, 2121, 1012, 102], [101, 2320, 9965, 2187, 1010, 5965, 2150, 2172, 13675, 16103, 2121, 1012, 102], [101, 2320, 9965, 2187, 1010, 5965, 2150, 2521, 13675, 16103, 2121, 1012, 102], [101, 5965, 2150, 2035, 1996, 13675, 16103, 2121, 1010, 1996, 2062, 2411, 9965, 2187, 1012, 102], [101, 2043, 3021, 5610, 2015, 1010, 2035, 1996, 2062, 2515, 6294, 5223, 2032, 1012, 102], [101, 2043, 3021, 5610, 2015, 1010, 2172, 2062, 2515, 6294, 5223, 2032, 1012, 102], [101, 2043, 3021, 5610, 2015, 1010, 2035, 1996, 2062, 6294, 16424, 2032, 1012, 102], [101, 2061, 2172, 2106, 2017, 4521, 2008, 3071, 8535, 1012, 102], [101, 2061, 3435, 2106, 2017, 2448, 2008, 3071, 8535, 1012, 102], [101, 2061, 9414, 1037, 3899, 2106, 2017, 4965, 2008, 3071, 8535, 1012, 102], [101, 1045, 2113, 2129, 2172, 2017, 8823, 1012, 102], [101, 1045, 2113, 2129, 3435, 2017, 2743, 1012, 102], [101, 1045, 2113, 2129, 9414, 1037, 3899, 2017, 4149, 1012, 102], [101, 2002, 8823, 2061, 2172, 2008, 2002, 2288, 5305, 1012, 102], [101, 2061, 2172, 2106, 2002, 4521, 2008, 2002, 2288, 5305, 1012, 102], [101, 1996, 2062, 2017, 4521, 1010, 1996, 2062, 2017, 2215, 1012, 102], [101, 2017, 4521, 1996, 2062, 1010, 1996, 2062, 2017, 2215, 1012, 102], [101, 1996, 2062, 2017, 4521, 1010, 2017, 2215, 1996, 2062, 1012, 102], [101, 1045, 4687, 2017, 8823, 2129, 2172, 1012, 102], [101, 1045, 4687, 2000, 2129, 2116, 2111, 3021, 7566, 1012, 102], [101, 1996, 2936, 2002, 2038, 2000, 3524, 1010, 1996, 17076, 16252, 2198, 4152, 1012, 102], [101, 2065, 2002, 2038, 2000, 3524, 1010, 2198, 4152, 4854, 1012, 102], [101, 2002, 4152, 4854, 1010, 1996, 2936, 2198, 2038, 2000, 3524, 1012, 102], [101, 2002, 4152, 4854, 2065, 2198, 2038, 2000, 3524, 1012, 102], [101, 1996, 2062, 2008, 4620, 1997, 2032, 3711, 1999, 1996, 2739, 1010, 1996, 2062, 10339, 2198, 4150, 1012, 102], [101, 1996, 2062, 4620, 1997, 2370, 2008, 3711, 1999, 1996, 2739, 1010, 1996, 2062, 10339, 2198, 4150, 1012, 102], [101, 1996, 2062, 2008, 4620, 1997, 2370, 3711, 1999, 1996, 2739, 1010, 1996, 2062, 10339, 2198, 4150, 1012, 102], [101, 1996, 2062, 4620, 1997, 2032, 3711, 1999, 1996, 2739, 1010, 1996, 2062, 3497, 2198, 2003, 2000, 2131, 4727, 1012, 102], [101, 1996, 2062, 4620, 1997, 2370, 3711, 1999, 1996, 2739, 1010, 1996, 2062, 3497, 2198, 2003, 2000, 2131, 4727, 1012, 102], [101, 1996, 2062, 2008, 4620, 1997, 2032, 3711, 1999, 1996, 2739, 1010, 1996, 2062, 3497, 2198, 2003, 2000, 2131, 4727, 1012, 102], [101, 1996, 2062, 2008, 4620, 1997, 2370, 3711, 1999, 1996, 2739, 1010, 1996, 2062, 3497, 2198, 2003, 2000, 2131, 4727, 1012, 102], [101, 1996, 2062, 2008, 2198, 4152, 6314, 2011, 2068, 1010, 1996, 2062, 2008, 3441, 2055, 2032, 4025, 2000, 2265, 2039, 1999, 1996, 2739, 1012, 102], [101, 1996, 2062, 2008, 2198, 4152, 6314, 2011, 2068, 1010, 1996, 2062, 2008, 3441, 2055, 2370, 4025, 2000, 2265, 2039, 1999, 1996, 2739, 1012, 102], [101, 2198, 2003, 2062, 10339, 1010, 1996, 2062, 4620, 1997, 2032, 3711, 1999, 1996, 2739, 1012, 102], [101, 2198, 2003, 2062, 10339, 1010, 1996, 2062, 4620, 1997, 2032, 2008, 3711, 1999, 1996, 2739, 1012, 102], [101, 2198, 2003, 2062, 10339, 1010, 1996, 2062, 4620, 1997, 2370, 3711, 1999, 1996, 2739, 1012, 102], [101, 2198, 2003, 2062, 10339, 1010, 1996, 2062, 4620, 1997, 2370, 2008, 3711, 1999, 1996, 2739, 1012, 102], [101, 3441, 2055, 2032, 4025, 2000, 2265, 2039, 2062, 2006, 1996, 3944, 2739, 1010, 1996, 2062, 2008, 2198, 4152, 6314, 2011, 2068, 1012, 102], [101, 3441, 2055, 2370, 4025, 2000, 2265, 2039, 2062, 2006, 1996, 3944, 2739, 1010, 1996, 2062, 2008, 2198, 4152, 6314, 2011, 2068, 1012, 102], [101, 2065, 2017, 2507, 2032, 2438, 4495, 1010, 2296, 5205, 2097, 10514, 9468, 25438, 2000, 7897, 1012, 102], [101, 2017, 2507, 2032, 2438, 4495, 1998, 2296, 5205, 2097, 10514, 9468, 25438, 2000, 7897, 1012, 102], [101, 2057, 2435, 2032, 2438, 4495, 1998, 1010, 2469, 2438, 1010, 2296, 5205, 25642, 2000, 7897, 1012, 102], [101, 2065, 2017, 2507, 2151, 5205, 2438, 4495, 1010, 2002, 2097, 10514, 9468, 25438, 2000, 7897, 1012, 102], [101, 2017, 2507, 2151, 5205, 2438, 4495, 1998, 2002, 2097, 10514, 9468, 25438, 2000, 7897, 1012, 102], [101, 2017, 2507, 2296, 5205, 2438, 4495, 1998, 2002, 2097, 10514, 9468, 25438, 2000, 7897, 1012, 102], [101, 2057, 2435, 2151, 5205, 2438, 4495, 1998, 1010, 2469, 2438, 1010, 2002, 25642, 2000, 7897, 1012, 102], [101, 2057, 2435, 2296, 5205, 2438, 4495, 1998, 1010, 2469, 2438, 1010, 2002, 25642, 2000, 7897, 1012, 102], [101, 1996, 2062, 9568, 5130, 2002, 7566, 2000, 1010, 1996, 2062, 13593, 2296, 5205, 3849, 2000, 2468, 1012, 102], [101, 1996, 2062, 9568, 5130, 4511, 1998, 11586, 2063, 2032, 1010, 1996, 2062, 2296, 5205, 2003, 18002, 2000, 7897, 1012, 102], [101, 1996, 2062, 2051, 2008, 2296, 5205, 15970, 2007, 9568, 5130, 1010, 1996, 2062, 3497, 2002, 10514, 9468, 25438, 2015, 2000, 7897, 1012, 102], [101, 2296, 5205, 4150, 2062, 13593, 1010, 1996, 2062, 9568, 5130, 2002, 7566, 2000, 1012, 102], [101, 2151, 5205, 4150, 2062, 13593, 1010, 1996, 2062, 9568, 5130, 2002, 7566, 2000, 1012, 102], [101, 2002, 3849, 2000, 2468, 2062, 13593, 1010, 1996, 2062, 9568, 5130, 2151, 5205, 7566, 2000, 1012, 102], [101, 2002, 3849, 2000, 2468, 2062, 13593, 1010, 1996, 2062, 9568, 5130, 2296, 5205, 7566, 2000, 1012, 102], [101, 2296, 5205, 3849, 2000, 2468, 2062, 13593, 1010, 2065, 2002, 7566, 2000, 2062, 9568, 5130, 1012, 102], [101, 2151, 5205, 3849, 2000, 2468, 2062, 13593, 1010, 2065, 2002, 7566, 2000, 2062, 9568, 5130, 1012, 102], [101, 2151, 5205, 3849, 2000, 2468, 2062, 13593, 1010, 2004, 2002, 7566, 2000, 2062, 9568, 5130, 1012, 102], [101, 2002, 3849, 2000, 2468, 2062, 13593, 1010, 2065, 2151, 5205, 7566, 2000, 2062, 9568, 5130, 1012, 102], [101, 2002, 3849, 2000, 2468, 2062, 13593, 1010, 2065, 2296, 5205, 7566, 2000, 2062, 9568, 5130, 1012, 102], [101, 2002, 3849, 2000, 2468, 2062, 13593, 1010, 2004, 2296, 5205, 7566, 2000, 2062, 9568, 5130, 1012, 102], [101, 2002, 3849, 2000, 2468, 2062, 13593, 1010, 2004, 2151, 5205, 7566, 2000, 2062, 9568, 5130, 1012, 102], [101, 1996, 10076, 2017, 9611, 2023, 3291, 1010, 1996, 2062, 4089, 2017, 1005, 2222, 13225, 1996, 12455, 2039, 2012, 5971, 4075, 1012, 102], [101, 2023, 2003, 1996, 4066, 1997, 3291, 2029, 1996, 10076, 2017, 9611, 1996, 2062, 4089, 2017, 1005, 2222, 13225, 1996, 12455, 2039, 2012, 5971, 4075, 1012, 102], [101, 1996, 12455, 2039, 2012, 5971, 4075, 2024, 1996, 4066, 1997, 2111, 2040, 1996, 10076, 2017, 9611, 2023, 3291, 1010, 1996, 2062, 4089, 2017, 1005, 2222, 13225, 1012, 102], [101, 2023, 3291, 1010, 1996, 10076, 2017, 9611, 1996, 2062, 4089, 2017, 1005, 2222, 13225, 1996, 12455, 2039, 2012, 5971, 4075, 1012, 102], [101, 2040, 2106, 2017, 2507, 4620, 1997, 2000, 2814, 1997, 1029, 102], [101, 2009, 2003, 2023, 3291, 2008, 1996, 10076, 2017, 9611, 1996, 2062, 4089, 2017, 1005, 2222, 13225, 1996, 12455, 2039, 2012, 5971, 4075, 1012, 102], [101, 2009, 2003, 1996, 12455, 2039, 2012, 5971, 4075, 2040, 1996, 10076, 2017, 9611, 2023, 3291, 1010, 1996, 2062, 4089, 2017, 1005, 2222, 13225, 1012, 102], [101, 2029, 3291, 1996, 10076, 2017, 9611, 1010, 2097, 1996, 2062, 4089, 2017, 13225, 1996, 12455, 2039, 2012, 5971, 4075, 1029, 102], [101, 2029, 3291, 2515, 1996, 10076, 2008, 2017, 9611, 1010, 1996, 2062, 4089, 2017, 1005, 2222, 13225, 1996, 12455, 2039, 2012, 5971, 4075, 1029, 102], [101, 2029, 3291, 1996, 10076, 2008, 2017, 9611, 1010, 2097, 1996, 2062, 4089, 2017, 13225, 1996, 12455, 2039, 2012, 5971, 4075, 1029, 102], [101, 1996, 6211, 2009, 15811, 1010, 1996, 5514, 2040, 3216, 1029, 102], [101, 1996, 10989, 2040, 7566, 1010, 1996, 17076, 16252, 2017, 2131, 1029, 102], [101, 1996, 6211, 2008, 2009, 15811, 1010, 2129, 2172, 5514, 1037, 4834, 2079, 2017, 2156, 1999, 1996, 2314, 1029, 102], [101, 2027, 3478, 2000, 2425, 2033, 2029, 3291, 1996, 10076, 1045, 9611, 1010, 1996, 19059, 1996, 12455, 2039, 2012, 5971, 4075, 1012, 102], [101, 1045, 2633, 2499, 2039, 2438, 8424, 2000, 3198, 2029, 2111, 2039, 2012, 5971, 4075, 1996, 10076, 1045, 9611, 2023, 3291, 1010, 1996, 19059, 1045, 1005, 2222, 2131, 2489, 1997, 1012, 102], [101, 2029, 12455, 2039, 2012, 5971, 4075, 2079, 2017, 2228, 2008, 1996, 10076, 2017, 9611, 2023, 3291, 1010, 1996, 19059, 2017, 1005, 2222, 2022, 2583, 2000, 2425, 1056, 2000, 12610, 2125, 1029, 102], [101, 2023, 2003, 1037, 3291, 2008, 2017, 1005, 2222, 2022, 2583, 2000, 2425, 1996, 12455, 2039, 2012, 5971, 4075, 2000, 12610, 2125, 2065, 2017, 9611, 1012, 102], [101, 2023, 2003, 1037, 3291, 2008, 2017, 1005, 2222, 2022, 2583, 2000, 2425, 1996, 12455, 2039, 2012, 5971, 4075, 2000, 12610, 2125, 2065, 2017, 9611, 2009, 1012, 102], [101, 2023, 2003, 1037, 3291, 2008, 2017, 9611, 2009, 1998, 2017, 1005, 2222, 2022, 2583, 2000, 2425, 1996, 12455, 2039, 2012, 5971, 4075, 2000, 12610, 2125, 1012, 102], [101, 2216, 2024, 1996, 12455, 2008, 2017, 2074, 9611, 2023, 3291, 1998, 2017, 1005, 2222, 2022, 2583, 2000, 2404, 2068, 2006, 3256, 1012, 102], [101, 2027, 3478, 2000, 2425, 2033, 2029, 3291, 1045, 1005, 2222, 3786, 1996, 2971, 2062, 4089, 1010, 1996, 10076, 1045, 9611, 1012, 102], [101, 2023, 2003, 1996, 3291, 2008, 2017, 1005, 2222, 3786, 1996, 2971, 2062, 4089, 1010, 1996, 10076, 2017, 9611, 1012, 102], [101, 2198, 2387, 1996, 2158, 1999, 1996, 2282, 1012, 102], [101, 2029, 2282, 2106, 2198, 2156, 1996, 2158, 1999, 1029, 102], [101, 2040, 2106, 2198, 2228, 2008, 3021, 3555, 2008, 2984, 6878, 2008, 7955, 4669, 1029, 102], [101, 2198, 2071, 2025, 3942, 8836, 1012, 102], [101, 2054, 2198, 2071, 2079, 2003, 2025, 3942, 8836, 1012, 102], [101, 2198, 2481, 1005, 1056, 3942, 8836, 1012, 102], [101, 2339, 2106, 2198, 2681, 1029, 102], [101, 1045, 2718, 1996, 3608, 1012, 102], [101, 2017, 2718, 1996, 3608, 1012, 102], [101, 2002, 2718, 1996, 3608, 1012, 102], [101, 2016, 2718, 1996, 3608, 1012, 102], [101, 2027, 2718, 1996, 3608, 1012, 102], [101, 2572, 2025, 1045, 2183, 1029, 102], [101, 1045, 2572, 2025, 2183, 1012, 102], [101, 4995, 1005, 1056, 1045, 2183, 1029, 102], [101, 1045, 4995, 1005, 1056, 2183, 1012, 102], [101, 8227, 2003, 12511, 1010, 3475, 1005, 1056, 2016, 1029, 102], [101, 8227, 7777, 2025, 2108, 3407, 1010, 2987, 1005, 1056, 2016, 1029, 102], [101, 2025, 2116, 2808, 5175, 1996, 2543, 1010, 2106, 2027, 1029, 102], [101, 2053, 2808, 5175, 1996, 2543, 1010, 2106, 2027, 1029, 102], [101, 2002, 8440, 1005, 1056, 2411, 3825, 7773, 1010, 2038, 2002, 1029, 102], [101, 2002, 2064, 1005, 1056, 3477, 7773, 1010, 2064, 2002, 1029, 102], [101, 2016, 2515, 2025, 2156, 2032, 1012, 102], [101, 2016, 2921, 2025, 3773, 2032, 1012, 102], [101, 2016, 2071, 2025, 2031, 2042, 2551, 1012, 102], [101, 19887, 2025, 2187, 1012, 102], [101, 19887, 2187, 2025, 1012, 102], [101, 2002, 2071, 2025, 2031, 2042, 2551, 1012, 102], [101, 2002, 3685, 2031, 2042, 2551, 1012, 102], [101, 2002, 2064, 3432, 2025, 2031, 2042, 2551, 1012, 102], [101, 2017, 2442, 2025, 3432, 2025, 2147, 1012, 102], [101, 2002, 2089, 2025, 2074, 2025, 2031, 2042, 2551, 1012, 102], [101, 2002, 2064, 1005, 1056, 2031, 2042, 2551, 1012, 102], [101, 2064, 1005, 1056, 2002, 2031, 2042, 2551, 1029, 102], [101, 2064, 2002, 2025, 2031, 2042, 2551, 1029, 102], [101, 2064, 2002, 2025, 2031, 2042, 2551, 1029, 102], [101, 2198, 2626, 2808, 1012, 102], [101, 2198, 4339, 2808, 1012, 102], [101, 2198, 2626, 2808, 1012, 102], [101, 2198, 2106, 2025, 4339, 2808, 1012, 102], [101, 2198, 3849, 2008, 2003, 3835, 1012, 102], [101, 1036, 1036, 1045, 2572, 2061, 3407, 1005, 1005, 1010, 2245, 2198, 1012, 102], [101, 2091, 1996, 2940, 4565, 2198, 1012, 102], [101, 2198, 8537, 2411, 2984, 1012, 102], [101, 2198, 2411, 8537, 2984, 1012, 102], [101, 2040, 2079, 2017, 2228, 2984, 2056, 2198, 7777, 1029, 102], [101, 2040, 2106, 2017, 3198, 3251, 2984, 4282, 2339, 2198, 7777, 1029, 102], [101, 2040, 2079, 2017, 2228, 2008, 2984, 2056, 2008, 2198, 7777, 1029, 102], [101, 2129, 2079, 2017, 4687, 3251, 2984, 13332, 1996, 3291, 1029, 102], [101, 2129, 2079, 2017, 2228, 2008, 2984, 13332, 1996, 3291, 1029, 102], [101, 2129, 2079, 2017, 4687, 3251, 2198, 2056, 2008, 2984, 13332, 1996, 3291, 1029, 102], [101, 2129, 2079, 2017, 4687, 3251, 2198, 2056, 2984, 13332, 1996, 3291, 1029, 102], [101, 2029, 3291, 2079, 2017, 4687, 3251, 2198, 2056, 2008, 2984, 13332, 1029, 102], [101, 2129, 2106, 2017, 2228, 2008, 2984, 13332, 1996, 3291, 1029, 102], [101, 2984, 5086, 2619, 1012, 102], [101, 1045, 2657, 2008, 2984, 5086, 2619, 1012, 102], [101, 1045, 5295, 2138, 2984, 5086, 2619, 1012, 102], [101, 2984, 4999, 2029, 3861, 1997, 2370, 3021, 2387, 1029, 102], [101, 2029, 3861, 1997, 2370, 2515, 2984, 2228, 2008, 2198, 2056, 2008, 6294, 7777, 1029, 102], [101, 2984, 6732, 2008, 2198, 2056, 2008, 6294, 7777, 4620, 1997, 2370, 1029, 102], [101, 2984, 6732, 2008, 2198, 2056, 2008, 4620, 1997, 2370, 1010, 6294, 7777, 1029, 102], [101, 2065, 2017, 2123, 1005, 1056, 2903, 2033, 1010, 2017, 2097, 1996, 4633, 2386, 1029, 102], [101, 1045, 4565, 2039, 1037, 3780, 1010, 1998, 9399, 2106, 1037, 2932, 1029, 102], [101, 14986, 7777, 12799, 1010, 2021, 2016, 2987, 1005, 1056, 23879, 6779, 1029, 102], [101, 1996, 4830, 4928, 3557, 5905, 1998, 1996, 3353, 4830, 2097, 6011, 3044, 1012, 102], [101, 2984, 2097, 2903, 6294, 1010, 1998, 2017, 2097, 3960, 1012, 102], [101, 2017, 2453, 2025, 2903, 2033, 2021, 2017, 2097, 3960, 1012, 102], [101, 2017, 2097, 3960, 2903, 1012, 102], [101, 2129, 2106, 2017, 9611, 1996, 3291, 1029, 102], [101, 1045, 4687, 2040, 2071, 9611, 1996, 3291, 1999, 2023, 2126, 1012, 102], [101, 2129, 2079, 2017, 4687, 2040, 2071, 9611, 2023, 3291, 1012, 102], [101, 2053, 4018, 2064, 16014, 2129, 2116, 2111, 2097, 3789, 2005, 2032, 1012, 102], [101, 2296, 3761, 2003, 5191, 2043, 1996, 2811, 4627, 7866, 2032, 1012, 102], [101, 2029, 3761, 2805, 1996, 4988, 2040, 3569, 2032, 1029, 102], [101, 1996, 2755, 2008, 2053, 4018, 2001, 2700, 3065, 2008, 2002, 2001, 14710, 1012, 102], [101, 2198, 15187, 2808, 1010, 2984, 23311, 2636, 1998, 3021, 1058, 6399, 1012, 102], [101, 1996, 3160, 1997, 3251, 2198, 2777, 2984, 15508, 1996, 2111, 2040, 2490, 1012, 102], [101, 2027, 2031, 2187, 1012, 102], [101, 2031, 2027, 2187, 1029, 102], [101, 2071, 2027, 2031, 2187, 1029, 102], [101, 2002, 2038, 2411, 2464, 2984, 1012, 102], [101, 2002, 1045, 2411, 5927, 2984, 1012, 102], [101, 2002, 5927, 2411, 2984, 1012, 102], [101, 5927, 2002, 1045, 2411, 2984, 1029, 102], [101, 2009, 3849, 2008, 2009, 2003, 3497, 2008, 2198, 2097, 2663, 1012, 102], [101, 2009, 3849, 2008, 2198, 2003, 3497, 2000, 2663, 1012, 102], [101, 2198, 3849, 2000, 2022, 3497, 2000, 2663, 1012, 102], [101, 2198, 3849, 2008, 2009, 2003, 3497, 2000, 2663, 1012, 102], [101, 2198, 3849, 2097, 2663, 1012, 102], [101, 2129, 2079, 2017, 4687, 2029, 3291, 2000, 9611, 1029, 102], [101, 2129, 9414, 2079, 2017, 5136, 2198, 1029, 102], [101, 2129, 2116, 2111, 2079, 2017, 4687, 3251, 1045, 5136, 9414, 1029, 102], [101, 2129, 9414, 2079, 2017, 4687, 3251, 1045, 5136, 2198, 1029, 102], [101, 2054, 1996, 3109, 2079, 2017, 4687, 2129, 2000, 2360, 1029, 102], [101, 2002, 2038, 2187, 1012, 102], [101, 2010, 2338, 2003, 3835, 1012, 102], [101, 3021, 2387, 2032, 1012, 102], [101, 3021, 2573, 2007, 2032, 1012, 102], [101, 2198, 7164, 2032, 2000, 2022, 1037, 3835, 3124, 1012, 102], [101, 2198, 10592, 2032, 1037, 3835, 3124, 1012, 102], [101, 2005, 2032, 2000, 2079, 2008, 2052, 2022, 1037, 6707, 1012, 102], [101, 2007, 2032, 5305, 1010, 1996, 2136, 2003, 1999, 4390, 1012, 102], [101, 1037, 2158, 2000, 2022, 1999, 1996, 3871, 2003, 9832, 1012, 102], [101, 1037, 2158, 2000, 2272, 2003, 9832, 1012, 102], [101, 2198, 2000, 2655, 2052, 2022, 9832, 1012, 102], [101, 2023, 7091, 2000, 2022, 3369, 2012, 2003, 11341, 1012, 102], [101, 2198, 7164, 2008, 2002, 2003, 5305, 1012, 102], [101, 2198, 7164, 2008, 2032, 2003, 5305, 1012, 102], [101, 2198, 5363, 2032, 2000, 2663, 1012, 102], [101, 2198, 16278, 2073, 2032, 2000, 2175, 1012, 102], [101, 2040, 2079, 2017, 2228, 2008, 3021, 7777, 1029, 102], [101, 2040, 2079, 2017, 2228, 2008, 3021, 7164, 2000, 2022, 7036, 1029, 102], [101, 2040, 2079, 2017, 2228, 2008, 7164, 2198, 2000, 2022, 7036, 1029, 102], [101, 2040, 2052, 2017, 9544, 2005, 2000, 2663, 1996, 2679, 1029, 102], [101, 2619, 10312, 2026, 2482, 1012, 102], [101, 2026, 2482, 2001, 7376, 1012, 102], [101, 1996, 2336, 4521, 2035, 7967, 1012, 102], [101, 2198, 2038, 2411, 4782, 2984, 1012, 102], [101, 1996, 4268, 2031, 2035, 8828, 1996, 7967, 1012, 102], [101, 1999, 2236, 1010, 2002, 19821, 2054, 1005, 1055, 2183, 2006, 1012, 102], [101, 2009, 1005, 1055, 15596, 2008, 1999, 2236, 2002, 19821, 2054, 1005, 1055, 2183, 2006, 1012, 102], [101, 2009, 1005, 1055, 15596, 1999, 2236, 2008, 2002, 19821, 2054, 1005, 1055, 2183, 2006, 1012, 102], [101, 1999, 2236, 2008, 2002, 19821, 2054, 1005, 1055, 2183, 2006, 2003, 11341, 1012, 102], [101, 1045, 4541, 2129, 2000, 8081, 1996, 7752, 1012, 102], [101, 1045, 4541, 2129, 2057, 2323, 8081, 1996, 7752, 1012, 102], [101, 1045, 4541, 2008, 2057, 2323, 8081, 1996, 7752, 1012, 102], [101, 1045, 4541, 2000, 8081, 1996, 7752, 1012, 102], [101, 11021, 2246, 2039, 1996, 4431, 1012, 102], [101, 11021, 2246, 1996, 4431, 2039, 1012, 102], [101, 11021, 2246, 2039, 2068, 1012, 102], [101, 11021, 12597, 2039, 2007, 1996, 2308, 1012, 102], [101, 11021, 12597, 2007, 1996, 2308, 2039, 1012, 102], [101, 11021, 4197, 2041, 2008, 5639, 2018, 2187, 1012, 102], [101, 11021, 4197, 2008, 5639, 2018, 2187, 2041, 1012, 102], [101, 11021, 17433, 2039, 2035, 1996, 2051, 1012, 102], [101, 11021, 17433, 2035, 1996, 2051, 2039, 1012, 102], [101, 2054, 2515, 2198, 2228, 2984, 4149, 1029, 102], [101, 2198, 6732, 2054, 2984, 4149, 1012, 102], [101, 2198, 16278, 2054, 2984, 4149, 1012, 102], [101, 2054, 2515, 2198, 4687, 2984, 4149, 1029, 102], [101, 2040, 2003, 2002, 3752, 1037, 2338, 2008, 6232, 10057, 1029, 102], [101, 2054, 2079, 2017, 3342, 2073, 2057, 4149, 1029, 102], [101, 2040, 4149, 2054, 1029, 102], [101, 2040, 2003, 3752, 1037, 2338, 2008, 6232, 10057, 2040, 1029, 102], [101, 2040, 17749, 2073, 2057, 4149, 2054, 1029, 102], [101, 1045, 4687, 2040, 2054, 4149, 1029, 102], [101, 1045, 4687, 2054, 2040, 4149, 1029, 102], [101, 2045, 4995, 1005, 1056, 2116, 15397, 2493, 2182, 1012, 102], [101, 1045, 4033, 1005, 1056, 2777, 2116, 15397, 2493, 1012, 102], [101, 2054, 2515, 2296, 3076, 4965, 1029, 102], [101, 1045, 2342, 8836, 2000, 2022, 2045, 1012, 102], [101, 1996, 4049, 7569, 2000, 8145, 1996, 5427, 1012, 102], [101, 1996, 4049, 2001, 10417, 2000, 8145, 1996, 5427, 1012, 102], [101, 2198, 4122, 2000, 2663, 1012, 102], [101, 1996, 2793, 2001, 4895, 21565, 1012, 102], [101, 2132, 4576, 2001, 4895, 21565, 1012, 102], [101, 2198, 2001, 4242, 1012, 102], [101, 2198, 2001, 4242, 2000, 2022, 1996, 13422, 1012, 102], [101, 2057, 2354, 2198, 2000, 2022, 1996, 13422, 1012, 102], [101, 2002, 7349, 1996, 2336, 1012, 102], [101, 1996, 2336, 2020, 16655, 8566, 12921, 1012, 102], [101, 1996, 2336, 2020, 6151, 2483, 6895, 28296, 2098, 1012, 102], [101, 1045, 3373, 2122, 2493, 2035, 2000, 2066, 2198, 1012, 102], [101, 2027, 2699, 2000, 2035, 2066, 2198, 1012, 102], [101, 1045, 3373, 2122, 2493, 2000, 2035, 2066, 2198, 1012, 102], [101, 2106, 2002, 3046, 2412, 2000, 2831, 2000, 1996, 3076, 1029, 102], [101, 2106, 2017, 2903, 2032, 2412, 2000, 2031, 2081, 2019, 3947, 2000, 2831, 2000, 1996, 3076, 1029, 102], [101, 2106, 2002, 3046, 2000, 2412, 2022, 2012, 6528, 6024, 2000, 1996, 3791, 1997, 2493, 1029, 102], [101, 2106, 2017, 2903, 2032, 2000, 2412, 2031, 2081, 2019, 3947, 2000, 2831, 2000, 1996, 3076, 1029, 102], [101, 2147, 2041, 2019, 4106, 2008, 2003, 5171, 1997, 2023, 3193, 1997, 5319, 5739, 1012, 102], [101, 2027, 2020, 3373, 2035, 2000, 2022, 3243, 29454, 29206, 2102, 1012, 102], [101, 2001, 2002, 3373, 2412, 2000, 8246, 2493, 1029, 102], [101, 2045, 2003, 25069, 2000, 2022, 2062, 1998, 2062, 6594, 1997, 2122, 3314, 1012, 102], [101, 2198, 2790, 2000, 2022, 1037, 2307, 22978, 1012, 102], [101, 2045, 10659, 2000, 2022, 1037, 4040, 3892, 1012, 102], [101, 2198, 29453, 2094, 2000, 2022, 3144, 1012, 102], [101, 2198, 2359, 2000, 5335, 2010, 2843, 1999, 2166, 1012, 102], [101, 2198, 3517, 2000, 2663, 1012, 102], [101, 2023, 2338, 2003, 2205, 9742, 2000, 2022, 3191, 1999, 2028, 3564, 1012, 102], [101, 2045, 2003, 2205, 3497, 2000, 2022, 1037, 11421, 2000, 2022, 1037, 3809, 6594, 1997, 1996, 3314, 1012, 102], [101, 2198, 2699, 1012, 102], [101, 2198, 4622, 1012, 102], [101, 2198, 2003, 4188, 1012, 102], [101, 2198, 9471, 1012, 102], [101, 3021, 3849, 2000, 2022, 27885, 3630, 25171, 1010, 2021, 1045, 2123, 1005, 1056, 2228, 2008, 3520, 6433, 1012, 102], [101, 3021, 3849, 2000, 2022, 27885, 3630, 25171, 1010, 2021, 1045, 2123, 1005, 1056, 2228, 2008, 3520, 4332, 2041, 1012, 102], [101, 3021, 3849, 2000, 2022, 27885, 3630, 25171, 1010, 2021, 1045, 2123, 1005, 1056, 2228, 2008, 3520, 12102, 1012, 102], [101, 2027, 2699, 2035, 2000, 2066, 2198, 1012, 102], [101, 2027, 2790, 2035, 2000, 2066, 2198, 1012, 102], [101, 2198, 7164, 8836, 2000, 2022, 13205, 1012, 102], [101, 1045, 2903, 2198, 2007, 2035, 2026, 2540, 2000, 2022, 1037, 2986, 2711, 1012, 102], [101, 2198, 2003, 2359, 2000, 2663, 1012, 102], [101, 2198, 2052, 2022, 4669, 2000, 2663, 1012, 102], [101, 2057, 2052, 2066, 2198, 2000, 2663, 1012, 102], [101, 2198, 2052, 2022, 6283, 2000, 2663, 1012, 102], [101, 2198, 2052, 2022, 6871, 2000, 2022, 1996, 4018, 1012, 102], [101, 2057, 2052, 9544, 2198, 2000, 2022, 1996, 4018, 1012, 102], [101, 1045, 2052, 2066, 2005, 2198, 2000, 2663, 1012, 102], [101, 1045, 2052, 5223, 2005, 2198, 2000, 2663, 1012, 102], [101, 1045, 2052, 9544, 2005, 2198, 2000, 2022, 1996, 4018, 1012, 102], [101, 2198, 3908, 1996, 2160, 1012, 102], [101, 1996, 28688, 22627, 15956, 2046, 1996, 5396, 1012, 102], [101, 15956, 4930, 1996, 28688, 1012, 102], [101, 1996, 5396, 3397, 15956, 1012, 102], [101, 1996, 2160, 3908, 2198, 1012, 102], [101, 15956, 2187, 1996, 28688, 1012, 102], [101, 1996, 28688, 2001, 2187, 2011, 15956, 1012, 102], [101, 1996, 28688, 2001, 4930, 2011, 15956, 1012, 102], [101, 1996, 3608, 3658, 1999, 1996, 3482, 1012, 102], [101, 1996, 3608, 4565, 2013, 1996, 5747, 2000, 1996, 3392, 1012, 102], [101, 1996, 3482, 3397, 1996, 3608, 1012, 102], [101, 1996, 3392, 3333, 5909, 2000, 1996, 2598, 1012, 102], [101, 5909, 2718, 1996, 2598, 2013, 1996, 3392, 1012, 102], [101, 1996, 2962, 6573, 2114, 1996, 6536, 2046, 1996, 2346, 1012, 102], [101, 1996, 2962, 6573, 1996, 6536, 2046, 1996, 2346, 1012, 102], [101, 1996, 3482, 4838, 1996, 3608, 1012, 102], [101, 1996, 3482, 6360, 4838, 1996, 3608, 1012, 102], [101, 1996, 3482, 2012, 2320, 4838, 1996, 3608, 1012, 102], [101, 1996, 3482, 4838, 1996, 3608, 2000, 1996, 2598, 1012, 102], [101, 1996, 3392, 6360, 3333, 2049, 5909, 2000, 1996, 2598, 1012, 102], [101, 1996, 3392, 3333, 2049, 5909, 2000, 1996, 2598, 1012, 102], [101, 5909, 2718, 1996, 4412, 1012, 102], [101, 5909, 2718, 1996, 4412, 2013, 1996, 3392, 1012, 102], [101, 5909, 2012, 2320, 2718, 1996, 4412, 2013, 1996, 3392, 1012, 102], [101, 5909, 2718, 1996, 4412, 2114, 1996, 2598, 1012, 102], [101, 5909, 2012, 2320, 2718, 1996, 4412, 2114, 1996, 2598, 1012, 102], [101, 5909, 3333, 2013, 1996, 3392, 1012, 102], [101, 5909, 3333, 2013, 1996, 3392, 2013, 1996, 8044, 1012, 102], [101, 5909, 3062, 2114, 1996, 2160, 1012, 102], [101, 5909, 3062, 2114, 1996, 2160, 2114, 1996, 2598, 1012, 102], [101, 1996, 3392, 2904, 2046, 2019, 6116, 1012, 102], [101, 1996, 3392, 2904, 2013, 1037, 11035, 2046, 2019, 6116, 1012, 102], [101, 1996, 11035, 2904, 2046, 2019, 6116, 2013, 1037, 11354, 1012, 102], [101, 1996, 11035, 2904, 2046, 2019, 6116, 2013, 1037, 11354, 1012, 102], [101, 1996, 11035, 2904, 2046, 2019, 6116, 1012, 102], [101, 1996, 6116, 2764, 2041, 1997, 1037, 11035, 1012, 102], [101, 1996, 3345, 2584, 1996, 2276, 1012, 102], [101, 1996, 5628, 6573, 2114, 1996, 2813, 1012, 102], [101, 1996, 2775, 2150, 1037, 2158, 1012, 102], [101, 1996, 2283, 6354, 6229, 7090, 1012, 102], [101, 1996, 3899, 2253, 4689, 1012, 102], [101, 2009, 4930, 2198, 2008, 2009, 2001, 2061, 1012, 102], [101, 2009, 2234, 2000, 2198, 2008, 2009, 2001, 2061, 1012, 102], [101, 1996, 7488, 2387, 2046, 1996, 9089, 1012, 102], [101, 2524, 2147, 4504, 1999, 2152, 7022, 1012, 102], [101, 1996, 3888, 2979, 2000, 2198, 1012, 102], [101, 2198, 2003, 7244, 1996, 2813, 1012, 102], [101, 1996, 2813, 2003, 2108, 5028, 2011, 2198, 1012, 102], [101, 1037, 4562, 14133, 1996, 5430, 1012, 102], [101, 1037, 4562, 21490, 2015, 1996, 5430, 1012, 102], [101, 2300, 17469, 1996, 14366, 1012, 102], [101, 1996, 3751, 2364, 9794, 1996, 2160, 4984, 1999, 1996, 8102, 1012, 102], [101, 1996, 2160, 4984, 2003, 2587, 2011, 1996, 3751, 2364, 1999, 1996, 8102, 1012, 102], [101, 1996, 8638, 2358, 12173, 27822, 1996, 11996, 1012, 102], [101, 1996, 11996, 2003, 2358, 12173, 20043, 2011, 1996, 8638, 1012, 102], [101, 1996, 2158, 2007, 1037, 2338, 1012, 102], [101, 3806, 6376, 1996, 7270, 1012, 102], [101, 1996, 9452, 6376, 1996, 3827, 3526, 1012, 102], [101, 1996, 3827, 3526, 2001, 6376, 2011, 1996, 9452, 1012, 102], [101, 1996, 5291, 2962, 9511, 1996, 2314, 1012, 102], [101, 1996, 2314, 2001, 9511, 2011, 1996, 5291, 2962, 1012, 102], [101, 1996, 6074, 3236, 1996, 9452, 1012, 102], [101, 1996, 25742, 13077, 2039, 1996, 2300, 1012, 102], [101, 1996, 14366, 3561, 2007, 2300, 1012, 102], [101, 2198, 2363, 1037, 2338, 1012, 102], [101, 2198, 4342, 1037, 10800, 1012, 102], [101, 1996, 20463, 2584, 2198, 1012, 102], [101, 2198, 2363, 1996, 20463, 1012, 102], [101, 1996, 3888, 2633, 2288, 2000, 2198, 2044, 2172, 15382, 1012, 102], [101, 1996, 3888, 2633, 2584, 2198, 2044, 2172, 15382, 1012, 102], [101, 2300, 3561, 1996, 2452, 2152, 1012, 102], [101, 2300, 3561, 1996, 2452, 1012, 102], [101, 2300, 21764, 1996, 2452, 1012, 102], [101, 1996, 2452, 3561, 1996, 2300, 2152, 1012, 102], [101, 1996, 2452, 3561, 1997, 2300, 1012, 102], [101, 1996, 2452, 3561, 2007, 2300, 1012, 102], [101, 1996, 2452, 21764, 2007, 2300, 1012, 102], [101, 1996, 19398, 17835, 2152, 2007, 15664, 1012, 102], [101, 1996, 2346, 8534, 2007, 1037, 2962, 1012, 102], [101, 1996, 3589, 3333, 6436, 1997, 2049, 6207, 1012, 102], [101, 1996, 15664, 17835, 1996, 19398, 2152, 1012, 102], [101, 1037, 2962, 8534, 1996, 2346, 1012, 102], [101, 1996, 5835, 11055, 1996, 6381, 2489, 1012, 102], [101, 1996, 3589, 3333, 2049, 6207, 2489, 1012, 102], [101, 2070, 5628, 3631, 2125, 1997, 1996, 3392, 1012, 102], [101, 1996, 3392, 3631, 2125, 2070, 5628, 1012, 102], [101, 1996, 3392, 3333, 2070, 5628, 1012, 102], [101, 1996, 3392, 2439, 2070, 5628, 1012, 102], [101, 2300, 11957, 2094, 2041, 1997, 1996, 22421, 1012, 102], [101, 1996, 22421, 11957, 2094, 2300, 2039, 1012, 102], [101, 1996, 22421, 11957, 2094, 2300, 1012, 102], [101, 1996, 2452, 3561, 2300, 1012, 102], [101, 1996, 2962, 6573, 1996, 6536, 2046, 1996, 2346, 1012, 102], [101, 1996, 14366, 15748, 4064, 1997, 2300, 1012, 102], [101, 1996, 2962, 6573, 2114, 1996, 6536, 2046, 1996, 2346, 1012, 102], [101, 16889, 6386, 3631, 1996, 3332, 1012, 102], [101, 1996, 2486, 1997, 1996, 3612, 3631, 1996, 3332, 1012, 102], [101, 1996, 3332, 3631, 2013, 16889, 6386, 1012, 102], [101, 1996, 3332, 3631, 2013, 1996, 2486, 1997, 1996, 3612, 1012, 102], [101, 2054, 1996, 2486, 1997, 1996, 3612, 2106, 2000, 1996, 3332, 2001, 3338, 2009, 1012, 102], [101, 2198, 2718, 1996, 2962, 2114, 1996, 2813, 1012, 102], [101, 2198, 2718, 1996, 2813, 2007, 1996, 2962, 1012, 102], [101, 2198, 10410, 2070, 4511, 2013, 1037, 8460, 1012, 102], [101, 2198, 10410, 1037, 8460, 1997, 2070, 4511, 1012, 102], [101, 2198, 4201, 1996, 2338, 2006, 1996, 2795, 1012, 102], [101, 2198, 2443, 2010, 2171, 1999, 1996, 2862, 1012, 102], [101, 2198, 8209, 1996, 14219, 3031, 1996, 4744, 1012, 102], [101, 2198, 8209, 1996, 4744, 2007, 14219, 1012, 102], [101, 2198, 7349, 5785, 2000, 1996, 3336, 1012, 102], [101, 2198, 7349, 1996, 3336, 5785, 1012, 102], [101, 2198, 7349, 1996, 3336, 2039, 2007, 5785, 1012, 102], [101, 2198, 7349, 1996, 3336, 5785, 2039, 1012, 102], [101, 1996, 3608, 3658, 3294, 1999, 1996, 3482, 1012, 102], [101, 1996, 3482, 3294, 3397, 1996, 3608, 1012, 102], [101, 1996, 3345, 2288, 2000, 1996, 2276, 3929, 1012, 102], [101, 1996, 3345, 2584, 1996, 2276, 3929, 1012, 102], [101, 2811, 1996, 11359, 2114, 1996, 11687, 3294, 1012, 102], [101, 2811, 1996, 11687, 2007, 1996, 11359, 3294, 1012, 102], [101, 12509, 1996, 6773, 3031, 1996, 2813, 3294, 1012, 102], [101, 12509, 2035, 1996, 6773, 3031, 1996, 2813, 3294, 1012, 102], [101, 12509, 1996, 2813, 2007, 2035, 1996, 6773, 1012, 102], [101, 12509, 1996, 2878, 2813, 2007, 1996, 6773, 1012, 102], [101, 2054, 2198, 2106, 2000, 1996, 2813, 2001, 6773, 2009, 1012, 102], [101, 2054, 2198, 2106, 2000, 1996, 2878, 2813, 2001, 6773, 2009, 1012, 102], [101, 2054, 2198, 2106, 2000, 1996, 2813, 2001, 2718, 2009, 1012, 102], [101, 2054, 1996, 2962, 2106, 2000, 1996, 2813, 2001, 2718, 2009, 1012, 102], [101, 2054, 1996, 2962, 2106, 2000, 1996, 2878, 2813, 2001, 2718, 2009, 1012, 102], [101, 2198, 2165, 3021, 2000, 2022, 1037, 7966, 1012, 102], [101, 2198, 5531, 3021, 2000, 2022, 1037, 7966, 1012, 102], [101, 2507, 1996, 5835, 2000, 1996, 3336, 2440, 1012, 102], [101, 2507, 1996, 5835, 2000, 1996, 3336, 8300, 1012, 102], [101, 2507, 1996, 3336, 1996, 5835, 2440, 1012, 102], [101, 2507, 1996, 3336, 1996, 5835, 8300, 1012, 102], [101, 14548, 1996, 8416, 2006, 1996, 3336, 7950, 1012, 102], [101, 14548, 1996, 8416, 2006, 1996, 3336, 6680, 1012, 102], [101, 14548, 1996, 3336, 2007, 1996, 8416, 7950, 1012, 102], [101, 14548, 1996, 3336, 2007, 1996, 8416, 6680, 1012, 102], [101, 4318, 1996, 3336, 2007, 1996, 8416, 6680, 1012, 102], [101, 4318, 1996, 3336, 2007, 1996, 8416, 7950, 1012, 102], [101, 1996, 2452, 6573, 1996, 2962, 4237, 1012, 102], [101, 1996, 2962, 6573, 1996, 2452, 4237, 1012, 102], [101, 1996, 2452, 14368, 4237, 2114, 1996, 2962, 1012, 102], [101, 1996, 2962, 14368, 1996, 2452, 4237, 1012, 102], [101, 1996, 4951, 3561, 2007, 17141, 2041, 1997, 1996, 10216, 1012, 102], [101, 1996, 2452, 21764, 1997, 2300, 3031, 1996, 2598, 1012, 102], [101, 2198, 2443, 2014, 2171, 1999, 1996, 2862, 1012, 102], [101, 2198, 4565, 1996, 3608, 2013, 1996, 3392, 2000, 1996, 5747, 1012, 102], [101, 2198, 10410, 1996, 5835, 1997, 2070, 2300, 1012, 102], [101, 2198, 2435, 3021, 1996, 2338, 1012, 102], [101, 2198, 2288, 1996, 2338, 2013, 3021, 1012, 102], [101, 2198, 2435, 3021, 1997, 1996, 2338, 1012, 102], [101, 2057, 2031, 2619, 1999, 1996, 2542, 2282, 1012, 102], [101, 2198, 2003, 2200, 13545, 1997, 2984, 1012, 102], [101, 2984, 4191, 2012, 2198, 1012, 102], [101, 1996, 2911, 7569, 4218, 1996, 5975, 1012, 102], [101, 2984, 10592, 2198, 1037, 7966, 1998, 3021, 1037, 15536, 8737, 1012, 102], [101, 2198, 12362, 12655, 2004, 4326, 1998, 8801, 2004, 17109, 1012, 102], [101, 9790, 2404, 1996, 2808, 2006, 1996, 2795, 1998, 1996, 2636, 2006, 1996, 3242, 1012, 102], [101, 14207, 2435, 1037, 14757, 2000, 2198, 1998, 1037, 18982, 2000, 6819, 13469, 2078, 1012, 102], [101, 1045, 5987, 2198, 2000, 2663, 1998, 4302, 2000, 4558, 1012, 102], [101, 2017, 4521, 1996, 3869, 6315, 1998, 1996, 12486, 12984, 1012, 102], [101, 2027, 2409, 9790, 2040, 2000, 2831, 2000, 1998, 3448, 2043, 2000, 2681, 1012, 102], [101, 3044, 13190, 1010, 1998, 2010, 7794, 2101, 6955, 1010, 1037, 7070, 3074, 1997, 10485, 2000, 1996, 3075, 1012, 102], [101, 9790, 2333, 1010, 1998, 2984, 2036, 4015, 1010, 2014, 2449, 2000, 1037, 2367, 3295, 1012, 102], [101, 1045, 4594, 1999, 13359, 1010, 2130, 2295, 2198, 2018, 3478, 2000, 13984, 1010, 2984, 2025, 2000, 2681, 1012, 102], [101, 2057, 2134, 1005, 1056, 3391, 2066, 1010, 2021, 6600, 8823, 1010, 1996, 3869, 6315, 1012, 102], [101, 13109, 2080, 9652, 4122, 1010, 2295, 2016, 2987, 1005, 1056, 2428, 5987, 1010, 1996, 5631, 13600, 2000, 2022, 1999, 1996, 2377, 1011, 12446, 1012, 102], [101, 2198, 4342, 2413, 6669, 1012, 102], [101, 3021, 24843, 2010, 3210, 9996, 1012, 102], [101, 2984, 3248, 1996, 6710, 17950, 1012, 102], [101, 2198, 6669, 4342, 2413, 1012, 102], [101, 3021, 9996, 24843, 2010, 3210, 1012, 102], [101, 2198, 4342, 2413, 3202, 1012, 102], [101, 3021, 24843, 2010, 3210, 3254, 1012, 102], [101, 2984, 2097, 2377, 1996, 6710, 2574, 1012, 102], [101, 2198, 3202, 4342, 2413, 1012, 102], [101, 3021, 3254, 24843, 2010, 3210, 1012, 102], [101, 2984, 2097, 2574, 2377, 1996, 6710, 1012, 102], [101, 2198, 3202, 4342, 2413, 6669, 1012, 102], [101, 2198, 4342, 2413, 6669, 2471, 3202, 1012, 102], [101, 2198, 4342, 2413, 6669, 3202, 1012, 102], [101, 2198, 6669, 4342, 2413, 3202, 1012, 102], [101, 2198, 4342, 2413, 3202, 6669, 1012, 102], [101, 4415, 1010, 2198, 3202, 2097, 2763, 4553, 2413, 6669, 1012, 102], [101, 3202, 1010, 2198, 2763, 2097, 4415, 4553, 2413, 6669, 1012, 102], [101, 4415, 1010, 2198, 6669, 2097, 3202, 4553, 2413, 2763, 1012, 102], [101, 2198, 6669, 4565, 1996, 3608, 2091, 1996, 2940, 1012, 102], [101, 2198, 4565, 1996, 3608, 6669, 2091, 1996, 2940, 1012, 102], [101, 2198, 4565, 1996, 3608, 2091, 1996, 2940, 6669, 1012, 102], [101, 2198, 6669, 2915, 1996, 3608, 1012, 102], [101, 2198, 2915, 1996, 3608, 6669, 1012, 102], [101, 2198, 29024, 3764, 2000, 2984, 1012, 102], [101, 2198, 3764, 29024, 2000, 2984, 1012, 102], [101, 2198, 3764, 2000, 2984, 29024, 1012, 102], [101, 2198, 3764, 2413, 29024, 2000, 2984, 1012, 102], [101, 2198, 3764, 2413, 2000, 2984, 29024, 1012, 102], [101, 2984, 5598, 1996, 3586, 6669, 2058, 1996, 2197, 8638, 1012, 102], [101, 2984, 5598, 1996, 3586, 2058, 1996, 2197, 8638, 6669, 1012, 102], [101, 2198, 3764, 29024, 2413, 2000, 2984, 1012, 102], [101, 2198, 3764, 2000, 2984, 2413, 1012, 102], [101, 2984, 11766, 2000, 2681, 2198, 1012, 102], [101, 1996, 7212, 8823, 6315, 1996, 6240, 1012, 102], [101, 2984, 11766, 2008, 2002, 2323, 2717, 3021, 1012, 102], [101, 2057, 5136, 1996, 2273, 2035, 18656, 1012, 102], [101, 2057, 5136, 1996, 2273, 2035, 6135, 4689, 1012, 102], [101, 1045, 2387, 1996, 2273, 2035, 1012, 102], [101, 1996, 2273, 2020, 4727, 2035, 1012, 102], [101, 1996, 2273, 3369, 2035, 1012, 102], [101, 1996, 3836, 3641, 1996, 2048, 3337, 2119, 2000, 3477, 2485, 3086, 1012, 102], [101, 2027, 2513, 1996, 2808, 2035, 2000, 2037, 5608, 1012, 102], [101, 2057, 4993, 1996, 8397, 2035, 2417, 1012, 102], [101, 1996, 10365, 7349, 1996, 21475, 2015, 2035, 2000, 1996, 7212, 1012, 102], [101, 3021, 7098, 1997, 2370, 2198, 2987, 1005, 1056, 5136, 1012, 102], [101, 2188, 2001, 2908, 2011, 2198, 1012, 102], [101, 2984, 2187, 1996, 2282, 4854, 1012, 102], [101, 1996, 2282, 2001, 2187, 4854, 2011, 2984, 1012, 102], [101, 1996, 2282, 2001, 2187, 4854, 1012, 102], [101, 2198, 12950, 3021, 1012, 102], [101, 3021, 2003, 15881, 2011, 2198, 1012, 102], [101, 1996, 7427, 12781, 2184, 6053, 1012, 102], [101, 2184, 6053, 2001, 12781, 2011, 1996, 7427, 1012, 102], [101, 2023, 2338, 3465, 1002, 2184, 1012, 102], [101, 1002, 2184, 2001, 3465, 2011, 2023, 2338, 1012, 102], [101, 1996, 2338, 3465, 2198, 1002, 2184, 1012, 102], [101, 2198, 2001, 3465, 1002, 2184, 2011, 1996, 2338, 1012, 102], [101, 2198, 2003, 7622, 2011, 3021, 2004, 13433, 8737, 3560, 1012, 102], [101, 1996, 3337, 2020, 2081, 1037, 2204, 2388, 1012, 102], [101, 1996, 3337, 2020, 2081, 1037, 2204, 2388, 2011, 5916, 2984, 1012, 102], [101, 1996, 4268, 2020, 3478, 2011, 4098, 2004, 1037, 2269, 1012, 102], [101, 1996, 4268, 2020, 3478, 2004, 1037, 2269, 1012, 102], [101, 1996, 2273, 2020, 4930, 2011, 1996, 2801, 2004, 14652, 1012, 102], [101, 1996, 2273, 2020, 5763, 2000, 2681, 1012, 102], [101, 2002, 17894, 2229, 2010, 2814, 2035, 2004, 13433, 8737, 3560, 1012, 102], [101, 5916, 2984, 2081, 1996, 3337, 2035, 1037, 2204, 2388, 1012, 102], [101, 4098, 3478, 1996, 4268, 2035, 2004, 1037, 2269, 1012, 102], [101, 3581, 5763, 1996, 2273, 2035, 2000, 2681, 1012, 102], [101, 2057, 10116, 2000, 1996, 2270, 2198, 2000, 2022, 1037, 5394, 1012, 102], [101, 2057, 10116, 2198, 2000, 1996, 2270, 2000, 2022, 1037, 5394, 1012, 102], [101, 2057, 10116, 25664, 2198, 2000, 2022, 1037, 5394, 1012, 102], [101, 2057, 10116, 2198, 25664, 2000, 2022, 1037, 5394, 1012, 102], [101, 2057, 10116, 25664, 2000, 1996, 2270, 2198, 2000, 2022, 1037, 5394, 1012, 102], [101, 2057, 10116, 2198, 25664, 2000, 1996, 2270, 2000, 2022, 1037, 5394, 1012, 102], [101, 2027, 3421, 2000, 1996, 4670, 2984, 2004, 1037, 10218, 22978, 1012, 102], [101, 2027, 3421, 2984, 2000, 1996, 4670, 2004, 1037, 10218, 22978, 1012, 102], [101, 2027, 3421, 5667, 2984, 2004, 1037, 10218, 22978, 1012, 102], [101, 2027, 3421, 2984, 5667, 2004, 1037, 10218, 22978, 1012, 102], [101, 2027, 3421, 2984, 5667, 2000, 1996, 4670, 2004, 1037, 10218, 22978, 1012, 102], [101, 2057, 4928, 2000, 1996, 4614, 3044, 2000, 2022, 1996, 12383, 1012, 102], [101, 2057, 4928, 9530, 23633, 2135, 3044, 2000, 2022, 1996, 12383, 1012, 102], [101, 2057, 4928, 3044, 9530, 23633, 2135, 2000, 2022, 1996, 12383, 1012, 102], [101, 2057, 4928, 9530, 23633, 2135, 2000, 1996, 4614, 3044, 2000, 2022, 1996, 12383, 1012, 102], [101, 2057, 4928, 3044, 9530, 23633, 2135, 2000, 1996, 4614, 2000, 2022, 1996, 12383, 1012, 102], [101, 1996, 19785, 27129, 1996, 10722, 15000, 2015, 4257, 1012, 102], [101, 1996, 24665, 10085, 2121, 2598, 1996, 4157, 13435, 2000, 1037, 2986, 9898, 1012, 102], [101, 2027, 4993, 2037, 2160, 1037, 22293, 8703, 1997, 2665, 1012, 102], [101, 1996, 8183, 13327, 2015, 2743, 2037, 18368, 2015, 11689, 8237, 2063, 1012, 102], [101, 1996, 4268, 4191, 3209, 2046, 1037, 21517, 1012, 102], [101, 2002, 19055, 2010, 23975, 3294, 2061, 22772, 1012, 102], [101, 2027, 7349, 1996, 6240, 2000, 1996, 7212, 6315, 1012, 102], [101, 1996, 7212, 8823, 2012, 1996, 6240, 6315, 1012, 102], [101, 2057, 2293, 2068, 1012, 102], [101, 2057, 2293, 2027, 1012, 102], [101, 2057, 2293, 2037, 1012, 102], [101, 2149, 2293, 2037, 1012, 102], [101, 2256, 2293, 2027, 1012, 102], [101, 2256, 2293, 2068, 1012, 102], [101, 2256, 2293, 2037, 1012, 102], [101, 2002, 6772, 2008, 2984, 4782, 3021, 2003, 13534, 1012, 102], [101, 2032, 6772, 2008, 2984, 4782, 3021, 2003, 13534, 1012, 102], [101, 2010, 6772, 2008, 2984, 4782, 3021, 2003, 13534, 1012, 102], [101, 2984, 7459, 2032, 1012, 102], [101, 2984, 2003, 13545, 1997, 2032, 1012, 102], [101, 2984, 2003, 13545, 2032, 1012, 102], [101, 2984, 6367, 2032, 1012, 102], [101, 2984, 1005, 1055, 6256, 2032, 2001, 10311, 1012, 102], [101, 2984, 1005, 1055, 6256, 1997, 2032, 2001, 10311, 1012, 102], [101, 2008, 2198, 7459, 2984, 2003, 21888, 1012, 102], [101, 2198, 2000, 2293, 2984, 2052, 2022, 21888, 1012, 102], [101, 2005, 2198, 2000, 2293, 2984, 2052, 2022, 21888, 1012, 102], [101, 2000, 2175, 6917, 2052, 2022, 3835, 1012, 102], [101, 2198, 1005, 1055, 2933, 2000, 2175, 6917, 2003, 3835, 1012, 102], [101, 2984, 3373, 2198, 2000, 2031, 3866, 2014, 1012, 102], [101, 2984, 2641, 2198, 2000, 2031, 3866, 2014, 1012, 102], [101, 2984, 2988, 2198, 2000, 2031, 3866, 2014, 1012, 102], [101, 2984, 2641, 2000, 2031, 3866, 2014, 1012, 102], [101, 2984, 2699, 2000, 2175, 6917, 1012, 102], [101, 2984, 3832, 2000, 2175, 6917, 1012, 102], [101, 2984, 3266, 2000, 2175, 6917, 1012, 102], [101, 2984, 9059, 2000, 2175, 6917, 1012, 102], [101, 2984, 2699, 2198, 2000, 2175, 6917, 1012, 102], [101, 2984, 3266, 2198, 2000, 2175, 6917, 1012, 102], [101, 2984, 9059, 2198, 2000, 2175, 6917, 1012, 102], [101, 2984, 3373, 2032, 2000, 2031, 3866, 2014, 1012, 102], [101, 2984, 2641, 2032, 2000, 2031, 3866, 2014, 1012, 102], [101, 2984, 3373, 2002, 2000, 2031, 3866, 2014, 1012, 102], [101, 2984, 2641, 2002, 2000, 2031, 3866, 2014, 1012, 102], [101, 2984, 2988, 2002, 2000, 2031, 3866, 2014, 1012, 102], [101, 2984, 3373, 2010, 2000, 2031, 3866, 2014, 1012, 102], [101, 2984, 2641, 2010, 2000, 2031, 3866, 2014, 1012, 102], [101, 2984, 2988, 2010, 2000, 2031, 3866, 2014, 1012, 102], [101, 2009, 2003, 3056, 2008, 2198, 2038, 3866, 2984, 1012, 102], [101, 2009, 2003, 3497, 2008, 2198, 2038, 3866, 2984, 1012, 102], [101, 2045, 2024, 12358, 1999, 2008, 3871, 1012, 102], [101, 2045, 2003, 12358, 1999, 2008, 3871, 1012, 102], [101, 2045, 2003, 7194, 2093, 2273, 2012, 2008, 2276, 1012, 102], [101, 2045, 2024, 7194, 2093, 2273, 2012, 2008, 2276, 1012, 102], [101, 1045, 5136, 2045, 2000, 2022, 1037, 2158, 1999, 2008, 3871, 1012, 102], [101, 1045, 5136, 2045, 1037, 2158, 1999, 2008, 3871, 1012, 102], [101, 2027, 6884, 2045, 2000, 2031, 2042, 2116, 12358, 1999, 2008, 3871, 1012, 102], [101, 2027, 6884, 2116, 12358, 2000, 2031, 2042, 1999, 2008, 3871, 1012, 102], [101, 2198, 11897, 5596, 2045, 2000, 2031, 2042, 1037, 7985, 1999, 2008, 11171, 2160, 1012, 102], [101, 2198, 11897, 5596, 1037, 7985, 2000, 2031, 2042, 1999, 2008, 11171, 2160, 1012, 102], [101, 2198, 2699, 2000, 3610, 2984, 1012, 102], [101, 2198, 11766, 2984, 2000, 3610, 2032, 1012, 102], [101, 2198, 2409, 2984, 2000, 3610, 2032, 1012, 102], [101, 2009, 2003, 6206, 2000, 2380, 2182, 1012, 102], [101, 1045, 4622, 2032, 2383, 4782, 2984, 1012, 102], [101, 1045, 2988, 2032, 2383, 4782, 2984, 1012, 102], [101, 1045, 2988, 2383, 4782, 2984, 1012, 102], [101, 1045, 5959, 2635, 1037, 7198, 1012, 102], [101, 1045, 20010, 4355, 2635, 1037, 7198, 1012, 102], [101, 1045, 5959, 2032, 2635, 1037, 7198, 1012, 102], [101, 1045, 20010, 4355, 2032, 2635, 1037, 7198, 1012, 102], [101, 1045, 2387, 2032, 7618, 2984, 1012, 102], [101, 1045, 4384, 2032, 7618, 2984, 1012, 102], [101, 1045, 4384, 7618, 2984, 1012, 102], [101, 2045, 2001, 2124, 2000, 3071, 1012, 102], [101, 2198, 1005, 1055, 11193, 1996, 3749, 2003, 16880, 1012, 102], [101, 1996, 4099, 1005, 1055, 9846, 1996, 2103, 2001, 23512, 1012, 102], [101, 2198, 1005, 1055, 13948, 1997, 1996, 3749, 2001, 16880, 1012, 102], [101, 1996, 4099, 1005, 1055, 6215, 1997, 1996, 2103, 2001, 23512, 1012, 102], [101, 2198, 2359, 2000, 2681, 1996, 2282, 3407, 1998, 2681, 1996, 2282, 2002, 2106, 3407, 1012, 102], [101, 1045, 2411, 4604, 2984, 2188, 7144, 1010, 1998, 2016, 4152, 2045, 2074, 2986, 1012, 102], [101, 1045, 6315, 4521, 3869, 7144, 1012, 102], [101, 1045, 2069, 4521, 3869, 7144, 6315, 1012, 102], [101, 1045, 2123, 1005, 1056, 2228, 5965, 2097, 1010, 2593, 1012, 102], [101, 4560, 7777, 28540, 1010, 1998, 9079, 2515, 2205, 1012, 102], [101, 4560, 8823, 28540, 1010, 1998, 9079, 2038, 2205, 1012, 102], [101, 4560, 2003, 5983, 28540, 1010, 1998, 9079, 2003, 2205, 1012, 102], [101, 2198, 2003, 2975, 2021, 2984, 1005, 1055, 2025, 1012, 102], [101, 1045, 5136, 3021, 9414, 1998, 1045, 5136, 8836, 2025, 1012, 102], [101, 8836, 2318, 2770, 2091, 1996, 2395, 1010, 2021, 2069, 2044, 4560, 2318, 1012, 102], [101, 8836, 2081, 3021, 4756, 1010, 1998, 2059, 4560, 2081, 1012, 102], [101, 2984, 2234, 2000, 3191, 5965, 1005, 1055, 2466, 1010, 1998, 1045, 2036, 2234, 2000, 1012, 102], [101, 2198, 4122, 2000, 2175, 2006, 10885, 1010, 2021, 2002, 2987, 1005, 1056, 2113, 2043, 2000, 1012, 102], [101, 2984, 2001, 2409, 2000, 3288, 2242, 2000, 1996, 2283, 1010, 2061, 2016, 2356, 9790, 2054, 2000, 1012, 102], [101, 2057, 2453, 2175, 2006, 10885, 2065, 2057, 2064, 2412, 3275, 2041, 2043, 2000, 1012, 102], [101, 6902, 2359, 2000, 4929, 1037, 10722, 19068, 2080, 2000, 1996, 2283, 1010, 2021, 25222, 19362, 2481, 1005, 1056, 5630, 3251, 2000, 1012, 102], [101, 2017, 5807, 1005, 1056, 2377, 2007, 9494, 2138, 2000, 2003, 4795, 1012, 102], [101, 2198, 2003, 2108, 6936, 1998, 8836, 2003, 2108, 2205, 1012, 102], [101, 1045, 3342, 2198, 2108, 6936, 1010, 2021, 2017, 9131, 8836, 2108, 1012, 102], [101, 8836, 2453, 2031, 8828, 28540, 1010, 2021, 9079, 5807, 1005, 1056, 1012, 102], [101, 4560, 5176, 2008, 2057, 2175, 2000, 1996, 3116, 1010, 1998, 8836, 2097, 2425, 2149, 2043, 1012, 102], [101, 2009, 1005, 1055, 2057, 2175, 2000, 1996, 3116, 1010, 2008, 8836, 2097, 2425, 2149, 2043, 1012, 102], [101, 2009, 1005, 1055, 2000, 2984, 2008, 3533, 2056, 9079, 2064, 2831, 1012, 102], [101, 2984, 3555, 2008, 8828, 28540, 1010, 9079, 8440, 1005, 1056, 1012, 102], [101, 2984, 3555, 2008, 5983, 28540, 1010, 9079, 1005, 1055, 2025, 1012, 102], [101, 2984, 3555, 2008, 4521, 28540, 1010, 9079, 4122, 2000, 1012, 102], [101, 2984, 3555, 2008, 2052, 4521, 28540, 1010, 9079, 1012, 102], [101, 2984, 3555, 2008, 8440, 1005, 1056, 8828, 28540, 1010, 9079, 1012, 102], [101, 2984, 3555, 2008, 5983, 28540, 1010, 9079, 2318, 1012, 102], [101, 2984, 3555, 2008, 4521, 28540, 1010, 9079, 2081, 2033, 1012, 102], [101, 2984, 3555, 2008, 2031, 8828, 28540, 1010, 9079, 2323, 1012, 102], [101, 2984, 3555, 2008, 9414, 1010, 1045, 5136, 9079, 2025, 1012, 102], [101, 14765, 22906, 1037, 2466, 2000, 3342, 2138, 9079, 2018, 2036, 22906, 1037, 2466, 2000, 1012, 102], [101, 1045, 8182, 3533, 1005, 1055, 3535, 2000, 2424, 9079, 2096, 2017, 8182, 4560, 1005, 1055, 3535, 2000, 1012, 102], [101, 2984, 8781, 3533, 1005, 1055, 4792, 2000, 4521, 28540, 1010, 2021, 2069, 2044, 1045, 2018, 8781, 8836, 1005, 1055, 4792, 2000, 1012, 102], [101, 8836, 4541, 1996, 3535, 2000, 6545, 9079, 1010, 2021, 2069, 2044, 1045, 2018, 6380, 1996, 3247, 2000, 1012, 102], [101, 2198, 2134, 1005, 1056, 2718, 1037, 2188, 2448, 1010, 2021, 1045, 2113, 1037, 2450, 2040, 2106, 1012, 102], [101, 2008, 22396, 2180, 1996, 9640, 4410, 2003, 2025, 11341, 1010, 2021, 2008, 2848, 2134, 1005, 1056, 2113, 2016, 2106, 2003, 11341, 1012, 102], [101, 2017, 5807, 1005, 1056, 2031, 2209, 2007, 9494, 2138, 2000, 2031, 2003, 4795, 1012, 102], [101, 6902, 2359, 2000, 2022, 4147, 1037, 10722, 19068, 2080, 2000, 1996, 2283, 1010, 2021, 25222, 19362, 2134, 1005, 1056, 2113, 3251, 2000, 2022, 1012, 102], [101, 14765, 22906, 1037, 2466, 2000, 2022, 4622, 2138, 9079, 2018, 22906, 1037, 2466, 2000, 2022, 1012, 102], [101, 14765, 2787, 2008, 5983, 28540, 1010, 2016, 2323, 2022, 1012, 102], [101, 14765, 2787, 5983, 28540, 1010, 2000, 2022, 1012, 102], [101, 3191, 5965, 1005, 1055, 2466, 1010, 1045, 2036, 2215, 2000, 1012, 102], [101, 2017, 5807, 1005, 1056, 2377, 2007, 9494, 2138, 2377, 2007, 9494, 2000, 2003, 4795, 1012, 102], [101, 6902, 2359, 2000, 4929, 1037, 10722, 19068, 2080, 2000, 1996, 2283, 1010, 2021, 4929, 1037, 10722, 19068, 2080, 2000, 1996, 2283, 25222, 19362, 2481, 1005, 1056, 5630, 3251, 2000, 1012, 102], [101, 7004, 9957, 22906, 1037, 2466, 2000, 3342, 2138, 3342, 9079, 2018, 22906, 1037, 2466, 2000, 1012, 102], [101, 23848, 3748, 3702, 2234, 2000, 8970, 1996, 15812, 2021, 1045, 2234, 2025, 2000, 1012, 102], [101, 23848, 3748, 3702, 2234, 2000, 8970, 1996, 15812, 2021, 1045, 2234, 10785, 2025, 2000, 1012, 102], [101, 2017, 2323, 4895, 11066, 9494, 2138, 2025, 2000, 1055, 2003, 4795, 1012, 102], [101, 2065, 6902, 4282, 3251, 2000, 4929, 1037, 10722, 19068, 2080, 1010, 1998, 25222, 19362, 4282, 3251, 2025, 2000, 1010, 2079, 2027, 2113, 2367, 2477, 1029, 102], [101, 7004, 22906, 1037, 2466, 2000, 3342, 2138, 9079, 2018, 22906, 2004, 2466, 2025, 2000, 1012, 102], [101, 1045, 2097, 1010, 2065, 1045, 2064, 2147, 2006, 2009, 1012, 102], [101, 2106, 4302, 2681, 1029, 102], [101, 2515, 3533, 6170, 1029, 102], [101, 1037, 6947, 2008, 2643, 4839, 2515, 1012, 102], [101, 1037, 6947, 2008, 2643, 2515, 6526, 1012, 102], [101, 1045, 4716, 2296, 2237, 1999, 2296, 2406, 1045, 2018, 2000, 1012, 102], [101, 2296, 2158, 2040, 2056, 2002, 2052, 4965, 2070, 11840, 2106, 1012, 102], [101, 1045, 4716, 2296, 2237, 1045, 2018, 2000, 1012, 102], [101, 2296, 2237, 1999, 2296, 2406, 1045, 2018, 2000, 1045, 4716, 1012, 102], [101, 2296, 2158, 2040, 2056, 2002, 2052, 4965, 2070, 11840, 2106, 4965, 2070, 11840, 1012, 102], [101, 14765, 2323, 4965, 11840, 1998, 2984, 2323, 2205, 1012, 102], [101, 14765, 2323, 4965, 11840, 1998, 2984, 2323, 4965, 11840, 2205, 1012, 102], [101, 3533, 1005, 1055, 11265, 10976, 8583, 8572, 2010, 13497, 1010, 1998, 8836, 1005, 1055, 11265, 10976, 8583, 2079, 2205, 1012, 102], [101, 3533, 7777, 2010, 3347, 1010, 1998, 8836, 1005, 1055, 13497, 2079, 2205, 1012, 102], [101, 2296, 3861, 1997, 2993, 3369, 1012, 102], [101, 2026, 4470, 2987, 1005, 1056, 2031, 1037, 18591, 2021, 2115, 5916, 2515, 1998, 2002, 2003, 4688, 2006, 1996, 2723, 1012, 102], [101, 2026, 4470, 2134, 1005, 1056, 4965, 2505, 2005, 4234, 1010, 2021, 2026, 5916, 2106, 2009, 2005, 2032, 1998, 2009, 2001, 4408, 2417, 1012, 102], [101, 1045, 2113, 2029, 2338, 4098, 3191, 1010, 1998, 2029, 2338, 7436, 2134, 1005, 1056, 1012, 102], [101, 2023, 2003, 1996, 2338, 1997, 2029, 3021, 14300, 2015, 1010, 1998, 2023, 2003, 1996, 2028, 1997, 2029, 2002, 2987, 1005, 1056, 1012, 102], [101, 1045, 2113, 2029, 2338, 23848, 3191, 1010, 1998, 2029, 2338, 3960, 2356, 2339, 2017, 2910, 1005, 1056, 1012, 102], [101, 1045, 2113, 2029, 2338, 23848, 3191, 1010, 1998, 2029, 2338, 3960, 6936, 2044, 1045, 2018, 1012, 102], [101, 10634, 2229, 6878, 3071, 2040, 6466, 2669, 2106, 1012, 102], [101, 2096, 3960, 3191, 5965, 1010, 2002, 2134, 1005, 1056, 19675, 1012, 102], [101, 8836, 6878, 3533, 1010, 2021, 2002, 2134, 1005, 1056, 9079, 1012, 102], [101, 2348, 23848, 2987, 1005, 1056, 8288, 24759, 11390, 1010, 8836, 20323, 28540, 1012, 102], [101, 2348, 1045, 2123, 1005, 1056, 2113, 2029, 2338, 3520, 2106, 1010, 1045, 2079, 2113, 2029, 2338, 8836, 3191, 1012, 102], [101, 2379, 3071, 6466, 2669, 2106, 1010, 10634, 2229, 2768, 1012, 102], [101, 8836, 2097, 3233, 2379, 23848, 1010, 2021, 2002, 2180, 1005, 1056, 9079, 1012, 102], [101, 2096, 9079, 2134, 1005, 1056, 6848, 1037, 3189, 2055, 2296, 2879, 1010, 2016, 2106, 2296, 2611, 1012, 102], [101, 8836, 2097, 3233, 2379, 2296, 2450, 2008, 2017, 2097, 1012, 102], [101, 1045, 2113, 2029, 2450, 9079, 2097, 6848, 1037, 3189, 2055, 1010, 2021, 1045, 2123, 1005, 1056, 2113, 2029, 2450, 2017, 2097, 1012, 102], [101, 3520, 2768, 2379, 7483, 2296, 2028, 1997, 1996, 2308, 2057, 1005, 1040, 2042, 10537, 1012, 102], [101, 15237, 4716, 7483, 2017, 1012, 102], [101, 15237, 2409, 1996, 2466, 3960, 1012, 102], [101, 2096, 15237, 2134, 1005, 1056, 3942, 2033, 1010, 2002, 2106, 2017, 1012, 102], [101, 2096, 15237, 2134, 1005, 1056, 2425, 2033, 1037, 2466, 1010, 2002, 2106, 13174, 1012, 102], [101, 2096, 4560, 2180, 1005, 1056, 2831, 2055, 23848, 1010, 2002, 2453, 2055, 9079, 1012, 102], [101, 2348, 9986, 2453, 2425, 2009, 2000, 2017, 1010, 2002, 2180, 1005, 1056, 2000, 2033, 1012, 102], [101, 1045, 2228, 2017, 2342, 2000, 2265, 4426, 2062, 2084, 2017, 2079, 3087, 2842, 1012, 102], [101, 2096, 15237, 2987, 1005, 1056, 2215, 2000, 3942, 2296, 2103, 1010, 2002, 2515, 7623, 1012, 102], [101, 2096, 13174, 2453, 2681, 1999, 2344, 2000, 3531, 23848, 1010, 2002, 2180, 1005, 1056, 2010, 2269, 1012, 102], [101, 2096, 9986, 2453, 4366, 2008, 3960, 2018, 3191, 2010, 2338, 1010, 2002, 2180, 1005, 1056, 1996, 3259, 1012, 102], [101, 1045, 1005, 2222, 2735, 1996, 2557, 2091, 1010, 2021, 1045, 2180, 1005, 1056, 2039, 1012, 102], [101, 5965, 7777, 8288, 24759, 11390, 1010, 2348, 2002, 7777, 28540, 2205, 1012, 102], [101, 2348, 2002, 7777, 28540, 2205, 1010, 5965, 7777, 8288, 24759, 11390, 1012, 102], [101, 5965, 2435, 4870, 2000, 2010, 22872, 2138, 3581, 2018, 1012, 102], [101, 2859, 2003, 1037, 2406, 2008, 3533, 4122, 2000, 3942, 1010, 1998, 2002, 2097, 2205, 1010, 2065, 2002, 4152, 2438, 2769, 1012, 102], [101, 6128, 2876, 1005, 1056, 3191, 1037, 2338, 2011, 11561, 2140, 1010, 2021, 21442, 8516, 2038, 2589, 2061, 1998, 2009, 2001, 3492, 2204, 1012, 102], [101, 1045, 2113, 2029, 2338, 4098, 3191, 1010, 1998, 2029, 2338, 7436, 8440, 1005, 1056, 2589, 2061, 1012, 102], [101, 3533, 2453, 4299, 2002, 2018, 1010, 2021, 2023, 3475, 1005, 1056, 1037, 2406, 2002, 2038, 4716, 1012, 102], [101, 2096, 1045, 2453, 2215, 2000, 1010, 2023, 2003, 1996, 2785, 1997, 2518, 2008, 5671, 2038, 2525, 4081, 1012, 102], [101, 2057, 2066, 2256, 2814, 1998, 2027, 2079, 2205, 1012, 102], [101, 2057, 2066, 2256, 2814, 1998, 2027, 2066, 2256, 2814, 2205, 1012, 102], [101, 2057, 2066, 2256, 2814, 1998, 2027, 2066, 2037, 2814, 1010, 2205, 1012, 102], [101, 13174, 5720, 2055, 2370, 2069, 2044, 9079, 2106, 1012, 102], [101, 13174, 5720, 2055, 2370, 2069, 2044, 2984, 2106, 2831, 2055, 2370, 1012, 102], [101, 1045, 2071, 2424, 2053, 5576, 1010, 2021, 9079, 2453, 1012, 102], [101, 5965, 5720, 2055, 2673, 2077, 13174, 2106, 1012, 102], [101, 3533, 2097, 2175, 2000, 1996, 3573, 1010, 2130, 2295, 5965, 2525, 2038, 1012, 102], [101, 2651, 2045, 2003, 2210, 2030, 2053, 2880, 16011, 1997, 11690, 2015, 1998, 5637, 2015, 2011, 1996, 2120, 2231, 1010, 2348, 8392, 6867, 2453, 1012, 102], [101, 1996, 4018, 2001, 28844, 2098, 2011, 5571, 1997, 1999, 20740, 18605, 1998, 9992, 1996, 4433, 1010, 2030, 2012, 2560, 2667, 2000, 1012, 102], [101, 2585, 2003, 1037, 2307, 3063, 1010, 1998, 2043, 2002, 2515, 1010, 2010, 2159, 5490, 20023, 2102, 2012, 2017, 1012, 102], [101, 1996, 4018, 2001, 28844, 2098, 2011, 5571, 1997, 1999, 20740, 18605, 1010, 2030, 2012, 2560, 2667, 2000, 1012, 102], [101, 2023, 2592, 2071, 2031, 2042, 2207, 2011, 2175, 28483, 16179, 1010, 2021, 2002, 4900, 2025, 2000, 1012, 102], [101, 1037, 2843, 1997, 2023, 3430, 2064, 2022, 3591, 1999, 1037, 7199, 11900, 1998, 7801, 4827, 1010, 1998, 2411, 1045, 2079, 1012, 102], [101, 2198, 7777, 2025, 2984, 1012, 102], [101, 2198, 2515, 2025, 2066, 2984, 1012, 102], [101, 2198, 6010, 2411, 2984, 1012, 102], [101, 2198, 5363, 2000, 2411, 3113, 2984, 1012, 102], [101, 2198, 5363, 2000, 3113, 2411, 2984, 1012, 102], [101, 2198, 5363, 2025, 2000, 3113, 2984, 1012, 102], [101, 2198, 5363, 2000, 3113, 2025, 2984, 1012, 102], [101, 2003, 2984, 2770, 1996, 8589, 1029, 102], [101, 3216, 2984, 1996, 8589, 1029, 102], [101, 2984, 2003, 2411, 2770, 1996, 8589, 1012, 102], [101, 2984, 3216, 2411, 1996, 8589, 1012, 102], [101, 2984, 2003, 2025, 2770, 1996, 8589, 1012, 102], [101, 1045, 2134, 1005, 1056, 1010, 2004, 3021, 2018, 2245, 1010, 2175, 2000, 1996, 3573, 1012, 102], [101, 1045, 2106, 1010, 2004, 3021, 2018, 2245, 1010, 2175, 2000, 1996, 3573, 1012, 102], [101, 1045, 2106, 2025, 1010, 2004, 3021, 2018, 2245, 1010, 2175, 2000, 1996, 3573, 1012, 102], [101, 1996, 4898, 2071, 2061, 2903, 1996, 2879, 1012, 102], [101, 1996, 4898, 2061, 3373, 1996, 2879, 1012, 102], [101, 1996, 4898, 2106, 2061, 2903, 1996, 2879, 1012, 102], [101, 1996, 4898, 2134, 1005, 1056, 2061, 2903, 1996, 2879, 1012, 102], [101, 4199, 3908, 21959, 1012, 102], [101, 4199, 1005, 1055, 6215, 1997, 21959, 2001, 23512, 1012, 102], [101, 2198, 4149, 1996, 3861, 1997, 2370, 2008, 3021, 2387, 1012, 102], [101, 1996, 10617, 1997, 1996, 3291, 2003, 3243, 16030, 1012, 102], [101, 1996, 3716, 1997, 1996, 3291, 2003, 3243, 16030, 1012, 102], [101, 1996, 3291, 1005, 1055, 10617, 2003, 3243, 16030, 1012, 102], [101, 1996, 3291, 1005, 1055, 3716, 2003, 3243, 16030, 1012, 102], [101, 1996, 3291, 4282, 4089, 1012, 102], [101, 1996, 2911, 7569, 2000, 8145, 1996, 5427, 1012, 102], [101, 1996, 10186, 1997, 1996, 2911, 2001, 2200, 14386, 3560, 1012, 102], [101, 1996, 10186, 1997, 1996, 2911, 2000, 8145, 1996, 5427, 2001, 2200, 14386, 3560, 1012, 102], [101, 1996, 2911, 1005, 1055, 10186, 2001, 2200, 14386, 3560, 1012, 102], [101, 1996, 2911, 1005, 1055, 10186, 2000, 8145, 1996, 5427, 2001, 2200, 14386, 3560, 1012, 102], [101, 1996, 5604, 1997, 2107, 5850, 2006, 25763, 2003, 2205, 19188, 1012, 102], [101, 2023, 4319, 1005, 1055, 5604, 2006, 25763, 2003, 2205, 19188, 1012, 102], [101, 1996, 2911, 2001, 10417, 2000, 8145, 1996, 5427, 1012, 102], [101, 2023, 4319, 2442, 2034, 2022, 7718, 2006, 25763, 1012, 102], [101, 1996, 2343, 1005, 1055, 7191, 6215, 2003, 3143, 1012, 102], [101, 1996, 7191, 6215, 1997, 1996, 2343, 2001, 5121, 2025, 14044, 1012, 102], [101, 2984, 4122, 2000, 4929, 3835, 2630, 2446, 4377, 1012, 102], [101, 12851, 2020, 3107, 1999, 2885, 2044, 17332, 2475, 1012, 102], [101, 2057, 4138, 2031, 17727, 8586, 21170, 5510, 1012, 102], [101, 4138, 2057, 2031, 17727, 8586, 21170, 5510, 1012, 102], [101, 1045, 3191, 2093, 2010, 2808, 1012, 102], [101, 1045, 3191, 2296, 2010, 2338, 1012, 102], [101, 1045, 3191, 2010, 2296, 2338, 1012, 102], [101, 2296, 2879, 2315, 1037, 4774, 1012, 102], [101, 1045, 3662, 2296, 2879, 1037, 4774, 1012, 102], [101, 2261, 3337, 3191, 2151, 1997, 1996, 2808, 1012, 102], [101, 1045, 3662, 2261, 3337, 2151, 1997, 1996, 2808, 1012, 102], [101, 2008, 2261, 3337, 2234, 6314, 2151, 1997, 1996, 5089, 1012, 102], [101, 1045, 2001, 2025, 3752, 1037, 2338, 2043, 2017, 2234, 1999, 1012, 102], [101, 1037, 2879, 2106, 2025, 4756, 1012, 102], [101, 2087, 3337, 2106, 2025, 4756, 1012, 102], [101, 2296, 2879, 2315, 8714, 1998, 11691, 1012, 102], [101, 2296, 2879, 2315, 2296, 4774, 1012, 102], [101, 2169, 3076, 8847, 2048, 4155, 1012, 102], [101, 2048, 2493, 3713, 2169, 2653, 1012, 102], [101, 2070, 9045, 4716, 2035, 1996, 9941, 1012, 102], [101, 13545, 1997, 2070, 2879, 2296, 2611, 2003, 1012, 102], [101, 26458, 2638, 28943, 2038, 1037, 2309, 5923, 2008, 2003, 1999, 2296, 3420, 1997, 1996, 2160, 1012, 102], [101, 1037, 6232, 6732, 2008, 2296, 2338, 2003, 3191, 3085, 1012, 102], [101, 2040, 2515, 2002, 19837, 1029, 102], [101, 2002, 19837, 2015, 2296, 2158, 1012, 102], [101, 2054, 2515, 2040, 19837, 1029, 102], [101, 2040, 19837, 2015, 2054, 1029, 102], [101, 2619, 2013, 2296, 2103, 16424, 2009, 1012, 102], [101, 2070, 2934, 19837, 2015, 2296, 3076, 1012, 102], [101, 2070, 2934, 19837, 2015, 2296, 3076, 1998, 16424, 1996, 4670, 1012, 102], [101, 2017, 6406, 2296, 3259, 2302, 29508, 1012, 102], [101, 3071, 2988, 2008, 4098, 1998, 2070, 3203, 5419, 1012, 102], [101, 2087, 6368, 2097, 2022, 15807, 2065, 2057, 2123, 1005, 1056, 13260, 2070, 9667, 1012, 102], [101, 2035, 2493, 2903, 2505, 2008, 2116, 5089, 2360, 1012, 102], [101, 2040, 2097, 2022, 15807, 2065, 2057, 2123, 1005, 1056, 13260, 2029, 9667, 1029, 102], [101, 2040, 7164, 2505, 2008, 2040, 2758, 1029, 102], [101, 3599, 2048, 3337, 4782, 2070, 2611, 1012, 102], [101, 2984, 5246, 3599, 2048, 1997, 1996, 2273, 2040, 2113, 1037, 3135, 1045, 2066, 1012, 102], [101, 2296, 3076, 2038, 2000, 2272, 2039, 2007, 2093, 9918, 2008, 2265, 2008, 2070, 4650, 3818, 2011, 3021, 2003, 3308, 1012, 102], [101, 2065, 2057, 13260, 2070, 9667, 1010, 4098, 2097, 2022, 15807, 1012, 102], [101, 2093, 9064, 1997, 3067, 7900, 1037, 2160, 1012, 102], [101, 2065, 2093, 9064, 1997, 3067, 3280, 1010, 1045, 2097, 22490, 1037, 2160, 1012, 102], [101, 3071, 3230, 2070, 18014, 1012, 102], [101, 3599, 2431, 1997, 1996, 2493, 3230, 2070, 18014, 1012, 102], [101, 2062, 2084, 2093, 2493, 3230, 2296, 18014, 1012, 102], [101, 2296, 3076, 3230, 2062, 2084, 2093, 17239, 1012, 102], [101, 2296, 2158, 5129, 1996, 3481, 1012, 102], [101, 2296, 2158, 4196, 1996, 2795, 1012, 102], [101, 2296, 2158, 4196, 1996, 2795, 2362, 1012, 102], [101, 1996, 2273, 5129, 1996, 3481, 1012, 102], [101, 2035, 1996, 2273, 5129, 1996, 3481, 1012, 102], [101, 1996, 2273, 4196, 1996, 2795, 2362, 1012, 102], [101, 1037, 3634, 2273, 4196, 1996, 2795, 2362, 1012, 102], [101, 2035, 1996, 2273, 4196, 1996, 2795, 2362, 1012, 102], [101, 2296, 2158, 4196, 1037, 2795, 1012, 102], [101, 2169, 2158, 4196, 1037, 2795, 1012, 102], [101, 2619, 3230, 2296, 18014, 1012, 102], [101, 2062, 2084, 2048, 2493, 3230, 2296, 18014, 1012, 102], [101, 2017, 2496, 2053, 2028, 1012, 102], [101, 1045, 2097, 2486, 2017, 2000, 5914, 2053, 2028, 1012, 102], [101, 2057, 5444, 2005, 2033, 1012, 102], [101, 3071, 2018, 2042, 15366, 2370, 10551, 1012, 102], [101, 3071, 2040, 2018, 2042, 15366, 2370, 10551, 2056, 2008, 2002, 2001, 7653, 1012, 102], [101, 2045, 2020, 2274, 9045, 1999, 1996, 2282, 4237, 2013, 2870, 1012, 102], [101, 13702, 2015, 2066, 4426, 2024, 1037, 5932, 10497, 1012, 102], [101, 4098, 23390, 2008, 1996, 3035, 4778, 28831, 1998, 2370, 2005, 1037, 4392, 1012, 102], [101, 2029, 4620, 1997, 2032, 2106, 4656, 2156, 1029, 102], [101, 2029, 4620, 1997, 4656, 2106, 2002, 2156, 1029, 102], [101, 3021, 3849, 2000, 2370, 2000, 2022, 8502, 1012, 102], [101, 3021, 3849, 2000, 2032, 2000, 2022, 8502, 1012, 102], [101, 2198, 2097, 2156, 2029, 3861, 1997, 2370, 1029, 102], [101, 2169, 2060, 1005, 1055, 3506, 4025, 2000, 1996, 2308, 2000, 2022, 11721, 18774, 1012, 102], [101, 2169, 2060, 1005, 1055, 3506, 3711, 2000, 1996, 2308, 2000, 2022, 11721, 18774, 1012, 102], [101, 2214, 4620, 1997, 3209, 6427, 1996, 2336, 2000, 9811, 2000, 2022, 6001, 1012, 102], [101, 2169, 2060, 1005, 1055, 3506, 4928, 2000, 1996, 2308, 2008, 2027, 2018, 2919, 5510, 1012, 102], [101, 2122, 3441, 2055, 2370, 4737, 2198, 2062, 2084, 2505, 2842, 1012, 102], [101, 2122, 3441, 2055, 2370, 6235, 2198, 2488, 2084, 2151, 2880, 8308, 1012, 102], [101, 2029, 3861, 2008, 2198, 2165, 2012, 1996, 2283, 2106, 2002, 5630, 2000, 4653, 1999, 2010, 2160, 1029, 102], [101, 2029, 3189, 2008, 2198, 8001, 2106, 2002, 12040, 1029, 102], [101, 2984, 2467, 19233, 14380, 2015, 2000, 14123, 2015, 1012, 102], [101, 2984, 2467, 2038, 6871, 14380, 2015, 2000, 14123, 2015, 1012, 102], [101, 1996, 3899, 2008, 1996, 9350, 2978, 13303, 1996, 4937, 1012, 102], [101, 1996, 4937, 2008, 1996, 3899, 2008, 1996, 9350, 2978, 13303, 2351, 1012, 102], [101, 3744, 2196, 9631, 2023, 3780, 1012, 102], [101, 3744, 9631, 2196, 2023, 3780, 1012, 102], [101, 1037, 3282, 2029, 1045, 2018, 12176, 2253, 2125, 1012, 102], [101, 1045, 2435, 1037, 3282, 2029, 1045, 2018, 12176, 2000, 2026, 2567, 1012, 102], [101, 1045, 2435, 1037, 3282, 2000, 2026, 2567, 2029, 1045, 2018, 12176, 1012, 102], [101, 2002, 2292, 1996, 8870, 2041, 2029, 2020, 1059, 20535, 3070, 1012, 102], [101, 2054, 2106, 3021, 4965, 14629, 1998, 1029, 102], [101, 2054, 21469, 1010, 1040, 2198, 2991, 6680, 1998, 3021, 4929, 1029, 102], [101, 2040, 2106, 2984, 2156, 3788, 2646, 1996, 4296, 2276, 1029, 102], [101, 3183, 2106, 2984, 2156, 3788, 2646, 1996, 4296, 2276, 1029, 102], [101, 2079, 2017, 2113, 1996, 2879, 2040, 2984, 2387, 1029, 102], [101, 2079, 2017, 2113, 1996, 2879, 3183, 2984, 2387, 1029, 102], [101, 1996, 2231, 3653, 29234, 2015, 1996, 4578, 1997, 1996, 25782, 2006, 1996, 4472, 1997, 1996, 4311, 1012, 102], [101, 2182, 2003, 1996, 4586, 7384, 2029, 1045, 13303, 1996, 2879, 2040, 4711, 2012, 2256, 3836, 1012, 102], [101, 2073, 1005, 1055, 1996, 20345, 2029, 3419, 3855, 1996, 2755, 2008, 9790, 2018, 6247, 1029, 102], [101, 2040, 2106, 2002, 5987, 2040, 1045, 2001, 19056, 2007, 2000, 2265, 2039, 1029, 102], [101, 2040, 2106, 2002, 5987, 2000, 2265, 2039, 2040, 1045, 2001, 19056, 2007, 1029, 102], [101, 3005, 2338, 2106, 2017, 2424, 1029, 102], [101, 2002, 2097, 2404, 1996, 3242, 2090, 2070, 2795, 1998, 2070, 10682, 1012, 102], [101, 2054, 2795, 2097, 2002, 2404, 1996, 3242, 2090, 2070, 2795, 1998, 1029, 102], [101, 2054, 2795, 2097, 2002, 2404, 1996, 3242, 2090, 1998, 2070, 10682, 1029, 102], [101, 1045, 2113, 2040, 2003, 5506, 2012, 2198, 1012, 102], [101, 1045, 2113, 1037, 2879, 5506, 2012, 2198, 1012, 102], [101, 2198, 2003, 12283, 2084, 29454, 2140, 1012, 102], [101, 2198, 2003, 12283, 2084, 3021, 2003, 1012, 102], [101, 1045, 2215, 2000, 2175, 1012, 102], [101, 21146, 6455, 2870, 2003, 3697, 2005, 2033, 1012, 102], [101, 1996, 5213, 5028, 2125, 1996, 7738, 1012, 102], [101, 1996, 5213, 5028, 1996, 7738, 2125, 1012, 102], [101, 1045, 2170, 2471, 2035, 1997, 1996, 2273, 2013, 3731, 2039, 1012, 102], [101, 1045, 2743, 1037, 2158, 2040, 2001, 2214, 2091, 1012, 102], [101, 1045, 2743, 2019, 2214, 2158, 2091, 1012, 102], [101, 1045, 1005, 1049, 2183, 2000, 2655, 8307, 2040, 2003, 1012, 102], [101, 1045, 12853, 1996, 18781, 2029, 2001, 2013, 2634, 2039, 1012, 102], [101, 2002, 7108, 1996, 2543, 2000, 1037, 2460, 4984, 1012, 102], [101, 2002, 7108, 2000, 1037, 2460, 4984, 1996, 2543, 1012, 102], [101, 2002, 7108, 2000, 1037, 2460, 4984, 1996, 2543, 2029, 1012, 102], [101, 2002, 4711, 1996, 3661, 2046, 1996, 5949, 25351, 1012, 102], [101, 2002, 4711, 2046, 1996, 5949, 25351, 1996, 3661, 1012, 102], [101, 2027, 7219, 1996, 6378, 2004, 2205, 17047, 1012, 102], [101, 2027, 7219, 2004, 2000, 17047, 1996, 6378, 1012, 102], [101, 2027, 7219, 2004, 2205, 17047, 1996, 6378, 2005, 1996, 2110, 2000, 3857, 1037, 11996, 2013, 16960, 2000, 3044, 1012, 102], [101, 1045, 2179, 2000, 2022, 12090, 2070, 5909, 2029, 1045, 3856, 2039, 2006, 1996, 2126, 2188, 1012, 102], [101, 1045, 2179, 12090, 2070, 5909, 2029, 1045, 3856, 2039, 2006, 2026, 2126, 2188, 1012, 102], [101, 1045, 5136, 2000, 2022, 1037, 7966, 1996, 5205, 2040, 2081, 1996, 3098, 4613, 1012, 102], [101, 2106, 2008, 2198, 3662, 2039, 3531, 2017, 1029, 102], [101, 2106, 1996, 2755, 2008, 2198, 3662, 2039, 3531, 2017, 1029, 102], [101, 2008, 2008, 2198, 3662, 2039, 7537, 2014, 2001, 5793, 1012, 102], [101, 1045, 2215, 1996, 2755, 2008, 3021, 2187, 2000, 3961, 1037, 3595, 1012, 102], [101, 1045, 2215, 2009, 2000, 3961, 1037, 3595, 2008, 3021, 2187, 1012, 102], [101, 2054, 2054, 1045, 8823, 3465, 2471, 3631, 2033, 1012, 102], [101, 2054, 1996, 2518, 2029, 1045, 8823, 3465, 2471, 3631, 2033, 1012, 102], [101, 2054, 1996, 2518, 3465, 2029, 1045, 8823, 2471, 3631, 2033, 1012, 102], [101, 1045, 2253, 2041, 2007, 1037, 2611, 2040, 2008, 2198, 3662, 2039, 7537, 1012, 102], [101, 1045, 2253, 2041, 2007, 1037, 2611, 2040, 2009, 7537, 2008, 2198, 3662, 2039, 1012, 102], [101, 1045, 13190, 1037, 2158, 2040, 2001, 3666, 1996, 2679, 2026, 29549, 1012, 102], [101, 1045, 13190, 2026, 29549, 1037, 2158, 2040, 2001, 3666, 1996, 2679, 1012, 102], [101, 2016, 2356, 1037, 2158, 2040, 2001, 2379, 1996, 3332, 3251, 2009, 2246, 2066, 4542, 1012, 102], [101, 2057, 2170, 2026, 2269, 1010, 2040, 2018, 2074, 2357, 3438, 1010, 2039, 1012, 102], [101, 2057, 2700, 2026, 2269, 1010, 2040, 2018, 2074, 2357, 3438, 1010, 2343, 1012, 102], [101, 2027, 2435, 2026, 2269, 1010, 2040, 2018, 2074, 2357, 3438, 1010, 2009, 1012, 102], [101, 2002, 6618, 2009, 2041, 1012, 102], [101, 2002, 6618, 2041, 2009, 1012, 102], [101, 2002, 6618, 2041, 2008, 1012, 102], [101, 2002, 6618, 5754, 2041, 1012, 102], [101, 2002, 6618, 2041, 5754, 1012, 102], [101, 2002, 6618, 2242, 2041, 1012, 102], [101, 2002, 6618, 1996, 3437, 2041, 1012, 102], [101, 2002, 6618, 2041, 1996, 3437, 1012, 102], [101, 1045, 2741, 2032, 2009, 1012, 102], [101, 1045, 2741, 2032, 2008, 1012, 102], [101, 1045, 2741, 2032, 2242, 1012, 102], [101, 2057, 2700, 1996, 2158, 2040, 2002, 2018, 2716, 2007, 2032, 2343, 1012, 102], [101, 2027, 2435, 1996, 4311, 2029, 2002, 2018, 2716, 2007, 2032, 2000, 2033, 1012, 102], [101, 2002, 2921, 2194, 2070, 3057, 2040, 2018, 2042, 5229, 1999, 1996, 12006, 1012, 102], [101, 2002, 2921, 2070, 3057, 2040, 2018, 2042, 5229, 1999, 1996, 12006, 2194, 1012, 102], [101, 1045, 18292, 2006, 3773, 2083, 2035, 1996, 2493, 2040, 2018, 2318, 2041, 1996, 2744, 1999, 2026, 2465, 1012, 102], [101, 1045, 18292, 1999, 3773, 2035, 1996, 2493, 2040, 2318, 2041, 1996, 2744, 1999, 2026, 2465, 2083, 1012, 102], [101, 1045, 18292, 2006, 3773, 2035, 1996, 3076, 1005, 2083, 2040, 2318, 2041, 1996, 2744, 1999, 2026, 2465, 1012, 102], [101, 1996, 3460, 2716, 2000, 1996, 5467, 2040, 2018, 2979, 3013, 2013, 1996, 11865, 7834, 1012, 102], [101, 2002, 5363, 2000, 2404, 2006, 3071, 2040, 2002, 2987, 1005, 1056, 2066, 1012, 102], [101, 2002, 5363, 2000, 2404, 3071, 2040, 2002, 2987, 1005, 1056, 2066, 2006, 1012, 102], [101, 1045, 3427, 1996, 6505, 2040, 1996, 2158, 2040, 2018, 2042, 2026, 8619, 1999, 2026, 10452, 2095, 2018, 9449, 2033, 2000, 2817, 2043, 1045, 2288, 2000, 6646, 2831, 1012, 102], [101, 3419, 9297, 2004, 2008, 2158, 2515, 1012, 102], [101, 3419, 9297, 2066, 2008, 2158, 1012, 102], [101, 1045, 2113, 1037, 2158, 2040, 3419, 9297, 2004, 2515, 1012, 102], [101, 1045, 2113, 1037, 2158, 2040, 3419, 9297, 2066, 1012, 102], [101, 3419, 9297, 1996, 2126, 2008, 2008, 2158, 9297, 1012, 102], [101, 3419, 2015, 9297, 1996, 2126, 2008, 2008, 2158, 2515, 1012, 102], [101, 2198, 2003, 12283, 2084, 2008, 2158, 2003, 1012, 102], [101, 2003, 12283, 2084, 2008, 2158, 1012, 102], [101, 1045, 2113, 1037, 2158, 2040, 2198, 2003, 12283, 2084, 2003, 1012, 102], [101, 2198, 2003, 2004, 4206, 2004, 2008, 2158, 1012, 102], [101, 1045, 2113, 1037, 2158, 2040, 2198, 2003, 2004, 4206, 2004, 2003, 1012, 102], [101, 1045, 2113, 1037, 2158, 2040, 2198, 2003, 2004, 4206, 2004, 1012, 102], [101, 2984, 2038, 2196, 4782, 1037, 2158, 2040, 2003, 12283, 2084, 2198, 2003, 1012, 102], [101, 2984, 2038, 2196, 4782, 1037, 2158, 2040, 2003, 12283, 2084, 2198, 1012, 102], [101, 2984, 2038, 2196, 4782, 1037, 2158, 12283, 2084, 2198, 1012, 102], [101, 2984, 2038, 2196, 4782, 1037, 2158, 12283, 2084, 2198, 2003, 1012, 102], [101, 2984, 2038, 2196, 4782, 2004, 4206, 1037, 2158, 2004, 2198, 2003, 1012, 102], [101, 2984, 2038, 2196, 4782, 2004, 4206, 1037, 2158, 2004, 2198, 1012, 102], [101, 1996, 9191, 2024, 2025, 4452, 2000, 3280, 1012, 102], [101, 14759, 8870, 2024, 2524, 2000, 5343, 1012, 102], [101, 14759, 8870, 2003, 2114, 1996, 2375, 1012, 102], [101, 1045, 2113, 1037, 12283, 2158, 2084, 2198, 1012, 102], [101, 1996, 5008, 1997, 1996, 5895, 7135, 2033, 1012, 102], [101, 2002, 2409, 2848, 2008, 1045, 2113, 1037, 12283, 2158, 2084, 2198, 1010, 2021, 2848, 2134, 1005, 1056, 2903, 2009, 1012, 102], [101, 1045, 4487, 19722, 28875, 2094, 2043, 3021, 5763, 2000, 2655, 2033, 1010, 2021, 1045, 2106, 2061, 11206, 1012, 102], [101, 1045, 1005, 2222, 2831, 2000, 2198, 2006, 5958, 2055, 1996, 3189, 2008, 1996, 5008, 1997, 1996, 5895, 7135, 2033, 1010, 1998, 2000, 2010, 2564, 2006, 5095, 1012, 102], [101, 1045, 3191, 1037, 4861, 2029, 2001, 2055, 2008, 2158, 1012, 102], [101, 1045, 3191, 1037, 4861, 2055, 2008, 2158, 1012, 102], [101, 1996, 2158, 2040, 1045, 3191, 1037, 4861, 2029, 2001, 2055, 2003, 5305, 1012, 102], [101, 1996, 2158, 2040, 1045, 3191, 1037, 4861, 2055, 2003, 5305, 1012, 102], [101, 1045, 3191, 2008, 3021, 2018, 2464, 2033, 1012, 102], [101, 1045, 3191, 2008, 3021, 2018, 2464, 2870, 1012, 102], [101, 3350, 2008, 2002, 2001, 7144, 2097, 2022, 3591, 1012, 102], [101, 3350, 2097, 2022, 3591, 2008, 2002, 2001, 7144, 1012, 102], [101, 2008, 1996, 13474, 2018, 2042, 12726, 2001, 18890, 2135, 6380, 2011, 2010, 5160, 1012, 102], [101, 3021, 2409, 2033, 2242, 9643, 1024, 2008, 3256, 2180, 1005, 1056, 7752, 1012, 102], [101, 2023, 2003, 1037, 6045, 2029, 1045, 1005, 1049, 2183, 2000, 2156, 2000, 2009, 2008, 2026, 2564, 23311, 1012, 102], [101, 2023, 2003, 1037, 6045, 2029, 1045, 1005, 1049, 2183, 2000, 2156, 2008, 2026, 2564, 23311, 1012, 102], [101, 13569, 26737, 4282, 1037, 2611, 2040, 2003, 9981, 1997, 20446, 2063, 1012, 102], [101, 13569, 26737, 4282, 1037, 2611, 2040, 2003, 2369, 20446, 2063, 1012, 102], [101, 13569, 26737, 4282, 1037, 2611, 2040, 2003, 2551, 2007, 20446, 2063, 1012, 102], [101, 2040, 2515, 13569, 26737, 2113, 1037, 2611, 2040, 2003, 9981, 1997, 1029, 1012, 102], [101, 2040, 2515, 13569, 26737, 2113, 1037, 2611, 2040, 2003, 2369, 1029, 102], [101, 2040, 2515, 13569, 26737, 2113, 1037, 2611, 2040, 2003, 2551, 2007, 1029, 102], [101, 2040, 2515, 13569, 26737, 2113, 1037, 2611, 9981, 1997, 1029, 102], [101, 2040, 2515, 13569, 26737, 2113, 1037, 2611, 2369, 1029, 102], [101, 2040, 2515, 13569, 26737, 2113, 1037, 2611, 2551, 2007, 1029, 102], [101, 1045, 3373, 1996, 4366, 2008, 8064, 2001, 4147, 2023, 6045, 1012, 102], [101, 1045, 3373, 2008, 8064, 2001, 4147, 2023, 6045, 1012, 102], [101, 1996, 6045, 2029, 1045, 3373, 1996, 4366, 2008, 8064, 2001, 4147, 2003, 2417, 1012, 102], [101, 1996, 6045, 2029, 1045, 3373, 2008, 8064, 2001, 4147, 2003, 2417, 1012, 102], [101, 18472, 19821, 2370, 1012, 102], [101, 18472, 2003, 5319, 1012, 2011, 2370, 1012, 102], [101, 1996, 2158, 2040, 3641, 3256, 6949, 2056, 1996, 29593, 2052, 2022, 11937, 21756, 1012, 102], [101, 1996, 29593, 2029, 1996, 2158, 2040, 3641, 3256, 6949, 2056, 2052, 2022, 11937, 21756, 2001, 1037, 5469, 2265, 1012, 102], [101, 1996, 2158, 2040, 3641, 2009, 2056, 1996, 29593, 2052, 2022, 11937, 21756, 1012, 102], [101, 1996, 29593, 2029, 1996, 2158, 2040, 3641, 2009, 2056, 2052, 2022, 11937, 21756, 2001, 1037, 5469, 2265, 1012, 102], [101, 1996, 6458, 6380, 2008, 20067, 2015, 2018, 26470, 2094, 2032, 1012, 102], [101, 2008, 20067, 2015, 2018, 26470, 2094, 2032, 2001, 6380, 2011, 1996, 6458, 1012, 102], [101, 1996, 2769, 2029, 1045, 2572, 10537, 1996, 4366, 2008, 1996, 2194, 5490, 13860, 4063, 2098, 8310, 2000, 1002, 4278, 1010, 2199, 1012, 102], [101, 1996, 2769, 2029, 1045, 2572, 10537, 4532, 1005, 1055, 4366, 2008, 1996, 2194, 5490, 13860, 4063, 2098, 8310, 2000, 1002, 4278, 1010, 2199, 1012, 102], [101, 1996, 2769, 2029, 1045, 2031, 8069, 2008, 1996, 2194, 2097, 5490, 13860, 4063, 8310, 2000, 1002, 4278, 1010, 2199, 1012, 102], [101, 1996, 2769, 2029, 1045, 2097, 2031, 1037, 3382, 2000, 5490, 13860, 4063, 8310, 2000, 1002, 4278, 1010, 2199, 1012, 102], [101, 1996, 2769, 2029, 1045, 2097, 2191, 1037, 6378, 2005, 2149, 2000, 5490, 13860, 4063, 8310, 2000, 1002, 4278, 1010, 2199, 1012, 102], [101, 1996, 2769, 2029, 1045, 2097, 2191, 1037, 6378, 2008, 2057, 5490, 13860, 4063, 8310, 2000, 1002, 4278, 1010, 2199, 1012, 102], [101, 1045, 27626, 1012, 102], [101, 3520, 12506, 1012, 102], [101, 3021, 2435, 2033, 1002, 2871, 1012, 102], [101, 1045, 2165, 1037, 1055, 3630, 18153, 2063, 1012, 102], [101, 3520, 2081, 5082, 1012, 102], [101, 3021, 2081, 1037, 5592, 2000, 2033, 1997, 1002, 2871, 1012, 102], [101, 4098, 2435, 1996, 2482, 1037, 14738, 1012, 102], [101, 1045, 2031, 1037, 3110, 2008, 7905, 2097, 2265, 2039, 1012, 102], [101, 3960, 4928, 2008, 2023, 2275, 2003, 28667, 9236, 3512, 1012, 102], [101, 3960, 4928, 2023, 2275, 2003, 28667, 9236, 3512, 1012, 102], [101, 1996, 6947, 2008, 2023, 2275, 2003, 28667, 9236, 3512, 2003, 3697, 1012, 102], [101, 1045, 2031, 8069, 1996, 2194, 2097, 5490, 13860, 4063, 1996, 2769, 1012, 102], [101, 1045, 2031, 1037, 3110, 1996, 2194, 2097, 5490, 13860, 4063, 1996, 2769, 1012, 102], [101, 1045, 2081, 1037, 6378, 2057, 5490, 13860, 4063, 1996, 2769, 1012, 102], [101, 5980, 1005, 1055, 4366, 2008, 28081, 2003, 11416, 6024, 2003, 17463, 14122, 10624, 2271, 1012, 102], [101, 2057, 2024, 10537, 2037, 4366, 2008, 3909, 12901, 2869, 2024, 2613, 1012, 102], [101, 2026, 4948, 2003, 2437, 10514, 14272, 1005, 1055, 4366, 2008, 2757, 2003, 2488, 2084, 2417, 1012, 102], [101, 2026, 4948, 2003, 2437, 1996, 4366, 2008, 2757, 2003, 2488, 2084, 2417, 1012, 102], [101, 1045, 2031, 3419, 1005, 1055, 3110, 2008, 1996, 2194, 2097, 5490, 13860, 4063, 1996, 2769, 1012, 102], [101, 23020, 2165, 9306, 1005, 1055, 1055, 3630, 18153, 2063, 1012, 102], [101, 3021, 2081, 4532, 1005, 1055, 14891, 2000, 2033, 1997, 1002, 2871, 1012, 102], [101, 4098, 2435, 1996, 2482, 11902, 1005, 1055, 14738, 1012, 102], [101, 1996, 2158, 2040, 2001, 4727, 2011, 2961, 3960, 2253, 5506, 1012, 102], [101, 2990, 2003, 6815, 2008, 2017, 2180, 1005, 1056, 2342, 2009, 1012, 102], [101, 2990, 2003, 6815, 2017, 2180, 1005, 1056, 2342, 2009, 1012, 102], [101, 1996, 4366, 2017, 2180, 1005, 1056, 2342, 2009, 2003, 2108, 2081, 2011, 2990, 1012, 102], [101, 2017, 1005, 2128, 2183, 2000, 3480, 4426, 2028, 1997, 2122, 2420, 1012, 102], [101, 1045, 3764, 2000, 3021, 2055, 2370, 1012, 102], [101, 2002, 2056, 2008, 2370, 2001, 7501, 1012, 102], [101, 1045, 2113, 1037, 2158, 2040, 16424, 2033, 1012, 102], [101, 1045, 2113, 1037, 2158, 2040, 16424, 2870, 1012, 102], [101, 1045, 3191, 2032, 2048, 8635, 2055, 2370, 1012, 102], [101, 1045, 3191, 2032, 12120, 1005, 1055, 4861, 2055, 2370, 1012, 102], [101, 1045, 2113, 2048, 2273, 2040, 2024, 2369, 2033, 1012, 102], [101, 1045, 2113, 2048, 2273, 2369, 2033, 1012, 102], [101, 1045, 2113, 2048, 2273, 2369, 2870, 1012, 102], [101, 2017, 2024, 2205, 11238, 2007, 2111, 2040, 2024, 9981, 1997, 2017, 1012, 102], [101, 1045, 7210, 2012, 2070, 2336, 2040, 2020, 3666, 2033, 1012, 102], [101, 1045, 7210, 2012, 2070, 2336, 3666, 2033, 1012, 102], [101, 2054, 10682, 2097, 2002, 2404, 1996, 3242, 2090, 2070, 2795, 1998, 1029, 102], [101, 2054, 2795, 2097, 2002, 2404, 1996, 3242, 2090, 1998, 2070, 10682, 1012, 102], [101, 1996, 11320, 2618, 2029, 2888, 3248, 1998, 10955, 5506, 3089, 9692, 2015, 2003, 25618, 1012, 102], [101, 1996, 6821, 2040, 12853, 2014, 13914, 1998, 1996, 22088, 5677, 24806, 2026, 4171, 2001, 1037, 8855, 1012, 102], [101, 2029, 13914, 2106, 1996, 6821, 3907, 1998, 1029, 102], [101, 1996, 22088, 5677, 2040, 1996, 6821, 12853, 2014, 13914, 1998, 24806, 2026, 4171, 2001, 1037, 2002, 6199, 2100, 3507, 1012, 102], [101, 3005, 4171, 2106, 1996, 6821, 3907, 2014, 13914, 1998, 1996, 22088, 5677, 24134, 1029, 102], [101, 20868, 2863, 8871, 1996, 10447, 1010, 1998, 8836, 9550, 1010, 1998, 12305, 18373, 2094, 1012, 102], [101, 1045, 2253, 2000, 1996, 3573, 1998, 4149, 2070, 21265, 1012, 102], [101, 1045, 2253, 2000, 1996, 3573, 1998, 18368, 4149, 2070, 21265, 1012, 102], [101, 2182, 1005, 1055, 1996, 21265, 2029, 1045, 2253, 2000, 1996, 3573, 1998, 4149, 1012, 102], [101, 2182, 1005, 1055, 1996, 21265, 2029, 1045, 2253, 2000, 1996, 3573, 1998, 3505, 4149, 1012, 102], [101, 4116, 2038, 1037, 18550, 1998, 2095, 3619, 2005, 1037, 4206, 6821, 1012, 102], [101, 1996, 4206, 6821, 2040, 4116, 2038, 1037, 18550, 1998, 2095, 3619, 2005, 2003, 10311, 2000, 2032, 1012, 102], [101, 1996, 11344, 2029, 1045, 2253, 2000, 1996, 5691, 1998, 2134, 1005, 1056, 4060, 2039, 2097, 3465, 2149, 1037, 2843, 1997, 2769, 1012, 102], [101, 1045, 2253, 2000, 1996, 3573, 1998, 2031, 4149, 2070, 6581, 21265, 1012, 102], [101, 1996, 6581, 21265, 2029, 1045, 2253, 2000, 1996, 3573, 1998, 2031, 4149, 2001, 2200, 17047, 1012, 102], [101, 1045, 2253, 2000, 1996, 3573, 2000, 4965, 2070, 21265, 1012, 102], [101, 4116, 2038, 1037, 18550, 2000, 2095, 2078, 2005, 1037, 4206, 6821, 1012, 102], [101, 1045, 2253, 2000, 1996, 5691, 2025, 2000, 4060, 1996, 11344, 2039, 1012, 102], [101, 1045, 2253, 2000, 1996, 5691, 2000, 2025, 4060, 1996, 11344, 2039, 1012, 102], [101, 1045, 2253, 2000, 1996, 3573, 2000, 2031, 4149, 2070, 21265, 1012, 102], [101, 2016, 1005, 1055, 2908, 1998, 9868, 2014, 4377, 2085, 1012, 102], [101, 1045, 1005, 2310, 2288, 2000, 3046, 1998, 2424, 2008, 11224, 1012, 102], [101, 5916, 6045, 9515, 4122, 2017, 2000, 2022, 3835, 1998, 3610, 2115, 19794, 1012, 102], [101, 1996, 11224, 2029, 1045, 1005, 2310, 2288, 2000, 3046, 1998, 2424, 4324, 1996, 2341, 2000, 1996, 4853, 1012, 102], [101, 2029, 19794, 2515, 5916, 6045, 9515, 2215, 2033, 2000, 2022, 3835, 1998, 3610, 1029, 102], [101, 1996, 2879, 2573, 1999, 1037, 24581, 1998, 1996, 2611, 1999, 1037, 22035, 12325, 2102, 12570, 1012, 102], [101, 2029, 2879, 2573, 1999, 1037, 24581, 1998, 1996, 2611, 1999, 1037, 22035, 12325, 2102, 12570, 1029, 102], [101, 1996, 24581, 2029, 1996, 2879, 2573, 1999, 1998, 1996, 2611, 1999, 1037, 22035, 12325, 2102, 12570, 7460, 2000, 4470, 3520, 1012, 102], [101, 1996, 2611, 2040, 1996, 2011, 2573, 1999, 1037, 24581, 1998, 1999, 1037, 22035, 12325, 2102, 2021, 2038, 1037, 11737, 10814, 2006, 2014, 4451, 1012, 102], [101, 2029, 22035, 12325, 2102, 12570, 2515, 1996, 2879, 2147, 1999, 1037, 24581, 1998, 1996, 2611, 1999, 1029, 102], [101, 1996, 11320, 11020, 6313, 14556, 2040, 5006, 2253, 2000, 1996, 5691, 2007, 2097, 21981, 2033, 9413, 2063, 1996, 22822, 2078, 1012, 102], [101, 1996, 11320, 11020, 6313, 14556, 2040, 5006, 1998, 2253, 2000, 1996, 5691, 2097, 21981, 2033, 9413, 2063, 1996, 22822, 2078, 1012, 102], [101, 1996, 13632, 2029, 15541, 4149, 2013, 2033, 1998, 8755, 4748, 16610, 2032, 3465, 2032, 1037, 14012, 1012, 102], [101, 1996, 13632, 2029, 15541, 1010, 2040, 8755, 4748, 16610, 1010, 4149, 2013, 2033, 3465, 2032, 1037, 14012, 1012, 102], [101, 8836, 2453, 2022, 6875, 1010, 1998, 3071, 7164, 15062, 5791, 2003, 6875, 1012, 102], [101, 8836, 2453, 2022, 1010, 1998, 3071, 7164, 15062, 5791, 2003, 1010, 6875, 1012, 102], [101, 3419, 3856, 2122, 16575, 1010, 1998, 1045, 8871, 2122, 16575, 1010, 1998, 10514, 14272, 2097, 7374, 2122, 16575, 1012, 102], [101, 3419, 3856, 1010, 1998, 1045, 8871, 1010, 1998, 10514, 14272, 2097, 7374, 1010, 2122, 16575, 1012, 102], [101, 3419, 3856, 1010, 1998, 1045, 8871, 2070, 2735, 11514, 2015, 1010, 1998, 10514, 14272, 2097, 7374, 1010, 2122, 16575, 1012, 102], [101, 2493, 2040, 8246, 1996, 2345, 11360, 2030, 2040, 2079, 2025, 2079, 1996, 3752, 2097, 2022, 6472, 1012, 102], [101, 2493, 2040, 8246, 1996, 2345, 11360, 2097, 2022, 6472, 2030, 2493, 2040, 2079, 2025, 2079, 1996, 3752, 2097, 2022, 6472, 1012, 102], [101, 2198, 2038, 2042, 4110, 2011, 1996, 10558, 1998, 1045, 1005, 1049, 4452, 2002, 1005, 2222, 2831, 1012, 102], [101, 1045, 9685, 2039, 1996, 4157, 1998, 8836, 8342, 1996, 2795, 2125, 1012, 102], [101, 2348, 3960, 2089, 2025, 2022, 1037, 17490, 1010, 2116, 2111, 2031, 3555, 2009, 1998, 1045, 2228, 2061, 2205, 1012, 102], [101, 2348, 3960, 2089, 2025, 2022, 1037, 17490, 1010, 2116, 2111, 2031, 3555, 1998, 1045, 2228, 2061, 2205, 1012, 102], [101, 2043, 2106, 2017, 2131, 2067, 1998, 2054, 2106, 2017, 3288, 2033, 1029, 102], [101, 2191, 4426, 6625, 1012, 102], [101, 2106, 21442, 2615, 2265, 2039, 1998, 2106, 2017, 2377, 7433, 1029, 102], [101, 8836, 1005, 1055, 5305, 1998, 2054, 2106, 2017, 3288, 2033, 1029, 102], [101, 2191, 4426, 6625, 1998, 1045, 2288, 5305, 1012, 102], [101, 2054, 2024, 2017, 5983, 2030, 2106, 2017, 2377, 7433, 1029, 102], [101, 2029, 2879, 1998, 1996, 2611, 14218, 1029, 102], [101, 1045, 1005, 1049, 7501, 1998, 2106, 2017, 2377, 7433, 1029, 102], [101, 2040, 8823, 2054, 1029, 102], [101, 2054, 9913, 2043, 1029, 102], [101, 2040, 2435, 2054, 2000, 3183, 1029, 102], [101, 2129, 2146, 2106, 2023, 4906, 1997, 26161, 2197, 1998, 2040, 2435, 2054, 2000, 3183, 1029, 102], [101, 1045, 2387, 2017, 2045, 1998, 2040, 8823, 2054, 1029, 102], [101, 2054, 9913, 2043, 1998, 1045, 7420, 2017, 2009, 2052, 1029, 102], [101, 3531, 2191, 4426, 6625, 1998, 1045, 1005, 2222, 9378, 1996, 10447, 1012, 102], [101, 2017, 3531, 2191, 4426, 6625, 1998, 1045, 1005, 2222, 9378, 1996, 10447, 1012, 102], [101, 4302, 2097, 2022, 1999, 1996, 9622, 2279, 2095, 1998, 11458, 2001, 7462, 2197, 2305, 1012, 102], [101, 14673, 2003, 2175, 15343, 2091, 15653, 11227, 5514, 2084, 1045, 2064, 2128, 20192, 2102, 2068, 1012, 102], [101, 1045, 2215, 2000, 7304, 3366, 2008, 3206, 2077, 15242, 2009, 2185, 1012, 102], [101, 5965, 9538, 1996, 11002, 1999, 25223, 2989, 2009, 2039, 1012, 102], [101, 1996, 15653, 11227, 2029, 14673, 2003, 2175, 15343, 2091, 5514, 2084, 1045, 2064, 2128, 20192, 2102, 2024, 5186, 11937, 21756, 1010, 2065, 1045, 2079, 2360, 2061, 1012, 102], [101, 1996, 11002, 2029, 5965, 9538, 1999, 5291, 2039, 2001, 1996, 2785, 5592, 1997, 2026, 11062, 5916, 25193, 1012, 102], [101, 1045, 2215, 2000, 7304, 3366, 2008, 3206, 2077, 15011, 2009, 2096, 15242, 2009, 2185, 1012, 102], [101, 14673, 2003, 2175, 15343, 2091, 15653, 11227, 5514, 2084, 1045, 2064, 2128, 20192, 2102, 1996, 6240, 18510, 1012, 102], [101, 1045, 2215, 2000, 7304, 3366, 2008, 3206, 2077, 15242, 2185, 1996, 15046, 1012, 102], [101, 5965, 9538, 1996, 11002, 1999, 5291, 2039, 1996, 2813, 23298, 1012, 102], [101, 1045, 2228, 12918, 2089, 2031, 17672, 1996, 6240, 18510, 2029, 14673, 2003, 2175, 15343, 2091, 15653, 11227, 5514, 2084, 1045, 2064, 2128, 20192, 2102, 1012, 102], [101, 1996, 15046, 2029, 1045, 2215, 2000, 7304, 3366, 2008, 3206, 2077, 15242, 2185, 2003, 2763, 1037, 15681, 2854, 1012, 102], [101, 1996, 15653, 11227, 2029, 14673, 2003, 2175, 15343, 2091, 5514, 2084, 1045, 2064, 2128, 20192, 2102, 1996, 6240, 18510, 2024, 5186, 11937, 21756, 1010, 2065, 1045, 2079, 2360, 2061, 1012, 102], [101, 1045, 8343, 2008, 1996, 3206, 2029, 1045, 2215, 2000, 7304, 3366, 2077, 15242, 2185, 1996, 15046, 2089, 2070, 7077, 19990, 1012, 102], [101, 1996, 11002, 2029, 5965, 9538, 1999, 5291, 1996, 2813, 23298, 2039, 2001, 1996, 2785, 5592, 1997, 2026, 11062, 5916, 25193, 1012, 102], [101, 1996, 15653, 11227, 2029, 14673, 2003, 2175, 15343, 2091, 5514, 2084, 1045, 2064, 2128, 20192, 2102, 2068, 2024, 5186, 11937, 21756, 1010, 2065, 1045, 2079, 2360, 2061, 1012, 102], [101, 4311, 2029, 1996, 2231, 3653, 29234, 2015, 1996, 4578, 1997, 1996, 25782, 2006, 1996, 4472, 1997, 2024, 26597, 11771, 1012, 102], [101, 4311, 1996, 4472, 1997, 2029, 1996, 2231, 3653, 29234, 2015, 1996, 4578, 1997, 1996, 25782, 2006, 2471, 2467, 2404, 2033, 2000, 3637, 1012, 102], [101, 4311, 1996, 25782, 2006, 1996, 4472, 1997, 2029, 1996, 2231, 3653, 29234, 2015, 1996, 4578, 1997, 2024, 1037, 16880, 5949, 1997, 2270, 5029, 1012, 102], [101, 4311, 1996, 4578, 1997, 1996, 25782, 2006, 1996, 4472, 1997, 2029, 1996, 2231, 3653, 29234, 2015, 2323, 2022, 8961, 1012, 102], [101, 4311, 1997, 2029, 1996, 2231, 3653, 29234, 2015, 1996, 4578, 1997, 1996, 25782, 2006, 1996, 4472, 2024, 26597, 11771, 1012, 102], [101, 4311, 2006, 1996, 4472, 1997, 2029, 1996, 2231, 3653, 29234, 2015, 1996, 4578, 1997, 1996, 25782, 2471, 2467, 2404, 2033, 2000, 3637, 1012, 102], [101, 4311, 1997, 1996, 25782, 2006, 1996, 4472, 1997, 2029, 1996, 2231, 3653, 29234, 2015, 1996, 4578, 2024, 16880, 5949, 1997, 2270, 5029, 1012, 102], [101, 2002, 2038, 2808, 2011, 2195, 3306, 6048, 1012, 102], [101, 2029, 3306, 6048, 2515, 2002, 2031, 2808, 2011, 1029, 102], [101, 2011, 2029, 3306, 6048, 2515, 2002, 2031, 2808, 1029, 102], [101, 1996, 2879, 2040, 1045, 3427, 3021, 1998, 2001, 15784, 1012, 102], [101, 1996, 2879, 3021, 1998, 2040, 1045, 3427, 2001, 15784, 1012, 102], [101, 2027, 2097, 2507, 2033, 1037, 6045, 2029, 1045, 2113, 2008, 1045, 2180, 1005, 1056, 2066, 1012, 102], [101, 2027, 2097, 2507, 2033, 1037, 6045, 2008, 1045, 2180, 1005, 1056, 2066, 2029, 1045, 2113, 1012, 102], [101, 1996, 2879, 3005, 6697, 1005, 1055, 7904, 2057, 2700, 2343, 12056, 2149, 1012, 102], [101, 1996, 2879, 3005, 6697, 1005, 1055, 2057, 2700, 11194, 2343, 12056, 2149, 1012, 102], [101, 1996, 2879, 3005, 2057, 2700, 6697, 1005, 1055, 6697, 1005, 1055, 11194, 2343, 12056, 2149, 1012, 102], [101, 1045, 1005, 1049, 2183, 2000, 3198, 3021, 2000, 2191, 1996, 2214, 20277, 6290, 2202, 2039, 2122, 2685, 2101, 1012, 102], [101, 2122, 2685, 1045, 1005, 1049, 2183, 2000, 3198, 3021, 2000, 2191, 1996, 2214, 20277, 6290, 2202, 2039, 2101, 1012, 102], [101, 1996, 2879, 1005, 1055, 14240, 1005, 11194, 2057, 2700, 2343, 1012, 102], [101, 1996, 2879, 1005, 1055, 6697, 1005, 1055, 2057, 2700, 11194, 2343, 1012, 102], [101, 1996, 2879, 1005, 1055, 2057, 2700, 6697, 1005, 1055, 11194, 2343, 1012, 102], [101, 2057, 2700, 2343, 1996, 2879, 1005, 1055, 6697, 1005, 1055, 11194, 1012, 102], [101, 2057, 2700, 11194, 2343, 1996, 2879, 1005, 1055, 6697, 1005, 1055, 1012, 102], [101, 2057, 2700, 6697, 1005, 1055, 11194, 2343, 1996, 2879, 1012, 102], [101, 2029, 2879, 1005, 1055, 6697, 1005, 1055, 11194, 2106, 2057, 11322, 2343, 1029, 1012, 102], [101, 2029, 2879, 1005, 1055, 6697, 1005, 1055, 2106, 2057, 11322, 11194, 2343, 1029, 102], [101, 2129, 2031, 2017, 3856, 2039, 24048, 23358, 2135, 1029, 102], [101, 2129, 23358, 2135, 2031, 2017, 3856, 2039, 24048, 1029, 102], [101, 15062, 2496, 2008, 4206, 1037, 2158, 1012, 102], [101, 2129, 4206, 1037, 2158, 2106, 15062, 5914, 1029, 102], [101, 2129, 4206, 2106, 15062, 5914, 1037, 2158, 1029, 102], [101, 2129, 2106, 15062, 5914, 4206, 1037, 2158, 1029, 102], [101, 2006, 2029, 2793, 2515, 3419, 3637, 1029, 102], [101, 1996, 2793, 2006, 2029, 3419, 7771, 2001, 2524, 1012, 102], [101, 2029, 2793, 2106, 3419, 3637, 2006, 1029, 102], [101, 1996, 2793, 2029, 3419, 7771, 2006, 2001, 2524, 1012, 102], [101, 2026, 2905, 3369, 2012, 1037, 2051, 2043, 2053, 7793, 2020, 2770, 1010, 1998, 2026, 2567, 3369, 2012, 1037, 2051, 2043, 2053, 7793, 2020, 2770, 2205, 1012, 102], [101, 2990, 5419, 1999, 1037, 8075, 5450, 1998, 1996, 6842, 5419, 1999, 1037, 8075, 5450, 2205, 1012, 102], [101, 2990, 5419, 1999, 1037, 8075, 5450, 1998, 10115, 5419, 1999, 2028, 2205, 1012, 102], [101, 2054, 2051, 2106, 2017, 7180, 2012, 1029, 102], [101, 1996, 5450, 2029, 2990, 5419, 1999, 2001, 17109, 1012, 102], [101, 1996, 2173, 2029, 1045, 2444, 2012, 2003, 1996, 2173, 2073, 2799, 5018, 7821, 1996, 6842, 2314, 1012, 102], [101, 1996, 2069, 9064, 2040, 1045, 1005, 1040, 2066, 2000, 2079, 2185, 2007, 2024, 2026, 5916, 2015, 1012, 102], [101, 2008, 3116, 1045, 1005, 1040, 2066, 2000, 4133, 1999, 2006, 1012, 102], [101, 1996, 2069, 9064, 2007, 3183, 1045, 1005, 1040, 2066, 2000, 2079, 2185, 2024, 2026, 5916, 2015, 1012, 102], [101, 2000, 3183, 2003, 2016, 2667, 2000, 2191, 2039, 2085, 1029, 102], [101, 2006, 2008, 3116, 1045, 1005, 1040, 2066, 2000, 4133, 1999, 1012, 102], [101, 2005, 3005, 2916, 2079, 2017, 5987, 2033, 2000, 3713, 2039, 1029, 102], [101, 2028, 2933, 2029, 1045, 2288, 3612, 1997, 2001, 10174, 2000, 2562, 2149, 1999, 23873, 1012, 102], [101, 2106, 2017, 5060, 2029, 8190, 2016, 2081, 1012, 102], [101, 2040, 2024, 2017, 2667, 2000, 2131, 2907, 1997, 1029, 102], [101, 2028, 2933, 1997, 2029, 1045, 2288, 3612, 2001, 10174, 2000, 2562, 2149, 1999, 23873, 1012, 102], [101, 2106, 2017, 5060, 1997, 2029, 8190, 2016, 2081, 2422, 1029, 102], [101, 1997, 3183, 2024, 2017, 2667, 2000, 2131, 2907, 1029, 102], [101, 1996, 2069, 3749, 1997, 2029, 1045, 2933, 2000, 2202, 5056, 2097, 2507, 2033, 2019, 5408, 3204, 3825, 10885, 1012, 102], [101, 1996, 5019, 2000, 2029, 1996, 8292, 29577, 2015, 2165, 22224, 2018, 2000, 2079, 2007, 1996, 3816, 3510, 1997, 1037, 2450, 1998, 1037, 5016, 25462, 1012, 102], [101, 5056, 2097, 2022, 2579, 1997, 2010, 3749, 1012, 102], [101, 2010, 3749, 2097, 2022, 2579, 5056, 1997, 1012, 102], [101, 1999, 2023, 7551, 1010, 7426, 10857, 2442, 2022, 2921, 2650, 1997, 7453, 1012, 102], [101, 22224, 2001, 2579, 2000, 1996, 3091, 1997, 2256, 18184, 1012, 102], [101, 1037, 2933, 2000, 13676, 2019, 13556, 2203, 2000, 1996, 2162, 1999, 5148, 2001, 5407, 3612, 1997, 1012, 102], [101, 2422, 2001, 2081, 1997, 2014, 27427, 2483, 16748, 9285, 1012, 102], [101, 2014, 27427, 2483, 16748, 9285, 2020, 2081, 2422, 1997, 1012, 102], [101, 2907, 2038, 2042, 5407, 1997, 2070, 4678, 2214, 10485, 1012, 102], [101, 2070, 4678, 2214, 10485, 2031, 2042, 5407, 2907, 1997, 1012, 102], [101, 2224, 2001, 2081, 1997, 11721, 17854, 1005, 1055, 17505, 3393, 14760, 1012, 102], [101, 21628, 2015, 2020, 2921, 2006, 2035, 5381, 5738, 1996, 2276, 1012, 102], [101, 1996, 5381, 2006, 3183, 2057, 2921, 21628, 2015, 2035, 4928, 2000, 2022, 7036, 1012, 102], [101, 4752, 2001, 2018, 1999, 2035, 7957, 1997, 2111, 1012, 102], [101, 2026, 2814, 3505, 5720, 2000, 2055, 4331, 7483, 1012, 102], [101, 2000, 2026, 2814, 3505, 5720, 2055, 4331, 7483, 1012, 102], [101, 3505, 5720, 2000, 2055, 4331, 7483, 2026, 2814, 1012, 102], [101, 2016, 2081, 2422, 1010, 2025, 2205, 10889, 1010, 1997, 1996, 8190, 2057, 2453, 2031, 2012, 1996, 3675, 1012, 102], [101, 1045, 2435, 2000, 1996, 2961, 1999, 3715, 1996, 2304, 17364, 1012, 2029, 1045, 2018, 2179, 1999, 1996, 17387, 15723, 1012, 102], [101, 1045, 2572, 9657, 1997, 1010, 1998, 2026, 5795, 9041, 2006, 1010, 1037, 3144, 26256, 2012, 1996, 2650, 1012, 102], [101, 1996, 2118, 1005, 1055, 2493, 2024, 9414, 1998, 4513, 2003, 5462, 2000, 4071, 1012, 102], [101, 1996, 2879, 1005, 1055, 4470, 1998, 5916, 2020, 7618, 1012, 102], [101, 1996, 2879, 3005, 4470, 1998, 3419, 1005, 1055, 5916, 1005, 1055, 7133, 2020, 7618, 2001, 9943, 1012, 102], [101, 2040, 2024, 2017, 11721, 26291, 2075, 2012, 1029, 102], [101, 2029, 6045, 2079, 2017, 2903, 2008, 2016, 2196, 5078, 1029, 102], [101, 1996, 12060, 3517, 2008, 1996, 4054, 2052, 2543, 2070, 3836, 1012, 102], [101, 2008, 1996, 4054, 2052, 2543, 2070, 3836, 2001, 3517, 2011, 1996, 12060, 1012, 102], [101, 1996, 3836, 2040, 1996, 12060, 3517, 2008, 1996, 4054, 2052, 2543, 2003, 1037, 19116, 2100, 2214, 12181, 1012, 102], [101, 1996, 3836, 2040, 2008, 1996, 4054, 2052, 2543, 2001, 3517, 2011, 1996, 12060, 2003, 1037, 19116, 2100, 2214, 12181, 1012, 102], [101, 1996, 3836, 2040, 2009, 2001, 3517, 2011, 1996, 12060, 2008, 1996, 4054, 2052, 2543, 2003, 1037, 19116, 2100, 2214, 12181, 1012, 102], [101, 1996, 6045, 2029, 2008, 1045, 2716, 2790, 4326, 2000, 1996, 6821, 2001, 1037, 7349, 6525, 1012, 102], [101, 1045, 18966, 1996, 2879, 1005, 1055, 2652, 1996, 3682, 9928, 1012, 102], [101, 1996, 2879, 3005, 5189, 2652, 1997, 1996, 3682, 1045, 18966, 2001, 1037, 3076, 1012, 102], [101, 1996, 3682, 2029, 1045, 18966, 1996, 2879, 1005, 1055, 2652, 9928, 2001, 6649, 2041, 1997, 8694, 1012, 102], [101, 1996, 2879, 1005, 1055, 5189, 2652, 1997, 1996, 3682, 5225, 3071, 4689, 1012, 102], [101, 1996, 2879, 1005, 1055, 2652, 1996, 3682, 9928, 5225, 3071, 4689, 1012, 102], [101, 2008, 3682, 1010, 1996, 2879, 1005, 1055, 5189, 2652, 1997, 2029, 5225, 3071, 4689, 1010, 2001, 6649, 2041, 1997, 8694, 1012, 102], [101, 2008, 3682, 1010, 1996, 2879, 1005, 1055, 2652, 2029, 9928, 5225, 3071, 4689, 1010, 2001, 6649, 2041, 1997, 8694, 1012, 102], [101, 2008, 3682, 1010, 2029, 1996, 2879, 1005, 1055, 2652, 9928, 5225, 3071, 4689, 1010, 2001, 6649, 2041, 1997, 8694, 1012, 102], [101, 2106, 2008, 2002, 2209, 1996, 3682, 4474, 2017, 1029, 102], [101, 2052, 2005, 2032, 2000, 2031, 2209, 1996, 3682, 2031, 4527, 2017, 1029, 102], [101, 2003, 3251, 2002, 2209, 1996, 3682, 2124, 1029, 102], [101, 2106, 2010, 2383, 2209, 1996, 3682, 4474, 2017, 1029, 102], [101, 3505, 21864, 11469, 2008, 2016, 2196, 5078, 2023, 6045, 1012, 102], [101, 3505, 21864, 11469, 2016, 2196, 5078, 2023, 6045, 1012, 102], [101, 1045, 18959, 2009, 2005, 2032, 2000, 16356, 2571, 2870, 1012, 102], [101, 1045, 18959, 2010, 16356, 2989, 2870, 1012, 102], [101, 2005, 4698, 2000, 16356, 2571, 2032, 9297, 3581, 4689, 1012, 102], [101, 4698, 1005, 1055, 16356, 2989, 2032, 5225, 3581, 4689, 1012, 102], [101, 2027, 2024, 11538, 2035, 2111, 19273, 11498, 20553, 3215, 1012, 102], [101, 1996, 27157, 2029, 2057, 6955, 7318, 2005, 1996, 24948, 2000, 3857, 2007, 2024, 2844, 1012, 102], [101, 2054, 2785, 12935, 11498, 20553, 3215, 2024, 2027, 11538, 2035, 2111, 19273, 1029, 102], [101, 2009, 3544, 2000, 2022, 2995, 2008, 4302, 7777, 3057, 1012, 102], [101, 2023, 2003, 1996, 3899, 2008, 13303, 1996, 4937, 2008, 3236, 1996, 9350, 2008, 8823, 1996, 8808, 1012, 102], [101, 2014, 8114, 2559, 1997, 1996, 3437, 2039, 7537, 1996, 5795, 1012, 102], [101, 2014, 8114, 2559, 2039, 1997, 1996, 3437, 7537, 1996, 5795, 1012, 102], [101, 2016, 2106, 2185, 2007, 2014, 2269, 1012, 102], [101, 2016, 2106, 2007, 2014, 2269, 2185, 1012, 102], [101, 2009, 2003, 2025, 2995, 2008, 2008, 3960, 2001, 4688, 2001, 5793, 1012, 102], [101, 1037, 6947, 2001, 2445, 2008, 1996, 4366, 2008, 2198, 2018, 9828, 2018, 2042, 2081, 1012, 102], [101, 1037, 6947, 2008, 1996, 4366, 2018, 2042, 2081, 2001, 2445, 2008, 2198, 2018, 9828, 1012, 102], [101, 2008, 3520, 2134, 1005, 1056, 4060, 2216, 14555, 2039, 2003, 2825, 2029, 2024, 2000, 2022, 5653, 2098, 4826, 1012, 102], [101, 2008, 3520, 2134, 1005, 1056, 4060, 2216, 14555, 2029, 2024, 2000, 2022, 5653, 2098, 4826, 2039, 2003, 2825, 1012, 102], [101, 2009, 2003, 2825, 2008, 3520, 2134, 1005, 1056, 4060, 2216, 14555, 2029, 2024, 2000, 2022, 5653, 2098, 4826, 2039, 1012, 102], [101, 2008, 3520, 2134, 1005, 1056, 4060, 2216, 14555, 2039, 2029, 2024, 2000, 2022, 5653, 2098, 4826, 2003, 2825, 1012, 102], [101, 2029, 14555, 2003, 2009, 2825, 2008, 3520, 2134, 1005, 1056, 4060, 2039, 2029, 2024, 2000, 2022, 5653, 2098, 4826, 1029, 102], [101, 3520, 2134, 1005, 1056, 4060, 2216, 14555, 2039, 2029, 2024, 2000, 2022, 5653, 2098, 4826, 2127, 2009, 2018, 3030, 24057, 1012, 102], [101, 3520, 3856, 2216, 14555, 2039, 2029, 2024, 2000, 2022, 5653, 2098, 4826, 2717, 2453, 1010, 2021, 2002, 2134, 1005, 1056, 2215, 2000, 2079, 2061, 2127, 2009, 2018, 3030, 24057, 1012, 102], [101, 3520, 2134, 1005, 1056, 4060, 2216, 14555, 2039, 2127, 2009, 2018, 3030, 24057, 2029, 2024, 2000, 2022, 5653, 2098, 4826, 1012, 102], [101, 2029, 14555, 2029, 2024, 2000, 2022, 5653, 2098, 4826, 2003, 2009, 2825, 2008, 3520, 2134, 1005, 1056, 4060, 2039, 2127, 2009, 2018, 3030, 24057, 1029, 102], [101, 2029, 14555, 2003, 2009, 2825, 2008, 3520, 2134, 1005, 1056, 4060, 2039, 2029, 2024, 2000, 2022, 5653, 2098, 4826, 2127, 2009, 2018, 3030, 24057, 1029, 102], [101, 2029, 14555, 2134, 1005, 1056, 3520, 4060, 2039, 2029, 2024, 2000, 2022, 5653, 2098, 4826, 2127, 2009, 2018, 3030, 24057, 1029, 102], [101, 1037, 2611, 2234, 1999, 2040, 2018, 6247, 2023, 5435, 1012, 102], [101, 1996, 5435, 2029, 1037, 2611, 2234, 1999, 2040, 2018, 6247, 2001, 7950, 1012, 102], [101, 2008, 2008, 2005, 5106, 15721, 2000, 5466, 1037, 4906, 2052, 28679, 1996, 4932, 2001, 5793, 2003, 2025, 2995, 1012, 102], [101, 2009, 2003, 2025, 2995, 2008, 2008, 2005, 5106, 15721, 2000, 5466, 1037, 4906, 2052, 28679, 1996, 4932, 2001, 5793, 1012, 102], [101, 2009, 2003, 2025, 2995, 2008, 2009, 2001, 5793, 2008, 2005, 5106, 15721, 2000, 5466, 1037, 4906, 2052, 28679, 1996, 4932, 1012, 102], [101, 2008, 2008, 2009, 2052, 28679, 1996, 4932, 2005, 5106, 15721, 2000, 5466, 1037, 4906, 2001, 5793, 2003, 2025, 2995, 1012, 102], [101, 2009, 2003, 2025, 2995, 2008, 2008, 2009, 2052, 28679, 1996, 4932, 2005, 5106, 15721, 2000, 5466, 1037, 4906, 2001, 5793, 1012, 102], [101, 2008, 2009, 2001, 5793, 2008, 2009, 2052, 28679, 1996, 4932, 2005, 5106, 15721, 2000, 5466, 1037, 4906, 2003, 2025, 2995, 1012, 102], [101, 2009, 2003, 2025, 2995, 2008, 2009, 2001, 5793, 2008, 2009, 2052, 28679, 1996, 4932, 2005, 5106, 15721, 2000, 5466, 1037, 4906, 1012, 102], [101, 1037, 3319, 1997, 2023, 3720, 2234, 2041, 7483, 1012, 102], [101, 1037, 3319, 2234, 2041, 7483, 1997, 2023, 3720, 1012, 102], [101, 1037, 3319, 3849, 2000, 2031, 2272, 2041, 7483, 1997, 2023, 3720, 1012, 102], [101, 2339, 2123, 1005, 1056, 2017, 4060, 2070, 3319, 2039, 1997, 2023, 3720, 1029, 102], [101, 5754, 2003, 2183, 2000, 4604, 1037, 3861, 1997, 3472, 15158, 2000, 2014, 3836, 1010, 2004, 2574, 2004, 2016, 4152, 2188, 1012, 102], [101, 5754, 2003, 2183, 2000, 4604, 1037, 3861, 2000, 2014, 3836, 1997, 3472, 15158, 1010, 2004, 2574, 2004, 2016, 4152, 2188, 1012, 102], [101, 2029, 3861, 2003, 5754, 2183, 2000, 4604, 2000, 2014, 3836, 1997, 3472, 15158, 2004, 2574, 2004, 2016, 4152, 2188, 1029, 102], [101, 2040, 2003, 5754, 2183, 2000, 4604, 1037, 3861, 2000, 2014, 3836, 1997, 1010, 2004, 2574, 2004, 2016, 4152, 2188, 1029, 102], [101, 2008, 1037, 3319, 2234, 2041, 7483, 1997, 2023, 3720, 2003, 23546, 1012, 102], [101, 2008, 1037, 3319, 2234, 2041, 7483, 2003, 23546, 1997, 2023, 3720, 1012, 102], [101, 1045, 1005, 2222, 2507, 2070, 2000, 2026, 2204, 2767, 2013, 22735, 1012, 102], [101, 1045, 1005, 2222, 2507, 2000, 2026, 2204, 2767, 2013, 22735, 2070, 1012, 102], [101, 2105, 7090, 1045, 5763, 2008, 2002, 2052, 2022, 2045, 1012, 102], [101, 1045, 5763, 2008, 2002, 2052, 2022, 2045, 4826, 1012, 102], [101, 4826, 1045, 5763, 11834, 2002, 2052, 2022, 2045, 1012, 102], [101, 1045, 5763, 2008, 4826, 2002, 2052, 2022, 2045, 1012, 102], [101, 1045, 5763, 2008, 2105, 7090, 2002, 2052, 2022, 2045, 1012, 102], [101, 13435, 1045, 2123, 1005, 1056, 2066, 1012, 102], [101, 7098, 1997, 2032, 1045, 1005, 2310, 2196, 2042, 1012, 102], [101, 13435, 1045, 2123, 1005, 1056, 2228, 2017, 1005, 2222, 2022, 2583, 2000, 8054, 2033, 4302, 2038, 2412, 12595, 1999, 2010, 2166, 1012, 102], [101, 2009, 2001, 4826, 2008, 1045, 5763, 2008, 2002, 2052, 2022, 2045, 1012, 102], [101, 2009, 2003, 13435, 2008, 1045, 2123, 1005, 1056, 2066, 1012, 102], [101, 2079, 2017, 2228, 2008, 2002, 2823, 2253, 2045, 2894, 1029, 102], [101, 1045, 2180, 1005, 1056, 3198, 2017, 2000, 2903, 2008, 2002, 2699, 2000, 2486, 2033, 2000, 2507, 2014, 2070, 2769, 1012, 102], [101, 2008, 2002, 2823, 2253, 2045, 2894, 2003, 3056, 1012, 102], [101, 2079, 2017, 2903, 2008, 8307, 2001, 2559, 2005, 2242, 1029, 102], [101, 1045, 2196, 2777, 2008, 2158, 2040, 8307, 2699, 2000, 3102, 1012, 102], [101, 1045, 2180, 1005, 1056, 2031, 2151, 2769, 1012, 102], [101, 1045, 2097, 3198, 2017, 2000, 2903, 2008, 2002, 2699, 2000, 2486, 2033, 2000, 2507, 2014, 2151, 2769, 1012, 102], [101, 2079, 2017, 2228, 2008, 2002, 2412, 2253, 2045, 2894, 1029, 102], [101, 2008, 2002, 2412, 2253, 2045, 2894, 2003, 5976, 1012, 102], [101, 2008, 2002, 2412, 2253, 2045, 2894, 2003, 3056, 1012, 102], [101, 1045, 2196, 2777, 2008, 2158, 2040, 10334, 2699, 2000, 3102, 1012, 102], [101, 3419, 2409, 8307, 2008, 2002, 2347, 1005, 1056, 5305, 1012, 102], [101, 18467, 2481, 1005, 1056, 2079, 2531, 5245, 11139, 1998, 8307, 4191, 1012, 102], [101, 3419, 2409, 10334, 2008, 2002, 2347, 1005, 1056, 5305, 1012, 102], [101, 18467, 2481, 1005, 1056, 2079, 2531, 5245, 11139, 1998, 10334, 4191, 1012, 102], [101, 1045, 2903, 2008, 1996, 3103, 2001, 2041, 1012, 102], [101, 1045, 3373, 2008, 1996, 3103, 2001, 2041, 1012, 102], [101, 1045, 3373, 2008, 1996, 3103, 2003, 2041, 1012, 102], [101, 2008, 1996, 3103, 2003, 2041, 2001, 5793, 1012, 102], [101, 2008, 1045, 3373, 2008, 1996, 3103, 2001, 2041, 2003, 5793, 1012, 102], [101, 2008, 1045, 3373, 2008, 1996, 3103, 2003, 2041, 2003, 5793, 1012, 102], [101, 2008, 2990, 2823, 7771, 2003, 5263, 1012, 102], [101, 2008, 2990, 2412, 7771, 2003, 5263, 1012, 102], [101, 2008, 2990, 2412, 7771, 2003, 2825, 1012, 102], [101, 1045, 5720, 2000, 10180, 2055, 10180, 1012, 102], [101, 1045, 5720, 2000, 10180, 2055, 2032, 1012, 102], [101, 2008, 1996, 3103, 2001, 2041, 2001, 5793, 1012, 102], [101, 2198, 15047, 2010, 2849, 1998, 2984, 2106, 2205, 1012, 102], [101, 2984, 15047, 2014, 2849, 2205, 1012, 102], [101, 2984, 15047, 2198, 1005, 1055, 2849, 2205, 1012, 102], [101, 2198, 15047, 2010, 2849, 1998, 1996, 2879, 2040, 2354, 2984, 15047, 2014, 2849, 1012, 102], [101, 2198, 15047, 2010, 2849, 1998, 1996, 2879, 2040, 2984, 2354, 2106, 2061, 2205, 1012, 102], [101, 2008, 1996, 11865, 13213, 2359, 2032, 5191, 2198, 2021, 2009, 2134, 1005, 1056, 4737, 2984, 1012, 102], [101, 2008, 1996, 11865, 13213, 2359, 2032, 5191, 2198, 1010, 2021, 2008, 1996, 11865, 13213, 2359, 2198, 2134, 1005, 1056, 4737, 2984, 1012, 102], [101, 2008, 1996, 2610, 2359, 2032, 5191, 11545, 2021, 2009, 2134, 1005, 1056, 4737, 1996, 2879, 2040, 2984, 2354, 1012, 102], [101, 2198, 2003, 7098, 2121, 1997, 2383, 2908, 2084, 6343, 3517, 2033, 2000, 2903, 2002, 2052, 2022, 1012, 102], [101, 2198, 2003, 7098, 2121, 1997, 2383, 2908, 2084, 2198, 2134, 1005, 1056, 5987, 2033, 2000, 2903, 2002, 2052, 2022, 1012, 102], [101, 2198, 2003, 7098, 2121, 1997, 2383, 2908, 2084, 2198, 3517, 6343, 2000, 2903, 2002, 2052, 2022, 1012, 102], [101, 2198, 2003, 7098, 2121, 1997, 2383, 2908, 2084, 2198, 3517, 2033, 2025, 2000, 2903, 2002, 2052, 2022, 1012, 102], [101, 2198, 2003, 7098, 2121, 1997, 2383, 2908, 2084, 2084, 2198, 3517, 2033, 2000, 2903, 2025, 2035, 1012, 102], [101, 2198, 2003, 7098, 2121, 1997, 2383, 2908, 2084, 2198, 3517, 2033, 2000, 2903, 2008, 2002, 2347, 1005, 1056, 1012, 102], [101, 2198, 2003, 7098, 2121, 1997, 2383, 2908, 2084, 2111, 2040, 2123, 1005, 1056, 2113, 2032, 2052, 5987, 2033, 2000, 2903, 2002, 2052, 2022, 1012, 102], [101, 2198, 2003, 7098, 2121, 1997, 2383, 2908, 2084, 8836, 3517, 7437, 2000, 2903, 2008, 1996, 2158, 2040, 2134, 1005, 1056, 27545, 2052, 2022, 1012, 102], [101, 2198, 2003, 7098, 2121, 1997, 2383, 2908, 2084, 1045, 3517, 2017, 2000, 2903, 2002, 2052, 2022, 1997, 2025, 2383, 5357, 6680, 1012, 102], [101, 3419, 4282, 2009, 1998, 5980, 4282, 2009, 1998, 4302, 4282, 2009, 1012, 102], [101, 3419, 8871, 1996, 2482, 1010, 1998, 5980, 13844, 2098, 1996, 2482, 1012, 102], [101, 3419, 3641, 11611, 1010, 1998, 5980, 3641, 2292, 8525, 3401, 1010, 1998, 4302, 3641, 12851, 1012, 102], [101, 3419, 1010, 5980, 1010, 1998, 4302, 2113, 2009, 1012, 102], [101, 3419, 8871, 1010, 1998, 5980, 13844, 2098, 1010, 1998, 4302, 12853, 1996, 2482, 1012, 102], [101, 3419, 1010, 5980, 1010, 1998, 4302, 8823, 1010, 10749, 1010, 1998, 6369, 1012, 102], [101, 3419, 3641, 11611, 1010, 1998, 5980, 2292, 8525, 3401, 1010, 1998, 4302, 12851, 1012, 102], [101, 3419, 3641, 11611, 1010, 1998, 5980, 3641, 2292, 8525, 3401, 1010, 1998, 1045, 2228, 2008, 4302, 3641, 12851, 1012, 102], [101, 3419, 3641, 11611, 1010, 1998, 5980, 2292, 8525, 3401, 1010, 1998, 1045, 2228, 2008, 4302, 12851, 1012, 102], [101, 3533, 2003, 12283, 2084, 2984, 2003, 1012, 102], [101, 3533, 2003, 12283, 2084, 2984, 1012, 102], [101, 3533, 2003, 12283, 2084, 1045, 2228, 2984, 2003, 1012, 102], [101, 3533, 2003, 12283, 2084, 1045, 2228, 2984, 1012, 102], [101, 3505, 2097, 6170, 2065, 2017, 2097, 6170, 1012, 102], [101, 3505, 2097, 6170, 2065, 2017, 2097, 1012, 102], [101, 3958, 2097, 2175, 2065, 2002, 5683, 2204, 1012, 102], [101, 2065, 3958, 5683, 2204, 1010, 2002, 2097, 2175, 1012, 102], [101, 1045, 2435, 1996, 2338, 2000, 7702, 2138, 2002, 2356, 2033, 2000, 1012, 102], [101, 2009, 2196, 4158, 2000, 7702, 2008, 1045, 2453, 2215, 2000, 2681, 2138, 2002, 2003, 16021, 6132, 13043, 2000, 2060, 2111, 1005, 1055, 14714, 1012, 102], [101, 2009, 2196, 4158, 2000, 7702, 2138, 2002, 2003, 16021, 6132, 13043, 2000, 2060, 2111, 1005, 1055, 14714, 2008, 1010, 1045, 2453, 2215, 2000, 2681, 1012, 102], [101, 1012, 1045, 6618, 2009, 2041, 2008, 2016, 2001, 4688, 1012, 102], [101, 1045, 4541, 2009, 2000, 3021, 2008, 2016, 2001, 4688, 1012, 102], [101, 1045, 2165, 2009, 2005, 4379, 2008, 2016, 2001, 4688, 1012, 102], [101, 1045, 9038, 2009, 17003, 2135, 2008, 2016, 2001, 4688, 1012, 102], [101, 2002, 1005, 2222, 3288, 2033, 1037, 2980, 3899, 2065, 2002, 5927, 2028, 1012, 102], [101, 2002, 1005, 2222, 3288, 2033, 2028, 2065, 2002, 5927, 1037, 2980, 3899, 1012, 102], [101, 2065, 2002, 5927, 1037, 2980, 3899, 1010, 2002, 1005, 2222, 3288, 2033, 2028, 1012, 102], [101, 2065, 2002, 5927, 2028, 1025, 2002, 1005, 2222, 3288, 2033, 1037, 2980, 3899, 1012, 102], [101, 2698, 2062, 3548, 2234, 1999, 2044, 2702, 3924, 2018, 2187, 1012, 102], [101, 2698, 2062, 3924, 2234, 1999, 2044, 2702, 3548, 2018, 2187, 1012, 102], [101, 2044, 2702, 3548, 2018, 2187, 1010, 2698, 2062, 3924, 2234, 1999, 1012, 102], [101, 2044, 2702, 3924, 2018, 2187, 1010, 2698, 2062, 3548, 2234, 1999, 1012, 102], [101, 2698, 2062, 3548, 2234, 1999, 2044, 2702, 2018, 2187, 1012, 102], [101, 2698, 2062, 2234, 1999, 2044, 2702, 3548, 2018, 2187, 1012, 102], [101, 2044, 2702, 2018, 2187, 1010, 2698, 2062, 3548, 2234, 1999, 1012, 102], [101, 4302, 7164, 2008, 8836, 2003, 7036, 1010, 2348, 2053, 2028, 2842, 7164, 2009, 1012, 102], [101, 2348, 2053, 2028, 2842, 7164, 2008, 8836, 2003, 7036, 1010, 4302, 7164, 2009, 1012, 102], [101, 2348, 2053, 2028, 2842, 7164, 2009, 1010, 4302, 7164, 2008, 8836, 2003, 7036, 1012, 102], [101, 11635, 5028, 1037, 4690, 2044, 2888, 2018, 2589, 2009, 1012, 102], [101, 2044, 2888, 2018, 5028, 1037, 4690, 1010, 11635, 2106, 2009, 1012, 102], [101, 2044, 2888, 2018, 2589, 2009, 1010, 11635, 5028, 1037, 4690, 1012, 102], [101, 2065, 2061, 1010, 1045, 1005, 2310, 2439, 1002, 3156, 1012, 102], [101, 2065, 2009, 1010, 1045, 1005, 2310, 2439, 1002, 3156, 1012, 102], [101, 4302, 6732, 2008, 8836, 2003, 7036, 1010, 2348, 2053, 2028, 2842, 6732, 2061, 1012, 102], [101, 4302, 6732, 2061, 1010, 2348, 2053, 2028, 2842, 6732, 8836, 2003, 7036, 1012, 102], [101, 2348, 2053, 2028, 2842, 6732, 2008, 8836, 2003, 7036, 1010, 4302, 6732, 2061, 1012, 102], [101, 2348, 2053, 2028, 2842, 6732, 2061, 1010, 4302, 6732, 2008, 8836, 2003, 7036, 1012, 102], [101, 11635, 5028, 1037, 4690, 2044, 2888, 2018, 2589, 2061, 1012, 102], [101, 2044, 2888, 2018, 5028, 1037, 4690, 1010, 11635, 2106, 2061, 1012, 102], [101, 2044, 2888, 2018, 2589, 2061, 1010, 11635, 5028, 1037, 4690, 1012, 102], [101, 1045, 1005, 2222, 2147, 2006, 2009, 2065, 1045, 2064, 2147, 2006, 2009, 1012, 102], [101, 1045, 1005, 2222, 2147, 2006, 2009, 2065, 2053, 2028, 2842, 2038, 2499, 2006, 2009, 1012, 102], [101, 1045, 1005, 2222, 2147, 2006, 2009, 2065, 2017, 2079, 1012, 102], [101, 1045, 1005, 2222, 2147, 2006, 2009, 2065, 2053, 2028, 2842, 2018, 1012, 102], [101, 1045, 1005, 2222, 2147, 2006, 2009, 2065, 2168, 2097, 2022, 2205, 1012, 102], [101, 1045, 2097, 2065, 1045, 2064, 2147, 2006, 2009, 1012, 102], [101, 2065, 1045, 2064, 2147, 2006, 2009, 1010, 1045, 2097, 1012, 102], [101, 2065, 1045, 2064, 1010, 1045, 2097, 2147, 2006, 2009, 1012, 102], [101, 1996, 2879, 2040, 2984, 7459, 16424, 2014, 1012, 102], [101, 1996, 2158, 2040, 3641, 1037, 2980, 3899, 2288, 2028, 1012, 102], [101, 3419, 2758, 2008, 2009, 1005, 1055, 2183, 2000, 4542, 2021, 1045, 2123, 1005, 1056, 2903, 2009, 1012, 102], [101, 2002, 2056, 2002, 2052, 2681, 1998, 2085, 2002, 1005, 1055, 2589, 2009, 1012, 102], [101, 1045, 2228, 2008, 22294, 1005, 1055, 1037, 18370, 3124, 1010, 1998, 19065, 6732, 2061, 2205, 1012, 102], [101, 2339, 2064, 1005, 1056, 1996, 2158, 2040, 2788, 7659, 1996, 5568, 2079, 2061, 2651, 1029, 102], [101, 11021, 1998, 5074, 2031, 2772, 1010, 1998, 2317, 2100, 2097, 4826, 1012, 102], [101, 8923, 8040, 27475, 2012, 1996, 6772, 2008, 2002, 2052, 2448, 2065, 4222, 1012, 102], [101, 12390, 15848, 2008, 2002, 1998, 13707, 2020, 2183, 6706, 1012, 102], [101, 1045, 2439, 1037, 2887, 7358, 3627, 1010, 1998, 1996, 2755, 2008, 2848, 2085, 2038, 2028, 1045, 7634, 2007, 10928, 1012, 102], [101, 1996, 3011, 2003, 4257, 1010, 2021, 2097, 2035, 2216, 2040, 2123, 1005, 1056, 2903, 2009, 3531, 5333, 2037, 2398, 1029, 102], [101, 8221, 2040, 2064, 4875, 8460, 9372, 2360, 2008, 2005, 2033, 2000, 3046, 2000, 2079, 2009, 1999, 1037, 18788, 2052, 2022, 17760, 1012, 102], [101, 1996, 5467, 2040, 2018, 2124, 2008, 1996, 3345, 2001, 2025, 2006, 2543, 2056, 2008, 2216, 2040, 2018, 2245, 2061, 2018, 19820, 5555, 5732, 3209, 1999, 1996, 28942, 1012, 102], [101, 2652, 2007, 3503, 2003, 1025, 7167, 1997, 4569, 1010, 2021, 2725, 1010, 2061, 1998, 4064, 2075, 13753, 2013, 2028, 2064, 2000, 2178, 2012, 1996, 2168, 2051, 2003, 1037, 4368, 2190, 9235, 2005, 24912, 2015, 1012, 102], [101, 5742, 2003, 4569, 1010, 1998, 1045, 2903, 2008, 2111, 2040, 2064, 1005, 1056, 2323, 2022, 4036, 2000, 1012, 102], [101, 2129, 9191, 2002, 2003, 999, 102], [101, 2129, 10889, 2092, 2002, 11278, 999, 102], [101, 3251, 2002, 2187, 999, 102], [101, 2339, 2002, 4282, 1996, 3437, 999, 102], [101, 2029, 2879, 2003, 4206, 999, 102], [101, 2129, 9191, 7955, 2442, 2228, 2017, 5987, 2033, 2000, 2903, 2002, 2003, 999, 102], [101, 2129, 9191, 2027, 2442, 2903, 1996, 4366, 2008, 2017, 2024, 999, 102], [101, 2129, 9191, 2027, 2442, 2903, 2008, 2017, 2024, 999, 102], [101, 2129, 9191, 2002, 2003, 4206, 1998, 999, 102], [101, 2129, 9191, 3505, 2003, 16592, 2135, 1998, 3520, 2003, 999, 102], [101, 2129, 2002, 2003, 9191, 999, 102], [101, 3021, 2187, 2043, 3071, 2097, 2903, 2008, 1996, 2610, 2031, 3140, 2033, 2000, 18766, 2008, 1045, 2915, 12834, 1012, 102], [101, 3021, 2187, 2043, 1045, 2572, 2559, 2012, 1037, 2611, 2040, 23251, 2098, 1012, 102], [101, 3021, 2187, 2043, 1045, 2903, 1996, 5968, 2018, 2074, 9913, 1012, 102], [101, 3021, 2187, 2043, 1045, 2903, 1996, 4366, 2008, 1996, 5968, 2018, 2074, 9913, 1012, 102], [101, 2043, 1045, 2572, 8300, 1998, 6294, 2003, 6680, 1010, 3021, 2097, 2681, 1012, 102], [101, 2043, 1045, 2572, 8300, 2012, 2008, 2051, 1998, 6294, 2003, 6680, 1010, 3021, 2097, 2681, 1012, 102], [101, 3021, 2187, 2043, 2008, 2053, 2028, 2842, 2001, 8300, 2003, 3056, 1012, 102], [101, 3021, 2187, 2043, 2009, 2003, 3056, 2008, 2053, 2028, 2842, 2001, 8300, 1012, 102], [101, 2182, 1005, 1055, 1037, 5442, 2005, 2017, 2000, 3013, 2039, 1996, 24444, 2007, 1012, 102], [101, 1045, 2716, 1037, 15082, 2000, 27545, 2370, 2007, 1012, 102], [101, 1045, 2716, 1037, 15082, 2000, 27545, 2870, 2007, 1012, 102], [101, 1045, 2716, 1037, 15082, 2007, 2029, 2000, 27545, 2870, 1012, 102], [101, 1045, 2716, 1037, 15082, 2007, 2029, 2000, 27545, 2370, 1012, 102], [101, 1045, 2716, 2198, 1037, 15082, 2000, 27545, 2370, 2007, 1012, 102], [101, 1045, 2716, 2198, 1037, 15082, 2000, 27545, 2870, 2007, 1012, 102], [101, 1045, 2716, 2198, 1037, 15082, 2007, 2029, 2000, 27545, 2370, 1012, 102], [101, 1045, 2716, 2198, 1037, 15082, 2007, 2029, 2000, 27545, 2870, 1012, 102], [101, 2182, 1005, 1055, 1037, 5442, 2029, 2005, 2017, 2000, 3013, 2039, 1996, 24444, 2007, 1012, 102], [101, 2182, 1005, 1055, 1037, 5127, 2005, 2017, 2000, 2191, 3960, 3046, 2000, 4088, 2000, 2486, 2010, 2905, 2000, 2681, 1996, 16324, 2006, 1012, 102], [101, 2182, 1005, 1055, 1037, 5442, 2005, 2017, 2000, 2360, 2001, 2006, 1996, 2795, 1012, 102], [101, 2182, 1005, 1055, 1037, 6536, 2005, 2017, 2000, 3610, 1996, 2611, 2040, 5079, 1996, 5164, 2105, 1012, 102], [101, 2182, 1005, 1055, 1037, 15082, 2005, 2017, 2000, 24494, 2039, 2122, 12264, 2007, 2023, 18856, 5243, 6299, 1998, 1012, 102], [101, 2182, 1005, 1055, 1037, 15082, 2005, 2008, 2017, 2097, 2022, 20665, 2007, 2000, 2022, 2623, 1012, 102], [101, 2182, 1005, 1055, 1037, 15082, 2005, 2009, 2000, 2022, 2623, 2008, 2017, 2097, 2022, 20665, 2007, 1012, 102], [101, 1045, 13190, 8538, 1037, 5364, 2390, 5442, 3005, 2000, 2330, 1996, 11687, 7878, 2007, 8513, 11020, 15603, 1012, 102], [101, 27036, 2003, 5305, 1010, 2029, 2261, 2111, 5382, 1012, 102], [101, 27036, 2003, 5305, 1010, 2029, 1045, 1005, 1049, 2025, 2469, 2017, 2113, 4532, 24273, 2033, 2000, 2903, 7437, 10919, 1012, 102], [101, 27036, 2003, 5305, 1010, 2029, 1045, 11159, 1037, 2879, 2040, 2876, 1005, 1056, 13399, 1012, 102], [101, 27036, 2003, 5305, 1010, 2029, 1045, 2903, 2008, 2261, 2111, 5382, 1012, 102], [101, 27036, 2003, 5305, 1010, 2029, 1045, 3062, 6680, 1998, 3419, 3402, 3651, 1012, 102], [101, 27036, 2003, 5305, 1010, 2029, 2008, 2053, 2028, 2182, 10919, 2003, 3056, 1012, 102], [101, 27036, 2003, 5305, 1010, 2029, 2009, 2003, 3056, 2008, 2053, 2028, 2182, 10919, 1012, 102], [101, 27036, 2003, 5305, 1010, 2029, 6343, 4282, 1012, 102], [101, 27036, 2003, 5305, 1010, 2004, 6343, 4282, 1012, 102], [101, 27036, 2003, 5305, 1010, 2004, 2025, 7955, 4282, 1012, 102], [101, 27036, 2003, 5305, 1010, 2004, 20096, 2033, 1012, 102], [101, 2009, 2001, 2023, 6045, 2008, 3419, 2056, 2632, 2245, 2017, 2359, 2033, 2000, 2191, 2990, 2404, 2006, 1012, 102], [101, 2054, 3419, 2056, 2632, 2245, 2017, 2359, 2033, 2000, 2191, 2990, 2404, 2006, 2001, 2023, 6045, 1012, 102], [101, 2023, 6045, 3419, 2056, 2632, 2245, 2017, 2359, 2033, 2000, 2191, 2990, 2404, 2006, 1012, 102], [101, 2009, 2003, 2023, 6045, 2008, 1045, 2113, 1996, 2879, 2040, 2003, 4147, 1012, 102], [101, 2009, 2003, 2023, 6045, 2008, 1045, 2903, 2008, 2002, 2001, 4147, 1012, 102], [101, 2054, 1045, 2113, 1996, 2879, 2040, 2001, 4147, 2003, 2023, 6045, 1012, 102], [101, 2054, 1045, 2903, 2008, 2002, 2001, 4147, 2003, 2023, 6045, 1012, 102], [101, 2023, 6045, 1045, 2113, 1996, 2879, 2040, 2001, 4147, 1012, 102], [101, 2023, 6045, 1045, 2903, 2008, 2002, 2001, 4147, 1012, 102], [101, 2054, 1996, 11875, 1998, 2020, 2006, 1996, 2795, 2001, 2023, 6045, 1012, 102], [101, 2023, 6045, 1996, 11875, 1998, 2020, 2006, 1996, 2795, 1012, 102], [101, 2009, 2003, 2023, 6045, 2008, 2008, 2002, 2001, 4147, 2003, 3056, 1012, 102], [101, 2009, 2003, 2023, 6045, 2008, 2009, 2003, 3056, 2008, 2002, 2001, 4147, 1012, 102], [101, 2054, 2008, 2002, 2001, 4147, 2003, 3056, 2003, 2023, 6045, 1012, 102], [101, 2054, 2009, 2003, 3056, 2008, 2002, 2001, 4147, 2003, 2023, 6045, 1012, 102], [101, 2023, 6045, 2009, 2003, 3056, 2008, 2002, 2001, 4147, 1012, 102], [101, 2009, 2001, 2198, 1005, 1055, 2008, 1045, 10312, 7997, 1012, 102], [101, 1996, 2028, 3005, 1045, 10312, 7997, 2001, 2198, 1005, 1055, 1012, 102], [101, 2198, 1005, 1055, 1045, 10312, 7997, 1012, 102], [101, 10691, 3475, 1005, 1056, 1996, 3460, 2008, 2010, 2269, 2001, 1012, 102], [101, 10691, 3475, 1005, 1056, 2431, 1996, 3460, 2008, 2010, 2269, 2001, 1012, 102], [101, 10691, 2003, 1996, 2158, 2040, 2180, 1996, 10501, 3396, 2005, 28625, 6483, 1012, 102], [101, 10691, 3475, 1005, 1056, 2431, 1996, 3460, 1012, 102], [101, 10691, 2003, 3243, 1996, 3460, 1012, 102], [101, 10691, 3475, 1005, 1056, 2172, 1997, 1037, 3460, 1012, 102], [101, 10691, 2003, 2062, 1997, 1037, 3460, 2084, 2010, 2365, 2003, 1012, 102], [101, 10691, 3475, 1005, 1056, 2431, 1996, 3460, 2008, 2001, 2182, 1012, 102], [101, 10691, 3475, 1005, 1056, 2431, 1996, 3460, 2008, 12853, 2125, 1996, 21092, 1012, 102], [101, 2431, 1996, 3460, 2008, 10691, 1005, 1055, 2269, 2001, 2938, 2091, 1012, 102], [101, 10691, 3475, 1005, 1056, 2431, 1996, 3460, 2008, 8615, 25532, 2052, 5382, 3419, 2018, 14312, 2008, 2002, 2354, 3021, 3517, 2032, 2000, 2022, 1012, 102], [101, 10691, 3475, 1005, 1056, 2431, 1996, 3460, 2008, 1045, 2113, 2019, 3060, 2708, 2040, 2003, 1012, 102], [101, 10691, 3475, 1005, 1056, 2431, 1996, 3460, 2008, 2111, 2105, 2182, 2903, 2008, 2010, 2269, 2001, 1012, 102], [101, 10691, 3475, 1005, 1056, 2431, 1996, 3460, 2008, 2010, 2905, 2003, 1037, 15034, 1998, 2010, 2269, 2001, 1012, 102], [101, 10691, 3475, 1005, 1056, 2431, 1996, 3460, 2008, 2008, 2002, 2052, 2022, 2065, 2002, 3273, 2003, 3056, 1012, 102], [101, 10691, 3475, 1005, 1056, 2431, 1996, 3460, 2008, 1045, 1005, 1049, 3056, 2008, 2002, 2052, 2022, 2065, 2002, 3273, 1012, 102], [101, 2002, 1005, 1055, 1996, 5292, 9397, 10458, 2008, 1045, 1005, 2310, 2412, 2464, 2032, 1012, 102], [101, 1996, 18263, 2008, 2009, 2412, 4586, 2098, 2001, 2197, 2254, 5940, 1012, 102], [101, 1996, 18263, 2008, 1045, 2228, 1045, 3342, 2032, 2412, 4129, 2033, 2008, 2002, 2018, 2657, 1997, 2009, 4586, 2075, 2105, 2182, 2001, 2197, 2254, 5940, 1012, 102], [101, 2002, 1005, 1055, 1996, 5292, 9397, 10458, 2008, 2057, 2412, 5720, 2000, 1996, 2879, 2040, 2018, 2464, 2032, 1012, 102], [101, 2002, 1005, 1055, 1996, 5292, 9397, 10458, 2008, 1045, 2903, 2008, 2002, 1005, 1055, 2412, 2042, 1012, 102], [101, 1996, 18263, 2008, 1045, 2412, 2354, 1037, 2158, 2040, 2056, 2008, 2009, 2018, 4586, 2098, 2001, 2197, 2254, 5940, 1012, 102], [101, 1996, 18263, 2008, 1045, 2903, 2008, 2009, 2412, 4586, 2098, 2001, 2197, 2254, 5940, 1012, 102], [101, 2002, 1005, 1055, 1996, 5292, 9397, 10458, 2008, 1045, 1005, 2310, 2412, 2464, 2032, 7144, 1998, 1012, 102], [101, 1996, 18263, 2008, 2035, 1996, 2373, 3210, 2020, 2091, 1998, 2009, 4586, 2098, 2001, 2197, 2254, 5940, 1012, 102], [101, 2002, 2003, 1996, 5292, 9397, 10458, 2008, 2008, 2002, 2038, 2412, 2042, 2003, 3373, 1012, 102], [101, 2002, 2003, 1996, 5292, 9397, 10458, 2008, 2009, 2003, 3373, 2008, 2002, 2038, 2412, 2042, 1012, 102], [101, 1996, 18263, 2008, 2008, 2009, 2038, 4586, 2098, 2182, 2003, 3373, 2001, 2197, 2254, 5940, 1012, 102], [101, 1996, 18263, 2008, 2009, 2003, 3373, 2008, 2009, 2038, 2412, 4586, 2098, 2182, 2001, 2197, 2254, 5940, 1012, 102], [101, 1037, 2767, 1997, 3067, 1998, 1037, 2611, 2040, 2001, 2013, 2010, 2188, 2237, 2777, 1999, 6004, 2040, 2001, 2551, 1999, 2885, 1012, 102], [101, 1037, 2767, 1997, 3067, 2040, 2001, 2551, 1999, 2885, 1998, 1037, 2611, 2777, 1999, 6004, 2040, 2001, 2013, 2010, 2188, 2237, 1012, 102], [101, 2009, 1998, 2008, 2002, 3866, 2178, 2001, 16267, 10358, 2008, 2016, 3866, 2032, 1012, 102], [101, 2008, 2016, 3866, 2032, 1998, 2009, 2001, 16267, 10358, 2008, 2002, 3866, 2178, 1012, 102], [101, 2984, 1998, 2019, 2214, 2767, 2040, 3310, 2013, 5631, 4782, 1012, 102], [101, 2984, 1998, 4782, 2019, 2214, 2767, 2040, 3310, 2013, 5631, 1012, 102], [101, 1045, 2435, 1037, 3861, 1997, 1037, 3139, 2958, 1998, 1037, 3634, 21857, 2869, 2013, 7570, 5092, 7520, 2000, 2026, 2905, 1012, 102], [101, 1045, 2435, 1037, 3861, 1997, 1037, 3139, 2958, 1998, 2000, 2026, 2905, 1037, 3634, 21857, 2869, 2013, 7570, 5092, 7520, 1012, 102], [101, 7437, 3248, 1998, 10955, 5154, 2774, 1037, 6919, 2214, 2858, 2013, 3577, 1012, 102], [101, 8836, 2453, 2022, 6875, 1010, 1998, 1045, 2113, 1037, 2611, 2040, 5791, 2003, 6875, 1012, 102], [101, 8836, 2453, 2022, 1010, 1998, 1045, 2113, 1037, 2611, 2040, 5791, 2003, 6875, 1012, 102], [101, 8836, 2453, 2022, 6875, 1010, 1998, 1045, 2903, 1996, 4366, 2008, 15062, 5791, 2003, 6875, 1012, 102], [101, 8836, 2453, 2022, 6875, 1010, 1998, 1045, 2903, 2008, 15062, 5791, 2003, 6875, 1012, 102], [101, 8836, 2003, 4206, 1010, 1998, 2089, 2022, 1010, 1998, 15062, 2003, 2460, 1010, 1998, 5791, 2003, 1010, 8855, 1012, 102], [101, 9180, 3248, 1996, 2858, 1998, 4858, 7565, 2005, 2035, 1996, 2214, 5154, 2774, 2029, 2024, 2145, 7042, 1999, 2122, 4564, 1010, 1998, 14637, 7009, 2091, 2035, 1996, 2214, 5154, 2774, 2029, 2024, 2145, 7042, 1999, 2122, 4564, 1012, 102], [101, 9180, 3248, 1996, 2858, 1998, 4858, 7565, 2005, 1010, 1998, 14637, 7009, 2091, 1010, 2035, 1996, 2214, 5154, 2774, 2029, 2024, 2145, 7042, 1999, 2122, 4564, 1012, 102], [101, 2027, 2056, 2008, 3419, 2052, 3477, 2039, 1998, 2002, 2097, 3477, 2039, 1012, 102], [101, 2027, 2056, 2008, 3419, 2001, 2551, 1010, 1998, 2002, 2003, 2551, 1012, 102], [101, 2027, 2056, 2008, 3419, 2052, 3477, 2039, 1010, 1998, 3477, 2039, 2002, 2106, 1012, 102], [101, 2027, 2056, 2008, 3419, 2052, 3477, 2039, 1010, 1998, 3477, 2039, 2002, 2097, 1012, 102], [101, 2027, 2056, 2008, 3419, 2001, 2551, 1010, 1998, 2551, 2002, 2003, 1012, 102], [101, 2027, 2056, 3419, 2052, 3477, 2039, 1010, 1998, 3477, 2039, 1045, 1005, 1049, 2469, 7955, 2097, 2425, 2017, 2008, 2010, 9559, 5987, 2033, 2000, 2903, 2002, 2106, 1012, 102], [101, 2027, 2056, 6343, 2052, 3477, 2039, 1010, 2021, 1045, 2113, 1037, 2879, 2040, 2106, 3477, 2039, 1012, 102], [101, 2027, 2056, 6343, 2052, 3477, 2039, 1010, 2021, 3477, 2039, 1045, 2113, 1037, 2879, 2040, 2106, 1012, 102], [101, 2027, 2056, 2008, 3419, 2052, 3477, 2039, 1010, 1998, 3477, 2039, 1045, 2903, 2008, 2002, 2106, 1012, 102], [101, 2027, 2056, 2008, 3419, 2876, 1005, 1056, 3477, 2039, 1010, 2021, 2002, 2106, 2175, 2000, 1996, 2924, 1010, 1998, 2002, 2106, 3477, 2039, 1012, 102], [101, 2027, 2056, 2008, 3419, 2876, 1005, 1056, 3477, 2039, 1010, 2021, 3477, 2039, 2002, 2106, 2175, 2000, 1996, 2924, 1998, 2002, 2106, 1012, 102], [101, 2027, 2056, 2008, 3419, 2052, 3477, 2039, 1010, 1998, 3477, 2039, 2008, 2002, 2106, 2003, 2092, 1011, 2124, 1012, 102], [101, 2027, 2056, 2008, 3419, 2052, 3477, 2039, 1010, 1998, 3477, 2039, 2009, 2003, 2092, 1011, 2124, 2008, 2002, 2106, 1012, 102], [101, 2348, 5980, 2003, 8502, 1010, 1045, 1005, 1049, 2145, 2183, 5914, 11458, 1012, 102], [101, 8502, 2295, 5980, 2003, 1010, 1045, 1005, 1049, 2145, 2183, 2000, 5914, 11458, 1012, 102], [101, 8502, 2295, 3071, 24273, 2033, 2000, 3046, 2000, 2486, 3021, 2000, 2191, 3566, 5993, 2008, 5980, 2003, 1010, 1045, 1005, 1049, 2145, 2183, 2000, 5914, 11458, 1012, 102], [101, 8502, 2295, 1045, 2113, 2195, 3337, 2040, 2024, 1010, 1045, 1005, 1049, 2145, 2183, 2000, 5914, 11458, 1012, 102], [101, 8502, 2295, 1045, 2903, 2008, 5980, 2003, 1010, 1045, 1005, 1049, 2145, 2183, 2000, 5914, 11458, 1012, 102], [101, 8502, 2295, 5980, 2003, 4189, 1010, 13649, 1010, 2844, 1998, 1010, 1045, 1005, 1049, 2145, 2183, 2000, 5914, 11458, 1012, 102], [101, 8502, 2295, 2008, 5980, 2097, 2022, 2003, 3497, 1010, 1045, 1005, 1049, 2145, 2183, 2000, 5914, 11458, 1012, 102], [101, 1996, 2062, 4180, 2098, 2057, 14688, 2000, 2022, 1010, 1996, 2062, 2057, 3473, 4854, 2012, 1996, 7435, 1012, 102], [101, 1996, 2062, 4180, 2098, 1045, 4191, 2012, 1996, 6821, 2040, 2245, 2008, 2057, 2020, 3352, 1010, 1996, 2062, 4854, 2057, 3473, 2012, 1996, 7435, 1012, 102], [101, 1996, 2062, 4180, 2098, 1996, 11500, 2211, 2000, 2903, 2008, 2057, 2020, 2183, 2000, 9811, 2000, 2022, 1010, 1996, 2062, 4854, 2057, 3473, 2012, 1996, 7435, 1012, 102], [101, 1996, 2062, 4180, 2098, 2057, 14688, 2000, 2022, 2488, 7349, 1998, 1010, 1996, 2062, 4854, 2057, 3473, 2012, 1996, 7435, 1012, 102], [101, 1996, 2062, 4180, 2098, 2005, 2149, 2000, 9811, 2000, 2022, 2150, 2825, 1010, 1996, 2062, 4854, 2057, 3473, 2012, 1996, 7435, 1012, 102], [101, 1045, 2031, 2070, 4981, 2000, 3694, 1012, 102], [101, 1045, 2031, 2070, 4981, 2000, 14970, 2008, 1045, 1005, 2310, 2288, 2000, 3694, 1012, 102], [101, 1045, 2031, 2070, 4981, 2000, 3046, 2000, 3926, 26886, 1012, 102], [101, 1045, 2031, 2893, 2046, 2267, 2000, 5136, 1012, 102], [101, 1045, 2031, 2070, 4981, 2000, 3694, 2122, 13869, 1998, 1012, 102], [101, 1045, 2031, 2070, 2376, 11110, 2000, 2377, 1996, 2858, 1998, 6170, 1012, 102], [101, 1045, 2031, 2198, 1005, 1055, 2000, 3694, 3259, 1012, 102], [101, 19863, 2102, 2003, 12283, 2084, 1045, 5674, 10334, 2052, 2412, 3984, 2008, 2111, 2018, 5625, 8074, 2417, 2000, 14970, 2008, 2002, 2001, 1012, 102], [101, 1996, 10682, 2001, 2936, 2084, 1996, 4624, 2001, 1012, 102], [101, 1996, 10682, 2001, 2936, 2084, 1996, 4624, 2001, 2146, 1012, 102], [101, 16172, 2003, 12283, 2084, 1045, 2113, 1037, 2879, 2040, 2003, 1012, 102], [101, 19863, 2102, 2003, 12283, 2084, 1045, 2903, 2008, 3021, 2003, 1012, 102], [101, 16172, 2003, 12283, 2084, 3021, 2003, 2844, 1998, 1012, 102], [101, 4670, 10749, 2062, 22017, 4371, 2084, 3581, 8823, 10500, 3111, 1998, 14450, 10749, 1012, 102], [101, 16172, 2003, 12283, 2084, 2008, 3021, 2003, 2003, 3227, 3373, 1012, 102], [101, 19863, 2102, 2003, 12283, 2084, 2009, 2003, 3227, 3373, 2008, 3021, 2003, 1012, 102], [101, 16172, 2003, 12283, 2084, 3021, 2011, 1021, 4971, 28136, 1012, 102], [101, 1996, 5333, 2029, 8040, 3217, 23884, 12382, 2135, 2435, 3419, 1005, 1055, 2269, 3445, 2010, 12142, 10300, 2011, 2274, 16653, 1012, 102], [101, 1996, 14263, 2041, 5521, 1996, 17153, 3406, 5562, 2011, 2061, 2172, 2008, 2002, 9471, 1996, 3732, 2001, 2130, 1999, 1996, 2679, 2151, 2062, 1012, 102], [101, 2040, 2354, 11021, 2052, 16857, 2188, 5127, 2011, 2008, 2172, 1029, 102], [101, 16172, 2003, 12283, 2084, 3021, 2011, 2008, 2172, 1012, 102], [101, 2198, 2003, 12283, 2084, 3021, 2011, 2008, 2172, 1012, 102], [101, 16172, 2003, 12283, 2084, 3021, 2011, 2004, 2172, 2004, 3533, 2003, 12283, 2084, 1996, 4907, 1012, 102], [101, 16172, 2003, 12283, 2084, 3021, 2011, 2062, 2084, 3533, 2003, 12283, 2084, 4907, 1012, 102], [101, 16172, 2003, 12283, 2084, 3021, 2011, 2004, 2172, 2004, 7955, 3849, 2000, 5987, 2033, 2000, 6449, 2000, 2383, 7271, 10116, 2008, 1045, 3373, 1012, 102], [101, 16172, 2003, 12283, 2084, 3021, 2011, 2004, 2172, 2004, 1045, 2113, 1037, 2879, 2040, 6732, 2008, 3021, 2003, 12283, 2084, 4907, 1012, 102], [101, 16172, 2003, 12283, 2084, 3021, 2011, 2004, 2172, 1037, 2848, 7164, 2008, 5006, 2003, 12283, 2084, 4907, 1012, 102], [101, 16172, 2003, 12283, 2084, 3021, 2011, 2004, 2172, 2004, 1045, 3422, 2035, 1996, 2399, 1998, 1045, 2113, 5006, 2003, 12283, 2084, 4907, 1012, 102], [101, 16172, 2003, 12283, 2084, 3021, 2011, 2004, 2172, 2004, 2008, 3021, 2003, 12283, 2084, 4907, 2003, 3373, 1012, 102], [101, 16172, 2003, 12283, 2084, 3021, 2011, 2004, 2172, 2004, 2009, 2003, 3373, 2008, 3533, 2003, 12283, 2084, 4907, 1012, 102], [101, 1996, 2600, 2001, 2205, 3082, 2005, 2033, 2000, 4060, 2039, 1012, 102], [101, 2023, 2600, 2003, 2205, 3082, 2005, 2033, 2000, 4088, 2000, 5630, 2055, 5094, 3960, 2000, 3046, 2000, 4060, 2009, 2039, 1012, 102], [101, 2023, 2600, 2003, 2205, 3082, 2005, 2033, 2000, 4088, 2000, 5630, 2055, 5094, 3960, 2000, 3046, 2000, 4060, 2039, 1012, 102], [101, 2023, 2600, 2003, 2205, 3082, 2005, 2149, 2000, 3046, 2000, 4366, 2008, 2057, 3856, 2039, 1012, 102], [101, 13365, 2003, 1037, 2210, 2205, 27233, 7685, 2005, 2033, 2000, 2215, 2000, 3046, 6809, 2009, 1998, 2300, 1999, 1037, 5572, 15569, 1012, 102], [101, 13365, 2003, 1037, 2210, 2205, 27233, 7685, 2005, 2033, 2000, 2215, 2000, 3046, 6809, 1998, 2300, 1999, 1037, 5572, 15569, 1012, 102], [101, 2008, 3538, 1997, 3256, 2003, 2205, 2502, 2005, 2005, 2032, 2000, 2022, 2583, 2000, 4060, 2039, 2007, 1037, 5572, 13102, 7828, 2000, 2022, 3497, 1012, 102], [101, 2008, 3538, 1997, 3256, 2003, 2205, 2502, 2005, 2009, 2000, 2022, 3497, 2005, 2032, 2000, 2022, 2583, 2000, 4060, 2039, 2007, 1037, 5572, 13102, 7828, 1012, 102], [101, 3960, 2003, 2205, 4857, 2005, 2033, 2000, 2022, 2583, 2000, 11025, 2046, 2010, 6598, 1012, 102], [101, 3960, 2003, 2205, 4857, 2005, 2033, 2000, 2022, 2583, 2000, 11025, 2046, 6598, 1012, 102], [101, 2023, 2600, 2003, 2422, 2438, 2005, 22548, 2000, 4060, 2009, 2039, 1012, 102], [101, 2023, 2600, 2003, 2422, 2438, 2005, 22548, 2000, 4060, 2039, 1012, 102], [101, 1996, 14829, 2024, 3201, 2005, 2017, 2000, 2404, 2006, 1012, 102], [101, 1996, 14829, 2024, 3201, 2005, 2017, 2000, 2175, 2055, 2927, 2000, 2404, 2068, 2006, 1012, 102], [101, 1996, 14829, 2024, 3201, 2005, 2017, 2000, 14970, 2008, 2017, 2097, 2404, 2068, 2006, 1012, 102], [101, 1996, 14829, 2024, 3201, 2005, 2017, 2000, 14970, 2008, 2017, 2097, 2404, 2006, 1012, 102], [101, 1996, 14829, 2024, 3201, 2005, 2017, 2000, 3046, 2068, 1998, 1996, 6007, 2006, 1012, 102], [101, 1996, 14829, 2024, 3201, 2005, 2017, 2000, 3046, 1998, 1996, 6007, 2006, 1012, 102], [101, 2198, 2003, 3201, 2005, 2017, 2000, 22459, 2010, 25277, 1012, 102], [101, 2198, 2003, 3201, 2005, 2017, 2000, 22459, 25277, 1012, 102], [101, 1996, 14829, 2024, 3201, 2005, 2009, 2000, 2022, 3740, 2005, 2017, 2000, 2404, 2006, 1012, 102], [101, 2009, 2003, 7823, 2000, 2377, 14681, 2015, 2006, 2023, 6710, 1012, 102], [101, 14681, 2015, 2024, 3697, 2000, 2377, 2006, 2023, 6710, 1012, 102], [101, 14681, 2015, 2024, 3733, 2000, 2377, 2006, 2023, 6710, 1012, 102], [101, 14681, 2015, 2024, 7823, 2000, 2377, 2006, 2023, 6710, 1012, 102], [101, 2023, 6710, 2003, 3733, 2000, 2377, 14681, 2015, 2006, 1012, 102], [101, 2023, 6710, 2003, 7823, 2000, 2377, 14681, 2015, 2006, 1012, 102], [101, 1045, 2081, 2198, 3733, 2000, 2131, 2247, 2007, 1012, 102], [101, 1045, 2081, 2009, 3733, 2000, 2131, 2247, 2007, 2198, 1012, 102], [101, 2198, 5363, 2000, 2022, 3733, 2000, 2131, 2247, 2007, 1012, 102], [101, 2198, 2699, 3021, 2000, 2377, 4638, 2545, 1012, 102], [101, 2198, 2699, 2005, 3021, 2000, 2377, 4638, 2545, 1012, 102], [101, 3021, 2052, 2022, 3733, 2005, 2005, 2017, 2000, 11834, 2007, 1999, 4924, 2000, 2468, 6450, 1012, 102], [101, 3021, 2052, 2022, 3733, 2005, 2009, 2000, 2468, 6450, 2005, 2017, 2000, 11834, 2007, 1999, 4924, 1012, 102], [101, 2026, 2269, 1010, 2002, 1005, 1055, 7508, 1010, 1998, 2026, 2388, 1010, 2016, 1005, 1055, 3306, 1012, 102], [101, 2065, 2026, 2269, 1010, 2002, 3310, 2188, 2397, 1010, 2026, 2388, 2467, 18651, 2015, 2032, 1012, 102], [101, 2009, 2318, 2000, 4542, 2044, 9901, 1998, 2033, 1010, 2057, 2018, 2633, 5407, 2000, 2256, 4272, 1012, 102], [101, 1045, 8969, 2008, 2026, 2269, 1010, 2002, 2001, 4389, 2004, 2019, 13547, 1012, 102], [101, 1045, 2056, 2008, 2026, 2269, 1010, 2002, 2001, 4389, 2004, 2019, 13547, 1012, 102], [101, 2008, 13435, 2002, 7777, 2003, 2085, 5793, 1012, 102], [101, 1045, 1005, 1049, 2183, 2000, 4339, 2000, 1996, 2208, 13745, 2065, 2062, 2084, 2028, 8448, 2026, 11429, 7545, 2067, 1012, 102], [101, 1045, 2123, 1005, 1056, 2113, 1996, 2879, 2040, 1996, 4870, 2984, 2435, 2000, 1012, 102], [101, 1045, 2123, 1005, 1056, 2113, 1996, 2879, 1996, 4870, 2040, 2984, 2435, 2000, 1012, 102], [101, 2008, 12367, 2545, 2027, 2196, 2224, 2003, 3555, 2011, 1996, 9915, 1012, 102], [101, 2026, 2269, 1010, 1045, 6684, 2412, 2156, 2032, 1998, 2026, 2388, 2043, 2027, 1005, 2128, 2025, 16124, 2012, 2169, 2060, 1012, 102], [101, 2023, 2858, 1010, 1045, 1005, 2310, 7042, 5154, 2774, 1998, 5642, 2870, 2006, 2009, 2035, 2026, 2166, 1012, 102], [101, 2026, 2269, 1010, 2008, 2002, 1005, 1055, 2973, 2182, 2035, 2010, 2166, 2003, 2092, 1011, 2124, 2000, 1996, 10558, 1012, 102], [101, 2026, 2564, 1010, 8307, 10312, 2014, 2192, 16078, 2197, 2305, 1012, 102], [101, 2027, 3764, 2000, 1996, 5553, 15660, 2055, 2008, 13742, 7483, 1010, 1996, 10558, 1012, 102], [101, 1996, 10558, 3764, 2000, 2032, 2055, 2008, 13742, 7483, 1010, 1996, 5553, 15660, 1012, 102], [101, 1996, 10558, 3764, 2000, 1996, 5553, 15660, 2055, 2009, 7483, 1010, 2008, 13742, 1012, 102], [101, 2008, 2027, 3764, 2000, 1996, 5553, 15660, 2055, 2008, 13742, 7483, 1010, 1996, 10558, 1010, 2003, 6659, 1012, 102], [101, 2008, 1996, 10558, 3764, 2000, 1996, 5553, 15660, 2055, 2009, 7483, 1010, 2008, 13742, 1010, 2003, 6659, 1012, 102], [101, 2008, 2027, 3764, 2000, 1996, 5553, 15660, 2055, 2008, 13742, 7483, 2003, 6659, 1010, 1996, 10558, 1012, 102], [101, 2027, 2292, 2032, 2175, 7483, 1010, 2002, 1012, 102], [101, 2027, 2292, 2032, 2175, 7483, 1010, 2032, 1012, 102], [101, 1045, 2066, 5404, 1010, 1045, 1012, 102], [101, 1045, 2066, 5404, 1010, 2033, 1012, 102], [101, 2057, 1005, 2222, 2175, 2362, 1010, 2149, 1012, 102], [101, 2027, 2064, 1005, 1056, 3233, 2169, 2060, 1010, 2027, 1012, 102], [101, 2027, 2064, 1005, 1056, 3233, 2169, 2060, 1010, 2068, 1012, 102], [101, 2057, 1005, 2222, 2079, 2009, 2362, 1010, 2017, 1998, 1045, 1012, 102], [101, 2057, 1005, 2222, 2079, 2009, 2362, 1010, 2017, 1998, 2033, 1012, 102], [101, 2027, 2064, 1005, 1056, 3233, 2169, 2060, 1010, 2002, 1998, 2016, 1012, 102], [101, 2027, 2064, 1005, 1056, 3233, 2169, 2060, 1010, 2032, 1998, 2014, 1012, 102], [101, 2002, 1010, 2027, 2292, 2032, 2175, 7483, 1012, 102], [101, 2032, 1010, 2027, 2292, 2032, 2175, 7483, 1012, 102], [101, 1045, 1010, 1045, 2066, 5404, 1012, 102], [101, 2033, 1010, 1045, 2066, 5404, 1012, 102], [101, 2057, 1010, 2057, 1005, 2222, 2175, 2362, 1012, 102], [101, 2149, 1010, 2057, 1005, 2222, 2175, 2362, 1012, 102], [101, 2027, 1010, 2027, 2064, 1005, 1056, 3233, 2169, 2060, 1012, 102], [101, 2068, 1010, 2027, 2064, 1005, 1056, 3233, 2169, 2060, 1012, 102], [101, 1045, 2387, 2984, 1998, 5116, 7483, 2115, 2767, 2013, 3731, 1012, 102], [101, 1045, 2387, 2984, 1998, 2032, 5116, 7483, 1010, 2115, 2767, 2013, 3731, 1012, 102], [101, 1045, 4384, 2482, 1999, 1996, 11202, 2197, 2305, 2115, 2767, 2013, 3731, 1012, 102], [101, 1045, 4384, 2010, 2482, 1999, 1996, 11202, 2197, 2305, 1010, 2115, 2767, 2013, 3731, 1012, 102], [101, 1045, 3764, 2000, 2055, 1996, 2162, 7483, 2008, 3124, 2040, 1005, 1055, 2467, 2206, 2149, 1012, 102], [101, 1045, 3764, 2000, 2032, 2055, 1996, 2162, 7483, 1010, 2008, 3124, 2040, 1005, 1055, 2467, 2206, 2149, 1012, 102], [101, 1045, 2074, 2387, 2008, 2611, 2040, 2146, 2198, 1005, 1055, 4366, 2008, 2002, 2001, 1037, 20795, 2081, 2035, 1996, 19377, 1012, 102], [101, 2035, 1996, 2493, 2040, 1996, 4981, 2029, 2027, 7864, 2020, 10223, 6508, 1045, 1005, 1049, 2025, 2183, 2000, 3499, 2000, 4236, 2279, 2744, 1012, 102], [101, 2134, 1005, 1056, 2008, 3124, 2040, 1996, 2208, 13745, 1998, 2032, 2018, 2464, 1037, 3909, 12901, 2099, 8579, 2039, 1029, 102], [101, 8809, 2003, 1037, 3124, 2040, 2005, 2005, 2032, 2000, 2994, 1999, 2082, 2052, 2022, 5236, 1012, 102], [101, 2332, 4290, 2003, 1037, 3185, 2029, 2017, 1005, 2222, 4756, 4426, 5305, 2065, 2017, 2156, 2009, 1012, 102], [101, 21982, 1010, 2040, 2003, 1996, 6047, 4355, 1997, 2149, 2035, 1010, 2288, 1996, 3437, 1999, 2698, 3823, 1012, 102], [101, 21982, 1010, 1998, 2002, 2003, 1996, 6047, 4355, 1997, 2149, 2035, 1010, 2288, 1996, 3437, 1999, 2698, 3823, 1012, 102], [101, 2151, 3076, 1010, 2040, 11651, 14829, 1010, 2003, 1037, 7370, 2121, 1012, 102], [101, 2053, 3076, 1010, 2040, 11651, 14829, 1010, 2003, 1037, 7370, 2121, 1012, 102], [101, 2296, 3076, 1010, 2040, 11651, 14829, 1010, 2003, 1037, 7370, 2121, 1012, 102], [101, 2151, 3076, 1010, 1998, 2002, 11651, 14829, 1010, 2003, 1037, 7370, 2121, 1012, 102], [101, 2053, 3076, 1010, 1998, 2002, 11651, 14829, 1010, 2003, 1037, 7370, 2121, 1012, 102], [101, 2003, 2130, 11805, 1010, 2040, 2003, 4147, 5003, 22909, 14829, 1010, 1037, 7370, 2121, 1029, 102], [101, 2698, 7222, 3628, 2024, 2369, 2008, 8659, 1012, 102], [101, 2045, 2024, 2698, 7222, 3628, 2369, 2008, 8659, 1012, 102], [101, 2008, 8659, 2038, 2698, 7222, 3628, 2369, 2009, 1012, 102], [101, 2045, 2097, 2022, 1037, 4920, 1999, 2990, 1005, 1055, 4979, 1012, 102], [101, 2045, 2097, 2022, 1996, 4920, 1999, 2990, 1005, 1055, 4979, 1012, 102], [101, 2990, 2097, 2031, 1037, 4920, 1999, 2010, 4979, 1012, 102], [101, 2008, 8659, 2038, 2698, 7222, 3628, 2369, 2993, 1012, 102], [101, 2008, 8659, 2038, 2698, 7222, 3628, 2369, 1996, 11190, 1012, 102], [101, 2990, 1005, 1055, 4979, 2097, 2031, 1037, 4920, 1999, 2009, 1012, 102], [101, 2045, 2003, 1037, 4920, 1999, 2198, 1005, 1055, 27565, 1005, 1055, 3356, 2157, 1011, 2192, 3420, 1012, 102], [101, 2198, 1005, 1055, 27565, 1005, 1055, 3356, 2157, 1011, 2192, 3420, 2038, 1037, 4920, 1012, 102], [101, 2198, 1005, 1055, 27565, 2038, 1037, 4920, 1999, 2049, 3356, 2157, 1011, 2192, 3420, 1012, 102], [101, 2198, 2038, 1037, 4920, 1999, 2010, 27565, 1005, 1055, 3356, 2157, 1011, 2192, 3420, 1012, 102], [101, 2198, 2038, 1037, 4920, 1999, 1996, 3356, 2157, 1011, 2192, 3420, 1997, 2010, 27565, 1012, 102], [101, 2045, 2024, 2698, 8198, 1999, 1996, 2341, 1998, 3332, 1012, 102], [101, 1996, 2341, 2038, 2698, 8198, 1999, 2009, 1998, 1996, 3332, 1012, 102], [101, 2045, 2003, 1037, 1038, 16930, 4509, 2006, 1996, 2203, 1997, 6128, 1005, 1055, 2905, 1005, 1055, 4451, 1012, 102], [101, 6128, 2038, 1037, 1038, 16930, 4509, 2006, 1996, 2203, 1997, 2010, 2905, 1005, 1055, 4451, 1012, 102], [101, 6128, 1005, 1055, 2905, 2038, 1037, 1038, 16930, 4509, 2006, 1996, 2203, 1997, 2014, 4451, 1012, 102], [101, 2045, 2003, 1037, 4920, 1999, 1996, 20452, 2029, 11291, 4149, 1999, 3731, 1012, 102], [101, 2045, 2001, 2019, 7561, 1999, 1996, 6947, 11545, 3591, 1012, 102], [101, 2045, 2001, 1037, 7488, 2369, 1996, 2482, 5965, 2001, 3564, 1999, 1012, 102], [101, 2198, 2018, 2019, 7561, 1999, 1996, 6947, 2002, 3591, 1012, 102], [101, 2198, 2018, 2019, 7561, 1999, 1996, 6947, 4532, 3591, 1012, 102], [101, 5965, 2018, 1037, 7488, 2369, 1996, 2482, 3533, 2001, 3564, 1999, 1012, 102], [101, 5965, 2018, 1037, 7488, 2369, 1996, 2482, 2002, 2001, 3564, 1999, 1012, 102], [101, 2045, 2001, 1037, 3756, 9127, 2006, 1996, 3899, 2029, 1996, 2482, 5229, 1012, 102], [101, 2045, 2001, 1037, 7488, 2369, 1996, 2482, 1996, 2051, 5968, 2001, 3564, 1999, 1012, 102], [101, 1996, 2482, 2018, 1037, 3756, 9127, 2006, 1996, 3899, 2029, 2009, 5229, 1012, 102], [101, 2008, 2962, 2038, 1037, 4920, 1999, 1996, 16985, 4502, 18639, 2029, 2009, 2003, 3173, 2091, 1012, 102], [101, 1996, 2051, 5968, 2018, 1037, 7488, 2369, 1996, 2482, 2029, 2009, 2001, 3564, 1999, 1012, 102], [101, 2045, 2020, 2195, 3634, 2111, 13175, 2005, 2033, 2000, 2404, 2091, 5251, 1012, 102], [101, 1996, 2980, 14557, 2029, 2045, 2020, 2195, 3634, 2111, 13175, 2005, 2033, 2000, 2404, 2091, 5251, 2357, 2041, 2000, 2031, 2042, 3561, 2007, 24048, 1012, 102], [101, 1996, 2980, 14557, 2018, 2195, 3634, 2111, 13175, 2005, 2033, 2000, 2404, 2009, 2091, 5251, 1012, 102], [101, 20081, 1998, 16525, 10948, 1012, 102], [101, 20081, 10948, 2007, 16525, 1012, 102], [101, 20081, 1998, 10948, 16525, 1012, 102], [101, 1998, 16525, 10948, 20081, 1012, 102], [101, 2009, 8572, 2015, 2033, 2005, 2014, 2000, 4929, 2008, 2214, 7349, 6525, 1012, 102], [101, 1996, 2069, 2611, 2005, 3183, 2009, 8572, 2015, 2033, 2000, 4929, 2008, 2214, 7349, 6525, 2003, 24722, 1012, 102], [101, 1996, 2069, 2611, 2040, 2009, 8572, 2015, 2033, 2000, 4929, 2008, 2214, 7349, 6525, 2003, 24722, 1012, 102], [101, 1045, 2052, 9544, 2009, 2005, 2045, 2000, 2022, 2053, 3331, 1012, 102], [101, 2002, 2435, 2026, 29549, 2000, 2008, 2611, 1012, 102], [101, 2002, 2435, 2008, 2611, 2026, 29549, 1012, 102], [101, 2029, 2611, 2106, 2002, 2507, 2026, 29549, 2000, 1029, 102], [101, 2029, 2611, 2106, 2002, 2507, 2026, 29549, 1029, 102], [101, 2026, 29549, 2020, 2445, 2000, 2008, 2611, 2011, 2032, 1012, 102], [101, 3021, 4484, 2008, 5074, 2038, 8828, 1996, 9850, 1012, 102], [101, 3021, 6884, 2008, 5074, 2018, 8828, 1996, 9850, 1012, 102], [101, 3021, 6884, 2008, 5074, 2038, 8828, 1996, 9850, 1012, 102], [101, 2054, 2106, 3021, 12210, 2008, 5074, 2018, 8828, 1029, 102], [101, 2054, 2106, 3021, 2035, 24746, 2008, 5074, 2018, 8828, 1029, 102], [101, 3021, 2134, 1005, 1056, 12210, 2008, 5074, 2018, 8828, 2505, 1012, 102], [101, 28806, 2134, 1005, 1056, 3189, 1996, 6061, 2008, 3087, 2018, 2187, 1012, 102], [101, 28806, 2134, 1005, 1056, 3189, 2008, 3087, 2018, 2187, 1012, 102], [101, 10334, 2040, 2412, 8415, 2015, 2012, 2033, 2488, 3422, 2010, 3357, 1012, 102], [101, 1045, 2215, 2035, 1996, 2493, 2040, 2031, 2412, 2699, 2000, 6986, 10882, 3527, 2000, 2265, 2033, 2037, 13521, 1012, 102], [101, 2069, 1996, 15183, 2040, 10334, 2038, 2412, 20114, 2123, 1005, 1056, 4287, 24532, 12870, 2015, 1012, 102], [101, 1996, 2069, 15183, 2040, 10334, 2038, 2412, 20114, 2123, 1005, 1056, 4287, 24532, 12870, 2015, 1012, 102], [101, 1045, 2064, 1005, 1056, 3342, 1996, 2171, 1997, 8307, 2040, 2018, 2151, 28616, 23795, 2015, 1012, 102], [101, 1045, 2064, 1005, 1056, 3342, 1996, 2171, 1997, 10334, 2040, 2018, 2151, 28616, 23795, 2015, 1012, 102], [101, 7955, 2040, 2038, 2412, 1010, 2499, 1999, 2151, 2436, 2029, 4838, 2151, 2828, 15994, 2029, 2018, 2412, 2042, 2109, 2000, 2828, 2151, 4144, 2029, 2018, 2000, 2022, 2772, 2011, 2151, 8911, 2040, 2412, 2499, 1999, 2151, 2533, 2066, 3067, 2097, 2113, 2054, 1045, 2812, 1012, 102], [101, 2053, 3076, 2040, 2412, 3632, 2000, 2885, 2412, 2038, 2438, 2769, 1012, 102], [101, 2296, 3076, 2040, 2412, 3632, 2000, 2885, 2412, 2038, 2438, 2769, 1012, 102], [101, 1045, 2134, 1005, 1056, 4521, 1996, 3256, 6949, 1998, 2151, 9850, 1012, 102], [101, 1045, 3651, 2008, 2009, 2018, 28270, 1998, 2070, 8765, 2018, 2042, 3908, 1012, 102], [101, 1045, 2134, 1005, 1056, 5382, 2008, 2009, 2018, 28270, 1998, 2070, 8765, 2018, 2042, 3908, 1012, 102], [101, 1045, 2134, 1005, 1056, 4521, 2151, 3256, 6949, 2030, 2151, 9850, 1012, 102], [101, 1045, 2134, 1005, 1056, 4521, 2151, 3256, 6949, 1998, 2151, 9850, 1012, 102], [101, 1045, 2134, 1005, 1056, 4521, 1996, 9850, 2030, 2151, 3256, 6949, 1012, 102], [101, 1045, 2134, 1005, 1056, 4521, 2151, 3256, 6949, 2030, 2984, 1005, 1055, 9850, 1012, 102], [101, 1045, 2134, 1005, 1056, 4521, 2151, 3256, 6949, 2030, 1996, 9850, 1012, 102], [101, 2198, 1998, 2984, 2777, 1999, 6004, 1012, 102], [101, 2198, 2777, 2984, 1999, 6004, 1012, 102], [101, 2261, 4898, 1998, 2151, 11170, 2015, 3113, 1999, 6004, 1012, 102], [101, 2261, 4898, 3113, 2151, 11170, 2015, 1999, 6004, 1012, 102], [101, 2026, 2567, 1998, 2261, 4841, 3113, 1999, 6004, 1012, 102], [101, 2026, 2567, 6010, 2261, 4841, 1999, 6004, 1012, 102], [101, 2053, 3213, 1010, 1998, 2053, 11170, 1010, 8847, 4415, 1012, 102], [101, 2053, 3213, 1010, 4496, 2151, 11170, 1010, 8847, 4415, 1012, 102], [101, 3021, 19821, 2984, 1998, 2370, 1012, 102], [101, 3021, 19821, 2370, 1998, 2984, 1012, 102], [101, 3021, 1998, 2984, 8871, 2370, 1012, 102], [101, 5557, 18521, 4532, 1998, 16356, 3709, 2841, 1012, 102], [101, 1996, 3282, 1998, 1037, 6412, 1997, 2993, 3913, 2006, 1996, 4879, 1012, 102], [101, 3021, 7164, 2008, 4698, 1998, 2002, 2024, 2714, 1012, 102], [101, 3021, 7164, 4698, 1998, 2032, 2000, 2022, 2714, 1012, 102], [101, 3021, 7164, 4698, 1998, 2370, 2000, 2022, 2714, 1012, 102], [101, 1045, 9772, 2008, 2008, 3960, 2038, 2151, 2769, 2003, 3056, 1012, 102], [101, 1045, 9772, 2008, 2009, 2003, 3056, 2008, 3960, 2038, 2151, 2769, 1012, 102], [101, 1045, 9772, 2008, 2008, 3960, 2038, 2070, 2769, 2003, 3056, 1012, 102], [101, 3419, 2097, 2025, 2486, 2017, 2000, 5914, 2151, 3076, 1012, 102], [101, 3419, 2097, 2486, 2017, 2000, 5914, 2053, 3076, 1012, 102], [101, 1996, 4898, 1997, 2151, 1997, 1996, 4311, 2134, 1005, 1056, 2113, 1996, 3437, 1012, 102], [101, 1996, 4898, 1997, 3904, 1997, 1996, 4311, 1012, 102], [101, 3419, 2097, 2486, 2017, 2000, 5914, 2053, 3076, 1010, 1998, 4445, 2097, 1045, 1012, 102], [101, 2009, 2003, 2025, 3056, 2008, 2017, 1005, 2222, 5914, 2151, 3076, 1012, 102], [101, 2009, 2003, 2025, 3056, 2008, 2017, 1005, 2222, 5914, 2151, 3327, 3076, 1012, 102], [101, 2009, 2003, 3056, 2008, 2017, 1005, 2222, 5914, 2053, 3076, 1012, 102], [101, 2008, 2017, 2097, 5914, 2151, 3327, 3076, 2003, 2025, 3056, 1012, 102], [101, 1996, 2158, 2040, 1045, 2435, 2198, 1037, 3861, 1997, 2001, 13852, 1012, 102], [101, 1996, 2158, 2040, 1045, 2435, 2198, 2023, 3861, 1997, 2001, 13852, 1012, 102], [101, 1996, 2158, 2040, 1045, 2435, 2198, 3968, 1005, 1055, 3861, 1997, 2001, 13852, 1012, 102], [101, 1045, 2435, 2990, 1037, 3861, 1997, 2870, 1012, 102], [101, 1045, 2435, 2990, 3968, 1005, 1055, 3861, 1997, 2870, 1012, 102], [101, 1045, 2134, 1005, 1056, 2507, 2990, 1037, 3861, 1997, 10334, 1012, 102], [101, 1045, 2134, 1005, 1056, 2507, 2990, 2023, 3861, 1997, 10334, 1012, 102], [101, 1045, 3246, 1045, 1005, 1049, 2025, 29449, 2075, 2006, 3087, 1005, 1055, 10393, 1012, 102], [101, 14863, 12789, 16921, 4914, 2008, 1996, 9947, 7279, 3661, 2018, 2042, 2517, 2011, 2026, 2905, 1998, 2032, 1012, 102], [101, 14863, 12789, 16921, 4914, 2008, 1996, 9947, 7279, 3661, 2018, 2042, 2517, 2011, 2026, 2905, 1998, 2370, 1012, 102], [101, 2008, 1996, 3103, 2001, 2041, 2003, 5793, 1012, 102], [101, 2008, 10334, 2412, 2187, 2012, 2035, 2003, 2025, 2124, 1012, 102], [101, 2008, 10334, 2412, 2187, 2012, 2035, 2003, 2025, 3056, 1012, 102], [101, 2008, 10334, 2412, 2187, 2012, 2035, 2003, 5263, 1012, 102], [101, 2008, 10334, 2412, 2187, 2012, 2035, 2003, 20096, 2033, 1012, 102], [101, 3892, 1010, 2054, 3960, 12984, 7483, 2145, 16958, 2204, 1012, 102], [101, 3892, 1010, 2054, 3960, 12984, 7483, 2145, 16958, 2204, 1010, 2061, 3892, 1010, 2054, 3960, 12984, 7483, 2097, 2022, 8828, 2039, 1012, 102], [101, 3892, 1010, 2054, 3960, 12984, 7483, 2145, 16958, 2204, 1010, 2061, 3892, 2009, 2097, 2022, 8828, 2039, 1012, 102], [101, 9246, 2435, 2026, 12789, 2019, 6207, 1012, 102], [101, 11797, 4711, 1996, 3608, 2000, 4644, 1012, 102], [101, 11797, 4711, 4644, 1996, 3608, 1012, 102], [101, 1996, 5005, 2435, 6609, 1037, 14978, 1012, 102], [101, 1996, 5005, 2435, 1037, 14978, 2000, 6609, 1012, 102], [101, 10454, 4711, 1996, 3608, 2013, 2188, 5127, 2000, 2353, 2918, 1012, 102], [101, 10454, 6476, 1996, 3608, 2013, 2188, 5127, 2000, 2353, 2918, 1012, 102], [101, 1045, 2741, 1996, 10165, 2013, 2026, 2160, 2012, 1996, 3509, 2000, 2026, 2160, 1999, 1996, 4020, 1012, 102], [101, 1045, 12057, 1996, 10165, 2013, 2026, 2160, 2012, 1996, 3509, 2000, 2026, 2160, 1999, 1996, 4020, 1012, 102], [101, 5965, 4711, 1996, 3608, 2104, 1996, 7424, 1012, 102], [101, 5965, 4711, 1996, 3608, 2369, 1996, 3392, 1012, 102], [101, 5965, 4711, 1996, 3608, 2058, 1996, 8638, 1012, 102], [101, 5965, 6476, 1996, 3608, 2104, 1996, 7424, 1012, 102], [101, 5965, 6476, 1996, 3608, 2369, 1996, 3392, 1012, 102], [101, 5965, 6476, 1996, 3608, 2058, 1996, 8638, 1012, 102], [101, 27579, 4711, 1996, 3608, 2125, 1996, 6847, 1012, 102], [101, 27579, 4711, 1996, 3608, 2041, 1996, 3332, 1012, 102], [101, 27579, 6476, 1996, 3608, 2041, 1996, 3332, 1012, 102], [101, 27579, 2741, 1996, 3482, 2125, 1996, 11142, 1012, 102], [101, 27579, 2741, 1996, 3482, 2041, 1997, 1996, 3573, 9954, 1012, 102], [101, 27579, 12057, 1996, 3482, 2125, 1996, 11142, 1012, 102], [101, 27579, 12057, 1996, 3482, 2041, 1997, 1996, 3573, 9954, 1012, 102], [101, 5180, 2741, 1996, 3482, 2012, 9806, 1012, 102], [101, 5180, 2741, 1996, 3482, 2875, 9806, 1012, 102], [101, 5180, 12057, 1996, 3482, 2012, 9806, 1012, 102], [101, 5180, 12057, 1996, 3482, 2875, 9806, 1012, 102], [101, 4776, 2003, 8025, 2004, 2000, 2339, 2014, 2269, 2741, 2014, 1037, 23921, 2000, 2637, 2000, 2709, 2188, 2012, 2320, 1012, 102], [101, 2073, 2106, 2017, 2507, 1996, 3608, 1029, 102], [101, 2073, 2106, 2017, 5466, 1996, 3608, 1029, 2000, 2353, 2918, 1012, 102], [101, 2073, 2106, 2017, 4604, 1996, 10165, 1029, 2000, 4199, 1012, 102], [101, 1045, 2435, 1996, 7427, 2000, 3814, 1012, 102], [101, 1045, 2435, 1996, 7427, 2000, 2414, 1012, 102], [101, 1045, 2741, 1996, 7427, 2000, 2414, 1012, 102], [101, 1045, 4711, 1996, 3608, 2000, 3814, 1012, 102], [101, 1045, 4711, 1996, 3608, 2000, 1996, 2060, 2217, 1997, 1996, 2492, 1012, 102], [101, 6294, 2435, 1996, 3608, 8576, 2000, 3021, 1012, 102], [101, 6294, 2435, 1996, 3608, 2035, 1996, 2126, 2000, 3021, 1012, 102], [101, 5180, 4711, 1996, 3608, 2035, 1996, 2126, 2000, 3021, 1012, 102], [101, 5180, 4711, 1996, 3608, 8576, 2000, 3021, 1012, 102], [101, 5180, 6476, 1996, 3608, 2035, 1996, 2126, 2000, 3021, 1012, 102], [101, 5180, 6476, 1996, 3608, 8576, 2000, 3021, 1012, 102], [101, 1045, 2741, 1996, 7427, 2035, 1996, 2126, 2105, 1996, 2088, 1012, 102], [101, 1045, 2741, 1996, 7427, 2000, 1996, 10227, 1012, 102], [101, 1045, 12057, 1996, 7427, 8576, 2105, 1996, 2088, 1012, 102], [101, 1045, 12057, 1996, 7427, 2035, 1996, 2126, 2105, 1996, 2088, 1012, 102], [101, 1045, 12057, 1996, 7427, 8576, 2000, 1996, 10227, 1012, 102], [101, 5965, 2435, 1996, 3608, 2104, 9618, 1012, 102], [101, 5965, 2435, 1996, 3608, 2369, 9618, 1012, 102], [101, 5965, 2435, 1996, 3608, 2058, 9618, 1012, 102], [101, 5965, 3253, 1996, 3608, 2104, 9618, 1012, 102], [101, 5965, 3253, 1996, 3608, 2058, 9618, 1012, 102], [101, 3520, 2435, 1996, 3608, 2125, 1996, 11142, 1012, 102], [101, 3520, 3253, 1996, 3608, 2125, 1996, 11142, 1012, 102], [101, 10454, 2435, 1996, 3608, 2012, 3960, 1012, 102], [101, 10454, 2435, 1996, 3608, 2875, 3960, 1012, 102], [101, 10454, 3253, 1996, 3608, 2012, 3960, 1012, 102], [101, 10454, 3253, 1996, 3608, 2875, 3960, 1012, 102], [101, 2507, 1037, 4840, 5435, 1997, 6773, 2000, 1996, 2392, 2341, 1012, 102], [101, 2028, 1997, 1996, 3644, 2336, 2003, 1037, 7455, 4801, 2611, 1010, 2040, 2435, 1037, 2304, 3239, 2000, 1996, 4845, 2007, 1996, 2446, 6147, 2077, 1996, 2707, 1997, 1996, 2162, 1012, 102], [101, 1996, 2341, 2038, 1037, 4840, 5435, 1997, 6773, 1012, 102], [101, 1996, 7455, 4801, 2611, 2038, 1037, 2304, 3239, 1012, 102], [101, 1045, 4872, 1037, 2204, 2051, 2000, 2035, 2040, 2272, 1012, 102], [101, 2035, 2040, 2272, 2097, 2031, 1037, 2204, 2051, 1012, 102], [101, 2002, 2351, 2013, 15575, 1012, 102], [101, 1996, 2300, 12501, 2046, 3256, 1012, 102], [101, 1996, 2300, 12501, 2000, 3256, 1012, 102], [101, 1037, 2002, 6199, 2100, 7680, 1997, 2769, 2234, 2000, 2032, 2013, 2010, 5615, 1012, 102], [101, 1996, 2485, 8248, 2007, 1996, 2375, 2404, 1996, 3571, 1997, 2643, 1999, 2032, 1012, 102], [101, 2016, 3062, 1999, 2293, 1012, 102], [101, 2016, 3062, 2046, 1037, 21396, 2243, 1012, 102], [101, 2016, 3062, 2046, 1037, 11962, 1012, 102], [101, 2000, 3183, 2106, 2017, 2507, 1996, 3608, 1029, 102], [101, 2000, 3183, 2106, 2017, 5466, 1996, 3608, 1029, 102], [101, 2073, 2106, 2017, 5466, 1996, 3608, 1029, 102], [101, 2000, 3183, 2106, 2017, 4604, 1996, 7427, 1029, 102], [101, 2073, 2106, 2017, 4604, 1996, 7427, 1029, 102], [101, 3044, 4711, 1996, 3608, 2000, 1996, 2034, 18038, 1012, 102], [101, 3044, 4711, 1996, 2034, 18038, 1996, 3608, 1012, 102], [101, 3044, 4711, 1996, 2034, 2918, 1996, 3608, 1012, 102], [101, 3044, 4372, 13469, 2094, 3557, 2010, 2204, 7280, 1012, 102], [101, 3044, 4372, 13469, 2094, 2010, 2204, 7280, 2000, 3557, 1012, 102], [101, 2053, 2028, 2064, 9641, 2017, 2008, 7615, 1012, 102], [101, 1996, 19396, 3465, 2026, 5615, 1037, 5333, 1012, 102], [101, 2984, 4036, 2198, 15397, 1012, 102], [101, 2984, 4036, 15397, 2000, 2198, 1012, 102], [101, 1045, 4711, 1996, 3608, 2000, 6426, 1010, 2021, 2009, 3062, 2460, 1997, 2032, 1012, 102], [101, 4098, 3253, 1996, 5694, 2393, 1010, 2021, 2027, 4188, 2010, 3749, 1012, 102], [101, 4098, 3253, 2393, 2000, 1996, 5694, 1010, 2021, 2027, 4188, 2010, 3749, 1012, 102], [101, 4532, 5763, 2014, 2214, 2482, 2000, 6615, 1010, 2021, 2059, 2435, 2009, 2000, 2014, 2365, 2612, 1012, 102], [101, 1045, 4036, 2068, 2394, 2005, 2019, 2972, 2095, 1010, 2021, 2027, 2123, 1005, 1056, 4025, 2000, 2031, 4342, 1012, 102], [101, 1045, 3191, 2032, 1996, 4481, 1010, 2021, 2043, 1045, 2246, 2039, 1010, 2002, 2001, 2908, 1012, 102], [101, 1045, 5466, 2017, 1037, 2166, 4179, 1998, 2017, 17565, 1012, 102], [101, 1045, 6476, 2032, 1996, 3608, 1010, 2021, 1996, 3612, 8682, 2009, 2004, 28473, 1012, 102], [101, 1045, 4711, 2984, 1996, 3608, 1010, 2021, 2016, 2001, 2559, 2012, 1996, 5055, 3909, 8964, 1998, 2134, 1005, 1056, 2130, 5060, 1012, 102], [101, 1045, 4711, 1996, 3608, 2000, 2984, 1010, 2021, 2016, 2001, 2559, 2012, 1996, 5055, 3909, 8964, 1998, 2134, 1005, 1056, 2130, 5060, 1012, 102], [101, 4572, 12057, 3520, 1037, 10165, 1010, 2021, 2009, 2196, 3369, 1012, 102], [101, 4572, 2741, 3520, 1037, 10165, 1010, 2021, 2009, 2196, 3369, 1012, 102], [101, 1996, 2610, 3191, 1996, 26485, 1005, 2916, 2000, 2068, 1010, 2021, 2025, 1037, 2309, 2028, 2001, 7079, 3086, 1012, 102], [101, 1045, 2626, 1037, 3661, 2000, 10503, 1010, 2021, 1045, 9538, 2009, 2039, 2077, 1045, 2741, 2009, 1012, 102], [101, 1996, 2610, 3191, 1996, 26485, 2037, 2916, 1010, 2021, 2025, 1037, 2309, 2028, 2001, 7079, 3086, 1012, 102], [101, 1045, 2626, 10503, 1037, 3661, 1010, 2021, 1045, 9538, 2009, 2039, 2077, 1045, 2741, 2009, 1012, 102], [101, 5754, 15826, 1996, 8356, 1010, 2021, 2016, 2134, 1005, 1056, 3926, 2009, 1012, 102], [101, 4074, 3191, 1996, 3780, 2005, 2019, 3178, 1012, 102], [101, 4074, 3191, 1996, 3780, 1999, 2019, 3178, 1012, 102], [101, 1045, 15307, 1996, 2338, 8576, 2000, 4116, 1012, 102], [101, 1045, 15307, 1996, 2338, 2035, 1996, 2126, 2000, 4116, 1012, 102], [101, 1045, 15307, 1996, 2338, 2087, 1997, 1996, 2126, 2000, 4116, 1012, 102], [101, 1045, 15307, 4116, 1996, 2338, 2112, 4576, 1012, 102], [101, 1045, 15307, 4116, 1996, 2338, 8576, 1012, 102], [101, 1045, 15307, 4116, 1996, 2338, 2035, 1996, 2126, 1012, 102], [101, 1045, 15307, 4116, 1996, 2338, 2087, 1997, 1996, 2126, 1012, 102], [101, 5863, 3369, 2112, 4576, 2012, 1996, 2276, 1012, 102], [101, 5863, 3369, 2035, 1996, 2126, 2012, 1996, 2276, 1012, 102], [101, 5863, 3369, 2087, 1997, 1996, 2126, 2012, 1996, 2276, 1012, 102], [101, 1996, 2214, 3899, 2351, 2112, 4576, 1012, 102], [101, 1996, 2214, 3899, 2351, 8576, 1012, 102], [101, 1996, 2214, 3899, 2351, 2035, 1996, 2126, 1012, 102], [101, 7525, 4036, 1996, 2336, 1996, 12440, 1010, 2021, 2069, 2288, 2004, 2521, 2004, 1996, 3661, 1036, 1036, 1054, 1005, 1005, 1012, 102], [101, 21510, 2638, 3191, 1996, 2336, 22708, 4231, 1010, 2021, 2027, 3062, 6680, 2077, 2016, 2288, 2000, 1996, 2203, 1012, 102], [101, 27805, 2957, 11296, 2435, 5879, 5653, 2121, 1037, 2338, 1012, 102], [101, 11296, 1005, 1055, 5248, 2435, 5653, 2121, 2019, 2801, 2005, 1037, 2338, 1012, 102], [101, 11296, 1005, 1055, 5248, 2435, 2019, 2801, 2005, 1037, 2338, 2000, 2296, 4988, 2542, 1999, 2047, 2259, 2103, 1999, 1996, 3955, 1012, 102], [101, 2057, 2435, 1037, 4840, 5435, 1997, 6773, 2000, 1996, 2160, 1012, 102], [101, 1996, 2274, 1036, 1036, 4165, 19464, 1005, 1005, 4109, 2435, 1037, 17037, 3512, 2250, 2000, 2380, 2675, 1012, 102], [101, 2175, 17080, 2063, 21067, 2145, 2064, 2507, 1037, 3538, 1997, 2010, 2568, 2000, 1996, 8529, 4523, 1012, 102], [101, 1045, 2741, 1996, 18968, 2000, 1996, 6548, 1012, 102], [101, 1045, 2741, 1996, 6548, 1996, 18968, 1012, 102], [101, 11296, 1005, 1055, 5248, 2435, 2019, 2801, 2005, 1037, 2338, 2000, 2296, 4988, 2542, 1999, 2047, 2259, 1012, 102], [101, 1996, 2189, 15307, 1037, 17037, 3512, 2250, 2000, 1996, 2283, 1012, 102], [101, 2009, 2003, 2200, 3697, 2000, 2131, 2019, 2801, 2005, 1037, 2338, 3432, 2013, 2019, 4357, 1012, 102], [101, 2009, 2003, 4895, 16416, 20782, 1010, 12361, 2000, 2507, 1037, 14978, 2000, 3087, 2040, 3504, 2524, 2012, 1996, 2235, 6140, 1012, 102], [101, 1036, 1036, 2725, 2026, 7773, 1005, 1005, 3957, 1037, 14978, 2000, 2570, 3867, 1997, 4841, 12876, 2005, 1052, 8873, 6290, 1010, 2029, 3084, 5939, 7770, 4747, 3255, 4335, 4200, 1012, 102], [101, 8685, 2758, 2008, 2002, 2038, 2589, 2062, 2084, 3432, 2507, 1037, 4840, 5435, 1997, 6773, 2000, 1996, 2609, 1012, 102], [101, 1045, 2228, 2009, 1005, 1055, 2051, 2017, 2507, 2115, 8403, 7355, 2000, 2619, 2842, 999, 102], [101, 10666, 25401, 1996, 4264, 2007, 2300, 1012, 102], [101, 1996, 7500, 8209, 18108, 2046, 1996, 11122, 1012, 102], [101, 9018, 3139, 1037, 8768, 2058, 1996, 3336, 1012, 102], [101, 9018, 3139, 1996, 3336, 2007, 1037, 8768, 1012, 102], [101, 17081, 8542, 14380, 9648, 2046, 1996, 8070, 1012, 102], [101, 17081, 8542, 1996, 8070, 2007, 14380, 9648, 1012, 102], [101, 1996, 7500, 14019, 18108, 2046, 1996, 11122, 1012, 102], [101, 1996, 3332, 3631, 1012, 102], [101, 1996, 2210, 2879, 3631, 1996, 3332, 1012, 102], [101, 1037, 10442, 2596, 2041, 1997, 1996, 16669, 1005, 1055, 6045, 1012, 102], [101, 1996, 16669, 2596, 1037, 10442, 2041, 1997, 2010, 6045, 1012, 102], [101, 9246, 7844, 1037, 9121, 2041, 1997, 3536, 2005, 1996, 3336, 1012, 102], [101, 9246, 7844, 2070, 3536, 2046, 1037, 9121, 2005, 1996, 3336, 1012, 102], [101, 9246, 7844, 1996, 3336, 2070, 3536, 2046, 1037, 9121, 1012, 102], [101, 5545, 3013, 1996, 7852, 1012, 102], [101, 9965, 3631, 1996, 18781, 1012, 102], [101, 6609, 5028, 1996, 4937, 1012, 102], [101, 17081, 2718, 1996, 2341, 1012, 102], [101, 6121, 18781, 2015, 3338, 4089, 1012, 102], [101, 8870, 3543, 4089, 1012, 102], [101, 2341, 11048, 2718, 4089, 1012, 102], [101, 5545, 3013, 2012, 1996, 7852, 1012, 102], [101, 9965, 3631, 2012, 1996, 18781, 1012, 102], [101, 6609, 5028, 2012, 1996, 4937, 1012, 102], [101, 17081, 2718, 2012, 1996, 2341, 1012, 102], [101, 5545, 3013, 3021, 1005, 1055, 2849, 1012, 102], [101, 5545, 3013, 3021, 2006, 1996, 2849, 1012, 102], [101, 9965, 3631, 3021, 1005, 1055, 4344, 1012, 102], [101, 6609, 5028, 3021, 1005, 1055, 3244, 1012, 102], [101, 6609, 5028, 3021, 2006, 1996, 3244, 1012, 102], [101, 17081, 2718, 3021, 1005, 1055, 2067, 1012, 102], [101, 17081, 2718, 3021, 2006, 1996, 2067, 1012, 102], [101, 3744, 2333, 1996, 2795, 1012, 102], [101, 3744, 2333, 2012, 1996, 2795, 1012, 102], [101, 5545, 3013, 1996, 5164, 1012, 102], [101, 1996, 5164, 3013, 1012, 102], [101, 1996, 4937, 5028, 1012, 102], [101, 1996, 2341, 2718, 1012, 102], [101, 1037, 1996, 14998, 7659, 1996, 6240, 1012, 102], [101, 1996, 6240, 7659, 4089, 1012, 102], [101, 9965, 3631, 1996, 6121, 1012, 102], [101, 6121, 7807, 2012, 1996, 15989, 3543, 1012, 102], [101, 5163, 4748, 16610, 2413, 25123, 1012, 102], [101, 2413, 25123, 4748, 5686, 4089, 1012, 102], [101, 7437, 2354, 1996, 3437, 1012, 102], [101, 1996, 3437, 4282, 4089, 1012, 102], [101, 3021, 13750, 1996, 3384, 1012, 102], [101, 3021, 13750, 1996, 3384, 18550, 1012, 102], [101, 2023, 3384, 2180, 1005, 1056, 9044, 4257, 1012, 102], [101, 1996, 2452, 3631, 1012, 102], [101, 2027, 2435, 1996, 10165, 2000, 2033, 1012, 102], [101, 1996, 10165, 2435, 2000, 2033, 1012, 102], [101, 1996, 7852, 3013, 1012, 102], [101, 1996, 16669, 2596, 1037, 10855, 2013, 2010, 10353, 1012, 102], [101, 13378, 5598, 1996, 3586, 2058, 1996, 8638, 1012, 102], [101, 1996, 3586, 5598, 2058, 1996, 8638, 1012, 102], [101, 1996, 7155, 2743, 1996, 11432, 2083, 1996, 15079, 1012, 102], [101, 1996, 11432, 2743, 2083, 1996, 15079, 1012, 102], [101, 1996, 4330, 8369, 1012, 102], [101, 2027, 2768, 1996, 6231, 2006, 1996, 24496, 1012, 102], [101, 1996, 6231, 2768, 2006, 1996, 24496, 1012, 102], [101, 1996, 2390, 20451, 1996, 3548, 1999, 1996, 26301, 1012, 102], [101, 3684, 10958, 9032, 4570, 2013, 1996, 3103, 1012, 102], [101, 1996, 3103, 10958, 9032, 4570, 3684, 1012, 102], [101, 1996, 15971, 4628, 7147, 2012, 1996, 4306, 1012, 102], [101, 7673, 11308, 2094, 1012, 102], [101, 1045, 20665, 2026, 2227, 1012, 102], [101, 1045, 20665, 1012, 102], [101, 18020, 24148, 2098, 2014, 2606, 1012, 102], [101, 18020, 24148, 2098, 1012, 102], [101, 13167, 11867, 27361, 1012, 102], [101, 10454, 5102, 23878, 1012, 102], [101, 1045, 20665, 2870, 1012, 102], [101, 18020, 7765, 1012, 102], [101, 13167, 3013, 2841, 1012, 102], [101, 13167, 3013, 1012, 102], [101, 2057, 8209, 9731, 3031, 1996, 3902, 1012, 102], [101, 2057, 8209, 3031, 1996, 3902, 1012, 102], [101, 2057, 2766, 9731, 2489, 1012, 102], [101, 4776, 2777, 18305, 1012, 102], [101, 4776, 1998, 18305, 2777, 1012, 102], [101, 15507, 11834, 3064, 9618, 1012, 102], [101, 15507, 1998, 9618, 11834, 3064, 1012, 102], [101, 1996, 7144, 10308, 1996, 10437, 19894, 1012, 102], [101, 1996, 7144, 1998, 1996, 10437, 19894, 10308, 1012, 102], [101, 3304, 12817, 2605, 1012, 102], [101, 3304, 1998, 2605, 3543, 1012, 102], [101, 9155, 5275, 6330, 1012, 102], [101, 9155, 1998, 6330, 5275, 1012, 102], [101, 1996, 3696, 7420, 2149, 2114, 10080, 2006, 1996, 8644, 1012, 102], [101, 1996, 3696, 7420, 2114, 10080, 2006, 1996, 8644, 1012, 102], [101, 2005, 6594, 1997, 1996, 2168, 9575, 1999, 2845, 1012, 102], [101, 2008, 3899, 15424, 2111, 1012, 102], [101, 2008, 3899, 15424, 1012, 102], [101, 1045, 3013, 1996, 7852, 2007, 2023, 5442, 1012, 102], [101, 2023, 5442, 3013, 1996, 7852, 1012, 102], [101, 2023, 5442, 2987, 1005, 1056, 3013, 1012, 102], [101, 2122, 18330, 2015, 12528, 2092, 1012, 102], [101, 2023, 3698, 2636, 2092, 1012, 102], [101, 2023, 17428, 26929, 2092, 1012, 102], [101, 2023, 2843, 3258, 3730, 6132, 1010, 28384, 2015, 1010, 1998, 18227, 1012, 102], [101, 2023, 3907, 4550, 2015, 1010, 18227, 1010, 1998, 12342, 2015, 1012, 102], [101, 2023, 3145, 2180, 1005, 1056, 2330, 1012, 102], [101, 2023, 3145, 2180, 1005, 1056, 2330, 1996, 23407, 1012, 102], [101, 2023, 8691, 2180, 1005, 1056, 3338, 1012, 102], [101, 2023, 8691, 2180, 1005, 1056, 3338, 1996, 3332, 1012, 102], [101, 2027, 3724, 2037, 2126, 2083, 1996, 4306, 1012, 102], [101, 2027, 3724, 2083, 1996, 4306, 1012, 102], [101, 8670, 3489, 2005, 2382, 2781, 1012, 102], [101, 2066, 1996, 3256, 6949, 1012, 102], [101, 2066, 2044, 18767, 1012, 102], [101, 13723, 2718, 1996, 8638, 1012, 102], [101, 13723, 2718, 2012, 1996, 8638, 1012, 102], [101, 24021, 3981, 25401, 1996, 13451, 3111, 1012, 102], [101, 9965, 3631, 2012, 1996, 7852, 1012, 102], [101, 1045, 3724, 1996, 2795, 1012, 102], [101, 1045, 3724, 2012, 1996, 2795, 1012, 102], [101, 1045, 3724, 2006, 1996, 2795, 1012, 102], [101, 1045, 3724, 2114, 1996, 2795, 1012, 102], [101, 1996, 8000, 9152, 12820, 1996, 8808, 1012, 102], [101, 1996, 8000, 9152, 12820, 2012, 1996, 8808, 1012, 102], [101, 1996, 8000, 9152, 12820, 2006, 1996, 8808, 1012, 102], [101, 9018, 2333, 2012, 1996, 4937, 1012, 102], [101, 9246, 6589, 2039, 1996, 3137, 1012, 102], [101, 9246, 6589, 1996, 3137, 1012, 102], [101, 2027, 17260, 2094, 2247, 1996, 17263, 1012, 102], [101, 2027, 17260, 2094, 1996, 17263, 1012, 102], [101, 1996, 25516, 19223, 2105, 1996, 3011, 1012, 102], [101, 1996, 25516, 19223, 1996, 3011, 1012, 102], [101, 9246, 3254, 9287, 1996, 5108, 1012, 102], [101, 10454, 2777, 4532, 1012, 102], [101, 10454, 14218, 4532, 1012, 102], [101, 3021, 2853, 3419, 1037, 2482, 1012, 102], [101, 3021, 2741, 1037, 7427, 2414, 1012, 102], [101, 3021, 2741, 3419, 1037, 7427, 1012, 102], [101, 3021, 2741, 2414, 1037, 7427, 1012, 102], [101, 9246, 7844, 1037, 9121, 2005, 1996, 3336, 1012, 102], [101, 9246, 7844, 1996, 3336, 1037, 9121, 1012, 102], [101, 1996, 4944, 3479, 1037, 2160, 2005, 1996, 3232, 1012, 102], [101, 2990, 25401, 6773, 2006, 1996, 2813, 1012, 102], [101, 2990, 25401, 1996, 2813, 2007, 6773, 1012, 102], [101, 2238, 3139, 1996, 8768, 2058, 1996, 3336, 1012, 102], [101, 2238, 3139, 1996, 3336, 2007, 1037, 8768, 1012, 102], [101, 21772, 8542, 1996, 4605, 2007, 2300, 1012, 102], [101, 2888, 5985, 10447, 2013, 1996, 2795, 1012, 102], [101, 2888, 5985, 1996, 2795, 1997, 10447, 1012, 102], [101, 1996, 12383, 10312, 1996, 4169, 2013, 1996, 2688, 1012, 102], [101, 1996, 12383, 10312, 1996, 2688, 1997, 1996, 4169, 1012, 102], [101, 1996, 3460, 21391, 6986, 1997, 18583, 1012, 102], [101, 6330, 8342, 1996, 2813, 1012, 102], [101, 6330, 8342, 1996, 2813, 1997, 27556, 1012, 102], [101, 13734, 2024, 21708, 2075, 1999, 1996, 3871, 1012, 102], [101, 1996, 3871, 2003, 21708, 2075, 2007, 13734, 1012, 102], [101, 2111, 2024, 2156, 20744, 1999, 1996, 2675, 1012, 102], [101, 1996, 20787, 2003, 14906, 2075, 2007, 7125, 1012, 102], [101, 8044, 5985, 2013, 1996, 3712, 1012, 102], [101, 1996, 3712, 5985, 1012, 102], [101, 9246, 7844, 1996, 3538, 1997, 3536, 2046, 1037, 9121, 1012, 102], [101, 2585, 3833, 1037, 2160, 2041, 1997, 1012, 102], [101, 2585, 3833, 1037, 2160, 2013, 14219, 1012, 102], [101, 2585, 3833, 1996, 14219, 2046, 1037, 2160, 1012, 102], [101, 1045, 12428, 1996, 6763, 2046, 1037, 10424, 14573, 1012, 102], [101, 1996, 6965, 2357, 2032, 2046, 1037, 10729, 1012, 102], [101, 1996, 6965, 2357, 2032, 2013, 1037, 3159, 1012, 102], [101, 2019, 6116, 3392, 2097, 4982, 2013, 2008, 9353, 9691, 1012, 102], [101, 1996, 6965, 2357, 2032, 2013, 1037, 3159, 2046, 1037, 10729, 1012, 102], [101, 9246, 7844, 1996, 3538, 1997, 3536, 2013, 1037, 3589, 2046, 1037, 9121, 1012, 102], [101, 1045, 12428, 1996, 6763, 2013, 1037, 25081, 2046, 1037, 10424, 14573, 1012, 102], [101, 2002, 2357, 2013, 1037, 3159, 2046, 1037, 10729, 1012, 102], [101, 2008, 9353, 9691, 2097, 4982, 2013, 1037, 6534, 2046, 2019, 6116, 3392, 1012, 102], [101, 1996, 2482, 17745, 2007, 1996, 8638, 1012, 102], [101, 1045, 5459, 1996, 10930, 13687, 2013, 1996, 2317, 1012, 102], [101, 1045, 5459, 1996, 10930, 13687, 1998, 1996, 2317, 1012, 102], [101, 1045, 3816, 1996, 5699, 1998, 1996, 12136, 1012, 102], [101, 1045, 5457, 3814, 2007, 4698, 1012, 102], [101, 1045, 5457, 3814, 1998, 4698, 1012, 102], [101, 8507, 19374, 1996, 3830, 2000, 1996, 3104, 1012, 102], [101, 8507, 19374, 1996, 3830, 1998, 1996, 3104, 1012, 102], [101, 14207, 6585, 2094, 5154, 2774, 2007, 3769, 2774, 1012, 102], [101, 14207, 6585, 2094, 5154, 2774, 1998, 3769, 2774, 2362, 1012, 102], [101, 1045, 3631, 1996, 1056, 16279, 1998, 1996, 3589, 4237, 1012, 102], [101, 1045, 12230, 1996, 5047, 1998, 1996, 3482, 4237, 1012, 102], [101, 15507, 3530, 2007, 9618, 1012, 102], [101, 15507, 1998, 9618, 3530, 1012, 102], [101, 1996, 3514, 5459, 2013, 1996, 29387, 1012, 102], [101, 1996, 3514, 1998, 29387, 5459, 1012, 102], [101, 3021, 2496, 2007, 14986, 1012, 102], [101, 3021, 1998, 14986, 2496, 1012, 102], [101, 1996, 1056, 16279, 3631, 2125, 1997, 1996, 3589, 1012, 102], [101, 1996, 1056, 16279, 1998, 1996, 3589, 3631, 1012, 102], [101, 1996, 6763, 1998, 1996, 6949, 3816, 2362, 1012, 102], [101, 3248, 1998, 7250, 2015, 6585, 2362, 1012, 102], [101, 1996, 1056, 16279, 1998, 1996, 3589, 3631, 4237, 1012, 102], [101, 1996, 10930, 13687, 1998, 1996, 2317, 5459, 4237, 1012, 102], [101, 1996, 3648, 3591, 1996, 3453, 2007, 1037, 3396, 1012, 102], [101, 1996, 3648, 3253, 1037, 3396, 2000, 1996, 3453, 1012, 102], [101, 1996, 3648, 3253, 1996, 3453, 2007, 1037, 3396, 1012, 102], [101, 1996, 3648, 12279, 2094, 1037, 3396, 2000, 1996, 3453, 1012, 102], [101, 1996, 3648, 12279, 2094, 1996, 3453, 2007, 1037, 3396, 1012, 102], [101, 1996, 13713, 3917, 14551, 1996, 2171, 2006, 1996, 3614, 1012, 102], [101, 1996, 13713, 3917, 14551, 1996, 3614, 2007, 1996, 2171, 1012, 102], [101, 1996, 13713, 3917, 15826, 1996, 2171, 2006, 1996, 3614, 1012, 102], [101, 1996, 13713, 3917, 15826, 1996, 3614, 2007, 1996, 2171, 1012, 102], [101, 1996, 13713, 3917, 7429, 1996, 2171, 2006, 1996, 3614, 1012, 102], [101, 1996, 13713, 3917, 7429, 1996, 3614, 2007, 1996, 2171, 1012, 102], [101, 4422, 2718, 1996, 8638, 2007, 1996, 6293, 1012, 102], [101, 2123, 25414, 3064, 1996, 22529, 2007, 1996, 3780, 1012, 102], [101, 12684, 16276, 1996, 8416, 2007, 1037, 12201, 1012, 102], [101, 13723, 2718, 1996, 8638, 2007, 1996, 6293, 1012, 102], [101, 18062, 11248, 1996, 4926, 2006, 6609, 1012, 102], [101, 18062, 11248, 6609, 2005, 1996, 4926, 1012, 102], [101, 18062, 10033, 1996, 4926, 2006, 6609, 1012, 102], [101, 16096, 14682, 1996, 5249, 2005, 8448, 1012, 102], [101, 16096, 14682, 2005, 8448, 1999, 1996, 5249, 1012, 102], [101, 16096, 14682, 8448, 1999, 1996, 5249, 1012, 102], [101, 9606, 9022, 1996, 4981, 2005, 1037, 9789, 1012, 102], [101, 9606, 9022, 2005, 1037, 9789, 1999, 1996, 4981, 1012, 102], [101, 9606, 9022, 1037, 9789, 1999, 1996, 4981, 1012, 102], [101, 1045, 15858, 1996, 5249, 2005, 2208, 1012, 102], [101, 1045, 15858, 2005, 2208, 1999, 1996, 5249, 1012, 102], [101, 1045, 15858, 2208, 1999, 1996, 5249, 1012, 102], [101, 2057, 10847, 2005, 9767, 1999, 1996, 2181, 1012, 102], [101, 2057, 10847, 9767, 1999, 1996, 2181, 1012, 102], [101, 2057, 19379, 26860, 2094, 1996, 4624, 2005, 4981, 1012, 102], [101, 2057, 19379, 26860, 2094, 2083, 1996, 4624, 2005, 4981, 1012, 102], [101, 2057, 19379, 26860, 2094, 4981, 2083, 1996, 4624, 1012, 102], [101, 1045, 4912, 1996, 5249, 2005, 2208, 1012, 102], [101, 1045, 4912, 2005, 2208, 1999, 1996, 5249, 1012, 102], [101, 7367, 13786, 5028, 1996, 3586, 2006, 1996, 2067, 1012, 102], [101, 7367, 13786, 5028, 1996, 3586, 1005, 1055, 2067, 1012, 102], [101, 1996, 3586, 6476, 10647, 1999, 1996, 12277, 1012, 102], [101, 1996, 3586, 6476, 10647, 1005, 1055, 12277, 1012, 102], [101, 12684, 16826, 10409, 1999, 1996, 10335, 1012, 102], [101, 12684, 16826, 10409, 1005, 1055, 10335, 1012, 102], [101, 1996, 3586, 3631, 10647, 1999, 1996, 12277, 1012, 102], [101, 1996, 3586, 3631, 10647, 1005, 1055, 12277, 1012, 102], [101, 1996, 3221, 3013, 5586, 1999, 1996, 11756, 1012, 102], [101, 1996, 3221, 3013, 5586, 1005, 1055, 11756, 1012, 102], [101, 2027, 5868, 1996, 7314, 1005, 12276, 1012, 102], [101, 2027, 5868, 1996, 7314, 2005, 2037, 12276, 1012, 102], [101, 1045, 12749, 2032, 2005, 2010, 8424, 1012, 102], [101, 1996, 7742, 16578, 1996, 2311, 1005, 1055, 2614, 2791, 1012, 102], [101, 1996, 7742, 16578, 1996, 2311, 2005, 2049, 2614, 2791, 1012, 102], [101, 1045, 10596, 2032, 2005, 2010, 9461, 2791, 1012, 102], [101, 1045, 12749, 2010, 16718, 1012, 102], [101, 1045, 12749, 1996, 16718, 1999, 2032, 1012, 102], [101, 1045, 12749, 2032, 2005, 2010, 16718, 1012, 102], [101, 1045, 10596, 1996, 9461, 2791, 1999, 2032, 1012, 102], [101, 2027, 8489, 1996, 12276, 1999, 1996, 7314, 1012, 102], [101, 2928, 10215, 2033, 2007, 2010, 2309, 13128, 2791, 1012, 102], [101, 2928, 1005, 1055, 2309, 13128, 2791, 10215, 2033, 1012, 102], [101, 1996, 15912, 11770, 1996, 2336, 2007, 2010, 27440, 1012, 102], [101, 1996, 15912, 1005, 1055, 27440, 11770, 1996, 2336, 1012, 102], [101, 6240, 3062, 1999, 3976, 1012, 102], [101, 1996, 3976, 1997, 6240, 3062, 1012, 102], [101, 1996, 2343, 2805, 3044, 2811, 3187, 1012, 102], [101, 1996, 2343, 2805, 3044, 2004, 2811, 3187, 1012, 102], [101, 10413, 7356, 28360, 1037, 2166, 3736, 6299, 1012, 102], [101, 10413, 7356, 28360, 2004, 1037, 2166, 3736, 6299, 1012, 102], [101, 1996, 2952, 2315, 1996, 2911, 2004, 2712, 17883, 2099, 1012, 102], [101, 1996, 2088, 2387, 1996, 2927, 1997, 1037, 2047, 3690, 1999, 17332, 2475, 1012, 102], [101, 17332, 2475, 2387, 1996, 2927, 1997, 1037, 2047, 3690, 1012, 102], [101, 1045, 9550, 1996, 4253, 1999, 1996, 3103, 1012, 102], [101, 1996, 3103, 9550, 1996, 4253, 1012, 102], [101, 2585, 3631, 1996, 3332, 2007, 1037, 8691, 1012, 102], [101, 1996, 15642, 8823, 1996, 3256, 6949, 1012, 102], [101, 1996, 11308, 8209, 1996, 4744, 1012, 102], [101, 1996, 22355, 8209, 1996, 4744, 1012, 102], [101, 2002, 2511, 2010, 12660, 2007, 1996, 3661, 1012, 102], [101, 1996, 3661, 2511, 2010, 12660, 1012, 102], [101, 1045, 3561, 1996, 6643, 4014, 2007, 2300, 1012, 102], [101, 2300, 3561, 1996, 6643, 4014, 1012, 102], [101, 2057, 3637, 2274, 2111, 1999, 2169, 2282, 1012, 102], [101, 2169, 2282, 25126, 2274, 2111, 1012, 102], [101, 1045, 5100, 1996, 2047, 3463, 2046, 1996, 3259, 1012, 102], [101, 1996, 3259, 12374, 1996, 2047, 3463, 1012, 102], [101, 2008, 2878, 10500, 13724, 8670, 9681, 6919, 7852, 1012, 102], [101, 2216, 2047, 14219, 3833, 1037, 2160, 1012, 102], [101, 1045, 4149, 2017, 1037, 7281, 2005, 1002, 1019, 1012, 102], [101, 1002, 1019, 2097, 4965, 1037, 7281, 1012, 102], [101, 1002, 1019, 2097, 4965, 2017, 1037, 7281, 1012, 102], [101, 1996, 13666, 2097, 3857, 1037, 2160, 2005, 1002, 2531, 1010, 2199, 1012, 102], [101, 1996, 13666, 2097, 3857, 2017, 1037, 2160, 2005, 1002, 2531, 1010, 2199, 1012, 102], [101, 1002, 2531, 1010, 2199, 2097, 3857, 2017, 1037, 2160, 1012, 102], [101, 1002, 2531, 1010, 2199, 2097, 3857, 1037, 2160, 1012, 102], [101, 1996, 2690, 2465, 2097, 5770, 2013, 1996, 2047, 4171, 4277, 1012, 102], [101, 1996, 2047, 4171, 4277, 2097, 5770, 1996, 2690, 2465, 1012, 102], [101, 1996, 2690, 2465, 2097, 5114, 2013, 1996, 2047, 4171, 4277, 1012, 102], [101, 1996, 2047, 4171, 16113, 2097, 5114, 1996, 2690, 2465, 1012, 102], [101, 1996, 14998, 7659, 1996, 6240, 1012, 102], [101, 1996, 7055, 12853, 1996, 3165, 1012, 102], [101, 2023, 3165, 3907, 2229, 2993, 1012, 102], [101, 1996, 4378, 3427, 1996, 3185, 1012, 102], [101, 2023, 3185, 2074, 12197, 2993, 1012, 102], [101, 2023, 3332, 2074, 7480, 2993, 1012, 102], [101, 1996, 3684, 12501, 1996, 3256, 6949, 1012, 102], [101, 2023, 3256, 6949, 2074, 14899, 2015, 2993, 1012, 102], [101, 2023, 2338, 2074, 15187, 2993, 1012, 102], [101, 1045, 3591, 1037, 5576, 2000, 1996, 3291, 7483, 1012, 102], [101, 1037, 5576, 2000, 1996, 3291, 3591, 2993, 7483, 1012, 102], [101, 1996, 5660, 15920, 1996, 23827, 1012, 102], [101, 1996, 23827, 2020, 15920, 2011, 1996, 5660, 1012, 102], [101, 8912, 3373, 1996, 3011, 2000, 2022, 2461, 1012, 102], [101, 8912, 3373, 2008, 1996, 3011, 2001, 2461, 1012, 102], [101, 2009, 2001, 3373, 2008, 1996, 3011, 2001, 2461, 1012, 102], [101, 1996, 2610, 2921, 21628, 2015, 2006, 1996, 8343, 1012, 102], [101, 21628, 2015, 2020, 2921, 2006, 1996, 8343, 1012, 102], [101, 1996, 27327, 10429, 2001, 2579, 5056, 1997, 1012, 102], [101, 2023, 2793, 2001, 7771, 1999, 2011, 2577, 2899, 1012, 102], [101, 9857, 2001, 7771, 2006, 2011, 2577, 2899, 1012, 102], [101, 1996, 9154, 2001, 2596, 2006, 2011, 1037, 11304, 2911, 1012, 102], [101, 1996, 10005, 2815, 11812, 2007, 12261, 1012, 102], [101, 1037, 10902, 3269, 2003, 2006, 1996, 3645, 8591, 1012, 102], [101, 2045, 2003, 1037, 10902, 3269, 2006, 1996, 3645, 8591, 1012, 102], [101, 1037, 3291, 2764, 1012, 102], [101, 2045, 2764, 1037, 3291, 1012, 102], [101, 1037, 2911, 2596, 2006, 1996, 9154, 1012, 102], [101, 2045, 2596, 1037, 2911, 2006, 1996, 9154, 1012, 102], [101, 2045, 2596, 1996, 2911, 2006, 1996, 9154, 1012, 102], [101, 1037, 2210, 2879, 14051, 2046, 1996, 2282, 1012, 102], [101, 2045, 14051, 2046, 1996, 2282, 1037, 2210, 2879, 1012, 102], [101, 1037, 2210, 2879, 2743, 1999, 1996, 4220, 1012, 102], [101, 2045, 2743, 1037, 2210, 2879, 1999, 1996, 4220, 1012, 102], [101, 2019, 3418, 8813, 19817, 21818, 2001, 2179, 1999, 2023, 5430, 1012, 102], [101, 2045, 2001, 2179, 1999, 2023, 5430, 2019, 3418, 8813, 19817, 21818, 1012, 102], [101, 3402, 2019, 9200, 2214, 2158, 3133, 1996, 2534, 1012, 102], [101, 3402, 2045, 3133, 1996, 2534, 2019, 9200, 2214, 2158, 1012, 102], [101, 1037, 2843, 1997, 4586, 12501, 2006, 1996, 4534, 1997, 3190, 1012, 102], [101, 2045, 12501, 1037, 2843, 1997, 4586, 2006, 1996, 4534, 1997, 3190, 1012, 102], [101, 2006, 1996, 3645, 8591, 2003, 1037, 10902, 3269, 1012, 102], [101, 1999, 1996, 5249, 3268, 2019, 2214, 2450, 1012, 102], [101, 1037, 4937, 5598, 3031, 1996, 2795, 1012, 102], [101, 1037, 4937, 5598, 2006, 1996, 2795, 1012, 102], [101, 2006, 1996, 2795, 5598, 1037, 4937, 1012, 102], [101, 1037, 6596, 6369, 1999, 1996, 2277, 1012, 102], [101, 1999, 1996, 2277, 6369, 1037, 6596, 1012, 102], [101, 1999, 2023, 5430, 2001, 2179, 2019, 3418, 8813, 19817, 21818, 1012, 102], [101, 1037, 6355, 10467, 2165, 2173, 1999, 1996, 2364, 2675, 1012, 102], [101, 2006, 1996, 4534, 1997, 3190, 12501, 1037, 2843, 1997, 4586, 1012, 102], [101, 4532, 3281, 1012, 102], [101, 4532, 6369, 1012, 102], [101, 4532, 6369, 1037, 2299, 1012, 102], [101, 4532, 6369, 1037, 11571, 1012, 102], [101, 4532, 6369, 2019, 9342, 1012, 102], [101, 4532, 6369, 1037, 14825, 1012, 102], [101, 4532, 6369, 1996, 11971, 1012, 102], [101, 9533, 15235, 1012, 102], [101, 5163, 12136, 2098, 1996, 7852, 1012, 102], [101, 5163, 12136, 2098, 1996, 7852, 2007, 12136, 1012, 102], [101, 5163, 12136, 2098, 1996, 7852, 2007, 4895, 12002, 3064, 12136, 1012, 102], [101, 8507, 19374, 1996, 3482, 2007, 2048, 1011, 11536, 6823, 1012, 102], [101, 1996, 2273, 2020, 2583, 2000, 3067, 2062, 2751, 1012, 102], [101, 14076, 4979, 2098, 1996, 2689, 1999, 2014, 4979, 1012, 102], [101, 1996, 5660, 5923, 2094, 1996, 3869, 1997, 5944, 1012, 102], [101, 1996, 5660, 5923, 2094, 1996, 3869, 1997, 2049, 21505, 1012, 102], [101, 15595, 3281, 2014, 4283, 1012, 102], [101, 12834, 22587, 1012, 102], [101, 1037, 18350, 6160, 2001, 22587, 2011, 12834, 1012, 102], [101, 2016, 11567, 1012, 102], [101, 2016, 11567, 2014, 4748, 21223, 1012, 102], [101, 2027, 4497, 5669, 2037, 2126, 2105, 2047, 2259, 1012, 102], [101, 2002, 2499, 2010, 2126, 2083, 1996, 2338, 1012, 102], [101, 2016, 25729, 2014, 2126, 2041, 1997, 1996, 3291, 1012, 102], [101, 1996, 2879, 3724, 2010, 2126, 2083, 1996, 4306, 1012, 102], [101, 1996, 19264, 3013, 2037, 2126, 2083, 1996, 8894, 1012, 102], [101, 1996, 2336, 2234, 2037, 2126, 2000, 1996, 2283, 1012, 102], [101, 1996, 6546, 13426, 2098, 2049, 2126, 2000, 1037, 3396, 1012, 102], [101, 2027, 5419, 2037, 2126, 2125, 1996, 2754, 1012, 102], [101, 1996, 3165, 21405, 13750, 1996, 3384, 4257, 1012, 102], [101, 1996, 3165, 21405, 13750, 2006, 1996, 3384, 4257, 1012, 102], [101, 15595, 25756, 1996, 3384, 4257, 1012, 102], [101, 14032, 3724, 1996, 2341, 2330, 1012, 102], [101, 1996, 6368, 10749, 1996, 5572, 11008, 4318, 1012, 102], [101, 8282, 5296, 1996, 16247, 2304, 1012, 102], [101, 24574, 2939, 1996, 7082, 2015, 2125, 2014, 6007, 1012, 102], [101, 20765, 2050, 6639, 2841, 2000, 3637, 1012, 102], [101, 1996, 2314, 10619, 5024, 1012, 102], [101, 1996, 2341, 4934, 3844, 1012, 102], [101, 1996, 3384, 2001, 25756, 4257, 1012, 102], [101, 1996, 2341, 2001, 3724, 2330, 1012, 102], [101, 20765, 2050, 6639, 2014, 2159, 4318, 1012, 102], [101, 1996, 3899, 9557, 1996, 6546, 2793, 6436, 1012, 102], [101, 1996, 3836, 6283, 1996, 7391, 4854, 1012, 102], [101, 2097, 2050, 3369, 16701, 1012, 102], [101, 10666, 2716, 2097, 2050, 16701, 1012, 102], [101, 2023, 2862, 2950, 2026, 2171, 2006, 2993, 1012, 102], [101, 17813, 2766, 1996, 8768, 2058, 2841, 1012, 102], [101, 17813, 2766, 1996, 8768, 2058, 2014, 1012, 102], [101, 1996, 4744, 22257, 1012, 102], [101, 1996, 4744, 22257, 2046, 1996, 11202, 1012, 102], [101, 14166, 5955, 3406, 2098, 2000, 1996, 2341, 1012, 102], [101, 1996, 3232, 17569, 2098, 2000, 1996, 3332, 1012, 102], [101, 1996, 15912, 24185, 12820, 2091, 1996, 2534, 1012, 102], [101, 6506, 2050, 3724, 1996, 11122, 2000, 1996, 3006, 1012, 102], [101, 2009, 2003, 22710, 2008, 2002, 2187, 2237, 1012, 102], [101, 2027, 19075, 2008, 2002, 2187, 2237, 1012, 102], [101, 1996, 3761, 2566, 26949, 2010, 14895, 1012, 102], [101, 7673, 11308, 2094, 2014, 3300, 1012, 102], [101, 7673, 11308, 2094, 2010, 3300, 1012, 102], [101, 7673, 11308, 2094, 2014, 2849, 1012, 102], [101, 2027, 1005, 2310, 2288, 2009, 2081, 1012, 102], [101, 1996, 3836, 3214, 2092, 1012, 102], [101, 1996, 3836, 3214, 1012, 102], [101, 1996, 3586, 2876, 1005, 1056, 24981, 1012, 102], [101, 2052, 1996, 3586, 24981, 2065, 2017, 3724, 1029, 102], [101, 1996, 3586, 24981, 2094, 1012, 102], [101, 1045, 2404, 1996, 2338, 2000, 8836, 1012, 102], [101, 1045, 2404, 1996, 2338, 2013, 21051, 1012, 102], [101, 1045, 2404, 1996, 2338, 2013, 21051, 2000, 8836, 1012, 102], [101, 1045, 2404, 2808, 2006, 1996, 2795, 1012, 102], [101, 1045, 2404, 1996, 2795, 2007, 1996, 2808, 1012, 102], [101, 1045, 2404, 1996, 2795, 2007, 2808, 1012, 102], [101, 1045, 2404, 1996, 2808, 2006, 1996, 2795, 1012, 102], [101, 1996, 2808, 2404, 2006, 1996, 2795, 4089, 1012, 102], [101, 1996, 2808, 2404, 2006, 1996, 2795, 1012, 102], [101, 1045, 2404, 2006, 1996, 2795, 1012, 102], [101, 19431, 2768, 1996, 2808, 2279, 2000, 1996, 7298, 1012, 102], [101, 19431, 2768, 1996, 2808, 2006, 1996, 11142, 1012, 102], [101, 19431, 2768, 1996, 2808, 2013, 21051, 1012, 102], [101, 19431, 2768, 1996, 2808, 2013, 21051, 2000, 4532, 1012, 102], [101, 19431, 2768, 1996, 11142, 2007, 2808, 1012, 102], [101, 19431, 2768, 1996, 11142, 2007, 1996, 2808, 1012, 102], [101, 19431, 2768, 1996, 4206, 2808, 2006, 1996, 2795, 1012, 102], [101, 4206, 2808, 3233, 2006, 7251, 4089, 1012, 102], [101, 19431, 2768, 1996, 2808, 2006, 1996, 2795, 1012, 102], [101, 1996, 2808, 2768, 2006, 1996, 2795, 1012, 102], [101, 19431, 2768, 2006, 1996, 2795, 1012, 102], [101, 1045, 25102, 2098, 1996, 8150, 2046, 1996, 5835, 1012, 102], [101, 1045, 25102, 2098, 1996, 8150, 2000, 15544, 2532, 1012, 102], [101, 1045, 25102, 2098, 1996, 8150, 2013, 21051, 2000, 15544, 2532, 1012, 102], [101, 1045, 25102, 2098, 1996, 5835, 2007, 1996, 8150, 1012, 102], [101, 1996, 8150, 25102, 2015, 4089, 1012, 102], [101, 1996, 8150, 25102, 2015, 1012, 102], [101, 1045, 25102, 2098, 1996, 8150, 1012, 102], [101, 1045, 25102, 2098, 2046, 1996, 5835, 1012, 102], [101, 1045, 4196, 1996, 2808, 1012, 102], [101, 1045, 4196, 1996, 2338, 3031, 1996, 2795, 1012, 102], [101, 1045, 4196, 1996, 2338, 3031, 1996, 2041, 1997, 1996, 3482, 1012, 102], [101, 1045, 4196, 1996, 2808, 2013, 1996, 2723, 2000, 1996, 2795, 1012, 102], [101, 1045, 4196, 1996, 2808, 3031, 1996, 2795, 1012, 102], [101, 1045, 4196, 1996, 2795, 2007, 1996, 2808, 1012, 102], [101, 1045, 4196, 1996, 2808, 2000, 2032, 1012, 102], [101, 1045, 4196, 1996, 2808, 2039, 2000, 2032, 1012, 102], [101, 1045, 4196, 2032, 2039, 1996, 2808, 1012, 102], [101, 1045, 4196, 3031, 1996, 2795, 1012, 102], [101, 21772, 8542, 2300, 2046, 1996, 4605, 1012, 102], [101, 21772, 8542, 2300, 2058, 1996, 4870, 1012, 102], [101, 21772, 8542, 2300, 2041, 1997, 1996, 8070, 1012, 102], [101, 21772, 8542, 2012, 2300, 2046, 1996, 4605, 1012, 102], [101, 21772, 8542, 2300, 3031, 1996, 4264, 1012, 102], [101, 2300, 10364, 2015, 4089, 3031, 1996, 4264, 1012, 102], [101, 2300, 8542, 3031, 1996, 4264, 1012, 102], [101, 17195, 24599, 1996, 8164, 2105, 1996, 2695, 1012, 102], [101, 17195, 24599, 1996, 2695, 2007, 1996, 8164, 1012, 102], [101, 17195, 24599, 2012, 1996, 8164, 2105, 1996, 2695, 1012, 102], [101, 1996, 8164, 24599, 2105, 1996, 2695, 1012, 102], [101, 2008, 2785, 1997, 8164, 17085, 2015, 4089, 2105, 1996, 2695, 1012, 102], [101, 17195, 24599, 2105, 1996, 2695, 1012, 102], [101, 8201, 8209, 8378, 3031, 1996, 9540, 1012, 102], [101, 8201, 8209, 8378, 2046, 1996, 9540, 1012, 102], [101, 8201, 25401, 6773, 3031, 1996, 2795, 1012, 102], [101, 8201, 25401, 6773, 2104, 1996, 2795, 1012, 102], [101, 8201, 25401, 6773, 2058, 1996, 2795, 1012, 102], [101, 8201, 25401, 6773, 2006, 1996, 2813, 1012, 102], [101, 6773, 25401, 2006, 1996, 2813, 1012, 102], [101, 8201, 25401, 1996, 2813, 2007, 6773, 1012, 102], [101, 1996, 2813, 25401, 2007, 6773, 1012, 102], [101, 8201, 5490, 10179, 17724, 2300, 2012, 2033, 1012, 102], [101, 8201, 25401, 2300, 2012, 2033, 1012, 102], [101, 8201, 22055, 2300, 2012, 2033, 1012, 102], [101, 8201, 8209, 8378, 2012, 1996, 4744, 1012, 102], [101, 8201, 11812, 8378, 2012, 1996, 4744, 1012, 102], [101, 8886, 21121, 1996, 3573, 2007, 5126, 1012, 102], [101, 8886, 21121, 5126, 1999, 1996, 3573, 1012, 102], [101, 1996, 3573, 21121, 2007, 5126, 1012, 102], [101, 1996, 5126, 21121, 1996, 3573, 1012, 102], [101, 11797, 25430, 4215, 20043, 1996, 3336, 2007, 15019, 1012, 102], [101, 8840, 2527, 12136, 2098, 1996, 15174, 1012, 102], [101, 8840, 2527, 12136, 2098, 4895, 12002, 3064, 12136, 2006, 1996, 15174, 1012, 102], [101, 8840, 2527, 12136, 2098, 1996, 15174, 2007, 4895, 12002, 3064, 12136, 1012, 102], [101, 8840, 2527, 12136, 2098, 2012, 1996, 15174, 2007, 4895, 12002, 3064, 12136, 1012, 102], [101, 1996, 15174, 12136, 2098, 2007, 4895, 12002, 3064, 12136, 1012, 102], [101, 1996, 15174, 12136, 2098, 1012, 102], [101, 14076, 4979, 2098, 1996, 2689, 1012, 102], [101, 14076, 4979, 2098, 2014, 4979, 2007, 1996, 2689, 1012, 102], [101, 1996, 2689, 4979, 2098, 1012, 102], [101, 8788, 3718, 1996, 25980, 2013, 1996, 13855, 7361, 1012, 102], [101, 8788, 3718, 1996, 25980, 2013, 2105, 1996, 7752, 1012, 102], [101, 8788, 3718, 1996, 25980, 2041, 1997, 1996, 13065, 1012, 102], [101, 8788, 3718, 1996, 25980, 2000, 7880, 1012, 102], [101, 8788, 3718, 1996, 13855, 7361, 1997, 25980, 1012, 102], [101, 8788, 3718, 2012, 1996, 25980, 2013, 1996, 13855, 7361, 1012, 102], [101, 1996, 25980, 3718, 2013, 1996, 13855, 7361, 1012, 102], [101, 1996, 2332, 21319, 1996, 2236, 2013, 1996, 2390, 1012, 102], [101, 1996, 2332, 21319, 1996, 2236, 2000, 1037, 3137, 7841, 1012, 102], [101, 1996, 2332, 21319, 1996, 2236, 2013, 1996, 4186, 2000, 1037, 3137, 7841, 1012, 102], [101, 1996, 2332, 21319, 2012, 1996, 2236, 2013, 1996, 2390, 1012, 102], [101, 1996, 2236, 21319, 2013, 1996, 2390, 1012, 102], [101, 8788, 5985, 1996, 10447, 2013, 2104, 1996, 14513, 1012, 102], [101, 8788, 5985, 1996, 2795, 1012, 102], [101, 8788, 5985, 2012, 1996, 2795, 1997, 10447, 1012, 102], [101, 8788, 5985, 2012, 1996, 2795, 1012, 102], [101, 1996, 2844, 7266, 5985, 1996, 15717, 1012, 102], [101, 1996, 2844, 7266, 3254, 5985, 1996, 8044, 2013, 1996, 3712, 1012, 102], [101, 4422, 8342, 1996, 27556, 2013, 1996, 4675, 1012, 102], [101, 4422, 8342, 1996, 27556, 2013, 2503, 1996, 25337, 1012, 102], [101, 4422, 8342, 1996, 27556, 2013, 2104, 1996, 25337, 1012, 102], [101, 4422, 8342, 1996, 27556, 2013, 2648, 1996, 25337, 1012, 102], [101, 4422, 8342, 1996, 4675, 1997, 27556, 1012, 102], [101, 4422, 8342, 1996, 4675, 1012, 102], [101, 13723, 21920, 1996, 5747, 1012, 102], [101, 4422, 2001, 14612, 1996, 4675, 1012, 102], [101, 4422, 2001, 14612, 1012, 102], [101, 4422, 2001, 14612, 1996, 2813, 2369, 1996, 16247, 1012, 102], [101, 17081, 24596, 2098, 1996, 4586, 2013, 1996, 3328, 1012, 102], [101, 17081, 24596, 2098, 1996, 4586, 2013, 2104, 1996, 14568, 1012, 102], [101, 17081, 24596, 2098, 1996, 4586, 2013, 2426, 1996, 14568, 1012, 102], [101, 17081, 24596, 2098, 1996, 4586, 2013, 2379, 1996, 14568, 1012, 102], [101, 17081, 24596, 2098, 1996, 3328, 1997, 4586, 1012, 102], [101, 17081, 24596, 2098, 2012, 1996, 3328, 1012, 102], [101, 17081, 2001, 24596, 2075, 1996, 3328, 1012, 102], [101, 17081, 2001, 24596, 2075, 1012, 102], [101, 17081, 9587, 11469, 1996, 2723, 2104, 1996, 7390, 1012, 102], [101, 17081, 9587, 11469, 2104, 1996, 7390, 1012, 102], [101, 1996, 12383, 10312, 1996, 4169, 2005, 2720, 1012, 3044, 1012, 102], [101, 1996, 12383, 10312, 2720, 1012, 3044, 1996, 4169, 1012, 102], [101, 1996, 12383, 10312, 2012, 1996, 4169, 2013, 1996, 2688, 1012, 102], [101, 1996, 4169, 10312, 2013, 1996, 2688, 1012, 102], [101, 1996, 3460, 21391, 18583, 2013, 6986, 1012, 102], [101, 6986, 21391, 1997, 18583, 1012, 102], [101, 1996, 25430, 22254, 3917, 22673, 6986, 1997, 2014, 7280, 1012, 102], [101, 1996, 5660, 5923, 2094, 1996, 3869, 1012, 102], [101, 1996, 3869, 5923, 2094, 1012, 102], [101, 1996, 3869, 27820, 1012, 102], [101, 1996, 2273, 21846, 1996, 2751, 1012, 102], [101, 1996, 2751, 21846, 1012, 102], [101, 12306, 2741, 1996, 2338, 2013, 3000, 1012, 102], [101, 12306, 2741, 1996, 2338, 2000, 2414, 1012, 102], [101, 12306, 2741, 1996, 2338, 2013, 3000, 2000, 2414, 1012, 102], [101, 12306, 2741, 1996, 2338, 2000, 2848, 1012, 102], [101, 12306, 2741, 2012, 1996, 2338, 2000, 2848, 1012, 102], [101, 1996, 2338, 2741, 2000, 2848, 1012, 102], [101, 12306, 2741, 2808, 2000, 2336, 1012, 102], [101, 2808, 4604, 4089, 2000, 2336, 1012, 102], [101, 17081, 4934, 1996, 2808, 2408, 1996, 2795, 1012, 102], [101, 17081, 4934, 1996, 2338, 2000, 8512, 1012, 102], [101, 17081, 4934, 8512, 1996, 2338, 1012, 102], [101, 17081, 4934, 2012, 1996, 2338, 2000, 8512, 1012, 102], [101, 1996, 2808, 4934, 2408, 1996, 2795, 1012, 102], [101, 17081, 4934, 2216, 2808, 2408, 1996, 2795, 1012, 102], [101, 2216, 2808, 7358, 2408, 1996, 2795, 4089, 1012, 102], [101, 12306, 2716, 1996, 2338, 2000, 1996, 3116, 1012, 102], [101, 12306, 2716, 1996, 2338, 2000, 17217, 1012, 102], [101, 12306, 2716, 1996, 2338, 2013, 24084, 1012, 102], [101, 12306, 2716, 17217, 1996, 2338, 1012, 102], [101, 12306, 2716, 2012, 1996, 2338, 2000, 1996, 3116, 1012, 102], [101, 1996, 2338, 2716, 2000, 1996, 3116, 1012, 102], [101, 1996, 2338, 7545, 4089, 2000, 1996, 3116, 1012, 102], [101, 8282, 3344, 1996, 7427, 1012, 102], [101, 8282, 3344, 1996, 7427, 2013, 3731, 1012, 102], [101, 8282, 3344, 1996, 7427, 2000, 2047, 2259, 1012, 102], [101, 8282, 3344, 1996, 7427, 2013, 3731, 2000, 2047, 2259, 1012, 102], [101, 8282, 3344, 2012, 1996, 7427, 2000, 2047, 2259, 1012, 102], [101, 1996, 7427, 3344, 2000, 2047, 2259, 1012, 102], [101, 1996, 7427, 3344, 1012, 102], [101, 8282, 3344, 14555, 2000, 2047, 2259, 1012, 102], [101, 8282, 3344, 14555, 1012, 102], [101, 14555, 4287, 4089, 2000, 2047, 2259, 1012, 102], [101, 8282, 5225, 1996, 7427, 2013, 3731, 2000, 2047, 2259, 1012, 102], [101, 8282, 5225, 1996, 7427, 2000, 2047, 2259, 1012, 102], [101, 8282, 5225, 1996, 7427, 2013, 3731, 1012, 102], [101, 8282, 5225, 1996, 7427, 1012, 102], [101, 8282, 5225, 1996, 7427, 2000, 17217, 1012, 102], [101, 8282, 5225, 2012, 1996, 7427, 2000, 2047, 2259, 1012, 102], [101, 8282, 5225, 2012, 1996, 7427, 1012, 102], [101, 1996, 7427, 5225, 2000, 2047, 2259, 1012, 102], [101, 1996, 7427, 5225, 1012, 102], [101, 8282, 5225, 14555, 2000, 2047, 2259, 1012, 102], [101, 8282, 5225, 14555, 1012, 102], [101, 14555, 3298, 4089, 1012, 102], [101, 12306, 3724, 1996, 3242, 1012, 102], [101, 12306, 3724, 2012, 1996, 3242, 1012, 102], [101, 12306, 3724, 2006, 1996, 3242, 1012, 102], [101, 12306, 3724, 2114, 1996, 3242, 1012, 102], [101, 12306, 3724, 2083, 1996, 4306, 1012, 102], [101, 12306, 3724, 2014, 2126, 2083, 1996, 4306, 1012, 102], [101, 12306, 3724, 1996, 3242, 2114, 1996, 2813, 1012, 102], [101, 2027, 15307, 1037, 10165, 2000, 2033, 1012, 102], [101, 2027, 15307, 2033, 1037, 10165, 1012, 102], [101, 2027, 15307, 2033, 2007, 1037, 10165, 1012, 102], [101, 1037, 10165, 15307, 1012, 102], [101, 1037, 10165, 15307, 2000, 2033, 1012, 102], [101, 2057, 5201, 2256, 3477, 5403, 3600, 2000, 2014, 1012, 102], [101, 2057, 5201, 2014, 2256, 3477, 5403, 3600, 1012, 102], [101, 2057, 5201, 2014, 2007, 2256, 3477, 5403, 3600, 1012, 102], [101, 2256, 3477, 5403, 3600, 5201, 1012, 102], [101, 2057, 3253, 1037, 3105, 2369, 2014, 1012, 102], [101, 2057, 3253, 2014, 1037, 3105, 1012, 102], [101, 2057, 3253, 2014, 2007, 1037, 3105, 1012, 102], [101, 1037, 3105, 3253, 2000, 2014, 1012, 102], [101, 2829, 3591, 3557, 2007, 1037, 11952, 1012, 102], [101, 1996, 8312, 1997, 1037, 11952, 2001, 1037, 7098, 2617, 1012, 102], [101, 2829, 6055, 3557, 2007, 1037, 4950, 1012, 102], [101, 2829, 6055, 1037, 4950, 2379, 3557, 1012, 102], [101, 2829, 6055, 1037, 4950, 2279, 2000, 3557, 1012, 102], [101, 2829, 6055, 1037, 4950, 2012, 3557, 1012, 102], [101, 2829, 6055, 1037, 4950, 2000, 3557, 1012, 102], [101, 2829, 6055, 3557, 1037, 4950, 1012, 102], [101, 11425, 4149, 1037, 4377, 1012, 102], [101, 11425, 4149, 1037, 4377, 2012, 13426, 2075, 5634, 1005, 1055, 1012, 102], [101, 11425, 4149, 1037, 4377, 2005, 2984, 1012, 102], [101, 11425, 4149, 1037, 4377, 2000, 2984, 1012, 102], [101, 11425, 4149, 1037, 4377, 2013, 8805, 1012, 102], [101, 11425, 4149, 8805, 1997, 1037, 4377, 1012, 102], [101, 11425, 4149, 1037, 4377, 2012, 13426, 2075, 5634, 1005, 1055, 2005, 1002, 2753, 1012, 102], [101, 1002, 2753, 2180, 1005, 1056, 2130, 4965, 1037, 4377, 2012, 13426, 2075, 5634, 1005, 1055, 1012, 102], [101, 11425, 4663, 1996, 8622, 2112, 1012, 102], [101, 11425, 4663, 2984, 1037, 8622, 2112, 1012, 102], [101, 11425, 4663, 1037, 8622, 2112, 2000, 2984, 1012, 102], [101, 11425, 4663, 1037, 8622, 2112, 2013, 8805, 1012, 102], [101, 11425, 4663, 8805, 1997, 1037, 8622, 2112, 1012, 102], [101, 11425, 4156, 1037, 4377, 2012, 13426, 2075, 5634, 1005, 1055, 2005, 1002, 2753, 1012, 102], [101, 1002, 2753, 2180, 1005, 1056, 2130, 5309, 1037, 4377, 2012, 13426, 2075, 5634, 1005, 1055, 1012, 102], [101, 11697, 10573, 1996, 4377, 2005, 1037, 3797, 1012, 102], [101, 11697, 10573, 1996, 4377, 2000, 2984, 1012, 102], [101, 11697, 10573, 2984, 1996, 4377, 1012, 102], [101, 11697, 10573, 1996, 4377, 2005, 2984, 1012, 102], [101, 1996, 2336, 2066, 2000, 10498, 1999, 1996, 2621, 1012, 102], [101, 2016, 2218, 2012, 1996, 4334, 1012, 102], [101, 1996, 4334, 4324, 4089, 1012, 102], [101, 2016, 2218, 2010, 2849, 1012, 102], [101, 2016, 2218, 2032, 2011, 1996, 2849, 1012, 102], [101, 2016, 2218, 1996, 3259, 2013, 2032, 1012, 102], [101, 9393, 2921, 1996, 4981, 1999, 1996, 4624, 1012, 102], [101, 9393, 2921, 1996, 4981, 2369, 1996, 4624, 1012, 102], [101, 9393, 2921, 1996, 4981, 2058, 1996, 4624, 1012, 102], [101, 9393, 2921, 1996, 4981, 2104, 1996, 4624, 1012, 102], [101, 10360, 11041, 1996, 7534, 2013, 8836, 1012, 102], [101, 10360, 11041, 1996, 7534, 2369, 1996, 2808, 1012, 102], [101, 10360, 11041, 8836, 1997, 1996, 7534, 1012, 102], [101, 3889, 7463, 1996, 3608, 1012, 102], [101, 3889, 7463, 1996, 3608, 2046, 1996, 3871, 1012, 102], [101, 3889, 7463, 1996, 3608, 2058, 1996, 8638, 1012, 102], [101, 3889, 7463, 1996, 3608, 2013, 1996, 3392, 2000, 1996, 4796, 1012, 102], [101, 3889, 7463, 1996, 3608, 2012, 4698, 1012, 102], [101, 3889, 7463, 4698, 2007, 1996, 3608, 1012, 102], [101, 3889, 7463, 1996, 3608, 2000, 4698, 1012, 102], [101, 3889, 7463, 1996, 3608, 2114, 1996, 2813, 1012, 102], [101, 3889, 7463, 1996, 2813, 2007, 1996, 3608, 1012, 102], [101, 3889, 7463, 2012, 1996, 3608, 1012, 102], [101, 1996, 3608, 7463, 1012, 102], [101, 3889, 7463, 1996, 12585, 1012, 102], [101, 3598, 2015, 10055, 4089, 1012, 102], [101, 3889, 21877, 7096, 2098, 4698, 2007, 9353, 9691, 2015, 1012, 102], [101, 3889, 21877, 7096, 2098, 9353, 9691, 2015, 2012, 4698, 1012, 102], [101, 3889, 21877, 7096, 2098, 4698, 1012, 102], [101, 3889, 21877, 7096, 2098, 2012, 4698, 1012, 102], [101, 3889, 21877, 7096, 2098, 2012, 4698, 2007, 9353, 9691, 2015, 1012, 102], [101, 3889, 21877, 7096, 2098, 9353, 9691, 2015, 2114, 4698, 1012, 102], [101, 3889, 21877, 7096, 2098, 9353, 9691, 2015, 2000, 4698, 1012, 102], [101, 3889, 21877, 7096, 2098, 4698, 9353, 9691, 2015, 1012, 102], [101, 3889, 21877, 7096, 2098, 1996, 29384, 2007, 9353, 9691, 2015, 1012, 102], [101, 29384, 21877, 7096, 4089, 2007, 9353, 9691, 2015, 1012, 102], [101, 13723, 2718, 1996, 6293, 2006, 1996, 8638, 1012, 102], [101, 13723, 2718, 1996, 6293, 2114, 1996, 8638, 1012, 102], [101, 13723, 2718, 1996, 6293, 2046, 1996, 8638, 1012, 102], [101, 13723, 2718, 2012, 1996, 8638, 2007, 1996, 6293, 1012, 102], [101, 13723, 2718, 14866, 4103, 2890, 2006, 1996, 2067, 1012, 102], [101, 13723, 2718, 14866, 4103, 2890, 1005, 1055, 2067, 1012, 102], [101, 13723, 2718, 1996, 12668, 2362, 1012, 102], [101, 13723, 2718, 1996, 12668, 1012, 102], [101, 1996, 8638, 2718, 2007, 1037, 6293, 1012, 102], [101, 1996, 8638, 2718, 1012, 102], [101, 1996, 8638, 4978, 4089, 1012, 102], [101, 1996, 6293, 2718, 1996, 8638, 1012, 102], [101, 13723, 25414, 3064, 1996, 8416, 2006, 1996, 4875, 1012, 102], [101, 13723, 25414, 3064, 1996, 8416, 2114, 1996, 4875, 1012, 102], [101, 13723, 25414, 3064, 1996, 4875, 2007, 1996, 8416, 1012, 102], [101, 13723, 25414, 3064, 1996, 8416, 2083, 1996, 4875, 1012, 102], [101, 13723, 25414, 3064, 1996, 8416, 2046, 1996, 4875, 1012, 102], [101, 13723, 25414, 3064, 1996, 4875, 1012, 102], [101, 13723, 25414, 3064, 2012, 1996, 4875, 1012, 102], [101, 13723, 25414, 3064, 14866, 4103, 2890, 2006, 1996, 2067, 1012, 102], [101, 13723, 25414, 3064, 14866, 4103, 2890, 1005, 1055, 2067, 1012, 102], [101, 1996, 4875, 25414, 3064, 1012, 102], [101, 13723, 25414, 3064, 10029, 1012, 102], [101, 10029, 25414, 4089, 1012, 102], [101, 13723, 25414, 3064, 1996, 4875, 2007, 1037, 8416, 1012, 102], [101, 1996, 8416, 25414, 3064, 1996, 4875, 1012, 102], [101, 13723, 8487, 8126, 2014, 2157, 2192, 2114, 1996, 20355, 2775, 1012, 102], [101, 13723, 8487, 8126, 1996, 20355, 2775, 2007, 2014, 2157, 2192, 1012, 102], [101, 13723, 8487, 8126, 2014, 2157, 2192, 2046, 1996, 20355, 2775, 1012, 102], [101, 13723, 8487, 8126, 2014, 2157, 2192, 2083, 1996, 20355, 2775, 1012, 102], [101, 13723, 8487, 8126, 1996, 20355, 2775, 2006, 1996, 2067, 1012, 102], [101, 13723, 8487, 8126, 1996, 20355, 2775, 1005, 1055, 2067, 1012, 102], [101, 13723, 8487, 8126, 1996, 20355, 2775, 1012, 102], [101, 1996, 20355, 2775, 8487, 8126, 1012, 102], [101, 20355, 2336, 8487, 2243, 4089, 1012, 102], [101, 13723, 1005, 1055, 2157, 2192, 8487, 8126, 1996, 20355, 2775, 1012, 102], [101, 1996, 2813, 22843, 2007, 1996, 13025, 11122, 1012, 102], [101, 1996, 2214, 11122, 22843, 2114, 1996, 2047, 11122, 1012, 102], [101, 1996, 2214, 1998, 2047, 25568, 22843, 1012, 102], [101, 1996, 2214, 1998, 2047, 25568, 22843, 2362, 1012, 102], [101, 12684, 16826, 1996, 12201, 2083, 1996, 8416, 1012, 102], [101, 12684, 16826, 1996, 12201, 2046, 1996, 8416, 1012, 102], [101, 12684, 16826, 1996, 8416, 2007, 1037, 12201, 1012, 102], [101, 12684, 16826, 1996, 8416, 1012, 102], [101, 12684, 16826, 1996, 12201, 2083, 1996, 26762, 1012, 102], [101, 13223, 5028, 1996, 4937, 1012, 102], [101, 13223, 5028, 1996, 6293, 2114, 1996, 4937, 1012, 102], [101, 13223, 5028, 1996, 4937, 2007, 1996, 6293, 1012, 102], [101, 13223, 5028, 1996, 6293, 2046, 1996, 4937, 1012, 102], [101, 13223, 5028, 1996, 6293, 2083, 1012, 102], [101, 13223, 5028, 2012, 1996, 4937, 1012, 102], [101, 13223, 5028, 2032, 2006, 1996, 3244, 1012, 102], [101, 2008, 4937, 12817, 4089, 1012, 102], [101, 13223, 5028, 1996, 8638, 2007, 1037, 6293, 1012, 102], [101, 1996, 6293, 5028, 1996, 8638, 1012, 102], [101, 8594, 3013, 1996, 7852, 2007, 1037, 5442, 1012, 102], [101, 8594, 3013, 1996, 7852, 1012, 102], [101, 8594, 3013, 2012, 1996, 7852, 1012, 102], [101, 8594, 3013, 2841, 2006, 1996, 7639, 1012, 102], [101, 8594, 3013, 2014, 7639, 1012, 102], [101, 8594, 3013, 1996, 2878, 10500, 7852, 1012, 102], [101, 2878, 10500, 7852, 7659, 4089, 1012, 102], [101, 1996, 5442, 3013, 1996, 7852, 1012, 102], [101, 2023, 5442, 7659, 2092, 1012, 102], [101, 8594, 7844, 1996, 2962, 2007, 1037, 9610, 11246, 1012, 102], [101, 8594, 7844, 1996, 2962, 1012, 102], [101, 8594, 7844, 2012, 1996, 2962, 1012, 102], [101, 8594, 7844, 1996, 3392, 2006, 1996, 3589, 1012, 102], [101, 8594, 7844, 1996, 3392, 1005, 1055, 3589, 1012, 102], [101, 1996, 2962, 7844, 1012, 102], [101, 8594, 7844, 1996, 7720, 1012, 102], [101, 7720, 2482, 6961, 4089, 1012, 102], [101, 8594, 7844, 1996, 7720, 2007, 1037, 9610, 11246, 1012, 102], [101, 1996, 9610, 11246, 7844, 1996, 7720, 1012, 102], [101, 2008, 9610, 11246, 7844, 1996, 6231, 1012, 102], [101, 2008, 9610, 11246, 2482, 6961, 2092, 1012, 102], [101, 11458, 3816, 1996, 6763, 2007, 1996, 6949, 1012, 102], [101, 11458, 3816, 1996, 6763, 1998, 1996, 6949, 1012, 102], [101, 1996, 6763, 3816, 2007, 1996, 6949, 1012, 102], [101, 1996, 6763, 1998, 1996, 6949, 3816, 1012, 102], [101, 11458, 3816, 1996, 6763, 1998, 1996, 6949, 2362, 1012, 102], [101, 1045, 3816, 1996, 7815, 2046, 1996, 2300, 1012, 102], [101, 1045, 3816, 1996, 7815, 1998, 1996, 2300, 1012, 102], [101, 1045, 3816, 1996, 6763, 2007, 6949, 1012, 102], [101, 1045, 3816, 1996, 6763, 1998, 6949, 1012, 102], [101, 1045, 3816, 1996, 6763, 1998, 6949, 2362, 1012, 102], [101, 14207, 6585, 2094, 5154, 2774, 1998, 3769, 2774, 1012, 102], [101, 3248, 6585, 2007, 7250, 2015, 1012, 102], [101, 3248, 1998, 7250, 2015, 6585, 1012, 102], [101, 14207, 6970, 24230, 1996, 4109, 1012, 102], [101, 11458, 12428, 1996, 6949, 1012, 102], [101, 8507, 19374, 1996, 2813, 2007, 1996, 3861, 1012, 102], [101, 8507, 19374, 1996, 3830, 1998, 1996, 3104, 2362, 1012, 102], [101, 1996, 2775, 14752, 2000, 2014, 2388, 1012, 102], [101, 1996, 2775, 1998, 2014, 2388, 14752, 1012, 102], [101, 1996, 2162, 14752, 1996, 2775, 2000, 2014, 2388, 1012, 102], [101, 1996, 10930, 13687, 5459, 2013, 1996, 2317, 1012, 102], [101, 1996, 10930, 13687, 1998, 1996, 2317, 5459, 1012, 102], [101, 1045, 5459, 1996, 6949, 2013, 1996, 6501, 1012, 102], [101, 1045, 5459, 1996, 8288, 10930, 13687, 1998, 1996, 8288, 2317, 1012, 102], [101, 1045, 5459, 1996, 8288, 10930, 13687, 2015, 1998, 1996, 8288, 12461, 1012, 102], [101, 1045, 5459, 1996, 6501, 1997, 1996, 6949, 1012, 102], [101, 1045, 3631, 1996, 1056, 16279, 2125, 1996, 3589, 1012, 102], [101, 1045, 3631, 1996, 1056, 16279, 2125, 1997, 1996, 3589, 1012, 102], [101, 1045, 3631, 1996, 1056, 16279, 1998, 1996, 3589, 1012, 102], [101, 1045, 3631, 27964, 2125, 2216, 5628, 1012, 102], [101, 1045, 3631, 27964, 2125, 1997, 2216, 5628, 1012, 102], [101, 1045, 3631, 2216, 27964, 1998, 5628, 4237, 1012, 102], [101, 1045, 12230, 1996, 5047, 1012, 102], [101, 1045, 12230, 1996, 5047, 2013, 1996, 3482, 1012, 102], [101, 1045, 12230, 1996, 5047, 1998, 1996, 3482, 1012, 102], [101, 1996, 5047, 12230, 2013, 1996, 3482, 1012, 102], [101, 1045, 12230, 2008, 2047, 5047, 1012, 102], [101, 1045, 12230, 2008, 2047, 5047, 2013, 1996, 3482, 1012, 102], [101, 2008, 2047, 5047, 20010, 15395, 2015, 4089, 1012, 102], [101, 2008, 2047, 5047, 20010, 15395, 2015, 2013, 1996, 3482, 4089, 1012, 102], [101, 1996, 3467, 6134, 19541, 2013, 1996, 3500, 6134, 1012, 102], [101, 2023, 23821, 12980, 2013, 2008, 23821, 1012, 102], [101, 1045, 19541, 2023, 23821, 2013, 2008, 23821, 1012, 102], [101, 20328, 28432, 1996, 4377, 1012, 102], [101, 3044, 14551, 2010, 2171, 2058, 1996, 2341, 1012, 102], [101, 3044, 14551, 2010, 2171, 2104, 1996, 3861, 1012, 102], [101, 3044, 14551, 1996, 3614, 2007, 2010, 2171, 1012, 102], [101, 3044, 2001, 4776, 21682, 1996, 7635, 1012, 102], [101, 3044, 2001, 4776, 21682, 1012, 102], [101, 1996, 13713, 3917, 6267, 1996, 2171, 2006, 1996, 3614, 1012, 102], [101, 1996, 13713, 3917, 6267, 1996, 2171, 2058, 1996, 2341, 1012, 102], [101, 1996, 13713, 3917, 6267, 1996, 2171, 2104, 1996, 3861, 1012, 102], [101, 1996, 13713, 3917, 6267, 1996, 2171, 3031, 1996, 2452, 1012, 102], [101, 1996, 13713, 3917, 8040, 3089, 12820, 2010, 2171, 2006, 1996, 3206, 1012, 102], [101, 3044, 2001, 8040, 3089, 15343, 2010, 3964, 1012, 102], [101, 3044, 2001, 8040, 3089, 15343, 1012, 102], [101, 1996, 13713, 3917, 7429, 1996, 3614, 1012, 102], [101, 1996, 3187, 26223, 1996, 4613, 1012, 102], [101, 1996, 3187, 26223, 1996, 4613, 2046, 1996, 2501, 1012, 102], [101, 1996, 3187, 26223, 1996, 2501, 2007, 1996, 4613, 1012, 102], [101, 9246, 7844, 1037, 9121, 2041, 1997, 1996, 3538, 1997, 3536, 1012, 102], [101, 9246, 2482, 6961, 1012, 102], [101, 9246, 7844, 1037, 9121, 2041, 1997, 1037, 3538, 1997, 3536, 2005, 1996, 3336, 1012, 102], [101, 9246, 7844, 1037, 3538, 1997, 3536, 2005, 1996, 3336, 1012, 102], [101, 9246, 7844, 1037, 3538, 1997, 3536, 2046, 1037, 9121, 2005, 1996, 3336, 1012, 102], [101, 9246, 7844, 3376, 10899, 2041, 1997, 2023, 3536, 1012, 102], [101, 2023, 3536, 2482, 6961, 3376, 10899, 1012, 102], [101, 1002, 2531, 1010, 2199, 2097, 3857, 2017, 1037, 2160, 1012, 102], [101, 1002, 2531, 1010, 2199, 2097, 3857, 1037, 2160, 1012, 102], [101, 1996, 19785, 3473, 2019, 6116, 3392, 2013, 2008, 9353, 9691, 1012, 102], [101, 10972, 4964, 1037, 11642, 1012, 102], [101, 10972, 4964, 2197, 2305, 1005, 1055, 2187, 24302, 2046, 1037, 11642, 1012, 102], [101, 10972, 4964, 1037, 11642, 2005, 2033, 1012, 102], [101, 10972, 4964, 2033, 1037, 11642, 1012, 102], [101, 2585, 3833, 1037, 2160, 1012, 102], [101, 2585, 3833, 1037, 2160, 2041, 1997, 14219, 1012, 102], [101, 2585, 3833, 2033, 1037, 2160, 1012, 102], [101, 2585, 3833, 1996, 2160, 1012, 102], [101, 1996, 2160, 3833, 1012, 102], [101, 2585, 3833, 1996, 7330, 2013, 14219, 2046, 1037, 2160, 1012, 102], [101, 1045, 5044, 1996, 23126, 2046, 1037, 27048, 1012, 102], [101, 1045, 5044, 1996, 23126, 1012, 102], [101, 1045, 5044, 1037, 27048, 2013, 1996, 23126, 1012, 102], [101, 1045, 1056, 9148, 27501, 1996, 23126, 2046, 1037, 3653, 23102, 2140, 1012, 102], [101, 1045, 5044, 1037, 2204, 27048, 2013, 2023, 23126, 1012, 102], [101, 2023, 23126, 10466, 1037, 2204, 27048, 1012, 102], [101, 1045, 5044, 1996, 23126, 2013, 1037, 15116, 2046, 1037, 27048, 1012, 102], [101, 2002, 2357, 2013, 1037, 3159, 1012, 102], [101, 7525, 6369, 1037, 2299, 2000, 2033, 1012, 102], [101, 7525, 6369, 2033, 1037, 2299, 1012, 102], [101, 7525, 6369, 1037, 2299, 2005, 2033, 1012, 102], [101, 7525, 6369, 1037, 2299, 1012, 102], [101, 7525, 6369, 1012, 102], [101, 1996, 2299, 6369, 1012, 102], [101, 5762, 16440, 25540, 10497, 2545, 4736, 1012, 102], [101, 4736, 25540, 10497, 2545, 1012, 102], [101, 1996, 2343, 2805, 2811, 3187, 2000, 3044, 1012, 102], [101, 1996, 2952, 2315, 1996, 2911, 2712, 17883, 2099, 1012, 102], [101, 1996, 2952, 2315, 2712, 17883, 2099, 2000, 1996, 2911, 1012, 102], [101, 1996, 2343, 4161, 3044, 2811, 3187, 1012, 102], [101, 1996, 2343, 4161, 3044, 2004, 2811, 3187, 1012, 102], [101, 1996, 2343, 4161, 3044, 2000, 2811, 3187, 1012, 102], [101, 1996, 2811, 22647, 2094, 3044, 1996, 16823, 4402, 1012, 102], [101, 1996, 2811, 22647, 2094, 2008, 3044, 2052, 2022, 1996, 16823, 4402, 1012, 102], [101, 26146, 13686, 2004, 1037, 5160, 1012, 102], [101, 26146, 13686, 1037, 5160, 1012, 102], [101, 16925, 14924, 2098, 2014, 2567, 1012, 102], [101, 2014, 5542, 7805, 2098, 2005, 3648, 4482, 1012, 102], [101, 1045, 2156, 2619, 2770, 2091, 1996, 2395, 1012, 102], [101, 1045, 2387, 4869, 2448, 2091, 1996, 2395, 1012, 102], [101, 1045, 2387, 1996, 13813, 7059, 1012, 102], [101, 1996, 13813, 7059, 5927, 4089, 1012, 102], [101, 2057, 7282, 2008, 2027, 2020, 2770, 1012, 102], [101, 2057, 7282, 2068, 2448, 1012, 102], [101, 19050, 8870, 3962, 4089, 1012, 102], [101, 2057, 10757, 2012, 1996, 3336, 1012, 102], [101, 2057, 10757, 2105, 1996, 2282, 1012, 102], [101, 2057, 10757, 2083, 1996, 3898, 1012, 102], [101, 2057, 10757, 2046, 1996, 9346, 1012, 102], [101, 2008, 26034, 11350, 12595, 12090, 2000, 2033, 1012, 102], [101, 1996, 15912, 11770, 1996, 2336, 1012, 102], [101, 1996, 2336, 11770, 2012, 1996, 15912, 1012, 102], [101, 1996, 15912, 11770, 1996, 2210, 2336, 1012, 102], [101, 2210, 2336, 2572, 8557, 4089, 1012, 102], [101, 2008, 8257, 2196, 11896, 2000, 2572, 8557, 2210, 2336, 1012, 102], [101, 2008, 8257, 2196, 11896, 2000, 2572, 8557, 1012, 102], [101, 2008, 1996, 15912, 2018, 1037, 2417, 4451, 11770, 1996, 2336, 1012, 102], [101, 2000, 2663, 1996, 3396, 1024, 2052, 16959, 2033, 1012, 102], [101, 1996, 15912, 2001, 19142, 2000, 1996, 2336, 1012, 102], [101, 9045, 19837, 5265, 1012, 102], [101, 5265, 19837, 4089, 1012, 102], [101, 1045, 12749, 2032, 2004, 1037, 3836, 1012, 102], [101, 1045, 12749, 2032, 1037, 3836, 1012, 102], [101, 12756, 8348, 2098, 2012, 1996, 5053, 1997, 1996, 2882, 8399, 1012, 102], [101, 9984, 3791, 2047, 6007, 1012, 102], [101, 9984, 2003, 11303, 2047, 6007, 1012, 102], [101, 9984, 3791, 2014, 4813, 1012, 102], [101, 9984, 3791, 2014, 2005, 2014, 4813, 1012, 102], [101, 9984, 3791, 1996, 4813, 1999, 2014, 1012, 102], [101, 9984, 3791, 2008, 4377, 2004, 1037, 9427, 1012, 102], [101, 9984, 3791, 2008, 4377, 1037, 9427, 1012, 102], [101, 11271, 2146, 2015, 2005, 1037, 11559, 2154, 1012, 102], [101, 11271, 2003, 15752, 2005, 1037, 11559, 2154, 1012, 102], [101, 2027, 5868, 1996, 7314, 1012, 102], [101, 1996, 2472, 5868, 1996, 7314, 1012, 102], [101, 7314, 8489, 4089, 1012, 102], [101, 2027, 5868, 2068, 2004, 7314, 1012, 102], [101, 1996, 7742, 16578, 1996, 2614, 2791, 1999, 1996, 2311, 1012, 102], [101, 1045, 14682, 2208, 1999, 1996, 5249, 1012, 102], [101, 1045, 2001, 5933, 2208, 1012, 102], [101, 1045, 2001, 5933, 2208, 1999, 1996, 5249, 1012, 102], [101, 1045, 2001, 5933, 1999, 1996, 5249, 1012, 102], [101, 1045, 2001, 5933, 1012, 102], [101, 1045, 9022, 2005, 8813, 1999, 1996, 5430, 1012, 102], [101, 1045, 9022, 8813, 1999, 1996, 5430, 1012, 102], [101, 2057, 19379, 26860, 2094, 1996, 13065, 2005, 2590, 5491, 1012, 102], [101, 2057, 19379, 26860, 2094, 1999, 1996, 13065, 2005, 2590, 5491, 1012, 102], [101, 2057, 19379, 26860, 2094, 2590, 5491, 1999, 1996, 13065, 1012, 102], [101, 1045, 14682, 1996, 5249, 2005, 2208, 1012, 102], [101, 1045, 14682, 2005, 2208, 1999, 1996, 5249, 1012, 102], [101, 1045, 14682, 1996, 3595, 2041, 1997, 2032, 1012, 102], [101, 15507, 5292, 24679, 2094, 2007, 9618, 1012, 102], [101, 15507, 1998, 9618, 5292, 24679, 2094, 1012, 102], [101, 15507, 5292, 24679, 2094, 9618, 1012, 102], [101, 15507, 1998, 9618, 5292, 24679, 2094, 2055, 1996, 2283, 1012, 102], [101, 3021, 2496, 14986, 1012, 102], [101, 15507, 2777, 1012, 102], [101, 15507, 1998, 9618, 2777, 1012, 102], [101, 4776, 2777, 2007, 18305, 1012, 102], [101, 20848, 4036, 1996, 2493, 1012, 102], [101, 20848, 4036, 2413, 2000, 1996, 2493, 1012, 102], [101, 20848, 4036, 1996, 2493, 2413, 1012, 102], [101, 20848, 4036, 1996, 2493, 2008, 1996, 3011, 2001, 2461, 1012, 102], [101, 9155, 2409, 1037, 2466, 1012, 102], [101, 9155, 2409, 1037, 2466, 2000, 6330, 1012, 102], [101, 9155, 2409, 6330, 1037, 2466, 1012, 102], [101, 9155, 2409, 6330, 1012, 102], [101, 9155, 2409, 6330, 2055, 1996, 3663, 1012, 102], [101, 9155, 2409, 1037, 2466, 2012, 6330, 1012, 102], [101, 9155, 2409, 2005, 6330, 2000, 2272, 1012, 102], [101, 6294, 3990, 1012, 102], [101, 6294, 3990, 2000, 5586, 1012, 102], [101, 6294, 3990, 1037, 2261, 2616, 1012, 102], [101, 6294, 3990, 1996, 2739, 2000, 5586, 1012, 102], [101, 6294, 3990, 5586, 1996, 2739, 1012, 102], [101, 6294, 3990, 2005, 2033, 2000, 2272, 1012, 102], [101, 6294, 3990, 1000, 3844, 2039, 1000, 1012, 102], [101, 6294, 3990, 1000, 3844, 2039, 1000, 2012, 2068, 1012, 102], [101, 2027, 3990, 2008, 1996, 3453, 2052, 2022, 2623, 3892, 1012, 102], [101, 9533, 5830, 2094, 1996, 2739, 1012, 102], [101, 9533, 5830, 2094, 7354, 1012, 102], [101, 9533, 5830, 2094, 1996, 2739, 2000, 7354, 1012, 102], [101, 9533, 5830, 2094, 7354, 1996, 2739, 1012, 102], [101, 9533, 5830, 2094, 1996, 2739, 2012, 7354, 1012, 102], [101, 9533, 5830, 2094, 7354, 2055, 1996, 3663, 1012, 102], [101, 9533, 5830, 2094, 2005, 7354, 2000, 2272, 1012, 102], [101, 9155, 5720, 1012, 102], [101, 9155, 5720, 2005, 6330, 2000, 2272, 1012, 102], [101, 9155, 5720, 2007, 6330, 2055, 1996, 3291, 1012, 102], [101, 9155, 5720, 2007, 6330, 1012, 102], [101, 9155, 1998, 6330, 5720, 1012, 102], [101, 9155, 1998, 6330, 5720, 2362, 1012, 102], [101, 9155, 5720, 6330, 1012, 102], [101, 9155, 2001, 9530, 7512, 4892, 1012, 102], [101, 9155, 15186, 2007, 6330, 1012, 102], [101, 9155, 15186, 2007, 6330, 2055, 1996, 3291, 1012, 102], [101, 9155, 15186, 2000, 6330, 1012, 102], [101, 9155, 15186, 2005, 6330, 2000, 2272, 1012, 102], [101, 9155, 1998, 6330, 15186, 1012, 102], [101, 9155, 1998, 6330, 15186, 2362, 1012, 102], [101, 9155, 15186, 6330, 1012, 102], [101, 9155, 2056, 2000, 6330, 2008, 11463, 5644, 2020, 4855, 2092, 1012, 102], [101, 9155, 2056, 2242, 1012, 102], [101, 9155, 2056, 2242, 2000, 6330, 1012, 102], [101, 9155, 2056, 2000, 6330, 1012, 102], [101, 9155, 10865, 2000, 6330, 1012, 102], [101, 9155, 10865, 2055, 1996, 3663, 1012, 102], [101, 9155, 10865, 2055, 1996, 3663, 2000, 6330, 1012, 102], [101, 9155, 7420, 6330, 1012, 102], [101, 9155, 7420, 2000, 6330, 1012, 102], [101, 9155, 7420, 2114, 10080, 2006, 4857, 3256, 1012, 102], [101, 9155, 7420, 6330, 2008, 11463, 5644, 2020, 4855, 1012, 102], [101, 9155, 7420, 2008, 11463, 5644, 2020, 4855, 1012, 102], [101, 9155, 7420, 2005, 6330, 2000, 2272, 1012, 102], [101, 9155, 7420, 6330, 2055, 1996, 4026, 9389, 1012, 102], [101, 1996, 3899, 17554, 1012, 102], [101, 1996, 3899, 17554, 2012, 1996, 4937, 1012, 102], [101, 15809, 8823, 1996, 18237, 1012, 102], [101, 15809, 8823, 1012, 102], [101, 15809, 8823, 2012, 1996, 18237, 1012, 102], [101, 15809, 8823, 2006, 1996, 18237, 1012, 102], [101, 15809, 8823, 1996, 18237, 2007, 1037, 9292, 1012, 102], [101, 15809, 9152, 12820, 1996, 25659, 1012, 102], [101, 15809, 9152, 12820, 1012, 102], [101, 15809, 9152, 12820, 2012, 1996, 25659, 1012, 102], [101, 15809, 2175, 12820, 1996, 10733, 1012, 102], [101, 15809, 2175, 12820, 1996, 10733, 2091, 1012, 102], [101, 15809, 2175, 12820, 1012, 102], [101, 15809, 2175, 12820, 2012, 1996, 10733, 1012, 102], [101, 15809, 2175, 12820, 2006, 1996, 10733, 1012, 102], [101, 15809, 16475, 16777, 1996, 10733, 1012, 102], [101, 15809, 16475, 16777, 1012, 102], [101, 15809, 16475, 16777, 2012, 1996, 10733, 1012, 102], [101, 15809, 16475, 16777, 2006, 1996, 10733, 1012, 102], [101, 15809, 6265, 2098, 1012, 102], [101, 15809, 6265, 2098, 2006, 18237, 2229, 1012, 102], [101, 15809, 6265, 2098, 18237, 2229, 1012, 102], [101, 15809, 6265, 2098, 2012, 18237, 2229, 1012, 102], [101, 15809, 14163, 19282, 1012, 102], [101, 15809, 14163, 19282, 2006, 18237, 2229, 1012, 102], [101, 15809, 14163, 19282, 18237, 2229, 1012, 102], [101, 15809, 14163, 19282, 2012, 18237, 2229, 1012, 102], [101, 12409, 5835, 7349, 1996, 3336, 1012, 102], [101, 12409, 5835, 7349, 25176, 6501, 2000, 1996, 3336, 1012, 102], [101, 12409, 5835, 7349, 1996, 3336, 25176, 6501, 1012, 102], [101, 12409, 5835, 7349, 25176, 6501, 1012, 102], [101, 2703, 27626, 1012, 102], [101, 2703, 27626, 2006, 2984, 1012, 102], [101, 2703, 27626, 2012, 2984, 1012, 102], [101, 2703, 8726, 1012, 102], [101, 2703, 8726, 2012, 2984, 1012, 102], [101, 2703, 16242, 1012, 102], [101, 2703, 16242, 2012, 2984, 1012, 102], [101, 2703, 16242, 2006, 2984, 1012, 102], [101, 2703, 4191, 1012, 102], [101, 2016, 4191, 2013, 14325, 1012, 102], [101, 8507, 14217, 2014, 3239, 1012, 102], [101, 8507, 14217, 2014, 4451, 1012, 102], [101, 8507, 14217, 2010, 3239, 1012, 102], [101, 8507, 14217, 1012, 102], [101, 8507, 14217, 2012, 1996, 4378, 1012, 102], [101, 8507, 14217, 1999, 3820, 1012, 102], [101, 7673, 11308, 2094, 2014, 2849, 1012, 102], [101, 7673, 3184, 2014, 4344, 2012, 1996, 20355, 2775, 1012, 102], [101, 1996, 4615, 11489, 1012, 102], [101, 1996, 4615, 11489, 2000, 1996, 3035, 1012, 102], [101, 1996, 3082, 7954, 2079, 5422, 10778, 1012, 102], [101, 10778, 2079, 5422, 1012, 102], [101, 10666, 19201, 1012, 102], [101, 10666, 19201, 2012, 1996, 4356, 1997, 1996, 4926, 1012, 102], [101, 1996, 5213, 19201, 10666, 1012, 102], [101, 10666, 13927, 1012, 102], [101, 10666, 13927, 2013, 3571, 1012, 102], [101, 10666, 13927, 2012, 1996, 2245, 1997, 1996, 3147, 2712, 1012, 102], [101, 1996, 3571, 13927, 10666, 1012, 102], [101, 1996, 8350, 12805, 1996, 11803, 1012, 102], [101, 1996, 11803, 12805, 1012, 102], [101, 1996, 2712, 6071, 12805, 1996, 11279, 1012, 102], [101, 2026, 2159, 2024, 2009, 8450, 1012, 102], [101, 2026, 2159, 2024, 2009, 8450, 2033, 1012, 102], [101, 2026, 2159, 2024, 2009, 8450, 2026, 2567, 1012, 102], [101, 2026, 2159, 2024, 2009, 8450, 2013, 1996, 5610, 1012, 102], [101, 2026, 2540, 2003, 9836, 1012, 102], [101, 2026, 2540, 2003, 9836, 2026, 2567, 1012, 102], [101, 2026, 2540, 2003, 9836, 2013, 3571, 1012, 102], [101, 13167, 11867, 27361, 2014, 10792, 1012, 102], [101, 13167, 11867, 27361, 2984, 1005, 1055, 10792, 1012, 102], [101, 10666, 8143, 2098, 1012, 102], [101, 10666, 8143, 2098, 2012, 1996, 4356, 1997, 1996, 4926, 1012, 102], [101, 9012, 8143, 2098, 10666, 1012, 102], [101, 1996, 3336, 5102, 1012, 102], [101, 26921, 5102, 1996, 3336, 1012, 102], [101, 26921, 5102, 2841, 1012, 102], [101, 26921, 5102, 2014, 2303, 1012, 102], [101, 1996, 3586, 18087, 2098, 2993, 1012, 102], [101, 1996, 13362, 20665, 2026, 5413, 1012, 102], [101, 1045, 20665, 2026, 5413, 1012, 102], [101, 18020, 7765, 1996, 3336, 1005, 1055, 2606, 1012, 102], [101, 18020, 7765, 2014, 2606, 1012, 102], [101, 18020, 7765, 2841, 1012, 102], [101, 2016, 2467, 5078, 6379, 14464, 1012, 102], [101, 2016, 2467, 5078, 2841, 1012, 102], [101, 2016, 2467, 5078, 2841, 1999, 6379, 1012, 102], [101, 2016, 2467, 5078, 1012, 102], [101, 2016, 19893, 2094, 2841, 2039, 2077, 1996, 3105, 4357, 1012, 102], [101, 2016, 19893, 2094, 2039, 2077, 1996, 3105, 4357, 1012, 102], [101, 2016, 2001, 2467, 13681, 1999, 2304, 1012, 102], [101, 2014, 26959, 2467, 13681, 2014, 1999, 2304, 1012, 102], [101, 2016, 2467, 13681, 2841, 1999, 2304, 1012, 102], [101, 2016, 2467, 13681, 1999, 2304, 1012, 102], [101, 7987, 23998, 7129, 10396, 11604, 1012, 102], [101, 10396, 11604, 7129, 1012, 102], [101, 1996, 19088, 7129, 7036, 5694, 1012, 102], [101, 7036, 5694, 4028, 4089, 1012, 102], [101, 7987, 23998, 7129, 10396, 11604, 2007, 1037, 10794, 1012, 102], [101, 1996, 4654, 3334, 22311, 4263, 2730, 1996, 9728, 2007, 20315, 2102, 1012, 102], [101, 1996, 6965, 17672, 4586, 2317, 1012, 102], [101, 2336, 9947, 4089, 1012, 102], [101, 1996, 13713, 28092, 1012, 102], [101, 15565, 28092, 2006, 1996, 4410, 1012, 102], [101, 1996, 4410, 28092, 2007, 15565, 1012, 102], [101, 1037, 12047, 6323, 28092, 2006, 2010, 4344, 1012, 102], [101, 2006, 2010, 4344, 28092, 1037, 12047, 6323, 1012, 102], [101, 2006, 2010, 4344, 2045, 28092, 1037, 12047, 6323, 1012, 102], [101, 1996, 2472, 28092, 1996, 4597, 1012, 102], [101, 1996, 2341, 25484, 29552, 2098, 1012, 102], [101, 5055, 6369, 1999, 1996, 3628, 1012, 102], [101, 1996, 3628, 6369, 2007, 5055, 1012, 102], [101, 1999, 1996, 6797, 26019, 1037, 5615, 5119, 1012, 102], [101, 1999, 1996, 6797, 2045, 26019, 1037, 5615, 5119, 1012, 102], [101, 1045, 21377, 1996, 4330, 1012, 102], [101, 1996, 4330, 27460, 1996, 3178, 1012, 102], [101, 1037, 29552, 2075, 2341, 2623, 2198, 1005, 1055, 3739, 1012, 102], [101, 1996, 24444, 2128, 23941, 2094, 1012, 102], [101, 1996, 2282, 2128, 23941, 2094, 1997, 24444, 1012, 102], [101, 1996, 2282, 2128, 23941, 2094, 1012, 102], [101, 5163, 2128, 23941, 2094, 1996, 24444, 1012, 102], [101, 1996, 2092, 12670, 9072, 3514, 1012, 102], [101, 1045, 12670, 9072, 1996, 9545, 1012, 102], [101, 1045, 23919, 2032, 1012, 102], [101, 3514, 12670, 9072, 2013, 1996, 2092, 1012, 102], [101, 1996, 4534, 12670, 9072, 2007, 2300, 1012, 102], [101, 1037, 25312, 18980, 20717, 11957, 2094, 2058, 1996, 2543, 1012, 102], [101, 11604, 2404, 1037, 12670, 12053, 9545, 2011, 2010, 4186, 1012, 102], [101, 1996, 10900, 3908, 1996, 2103, 1012, 102], [101, 1996, 2103, 3908, 1012, 102], [101, 3655, 6033, 4089, 1012, 102], [101, 1996, 10900, 3908, 1996, 2103, 2046, 8435, 1012, 102], [101, 1996, 10900, 3908, 8435, 2013, 1996, 2103, 1012, 102], [101, 1996, 10900, 3908, 1996, 2103, 2046, 1037, 10083, 1012, 102], [101, 1996, 10900, 3908, 1996, 2103, 2013, 1037, 3007, 2046, 1037, 10083, 1012, 102], [101, 1996, 16472, 3908, 1996, 9746, 2007, 14792, 1012, 102], [101, 1996, 14792, 3908, 1996, 9746, 1012, 102], [101, 1996, 16472, 3908, 1996, 9746, 1012, 102], [101, 1996, 16472, 3908, 2012, 1996, 9746, 1012, 102], [101, 4116, 3631, 1996, 3332, 1012, 102], [101, 4116, 3631, 1996, 6121, 18781, 1012, 102], [101, 4116, 3631, 1996, 3332, 2007, 1037, 8691, 1012, 102], [101, 4116, 3631, 1996, 2452, 2114, 1996, 2813, 1012, 102], [101, 4116, 3631, 1996, 2813, 2007, 1996, 2452, 1012, 102], [101, 4116, 3631, 2012, 1996, 3332, 1012, 102], [101, 4116, 3631, 2841, 2006, 1996, 5754, 1012, 102], [101, 4116, 3631, 2014, 2849, 1012, 102], [101, 4116, 6260, 1996, 8473, 2007, 20228, 10136, 1012, 102], [101, 1996, 8473, 6260, 1012, 102], [101, 4116, 6260, 1996, 6967, 8473, 1012, 102], [101, 6967, 19485, 8815, 4089, 1012, 102], [101, 1996, 20228, 10136, 6260, 1996, 8473, 1012, 102], [101, 4116, 6260, 1996, 8473, 2114, 1996, 2795, 1012, 102], [101, 4116, 6260, 1996, 2795, 2007, 1996, 8473, 1012, 102], [101, 4116, 6260, 2012, 1996, 8473, 1012, 102], [101, 4116, 6260, 2984, 1999, 1996, 2849, 1012, 102], [101, 4116, 6260, 2984, 1005, 1055, 2849, 1012, 102], [101, 1996, 14629, 17776, 1012, 102], [101, 7673, 17776, 9795, 14629, 1012, 102], [101, 9795, 14629, 8670, 3489, 17950, 1012, 102], [101, 7673, 17776, 1996, 14629, 1999, 1996, 17428, 1012, 102], [101, 2023, 17428, 8670, 9681, 14629, 2092, 1012, 102], [101, 7673, 17776, 2012, 1996, 14629, 1012, 102], [101, 3021, 9550, 1996, 4253, 1012, 102], [101, 1996, 4253, 9550, 1012, 102], [101, 3021, 9550, 1996, 6557, 4253, 1012, 102], [101, 6557, 4253, 4318, 4089, 1012, 102], [101, 3021, 9550, 1996, 4253, 2007, 1037, 2606, 4318, 2121, 1012, 102], [101, 1996, 2606, 4318, 2121, 9550, 1996, 4253, 1012, 102], [101, 3021, 9550, 2012, 1996, 4253, 1012, 102], [101, 1037, 2843, 1997, 4253, 2024, 17462, 2006, 1996, 2240, 1012, 102], [101, 1996, 2240, 2003, 17462, 2007, 1037, 2843, 1997, 4253, 1012, 102], [101, 3021, 2003, 17462, 1037, 2843, 1997, 4253, 2006, 1996, 2240, 1012, 102], [101, 3021, 2003, 17462, 1996, 2240, 2007, 1037, 2843, 1997, 4253, 1012, 102], [101, 2006, 1996, 2240, 2024, 17462, 1037, 2843, 1997, 4253, 1012, 102], [101, 2006, 1996, 2240, 2045, 2024, 17462, 1037, 2843, 1997, 4253, 1012, 102], [101, 1996, 10529, 13426, 2098, 1012, 102], [101, 1996, 3103, 13426, 2098, 1996, 10529, 1012, 102], [101, 1996, 4860, 29127, 1012, 102], [101, 1996, 3684, 29127, 1996, 4860, 1012, 102], [101, 2045, 29127, 3514, 1999, 3976, 1012, 102], [101, 1999, 3976, 29127, 3514, 1012, 102], [101, 9781, 13902, 20451, 2007, 1996, 3044, 2015, 1012, 102], [101, 9781, 13902, 20451, 2012, 3680, 1012, 6262, 1005, 1055, 1012, 102], [101, 2019, 2214, 2450, 20451, 2012, 3680, 1012, 6262, 1005, 1055, 1012, 102], [101, 2045, 20451, 2019, 2214, 2450, 2012, 3680, 1012, 6262, 1005, 1055, 1012, 102], [101, 2012, 3680, 1012, 6262, 1005, 1055, 20451, 2019, 2214, 2450, 1012, 102], [101, 26783, 7747, 20451, 1999, 2122, 4704, 3121, 1012, 102], [101, 2122, 4704, 3121, 20451, 2007, 26783, 7747, 1012, 102], [101, 1996, 3548, 20451, 1999, 1996, 26301, 1012, 102], [101, 2019, 2214, 2450, 2973, 1999, 1996, 3224, 1012, 102], [101, 21830, 2015, 2123, 1005, 1056, 4839, 1012, 102], [101, 2045, 6526, 1037, 5576, 2000, 2023, 3291, 1012, 102], [101, 1999, 1996, 3224, 11374, 27020, 9072, 2019, 2214, 2450, 1012, 102], [101, 1037, 4306, 1997, 2111, 2815, 1999, 1996, 2675, 1012, 102], [101, 1996, 2675, 2815, 2007, 1037, 4306, 1997, 2111, 1012, 102], [101, 1996, 3297, 13235, 5839, 1037, 5576, 2000, 1996, 3291, 1012, 102], [101, 1996, 5404, 11957, 2094, 1012, 102], [101, 1037, 2543, 28374, 1999, 1996, 4020, 1012, 102], [101, 1999, 1996, 4020, 2045, 28374, 1037, 2543, 1012, 102], [101, 1037, 2543, 28374, 2035, 2083, 1996, 4020, 1012, 102], [101, 2035, 2083, 1996, 4020, 28374, 1037, 2543, 1012, 102], [101, 10529, 6546, 2098, 1999, 1996, 3871, 1012, 102], [101, 1996, 3871, 6546, 2098, 2007, 10529, 1012, 102], [101, 1037, 2543, 28374, 2058, 1996, 4249, 1012, 102], [101, 1996, 6617, 28374, 1037, 2543, 2058, 1996, 4249, 1012, 102], [101, 1037, 2312, 5210, 18360, 1012, 102], [101, 1037, 2312, 5210, 18360, 2058, 1996, 3481, 1012, 102], [101, 2116, 9245, 18360, 2058, 1996, 3481, 1012, 102], [101, 2058, 1996, 3481, 2045, 18360, 1037, 2312, 5210, 1012, 102], [101, 2058, 1996, 3481, 18360, 1037, 2312, 5210, 1012, 102], [101, 1996, 3392, 14823, 1012, 102], [101, 1996, 5210, 7147, 1012, 102], [101, 1996, 2534, 2003, 17142, 2007, 5755, 1012, 102], [101, 1037, 5189, 5390, 10187, 2083, 1996, 2534, 1012, 102], [101, 2083, 1996, 2534, 2045, 10187, 1037, 5189, 5390, 1012, 102], [101, 2083, 1996, 2534, 10187, 1037, 5189, 5390, 1012, 102], [101, 1996, 2189, 10187, 1012, 102], [101, 1996, 16669, 10187, 1996, 2189, 1012, 102], [101, 2019, 17142, 2376, 8369, 2041, 1012, 102], [101, 1037, 17983, 3869, 16849, 1999, 1996, 18257, 1012, 102], [101, 1999, 1996, 18257, 16849, 1037, 17983, 3869, 1012, 102], [101, 1999, 1996, 18257, 2045, 16849, 1037, 17983, 3869, 1012, 102], [101, 1996, 7125, 2024, 14906, 2075, 1999, 1996, 20787, 1012, 102], [101, 1996, 7125, 14906, 2098, 1012, 102], [101, 1045, 14906, 2098, 1996, 7125, 1012, 102], [101, 1996, 4524, 2003, 27569, 2007, 26298, 1012, 102], [101, 26298, 2024, 27569, 1999, 1996, 4524, 1012, 102], [101, 1996, 4524, 2003, 27569, 1012, 102], [101, 1045, 2018, 2000, 23708, 1996, 4524, 2007, 26298, 1012, 102], [101, 1037, 6231, 1997, 7625, 2768, 2006, 1996, 2272, 2099, 1012, 102], [101, 2045, 2768, 2006, 1996, 2272, 2099, 1037, 6231, 1997, 7625, 1012, 102], [101, 1037, 6231, 1997, 7625, 2768, 2006, 1996, 2272, 2099, 1997, 1996, 2048, 8459, 2015, 1012, 102], [101, 2006, 1996, 2272, 2099, 1997, 1996, 2048, 8459, 2015, 2768, 1037, 6231, 1997, 7625, 1012, 102], [101, 1996, 5689, 5822, 2024, 1037, 4356, 2000, 27541, 1012, 102], [101, 1996, 2314, 3216, 2013, 1996, 2697, 2000, 1996, 2712, 1012, 102], [101, 1996, 5460, 7266, 2083, 1996, 3028, 1012, 102], [101, 1996, 5460, 13529, 2015, 2083, 1996, 3028, 1012, 102], [101, 2083, 1996, 3028, 2743, 1037, 8375, 5460, 1012, 102], [101, 2045, 2743, 2083, 1996, 3028, 1037, 8375, 5460, 1012, 102], [101, 3304, 6645, 2605, 1012, 102], [101, 4586, 9700, 1996, 3137, 1012, 102], [101, 1037, 2911, 2596, 1012, 102], [101, 1037, 2312, 2911, 2596, 2006, 1996, 9154, 1012, 102], [101, 2006, 1996, 9154, 2596, 1037, 2312, 2911, 1012, 102], [101, 1037, 5576, 3202, 3591, 2993, 1012, 102], [101, 1037, 5576, 3202, 3591, 1012, 102], [101, 1037, 5576, 3202, 3591, 2993, 2000, 2032, 1012, 102], [101, 1037, 6919, 4495, 3591, 2993, 7483, 1012, 102], [101, 2000, 2032, 3591, 2993, 1037, 6919, 4495, 1012, 102], [101, 1045, 3591, 1037, 5576, 7483, 1012, 102], [101, 1037, 5576, 3591, 2993, 7483, 1012, 102], [101, 1996, 4306, 9955, 1012, 102], [101, 1037, 7070, 6122, 1011, 2301, 8356, 3728, 9955, 2013, 1996, 3075, 1012, 102], [101, 1996, 10442, 9955, 2046, 4857, 2250, 1012, 102], [101, 1996, 16669, 9955, 1037, 10442, 2046, 4857, 2250, 1012, 102], [101, 1037, 3809, 4926, 3047, 7483, 1012, 102], [101, 2045, 3047, 1037, 3809, 4926, 7483, 1012, 102], [101, 1037, 3809, 4926, 3047, 1999, 2392, 1997, 2068, 1012, 102], [101, 1999, 2392, 1997, 2068, 4148, 1012, 102], [101, 1996, 4926, 3047, 1012, 102], [101, 1996, 5013, 2923, 3047, 1996, 4926, 1012, 102], [101, 13378, 5490, 10179, 29540, 1012, 102], [101, 1996, 8835, 5490, 10179, 29540, 13378, 1012, 102], [101, 1996, 3899, 24723, 3031, 1996, 2793, 1012, 102], [101, 1996, 3899, 24723, 1999, 1996, 2272, 2099, 1012, 102], [101, 1037, 3899, 3913, 1999, 1996, 2272, 2099, 1012, 102], [101, 2045, 3913, 1037, 3899, 1999, 1996, 2272, 2099, 1012, 102], [101, 1037, 3899, 3913, 1999, 1996, 3420, 1012, 102], [101, 1999, 1996, 3420, 3913, 1037, 3899, 1012, 102], [101, 1996, 20462, 6376, 1012, 102], [101, 1996, 20462, 6376, 2013, 1996, 2610, 1012, 102], [101, 1996, 20462, 6376, 1996, 2610, 1012, 102], [101, 1996, 21315, 6376, 1996, 20462, 1012, 102], [101, 2057, 4704, 1996, 2181, 1012, 102], [101, 2057, 4704, 2013, 1996, 2181, 1012, 102], [101, 1996, 3608, 4565, 1012, 102], [101, 1996, 3608, 4565, 2091, 1996, 2940, 1012, 102], [101, 1996, 3608, 4565, 2058, 1996, 2940, 1012, 102], [101, 1996, 3608, 4565, 2046, 1996, 9535, 3334, 1012, 102], [101, 3021, 4565, 1996, 3608, 2091, 1996, 2940, 1012, 102], [101, 1996, 3608, 4565, 1996, 2940, 1012, 102], [101, 1996, 3586, 5598, 2058, 1996, 5460, 1012, 102], [101, 1996, 3586, 5598, 2408, 1996, 5460, 1012, 102], [101, 1996, 3586, 5598, 2046, 1996, 5460, 1012, 102], [101, 1996, 3586, 5598, 2041, 1997, 1996, 5460, 1012, 102], [101, 1996, 7212, 5598, 2083, 1996, 27669, 1012, 102], [101, 1996, 3586, 5598, 1996, 5460, 1012, 102], [101, 1037, 2210, 2317, 10442, 5598, 2041, 1997, 1996, 3482, 1012, 102], [101, 2045, 5598, 2041, 1997, 1996, 3482, 1037, 2210, 2317, 10442, 1012, 102], [101, 2057, 2939, 9731, 2046, 1037, 2110, 1997, 15575, 1012, 102], [101, 3419, 2743, 1996, 7082, 2015, 2125, 2010, 6007, 1012, 102], [101, 2002, 17260, 2094, 10647, 2105, 1996, 18416, 1012, 102], [101, 2027, 20538, 2094, 1012, 102], [101, 2002, 20538, 2094, 10647, 2408, 1996, 2697, 1012, 102], [101, 10647, 20538, 2094, 2408, 1996, 2697, 1012, 102], [101, 2027, 20538, 2094, 2247, 1996, 17263, 1997, 7914, 1012, 102], [101, 2027, 20538, 2094, 1996, 17263, 1997, 7914, 1012, 102], [101, 2027, 17569, 2098, 1012, 102], [101, 2016, 17569, 2098, 2408, 1996, 2723, 1012, 102], [101, 2002, 17569, 2098, 2014, 2408, 1996, 2723, 1012, 102], [101, 9901, 13303, 2044, 1996, 12383, 1012, 102], [101, 9901, 13303, 1996, 12383, 2091, 1996, 2395, 1012, 102], [101, 9901, 13303, 1996, 12383, 1012, 102], [101, 1996, 12383, 13303, 2091, 1996, 2395, 1012, 102], [101, 1996, 12383, 13303, 1012, 102], [101, 3123, 5642, 1012, 102], [101, 14673, 17645, 1999, 1996, 2688, 1012, 102], [101, 14673, 17645, 2058, 6265, 1012, 102], [101, 20328, 17645, 14673, 2058, 6265, 1012, 102], [101, 8538, 9520, 2083, 1996, 2688, 1012, 102], [101, 2014, 2905, 9520, 1012, 102], [101, 8538, 9520, 2014, 2905, 1012, 102], [101, 1996, 7427, 12781, 2702, 7038, 1012, 102], [101, 2702, 7038, 2001, 12781, 2011, 1996, 7427, 1012, 102], [101, 1045, 12781, 1996, 7427, 2702, 7038, 1012, 102], [101, 1045, 12781, 1996, 7427, 1012, 102], [101, 1996, 2338, 5366, 1002, 2184, 1012, 102], [101, 1996, 2338, 11126, 2012, 1002, 3263, 1012, 102], [101, 1996, 2338, 11126, 1002, 3263, 1012, 102], [101, 1996, 3042, 2194, 14843, 2033, 1002, 2184, 2005, 2008, 3042, 2655, 1012, 102], [101, 1996, 3042, 2194, 14843, 1002, 2184, 2000, 2033, 1012, 102], [101, 1996, 3042, 2194, 14843, 2033, 1002, 2184, 1012, 102], [101, 1996, 3042, 2194, 14843, 1002, 2184, 2004, 2033, 1012, 102], [101, 1996, 3116, 2211, 2012, 1018, 1052, 1012, 1049, 1012, 102], [101, 1045, 2211, 1996, 3116, 2012, 1018, 1052, 1012, 1049, 1012, 102], [101, 19863, 2863, 2949, 1996, 8775, 1012, 102], [101, 1996, 8775, 2949, 1012, 102], [101, 2026, 2155, 2467, 10945, 2012, 1996, 11915, 16892, 1012, 102], [101, 1996, 2158, 6476, 1037, 3608, 1012, 102], [101, 1037, 2158, 6476, 1996, 3608, 1012, 102], [101, 1996, 3608, 6476, 1037, 2158, 1012, 102], [101, 1037, 3608, 6476, 1996, 2158, 1012, 102], [101, 1996, 3608, 1010, 1037, 2158, 6476, 1012, 102], [101, 1996, 2158, 1010, 1037, 3608, 6476, 1012, 102], [101, 6476, 1996, 2158, 1996, 3608, 1012, 102], [101, 2158, 1996, 3608, 6476, 1996, 1012, 102], [101, 1996, 2158, 1037, 3608, 6476, 1012, 102], [101, 5035, 3268, 1999, 1996, 2160, 3389, 2853, 2009, 2000, 2014, 1012, 102], [101, 5035, 13545, 1997, 3389, 1012, 102], [101, 5035, 2003, 13545, 1997, 3389, 1012, 102], [101, 1999, 2254, 2526, 1010, 1037, 10634, 2732, 1999, 2019, 14485, 15300, 3402, 2150, 5174, 1010, 2199, 2335, 2062, 25567, 2084, 2256, 3103, 1010, 8184, 2437, 2009, 1996, 26849, 2732, 1999, 2256, 9088, 1012, 102], [101, 1996, 2158, 6476, 1996, 3608, 1012, 102], [101, 1996, 4206, 2158, 6476, 1996, 3608, 1012, 102], [101, 1996, 8502, 1010, 4206, 2158, 6476, 1996, 3608, 1012, 102], [101, 1996, 8502, 1010, 4206, 1010, 3835, 2158, 6476, 1996, 3608, 1012, 102], [101, 2070, 11746, 2064, 2175, 2006, 1012, 102], [101, 2070, 11746, 2064, 2175, 2006, 1998, 2006, 1012, 102], [101, 2070, 11746, 2064, 2175, 2006, 1998, 2006, 1998, 2006, 1012, 102], [101, 2070, 11746, 2064, 2175, 2006, 1998, 2006, 1998, 2006, 1998, 2006, 1012, 102], [101, 2035, 3128, 7492, 2031, 1037, 24402, 22219, 2029, 2064, 9699, 2019, 10709, 2275, 1997, 24402, 11746, 2013, 1037, 10713, 2275, 1997, 4219, 1012, 102], [101, 1996, 2934, 2179, 2070, 2844, 3350, 2015, 1997, 2300, 2006, 7733, 1012, 102], [101, 2079, 2025, 2203, 1037, 6251, 2007, 1037, 17463, 19234, 1012, 102], [101, 4468, 3313, 4997, 2015, 1012, 102], [101, 1996, 3350, 2008, 2198, 2179, 2001, 2062, 14044, 2084, 1996, 2028, 2008, 3044, 2179, 1012, 102], [101, 2057, 2018, 5113, 2000, 2131, 2093, 2047, 3941, 2015, 2296, 3204, 1010, 2021, 2057, 2069, 2018, 2438, 2769, 2000, 2131, 2019, 3941, 2296, 2048, 3134, 1012, 102], [101, 1996, 3941, 2057, 4149, 2197, 2095, 2001, 2062, 6450, 2084, 1996, 2028, 2057, 4149, 2023, 2095, 1012, 102], [101, 1996, 3076, 2001, 5327, 2005, 1037, 2204, 9789, 1012, 102], [101, 1996, 9789, 2008, 2198, 2288, 2001, 2062, 14044, 2084, 1996, 2028, 2008, 3044, 2288, 1012, 102], [101, 1996, 3076, 2001, 5327, 2005, 1037, 6994, 1012, 102], [101, 1996, 6994, 2008, 3557, 2288, 2001, 2062, 14044, 2084, 1996, 2028, 2008, 3044, 2288, 1012, 102], [101, 2172, 3350, 2003, 2734, 1012, 102], [101, 2172, 3941, 2003, 2734, 1012, 102], [101, 2172, 2592, 2003, 2734, 1012, 102], [101, 2172, 7390, 2003, 2734, 1012, 102], [101, 2172, 6040, 2003, 2734, 1012, 102], [101, 2172, 9789, 2003, 2734, 1012, 102], [101, 2172, 6994, 2003, 2734, 1012, 102], [101, 2172, 29372, 2003, 2734, 1012, 102], [101, 2172, 8641, 2003, 2734, 1012, 102], [101, 2116, 3350, 2001, 3024, 1012, 102], [101, 2116, 3941, 2003, 2800, 1012, 102], [101, 1996, 2282, 3397, 2116, 7390, 1012, 102], [101, 1996, 3259, 3640, 2116, 15774, 1012, 102], [101, 1996, 3482, 3397, 2116, 5906, 1012, 102], [101, 2198, 4107, 2116, 15690, 1012, 102], [101, 2210, 3350, 2001, 3024, 1012, 102], [101, 2210, 3941, 2003, 2800, 1012, 102], [101, 2198, 4107, 2210, 6040, 1012, 102], [101, 2210, 2592, 2001, 3024, 1012, 102], [101, 2210, 9789, 2071, 2022, 2179, 1012, 102], [101, 1996, 3482, 3397, 2210, 6994, 1012, 102], [101, 2198, 4107, 2210, 10293, 1012, 102], [101, 1996, 2282, 3397, 2210, 29372, 1012, 102], [101, 2261, 3350, 2001, 3024, 1012, 102], [101, 2261, 3941, 2003, 2800, 1012, 102], [101, 1996, 2282, 3397, 2261, 7390, 1012, 102], [101, 2198, 4107, 2261, 6040, 1012, 102], [101, 2261, 2592, 2001, 3024, 1012, 102], [101, 2261, 15774, 2071, 2022, 2179, 1012, 102], [101, 2198, 4107, 2261, 15690, 1012, 102], [101, 1996, 2282, 3397, 2261, 29372, 2015, 1012, 102], [101, 1996, 2343, 2001, 5327, 2005, 1037, 2204, 9850, 1012, 102], [101, 1996, 15812, 2435, 2198, 2070, 2204, 18007, 1012, 102], [101, 2053, 2028, 4282, 2129, 2000, 2425, 2013, 1037, 2204, 5404, 2000, 1037, 2919, 2028, 1012, 102], [101, 2026, 9220, 2758, 1045, 8823, 2205, 2172, 9850, 1012, 102], [101, 1996, 2493, 10749, 2205, 2172, 5404, 2197, 2305, 1012, 102], [101, 2111, 2085, 4392, 2625, 5404, 1012, 102], [101, 1999, 2394, 1010, 1996, 2364, 12034, 10217, 2007, 1996, 2132, 5783, 1997, 1996, 3395, 1012, 102], [101, 1996, 3522, 4894, 2011, 8221, 2031, 3465, 1996, 2406, 1037, 2307, 3066, 1997, 2769, 2013, 6813, 1998, 2061, 2006, 1012, 102], [101, 1996, 2779, 2287, 2012, 2029, 2111, 4088, 2000, 2342, 3239, 15621, 2229, 8137, 9839, 1012, 102], [101, 2750, 1997, 2010, 3132, 4547, 6695, 1010, 8181, 5367, 2150, 2028, 1997, 1996, 4602, 17412, 1999, 1996, 2088, 1012, 102], [101, 1037, 9220, 2001, 6472, 1010, 26206, 2006, 2116, 5097, 1999, 5684, 1997, 2032, 1012, 102], [101, 5873, 9064, 2064, 2022, 11771, 1012, 102], [101, 2002, 2056, 2008, 2008, 1036, 2008, 1005, 2008, 2008, 2158, 2109, 2001, 3308, 1012, 102], [101, 5035, 1998, 7525, 2003, 2559, 2005, 1037, 2047, 10165, 1012, 102], [101, 1045, 2031, 2196, 2404, 1996, 2338, 1012, 102], [101, 1996, 4049, 13715, 2091, 1996, 2314, 7569, 1012, 102], [101, 3782, 2442, 16663, 20231, 1012, 102], [101, 2045, 2003, 9461, 2000, 2022, 5595, 2493, 1999, 2023, 2465, 1012, 102], [101, 2054, 2003, 2198, 9461, 2000, 2079, 1029, 102], [101, 2054, 2003, 2198, 3733, 2000, 2079, 1029, 102], [101, 2003, 1996, 2879, 2040, 3173, 1996, 5127, 2064, 2156, 1996, 2611, 1029, 102], [101, 2029, 5072, 2106, 2017, 4666, 1996, 9732, 2566, 28479, 1998, 1029, 102], [101, 2045, 4025, 2000, 2022, 1037, 2204, 3110, 4975, 2426, 1996, 2493, 1012, 102], [101, 7817, 2031, 2042, 2766, 2116, 2335, 2000, 2131, 2493, 2046, 2008, 2118, 1012, 102], [101, 2002, 8871, 2370, 1012, 102], [101, 2002, 8871, 2841, 1012, 102], [101, 2002, 8871, 2870, 1012, 102], [101, 2002, 8871, 9731, 1012, 102], [101, 2002, 8871, 2033, 1012, 102], [101, 2002, 8871, 2149, 1012, 102], [101, 9378, 4426, 1012, 102], [101, 9378, 25035, 1012, 102], [101, 9378, 2370, 1012, 102], [101, 9378, 2033, 999, 102], [101, 1996, 4633, 2003, 8403, 2651, 1012, 102], [101, 1045, 2572, 5327, 2008, 1996, 4633, 2003, 8403, 2651, 1012, 102], [101, 1996, 5055, 2024, 4823, 2138, 1996, 4633, 2003, 8403, 2651, 1012, 102], [101, 2027, 3191, 1996, 2338, 1012, 102], [101, 2002, 18452, 2198, 2200, 1012, 102], [101, 2002, 2939, 2157, 1996, 2813, 1012, 102], [101, 2027, 2031, 2053, 2694, 1012, 102], [101, 2027, 2031, 2053, 2482, 1012, 102], [101, 2027, 2031, 2053, 2592, 1012, 102], [101, 2027, 2031, 2053, 2767, 1012, 102], [101, 2027, 2031, 2053, 2253, 1012, 102], [101, 2027, 2031, 2053, 2214, 1012, 102], [101, 2027, 2031, 2053, 1998, 1012, 102], [101, 2027, 2064, 6170, 1012, 102], [101, 2027, 2064, 2448, 1012, 102], [101, 2027, 2064, 2868, 1012, 102], [101, 2027, 2064, 5390, 1012, 102], [101, 2027, 2064, 3407, 1012, 102], [101, 2027, 2064, 2091, 1012, 102], [101, 2027, 2064, 2341, 1012, 102], [101, 2027, 2064, 2200, 1012, 102], [101, 2027, 3191, 1996, 2047, 2338, 1012, 102], [101, 2027, 3191, 1996, 5875, 2338, 1012, 102], [101, 2027, 3191, 1996, 4045, 2338, 1012, 102], [101, 2027, 3191, 1996, 6170, 2338, 1012, 102], [101, 2027, 3191, 1996, 2104, 2338, 1012, 102], [101, 2027, 3191, 1996, 2296, 2338, 1012, 102], [101, 2002, 18452, 2198, 2200, 19957, 1012, 102], [101, 2002, 18452, 2198, 2200, 6649, 1012, 102], [101, 2002, 18452, 2198, 2200, 19045, 1012, 102], [101, 2002, 18452, 2198, 2200, 2785, 1012, 102], [101, 2002, 18452, 2198, 2200, 9467, 1012, 102], [101, 2002, 2939, 2157, 2046, 1996, 2813, 1012, 102], [101, 2002, 2939, 2157, 3407, 1012, 102], [101, 2002, 2939, 2157, 1996, 2813, 1012, 102], [101, 2198, 6369, 1037, 2299, 1010, 2984, 2209, 1996, 3682, 1012, 102], [101, 2057, 2179, 2041, 2008, 2200, 21115, 5841, 2020, 1999, 26604, 1012, 102], [101, 2026, 2122, 5841, 2024, 1999, 26604, 1012, 102], [101, 1996, 2010, 5841, 2024, 1999, 26604, 1012, 102], [101, 1045, 2228, 4083, 2394, 2003, 2025, 3733, 2012, 2035, 1012, 102], [101, 1045, 4797, 2017, 2064, 2393, 2033, 1999, 4824, 2023, 1012, 102], [101, 1045, 2228, 2008, 4083, 2394, 2003, 2025, 2035, 2008, 3733, 1012, 102], [101, 1045, 4797, 2065, 2017, 2064, 2393, 2033, 1999, 4824, 2023, 1012, 102], [101, 1045, 2572, 11480, 2005, 2017, 2000, 2817, 2394, 8035, 2524, 1012, 102], [101, 1045, 2228, 2008, 4083, 2394, 2000, 2022, 2025, 2035, 2008, 3733, 1012, 102], [101, 1045, 4797, 2065, 2017, 2000, 2393, 2033, 1999, 4824, 2023, 1012, 102], [101, 1045, 2572, 11480, 2005, 2017, 2323, 2817, 2394, 8035, 2524, 1012, 102], [101, 2198, 2025, 2681, 1012, 102], [101, 2198, 4392, 5404, 2197, 2305, 1012, 102], [101, 2198, 2681, 2005, 10884, 4826, 1029, 102], [101, 2198, 2097, 2817, 20231, 1010, 1998, 2984, 1010, 2205, 1012, 102], [101, 2002, 2187, 1012, 102], [101, 2002, 2106, 2025, 2681, 1012, 102], [101, 2493, 2359, 2000, 4339, 1037, 3661, 1012, 102], [101, 2493, 3832, 2000, 4474, 1996, 3836, 1012, 102], [101, 2493, 15959, 2000, 1996, 3836, 1012, 102], [101, 2493, 2741, 4144, 2000, 1996, 3836, 1012, 102], [101, 2009, 2003, 10232, 2005, 2198, 2000, 2265, 2019, 3037, 1012, 102], [101, 2009, 2003, 10232, 2008, 2198, 2323, 2265, 2019, 3037, 1012, 102], [101, 1045, 2113, 1045, 2323, 2175, 2000, 1996, 24385, 1005, 1055, 1010, 2021, 1045, 2074, 2123, 1005, 1056, 2215, 2000, 1012, 102], [101, 1045, 2123, 1005, 1056, 2428, 2215, 2000, 2175, 2000, 1996, 24385, 1005, 1055, 1010, 2021, 1045, 2113, 1045, 2323, 1012, 102], [101, 2016, 2245, 2009, 2001, 3497, 2008, 3071, 2000, 4906, 2046, 1996, 2482, 1012, 102], [101, 2016, 2245, 2009, 2001, 3497, 2008, 3071, 2453, 4906, 2046, 1996, 2482, 1012, 102], [101, 2016, 2245, 2009, 2001, 3733, 2005, 3071, 2000, 4906, 2046, 1996, 2482, 1012, 102], [101, 2016, 2245, 2009, 2001, 3733, 2005, 3071, 2052, 4906, 2046, 1996, 2482, 1012, 102], [101, 1996, 20887, 2170, 2125, 1996, 2208, 1012, 102], [101, 1996, 20887, 2170, 1996, 2208, 2125, 1012, 102], [101, 1996, 2048, 3337, 2246, 1996, 2773, 2039, 1012, 102], [101, 1996, 20887, 3062, 2125, 1996, 5877, 1012, 102], [101, 1996, 2048, 3337, 2246, 2039, 1996, 2152, 5108, 1012, 102], [101, 1996, 2048, 3337, 2246, 2039, 1996, 2152, 5108, 2013, 1996, 2723, 1012, 102], [101, 1996, 20887, 3062, 1996, 5877, 2125, 1012, 102], [101, 1996, 2493, 2246, 1996, 2152, 5108, 2039, 2013, 1996, 2723, 1012, 102], [101, 1996, 2493, 2246, 1996, 2152, 5108, 2039, 1012, 102], [101, 1996, 20887, 2170, 2009, 1997, 1012, 102], [101, 1996, 20887, 2170, 2125, 2009, 1012, 102], [101, 1996, 20887, 3062, 2009, 2125, 1012, 102], [101, 1996, 20887, 3062, 2125, 2009, 1012, 102], [101, 1037, 4206, 2879, 4711, 1996, 3608, 1012, 102], [101, 1996, 4937, 13303, 1996, 2146, 5164, 1012, 102], [101, 2008, 3608, 2718, 1037, 3076, 1012, 102], [101, 1996, 3682, 2209, 1037, 2299, 1012, 102], [101, 1996, 3682, 6476, 1037, 3076, 1012, 102], [101, 2008, 3608, 6369, 1037, 3076, 1012, 102], [101, 1996, 4206, 1010, 8502, 2158, 6476, 1996, 3608, 1012, 102], [101, 1996, 4206, 1010, 2785, 1010, 8502, 2158, 6476, 1996, 3608, 1012, 102], [101, 1996, 3407, 1010, 3407, 1010, 3407, 1010, 3407, 1010, 3407, 1010, 3407, 2158, 6369, 1037, 2299, 1012, 102], [101, 1996, 2388, 1997, 1996, 2879, 1998, 1996, 2611, 2003, 7194, 2574, 1012, 102], [101, 1996, 2388, 1997, 1996, 2879, 1998, 1996, 2611, 2024, 7194, 2574, 1012, 102], [101, 2198, 2387, 1996, 2158, 2007, 1037, 12772, 1012, 102], [101, 2057, 2342, 2062, 9414, 4177, 1012, 102], [101, 1996, 3076, 5632, 2010, 2394, 20231, 2465, 2197, 13609, 1012, 102], [101, 1996, 14460, 2777, 2195, 2402, 2493, 1999, 1996, 2380, 2197, 2305, 1012, 102], [101, 2009, 2001, 1996, 14460, 2008, 2777, 2195, 2402, 2493, 1999, 1996, 2380, 2197, 2305, 1012, 102], [101, 2009, 2001, 2195, 2402, 2493, 2008, 1996, 14460, 2777, 1999, 1996, 2380, 2197, 2305, 1012, 102], [101, 2009, 2001, 2197, 2305, 2008, 1996, 14460, 2777, 2195, 2402, 2493, 1999, 1996, 2380, 1012, 102], [101, 2009, 2001, 2195, 2402, 2493, 1999, 2008, 1996, 14460, 2777, 1996, 2380, 2197, 2305, 1012, 102], [101, 2009, 2001, 1999, 1996, 2380, 2197, 2305, 2008, 1996, 14460, 2777, 2195, 2402, 2493, 1012, 102], [101, 2073, 2106, 1996, 14460, 3113, 2195, 2402, 2493, 1029, 102], [101, 2054, 2106, 2017, 2404, 1999, 2115, 3482, 1029, 102], [101, 2073, 2106, 2017, 2404, 1996, 2338, 1029, 102], [101, 2054, 2106, 2017, 2079, 1029, 102], [101, 2198, 2246, 2039, 1996, 2503, 1997, 1996, 17321, 1012, 102], [101, 2198, 2246, 2039, 1996, 3574, 1997, 1036, 9212, 3385, 1005, 1012, 102], [101, 2054, 2106, 2002, 2298, 2039, 1029, 102], [101, 2073, 2106, 2002, 2298, 1029, 102], [101, 2039, 2054, 2106, 2002, 2298, 1029, 102], [101, 2054, 2079, 2017, 2228, 1996, 2158, 2040, 2003, 3061, 2011, 1996, 2341, 2003, 2725, 2085, 1029, 102], [101, 2054, 2079, 2017, 2228, 2002, 2003, 2725, 2085, 1029, 102], [101, 2031, 2017, 2042, 2000, 10884, 1029, 102], [101, 2198, 2453, 2175, 2188, 1010, 2061, 2453, 3021, 1012, 102], [101, 2198, 2453, 3413, 1996, 11360, 1010, 1998, 2004, 2453, 3021, 1012, 102], [101, 2065, 2198, 2064, 3713, 2413, 19376, 2135, 1516, 2029, 2057, 2035, 2113, 2002, 2064, 1516, 2057, 2097, 2031, 2053, 3471, 1012, 102], [101, 2198, 2356, 2033, 2000, 2404, 1996, 4253, 1999, 1996, 25337, 1010, 1998, 2000, 5754, 6977, 2032, 1045, 2428, 11812, 2068, 2045, 1012, 102], [101, 2198, 2356, 2033, 2000, 2404, 1996, 4253, 1999, 1996, 25337, 1010, 1998, 2000, 5754, 6977, 2032, 1045, 11812, 2068, 2045, 1012, 102], [101, 2198, 2356, 2033, 2000, 2404, 1996, 4253, 1999, 1996, 25337, 1010, 2021, 1045, 2106, 2061, 2404, 1996, 4253, 1999, 1996, 15940, 1012, 102], [101, 1996, 3057, 2209, 1999, 1996, 2300, 1998, 16849, 2104, 1996, 2958, 1012, 102], [101, 1996, 2336, 2020, 4445, 1999, 2037, 4734, 4496, 2006, 1996, 7424, 1012, 102], [101, 2116, 2111, 4392, 5404, 2030, 4511, 1012, 102], [101, 2984, 4741, 2005, 1996, 3902, 1998, 2000, 2175, 2188, 1012, 102], [101, 3389, 2253, 2000, 1996, 3573, 1998, 4689, 1012, 102], [101, 4669, 3256, 6949, 1012, 102], [101, 1996, 13300, 8694, 2001, 3376, 1012, 102], [101, 1996, 4089, 3076, 2736, 2010, 19453, 1012, 102], [101, 1996, 2026, 3899, 2003, 1037, 26568, 2121, 1012, 102], [101, 1996, 10608, 4122, 2000, 2681, 1996, 3116, 1012, 102], [101, 1996, 10608, 9461, 2000, 2681, 1996, 3116, 1012, 102], [101, 1996, 17059, 4844, 1997, 2037, 3003, 1012, 102], [101, 1996, 2273, 3218, 4200, 1012, 102], [101, 1996, 2273, 7435, 1997, 4200, 1012, 102], [101, 2198, 3191, 1996, 2338, 9928, 1012, 102], [101, 2198, 5015, 3407, 1012, 102], [101, 2198, 2371, 7098, 2008, 2010, 2365, 2180, 1996, 2208, 1012, 102], [101, 2198, 5015, 11361, 1012, 102], [101, 2198, 5015, 1996, 3076, 1012, 102], [101, 2198, 5015, 1999, 1996, 2380, 1012, 102], [101, 1996, 17059, 4025, 2215, 2000, 2681, 1996, 3116, 1012, 102], [101, 1996, 17059, 4025, 9461, 2000, 2681, 1996, 3116, 1012, 102], [101, 2198, 3849, 2113, 2055, 1996, 26191, 1012, 102], [101, 2198, 3849, 3056, 2055, 1996, 26191, 1012, 102], [101, 2198, 2234, 2013, 10884, 1012, 102], [101, 2027, 2404, 1996, 2338, 1999, 1996, 3482, 1012, 102], [101, 2027, 4370, 1999, 1996, 3309, 1012, 102], [101, 1996, 4875, 3062, 2046, 1996, 11350, 1012, 102], [101, 1996, 18197, 2743, 3442, 1012, 102], [101, 1996, 18197, 2743, 2157, 2039, 1996, 3392, 1012, 102], [101, 1996, 18197, 2003, 2157, 4854, 1012, 102], [101, 1996, 18197, 2743, 3442, 2855, 1012, 102], [101, 1996, 18197, 2743, 2157, 2855, 1012, 102], [101, 2023, 8502, 2158, 13303, 1037, 3899, 1012, 102], [101, 1037, 2158, 6476, 2008, 3608, 1012, 102], [101, 2008, 4206, 2450, 13303, 1037, 4937, 1012, 102], [101, 2010, 2767, 6476, 1037, 3608, 1012, 102], [101, 3021, 4447, 2198, 7164, 2984, 6732, 3419, 2003, 7481, 1012, 102], [101, 4869, 5674, 2015, 3021, 4447, 2198, 7164, 2984, 6732, 3419, 2003, 7481, 1012, 102], [101, 1996, 2210, 2879, 2718, 1996, 2775, 2007, 1037, 9121, 1012, 102], [101, 7967, 22619, 1998, 11345, 2015, 2024, 2026, 5440, 18064, 2015, 1012, 102], [101, 1996, 2336, 2020, 1999, 2037, 4734, 2030, 11361, 1012, 102], [101, 2198, 3402, 2288, 2125, 1996, 3902, 1012, 102], [101, 2198, 3402, 2404, 2125, 1996, 6304, 1012, 102], [101, 2198, 3402, 2288, 1996, 3902, 2125, 1012, 102], [101, 2198, 3402, 2404, 1996, 6304, 2125, 1012, 102], [101, 2010, 2117, 2338, 2234, 2041, 3041, 2023, 2095, 1998, 2150, 2019, 7107, 2190, 1011, 14939, 1012, 102], [101, 2043, 2017, 2338, 2242, 2107, 2004, 1037, 3309, 2282, 1010, 2017, 13621, 2000, 2031, 2009, 1012, 102], [101, 3976, 16614, 2006, 3479, 7236, 2097, 2022, 2741, 2041, 2588, 5227, 1012, 102], [101, 2053, 4797, 2008, 2002, 2001, 3140, 2000, 2681, 2010, 2155, 2114, 2010, 2097, 1012, 102], [101, 2002, 3832, 2000, 2097, 1996, 2312, 3815, 1997, 2769, 2000, 3581, 1012, 102], [101, 4869, 2768, 4998, 2000, 2292, 2014, 3413, 1012, 102], [101, 2002, 2038, 1037, 4334, 3413, 2008, 1005, 1055, 2157, 2005, 2017, 1012, 102], [101, 2009, 2003, 2590, 2005, 2149, 2000, 5247, 2051, 2007, 2336, 1012, 102], [101, 2002, 2001, 4727, 2005, 2108, 7144, 1012, 102], [101, 1045, 2228, 2008, 2711, 2057, 2777, 2197, 2733, 2003, 9577, 1012, 102], [101, 2057, 2903, 2008, 2002, 2003, 3243, 9608, 1012, 102], [101, 1045, 9471, 2000, 2709, 1996, 2338, 2008, 1045, 11780, 2013, 1996, 3836, 1012, 102], [101, 1045, 2572, 11480, 2008, 2017, 2323, 7180, 2006, 2051, 1012, 102], [101, 1045, 2572, 11480, 2005, 2017, 2000, 7180, 2006, 2051, 1012, 102], [101, 1045, 2572, 11480, 2005, 2017, 2323, 7180, 2006, 2051, 1012, 102], [101, 1045, 4687, 3251, 2017, 1005, 1040, 2022, 2785, 2438, 2000, 2507, 2149, 2592, 1012, 102], [101, 2065, 2493, 2817, 2524, 1010, 5089, 2097, 2022, 3407, 1012, 102], [101, 3251, 2027, 2360, 2009, 2030, 2025, 1010, 2087, 5089, 5987, 2037, 2493, 2000, 2817, 2524, 1012, 102], [101, 2198, 2404, 1037, 2338, 2006, 1996, 2795, 1012, 102], [101, 2016, 2357, 2091, 2010, 3749, 1012, 102], [101, 2002, 2246, 2012, 1037, 2338, 2055, 5742, 1012, 102], [101, 2002, 5720, 2000, 1037, 2611, 2055, 5742, 1012, 102], [101, 2002, 5720, 2007, 1037, 2611, 2055, 5742, 1012, 102], [101, 1045, 2123, 1005, 1056, 2113, 1996, 2111, 2556, 1012, 102], [101, 2071, 2017, 2735, 2125, 1996, 2543, 1998, 2006, 1996, 2422, 1029, 102], [101, 1045, 2113, 1996, 3606, 1998, 2008, 2017, 2024, 7036, 1012, 102], [101, 2198, 4188, 1996, 3749, 18067, 1012, 102], [101, 1045, 5136, 2198, 1996, 2190, 4018, 1012, 102], [101, 1045, 2387, 2032, 2975, 1996, 2364, 2311, 1012, 102], [101, 2002, 2165, 2198, 2000, 1996, 2082, 2011, 1996, 2380, 1012, 102], [101, 2198, 6369, 1037, 2299, 1998, 10948, 2000, 1996, 2189, 1012, 102], [101, 2198, 4122, 2000, 2817, 15397, 1999, 2379, 2925, 1012, 102], [101, 2027, 2409, 19458, 2000, 7180, 2220, 2005, 1996, 2400, 1012, 102], [101, 2008, 8227, 2018, 4704, 1996, 2622, 4527, 3071, 1012, 102], [101, 1045, 2113, 2017, 2066, 1996, 2067, 1997, 2026, 2192, 1012, 102], [101, 2051, 10029, 2066, 2019, 8612, 1012, 102], [101, 1045, 2342, 2000, 2031, 2008, 3189, 2006, 2256, 4773, 3931, 2011, 4826, 1012, 102], [101, 1996, 10608, 15047, 1037, 2879, 2006, 6928, 1012, 102], [101, 2198, 26610, 1996, 10608, 1999, 1996, 3224, 1012, 102], [101, 1996, 10608, 2001, 26610, 1999, 1996, 3224, 2011, 2198, 1012, 102], [101, 1996, 4937, 16475, 16777, 1996, 9350, 1012, 102], [101, 1996, 9350, 16475, 16777, 1996, 4937, 1012, 102], [101, 2023, 2482, 27136, 2015, 1012, 102], [101, 2009, 15811, 1012, 102], [101, 1996, 2837, 18966, 2014, 6378, 1012, 102], [101, 2122, 2808, 4487, 3736, 9397, 25785, 2033, 1012, 102], [101, 2256, 11429, 3138, 2010, 2336, 2000, 2082, 1999, 2010, 2482, 1012, 102], [101, 2256, 11429, 2202, 2010, 2336, 2000, 2082, 1999, 2010, 2482, 1012, 102], [101, 1996, 2338, 1010, 2164, 2035, 1996, 9159, 1999, 1996, 2034, 2930, 1010, 2003, 2200, 5875, 1012, 102], [101, 1996, 2338, 1010, 2164, 2035, 1996, 9159, 1999, 1996, 2034, 2930, 1010, 2024, 2200, 5875, 1012, 102], [101, 1996, 12353, 1997, 4252, 1998, 4083, 9041, 2006, 2195, 5876, 1012, 102], [101, 1996, 12353, 1997, 4252, 1998, 4083, 12530, 2006, 2195, 5876, 1012, 102], [101, 1996, 22668, 2008, 7697, 2083, 2023, 2221, 2296, 3500, 2024, 2062, 2084, 2074, 1037, 16371, 28138, 1012, 102], [101, 1996, 22668, 2008, 7697, 2083, 2023, 2221, 2296, 3500, 2003, 2062, 2084, 2074, 1037, 16371, 28138, 1012, 102], [101, 1996, 3203, 4823, 2007, 1037, 2879, 2003, 1037, 11067, 1010, 3475, 1005, 1056, 2002, 1029, 102], [101, 1996, 3203, 4823, 2007, 1037, 2879, 2003, 1037, 11067, 1010, 3475, 1005, 1056, 2016, 1029, 102], [101, 2007, 2037, 3836, 1010, 1996, 4268, 2031, 3369, 9689, 1010, 4033, 1005, 1056, 2027, 1029, 102], [101, 2007, 2037, 3836, 1010, 1996, 4268, 2031, 3369, 9689, 1010, 8440, 1005, 1056, 2002, 1029, 102], [101, 1996, 4268, 2031, 3369, 9689, 1012, 102], [101, 2009, 2071, 2022, 2062, 29172, 1012, 102], [101, 2003, 2023, 3836, 1037, 11067, 1029, 102], [101, 2031, 1996, 4268, 3369, 9689, 1029, 102], [101, 2071, 2009, 2022, 2062, 29172, 1029, 102], [101, 1996, 4268, 1999, 2256, 2465, 2031, 3369, 9689, 1012, 102], [101, 2031, 1999, 2256, 2465, 1996, 4268, 3369, 9689, 1029, 102], [101, 2010, 6513, 4149, 2023, 3274, 1012, 102], [101, 8505, 25966, 6132, 1996, 3899, 1012, 102], [101, 1996, 3899, 10069, 8505, 1012, 102], [101, 2010, 6513, 4149, 2023, 3274, 2005, 2032, 1012, 102], [101, 1996, 2775, 3631, 1996, 5572, 11008, 2011, 4926, 1012, 102], [101, 2023, 3274, 2001, 4149, 2005, 2032, 2011, 2010, 6513, 1012, 102], [101, 1996, 5572, 11008, 2001, 3714, 2011, 1996, 2775, 2011, 4926, 1012, 102], [101, 2023, 8875, 7460, 2000, 1996, 3076, 1012, 102], [101, 1996, 3076, 2003, 6272, 2000, 2011, 2023, 8875, 1012, 102], [101, 2002, 2815, 1037, 2204, 2767, 2000, 2033, 1012, 102], [101, 1037, 2204, 2767, 2003, 2815, 2000, 2033, 1012, 102], [101, 2198, 2435, 1996, 3337, 1996, 14340, 1012, 102], [101, 2026, 2388, 17776, 2033, 1037, 5798, 9850, 1012, 102], [101, 2016, 2001, 2741, 1037, 3319, 6100, 1997, 1996, 2338, 2011, 1996, 6674, 1012, 102], [101, 2016, 2001, 2741, 1037, 3319, 6100, 1997, 1996, 2338, 1012, 102], [101, 2198, 2435, 1996, 14340, 2000, 1996, 3337, 1012, 102], [101, 1996, 6674, 2741, 1037, 3319, 6100, 1997, 1996, 2338, 2000, 2014, 1012, 102], [101, 2026, 2388, 17776, 1037, 9850, 2005, 2033, 1012, 102], [101, 1996, 14340, 2020, 2445, 2000, 1996, 3337, 2011, 2198, 1012, 102], [101, 1037, 3319, 6100, 1997, 1996, 2338, 2001, 2741, 2000, 2014, 2011, 1996, 6674, 1012, 102], [101, 2023, 3835, 9850, 2001, 17776, 2005, 2033, 2011, 2026, 2388, 1012, 102], [101, 2023, 2003, 2026, 7209, 3125, 1012, 102], [101, 9393, 2150, 2019, 4944, 1012, 102], [101, 2027, 2700, 5846, 3472, 1012, 102], [101, 3472, 2001, 2700, 5846, 1012, 102], [101, 1996, 2190, 3213, 2001, 2641, 4080, 1012, 102], [101, 2198, 2081, 5035, 1037, 2307, 10658, 1012, 102], [101, 1996, 3663, 2150, 6659, 1012, 102], [101, 2023, 4949, 2003, 2054, 2002, 4122, 1012, 102], [101, 1996, 4471, 2001, 2008, 2017, 2323, 2272, 2006, 2051, 1012, 102], [101, 1045, 2081, 5035, 4854, 1012, 102], [101, 1045, 5136, 2032, 10047, 22049, 1012, 102], [101, 1045, 7634, 4080, 2004, 1996, 2190, 3213, 1012, 102], [101, 2027, 27594, 2037, 4268, 11083, 1012, 102], [101, 2198, 2404, 2808, 1999, 1996, 3482, 1012, 102], [101, 2198, 5720, 2000, 3021, 2055, 1996, 11360, 1012, 102], [101, 2016, 6966, 2032, 1997, 1996, 2197, 2051, 2027, 2777, 1012, 102], [101, 2027, 2052, 12367, 2984, 1997, 2151, 3112, 2027, 2031, 2081, 1012, 102], [101, 2198, 2435, 1037, 2338, 2000, 1996, 3076, 1012, 102], [101, 2198, 4149, 1037, 2338, 2005, 1996, 3076, 1012, 102], [101, 1996, 3902, 3030, 3402, 1012, 102], [101, 8101, 2626, 2010, 3248, 1037, 2146, 2051, 3283, 1012, 102], [101, 2027, 2253, 2000, 1996, 4258, 1999, 2414, 1012, 102], [101, 2002, 3478, 6370, 2138, 2002, 2064, 1005, 1056, 3305, 2009, 1012, 102], [101, 2198, 2435, 3419, 1037, 2338, 1037, 2501, 1012, 102], [101, 1045, 2387, 2023, 2143, 2195, 2335, 2197, 2095, 2076, 1996, 2621, 1012, 102], [101, 2026, 4470, 4716, 2651, 1012, 102], [101, 2651, 2001, 4716, 2011, 2026, 4470, 1012, 102], [101, 1996, 2744, 7616, 3908, 1996, 5472, 3317, 1012, 102], [101, 2108, 7481, 2003, 2025, 2019, 3733, 4708, 1012, 102], [101, 2008, 2198, 2979, 4527, 2014, 1012, 102], [101, 2000, 3926, 2023, 2147, 2006, 2051, 2003, 2471, 9223, 1012, 102], [101, 2104, 1996, 2793, 2003, 1037, 3647, 2173, 2000, 5342, 1012, 102], [101, 1045, 2741, 1037, 4474, 2556, 2000, 2198, 1012, 102], [101, 2027, 4999, 2054, 2016, 2106, 7483, 1012, 102], [101, 2027, 3373, 2008, 7955, 2052, 3413, 1996, 3231, 1012, 102], [101, 2024, 2017, 2183, 2006, 6209, 2077, 2030, 2044, 10957, 1029, 1045, 9544, 2044, 10957, 1012, 102], [101, 2008, 2198, 2979, 4527, 2014, 1010, 2134, 1005, 1056, 2009, 1029, 102], [101, 2008, 1996, 2233, 2323, 2175, 3805, 1998, 2008, 2009, 2323, 2022, 8014, 2031, 2042, 5275, 2011, 2367, 2111, 2012, 2367, 2335, 1012, 102], [101, 2008, 1996, 2233, 2323, 2175, 3805, 1998, 2008, 2009, 2323, 2022, 8014, 2038, 2042, 5275, 2011, 2367, 2111, 2012, 2367, 2335, 1012, 102], [101, 2000, 3926, 2009, 2006, 2051, 2081, 3243, 1037, 4861, 1010, 2134, 1005, 1056, 2009, 1029, 102], [101, 2000, 8536, 1996, 2233, 1998, 2000, 2175, 3805, 2007, 2009, 2031, 2042, 5275, 2011, 2367, 2111, 2012, 2367, 2335, 1012, 102], [101, 2000, 8536, 1996, 2233, 1998, 2000, 2175, 3805, 2007, 2009, 2038, 2042, 5275, 2011, 2367, 2111, 2012, 2367, 2335, 1012, 102], [101, 1996, 2210, 4937, 16475, 16777, 1037, 8000, 2197, 2305, 1012, 102], [101, 2198, 2187, 2200, 2220, 1012, 102], [101, 2198, 3273, 2524, 2000, 3413, 1996, 11360, 1012, 102], [101, 2016, 5419, 2043, 1996, 2364, 2283, 3369, 1012, 102], [101, 1037, 2879, 2718, 1996, 3608, 1012, 102], [101, 1996, 2493, 2371, 6625, 1999, 1996, 2465, 1012, 102], [101, 2198, 2435, 1037, 2338, 2000, 1996, 2493, 1012, 102], [101, 2198, 2351, 2197, 2305, 1012, 102], [101, 2198, 4149, 1037, 2843, 1997, 2808, 2005, 2010, 4124, 1012, 102], [101, 2198, 5763, 3021, 2000, 2681, 4826, 2851, 1012, 102], [101, 2198, 17676, 2010, 4124, 1997, 2208, 5329, 1012, 102], [101, 2984, 2363, 2019, 2400, 2013, 1996, 2533, 1012, 102], [101, 2198, 2409, 1996, 19075, 2000, 2010, 2767, 1012, 102], [101, 2198, 2404, 2010, 2808, 1999, 1996, 14832, 1012, 102], [101, 1996, 2231, 2921, 2035, 1996, 2769, 1012, 102], [101, 2198, 2718, 1996, 3608, 2007, 1037, 7151, 1012, 102], [101, 2198, 8342, 1996, 3332, 2007, 1037, 10257, 1012, 102], [101, 1996, 4937, 13303, 6986, 1996, 8000, 1012, 102], [101, 1996, 8000, 2001, 13303, 2011, 1996, 4937, 1012, 102], [101, 2045, 2145, 3464, 2019, 3277, 2000, 2022, 13332, 1012, 102], [101, 2045, 2973, 1037, 2158, 2007, 2010, 7631, 1012, 102], [101, 2045, 3369, 1037, 4206, 1010, 2417, 10681, 1998, 11757, 2092, 5102, 2158, 1012, 102], [101, 2045, 6369, 1037, 2158, 2007, 1037, 8667, 1012, 102], [101, 2045, 11278, 1037, 2158, 2007, 2019, 12977, 1012, 102], [101, 2198, 12950, 2010, 2388, 1012, 102], [101, 1037, 2003, 2714, 2000, 1038, 1012, 102], [101, 2198, 3216, 2046, 1996, 2160, 1012, 102], [101, 2984, 2246, 2012, 1996, 3712, 1012, 102], [101, 1996, 2082, 3018, 1037, 2261, 1997, 1996, 3057, 1999, 3335, 5035, 1005, 1055, 2465, 15691, 1012, 102], [101, 2016, 2001, 1996, 3835, 3367, 3836, 1999, 1996, 3026, 2082, 1012, 102], [101, 2027, 2700, 2032, 2637, 1005, 1055, 17089, 2343, 1012, 102], [101, 1996, 2279, 2851, 2057, 2275, 2041, 2005, 10884, 1012, 102], [101, 2725, 20231, 2003, 2025, 3733, 1012, 102], [101, 2002, 2387, 1996, 2158, 2007, 1996, 6293, 1012, 102], [101, 2027, 10277, 1996, 2190, 1997, 2814, 1012, 102], [101, 1999, 1996, 2621, 2057, 2467, 2175, 2000, 2605, 1012, 102], [101, 2197, 2095, 1045, 2387, 2023, 2143, 2195, 2335, 1012, 102], [101, 2002, 17776, 3419, 1996, 7852, 2197, 2305, 1012, 102], [101, 2008, 2027, 2031, 2949, 1996, 2607, 2003, 6429, 1012, 102], [101, 1996, 3836, 2081, 2493, 3407, 1012, 102], [101, 2057, 6966, 2032, 1997, 1996, 3820, 1012, 102], [101, 1999, 1996, 3871, 4832, 1037, 6231, 1012, 102], [101, 1999, 1996, 3871, 3233, 1037, 6231, 1012, 102], [101, 2426, 1996, 6368, 2001, 3564, 2026, 2767, 8227, 1012, 102], [101, 2426, 1996, 6368, 2020, 3564, 2026, 2767, 8227, 1012, 102], [101, 2023, 4928, 2026, 10744, 1012, 102], [101, 1996, 2493, 2035, 5632, 2008, 2621, 1012, 102], [101, 1996, 2493, 2035, 2499, 2008, 2621, 1012, 102], [101, 1996, 7155, 2081, 2014, 1037, 8957, 1012, 102], [101, 1996, 2493, 2170, 2033, 1037, 3836, 1012, 102], [101, 1037, 2502, 2665, 14211, 5520, 2046, 1996, 11350, 1012, 102], [101, 2198, 1005, 1055, 2388, 2741, 1037, 3661, 2000, 2984, 1012, 102], [101, 2057, 2872, 1996, 8808, 1999, 1996, 18097, 1012, 102], [101, 3581, 4711, 2370, 2046, 1996, 10682, 1012, 102], [101, 1996, 3256, 12501, 1012, 102], [101, 1996, 11641, 20133, 25966, 6132, 1996, 2775, 1012, 102], [101, 6529, 2179, 2008, 1996, 5055, 6369, 2092, 1999, 1996, 16241, 1010, 2021, 2864, 6649, 1999, 1996, 16956, 1012, 102], [101, 2198, 2404, 2010, 2751, 1012, 102], [101, 2198, 2404, 2010, 2751, 3647, 1012, 102], [101, 2198, 2404, 2010, 2751, 2000, 2022, 2104, 1996, 7198, 28251, 1012, 102], [101, 2198, 2404, 2010, 2751, 2104, 1996, 7198, 28251, 1012, 102], [101, 2023, 2003, 1996, 3482, 1999, 2029, 2198, 2404, 2010, 2751, 1012, 102], [101, 2023, 2003, 1996, 2751, 2008, 2198, 2404, 2104, 1996, 7198, 28251, 1012, 102], [101, 1996, 2332, 2921, 2404, 2010, 2751, 2104, 1996, 7198, 28251, 1012, 102], [101, 1996, 2332, 2921, 5128, 2010, 2751, 2104, 1996, 7198, 28251, 1012, 102], [101, 1996, 13474, 6380, 1996, 19238, 1012, 102], [101, 1996, 13474, 6380, 1012, 102], [101, 1996, 3836, 4375, 1996, 3076, 1037, 2338, 1012, 102], [101, 1996, 3836, 4375, 1996, 3076, 1012, 102], [101, 2027, 2215, 2000, 2681, 1996, 3116, 1012, 102], [101, 2027, 9461, 2000, 2681, 1996, 3116, 1012, 102], [101, 1996, 10153, 2113, 2008, 1996, 2343, 2003, 4129, 1037, 4682, 1012, 102], [101, 1996, 10153, 3056, 2008, 1996, 2343, 2003, 4129, 1037, 4682, 1012, 102], [101, 2022, 9461, 2000, 2681, 1996, 3116, 1012, 102], [101, 1996, 10153, 2000, 2022, 3056, 2008, 1996, 2343, 2003, 4129, 1037, 4682, 1012, 102], [101, 1996, 10153, 2022, 3056, 2008, 1996, 2343, 2003, 4129, 1037, 4682, 1012, 102], [101, 3419, 3253, 6040, 2000, 2010, 2493, 1999, 2010, 2436, 1012, 102], [101, 3419, 3253, 6040, 2000, 2010, 2493, 2007, 2293, 1012, 102], [101, 2198, 2921, 2032, 2369, 1996, 7381, 1012, 102], [101, 2198, 4370, 5035, 2369, 1996, 7381, 1012, 102], [101, 2198, 2872, 2032, 5697, 1012, 102], [101, 2198, 2921, 2032, 5697, 1012, 102], [101, 2198, 4370, 2032, 5697, 1012, 102], [101, 2198, 2872, 2369, 1996, 4675, 1012, 102], [101, 2198, 2921, 2369, 1996, 4675, 1012, 102], [101, 2198, 4370, 2369, 1996, 4675, 1012, 102], [101, 2198, 14140, 2070, 2769, 1999, 1996, 2924, 1012, 102], [101, 2198, 14140, 2070, 2769, 1999, 1996, 2924, 2006, 5958, 1012, 102], [101, 1996, 4895, 11248, 3795, 12959, 2006, 4286, 2006, 3019, 5320, 1012, 102], [101, 5035, 1998, 7525, 2777, 1999, 10884, 1999, 1996, 9568, 1997, 1996, 2843, 2618, 3309, 1999, 2233, 1012, 102], [101, 2198, 14140, 2070, 2769, 1999, 1996, 9361, 4070, 1998, 2984, 2106, 1996, 2168, 2518, 1012, 102], [101, 2198, 14140, 2070, 2769, 1999, 1996, 9361, 4070, 2006, 5958, 1998, 2984, 2106, 1996, 2168, 2518, 1012, 102], [101, 2198, 14140, 2070, 2769, 1999, 1996, 9361, 4070, 2006, 5958, 1998, 2984, 2106, 1996, 2168, 2518, 2006, 6928, 1012, 102], [101, 2198, 14140, 2070, 2769, 1999, 1996, 9361, 4070, 1998, 2984, 2106, 1996, 2168, 2518, 1999, 1996, 10995, 4070, 1012, 102], [101, 2198, 2435, 1037, 2556, 2000, 1996, 3076, 1998, 2984, 2106, 1996, 2168, 2518, 2000, 1996, 3836, 1012, 102], [101, 2198, 5299, 10882, 3527, 1999, 1996, 7381, 1998, 2984, 2106, 2061, 1999, 1996, 2282, 1012, 102], [101, 2198, 8823, 1037, 25659, 1998, 2984, 2106, 2061, 1037, 10958, 10521, 2232, 1012, 102], [101, 5035, 8183, 5620, 2006, 1996, 2940, 1012, 102], [101, 5035, 8183, 5620, 2104, 1996, 2940, 1012, 102], [101, 5035, 8183, 5620, 2058, 1996, 2940, 1012, 102], [101, 5035, 9041, 1012, 102], [101, 5035, 16803, 2006, 7525, 1012, 102], [101, 5035, 9041, 2006, 7525, 1012, 102], [101, 5035, 9041, 2012, 7525, 1012, 102], [101, 2198, 2777, 1037, 3076, 1999, 1996, 2380, 1012, 102], [101, 2198, 2777, 1999, 1996, 2380, 1037, 3076, 1012, 102], [101, 1996, 3291, 5419, 1996, 19238, 1012, 102], [101, 1996, 3291, 5419, 1012, 102], [101, 1996, 2879, 2435, 1996, 2338, 1012, 102], [101, 1996, 2879, 2435, 1996, 3336, 1996, 2338, 1012, 102], [101, 1996, 4743, 16475, 22957, 1996, 15485, 1012, 102], [101, 1996, 5055, 16475, 8162, 1996, 15485, 1012, 102], [101, 2296, 6302, 1997, 4098, 1998, 11080, 2011, 2010, 2493, 2596, 1999, 1996, 2932, 1012, 102], [101, 2053, 6302, 1997, 4098, 1998, 11080, 2011, 2010, 2493, 2596, 1999, 1996, 2932, 1012, 102], [101, 11080, 2011, 2010, 2493, 2596, 1999, 1996, 2932, 1012, 102], [101, 1996, 2556, 2332, 1997, 2406, 2189, 2003, 2062, 2759, 2084, 1996, 2197, 2028, 1012, 102], [101, 1996, 2332, 1997, 2600, 1998, 4897, 2003, 2062, 2759, 2084, 1996, 2028, 1997, 2406, 2189, 1012, 102], [101, 2029, 3076, 2020, 2017, 3331, 2055, 1029, 102], [101, 2198, 2404, 1999, 1996, 3482, 1012, 102], [101, 1999, 1996, 3482, 2404, 2198, 1996, 2338, 1012, 102], [101, 1996, 2602, 3463, 4527, 7955, 1012, 102], [101, 2008, 2002, 2180, 1996, 2602, 4527, 7955, 1012, 102], [101, 2198, 5419, 1012, 102], [101, 2198, 5419, 3021, 1012, 102], [101, 2198, 19055, 1012, 102], [101, 2198, 19055, 1996, 2769, 1012, 102], [101, 1996, 2343, 2246, 16040, 1012, 102], [101, 1996, 3836, 2150, 5458, 1997, 1996, 2493, 1012, 102], [101, 1996, 5869, 8490, 2532, 12595, 12090, 1012, 102], [101, 2198, 2815, 5399, 5475, 1012, 102], [101, 1996, 6467, 2790, 3201, 2000, 2681, 1012, 102], [101, 2198, 2150, 1037, 3112, 1012, 102], [101, 2198, 2790, 1037, 7966, 1012, 102], [101, 2198, 2815, 1037, 3076, 1012, 102], [101, 2198, 2387, 5965, 1012, 102], [101, 5650, 21189, 1996, 3661, 1012, 102], [101, 7207, 3569, 1996, 2740, 2729, 3021, 1012, 102], [101, 10958, 21408, 5644, 3908, 1996, 3871, 1012, 102], [101, 1996, 2082, 2604, 3003, 2356, 1996, 2493, 1037, 3160, 1012, 102], [101, 2198, 4036, 2047, 2493, 2394, 20231, 1012, 102], [101, 1996, 2082, 2604, 3003, 2356, 1037, 3160, 1997, 1996, 2493, 1012, 102], [101, 1996, 4424, 4329, 3084, 2070, 2111, 8796, 1012, 102], [101, 4748, 6736, 2655, 2402, 2111, 4245, 1060, 1011, 9413, 2015, 1012, 102], [101, 7862, 2903, 1042, 13626, 2000, 2022, 2256, 2087, 4621, 2343, 1012, 102], [101, 2198, 3344, 2000, 1996, 2341, 1012, 102], [101, 3419, 5299, 10882, 3527, 1999, 1996, 7381, 1012, 102], [101, 3419, 24614, 10882, 3527, 1999, 1996, 7381, 1012, 102], [101, 3419, 2872, 2009, 2104, 1996, 2795, 1012, 102], [101, 3419, 2209, 2009, 2104, 1996, 2795, 1012, 102], [101, 1045, 4687, 2065, 2017, 2097, 2272, 2067, 4826, 1012, 102], [101, 2017, 2052, 2031, 1037, 7514, 2065, 2017, 2272, 2067, 4826, 1012, 102], [101, 3419, 11041, 1996, 8356, 1999, 1996, 25337, 1012, 102], [101, 5965, 5086, 10666, 2000, 2689, 1996, 3514, 1012, 102], [101, 2027, 3724, 1996, 5895, 2046, 1996, 4744, 1012, 102], [101, 3581, 8069, 2000, 13984, 4302, 2000, 2191, 1996, 5660, 9378, 1996, 10447, 1012, 102], [101, 2577, 5653, 2098, 1996, 4905, 2010, 9982, 1997, 1996, 4926, 1012, 102], [101, 3419, 7906, 4851, 8129, 1005, 1055, 2905, 2000, 4965, 1996, 2482, 1012, 102], [101, 4869, 2187, 1996, 2338, 2006, 1996, 2795, 1012, 102], [101, 2057, 2031, 2025, 4484, 3251, 1996, 3462, 2018, 2042, 17414, 1012, 102], [101, 2057, 2387, 2032, 7854, 2011, 1996, 3410, 1012, 102], [101, 2027, 12302, 2010, 12629, 2000, 1996, 3043, 2104, 6594, 1012, 102], [101, 6291, 28025, 2010, 26906, 2045, 1012, 102], [101, 6291, 3855, 2798, 1996, 3291, 1012, 102], [101, 6291, 16981, 2702, 7038, 2000, 1996, 7267, 1012, 102], [101, 6291, 5225, 2033, 1037, 26594, 1012, 102], [101, 6291, 8280, 1996, 2332, 1996, 3661, 1012, 102], [101, 1996, 2493, 1997, 2394, 2013, 10884, 4320, 2116, 3314, 1999, 1996, 2832, 1997, 25455, 1010, 9099, 26775, 12322, 2075, 1010, 1998, 9260, 1996, 5878, 1012, 102], [101, 1996, 2293, 1997, 2026, 2166, 1998, 2269, 1997, 2026, 2336, 2052, 2196, 2079, 2107, 1037, 2518, 1012, 102], [101, 1996, 2688, 6913, 2053, 4169, 2011, 14719, 2080, 2030, 5059, 2011, 1047, 10559, 1012, 102], [101, 2011, 2375, 1010, 2296, 3899, 1998, 4937, 1999, 1996, 2181, 2038, 2000, 2022, 11265, 19901, 2098, 1012, 102], [101, 4083, 2000, 2224, 1037, 2653, 10350, 1998, 3929, 2003, 1037, 12401, 1998, 12098, 8566, 3560, 2832, 1012, 102], [101, 5035, 2404, 1996, 2338, 1999, 1996, 3482, 1012, 102], [101, 5035, 2404, 1996, 2338, 1012, 102], [101, 2003, 5128, 1996, 2338, 1999, 1996, 3482, 1012, 102], [101, 5720, 2007, 3021, 2055, 1996, 11360, 1012, 102], [101, 2027, 2626, 2000, 2014, 1012, 102], [101, 2027, 2024, 2785, 2000, 2014, 1012, 102], [101, 2027, 2215, 2000, 4339, 2000, 2014, 1012, 102], [101, 2027, 2215, 2000, 2626, 2000, 2014, 1012, 102], [101, 2027, 2215, 2000, 2022, 2785, 2000, 2014, 1012, 102], [101, 2027, 2215, 2000, 2024, 2785, 2000, 2014, 1012, 102], [101, 1996, 3076, 4282, 1996, 6998, 1012, 102], [101, 1996, 3076, 2354, 1996, 6998, 1012, 102], [101, 1996, 2493, 2113, 1996, 6998, 1012, 102], [101, 1996, 3076, 4209, 1996, 6998, 1012, 102], [101, 1996, 3076, 2124, 1996, 6998, 1012, 102], [101, 2002, 2003, 3015, 2178, 2146, 2338, 2055, 13570, 2015, 1012, 102], [101, 13644, 4092, 1010, 1996, 2622, 2001, 3144, 1012, 102], [101, 2002, 2003, 7098, 1997, 2010, 2365, 1005, 1055, 4458, 1996, 3347, 11360, 1012, 102], [101, 1996, 7975, 2038, 8828, 1012, 102], [101, 1996, 7975, 2001, 8828, 1012, 102], [101, 2464, 2013, 2023, 7339, 1010, 2045, 2003, 2053, 3733, 5576, 1012, 102], [101, 1996, 17059, 2921, 17693, 2037, 3210, 1012, 102], [101, 1996, 17059, 2921, 9471, 2037, 3210, 1012, 102], [101, 1996, 17059, 2921, 6404, 2037, 3210, 1012, 102], [101, 2057, 3236, 2068, 8823, 1996, 26191, 1012, 102], [101, 2057, 3236, 2068, 4521, 1996, 26191, 1012, 102], [101, 2057, 3236, 2068, 8828, 1996, 26191, 1012, 102], [101, 2198, 2081, 2984, 5660, 4759, 2833, 1012, 102], [101, 2198, 2081, 2984, 2000, 5660, 4759, 2833, 1012, 102], [101, 2198, 2081, 2984, 8434, 4759, 2833, 1012, 102], [101, 1996, 10608, 3849, 4078, 26029, 16454, 2008, 2009, 2003, 1999, 1037, 7980, 1012, 102], [101, 1996, 10608, 3849, 4078, 26029, 16454, 1012, 102], [101, 2002, 3849, 9414, 2000, 2817, 4200, 1012, 102], [101, 2002, 3849, 9414, 2000, 2817, 4200, 1012, 102], [101, 17059, 2024, 9461, 2000, 2681, 1012, 102], [101, 17059, 2024, 9461, 2975, 1996, 7328, 1012, 102], [101, 1996, 21868, 4025, 13545, 2007, 1996, 7500, 1012, 102], [101, 1996, 24623, 4025, 11892, 2007, 1996, 21868, 1012, 102], [101, 1996, 24623, 4025, 11892, 2005, 1996, 21868, 1012, 102], [101, 2122, 2024, 2714, 2000, 1996, 11015, 1012, 102], [101, 2122, 2024, 2714, 2007, 1996, 11015, 1012, 102], [101, 1996, 3836, 2003, 7098, 1997, 2010, 2493, 1012, 102], [101, 1996, 3836, 2003, 7098, 2007, 2010, 2493, 1012, 102], [101, 1996, 3206, 2003, 3395, 2000, 6226, 2011, 2026, 2837, 1012, 102], [101, 1996, 3206, 2003, 3395, 2005, 6226, 2011, 2026, 2837, 1012, 102], [101, 2045, 6526, 2069, 2028, 5621, 23713, 4048, 15599, 25476, 1012, 102], [101, 2045, 10375, 1037, 2307, 4040, 1012, 102], [101, 2045, 4839, 2261, 7300, 2029, 2024, 3465, 1011, 4621, 1012, 102], [101, 2045, 2003, 1037, 11421, 1999, 1996, 2380, 1012, 102], [101, 2045, 2815, 2074, 1037, 2261, 3471, 2000, 2022, 13332, 1012, 102], [101, 2045, 3216, 1037, 2158, 1999, 1996, 2380, 1012, 102], [101, 2045, 10955, 1037, 2158, 9928, 1012, 102], [101, 2027, 2903, 2008, 2798, 11534, 1005, 1055, 3399, 1997, 6622, 2003, 2074, 1037, 4045, 3399, 1012, 102], [101, 2027, 2903, 2798, 11534, 1005, 1055, 3399, 1997, 6622, 2003, 2074, 1037, 4045, 3399, 1012, 102], [101, 2198, 6303, 2008, 2016, 2644, 6887, 13369, 2032, 1012, 102], [101, 3533, 7420, 1996, 2465, 2008, 1996, 11360, 2052, 2022, 3697, 1012, 102], [101, 2057, 2409, 3419, 2008, 2002, 2323, 23363, 2019, 17907, 1012, 102], [101, 2984, 6427, 2033, 2008, 1996, 6685, 2001, 2614, 1012, 102], [101, 3419, 18754, 2005, 3520, 2000, 3319, 2008, 2338, 1012, 102], [101, 2198, 2052, 9544, 2005, 1996, 2336, 2000, 3926, 1996, 1051, 4017, 4168, 2389, 1012, 102], [101, 2005, 2198, 2000, 2593, 2191, 2039, 2107, 1037, 2466, 2030, 9377, 2009, 2003, 25506, 1012, 102], [101, 2005, 2198, 2593, 2000, 2191, 2039, 2107, 1037, 2466, 2030, 2000, 9377, 2009, 2003, 25506, 1012, 102], [101, 2005, 2198, 2000, 2425, 3021, 2107, 1037, 4682, 1998, 3021, 2000, 2903, 2009, 2003, 25506, 1012, 102], [101, 2198, 18754, 2000, 3319, 1996, 2338, 1012, 102], [101, 2198, 2052, 9544, 2000, 3926, 1996, 1051, 4017, 4168, 2389, 1012, 102], [101, 3419, 2699, 2000, 3198, 1037, 3160, 1012, 102], [101, 3419, 2699, 2005, 3021, 2000, 3198, 1037, 3160, 1012, 102], [101, 3419, 12102, 2000, 4468, 13111, 2015, 1012, 102], [101, 3419, 12102, 2005, 2984, 2000, 4468, 13111, 2015, 1012, 102], [101, 3533, 5113, 2000, 2424, 1037, 5576, 1012, 102], [101, 3533, 5113, 2005, 7014, 2000, 2424, 1037, 5576, 1012, 102], [101, 2198, 3373, 2009, 1012, 102], [101, 2198, 3373, 2008, 2002, 2003, 7481, 1012, 102], [101, 2198, 3855, 1996, 3277, 2000, 2033, 1012, 102], [101, 2198, 3855, 2000, 2033, 2008, 1996, 3160, 2003, 2019, 3277, 1012, 102], [101, 2016, 18521, 2010, 2849, 2004, 2524, 2004, 2016, 2071, 1012, 102], [101, 2016, 18521, 2008, 2002, 5683, 3255, 1012, 102], [101, 2057, 3246, 2008, 2107, 1037, 17404, 2071, 2022, 2800, 1999, 2702, 2086, 1012, 102], [101, 2057, 3246, 1996, 11343, 1997, 2107, 1037, 17404, 1999, 2702, 2086, 1012, 102], [101, 9946, 4928, 1996, 4336, 1997, 1996, 22961, 10744, 1012, 102], [101, 9946, 4928, 2008, 1996, 22961, 10744, 2001, 2981, 1012, 102], [101, 2198, 8572, 2015, 2033, 1012, 102], [101, 2008, 2198, 19055, 8572, 2015, 2033, 1012, 102], [101, 2198, 7459, 3021, 1012, 102], [101, 2008, 2198, 19340, 2015, 7459, 3021, 1012, 102], [101, 2008, 2198, 2853, 1996, 9808, 12412, 2232, 4527, 3021, 1012, 102], [101, 2005, 2198, 2000, 3345, 2010, 3586, 2052, 2022, 16166, 1012, 102], [101, 2000, 3345, 2010, 3586, 2052, 2022, 16166, 1012, 102], [101, 2008, 1996, 2332, 2030, 3035, 2022, 2556, 2003, 1037, 9095, 2006, 2035, 2548, 20429, 1012, 102], [101, 2029, 22279, 2017, 2323, 11092, 2034, 2003, 10599, 1012, 102], [101, 2008, 3419, 4771, 1996, 8835, 2001, 22249, 1012, 102], [101, 2005, 2198, 2000, 6366, 1996, 2388, 2003, 6151, 19825, 3468, 1012, 102], [101, 2129, 2172, 2769, 5146, 2985, 2003, 2995, 1012, 102], [101, 3419, 2003, 9657, 2008, 1996, 16825, 4847, 2032, 1012, 102], [101, 3419, 2003, 29204, 2008, 1996, 16362, 2022, 3606, 3993, 1012, 102], [101, 3419, 3849, 9461, 2005, 2014, 2567, 2000, 4608, 1037, 3147, 1012, 102], [101, 3419, 3849, 9461, 2000, 4608, 1037, 3147, 1012, 102], [101, 1045, 2572, 14984, 2008, 1045, 15486, 2017, 1012, 102], [101, 1045, 2572, 15936, 2008, 2984, 2736, 2010, 9459, 1012, 102], [101, 2057, 2020, 18836, 2008, 2053, 2028, 2018, 2042, 3480, 1012, 102], [101, 2057, 2020, 5580, 2009, 2001, 2058, 1012, 102], [101, 3021, 6884, 2008, 5965, 2772, 1996, 4638, 1012, 102], [101, 2057, 2903, 2008, 1996, 5501, 2020, 2556, 1012, 102], [101, 2057, 6427, 2032, 2008, 1996, 3169, 2003, 3647, 1012, 102], [101, 5070, 2003, 3241, 2055, 2008, 2010, 2493, 2024, 9461, 2000, 4553, 2394, 1012, 102], [101, 5965, 2003, 10320, 2006, 2005, 3419, 2000, 2191, 2019, 8874, 1012, 102], [101, 1996, 9560, 9041, 2006, 2129, 2116, 5347, 5589, 1999, 1996, 2602, 1012, 102], [101, 5965, 2003, 3241, 2055, 3251, 2002, 2323, 2994, 1999, 10884, 1012, 102], [101, 1996, 3749, 2081, 3044, 19837, 1996, 15631, 1012, 102], [101, 2198, 2699, 2000, 2191, 3520, 2292, 2577, 3198, 3021, 2000, 2562, 12771, 1996, 5653, 1012, 102], [101, 2198, 5632, 5059, 3628, 2005, 2010, 20231, 19453, 1012, 102], [101, 1996, 3861, 2006, 1996, 2813, 6966, 2032, 1997, 2010, 2406, 1012, 102], [101, 2489, 6960, 2003, 11892, 2007, 2137, 5300, 1998, 7443, 1012, 102], [101, 2057, 2342, 2000, 2022, 1999, 6976, 3967, 2007, 1996, 7846, 1012, 102], [101, 13399, 2008, 3071, 2038, 6537, 1012, 102], [101, 2057, 2024, 5204, 1997, 1996, 4493, 3471, 1012, 102], [101, 2339, 2123, 1005, 1056, 2017, 2975, 2033, 10152, 2006, 2026, 2147, 1029, 102], [101, 1996, 2236, 22429, 2008, 2035, 3629, 2001, 1999, 4377, 6375, 1012, 102], [101, 2026, 2851, 9410, 2838, 9880, 2489, 6782, 3254, 2005, 2028, 3178, 1012, 102], [101, 2017, 2323, 4468, 2000, 3604, 1999, 1996, 5481, 3178, 1012, 102], [101, 2017, 2323, 3535, 10739, 2296, 3160, 1012, 102], [101, 1996, 4614, 11248, 2665, 5051, 10732, 2007, 1996, 8647, 1012, 102], [101, 1996, 4614, 5338, 1996, 2493, 1997, 1996, 16789, 1012, 102], [101, 10666, 2038, 2042, 9461, 5131, 1996, 2338, 1012, 102], [101, 2057, 4847, 2984, 1005, 1055, 4792, 2005, 3352, 3297, 1012, 102], [101, 2198, 3615, 2013, 1996, 2311, 1012, 102], [101, 2198, 2351, 2000, 2540, 4295, 1012, 102], [101, 2057, 2020, 5580, 2054, 2000, 2079, 1012, 102], [101, 2016, 2001, 5697, 2000, 2191, 6265, 1012, 102], [101, 1996, 5377, 4542, 3140, 1996, 22290, 1997, 1996, 2279, 2154, 1005, 1055, 6479, 1012, 102], [101, 2632, 8913, 2089, 2031, 2019, 20302, 8449, 2594, 3466, 2006, 21733, 1998, 3576, 3096, 17373, 2015, 1012, 102], [101, 1996, 2270, 2196, 2018, 4752, 1999, 2010, 3754, 2000, 5047, 1996, 3105, 1012, 102], [101, 2002, 5567, 2010, 4366, 2008, 1996, 2111, 6153, 2010, 2895, 1012, 102], [101, 2057, 2081, 2068, 2202, 1996, 2769, 1012, 102], [101, 2057, 2081, 2068, 2024, 12726, 1012, 102], [101, 2079, 2025, 2224, 2122, 2616, 1999, 1996, 2927, 1997, 1037, 6251, 1012, 102], [101, 2057, 2113, 1996, 16362, 4025, 9461, 2000, 19919, 2114, 1996, 4735, 1012, 102], [101, 4869, 3475, 1005, 1056, 2469, 3251, 1996, 2493, 2562, 1996, 2808, 1012, 102], [101, 2338, 2003, 2800, 1999, 2087, 3032, 1012, 102], [101, 3076, 2913, 2394, 2005, 1018, 2847, 1037, 2154, 1012, 102], [101, 2493, 2817, 2394, 2005, 1018, 2847, 1037, 2154, 1012, 102], [101, 2010, 2767, 4342, 5613, 1012, 102], [101, 2026, 8572, 1005, 1055, 2767, 4342, 5613, 1012, 102], [101, 1996, 2343, 1005, 1055, 16174, 4342, 9867, 1012, 102], [101, 1996, 2332, 1997, 2600, 1998, 4897, 1005, 1055, 2636, 2419, 2000, 5613, 1012, 102], [101, 2343, 5367, 5359, 2010, 22577, 4769, 1999, 6899, 1012, 102], [101, 2343, 5367, 5359, 2014, 22577, 4769, 1999, 6899, 1012, 102], [101, 2044, 3752, 1996, 19899, 1010, 12120, 4711, 2068, 2046, 1996, 13044, 2064, 1012, 102], [101, 2044, 1996, 2283, 1010, 1045, 2356, 2870, 2339, 1045, 2018, 6904, 19068, 29492, 2000, 3071, 1999, 2026, 2436, 2311, 1012, 102], [101, 3487, 2788, 4622, 2000, 4604, 1037, 6100, 1997, 2010, 1041, 1011, 5653, 2000, 2370, 1012, 102], [101, 2053, 2198, 3044, 2015, 3230, 1996, 3116, 1012, 102], [101, 2023, 2198, 3044, 3268, 1999, 10884, 1012, 102], [101, 2045, 2024, 2093, 2585, 2015, 1999, 2026, 2465, 1012, 102], [101, 2009, 1005, 1055, 2498, 2066, 1996, 2637, 1045, 3342, 1012, 102], [101, 2026, 2567, 2003, 2019, 15313, 2012, 8785, 2015, 1012, 102], [101, 1999, 1996, 2338, 1010, 2002, 7566, 2055, 2010, 11139, 1998, 12482, 2012, 2082, 1012, 102], [101, 2065, 2198, 4122, 2000, 9510, 1999, 5971, 2166, 1010, 2002, 2038, 2000, 2113, 1996, 3513, 1997, 1996, 2208, 1012, 102], [101, 1996, 16218, 1997, 18858, 1005, 1055, 3072, 2001, 2517, 2013, 1037, 3824, 2391, 1997, 3193, 1012, 102], [101, 1996, 3494, 1999, 8101, 1005, 1055, 11313, 2305, 2444, 1999, 1037, 2088, 2008, 2038, 2042, 2357, 14961, 1011, 2091, 1012, 102], [101, 1996, 3494, 1999, 8101, 1005, 1055, 11313, 2305, 3268, 1999, 1037, 2088, 2008, 2038, 2042, 2357, 14961, 1011, 2091, 1012, 102], [101, 2493, 5702, 2394, 3191, 10931, 1005, 1055, 2540, 1997, 4768, 2096, 2012, 2118, 1012, 102], [101, 2017, 2003, 1996, 2069, 2711, 2008, 1045, 2064, 11160, 2006, 1012, 102], [101, 2017, 2024, 1996, 2069, 2711, 2008, 1045, 2064, 11160, 2006, 1012, 102], [101, 2002, 2003, 1996, 2069, 2711, 2008, 1045, 2064, 11160, 2006, 1012, 102], [101, 2002, 2024, 1996, 2069, 2711, 2008, 1045, 2064, 11160, 2006, 1012, 102], [101, 1996, 2879, 9880, 2015, 1012, 102], [101, 1996, 3337, 9880, 1012, 102], [101, 2332, 10975, 10376, 3619, 12984, 1999, 20238, 5474, 1998, 11565, 2001, 2200, 2172, 2488, 1010, 1037, 3722, 9841, 12090, 2135, 6472, 1012, 102], [101, 2176, 7038, 2001, 3243, 1037, 2978, 1997, 2769, 1999, 3925, 1998, 2009, 2001, 2025, 3733, 2000, 2272, 2011, 1012, 102], [101, 2274, 7038, 2003, 1037, 2843, 1997, 2769, 1012, 102], [101, 2274, 7038, 2024, 1037, 2843, 1997, 2769, 1012, 102], [101, 2048, 9010, 2624, 25090, 4371, 2505, 1999, 2115, 2160, 1012, 102], [101, 2048, 9010, 2624, 25090, 4371, 2505, 1999, 2115, 2160, 1012, 102], [101, 5417, 6363, 1999, 1037, 2733, 2003, 2172, 1012, 102], [101, 5417, 6363, 1999, 1037, 2733, 2024, 2025, 2172, 1012, 102], [101, 5417, 2086, 5836, 1037, 2146, 2558, 1997, 2010, 2166, 1012, 102], [101, 5417, 2086, 5050, 1037, 2146, 2558, 1997, 2010, 2166, 1012, 102], [101, 2048, 2661, 2003, 2004, 2521, 2004, 2027, 2064, 3328, 1012, 102], [101, 2048, 2661, 2024, 2004, 2521, 2004, 2027, 2064, 3328, 1012, 102], [101, 2023, 2231, 2031, 2042, 2062, 13338, 1999, 1996, 2126, 2027, 2031, 9411, 2007, 2270, 16156, 2084, 2151, 3025, 2231, 1012, 102], [101, 2023, 2231, 2038, 2042, 2062, 13338, 1999, 1996, 2126, 2027, 2031, 9411, 2007, 2270, 16156, 2084, 2151, 3025, 2231, 1012, 102], [101, 1999, 7547, 2005, 1996, 2709, 15083, 2023, 2136, 2038, 4738, 2062, 18228, 2084, 2027, 2018, 1999, 3522, 2706, 1012, 102], [101, 2016, 2987, 1005, 1056, 2903, 2172, 1997, 2008, 2466, 1012, 102], [101, 2057, 7791, 2000, 2004, 2210, 1997, 2010, 4613, 2004, 2825, 1012, 102], [101, 2129, 2172, 1997, 1996, 26991, 2106, 1996, 7186, 4053, 1029, 102], [101, 2016, 2987, 1005, 1056, 2903, 2172, 2466, 1012, 102], [101, 2057, 7791, 2000, 2004, 2210, 4613, 2004, 2825, 1012, 102], [101, 2129, 2172, 26991, 2106, 1996, 7186, 4053, 1029, 102], [101, 1045, 3191, 2070, 2338, 1012, 102], [101, 2028, 1997, 1996, 2111, 2001, 5996, 1997, 21810, 1012, 102], [101, 2116, 1997, 1996, 2111, 2020, 5996, 1997, 21810, 1012, 102], [101, 2028, 2111, 2001, 5996, 1997, 21810, 1012, 102], [101, 2116, 2111, 2020, 5996, 1997, 21810, 1012, 102], [101, 2169, 1997, 1996, 15690, 2003, 11701, 1012, 102], [101, 4445, 1997, 1996, 3765, 2038, 2250, 14372, 1012, 102], [101, 3904, 1997, 2122, 2273, 4122, 2000, 2022, 2343, 1012, 102], [101, 2087, 1997, 1996, 2336, 2024, 2182, 1012, 102], [101, 2070, 1997, 1996, 11350, 3791, 2062, 5474, 1012, 102], [101, 2070, 1997, 1996, 15736, 2015, 2342, 12183, 2015, 1012, 102], [101, 2035, 1997, 1996, 2455, 7460, 2000, 1996, 2231, 1012, 102], [101, 2035, 1997, 2122, 3765, 7141, 2000, 2033, 1012, 102], [101, 2198, 2003, 1999, 1996, 2282, 1012, 102], [101, 1045, 2572, 13545, 1997, 2032, 1012, 102], [101, 2087, 1997, 2198, 1005, 1055, 4049, 2038, 2042, 16360, 22325, 2098, 1012, 102], [101, 2070, 1997, 1996, 2501, 3397, 3350, 1997, 3308, 3527, 2075, 1012, 102], [101, 2172, 1997, 2008, 3399, 2003, 4895, 21001, 1012, 102], [101, 2028, 1997, 1996, 2466, 2038, 2596, 1999, 2115, 3780, 1012, 102], [101, 2002, 2003, 4452, 1997, 24623, 1012, 102], [101, 2009, 2003, 1037, 4799, 4624, 1012, 102], [101, 2009, 2003, 1996, 2364, 2395, 1012, 102], [101, 2009, 2003, 2019, 4142, 3869, 1012, 102], [101, 2027, 2024, 4452, 2111, 1012, 102], [101, 2023, 22224, 2003, 2364, 1012, 102], [101, 2023, 2755, 2003, 3145, 1012, 102], [101, 1996, 2158, 9461, 2000, 2707, 1996, 3116, 2003, 2198, 1005, 1055, 2905, 1012, 102], [101, 1996, 2158, 3173, 1996, 5835, 5419, 1012, 102], [101, 1996, 4981, 3718, 2013, 1996, 3647, 2031, 2025, 2042, 2179, 1012, 102], [101, 1996, 2769, 2008, 2017, 2435, 2033, 5419, 2197, 2305, 1012, 102], [101, 2198, 1999, 1996, 7086, 7147, 2000, 2010, 2269, 1012, 102], [101, 2002, 1999, 1996, 7086, 7147, 2000, 2010, 2269, 1012, 102], [101, 1998, 5950, 5300, 1997, 1996, 3395, 1998, 1996, 2364, 12034, 1012, 102], [101, 4445, 1997, 2122, 2273, 2003, 11007, 2000, 2599, 3304, 1012, 102], [101, 3904, 1997, 2010, 16120, 21917, 10514, 26989, 9623, 9586, 2085, 1012, 102], [101, 2028, 1997, 1996, 3471, 2001, 1996, 5863, 2015, 1012, 102], [101, 2035, 1997, 1996, 3269, 7865, 4773, 4573, 2031, 2042, 14057, 2135, 5067, 1999, 2028, 2430, 3295, 1012, 102], [101, 2070, 1997, 1996, 2300, 2013, 12501, 4586, 2036, 3632, 2046, 1996, 2598, 2005, 4264, 1012, 102], [101, 2087, 1997, 1996, 6501, 2115, 3336, 16678, 2015, 2076, 7388, 7959, 17819, 2003, 2550, 2076, 8329, 1012, 102], [101, 2035, 2569, 2916, 1997, 6830, 1999, 1996, 2602, 2020, 8961, 1012, 102], [101, 2028, 1997, 2350, 5876, 12473, 1996, 3643, 1997, 11719, 2001, 2037, 3635, 1012, 102], [101, 2169, 1997, 2122, 6386, 2038, 2000, 2022, 3013, 1998, 12853, 1012, 102], [101, 2087, 1997, 2014, 2489, 2051, 2001, 2985, 7052, 6759, 1998, 3248, 2030, 5873, 9941, 1998, 2396, 11726, 1012, 102], [101, 1996, 2837, 2001, 13604, 1999, 2037, 3247, 1012, 102], [101, 1996, 2837, 2031, 2035, 2085, 5295, 1012, 102], [101, 1996, 2837, 2038, 2035, 2085, 5295, 1012, 102], [101, 1996, 3626, 2031, 2119, 3530, 2000, 2689, 10460, 1012, 102], [101, 1996, 3626, 2038, 2119, 3530, 2000, 2689, 10460, 1012, 102], [101, 2014, 2155, 2003, 2035, 18568, 21294, 2015, 1012, 102], [101, 2014, 2155, 2024, 2035, 18568, 21294, 2015, 1012, 102], [101, 1037, 3528, 1997, 6782, 2031, 2042, 1999, 17734, 2005, 1996, 2197, 2095, 1012, 102], [101, 2119, 1997, 1996, 3667, 2097, 4929, 2482, 9323, 2015, 1012, 102], [101, 2119, 1996, 3667, 2097, 4929, 2482, 9323, 2015, 1012, 102], [101, 2119, 2097, 4929, 2482, 9323, 2015, 1012, 102], [101, 2261, 7435, 14300, 1997, 2256, 19519, 1012, 102], [101, 2261, 14300, 1997, 2256, 19519, 1012, 102], [101, 2019, 2742, 1997, 2122, 13978, 2022, 9098, 1012, 102], [101, 1996, 12353, 1997, 4252, 1998, 4083, 12530, 2006, 2195, 5876, 1012, 102], [101, 2028, 1997, 1996, 2087, 3809, 3471, 2008, 2070, 2493, 2031, 2022, 3768, 1997, 14354, 1012, 102], [101, 2702, 2086, 2022, 1037, 2146, 2051, 2000, 5247, 1999, 3827, 1012, 102], [101, 3071, 1997, 2149, 2022, 2445, 1037, 3396, 1012, 102], [101, 2070, 1997, 1996, 5909, 2022, 2183, 2919, 1012, 102], [101, 2035, 1997, 2010, 7177, 2272, 2013, 2613, 3776, 10518, 1012, 102], [101, 2079, 2070, 1997, 2115, 9064, 2444, 3518, 1029, 102], [101, 5595, 7038, 4025, 2066, 1037, 2843, 1997, 3635, 2000, 4558, 1999, 2028, 2095, 1012, 102], [101, 2739, 1997, 2566, 3366, 9864, 1998, 17183, 15141, 3362, 1996, 2307, 5932, 1998, 7804, 2229, 1997, 26742, 1012, 102], [101, 2431, 1997, 1996, 2095, 2022, 2601, 1998, 2663, 11129, 1012, 102], [101, 2070, 1997, 1996, 26512, 1997, 9808, 12412, 2232, 6240, 12826, 2049, 5510, 2000, 12486, 8616, 4135, 2378, 1012, 102], [101, 1996, 2837, 8440, 1005, 1056, 2664, 2081, 2039, 2049, 2568, 1012, 102], [101, 1996, 2837, 8440, 1005, 1056, 2664, 2081, 2039, 2037, 2568, 1012, 102], [101, 1996, 2837, 4033, 1005, 1056, 2664, 2081, 2039, 2037, 2568, 1012, 102], [101, 1996, 2837, 4033, 1005, 1056, 2664, 2081, 2039, 2049, 2568, 1012, 102], [101, 2008, 3899, 2003, 2061, 27863, 1010, 2009, 2130, 2699, 2000, 6805, 2370, 1012, 102], [101, 1045, 8871, 2033, 1012, 102], [101, 1045, 8871, 2870, 1012, 102], [101, 2017, 8871, 2870, 1012, 102], [101, 1045, 8871, 2017, 1012, 102], [101, 2002, 6476, 2017, 1012, 102], [101, 1045, 8871, 4426, 1012, 102], [101, 2017, 8871, 4426, 1012, 102], [101, 4302, 2758, 2008, 8836, 18959, 2015, 2032, 1012, 102], [101, 4302, 2758, 2008, 8836, 18959, 2015, 2370, 1012, 102], [101, 8836, 8996, 2008, 3071, 2052, 8489, 2841, 1012, 102], [101, 8836, 7164, 2008, 2016, 2003, 8235, 1012, 102], [101, 8836, 7164, 2008, 2841, 2003, 8235, 1012, 102], [101, 1996, 2373, 1997, 2115, 2568, 1998, 1996, 2373, 1997, 2115, 2303, 2031, 1037, 4389, 4434, 1012, 102], [101, 2198, 5363, 2000, 8081, 1996, 3274, 1012, 102], [101, 2198, 3849, 2000, 8081, 1996, 3274, 1012, 102], [101, 2984, 11766, 2198, 2000, 8081, 1996, 3274, 1012, 102], [101, 2984, 3517, 2198, 2000, 8081, 1996, 3274, 1012, 102], [101, 2198, 2000, 8081, 1996, 3274, 1012, 102], [101, 3849, 2198, 2000, 8081, 1996, 3274, 1012, 102], [101, 2198, 5363, 2000, 2022, 7481, 1012, 102], [101, 2198, 3849, 2000, 2022, 7481, 1012, 102], [101, 2198, 3084, 4073, 2005, 2370, 2000, 2022, 7481, 1012, 102], [101, 2009, 3849, 2008, 2198, 2003, 7481, 1012, 102], [101, 2009, 12102, 2000, 2022, 4010, 1999, 2244, 1012, 102], [101, 2009, 3849, 2000, 8572, 5035, 2008, 2027, 5295, 1012, 102], [101, 2009, 5363, 2000, 2022, 4010, 1999, 2244, 1012, 102], [101, 2009, 8069, 2000, 8572, 5035, 2008, 2027, 5295, 1012, 102], [101, 2009, 2003, 3733, 2000, 3531, 5035, 1012, 102], [101, 2198, 2003, 9461, 2000, 3531, 5035, 1012, 102], [101, 2045, 5363, 2000, 2022, 4010, 1999, 2244, 1012, 102], [101, 2045, 8069, 2000, 8572, 5035, 2008, 2027, 5295, 1012, 102], [101, 2009, 2003, 9461, 2000, 3531, 5035, 1012, 102], [101, 4459, 2790, 2000, 2022, 9414, 1012, 102], [101, 2009, 3849, 2000, 2022, 3733, 2000, 7966, 3841, 1012, 102], [101, 2045, 2003, 3497, 2000, 2022, 1037, 3661, 1999, 1996, 5653, 8758, 1012, 102], [101, 21628, 2015, 2024, 3497, 2000, 2022, 2921, 2006, 6818, 1012, 102], [101, 2198, 3849, 2000, 2022, 3733, 2000, 7966, 3841, 1012, 102], [101, 2198, 2003, 3497, 2000, 2022, 2921, 2006, 6818, 1012, 102], [101, 7525, 2699, 2000, 4521, 21480, 2015, 1012, 102], [101, 2045, 2699, 2000, 2022, 12925, 1999, 10884, 1012, 102], [101, 2009, 2699, 2000, 8572, 2033, 2008, 3782, 9828, 1012, 102], [101, 21628, 2015, 3046, 2000, 2022, 2921, 2006, 3960, 2011, 1996, 8495, 1012, 102], [101, 2008, 2002, 2003, 12266, 2003, 9461, 2000, 2022, 5793, 1012, 102], [101, 1996, 2332, 15583, 1996, 2158, 1012, 102], [101, 1996, 3609, 2417, 3849, 2000, 2022, 2010, 5440, 3609, 1012, 102], [101, 1996, 4937, 3849, 2000, 2022, 2041, 1997, 1996, 4524, 1012, 102], [101, 1996, 24385, 2003, 3497, 2000, 11628, 6986, 1012, 102], [101, 6986, 2003, 3497, 2000, 2022, 8920, 2011, 1996, 24385, 1012, 102], [101, 1996, 24385, 2003, 9461, 2000, 11628, 6986, 1012, 102], [101, 6986, 2003, 9461, 2000, 2022, 8920, 2011, 1996, 24385, 1012, 102], [101, 4459, 3373, 3841, 2000, 2022, 6176, 1012, 102], [101, 4459, 11766, 3841, 2000, 2022, 6176, 1012, 102], [101, 4459, 3373, 2009, 2000, 2022, 3733, 2000, 3531, 5035, 1012, 102], [101, 4459, 11766, 2009, 2000, 2022, 3733, 2000, 3531, 5035, 1012, 102], [101, 4459, 3373, 2045, 2000, 2022, 1037, 9545, 1999, 1996, 2380, 1012, 102], [101, 4459, 11766, 2045, 2000, 2022, 1037, 9545, 1999, 1996, 2380, 1012, 102], [101, 4459, 3373, 1996, 4937, 2000, 2022, 2041, 1997, 1996, 4524, 1012, 102], [101, 4459, 11766, 1996, 4937, 2000, 2022, 2041, 1997, 1996, 4524, 1012, 102], [101, 1996, 24385, 2001, 3373, 2000, 2031, 8920, 6986, 1012, 102], [101, 6986, 2001, 3373, 2000, 2031, 2042, 8920, 2011, 1996, 24385, 1012, 102], [101, 1996, 24385, 2001, 11766, 2000, 11628, 6986, 1012, 102], [101, 4459, 3849, 2000, 2022, 29348, 1012, 102], [101, 3419, 7164, 4459, 2000, 2022, 29348, 1012, 102], [101, 2198, 11766, 4459, 2000, 2022, 2062, 6176, 1012, 102], [101, 2009, 2790, 2000, 2022, 9414, 1012, 102], [101, 2009, 2790, 2000, 4542, 1012, 102], [101, 2045, 2790, 2000, 2022, 1037, 9545, 1999, 1996, 2380, 1012, 102], [101, 4459, 2699, 2000, 2022, 9414, 1012, 102], [101, 2009, 2699, 2000, 2022, 9414, 1012, 102], [101, 2045, 2699, 2000, 2022, 9414, 1012, 102], [101, 2009, 2699, 2000, 4542, 1012, 102], [101, 2045, 2699, 2000, 2022, 1037, 9545, 1999, 1996, 2380, 1012, 102], [101, 2619, 2699, 2000, 2681, 1996, 2237, 1012, 102], [101, 2045, 3849, 2000, 2022, 1037, 9545, 1999, 1996, 2380, 1012, 102], [101, 2009, 3849, 2000, 2022, 1037, 9545, 1999, 1996, 2380, 1012, 102], [101, 2198, 3849, 2000, 2022, 1037, 9545, 1999, 1996, 2380, 1012, 102], [101, 2057, 3373, 2045, 2000, 2022, 1037, 9545, 1999, 1996, 2380, 1012, 102], [101, 2057, 3373, 2009, 2000, 2022, 1037, 9545, 1999, 1996, 2380, 1012, 102], [101, 2045, 5363, 2000, 2681, 1996, 2406, 1012, 102], [101, 2057, 3373, 2009, 2000, 3046, 2000, 2681, 1996, 2406, 1012, 102], [101, 2057, 3373, 2045, 2000, 3046, 2000, 2681, 1996, 2406, 1012, 102], [101, 2057, 3373, 2198, 2000, 3046, 2000, 2681, 1996, 2406, 1012, 102], [101, 1996, 4937, 5363, 2000, 2022, 2041, 1997, 1996, 4524, 1012, 102], [101, 2027, 11766, 2033, 2000, 2681, 1012, 102], [101, 2027, 5763, 2033, 2000, 2681, 1012, 102], [101, 2027, 11766, 2009, 2000, 4542, 1012, 102], [101, 2027, 5763, 2009, 2000, 4542, 1012, 102], [101, 2104, 1996, 2793, 2003, 1037, 4569, 2173, 2000, 5342, 1012, 102], [101, 2104, 1996, 2793, 4122, 2000, 2022, 1037, 4569, 2173, 2000, 5342, 1012, 102], [101, 5035, 2089, 2031, 4914, 2000, 2292, 2984, 9587, 2860, 1996, 10168, 1012, 102], [101, 7296, 3544, 2000, 2031, 2359, 2000, 2022, 8884, 2000, 1996, 2194, 1012, 102], [101, 3557, 2052, 9544, 2005, 2009, 2000, 2022, 3154, 2000, 6287, 2008, 1996, 2103, 3488, 2000, 9790, 2032, 1012, 102], [101, 2198, 4247, 2000, 4468, 1996, 4736, 1012, 102], [101, 1996, 2952, 3641, 1996, 3629, 2000, 10838, 1012, 102], [101, 2002, 28155, 19068, 2010, 2567, 2000, 2507, 2032, 1996, 9485, 1012, 102], [101, 2198, 4122, 2009, 2000, 2022, 3154, 2000, 3841, 2008, 1996, 2103, 3488, 2000, 3932, 2032, 1012, 102], [101, 2198, 3849, 2000, 4542, 1012, 102], [101, 2198, 2003, 3497, 2000, 3711, 2008, 2002, 2097, 2663, 1996, 2208, 1012, 102], [101, 7014, 2699, 2005, 3021, 2000, 3198, 1037, 3160, 1012, 102], [101, 2002, 3373, 2045, 2000, 2022, 3497, 2008, 2002, 2180, 1996, 2208, 1012, 102], [101, 2009, 2003, 3497, 2000, 4025, 2000, 2022, 15818, 1012, 102], [101, 7525, 3544, 2008, 5035, 2003, 3407, 1012, 102], [101, 11271, 2052, 2022, 9832, 2005, 6986, 2000, 2022, 2170, 2588, 1012, 102], [101, 5863, 2003, 2498, 1999, 1996, 3482, 1012, 102], [101, 2009, 2056, 2008, 5035, 2001, 3407, 1012, 102], [101, 2045, 6871, 2005, 7525, 2000, 2131, 1996, 3105, 1012, 102], [101, 2045, 2003, 2069, 2028, 5072, 9415, 2920, 1999, 9113, 6726, 1012, 102], [101, 2045, 2024, 2069, 2028, 5072, 9415, 2920, 1999, 9113, 6726, 1012, 102], [101, 2045, 2003, 2062, 5072, 13978, 2920, 1999, 9113, 6726, 1012, 102], [101, 2045, 2024, 2062, 5072, 13978, 2920, 1999, 9113, 6726, 1012, 102], [101, 2045, 2003, 3373, 2000, 2022, 1037, 8351, 1999, 1996, 2380, 1012, 102], [101, 2045, 2003, 3373, 2000, 2022, 1037, 8351, 1999, 1996, 2380, 1012, 102], [101, 2045, 2024, 3373, 2000, 2022, 8351, 1999, 1996, 2380, 1012, 102], [101, 2045, 3849, 2000, 2022, 2053, 3076, 9962, 1012, 102], [101, 2045, 2024, 3497, 2000, 2022, 2053, 3076, 9962, 1012, 102], [101, 2045, 2003, 3497, 2000, 2022, 2053, 3076, 9962, 1012, 102], [101, 6986, 3517, 8886, 2000, 2022, 9376, 1012, 102], [101, 6986, 11766, 8886, 2000, 2022, 9376, 1012, 102], [101, 6986, 5763, 8886, 2000, 2022, 9376, 1012, 102], [101, 4901, 9720, 4776, 2000, 2022, 8884, 2000, 2014, 1012, 102], [101, 2057, 5987, 1996, 24385, 2000, 11628, 2149, 1012, 102], [101, 2057, 5987, 1996, 24385, 2000, 11628, 9731, 1012, 102], [101, 2057, 5987, 2068, 2000, 11628, 3209, 1012, 102], [101, 2057, 11766, 1996, 24385, 2000, 11628, 2149, 1012, 102], [101, 2057, 11766, 1996, 24385, 2000, 11628, 9731, 1012, 102], [101, 2057, 11766, 2068, 2000, 11628, 3209, 1012, 102], [101, 2057, 11766, 2068, 2000, 11628, 2068, 1012, 102], [101, 2198, 2089, 4392, 2300, 1010, 1998, 3021, 4392, 5404, 1012, 102], [101, 3419, 2097, 2025, 2681, 1012, 102], [101, 3419, 6476, 2025, 1037, 3608, 1012, 102], [101, 2097, 3419, 2681, 1996, 2283, 2085, 1029, 102], [101, 2187, 3419, 1996, 2283, 2525, 1029, 102], [101, 2198, 2481, 1005, 1056, 2681, 1996, 2283, 1012, 102], [101, 2198, 2187, 2078, 1005, 1056, 1996, 2283, 2220, 1012, 102], [101, 2065, 10334, 2003, 27594, 2075, 1996, 2336, 1010, 2198, 2003, 1012, 102], [101, 2065, 10334, 7906, 27594, 2075, 1996, 2336, 1010, 2198, 7906, 1012, 102], [101, 2017, 2323, 2681, 1010, 5807, 1005, 1056, 2017, 1029, 102], [101, 2017, 2134, 1005, 1056, 2681, 1010, 2187, 2017, 1029, 102], [101, 2016, 2052, 2196, 2903, 2008, 2466, 1012, 102], [101, 2016, 3373, 2196, 2010, 2466, 1012, 102], [101, 1996, 3337, 2097, 2035, 2022, 2045, 1012, 102], [101, 2256, 2136, 2209, 2035, 2092, 1012, 102], [101, 1996, 2336, 2097, 2031, 2042, 2108, 21474, 1012, 102], [101, 1996, 2160, 2003, 2042, 2128, 5302, 12662, 2075, 1012, 102], [101, 5545, 2038, 2018, 2525, 2187, 1012, 102], [101, 2002, 2038, 2097, 3773, 2010, 2336, 1012, 102], [101, 2002, 2038, 2042, 2442, 2108, 6970, 26565, 2011, 1996, 2610, 2012, 2008, 2200, 2617, 1012, 102], [101, 2984, 13332, 1996, 3291, 1012, 102], [101, 2984, 2052, 9611, 1996, 3291, 1012, 102], [101, 2984, 2001, 13729, 1996, 3291, 1012, 102], [101, 2984, 2052, 4089, 9611, 1996, 3291, 1012, 102], [101, 2984, 2025, 9511, 3021, 1012, 102], [101, 2984, 2106, 2025, 4468, 3021, 1012, 102], [101, 5965, 2442, 2031, 2042, 4823, 2774, 1998, 2763, 2001, 5948, 5404, 1012, 102], [101, 5965, 2442, 2119, 2031, 2042, 4823, 2774, 1998, 2031, 2042, 5948, 5404, 1012, 102], [101, 5965, 2442, 2031, 2119, 2042, 4823, 2774, 1998, 2042, 5948, 5404, 1012, 102], [101, 5965, 2442, 2031, 2042, 2119, 4823, 2774, 1998, 5948, 5404, 1012, 102], [101, 2045, 2453, 2022, 1037, 21830, 1999, 1996, 3871, 1012, 102], [101, 2009, 2097, 4542, 4826, 1012, 102], [101, 2198, 2097, 2681, 1996, 2283, 3041, 1012, 102], [101, 2045, 8069, 2000, 3926, 1996, 2622, 1012, 102], [101, 1996, 3902, 8069, 2000, 2022, 2182, 2012, 2274, 1012, 102], [101, 1045, 3246, 2000, 2064, 2817, 1999, 2605, 1012, 102], [101, 1045, 3246, 2000, 2817, 1999, 2605, 1012, 102], [101, 2198, 3030, 2064, 2000, 3696, 1999, 8694, 1012, 102], [101, 2198, 3030, 24549, 2000, 3696, 1999, 8694, 1012, 102], [101, 2198, 17234, 2681, 1996, 2283, 2220, 1012, 102], [101, 2198, 2064, 6476, 1996, 3608, 1012, 102], [101, 2198, 2064, 10209, 1996, 3608, 1012, 102], [101, 2198, 2064, 2000, 5926, 1996, 3608, 1012, 102], [101, 2198, 2097, 5926, 1996, 3608, 1012, 102], [101, 2198, 2097, 6476, 1996, 3608, 1012, 102], [101, 2198, 2097, 2000, 5926, 1996, 3608, 1012, 102], [101, 5035, 2442, 8670, 9681, 1037, 9850, 1012, 102], [101, 5035, 2442, 17776, 1037, 9850, 1012, 102], [101, 5035, 2442, 2097, 8670, 3489, 1037, 9850, 1012, 102], [101, 2045, 2089, 4839, 1037, 2158, 1999, 1996, 2380, 1012, 102], [101, 2009, 2089, 4839, 1037, 2158, 1999, 1996, 2380, 1012, 102], [101, 2009, 2003, 8995, 2008, 2057, 2097, 2817, 10126, 1012, 102], [101, 2002, 2003, 1037, 7966, 1012, 102], [101, 2002, 2038, 1037, 2482, 1012, 102], [101, 2198, 2003, 2770, 2000, 1996, 2482, 1012, 102], [101, 2001, 1996, 2775, 1999, 1996, 2082, 1029, 102], [101, 2001, 1996, 2775, 2770, 2000, 1996, 2482, 1029, 102], [101, 2001, 1996, 2775, 2179, 1029, 102], [101, 1996, 2775, 2196, 2150, 4689, 1012, 102], [101, 1996, 2775, 2001, 2196, 4689, 1012, 102], [101, 1996, 2775, 2001, 2196, 2770, 2000, 1996, 2482, 1012, 102], [101, 1996, 2775, 2001, 2196, 11703, 7416, 7178, 1012, 102], [101, 2198, 2003, 3407, 2055, 1996, 9560, 1012, 102], [101, 2198, 2001, 3773, 2010, 2336, 1012, 102], [101, 1996, 2336, 2024, 2464, 1999, 1996, 4220, 1012, 102], [101, 2198, 2038, 2025, 7042, 1037, 2299, 1012, 102], [101, 2038, 2198, 7042, 1037, 2299, 1029, 102], [101, 2198, 8440, 1005, 1056, 2042, 4823, 1037, 2299, 1012, 102], [101, 2198, 2038, 7042, 1037, 2299, 1998, 2984, 2038, 2205, 1012, 102], [101, 2198, 2064, 2031, 10948, 1012, 102], [101, 2198, 2064, 2022, 5613, 1012, 102], [101, 2002, 2038, 2464, 2010, 2336, 1012, 102], [101, 2002, 2097, 2031, 2042, 3773, 2010, 2336, 1012, 102], [101, 4841, 2031, 7079, 3318, 4171, 2412, 2144, 5124, 1012, 102], [101, 2577, 2038, 2253, 2000, 2637, 1012, 102], [101, 2003, 2041, 2144, 1996, 2206, 2003, 10713, 1012, 102], [101, 2017, 2024, 1037, 3076, 1012, 102], [101, 2017, 2031, 2025, 2438, 2769, 1012, 102], [101, 2031, 2017, 2438, 2769, 1029, 102], [101, 2198, 2515, 2025, 2066, 2023, 2237, 1012, 102], [101, 1999, 2053, 2060, 6214, 2515, 2008, 7835, 3043, 1012, 102], [101, 2027, 2134, 1005, 1056, 2681, 2151, 2833, 1012, 102], [101, 2027, 3517, 2149, 2000, 2079, 2681, 2032, 1012, 102], [101, 2027, 3517, 2149, 2000, 2323, 2681, 2032, 1012, 102], [101, 1045, 2179, 2870, 2725, 2342, 3637, 1012, 102], [101, 2002, 2515, 2022, 2975, 1012, 102], [101, 2002, 2515, 2031, 2042, 5983, 1012, 102], [101, 2027, 2097, 2079, 2272, 1012, 102], [101, 2198, 2106, 2681, 1012, 102], [101, 2106, 2198, 2424, 1996, 5576, 1029, 102], [101, 2129, 2146, 2106, 2009, 2197, 1029, 102], [101, 2198, 2089, 2681, 1012, 102], [101, 2009, 2089, 4542, 1012, 102], [101, 2198, 2089, 4542, 1012, 102], [101, 2198, 2106, 2025, 2681, 1012, 102], [101, 2198, 2106, 2025, 4542, 1012, 102], [101, 2002, 2453, 2031, 2187, 1012, 102], [101, 2002, 2453, 2079, 2681, 1012, 102], [101, 2002, 2515, 2064, 2681, 2182, 1012, 102], [101, 2002, 2515, 2089, 2681, 2182, 1012, 102], [101, 3958, 2515, 2031, 3569, 1996, 3399, 1012, 102], [101, 1996, 6378, 2106, 2022, 11763, 2011, 7207, 1012, 102], [101, 1045, 2079, 2025, 2031, 7042, 1012, 102], [101, 1045, 2079, 2025, 2022, 3407, 1012, 102], [101, 2079, 2022, 7481, 999, 102], [101, 2123, 1005, 1056, 2022, 10021, 999, 102], [101, 2198, 3373, 5035, 2000, 2079, 2025, 2681, 2182, 1012, 102], [101, 2198, 7164, 5035, 2025, 2000, 2681, 2182, 1012, 102], [101, 2198, 3373, 5035, 2000, 2975, 2182, 1012, 102], [101, 2198, 2106, 2025, 2975, 2182, 1012, 102], [101, 2198, 5987, 2000, 2442, 2681, 1012, 102], [101, 2198, 2106, 2025, 2089, 2681, 1012, 102], [101, 3419, 2359, 2000, 2175, 2188, 1010, 2021, 2848, 2134, 1005, 1056, 2215, 2000, 1012, 102], [101, 3389, 5444, 2005, 3021, 2138, 2010, 2269, 2409, 2032, 2000, 1012, 102], [101, 5035, 23161, 2025, 2383, 2464, 1996, 3185, 1012, 102], [101, 5035, 23161, 2196, 2383, 2464, 1996, 3185, 1012, 102], [101, 2057, 2356, 2032, 2025, 2000, 3046, 2000, 2655, 2149, 2153, 1012, 102], [101, 2057, 2356, 2032, 2196, 2000, 3046, 2000, 2655, 2149, 2153, 1012, 102], [101, 4611, 2081, 2068, 2025, 3335, 1996, 4882, 6295, 1012, 102], [101, 4611, 2081, 2068, 2196, 3335, 1996, 4882, 6295, 1012, 102], [101, 2025, 4092, 2394, 2003, 1037, 20502, 1012, 102], [101, 4092, 2025, 2394, 2003, 1037, 20502, 1012, 102], [101, 3389, 7777, 2025, 5035, 1012, 102], [101, 3389, 2003, 3373, 2025, 2000, 2066, 5035, 1012, 102], [101, 3389, 2003, 3373, 2000, 2025, 2066, 5035, 1012, 102], [101, 3389, 2003, 3373, 2000, 2066, 2025, 5035, 1012, 102], [101, 1996, 2343, 2071, 2025, 14300, 1996, 3021, 1012, 102], [101, 2009, 2052, 2022, 2825, 2005, 1996, 2343, 2025, 2000, 14300, 1996, 3021, 1012, 102], [101, 2009, 2052, 2025, 2022, 2825, 2005, 1996, 2343, 2000, 14300, 1996, 3021, 1012, 102], [101, 3389, 2025, 2187, 1012, 102], [101, 3389, 2097, 2196, 2681, 1012, 102], [101, 3389, 2097, 2025, 2681, 1012, 102], [101, 2198, 2071, 2025, 2681, 1996, 2237, 1012, 102], [101, 2198, 2025, 2187, 1996, 2237, 1012, 102], [101, 2198, 2025, 2071, 2681, 1996, 2237, 1012, 102], [101, 2984, 6369, 1037, 2299, 1010, 2021, 3389, 2196, 2106, 1012, 102], [101, 2984, 6369, 1037, 2299, 1010, 2021, 3389, 2106, 2196, 1012, 102], [101, 2984, 6369, 1037, 2299, 1010, 2021, 3389, 2106, 2025, 1012, 102], [101, 1996, 2343, 2071, 2025, 14300, 1996, 3021, 1010, 2481, 1005, 1056, 2002, 1029, 102], [101, 1996, 2343, 2071, 2025, 14300, 1996, 3021, 1010, 2071, 2002, 1029, 102], [101, 2024, 2017, 5702, 2394, 20231, 1029, 102], [101, 2054, 2024, 2017, 5702, 13367, 1029, 102], [101, 1045, 4618, 2175, 5116, 1012, 102], [101, 4618, 1045, 2175, 5116, 1029, 102], [101, 2089, 2016, 2444, 5091, 999, 102], [101, 2001, 1045, 2008, 5236, 1029, 102], [101, 2123, 1005, 1056, 2017, 2130, 3543, 2008, 999, 102], [101, 2017, 2488, 2025, 4392, 1012, 102], [101, 2017, 2064, 2079, 2009, 1010, 2021, 2017, 2488, 2025, 1012, 102], [101, 2488, 2017, 2025, 4392, 1012, 102], [101, 2027, 1005, 1040, 2681, 2574, 1012, 102], [101, 2027, 2876, 1005, 1056, 2681, 2574, 1012, 102], [101, 2027, 5807, 1005, 1056, 2681, 2574, 1012, 102], [101, 2027, 2064, 2079, 2009, 1010, 2064, 1005, 1056, 2027, 1029, 102], [101, 2027, 2064, 1005, 1056, 2079, 2009, 1010, 2064, 2027, 1029, 102], [101, 2027, 2064, 1005, 1056, 2079, 2009, 1010, 2064, 1005, 1056, 2027, 1029, 102], [101, 2027, 2064, 1005, 1056, 2079, 2009, 1010, 2064, 2002, 1029, 102], [101, 5035, 2064, 3153, 1010, 1998, 7525, 2064, 1010, 2205, 1012, 102], [101, 5035, 2038, 10948, 1010, 1998, 7525, 2038, 1010, 2205, 1012, 102], [101, 5035, 2001, 5613, 1010, 1998, 7525, 2001, 1010, 2205, 1012, 102], [101, 5035, 2641, 5241, 1996, 3212, 1010, 2021, 1045, 2196, 2641, 1012, 102], [101, 5035, 2359, 2000, 2175, 1998, 7525, 2359, 1010, 2205, 1012, 102], [101, 5035, 2003, 3407, 1998, 7525, 2003, 2205, 1012, 102], [101, 2043, 5035, 2001, 1999, 2859, 1010, 1045, 2001, 2205, 1012, 102], [101, 2031, 2017, 2505, 2000, 3745, 2007, 1996, 2177, 1029, 102], [101, 2031, 2017, 2716, 2505, 2000, 3745, 2007, 1996, 2177, 1029, 102], [101, 7525, 2442, 2031, 2042, 1010, 2205, 1012, 102], [101, 7525, 2442, 2031, 1010, 2205, 1012, 102], [101, 7525, 2442, 1010, 2205, 1012, 102], [101, 2138, 2198, 11766, 8836, 2000, 1010, 2002, 2134, 1005, 1056, 2031, 2000, 2831, 2000, 1996, 12060, 1012, 102], [101, 2984, 6369, 1037, 2299, 1010, 2021, 3389, 2071, 2196, 1012, 102], [101, 2984, 6369, 1037, 2299, 1010, 2021, 3389, 2071, 2025, 1012, 102], [101, 2198, 2288, 2741, 2000, 3827, 1012, 102], [101, 2002, 11276, 2000, 2681, 2010, 17434, 2182, 1012, 102], [101, 2002, 15048, 2025, 7475, 2114, 2010, 3008, 1012, 102], [101, 2002, 2109, 2000, 2175, 2045, 2200, 2411, 1012, 102], [101, 1996, 19785, 2442, 12241, 1996, 3123, 14568, 2651, 1012, 102], [101, 2023, 2323, 2022, 1996, 2927, 1997, 1037, 3376, 6860, 1012, 102], [101, 1045, 2572, 9268, 1996, 24596, 2013, 1996, 8328, 1012, 102], [101, 1996, 15183, 2031, 2513, 2013, 2037, 10885, 1012, 102], [101, 10493, 2052, 2031, 2328, 1037, 2610, 2276, 2007, 1996, 2976, 3946, 1012, 102], [101, 12004, 2071, 2031, 2042, 22206, 2379, 1996, 3509, 1012, 102], [101, 2016, 4025, 2000, 2031, 2445, 3361, 5375, 2000, 2019, 2590, 2413, 2396, 11033, 1012, 102], [101, 5754, 2089, 5938, 2014, 10885, 1999, 3304, 1012, 102], [101, 5754, 2089, 15970, 2014, 10885, 1999, 3304, 1012, 102], [101, 5754, 2089, 2985, 2014, 10885, 1999, 3304, 1012, 102], [101, 2009, 2038, 28270, 2296, 2154, 2005, 1996, 2197, 2733, 1012, 102], [101, 2009, 2038, 24057, 2296, 2154, 2005, 1996, 2197, 2733, 1012, 102], [101, 2009, 2038, 15811, 2296, 2154, 2005, 1996, 2197, 2733, 1012, 102], [101, 2009, 2038, 4542, 2296, 2154, 2005, 1996, 2197, 2733, 1012, 102], [101, 6415, 23067, 2290, 2003, 5287, 1999, 1996, 5137, 1012, 102], [101, 6415, 23067, 2290, 2003, 3713, 1999, 1996, 5137, 1012, 102], [101, 6415, 23067, 2290, 2003, 8847, 1999, 1996, 5137, 1012, 102], [101, 6415, 23067, 2290, 2003, 3764, 1999, 1996, 5137, 1012, 102], [101, 1996, 4412, 2003, 24325, 1012, 102], [101, 1996, 4412, 2003, 15748, 1012, 102], [101, 1996, 4412, 2003, 29324, 1012, 102], [101, 2577, 2003, 2383, 2973, 1999, 13163, 2005, 4228, 2086, 1012, 102], [101, 1996, 2160, 2003, 2042, 2128, 5302, 9247, 2075, 1012, 102], [101, 1037, 3101, 2001, 2042, 2445, 2000, 1996, 3664, 2011, 1996, 22365, 5849, 1012, 102], [101, 2515, 2198, 2031, 2908, 2000, 1996, 3075, 1029, 102], [101, 2198, 3849, 13545, 1997, 3256, 6949, 1010, 1998, 3021, 3849, 1010, 2205, 1012, 102], [101, 3520, 2089, 2031, 2042, 2108, 6970, 26565, 2011, 1996, 8495, 1012, 102], [101, 3520, 2089, 2031, 2042, 2108, 6970, 3217, 16961, 2011, 1996, 8495, 1012, 102], [101, 3520, 2089, 2022, 2018, 2042, 6970, 3217, 16961, 2011, 1996, 8495, 1012, 102], [101, 2031, 2591, 3471, 2081, 2610, 2147, 3697, 1029, 102], [101, 1996, 5205, 2323, 2025, 2031, 6404, 1996, 5936, 1997, 2014, 24355, 1012, 102], [101, 5522, 2038, 2025, 22456, 3119, 9259, 1012, 102], [101, 2106, 1996, 3460, 3653, 29234, 2004, 8197, 6657, 1029, 102], [101, 7525, 2097, 3191, 2115, 4311, 1010, 2021, 7157, 2097, 2025, 1012, 102], [101, 2002, 2064, 6684, 2903, 2008, 2009, 1005, 1055, 2525, 2058, 1012, 102], [101, 1045, 2071, 2031, 2210, 2124, 2008, 2062, 4390, 2001, 2074, 2105, 1996, 3420, 1012, 102], [101, 1045, 2031, 2196, 2042, 5287, 2000, 2061, 12726, 2135, 999, 102], [101, 6684, 2001, 2045, 2151, 4542, 4634, 1012, 102], [101, 2210, 2106, 1045, 2113, 2008, 2062, 4390, 2001, 2074, 2105, 1996, 3420, 1012, 102], [101, 2196, 2031, 1045, 2042, 5287, 2000, 2061, 12726, 2135, 999, 102], [101, 2002, 2018, 6684, 5067, 1996, 4981, 2006, 2010, 4624, 1010, 2018, 2002, 1029, 102], [101, 2002, 2018, 6684, 5067, 1996, 4981, 2006, 2010, 4624, 1010, 2910, 1005, 1056, 2002, 1029, 102], [101, 2002, 2196, 4719, 2505, 1010, 2106, 2002, 1029, 102], [101, 2002, 2196, 4719, 2505, 1010, 2134, 1005, 1056, 2002, 1029, 102], [101, 2004, 1037, 17689, 1010, 2002, 20071, 2071, 2079, 2505, 4276, 18625, 1012, 102], [101, 2004, 1037, 17689, 1010, 20071, 2002, 2071, 2079, 2505, 4276, 18625, 1012, 102], [101, 2151, 29145, 2015, 2064, 1005, 1056, 4875, 1012, 102], [101, 2505, 8440, 1005, 1056, 3047, 2000, 2010, 27451, 1012, 102], [101, 2151, 1997, 1996, 4480, 6684, 2412, 2360, 2505, 1012, 102], [101, 1045, 2134, 1005, 1056, 2424, 2151, 12883, 1999, 2026, 2793, 1012, 102], [101, 6343, 2409, 2068, 2505, 1012, 102], [101, 2196, 2031, 1045, 7376, 2013, 2151, 2372, 1997, 2115, 2155, 1012, 102], [101, 2339, 4033, 1005, 1056, 2151, 2808, 2042, 2513, 1029, 102], [101, 6684, 2151, 1997, 1996, 4480, 2412, 2360, 2505, 1012, 102], [101, 2122, 3210, 2020, 2517, 2011, 2028, 1997, 4420, 1005, 1055, 2087, 3297, 9736, 1012, 102], [101, 1996, 20293, 6778, 2001, 4593, 4930, 2076, 1996, 2220, 2851, 2847, 1012, 102], [101, 7889, 2064, 2022, 5159, 2012, 2151, 6466, 1012, 102], [101, 2076, 1996, 2220, 3944, 1010, 14784, 2064, 2022, 2179, 1999, 1996, 2167, 1010, 2096, 13035, 9466, 1999, 1996, 2264, 1012, 102], [101, 1045, 8542, 2322, 23675, 2015, 1997, 5648, 2046, 1996, 23525, 2121, 1012, 102], [101, 2055, 2322, 23675, 2015, 1997, 5648, 2001, 8542, 2046, 1996, 23525, 2121, 1012, 102], [101, 1996, 3237, 2837, 4844, 1996, 2047, 3343, 1012, 102], [101, 1996, 2047, 3343, 2001, 4844, 2011, 1996, 3237, 2837, 1012, 102], [101, 2198, 2038, 2579, 3021, 2000, 1996, 3075, 1012, 102], [101, 2198, 2038, 4217, 3021, 2005, 1996, 2597, 1012, 102], [101, 2198, 2038, 2579, 2000, 1996, 3075, 1012, 102], [101, 2198, 2038, 4217, 2005, 1996, 2597, 1012, 102], [101, 1996, 5009, 2038, 2042, 2579, 2198, 2000, 1996, 3075, 1012, 102], [101, 1996, 2533, 2038, 2042, 4217, 2198, 2005, 1996, 2597, 1012, 102], [101, 2198, 2038, 2042, 2579, 2000, 1996, 3075, 1012, 102], [101, 2198, 2038, 2042, 4217, 2005, 1996, 2597, 1012, 102], [101, 6986, 4375, 1037, 2338, 2000, 3782, 1012, 102], [101, 6986, 4375, 2000, 3782, 1012, 102], [101, 6986, 4375, 1037, 2338, 1012, 102], [101, 1037, 2338, 2001, 4375, 2000, 3782, 2011, 6986, 1012, 102], [101, 1037, 2338, 2001, 4375, 2011, 6986, 1012, 102], [101, 1037, 2338, 2001, 4375, 2000, 3782, 1012, 102], [101, 1037, 2338, 2001, 4375, 1012, 102], [101, 2027, 2903, 2009, 2000, 2022, 3733, 2000, 5754, 6977, 3841, 1012, 102], [101, 2027, 2903, 4459, 2000, 2022, 3733, 2000, 5754, 6977, 3841, 1012, 102], [101, 2027, 2903, 2045, 2000, 2022, 1037, 5202, 1999, 1996, 3536, 1012, 102], [101, 2009, 2003, 3373, 2000, 2022, 3733, 2000, 5754, 6977, 3841, 1012, 102], [101, 4459, 2003, 3373, 2000, 2022, 3733, 2000, 5754, 6977, 3841, 1012, 102], [101, 2045, 2003, 3373, 2000, 2022, 1037, 5202, 1999, 1996, 3536, 1012, 102], [101, 2053, 2028, 7164, 2008, 2002, 2003, 1037, 7966, 1012, 102], [101, 2053, 2028, 13172, 2008, 2002, 2003, 1037, 7966, 1012, 102], [101, 2008, 2002, 2003, 1037, 7966, 2003, 6878, 2011, 2053, 2028, 1012, 102], [101, 2027, 2903, 1996, 4937, 2000, 2022, 2041, 1997, 1996, 4524, 1012, 102], [101, 1996, 4937, 2003, 3373, 2000, 2022, 2041, 1997, 1996, 4524, 1012, 102], [101, 2198, 5225, 1996, 2482, 1012, 102], [101, 2198, 2001, 4439, 1996, 2482, 1012, 102], [101, 1996, 2482, 2001, 2108, 5533, 1012, 102], [101, 2198, 2097, 3298, 1996, 2482, 1012, 102], [101, 1996, 2482, 2097, 2022, 5533, 1012, 102], [101, 2198, 2038, 5533, 1996, 2482, 1012, 102], [101, 1996, 2482, 2038, 2042, 5533, 1012, 102], [101, 2198, 2038, 2042, 4439, 1996, 2482, 1012, 102], [101, 1996, 2482, 2038, 2042, 2108, 5533, 1012, 102], [101, 1996, 2482, 2097, 2031, 2042, 2108, 5533, 1012, 102], [101, 6986, 4375, 3782, 1037, 3602, 1012, 102], [101, 3782, 2001, 4375, 1037, 3602, 1012, 102], [101, 3782, 2001, 4375, 1037, 3602, 2011, 6986, 1012, 102], [101, 4784, 2024, 2404, 2046, 2336, 1005, 1055, 4641, 2011, 2694, 1012, 102], [101, 7483, 1010, 1996, 2775, 2428, 6476, 1037, 10608, 1999, 1996, 2395, 1012, 102], [101, 1996, 2944, 12950, 5035, 1999, 3053, 2296, 6987, 1012, 102], [101, 5035, 2003, 15881, 2011, 1996, 2944, 1999, 3053, 2296, 6987, 1012, 102], [101, 2017, 2024, 2025, 7130, 2011, 1996, 5435, 1012, 102], [101, 1045, 2001, 2141, 1999, 3359, 1012, 102], [101, 2009, 2003, 22710, 2008, 2002, 2003, 2006, 2010, 2126, 2041, 1012, 102], [101, 2198, 2003, 2056, 2000, 2022, 4138, 1012, 102], [101, 2002, 2003, 22353, 2000, 2022, 1037, 2204, 6288, 1012, 102], [101, 2026, 2388, 8501, 2033, 1999, 3359, 1012, 102], [101, 3071, 22710, 2008, 2002, 2001, 2006, 2010, 2126, 2041, 1012, 102], [101, 2027, 2056, 2032, 2000, 2022, 4138, 1012, 102], [101, 2027, 22353, 2032, 2000, 2022, 1037, 2204, 6288, 1012, 102], [101, 2002, 6476, 1996, 3608, 1012, 102], [101, 1996, 3608, 2001, 6476, 2011, 2032, 1012, 102], [101, 2198, 6476, 2032, 1012, 102], [101, 2002, 2001, 6476, 2011, 2198, 1012, 102], [101, 2198, 2741, 2014, 2000, 10884, 1012, 102], [101, 2016, 2001, 2741, 2000, 10884, 1012, 102], [101, 2027, 4235, 3373, 2008, 2198, 2001, 5665, 1012, 102], [101, 2008, 2198, 2001, 5665, 2001, 4235, 3373, 1012, 102], [101, 2027, 4033, 1005, 1056, 2787, 2029, 4905, 2097, 2507, 1996, 5494, 6685, 1012, 102], [101, 2029, 4905, 2097, 2507, 1996, 5494, 6685, 8440, 1005, 1056, 2042, 2787, 1012, 102], [101, 2029, 4905, 2097, 2507, 1996, 5494, 6685, 8440, 1005, 1056, 2042, 2787, 2011, 2068, 1012, 102], [101, 2017, 2064, 11160, 2006, 3841, 1012, 102], [101, 3841, 2064, 2022, 13538, 2006, 1012, 102], [101, 2027, 5720, 2055, 1996, 9446, 2005, 2420, 1012, 102], [101, 1996, 9446, 2001, 5720, 2055, 2005, 2420, 1012, 102], [101, 1996, 3277, 2001, 9411, 2007, 13364, 1012, 102], [101, 2008, 1005, 1055, 2025, 2054, 1005, 1055, 2356, 2005, 1012, 102], [101, 2023, 2323, 2022, 3230, 2000, 3202, 1012, 102], [101, 1996, 3007, 2001, 5935, 2379, 2011, 1037, 4306, 1997, 2111, 1012, 102], [101, 1996, 2980, 3103, 2001, 2209, 2104, 2011, 1996, 2336, 1012, 102], [101, 2008, 1005, 1055, 2242, 1045, 2052, 2031, 3825, 3807, 2005, 1012, 102], [101, 2122, 2024, 1996, 2808, 2008, 2057, 2031, 2908, 2087, 12246, 2058, 1012, 102], [101, 2027, 2298, 3227, 2006, 2198, 2004, 14337, 1012, 102], [101, 2673, 2001, 3825, 3807, 2005, 1012, 102], [101, 2115, 2808, 2020, 2908, 2087, 12246, 2058, 1012, 102], [101, 2002, 2003, 2246, 3227, 2006, 2004, 14337, 1012, 102], [101, 6643, 10755, 21325, 13538, 2006, 28779, 1998, 5416, 2006, 22004, 1012, 102], [101, 6643, 10755, 21325, 13538, 2006, 28779, 1998, 5416, 22004, 1012, 102], [101, 28779, 2001, 13538, 2006, 2011, 6643, 10755, 21325, 1998, 22004, 2011, 5416, 1012, 102], [101, 28779, 2001, 13538, 2006, 2011, 6643, 10755, 21325, 1998, 22004, 2006, 2011, 5416, 1012, 102], [101, 1996, 5160, 2246, 2046, 1996, 6254, 1012, 102], [101, 1996, 6254, 2001, 2246, 2046, 2011, 1996, 5160, 1012, 102], [101, 2848, 2038, 2042, 2356, 2000, 12897, 1012, 102], [101, 1045, 7868, 1996, 3043, 2000, 2031, 2042, 6406, 1999, 1996, 6413, 2636, 1012, 102], [101, 3044, 4122, 1996, 3861, 2000, 2022, 3718, 2013, 1996, 2436, 1012, 102], [101, 1996, 2824, 2031, 2042, 2649, 2092, 1012, 102], [101, 2058, 6036, 2367, 9530, 15464, 3981, 7666, 2031, 2042, 14019, 2046, 1996, 2314, 1012, 102], [101, 1996, 13212, 2003, 10959, 1999, 2019, 2181, 1997, 3796, 4270, 1998, 2003, 29561, 1012, 102], [101, 4456, 2003, 2085, 2245, 2000, 2022, 9832, 2000, 2022, 3303, 2011, 2980, 6077, 1012, 102], [101, 3251, 2023, 2003, 22945, 8440, 1005, 1056, 2664, 2042, 4340, 1012, 102], [101, 7079, 7773, 2064, 1005, 1056, 2022, 9511, 1012, 102], [101, 2009, 8440, 1005, 1056, 2664, 2042, 4340, 3251, 2023, 2003, 22945, 1012, 102], [101, 10360, 2038, 2018, 1996, 2852, 29040, 12176, 1012, 102], [101, 11280, 3849, 2000, 2031, 5965, 3755, 1012, 102], [101, 9401, 2288, 3021, 2700, 2000, 1996, 2837, 1012, 102], [101, 2057, 2288, 2256, 2482, 2557, 7376, 3807, 2006, 6209, 1012, 102], [101, 10360, 2038, 2018, 2014, 4550, 1996, 2852, 29040, 1012, 102], [101, 9401, 2288, 2068, 2000, 11322, 3021, 1012, 102], [101, 1996, 2739, 2001, 9411, 2007, 5362, 1012, 102], [101, 1996, 3392, 2001, 2246, 2044, 2011, 5035, 1012, 102], [101, 2057, 3685, 2404, 2039, 2007, 1996, 5005, 4902, 1012, 102], [101, 2002, 2097, 2562, 2039, 2007, 2037, 10908, 1012, 102], [101, 2023, 5005, 3685, 2022, 2404, 2039, 2007, 1012, 102], [101, 2037, 10908, 2097, 2022, 2921, 2039, 2007, 1012, 102], [101, 2027, 3825, 1037, 2843, 1997, 3086, 2000, 1996, 3043, 1012, 102], [101, 1996, 2365, 2165, 2729, 1997, 2010, 3008, 1012, 102], [101, 1996, 3043, 2001, 3825, 1037, 2843, 1997, 3086, 2000, 1012, 102], [101, 1037, 2843, 1997, 3086, 2001, 3825, 2000, 1996, 3043, 1012, 102], [101, 2047, 2259, 2001, 7771, 1999, 1012, 102], [101, 1996, 2697, 2001, 27077, 3875, 2011, 2026, 2905, 1012, 102], [101, 1996, 2697, 2003, 2025, 2000, 2022, 27077, 3875, 2011, 10334, 1012, 102], [101, 2416, 5282, 2020, 4961, 2011, 1996, 2879, 1012, 102], [101, 1037, 3542, 2000, 2147, 2001, 2448, 2011, 2032, 1012, 102], [101, 1996, 13435, 2020, 4961, 2011, 1996, 19785, 1012, 102], [101, 1996, 22088, 2015, 2020, 12781, 2011, 1996, 24665, 10085, 2121, 1012, 102], [101, 2624, 3799, 2038, 2042, 2973, 1999, 2011, 2026, 2567, 1012, 102], [101, 1996, 2160, 2038, 2042, 2973, 1999, 2011, 2195, 3297, 16115, 8449, 1012, 102], [101, 10884, 2001, 7771, 1999, 2011, 1996, 6883, 2197, 2305, 1012, 102], [101, 2023, 2793, 2001, 7543, 7771, 1999, 2011, 1037, 4121, 3124, 2197, 2305, 1012, 102], [101, 15820, 2288, 4930, 2011, 7407, 1012, 102], [101, 1045, 2288, 3042, 2094, 2011, 1037, 2450, 2767, 1012, 102], [101, 2002, 2288, 2718, 1999, 1996, 2227, 2007, 1996, 5955, 1997, 1037, 14175, 6277, 1012, 102], [101, 2198, 1005, 1055, 7997, 2288, 4964, 2030, 2288, 7376, 1012, 102], [101, 1996, 10800, 2288, 3191, 2011, 1037, 5011, 1012, 102], [101, 1996, 3661, 2288, 2517, 2011, 1037, 4802, 1012, 102], [101, 3419, 2288, 5319, 2000, 2031, 2356, 2005, 1037, 25416, 8630, 1012, 102], [101, 2984, 2288, 2657, 2000, 15301, 2014, 3008, 1012, 102], [101, 2003, 2198, 12266, 1029, 102], [101, 2040, 2003, 12266, 1029, 102], [101, 2129, 12266, 2017, 2024, 999, 102], [101, 2022, 2200, 12266, 1012, 102], [101, 1045, 3198, 2017, 2065, 2023, 2003, 2054, 2017, 2215, 1012, 102], [101, 2052, 2017, 2568, 2635, 2041, 1996, 13044, 1029, 102], [101, 2064, 1996, 2775, 3191, 1996, 2338, 1029, 102], [101, 2054, 2064, 1996, 2775, 3191, 1029, 102], [101, 2029, 2544, 2106, 2027, 16755, 1029, 102], [101, 2007, 2054, 2106, 1996, 3336, 4521, 1996, 2833, 1029, 102], [101, 2129, 2106, 2002, 4521, 1996, 2833, 1029, 102], [101, 2029, 2158, 2106, 2017, 2831, 2000, 1029, 102], [101, 2000, 2029, 2158, 2106, 2017, 2831, 1029, 102], [101, 2129, 5665, 2038, 23748, 2042, 1029, 102], [101, 2029, 2158, 2106, 2017, 2831, 1029, 102], [101, 2000, 2029, 2158, 2106, 2017, 2831, 2000, 1029, 102], [101, 2040, 2079, 2017, 2228, 23748, 8078, 2984, 2056, 3419, 2387, 1029, 102], [101, 2040, 2106, 5035, 2147, 2005, 1998, 7525, 11160, 2006, 1029, 102], [101, 2040, 2106, 5035, 2147, 2005, 1998, 7525, 11160, 1029, 102], [101, 2040, 2106, 5035, 2147, 2005, 1998, 7525, 11160, 2006, 2984, 1029, 102], [101, 2017, 2064, 11160, 2006, 3487, 1005, 1055, 2393, 1012, 102], [101, 3487, 1005, 1055, 2393, 1010, 2017, 2064, 11160, 2006, 1012, 102], [101, 2057, 5720, 2055, 1996, 2755, 2008, 2002, 2001, 5305, 2005, 2420, 1012, 102], [101, 1996, 2755, 2008, 2002, 2001, 5305, 2005, 2420, 1010, 2057, 5720, 2055, 1012, 102], [101, 2017, 2064, 11160, 2006, 2008, 2002, 2097, 2393, 2017, 1012, 102], [101, 2057, 5720, 2055, 2008, 2002, 2001, 5305, 2005, 2420, 1012, 102], [101, 2008, 2002, 2001, 5305, 1010, 2057, 5720, 2055, 2005, 2420, 1012, 102], [101, 2008, 12563, 2123, 1005, 1056, 2644, 1999, 3054, 11215, 2003, 4110, 2011, 2023, 3399, 1012, 102], [101, 2040, 2106, 2017, 2156, 1998, 1037, 3861, 1997, 1029, 102], [101, 2122, 11647, 6749, 2032, 2000, 6291, 1012, 102], [101, 1996, 4895, 6749, 2019, 11792, 28364, 2486, 1012, 102], [101, 2023, 2003, 1996, 2338, 2029, 1996, 3836, 6749, 1012, 102], [101, 2040, 2097, 2027, 16755, 1029, 102], [101, 2198, 2404, 1996, 2808, 1999, 1037, 3482, 1012, 102], [101, 2029, 2808, 2106, 2198, 2404, 1999, 1996, 3482, 1029, 102], [101, 2073, 2106, 2198, 2404, 1996, 2808, 1029, 102], [101, 1999, 2029, 3482, 2106, 2198, 2404, 1996, 2338, 1029, 102], [101, 2129, 3407, 2038, 2198, 2042, 1029, 102], [101, 2040, 2404, 1996, 2338, 1999, 1996, 3482, 1029, 102], [101, 2040, 2106, 2404, 1996, 2338, 1999, 1996, 3482, 1029, 102], [101, 2040, 2064, 2404, 1996, 2338, 1999, 1996, 3482, 1029, 102], [101, 2040, 2079, 2017, 2228, 4716, 10884, 2197, 2095, 1029, 102], [101, 2008, 1005, 1055, 1996, 4895, 11849, 2008, 1996, 2231, 6732, 7879, 10884, 2197, 2095, 1012, 102], [101, 2040, 2079, 2017, 2903, 2008, 7354, 4778, 1029, 102], [101, 2040, 2079, 2017, 2903, 4778, 7354, 1029, 102], [101, 2040, 2079, 2017, 2903, 2008, 4778, 7354, 1029, 102], [101, 2040, 2079, 2017, 2228, 2008, 2052, 2022, 4222, 2005, 1996, 2597, 1029, 102], [101, 2023, 2003, 1996, 2785, 1997, 2711, 2040, 1045, 4797, 2008, 2104, 3671, 6214, 2052, 2031, 2505, 2000, 2079, 2007, 2107, 1037, 5679, 1012, 102], [101, 2198, 5176, 3005, 2338, 2010, 2365, 7777, 1012, 102], [101, 2198, 2038, 6404, 2029, 2447, 2010, 2365, 6626, 2012, 1012, 102], [101, 2002, 2409, 2033, 2129, 2116, 5126, 8129, 3107, 2000, 1996, 5731, 1012, 102], [101, 2002, 2018, 2042, 3752, 1996, 3720, 1012, 102], [101, 3419, 6380, 2029, 2338, 2002, 2018, 2042, 3752, 1012, 102], [101, 3419, 3555, 2129, 2172, 2769, 2016, 2018, 2985, 1012, 102], [101, 2198, 24849, 2008, 2002, 2323, 3191, 2009, 1012, 102], [101, 2848, 2097, 5630, 2008, 2057, 2323, 3319, 1996, 2338, 1012, 102], [101, 2198, 24849, 2029, 2338, 2002, 2323, 3191, 1012, 102], [101, 2848, 2097, 5630, 2029, 2338, 2057, 2323, 3319, 1012, 102], [101, 2198, 2409, 2149, 2008, 2057, 2323, 3319, 1996, 2338, 1012, 102], [101, 2198, 2409, 2149, 2029, 2338, 2057, 2323, 3319, 1012, 102], [101, 1999, 2029, 3482, 2106, 2002, 2404, 1996, 2338, 1029, 102], [101, 2029, 2338, 2011, 2010, 2269, 2106, 2002, 3191, 1029, 102], [101, 2198, 5176, 1999, 2029, 3482, 2002, 2404, 1996, 2338, 1012, 102], [101, 2198, 5176, 2029, 2338, 2011, 2010, 2269, 2002, 3191, 1012, 102], [101, 5035, 2038, 4999, 1999, 2029, 2282, 5639, 4370, 1012, 102], [101, 3389, 2356, 2033, 2129, 13545, 1997, 7967, 2015, 1996, 17059, 2024, 1012, 102], [101, 5035, 2038, 4999, 2008, 5639, 4370, 1999, 1996, 2282, 1012, 102], [101, 5035, 2356, 2033, 2008, 1996, 17059, 2024, 2200, 13545, 1997, 7967, 2015, 1012, 102], [101, 2198, 4282, 3005, 2338, 2984, 4149, 1998, 3419, 11780, 2013, 2014, 1012, 102], [101, 2198, 4282, 3005, 2338, 2984, 4149, 1998, 3419, 5720, 1012, 102], [101, 1045, 2123, 1005, 1056, 2113, 3251, 1045, 2323, 5993, 1012, 102], [101, 2016, 4152, 6314, 2065, 1045, 23329, 2014, 2013, 2505, 1012, 102], [101, 2016, 4152, 6314, 3251, 1045, 23329, 2014, 2013, 2505, 1012, 102], [101, 1045, 4687, 2065, 2017, 1005, 1040, 2022, 2785, 2438, 2000, 2507, 2149, 2592, 1012, 102], [101, 1045, 2572, 2025, 3056, 2055, 2043, 2002, 2097, 2272, 1012, 102], [101, 1045, 2572, 2025, 3056, 2055, 3251, 2002, 2097, 2175, 2030, 2025, 1012, 102], [101, 1045, 2572, 2025, 3056, 2055, 2065, 2002, 2097, 2272, 1012, 102], [101, 1045, 2572, 2025, 3056, 2055, 2065, 2002, 2097, 2175, 2030, 2025, 1012, 102], [101, 1045, 2123, 1005, 1056, 2113, 2073, 2000, 2175, 1012, 102], [101, 1045, 2123, 1005, 1056, 2113, 2054, 2000, 2079, 1012, 102], [101, 1045, 2123, 1005, 1056, 2113, 2129, 2000, 2079, 2009, 1012, 102], [101, 1045, 2123, 1005, 1056, 2113, 3251, 2000, 5993, 2007, 2032, 2030, 2025, 1012, 102], [101, 1045, 2123, 1005, 1056, 2113, 2065, 2000, 5993, 2007, 2032, 1012, 102], [101, 1045, 2123, 1005, 1056, 2113, 2008, 2000, 5993, 2007, 2032, 2030, 2025, 1012, 102], [101, 5965, 4282, 2029, 3761, 2000, 2490, 1012, 102], [101, 8129, 2356, 2073, 2000, 2404, 1996, 8397, 1012, 102], [101, 1996, 3076, 5123, 2032, 1012, 102], [101, 2040, 5123, 2032, 1029, 102], [101, 2000, 4047, 2032, 2003, 2025, 2019, 3733, 4708, 1012, 102], [101, 5965, 4282, 2029, 3761, 2005, 8129, 2000, 3789, 2005, 1012, 102], [101, 5965, 4282, 2029, 3761, 2005, 2014, 2000, 3789, 2005, 1012, 102], [101, 8129, 2356, 2073, 2005, 6128, 2000, 2404, 1996, 8397, 1012, 102], [101, 8129, 2356, 2073, 2005, 2032, 2000, 2404, 1996, 8397, 1012, 102], [101, 2129, 5362, 2031, 2017, 2641, 2115, 2925, 2476, 1029, 102], [101, 2043, 2064, 2057, 4236, 2005, 7665, 1029, 102], [101, 2073, 2079, 2057, 2175, 2000, 4236, 2005, 7665, 1029, 102], [101, 2339, 2031, 2017, 11780, 2026, 14745, 1029, 102], [101, 2043, 2106, 2002, 2360, 2008, 2002, 2001, 5045, 1029, 102], [101, 2073, 2106, 2002, 2425, 2017, 2008, 2002, 2777, 2984, 1029, 102], [101, 2339, 2079, 2017, 4687, 3251, 2016, 2097, 13260, 2033, 1029, 102], [101, 2129, 2411, 2106, 2002, 3198, 2043, 2016, 2097, 3113, 2012, 1996, 2283, 1029, 102], [101, 2054, 5320, 2493, 2000, 7276, 3327, 15279, 1029, 102], [101, 2040, 2097, 2198, 3198, 2005, 2592, 2055, 2621, 5352, 1029, 102], [101, 2029, 16432, 2106, 1996, 3836, 2224, 1999, 1996, 2465, 2197, 2621, 1029, 102], [101, 3005, 2482, 2003, 10851, 1996, 4211, 2000, 1996, 3573, 1029, 102], [101, 2339, 2079, 2017, 2228, 2002, 2187, 1029, 102], [101, 2040, 2079, 2017, 3984, 2097, 2022, 2182, 1029, 102], [101, 2040, 2079, 2017, 2228, 11780, 2026, 2338, 1029, 102], [101, 2029, 2103, 2515, 5965, 2228, 2008, 2017, 2903, 2008, 2198, 3268, 1999, 1029, 102], [101, 1045, 4687, 2006, 2029, 11142, 2198, 2097, 2404, 1996, 2338, 1029, 102], [101, 2054, 6947, 2008, 2002, 2038, 20467, 2031, 2017, 2179, 1029, 102], [101, 3312, 2038, 6404, 2129, 2116, 3503, 2002, 2038, 2180, 1012, 102], [101, 5965, 2097, 11582, 9246, 2008, 2016, 2323, 4366, 2008, 2014, 2567, 2003, 14314, 1012, 102], [101, 2008, 3021, 2699, 2000, 7523, 2029, 13065, 5650, 2404, 1996, 2769, 1999, 2081, 2149, 5382, 2008, 2057, 2323, 2031, 2187, 2032, 1999, 10884, 1012, 102], [101, 14791, 16278, 2029, 2338, 2002, 2323, 3535, 2000, 13984, 2010, 2493, 2000, 4965, 1012, 102], [101, 1045, 4687, 2065, 2006, 2029, 2016, 2140, 3726, 2198, 2097, 2404, 1996, 2338, 1012, 102], [101, 1045, 4687, 2054, 2103, 2008, 10900, 3908, 1012, 102], [101, 2198, 2001, 6603, 2000, 3183, 2002, 2001, 7727, 2000, 1012, 102], [101, 2040, 2079, 2017, 2228, 2008, 2038, 2445, 1996, 9735, 2000, 3021, 1029, 102], [101, 2054, 2103, 2097, 5965, 2360, 2008, 2984, 6732, 2008, 2198, 3268, 1029, 102], [101, 2006, 3183, 2515, 11271, 2903, 3782, 4282, 7525, 20278, 1029, 102], [101, 1996, 3761, 6380, 2129, 1996, 7116, 2001, 17672, 1012, 102], [101, 5965, 4282, 2029, 2338, 2005, 1996, 2336, 2000, 3191, 2076, 1996, 2621, 10885, 1012, 102], [101, 2023, 3791, 2273, 4667, 1012, 102], [101, 2023, 3791, 2273, 4667, 1996, 10818, 1012, 102], [101, 2002, 2273, 5732, 1012, 102], [101, 2002, 2273, 5732, 1996, 10818, 1012, 102], [101, 2023, 3791, 11538, 1012, 102], [101, 2023, 3791, 11538, 1996, 3291, 1012, 102], [101, 2027, 10847, 1012, 102], [101, 2027, 10847, 1996, 3291, 1012, 102], [101, 1996, 2678, 2029, 2017, 6749, 2001, 2428, 27547, 1012, 102], [101, 1996, 2678, 2029, 1045, 2245, 2017, 6749, 2001, 2428, 27547, 1012, 102], [101, 1996, 2678, 2029, 1045, 2245, 2198, 2409, 2149, 2017, 6749, 2001, 2428, 27547, 1012, 102], [101, 1996, 3076, 2040, 2180, 1996, 3396, 2187, 1012, 102], [101, 1996, 3076, 2040, 3071, 7777, 2187, 1012, 102], [101, 1996, 2711, 3183, 2198, 2435, 1996, 2338, 2000, 2187, 1012, 102], [101, 1996, 2154, 2043, 1045, 2777, 2014, 2001, 11559, 1012, 102], [101, 1996, 2343, 2040, 5965, 5444, 2005, 2038, 5295, 1012, 102], [101, 1996, 2343, 2008, 5965, 5444, 2005, 18959, 2015, 2010, 7892, 1012, 102], [101, 1996, 2343, 5965, 5444, 2005, 2038, 5295, 1012, 102], [101, 2038, 2053, 5816, 4013, 3630, 4609, 2012, 2035, 1012, 102], [101, 2002, 2003, 1996, 2785, 1997, 2711, 2007, 3183, 2000, 23363, 1012, 102], [101, 2122, 2024, 1996, 2477, 2005, 2029, 2000, 2022, 18836, 1012, 102], [101, 2057, 2097, 13260, 7314, 2006, 3183, 2000, 2147, 1012, 102], [101, 2023, 2003, 1996, 3076, 4620, 1997, 3183, 2596, 1999, 1996, 3780, 1012, 102], [101, 4620, 1997, 3183, 2596, 1999, 1996, 3780, 1029, 102], [101, 1996, 2111, 3407, 2007, 1996, 6378, 2187, 1012, 102], [101, 1996, 2711, 3061, 2006, 2026, 3329, 2003, 3082, 1012, 102], [101, 1996, 3259, 2000, 3926, 2011, 4826, 2003, 2205, 2146, 1012, 102], [101, 1996, 2711, 3233, 2006, 2026, 3329, 2003, 3082, 1012, 102], [101, 1996, 2711, 2768, 2006, 2026, 3329, 2003, 3082, 1012, 102], [101, 1996, 3076, 2777, 1996, 5205, 2198, 2777, 3021, 1012, 102], [101, 1996, 3076, 2777, 1996, 5205, 2008, 2198, 2777, 3021, 1012, 102], [101, 1996, 3076, 2777, 1996, 5205, 2005, 2198, 2000, 3113, 3021, 1012, 102], [101, 2990, 2003, 1996, 2711, 3183, 8437, 3062, 1999, 2293, 2007, 1012, 102], [101, 2990, 2003, 1996, 2711, 2007, 3183, 8437, 3062, 1999, 2293, 1012, 102], [101, 2990, 2003, 1996, 2711, 3183, 8437, 3062, 1999, 2293, 1012, 102], [101, 1045, 2777, 1996, 6232, 3005, 12629, 1045, 2359, 2000, 4874, 2000, 1012, 102], [101, 2023, 2003, 1996, 2767, 2005, 3005, 2388, 5035, 2435, 1037, 2283, 1012, 102], [101, 1996, 3836, 2275, 2149, 1037, 3291, 1996, 3437, 2000, 2029, 2057, 2064, 2424, 1999, 1996, 16432, 1012, 102], [101, 2057, 2170, 1996, 10153, 2040, 2777, 5965, 1012, 102], [101, 1996, 4845, 3856, 2039, 1996, 6207, 2008, 3062, 2091, 2006, 1996, 2598, 1012, 102], [101, 1996, 3076, 2777, 2198, 2234, 1012, 102], [101, 1996, 3291, 18896, 2149, 11250, 2033, 1012, 102], [101, 2002, 2081, 1037, 4861, 2029, 3071, 2245, 2001, 2428, 5875, 1998, 2590, 1012, 102], [101, 2027, 2035, 3530, 2000, 2421, 2216, 5609, 2029, 3071, 3373, 2018, 2042, 12421, 2013, 1996, 5036, 1012, 102], [101, 2984, 4282, 2008, 2198, 2001, 2700, 1012, 102], [101, 2008, 2198, 2001, 2700, 4527, 3581, 1012, 102], [101, 2984, 2409, 3021, 2008, 2198, 2001, 2700, 1012, 102], [101, 2023, 2003, 1996, 2338, 2008, 2057, 2018, 3191, 1012, 102], [101, 1996, 2343, 4704, 1996, 2111, 2008, 5444, 2005, 2032, 1012, 102], [101, 2009, 2003, 2019, 6685, 2008, 2111, 2228, 2097, 2196, 2203, 1999, 5279, 1012, 102], [101, 2296, 9491, 2016, 1005, 1055, 2517, 1998, 2029, 1045, 1005, 2310, 3191, 2003, 2006, 2008, 8632, 1012, 102], [101, 2296, 9491, 2016, 1005, 1055, 2517, 1998, 2008, 1045, 1005, 2310, 3191, 2003, 2006, 2008, 8632, 1012, 102], [101, 2296, 9491, 2029, 2016, 1005, 1055, 2517, 1998, 2008, 1045, 1005, 2310, 3191, 2003, 2006, 2008, 8632, 1012, 102], [101, 2296, 9491, 2008, 2016, 1005, 1055, 2517, 1998, 2029, 1045, 1005, 2310, 3191, 2003, 2006, 2008, 8632, 1012, 102], [101, 1996, 3076, 3005, 2735, 2009, 2001, 2187, 1012, 102], [101, 1996, 3076, 2008, 1005, 1055, 2735, 2009, 2001, 2187, 1012, 102], [101, 1996, 14745, 2007, 2029, 2002, 2003, 3015, 3631, 1012, 102], [101, 1996, 14745, 2007, 2008, 2002, 2003, 3015, 3631, 1012, 102], [101, 1037, 14745, 2007, 2029, 2000, 4339, 3631, 1012, 102], [101, 1037, 14745, 2007, 2008, 2000, 4339, 3631, 1012, 102], [101, 1996, 2111, 1999, 2040, 2057, 2872, 2256, 3404, 2187, 1012, 102], [101, 1996, 2711, 2007, 2040, 2057, 2020, 3331, 2187, 1012, 102], [101, 1996, 2194, 1999, 2029, 2027, 2031, 11241, 2187, 1012, 102], [101, 1996, 2111, 1999, 3005, 2160, 2057, 4370, 2187, 1012, 102], [101, 1996, 2711, 2007, 3183, 2002, 2371, 2087, 6625, 2187, 1012, 102], [101, 2002, 4149, 1037, 6847, 2006, 2029, 2000, 4133, 1012, 102], [101, 2002, 4149, 1037, 18097, 1999, 2029, 2000, 2404, 1996, 5404, 1012, 102], [101, 2045, 2003, 1037, 6847, 2005, 2017, 2000, 4133, 2006, 1012, 102], [101, 8129, 2356, 2073, 2005, 2899, 2000, 2404, 1996, 8397, 1012, 102], [101, 1996, 2711, 1045, 2777, 2003, 2013, 3731, 1012, 102], [101, 1996, 3482, 2057, 2404, 1996, 2808, 1999, 2003, 10203, 1012, 102], [101, 2002, 2081, 1037, 4861, 3071, 2245, 2001, 5875, 1998, 2590, 1012, 102], [101, 2027, 2035, 3530, 2000, 2421, 2216, 5609, 3071, 3373, 2018, 2042, 12421, 2013, 1996, 5036, 1012, 102], [101, 1045, 2074, 2113, 2008, 1996, 2502, 2260, 2148, 2780, 3071, 2354, 2052, 2663, 2941, 2180, 1996, 2208, 1012, 102], [101, 1996, 2711, 2040, 2198, 2356, 2005, 2393, 6732, 2002, 2003, 13219, 1012, 102], [101, 2984, 1010, 2040, 2198, 2356, 2005, 2393, 1010, 6732, 2002, 2003, 13219, 1012, 102], [101, 2198, 2038, 2048, 5208, 1010, 2040, 2150, 9559, 1012, 102], [101, 1045, 2777, 1996, 3203, 2013, 2605, 2040, 7502, 18237, 2229, 1012, 102], [101, 1045, 2777, 2198, 2040, 7502, 18237, 2229, 1012, 102], [101, 1045, 2777, 2014, 2040, 7502, 18237, 2229, 1012, 102], [101, 1999, 1996, 9823, 1010, 1996, 3836, 5868, 2198, 1010, 3183, 1045, 2036, 4847, 1012, 102], [101, 11531, 1010, 3183, 1996, 10643, 4222, 1999, 3150, 1010, 2973, 2087, 1997, 2010, 2166, 1999, 2662, 1012, 102], [101, 2296, 3076, 2040, 3230, 1996, 2283, 2018, 1037, 2204, 2051, 1012, 102], [101, 2296, 3076, 1010, 2040, 3230, 1996, 2283, 1010, 2018, 1037, 2204, 2051, 1012, 102], [101, 2053, 3076, 2040, 3195, 3770, 2030, 2062, 1999, 1996, 11360, 2001, 2412, 3478, 1012, 102], [101, 2053, 3076, 1010, 2040, 3195, 3770, 2030, 2062, 1999, 1996, 11360, 1010, 2001, 2412, 3478, 1012, 102], [101, 1996, 10832, 2040, 2180, 1996, 2034, 3396, 1010, 2040, 2003, 1996, 3648, 1005, 1055, 2567, 1011, 1999, 1011, 2375, 1010, 6369, 21794, 2135, 1012, 102], [101, 1996, 10832, 1010, 2040, 2003, 1996, 3648, 1005, 1055, 2567, 1011, 1999, 1011, 2375, 1010, 2040, 2180, 1996, 2034, 3396, 6369, 21794, 2135, 1012, 102], [101, 2002, 2040, 11680, 2197, 11680, 2190, 1012, 102], [101, 2002, 2040, 2003, 2302, 8254, 2426, 2017, 1010, 2292, 2032, 3459, 1996, 2034, 2962, 1012, 102], [101, 2040, 2106, 2002, 2903, 2008, 2002, 2052, 2028, 2154, 3113, 1029, 102], [101, 2029, 8958, 2106, 2002, 5254, 2008, 2002, 2018, 2448, 2046, 1029, 102], [101, 2040, 2106, 2002, 2903, 1996, 4366, 2008, 2002, 2018, 2196, 2777, 1029, 102], [101, 2029, 8958, 2106, 2002, 5254, 1996, 2755, 2008, 2002, 2018, 2448, 2046, 1029, 102], [101, 1996, 5442, 2029, 2002, 4711, 2046, 1996, 2712, 2018, 1037, 2751, 5047, 1012, 102], [101, 1996, 5442, 2008, 2002, 4711, 2046, 1996, 2712, 2018, 1037, 2751, 5047, 1012, 102], [101, 1996, 5442, 1010, 2029, 2002, 4711, 2046, 1996, 2712, 2018, 1037, 2751, 5047, 1012, 102], [101, 1996, 5442, 1010, 2008, 2002, 4711, 2046, 1996, 2712, 2018, 1037, 2751, 5047, 1012, 102], [101, 3021, 12984, 15264, 1998, 8871, 1996, 10447, 1012, 102], [101, 2054, 2106, 3021, 5660, 1998, 9378, 1996, 10447, 1029, 102], [101, 2054, 2106, 3021, 5660, 15264, 1998, 9378, 1029, 102], [101, 2002, 25416, 12926, 1996, 6947, 2008, 2017, 3685, 2675, 2009, 1012, 102], [101, 2054, 2106, 2002, 25416, 10421, 1996, 6947, 2008, 2017, 3685, 2675, 1029, 102], [101, 2027, 2777, 2619, 2040, 4282, 1996, 2934, 1012, 102], [101, 2029, 2934, 2106, 2027, 3113, 2619, 2040, 4282, 1029, 102], [101, 2008, 2002, 2038, 2777, 1996, 2934, 2003, 5186, 9832, 1012, 102], [101, 2040, 2003, 2008, 2002, 2038, 2777, 5186, 9832, 1029, 102], [101, 2016, 4149, 2198, 1005, 1055, 2338, 1012, 102], [101, 2106, 2198, 4687, 2040, 2052, 2663, 1996, 2208, 1029, 102], [101, 2054, 2106, 2198, 4687, 2040, 2052, 2663, 1029, 102], [101, 2054, 2106, 2002, 2131, 1996, 8605, 2008, 1996, 3291, 2428, 2001, 1029, 102], [101, 2023, 2003, 1996, 3259, 2008, 2057, 2428, 2342, 2000, 2424, 1996, 22978, 2040, 19821, 1012, 102], [101, 2029, 8443, 3003, 2106, 2017, 2963, 23745, 1005, 1055, 19075, 2008, 1996, 9915, 16370, 1029, 102], [101, 2493, 4607, 2152, 1011, 2504, 4547, 4896, 2453, 2227, 2116, 3471, 8800, 2000, 2817, 14243, 1012, 102], [101, 1037, 3507, 3076, 2387, 2023, 2371, 3374, 2005, 3335, 5035, 1998, 3253, 2014, 2010, 2219, 2338, 1012, 102], [101, 8519, 2035, 5993, 2008, 5544, 3426, 2307, 10089, 1998, 6911, 2024, 2170, 15446, 1012, 102], [101, 1996, 5694, 1997, 1996, 8372, 2037, 3200, 2001, 3908, 1999, 1996, 7071, 2020, 2445, 5741, 3847, 2011, 1996, 2231, 1012, 102], [101, 2023, 2003, 1996, 2338, 2029, 1045, 2342, 2000, 3191, 1012, 102], [101, 1996, 2711, 3183, 2027, 3832, 2000, 3713, 2007, 3530, 2000, 24964, 14905, 28393, 2149, 1012, 102], [101, 1996, 5013, 2008, 9246, 6732, 2008, 3533, 2999, 5366, 4228, 6363, 1012, 102], [101, 1996, 2880, 2000, 3183, 3044, 13190, 1996, 2769, 2038, 2042, 21801, 1012, 102], [101, 1996, 2158, 2006, 3005, 5001, 1996, 13997, 2003, 3564, 2003, 18834, 15928, 2080, 18331, 1012, 102], [101, 2057, 2074, 2736, 1996, 2345, 11360, 1996, 2765, 1997, 2029, 2057, 2064, 2424, 2041, 2279, 2733, 1012, 102], [101, 2054, 2106, 12810, 2707, 2000, 2377, 2069, 2044, 2002, 10749, 1029, 102], [101, 2040, 2106, 12810, 2903, 1996, 4366, 2008, 22673, 1029, 102], [101, 2054, 2001, 2008, 1996, 13468, 8823, 1037, 2613, 4474, 2000, 2017, 1029, 102], [101, 2054, 2106, 2017, 3113, 2619, 2040, 19821, 1029, 102], [101, 1996, 2755, 2008, 6529, 2031, 2085, 2511, 2035, 1996, 9165, 1999, 1996, 2529, 2303, 2003, 2145, 2025, 4235, 2124, 1012, 102], [101, 1996, 2755, 2008, 1996, 6529, 2109, 1996, 6745, 2974, 2000, 20410, 2001, 2988, 2012, 1996, 3522, 3034, 1012, 102], [101, 2027, 6439, 1996, 10293, 2008, 3389, 2081, 1012, 102], [101, 2027, 6439, 1996, 10293, 2008, 3389, 9828, 1012, 102], [101, 2027, 6380, 1996, 4366, 2008, 2057, 2018, 3935, 2011, 9731, 1012, 102], [101, 2027, 6380, 1996, 4366, 2008, 2027, 2323, 3189, 2069, 2000, 2149, 1012, 102], [101, 1996, 3309, 2073, 10778, 12237, 2003, 2108, 2128, 5302, 12662, 2098, 1012, 102], [101, 1996, 2154, 2043, 3958, 2288, 5045, 2001, 1037, 6517, 2154, 2005, 3071, 1012, 102], [101, 2198, 2003, 7823, 2000, 13984, 1012, 102], [101, 2198, 2081, 2009, 3154, 2008, 2002, 2052, 3926, 2009, 2006, 2051, 1012, 102], [101, 2009, 2003, 2198, 2008, 1045, 2777, 2197, 2305, 1999, 1996, 2380, 1012, 102], [101, 1045, 4687, 3183, 7525, 7459, 1012, 102], [101, 2023, 2003, 1996, 3761, 2006, 3183, 7525, 16803, 1012, 102], [101, 2002, 2003, 2524, 2000, 2293, 1012, 102], [101, 2009, 2003, 3733, 2000, 3531, 2198, 1012, 102], [101, 2198, 2003, 3733, 2000, 3531, 1012, 102], [101, 2000, 3531, 2198, 2003, 9461, 1012, 102], [101, 2009, 2003, 9461, 2000, 3531, 2198, 1012, 102], [101, 2198, 2003, 9461, 2000, 3531, 1012, 102], [101, 2000, 3531, 2198, 2003, 7823, 1012, 102], [101, 2009, 2003, 7823, 2000, 3531, 2198, 1012, 102], [101, 2198, 2003, 7823, 2000, 3531, 1012, 102], [101, 2000, 3531, 2198, 2003, 3201, 1012, 102], [101, 2009, 2003, 3201, 2000, 3531, 2198, 1012, 102], [101, 2198, 2003, 3201, 2000, 3531, 1012, 102], [101, 5035, 2003, 3733, 2000, 3531, 1012, 102], [101, 5035, 2003, 9461, 2000, 3531, 1012, 102], [101, 2023, 10658, 2003, 2524, 2000, 2156, 1012, 102], [101, 1996, 2775, 2003, 5263, 2000, 6570, 1012, 102], [101, 1996, 3291, 2003, 3733, 2000, 9611, 1012, 102], [101, 2023, 10658, 2003, 2524, 2000, 2156, 2009, 1012, 102], [101, 1996, 2775, 2003, 5263, 2000, 6570, 2032, 1012, 102], [101, 1996, 3291, 2003, 3733, 2000, 9611, 1996, 3160, 1012, 102], [101, 2198, 2003, 9461, 2000, 11628, 1996, 5776, 1012, 102], [101, 2198, 2003, 9461, 2000, 2424, 1037, 2047, 2188, 1012, 102], [101, 2198, 2003, 9461, 2000, 11628, 1012, 102], [101, 2198, 2003, 9461, 2000, 2424, 1012, 102], [101, 2002, 2072, 2003, 3733, 2000, 3531, 1045, 1012, 102], [101, 2023, 9872, 2097, 2202, 2069, 2274, 2781, 2000, 6011, 1012, 102], [101, 2023, 9872, 2097, 2202, 2069, 2274, 2781, 2000, 5323, 2008, 2002, 4928, 1999, 4479, 1012, 102], [101, 2023, 11969, 2097, 3465, 5035, 1002, 3156, 2000, 8081, 1012, 102], [101, 2023, 1002, 3156, 26470, 2097, 3465, 1996, 2231, 1002, 3156, 1010, 2199, 2000, 6011, 2008, 5205, 3557, 3970, 1012, 102], [101, 5035, 2003, 9461, 2000, 16755, 1012, 102], [101, 2040, 2003, 5035, 9461, 2000, 16755, 1029, 102], [101, 2023, 14681, 2003, 3733, 2000, 2377, 2006, 2023, 3682, 1012, 102], [101, 2029, 3682, 2003, 2023, 14681, 3733, 2000, 2377, 2006, 1029, 102], [101, 2008, 6077, 11286, 5754, 27153, 2111, 1012, 102], [101, 2009, 5754, 27153, 2111, 2008, 6077, 11286, 1012, 102], [101, 2339, 2016, 2409, 2032, 2003, 10599, 1012, 102], [101, 2009, 2003, 10599, 2339, 2016, 2409, 2032, 1012, 102], [101, 2000, 2681, 2061, 2574, 2052, 2022, 4297, 2239, 8159, 13684, 1012, 102], [101, 2009, 2052, 2022, 4297, 2239, 8159, 13684, 2000, 2681, 2061, 2574, 1012, 102], [101, 2009, 2052, 2022, 4297, 2239, 8159, 13684, 2005, 2017, 2000, 2681, 2061, 2574, 1012, 102], [101, 2008, 1996, 28511, 18832, 4447, 13319, 4336, 22995, 2015, 1996, 2822, 2231, 1012, 102], [101, 2009, 22995, 2015, 1996, 2822, 2231, 2008, 1996, 28511, 18832, 4447, 13319, 4336, 1012, 102], [101, 1045, 2903, 1996, 3291, 2000, 2022, 5793, 1012, 102], [101, 1045, 2903, 2008, 1996, 3291, 2003, 2025, 3733, 2000, 2022, 5793, 1012, 102], [101, 1045, 2903, 2009, 2000, 2022, 5793, 2008, 1996, 3291, 2003, 2025, 3733, 1012, 102], [101, 1045, 2079, 2025, 2228, 2009, 29205, 2000, 3198, 2005, 1996, 2709, 1997, 2026, 15002, 1012, 102], [101, 2002, 2081, 2009, 3154, 2002, 2052, 3613, 2000, 2522, 1011, 5452, 2007, 1996, 2142, 3741, 1012, 102], [101, 2027, 1005, 2128, 2025, 4531, 2009, 1037, 6911, 2108, 1999, 1996, 2168, 2436, 1012, 102], [101, 2008, 2017, 2234, 2220, 4527, 2033, 1012, 102], [101, 2009, 4527, 2033, 2008, 2017, 2234, 2220, 1012, 102], [101, 4527, 2033, 2008, 2017, 2234, 2220, 1012, 102], [101, 2008, 3782, 2354, 1996, 3437, 4158, 2000, 6986, 1012, 102], [101, 2009, 4158, 2000, 6986, 2008, 3782, 2354, 1996, 3437, 1012, 102], [101, 2009, 2428, 29526, 2033, 2041, 2008, 2057, 10836, 5712, 1012, 102], [101, 2008, 2057, 10836, 5712, 2428, 19815, 2015, 2033, 2041, 1012, 102], [101, 2008, 2057, 10836, 5712, 2428, 29526, 2033, 2041, 1012, 102], [101, 2009, 2428, 15424, 2008, 2057, 10836, 5712, 1012, 102], [101, 2008, 10882, 3527, 11286, 2015, 5754, 27153, 2033, 1012, 102], [101, 1037, 2158, 2234, 2046, 1996, 2282, 2008, 2053, 2028, 2354, 1012, 102], [101, 1037, 2158, 2234, 2046, 1996, 2282, 2007, 8855, 2606, 1012, 102], [101, 1045, 3191, 1037, 2338, 2076, 1996, 10885, 2029, 2001, 2517, 2011, 16480, 5244, 4801, 1012, 102], [101, 4097, 2179, 1996, 9560, 25198, 1012, 102], [101, 4097, 2179, 2009, 25198, 2008, 2010, 6043, 2081, 2210, 4254, 2006, 5635, 1012, 102], [101, 1045, 2081, 2000, 7392, 1996, 3043, 2026, 7863, 1012, 102], [101, 1045, 2081, 2009, 2026, 7863, 2000, 7392, 1996, 3043, 1012, 102], [101, 1045, 2081, 1996, 4093, 1997, 1996, 3043, 2026, 7863, 1012, 102], [101, 1045, 12533, 2008, 1996, 6467, 18538, 2033, 2000, 2017, 1012, 102], [101, 1045, 12533, 2009, 2000, 2017, 2008, 1996, 6467, 18538, 2033, 1012, 102], [101, 1045, 12533, 2026, 9353, 15549, 28200, 2000, 2017, 1012, 102], [101, 1045, 2903, 6118, 2008, 1996, 2088, 2003, 2461, 1012, 102], [101, 1045, 2903, 2008, 1996, 2088, 2003, 2461, 6118, 1012, 102], [101, 2009, 1005, 1055, 2037, 4252, 3430, 2008, 2057, 1005, 2128, 2478, 1012, 102], [101, 2054, 2057, 1005, 2128, 2478, 2003, 2037, 4252, 3430, 1012, 102], [101, 2037, 4252, 3430, 2003, 2054, 2057, 2024, 2478, 1012, 102], [101, 2057, 2024, 2478, 2037, 4252, 3430, 1012, 102], [101, 1045, 3745, 2115, 3193, 2021, 1045, 2074, 4687, 2339, 2017, 2228, 2008, 1005, 1055, 2204, 1012, 102], [101, 2009, 2001, 1996, 2158, 2008, 4149, 1996, 4790, 2013, 2032, 1012, 102], [101, 2009, 2001, 2059, 2008, 2002, 2371, 1037, 4629, 3255, 1012, 102], [101, 2009, 2001, 2000, 1996, 3076, 2008, 1996, 3836, 2435, 1996, 2190, 6040, 1012, 102], [101, 2009, 2001, 2025, 2127, 1045, 2001, 3383, 3174, 1011, 2274, 2030, 4228, 2008, 1045, 3191, 1998, 5632, 2068, 1012, 102], [101, 2009, 2001, 2000, 3926, 1996, 19453, 2008, 2198, 2699, 1012, 102], [101, 2009, 2003, 2008, 3021, 2003, 7481, 2008, 2198, 7164, 1012, 102], [101, 2009, 1005, 1055, 1996, 2117, 6928, 2008, 2057, 2131, 2067, 2013, 10957, 6209, 1012, 102], [101, 2009, 2001, 1996, 2611, 2040, 6476, 1996, 3608, 1012, 102], [101, 2009, 1005, 1055, 3701, 2010, 7729, 2029, 6427, 1996, 3836, 1012, 102], [101, 2054, 2017, 2215, 2003, 1037, 2210, 16635, 1012, 102], [101, 2054, 1005, 1055, 2941, 6230, 1999, 2414, 2012, 1996, 2617, 2003, 24256, 10990, 1012, 102], [101, 2054, 2003, 2000, 2272, 2003, 1999, 2023, 6254, 1012, 102], [101, 2054, 1045, 1005, 2310, 2467, 11121, 2000, 2079, 2003, 2000, 2079, 2026, 2219, 14082, 2012, 2188, 1012, 102], [101, 2054, 1045, 3214, 2001, 2008, 2017, 2031, 2589, 2009, 2428, 2092, 1012, 102], [101, 2054, 3047, 2003, 2027, 3236, 2014, 2302, 1037, 6105, 1012, 102], [101, 2054, 1996, 10170, 2790, 2000, 2022, 4851, 2003, 2129, 3343, 2052, 2031, 19541, 1012, 102], [101, 16021, 6132, 13043, 2003, 2129, 1045, 2052, 6235, 2032, 1012, 102], [101, 1999, 1996, 2220, 2851, 2003, 2043, 1045, 2079, 2026, 2190, 2470, 1012, 102], [101, 4929, 2009, 2066, 2008, 2003, 2054, 2017, 2079, 1012, 102], [101, 2027, 3236, 2014, 2302, 1037, 6105, 2003, 2054, 3047, 1012, 102], [101, 2008, 2017, 2031, 2589, 2009, 2428, 2092, 2003, 2054, 1045, 3214, 1012, 102], [101, 2008, 1005, 1055, 2043, 1045, 3191, 1012, 102], [101, 2008, 2001, 2339, 2016, 2246, 2061, 3835, 1012, 102], [101, 2008, 1005, 1055, 2129, 2027, 2079, 2009, 1012, 102], [101, 2008, 1005, 1055, 2040, 1045, 2209, 2007, 2058, 4234, 1012, 102], [101, 2054, 2017, 2657, 2001, 2019, 7738, 1012, 102], [101, 2009, 2001, 2019, 7738, 2008, 2017, 2657, 1012, 102], [101, 2054, 2017, 2323, 2079, 2003, 2344, 2028, 2034, 1012, 102], [101, 2009, 2003, 2344, 2028, 2034, 2008, 2017, 2323, 2079, 2034, 1012, 102], [101, 2344, 2028, 2034, 2003, 2054, 2017, 2323, 2079, 1012, 102], [101, 2009, 2001, 2025, 2127, 1045, 2001, 3383, 3174, 1011, 2274, 2030, 4228, 2008, 1045, 3191, 2068, 1998, 5632, 2068, 1012, 102], [101, 2043, 1045, 3191, 2068, 1998, 5632, 2068, 2001, 2025, 2127, 1045, 2001, 3383, 3174, 1011, 2274, 1012, 102], [101, 2025, 2127, 1045, 2001, 3383, 3174, 1011, 2274, 2001, 2043, 1045, 3191, 2068, 1998, 5632, 2068, 1012, 102], [101, 2009, 1005, 1055, 1996, 3213, 2008, 4152, 2017, 2061, 2920, 1012, 102], [101, 2008, 4152, 2017, 2061, 2920, 2003, 1996, 3213, 1012, 102], [101, 1996, 3213, 2003, 2008, 4152, 2017, 2061, 2920, 1012, 102], [101, 1998, 2009, 2001, 2023, 3043, 2006, 2029, 1045, 17535, 2007, 1996, 3472, 1997, 1996, 7276, 2837, 1012, 102], [101, 2006, 2029, 1045, 17535, 2007, 1996, 3472, 1997, 1996, 7276, 2837, 2001, 2023, 3043, 1012, 102], [101, 2023, 3043, 2001, 2006, 2029, 1045, 17535, 2007, 1996, 3472, 1997, 1996, 7276, 2837, 1012, 102], [101, 2054, 1045, 8823, 2003, 2019, 6207, 1012, 102], [101, 2054, 2057, 2024, 2478, 2003, 2037, 4252, 3430, 1012, 102], [101, 1996, 3076, 2040, 2288, 1037, 1999, 1996, 2465, 2001, 2200, 3407, 1012, 102], [101, 1996, 2028, 2040, 3631, 1996, 3332, 2001, 2720, 1012, 5035, 1012, 102], [101, 2002, 2288, 2054, 2002, 2359, 1012, 102], [101, 2002, 2404, 1996, 2769, 2073, 3389, 2409, 2032, 2000, 2404, 2009, 1012, 102], [101, 1996, 4164, 2318, 2043, 1996, 4330, 8369, 1012, 102], [101, 3389, 4122, 2000, 3113, 2040, 5035, 5086, 1012, 102], [101, 3389, 13332, 1996, 11989, 2129, 5035, 13332, 2009, 1012, 102], [101, 2029, 2338, 2002, 3191, 1996, 2338, 2001, 2008, 2028, 1012, 102], [101, 1045, 8823, 2054, 2198, 8823, 1012, 102], [101, 1045, 8823, 2019, 6207, 1012, 102], [101, 2000, 3183, 1045, 2435, 1996, 9850, 2003, 2198, 1012, 102], [101, 2008, 2716, 1996, 3661, 2003, 3021, 1012, 102], [101, 2023, 2003, 2129, 2002, 2106, 2009, 1012, 102], [101, 2023, 2003, 2339, 2002, 2234, 2220, 1012, 102], [101, 2828, 1037, 1024, 2009, 2003, 2006, 3021, 2008, 2198, 16803, 1012, 102], [101, 2828, 1038, 1024, 2009, 2003, 3021, 2006, 3183, 2198, 16803, 1012, 102], [101, 2009, 2001, 2059, 2043, 2057, 2035, 2253, 2000, 2793, 1012, 102], [101, 2198, 2008, 2057, 2024, 2559, 2005, 3662, 2039, 1012, 102], [101, 2009, 1005, 1055, 1996, 2117, 6928, 2008, 2057, 2131, 2067, 2013, 10957, 1012, 102], [101, 2009, 2001, 1999, 2722, 2043, 1996, 1999, 3107, 1996, 7344, 8819, 24306, 4003, 1012, 102], [101, 2009, 2003, 4470, 2198, 3005, 4769, 1045, 2439, 1012, 102], [101, 2009, 2003, 5035, 2006, 3183, 2008, 7525, 16803, 1012, 102], [101, 2009, 2003, 5035, 2006, 3183, 7525, 16803, 2006, 1012, 102], [101, 2009, 2003, 5035, 3183, 7525, 16803, 1012, 102], [101, 2009, 2001, 1996, 2472, 2008, 2016, 4122, 2000, 3113, 1012, 102], [101, 2009, 2001, 1996, 2472, 2008, 2016, 2056, 2016, 4122, 2000, 3113, 1012, 102], [101, 2009, 2001, 1996, 2472, 2008, 1045, 2228, 2016, 2056, 2016, 4122, 2000, 3113, 1012, 102], [101, 1045, 4687, 2040, 2009, 2001, 2040, 2387, 2017, 1012, 102], [101, 1045, 4687, 2040, 2009, 2001, 2017, 2387, 1012, 102], [101, 1045, 4687, 1999, 2029, 4979, 2009, 2001, 2008, 5035, 2018, 5023, 1996, 15565, 1012, 102], [101, 2040, 2079, 2017, 2228, 2009, 2003, 2008, 2984, 2777, 1029, 102], [101, 2000, 3183, 2079, 2017, 2228, 2009, 2003, 1996, 2338, 2008, 2984, 2435, 1029, 102], [101, 2009, 2003, 3697, 2005, 2033, 2000, 10152, 2006, 19276, 1012, 102], [101, 2005, 2033, 2000, 10152, 2006, 19276, 2003, 3697, 1012, 102], [101, 19276, 2003, 3697, 2005, 2033, 2000, 10152, 2006, 1012, 102], [101, 2108, 8403, 2000, 2298, 2012, 2038, 2049, 12637, 1012, 102], [101, 4144, 2000, 13055, 2024, 3733, 2000, 2393, 1996, 2336, 2000, 4339, 1012, 102], [101, 2009, 2001, 2000, 3731, 2008, 2027, 2787, 2000, 2202, 1996, 5776, 1012, 102], [101, 2009, 2001, 2007, 1037, 2307, 3066, 1997, 9038, 2008, 1045, 22102, 2098, 2115, 6378, 1012, 102], [101, 2009, 2001, 3419, 2040, 13439, 5404, 2006, 2023, 6411, 1012, 102], [101, 2009, 2003, 9246, 3005, 2147, 4401, 2097, 8489, 1012, 102], [101, 2009, 2001, 2198, 2006, 3183, 1996, 6458, 2872, 1996, 7499, 1012, 102], [101, 1045, 4999, 2040, 2009, 2001, 2017, 2387, 1012, 102], [101, 1045, 2001, 6603, 1999, 2029, 4979, 2009, 2001, 2008, 5035, 2018, 5023, 1996, 15565, 1012, 102], [101, 2009, 2003, 2006, 5035, 2006, 3183, 7525, 16803, 1012, 102], [101, 2001, 2009, 2005, 2023, 2008, 2057, 4265, 1998, 2000, 18450, 1029, 102], [101, 2040, 2001, 2009, 2040, 10263, 2017, 1029, 102], [101, 1045, 2903, 2009, 2000, 2022, 2014, 2269, 2040, 2001, 3952, 3625, 1012, 102], [101, 1045, 2903, 2009, 2000, 2022, 1996, 6942, 2008, 2003, 28829, 1012, 102], [101, 3419, 8823, 2054, 2984, 3253, 2000, 2032, 1012, 102], [101, 1045, 4687, 2054, 2984, 3253, 2000, 2032, 1012, 102], [101, 2054, 2984, 3253, 2000, 2032, 2003, 10599, 1012, 102], [101, 1045, 2123, 1005, 1056, 2031, 2151, 14629, 1012, 102], [101, 1045, 2031, 2151, 14629, 1012, 102], [101, 2012, 2087, 2093, 3057, 2387, 2505, 1012, 102], [101, 2012, 2560, 2093, 3057, 2387, 2505, 1012, 102], [101, 2296, 2611, 2040, 2387, 2505, 2001, 3407, 1012, 102], [101, 2070, 2611, 2040, 2387, 2505, 2001, 3407, 1012, 102], [101, 2151, 13547, 28526, 12328, 1012, 102], [101, 2151, 5160, 2071, 2425, 2017, 2008, 1012, 102], [101, 1045, 2052, 3153, 2007, 10334, 1012, 102], [101, 2471, 2296, 5160, 2071, 3437, 2008, 3160, 1012, 102], [101, 2471, 2053, 5160, 2071, 3437, 2008, 3160, 1012, 102], [101, 2471, 2151, 5160, 2071, 3437, 2008, 3160, 1012, 102], [101, 1045, 2123, 1005, 1056, 2031, 2471, 2151, 14629, 1012, 102], [101, 1045, 2052, 3153, 2007, 2984, 2030, 9790, 1012, 102], [101, 2984, 2030, 9790, 2071, 2425, 2017, 2008, 1012, 102], [101, 2079, 2017, 2031, 4318, 14829, 1029, 4366, 1012, 102], [101, 3383, 2070, 4318, 14829, 2052, 2393, 1029, 102], [101, 2019, 13547, 28526, 12328, 1012, 102], [101, 12391, 2015, 3499, 11790, 1012, 102], [101, 1037, 13433, 26156, 3957, 2444, 4182, 1012, 102], [101, 2296, 13433, 26156, 3957, 2444, 4182, 1012, 102], [101, 1045, 2123, 1005, 1056, 2031, 14629, 1012, 102], [101, 2296, 2158, 2040, 2038, 3503, 2003, 3407, 1012, 102], [101, 2296, 2158, 2040, 2038, 2151, 3503, 2003, 3407, 1012, 102], [101, 2071, 2057, 2191, 2070, 2413, 22201, 1029, 102], [101, 2339, 2123, 1005, 1056, 2057, 2191, 2070, 2413, 22201, 1029, 102], [101, 2024, 2017, 4810, 2005, 2082, 4826, 1029, 102], [101, 1998, 2059, 2035, 1996, 22388, 2175, 2006, 1037, 12328, 5690, 1012, 102], [101, 2065, 2017, 2202, 1037, 4318, 2674, 1998, 4894, 2009, 1010, 2009, 4597, 1012, 102], [101, 2012, 2087, 2093, 5089, 4137, 19453, 1012, 102], [101, 2012, 2087, 2093, 5089, 4137, 2151, 19453, 1012, 102], [101, 2296, 3076, 2040, 4375, 1999, 2070, 19453, 2097, 2131, 1037, 3396, 1012, 102], [101, 2296, 3076, 2040, 4375, 1999, 2151, 19453, 2097, 2131, 1037, 3396, 1012, 102], [101, 2077, 2017, 2191, 3488, 1010, 23363, 1996, 3187, 1012, 102], [101, 2077, 2017, 2191, 2151, 3488, 1010, 23363, 1996, 3187, 1012, 102], [101, 2003, 2045, 2505, 1045, 2064, 2079, 2005, 2017, 1029, 102], [101, 1037, 2658, 8033, 2052, 2022, 2583, 2000, 2079, 2009, 1012, 102], [101, 2151, 2658, 8033, 2052, 2022, 2583, 2000, 2079, 2009, 1012, 102], [101, 2057, 2123, 1005, 1056, 2031, 14629, 1010, 2030, 2012, 2560, 2025, 2438, 1012, 102], [101, 2296, 2158, 2040, 2038, 2151, 3503, 2003, 3407, 1012, 3407, 1012, 102], [101, 2296, 2879, 2038, 2151, 14629, 1012, 102], [101, 2009, 1005, 1055, 2025, 1996, 2553, 2008, 2296, 2879, 2038, 2151, 14629, 1012, 102], [101, 1045, 1005, 1049, 4527, 2057, 2018, 2151, 14629, 1012, 102], [101, 2012, 2087, 2093, 3337, 2134, 1005, 1056, 2156, 2505, 1012, 102], [101, 2130, 9790, 2056, 2505, 1012, 102], [101, 9790, 2001, 1996, 2087, 3497, 2025, 2000, 2360, 2505, 1012, 102], [101, 9790, 2056, 2242, 2348, 2016, 2001, 1996, 2087, 3497, 2025, 2000, 2360, 2505, 1012, 102], [101, 17188, 4875, 2062, 2411, 2084, 2198, 7879, 2151, 9064, 1012, 102], [101, 2169, 4018, 2040, 2038, 2151, 3037, 1999, 28081, 2097, 2022, 6449, 6945, 2000, 1996, 2533, 1012, 102], [101, 2296, 2775, 2323, 2031, 1037, 3679, 3221, 1997, 6501, 1012, 102], [101, 2169, 2775, 2323, 2031, 1037, 3679, 3221, 1997, 6501, 1012, 102], [101, 1045, 1005, 1049, 4527, 2008, 2002, 2412, 2056, 2505, 1012, 102], [101, 1045, 1005, 1049, 3374, 2008, 2002, 2412, 2056, 2505, 1012, 102], [101, 1045, 1005, 1049, 5580, 2008, 1045, 2412, 2777, 2032, 1012, 102], [101, 1045, 1005, 1049, 2469, 2008, 1045, 2412, 2777, 2032, 1012, 102], [101, 1045, 1005, 1049, 4527, 2002, 4149, 1037, 2482, 1012, 102], [101, 2021, 2122, 9735, 2024, 6659, 999, 102], [101, 1045, 2001, 4527, 2008, 2002, 10312, 1996, 3422, 1010, 1999, 2004, 2521, 2004, 2008, 2001, 1037, 15236, 2518, 2000, 2079, 1012, 102], [101, 2445, 2026, 2152, 5448, 2006, 2010, 7191, 2839, 1010, 1045, 2001, 4527, 2008, 2002, 10312, 1996, 3422, 1012, 102], [101, 2020, 2017, 4527, 2008, 2002, 10312, 1996, 3422, 1029, 102], [101, 1045, 1005, 1049, 3374, 2008, 10334, 16424, 2033, 1012, 102], [101, 1045, 2215, 2005, 6343, 2000, 5223, 2033, 1012, 102], [101, 1045, 1005, 1049, 5580, 2002, 4149, 1037, 2482, 1012, 102], [101, 1045, 1005, 1049, 3374, 2002, 4149, 1037, 2482, 1012, 102], [101, 2002, 4149, 1037, 11990, 1012, 102], [101, 1045, 1005, 1049, 5580, 1045, 2387, 10334, 1012, 102], [101, 1045, 1005, 1049, 5580, 10334, 7777, 2033, 999, 102], [101, 2481, 1005, 1056, 2017, 2131, 2151, 9735, 2488, 2084, 2023, 1029, 102], [101, 2009, 1005, 1055, 2986, 2008, 2002, 3825, 1998, 17806, 1010, 2021, 1045, 2123, 1005, 1056, 2428, 2729, 2055, 2010, 15531, 1010, 2030, 1996, 2769, 1010, 2030, 2505, 1012, 102], [101, 1045, 1005, 1049, 2469, 2057, 2288, 2151, 9735, 999, 102], [101, 1045, 1005, 1049, 2469, 2002, 8847, 2000, 2033, 999, 102], [101, 1045, 1005, 1049, 5580, 1037, 22978, 7777, 2033, 1012, 102], [101, 1045, 2134, 1005, 1056, 2393, 2032, 2138, 1045, 2031, 2151, 11883, 2005, 3923, 19739, 11124, 25816, 1012, 102], [101, 2009, 3475, 1005, 1056, 2138, 9790, 2056, 2505, 2919, 2055, 2033, 2008, 1045, 1005, 1049, 4854, 1010, 2348, 2016, 2106, 2360, 2070, 2919, 2477, 2055, 2033, 1012, 102], [101, 1045, 2123, 1005, 1056, 2031, 2151, 11883, 2005, 3923, 19739, 11124, 25816, 1012, 102], [101, 2471, 2019, 13547, 28526, 12328, 1012, 102], [101, 7078, 2019, 13547, 28526, 12328, 1012, 102], [101, 2471, 2151, 13547, 28526, 12328, 1012, 102], [101, 7078, 2151, 13547, 28526, 12328, 1012, 102], [101, 2002, 2211, 3015, 5878, 1012, 102], [101, 2002, 2921, 3015, 5878, 1012, 102], [101, 2002, 2506, 3015, 5878, 1012, 102], [101, 2002, 3030, 3015, 5878, 1012, 102], [101, 1996, 2273, 2052, 2031, 2035, 2042, 2551, 1012, 102], [101, 1996, 2273, 2052, 2031, 2042, 2035, 2551, 1012, 102], [101, 2052, 1996, 2273, 2169, 2031, 2042, 2551, 1029, 102], [101, 2052, 2169, 1996, 2273, 2031, 2042, 2551, 1029, 102], [101, 1996, 2273, 2052, 2025, 5959, 2008, 1012, 102], [101, 2052, 2025, 1996, 2273, 5959, 2008, 1029, 102], [101, 2052, 1996, 2273, 2025, 5959, 2008, 1029, 102], [101, 1996, 2273, 2052, 2035, 2025, 2031, 2042, 2551, 1012, 102], [101, 1996, 2273, 2035, 2052, 2025, 2031, 2042, 2551, 1012, 102], [101, 1996, 2273, 2052, 2025, 2031, 2035, 2042, 2551, 1012, 102], [101, 1996, 2273, 2052, 2025, 2035, 2031, 2042, 2551, 1012, 102], [101, 1996, 2273, 2052, 2025, 2031, 2042, 2035, 2551, 1012, 102], [101, 2008, 2198, 2003, 1037, 7966, 2003, 5793, 1012, 102], [101, 2009, 2003, 5793, 2008, 2198, 2003, 1037, 7966, 1012, 102], [101, 2198, 7164, 2008, 5965, 7777, 21475, 2008, 3533, 7777, 10733, 1012, 102], [101, 2198, 1059, 14014, 2094, 2008, 2002, 2001, 7501, 1012, 102], [101, 2008, 2002, 2001, 7501, 2001, 1059, 14014, 2094, 2011, 2198, 1012, 102], [101, 2198, 2003, 3056, 2008, 1996, 15253, 2097, 2663, 1012, 102], [101, 2008, 2002, 2038, 2668, 2006, 2010, 2398, 16481, 2008, 2198, 2003, 1996, 13422, 1012, 102], [101, 2009, 16481, 2008, 2198, 2003, 1996, 13422, 2008, 2002, 2038, 2668, 2006, 2010, 2398, 1012, 102], [101, 2000, 3531, 2198, 2052, 2022, 3697, 1012, 102], [101, 2009, 2052, 2022, 3697, 2000, 3531, 2198, 1012, 102], [101, 2009, 2003, 3373, 2000, 2022, 5793, 2011, 3071, 2008, 5965, 2003, 4689, 1012, 102], [101, 2198, 2003, 3373, 2000, 2022, 3056, 2011, 3071, 2008, 5965, 2003, 4689, 1012, 102], [101, 2009, 12491, 2032, 2008, 2111, 2134, 1005, 1056, 2066, 5965, 1012, 102], [101, 2009, 2001, 3373, 2000, 2031, 12491, 2032, 2008, 2111, 2134, 1005, 1056, 2066, 5965, 1012, 102], [101, 2129, 3733, 2000, 3531, 2198, 2003, 2009, 1029, 102], [101, 2129, 3697, 2000, 2817, 2005, 1996, 11360, 2001, 2009, 1029, 102], [101, 2129, 2524, 2000, 3191, 1996, 2338, 2001, 2009, 1029, 102], [101, 2129, 3733, 2000, 18381, 2198, 2009, 2003, 999, 102], [101, 2129, 2524, 2000, 3191, 1996, 2338, 2009, 2001, 999, 102], [101, 2129, 3056, 2008, 1996, 15253, 2097, 2663, 2024, 2017, 1029, 102], [101, 2129, 3497, 2000, 2663, 2003, 2002, 1029, 102], [101, 2023, 2338, 1045, 5632, 1012, 102], [101, 2000, 3183, 1996, 2338, 2106, 2017, 2507, 1012, 102], [101, 1996, 2338, 2000, 3183, 2106, 2017, 2507, 1012, 102], [101, 2002, 1005, 1055, 1037, 2158, 2000, 3183, 7044, 2057, 2071, 2196, 3946, 1012, 102], [101, 2009, 1005, 1055, 5793, 2008, 2984, 1010, 2002, 2064, 1005, 1056, 3233, 1012, 102], [101, 1045, 2228, 2008, 1996, 27980, 2097, 2202, 1996, 11133, 4826, 1012, 102], [101, 2004, 2005, 4098, 1010, 1045, 2428, 2066, 2032, 1012, 102], [101, 2002, 1005, 1055, 1037, 2158, 2000, 3183, 2004, 2005, 7044, 1010, 2057, 2071, 2196, 3946, 2009, 1012, 102], [101, 2002, 1005, 1055, 1037, 2158, 2000, 3183, 7044, 1010, 2057, 2071, 2196, 3946, 2009, 1012, 102], [101, 2198, 2052, 2066, 2008, 2138, 2002, 1005, 1055, 2107, 1037, 3835, 3124, 1012, 102], [101, 2198, 1010, 2138, 2002, 1005, 1055, 2107, 1037, 3835, 3124, 1010, 2052, 2066, 2008, 1012, 102], [101, 2138, 2002, 1005, 1055, 2107, 1037, 3835, 3124, 1010, 2198, 2052, 2066, 2008, 1012, 102], [101, 2198, 2052, 1010, 2138, 2002, 1005, 1055, 2107, 1037, 3835, 3124, 1010, 2066, 2008, 1012, 102], [101, 2138, 2002, 1005, 1055, 2107, 1037, 3835, 3124, 1010, 2054, 2052, 2198, 2066, 1029, 102], [101, 2009, 1005, 1055, 5793, 2008, 1010, 2348, 2002, 1005, 1055, 1037, 3835, 3124, 1010, 2198, 3475, 1005, 1056, 2205, 4408, 1012, 102], [101, 2198, 8823, 2044, 2893, 2188, 1996, 21475, 1012, 102], [101, 1045, 2435, 2984, 1037, 2338, 1012, 102], [101, 1045, 2641, 5965, 4689, 1012, 102], [101, 1045, 2404, 1996, 2338, 2006, 1996, 2795, 1012, 102], [101, 1045, 2773, 2098, 1996, 23921, 28774, 11246, 2100, 1012, 102], [101, 1045, 2641, 5965, 2044, 1996, 2283, 4689, 1012, 102], [101, 1015, 2404, 1996, 2338, 2044, 1996, 2283, 2006, 1996, 2795, 1012, 102], [101, 1045, 2773, 2098, 1996, 23921, 2044, 1996, 2283, 28774, 11246, 2100, 1012, 102], [101, 2138, 2016, 1005, 1055, 2061, 8242, 1010, 2984, 1045, 2428, 2066, 2014, 1012, 102], [101, 2138, 2016, 1005, 1055, 2061, 8242, 1010, 2984, 1045, 2428, 2066, 1012, 102], [101, 2295, 2002, 2089, 4025, 9414, 1010, 2002, 2515, 2025, 4025, 2784, 1012, 102], [101, 9414, 2295, 2002, 2089, 4025, 1010, 2002, 2515, 2025, 4025, 2784, 1012, 102], [101, 2295, 1045, 2089, 2293, 2014, 1010, 2008, 2180, 1005, 1056, 7461, 1996, 3694, 1012, 102], [101, 2293, 2014, 2295, 1045, 2089, 1010, 2008, 2180, 1005, 1056, 7461, 1996, 3694, 1012, 102], [101, 8502, 2295, 1045, 2903, 1996, 4366, 2008, 3419, 2003, 1010, 1045, 2145, 2180, 1005, 1056, 3058, 2032, 1012, 102], [101, 8502, 2295, 2027, 2409, 2033, 2008, 3419, 2003, 1010, 1045, 2145, 2180, 1005, 1056, 3058, 2032, 1012, 102], [101, 8502, 2295, 2026, 2814, 4081, 2008, 2984, 6732, 2008, 3419, 2003, 1010, 1045, 2145, 2180, 1005, 1056, 3058, 2032, 1012, 102], [101, 5223, 2216, 2040, 6232, 4697, 5708, 2295, 2002, 2089, 1010, 2009, 2987, 1005, 1056, 3043, 1012, 102], [101, 2052, 2198, 5223, 2008, 1029, 102], [101, 2052, 2198, 5223, 2008, 999, 102], [101, 2097, 1010, 2044, 2198, 3310, 2188, 1010, 8836, 2202, 1037, 6457, 1029, 102], [101, 2097, 8836, 1010, 2044, 2198, 3310, 2188, 1010, 2202, 1037, 6457, 1029, 102], [101, 2044, 2198, 3310, 2188, 1010, 2097, 8836, 2202, 1037, 6457, 1029, 102], [101, 1045, 2052, 9544, 2008, 2002, 2025, 2031, 2736, 1012, 102], [101, 1045, 2052, 9544, 2008, 2002, 2031, 2025, 2736, 1012, 102], [101, 2002, 2038, 2025, 2736, 1012, 102], [101, 2002, 2003, 2025, 5131, 1012, 102], [101, 2002, 2052, 2025, 3926, 1012, 102], [101, 2002, 2515, 2025, 3926, 1012, 102], [101, 2216, 2111, 2097, 1010, 2044, 1996, 2283, 1010, 2025, 2272, 2188, 1012, 102], [101, 2216, 2111, 1010, 2044, 1996, 2283, 1010, 2097, 2025, 2272, 2188, 1012, 102], [101, 1045, 1005, 2310, 2196, 2464, 1037, 2158, 12283, 2084, 2026, 2269, 1012, 102], [101, 1045, 1005, 2310, 2196, 2464, 1037, 12283, 2158, 2084, 2026, 2269, 1012, 102], [101, 1045, 1005, 2310, 2196, 2464, 1037, 2158, 12283, 2084, 2026, 2388, 1012, 102], [101, 1045, 1005, 2310, 2196, 2464, 1037, 12283, 2158, 2084, 2026, 2388, 1012, 102], [101, 2990, 20323, 6187, 9035, 2099, 2062, 2084, 2002, 20323, 14163, 4095, 1012, 102], [101, 2990, 20323, 2062, 6187, 9035, 2099, 2084, 2002, 20323, 14163, 4095, 1012, 102], [101, 2990, 20323, 6187, 9035, 2099, 2062, 2084, 2002, 25126, 1012, 102], [101, 2990, 20323, 2062, 6187, 9035, 2099, 2084, 2002, 25126, 1012, 102], [101, 1045, 2572, 2062, 4854, 2651, 2084, 1045, 2001, 7483, 1012, 102], [101, 1045, 2572, 2062, 4854, 2084, 6517, 1012, 102], [101, 1045, 2572, 17076, 16252, 2084, 6517, 1012, 102], [101, 2984, 2003, 2062, 2084, 2416, 2519, 4206, 1012, 102], [101, 2984, 2003, 12283, 2084, 2416, 2519, 1012, 102], [101, 2984, 2003, 2062, 2084, 2274, 2519, 2460, 1012, 102], [101, 2984, 2003, 7820, 2084, 2274, 2519, 1012, 102], [101, 2027, 2228, 2016, 2038, 2205, 2172, 4336, 1012, 102], [101, 2027, 2228, 2016, 2003, 2205, 2172, 3407, 1012, 102], [101, 2984, 8847, 2061, 2172, 5251, 1012, 102], [101, 1037, 9745, 24226, 3475, 1005, 1056, 2004, 2172, 2367, 2013, 2019, 4589, 2004, 1045, 1005, 1040, 2245, 1012, 102], [101, 1037, 9745, 24226, 3475, 1005, 1056, 2004, 2367, 2013, 2019, 4589, 2004, 1045, 1005, 1040, 2245, 1012, 102], [101, 2017, 1998, 1045, 2024, 2004, 2172, 11455, 2004, 1037, 3586, 1998, 1037, 11190, 1012, 102], [101, 2017, 1998, 1045, 2024, 2004, 11455, 2004, 1037, 3586, 1998, 1037, 11190, 1012, 102], [101, 2017, 1998, 1045, 2024, 2004, 2210, 11455, 2004, 1037, 3586, 1998, 1037, 11190, 1012, 102], [101, 2198, 2003, 2004, 2172, 9414, 2004, 2984, 1012, 102], [101, 2198, 2003, 2004, 9414, 2004, 2984, 1012, 102], [101, 2198, 2003, 2062, 2084, 1020, 2519, 4206, 1012, 102], [101, 2198, 2003, 12283, 2084, 1020, 2519, 1012, 102], [101, 2122, 4264, 2089, 4982, 2004, 2172, 2004, 1020, 2519, 2152, 1012, 102], [101, 2122, 4264, 2089, 4982, 2004, 2152, 2004, 1020, 2519, 1012, 102], [101, 2062, 2038, 3047, 1999, 1996, 2197, 2733, 2084, 2097, 4148, 1999, 1996, 2279, 2095, 1012, 102], [101, 2002, 4107, 2062, 2084, 2057, 2018, 5113, 2005, 1012, 102], [101, 2002, 2001, 5327, 2005, 2062, 2084, 2057, 3253, 1012, 102], [101, 2438, 2003, 2183, 2006, 2000, 2562, 2068, 5457, 1012, 102], [101, 2017, 1005, 2310, 2056, 2438, 2000, 8054, 2033, 1012, 102], [101, 8836, 20323, 6187, 9035, 2099, 2062, 2084, 1045, 2018, 3517, 1012, 102], [101, 6294, 2987, 1005, 1056, 4521, 2014, 11546, 2438, 1012, 102], [101, 8836, 20323, 1996, 4933, 3492, 2411, 1012, 102], [101, 8836, 20323, 3492, 2411, 1996, 4933, 1012, 102], [101, 8836, 20323, 1996, 4933, 2062, 1012, 102], [101, 8836, 20323, 2062, 1996, 4933, 1012, 102], [101, 6294, 2987, 1005, 1056, 4521, 2438, 2014, 11546, 1012, 102], [101, 2198, 20323, 2062, 1012, 102], [101, 2198, 2987, 1005, 1056, 4521, 2438, 1012, 102], [101, 2198, 20323, 2062, 2084, 2002, 25126, 1012, 102], [101, 2002, 2435, 2033, 2062, 1997, 2010, 7720, 2015, 2084, 1045, 2359, 1012, 102], [101, 8836, 2438, 20323, 6187, 9035, 2099, 1012, 102], [101, 2438, 8836, 20323, 6187, 9035, 2099, 1012, 102], [101, 2990, 2003, 2062, 4206, 2084, 4857, 1012, 102], [101, 1045, 2106, 2009, 2062, 1999, 15333, 3367, 2084, 1999, 4963, 1012, 102], [101, 2045, 2003, 2438, 1997, 1996, 7852, 2187, 2000, 2031, 4826, 1012, 102], [101, 2045, 2003, 2438, 7852, 2005, 2035, 1997, 2017, 1012, 102], [101, 2045, 2003, 7852, 2438, 2005, 2035, 1997, 2017, 1012, 102], [101, 2016, 2038, 2438, 1997, 1037, 3291, 2004, 2009, 2003, 1012, 102], [101, 2016, 2038, 2438, 1037, 3291, 2004, 2009, 2003, 1012, 102], [101, 2016, 2038, 2438, 3291, 2004, 2009, 2003, 1012, 102], [101, 2016, 2038, 3291, 2438, 2004, 2009, 2003, 1012, 102], [101, 2016, 2038, 2438, 1997, 3471, 2004, 2009, 2003, 1012, 102], [101, 2016, 2038, 2438, 3471, 2004, 2009, 2003, 1012, 102], [101, 2002, 3504, 2062, 18085, 2084, 2002, 2003, 1012, 102], [101, 2002, 3849, 2438, 9414, 2005, 2017, 1012, 102], [101, 2002, 3849, 9414, 2438, 2005, 2017, 1012, 102], [101, 2016, 7009, 2062, 4415, 2084, 2016, 8847, 1012, 102], [101, 2016, 8847, 2438, 4415, 2000, 2022, 5319, 1012, 102], [101, 2002, 1005, 1055, 2438, 1997, 1037, 7966, 2000, 3046, 2009, 1012, 102], [101, 2002, 1005, 1055, 7966, 2438, 2000, 3046, 2009, 1012, 102], [101, 1045, 2387, 2062, 1997, 1996, 2158, 2084, 2017, 2106, 1012, 102], [101, 1045, 2387, 2438, 1997, 1996, 7966, 2000, 2022, 6427, 1012, 102], [101, 4302, 2288, 2000, 2022, 2062, 1997, 1037, 8958, 1012, 102], [101, 4302, 2288, 2000, 2022, 2062, 1997, 1996, 8958, 1012, 102], [101, 2002, 1005, 1055, 2438, 1997, 1996, 16592, 2000, 4139, 1996, 9495, 1012, 102], [101, 2054, 2010, 2269, 4122, 2032, 2000, 2022, 2003, 2062, 1997, 1037, 2158, 1012, 102], [101, 2062, 1997, 1037, 2158, 2003, 2182, 1012, 102], [101, 1045, 1005, 2310, 6476, 2062, 1997, 1037, 2158, 2084, 2017, 2031, 1012, 102], [101, 1045, 1005, 2310, 2124, 2062, 1997, 1037, 2158, 2084, 3581, 1012, 102], [101, 1045, 1005, 2310, 2196, 2124, 2062, 1997, 1037, 2158, 2084, 3581, 1012, 102], [101, 2002, 2001, 5327, 2005, 2205, 2172, 1012, 102], [101, 8836, 20323, 6187, 9035, 2099, 2205, 2172, 2005, 2014, 2219, 2204, 1012, 102], [101, 2198, 20323, 2061, 2172, 1012, 102], [101, 2002, 2435, 2033, 2116, 7720, 2015, 1012, 102], [101, 1045, 2031, 2172, 22868, 2000, 2079, 1012, 102], [101, 2002, 3504, 2061, 2172, 18085, 1012, 102], [101, 2002, 3504, 2061, 18085, 1012, 102], [101, 2016, 8847, 2205, 2172, 4415, 1012, 102], [101, 2016, 8847, 2205, 4415, 1012, 102], [101, 1045, 1005, 1049, 2004, 2172, 1997, 1037, 2158, 2004, 2017, 2024, 1010, 2026, 6203, 1012, 102], [101, 4302, 2288, 2000, 2022, 2004, 2172, 1997, 1037, 8958, 2004, 2010, 2269, 1012, 102], [101, 4302, 2288, 2000, 2022, 2004, 2172, 1997, 1996, 8958, 2004, 2010, 2269, 1012, 102], [101, 2004, 2172, 1997, 1037, 2158, 2003, 2182, 1012, 102], [101, 1045, 1005, 2310, 2464, 2004, 2172, 1997, 1037, 16592, 2004, 3581, 1012, 102], [101, 2116, 2024, 2170, 1025, 2261, 2024, 4217, 1012, 102], [101, 2062, 2024, 2170, 2084, 2024, 2412, 4217, 1012, 102], [101, 2057, 2081, 2438, 29593, 2000, 2197, 2005, 2420, 1012, 102], [101, 2057, 8823, 2438, 1037, 29593, 2000, 13225, 2149, 1012, 102], [101, 2057, 2081, 2438, 29593, 2015, 2000, 2197, 2005, 2420, 1012, 102], [101, 2057, 8823, 2438, 1996, 29593, 2015, 2000, 13225, 2149, 1012, 102], [101, 2198, 2003, 1996, 2785, 1997, 1037, 7966, 2008, 1045, 2409, 2017, 2055, 1012, 102], [101, 2198, 2003, 1996, 2785, 1997, 1996, 7966, 2008, 1045, 2409, 2017, 2055, 1012, 102], [101, 2002, 1005, 1055, 1037, 2978, 1997, 1037, 13761, 1012, 102], [101, 2002, 1005, 1055, 1996, 2978, 1997, 1037, 13761, 1012, 102], [101, 2002, 1005, 1055, 2242, 1997, 1037, 13761, 1012, 102], [101, 2198, 2003, 1996, 2785, 1997, 7966, 2008, 1045, 2409, 2017, 2055, 1012, 102], [101, 2002, 1005, 1055, 7966, 1012, 102], [101, 2002, 1005, 1055, 1037, 7966, 2438, 2000, 3046, 2009, 1012, 102], [101, 2016, 1005, 1055, 2074, 2438, 4206, 1012, 102], [101, 2016, 1005, 1055, 2438, 4206, 1012, 102], [101, 2016, 8847, 2438, 4415, 1012, 102], [101, 2002, 1005, 1055, 2008, 10539, 1037, 2158, 1012, 102], [101, 2002, 1005, 1055, 1037, 2008, 10539, 2158, 1012, 102], [101, 2002, 1005, 1055, 2205, 10539, 1037, 2158, 1012, 102], [101, 2002, 1005, 1055, 1037, 2205, 10539, 2158, 1012, 102], [101, 2002, 1005, 1055, 2004, 10539, 1037, 2158, 1012, 102], [101, 2002, 1005, 1055, 2019, 2004, 10539, 2158, 1012, 102], [101, 2002, 1005, 1055, 2061, 10539, 1037, 2158, 1012, 102], [101, 2002, 1005, 1055, 1037, 2061, 10539, 2158, 1012, 102], [101, 2002, 1005, 1055, 2062, 10539, 1037, 2158, 1012, 102], [101, 2002, 1005, 1055, 10539, 2438, 1037, 2158, 1012, 102], [101, 2002, 1005, 1055, 1037, 10539, 2438, 2158, 1012, 102], [101, 3419, 2001, 2025, 2062, 10539, 2084, 1037, 5568, 27330, 1012, 102], [101, 3419, 2001, 2053, 2062, 10539, 2084, 1037, 5568, 27330, 1012, 102], [101, 2025, 2062, 10539, 1037, 2158, 2071, 2022, 2179, 1012, 102], [101, 2151, 2062, 10539, 1037, 2158, 2071, 2025, 2022, 2179, 1012, 102], [101, 1045, 2123, 1005, 1056, 2215, 4390, 1012, 102], [101, 2198, 2003, 2025, 2062, 10539, 1037, 3507, 2084, 3021, 1012, 102], [101, 2198, 2003, 2025, 1037, 2062, 10539, 3507, 2084, 3021, 1012, 102], [101, 2198, 3475, 1005, 1056, 2151, 2062, 10539, 1037, 3507, 2084, 3021, 1012, 102], [101, 2198, 3475, 1005, 1056, 2019, 2151, 2062, 10539, 3507, 2084, 3021, 1012, 102], [101, 2198, 2003, 2053, 2062, 10539, 1037, 3507, 2084, 3021, 1012, 102], [101, 2198, 2003, 1037, 2053, 2062, 10539, 3507, 2084, 3021, 1012, 102], [101, 1045, 2031, 2004, 2116, 2205, 2116, 7720, 2015, 2004, 2017, 1012, 102], [101, 1045, 2031, 2004, 2116, 7720, 2015, 2205, 2116, 2004, 2017, 1012, 102], [101, 1045, 2031, 2416, 2205, 2116, 7720, 2015, 1012, 102], [101, 1045, 2031, 2416, 7720, 2015, 2205, 2116, 1012, 102], [101, 1045, 2031, 2416, 2062, 1997, 2068, 1012, 102], [101, 1045, 2031, 2416, 1997, 2068, 2062, 1012, 102], [101, 1045, 2031, 2431, 1037, 6474, 2205, 2116, 1997, 2122, 7720, 2015, 1012, 102], [101, 1045, 2031, 2431, 1037, 6474, 1997, 2122, 7720, 2015, 2205, 2116, 1012, 102], [101, 2016, 7009, 4415, 2438, 1012, 102], [101, 2016, 2003, 2004, 8235, 1037, 2450, 2004, 2014, 2388, 1012, 102], [101, 2016, 2003, 2004, 8235, 1996, 2450, 2004, 2014, 2388, 1012, 102], [101, 1045, 1005, 2310, 2196, 2124, 2004, 2844, 1037, 2711, 2004, 8227, 1012, 102], [101, 10882, 3527, 2003, 1037, 25670, 3899, 2084, 3962, 1012, 102], [101, 10882, 3527, 2003, 1996, 25670, 3899, 2084, 3962, 1012, 102], [101, 2054, 2010, 2269, 4122, 2032, 2000, 2022, 2003, 1037, 2488, 4770, 2447, 1012, 102], [101, 1037, 12283, 2158, 2084, 3021, 2003, 2182, 1012, 102], [101, 1045, 1005, 2310, 2196, 2124, 1037, 25670, 3899, 2084, 10882, 3527, 1012, 102], [101, 2002, 1005, 1055, 2061, 4206, 1037, 2158, 2008, 4303, 2024, 4795, 2000, 2032, 1012, 102], [101, 2002, 1005, 1055, 2107, 1037, 4206, 2158, 2008, 4303, 2024, 4795, 2000, 2032, 1012, 102], [101, 2002, 1005, 1055, 2107, 1037, 4206, 2158, 1012, 102], [101, 2002, 1005, 1055, 2107, 1996, 4206, 2158, 1012, 102], [101, 2054, 2014, 2388, 4122, 2014, 2000, 2022, 2003, 2107, 1037, 2986, 9431, 2008, 3071, 2097, 4847, 2014, 1012, 102], [101, 2009, 2001, 2004, 9643, 1037, 3861, 2004, 2009, 2034, 2790, 1012, 102], [101, 2009, 2001, 2061, 9643, 1037, 3861, 2004, 2009, 2034, 2790, 1012, 102], [101, 2009, 2347, 1005, 1056, 2004, 9643, 1037, 3861, 2004, 2009, 2034, 2790, 1012, 102], [101, 2009, 2347, 1005, 1056, 2107, 2019, 9643, 3861, 2004, 2009, 2034, 2790, 1012, 102], [101, 2009, 2001, 2061, 9643, 1037, 3861, 2008, 1045, 9538, 2009, 2039, 1012, 102], [101, 2009, 2001, 2107, 2019, 9643, 3861, 2008, 1045, 9538, 2009, 2039, 1012, 102], [101, 2984, 2003, 2107, 1037, 15966, 2008, 2111, 2024, 4452, 1997, 2014, 1012, 102], [101, 8836, 3475, 1005, 1056, 2107, 1037, 7966, 2004, 2111, 2228, 1012, 102], [101, 8836, 2003, 2107, 1037, 7966, 2004, 2111, 2228, 1012, 102], [101, 1045, 2293, 2014, 2061, 2172, 1012, 102], [101, 1045, 2435, 2014, 2061, 2172, 1012, 102], [101, 1045, 2435, 2014, 2061, 1012, 102], [101, 21589, 2003, 2107, 1037, 6288, 1012, 102], [101, 21589, 2003, 2107, 1037, 6288, 2008, 2035, 2014, 2147, 2003, 17727, 8586, 21170, 1012, 102], [101, 21589, 2003, 2107, 1037, 6288, 2004, 2017, 2020, 4092, 1997, 2074, 2085, 1012, 102], [101, 2061, 14953, 1037, 6288, 2004, 2852, 1012, 28016, 2002, 2378, 2001, 2182, 1012, 102], [101, 2107, 2019, 14953, 6288, 2004, 2852, 1012, 28016, 2002, 2378, 2001, 2182, 1012, 102], [101, 2061, 11552, 1037, 5576, 2004, 2017, 2031, 3591, 2149, 2007, 2064, 12005, 26243, 2069, 17005, 1012, 102], [101, 2017, 2031, 3591, 2061, 11552, 1037, 5576, 2008, 2057, 2064, 2069, 19837, 2009, 1012, 102], [101, 2107, 1037, 6288, 2004, 2017, 2020, 4092, 1997, 2074, 2085, 2003, 2182, 1012, 102], [101, 2061, 2172, 1997, 1037, 6288, 2003, 2182, 1012, 102], [101, 2014, 2388, 4122, 2984, 2000, 2022, 2107, 2019, 14953, 2450, 2008, 3071, 2097, 4847, 2014, 1012, 102], [101, 2198, 1037, 27873, 12283, 2158, 2084, 3021, 1012, 102], [101, 2198, 2003, 1037, 27873, 2205, 4206, 2158, 1012, 102], [101, 2008, 1005, 1055, 2019, 5525, 2488, 5576, 1012, 102], [101, 2008, 1005, 1055, 2019, 5525, 2061, 2204, 5576, 1012, 102], [101, 2016, 2081, 2061, 2172, 2488, 1037, 7514, 1012, 102], [101, 2016, 2081, 2107, 1037, 2172, 2488, 7514, 1012, 102], [101, 2016, 2081, 2107, 1037, 2488, 7514, 1012, 102], [101, 2008, 1005, 1055, 1996, 2087, 2785, 3437, 2008, 1045, 2412, 2657, 1012, 102], [101, 2008, 1005, 1055, 1037, 2087, 2785, 3437, 2008, 1045, 2412, 2657, 1012, 102], [101, 2008, 1005, 1055, 1037, 2785, 4355, 3437, 2008, 1045, 2412, 2657, 1012, 102], [101, 2008, 1005, 1055, 1996, 2785, 4355, 3437, 2008, 1045, 2412, 2657, 1012, 102], [101, 2087, 14044, 6040, 2003, 18162, 1012, 102], [101, 8836, 2097, 2507, 2033, 2062, 14044, 6040, 2084, 1996, 6040, 1045, 2288, 2013, 2017, 1012, 102], [101, 1045, 1005, 2310, 2196, 2464, 1037, 2158, 2040, 2003, 12283, 2084, 2026, 2388, 1012, 102], [101, 1045, 1005, 2310, 2196, 2464, 1996, 2028, 2158, 12283, 2084, 2026, 2269, 1012, 102], [101, 1045, 1005, 2310, 2196, 2464, 1996, 12283, 2158, 2084, 2026, 2269, 1012, 102], [101, 1045, 1005, 2310, 2196, 2464, 1996, 2028, 12283, 2158, 2084, 2026, 2269, 1012, 102], [101, 2198, 4122, 2000, 2272, 2039, 2007, 2004, 2204, 1037, 5576, 2004, 10941, 2106, 1012, 102], [101, 2198, 4122, 2000, 2272, 2039, 2007, 1037, 5576, 2004, 2204, 2004, 10941, 1012, 102], [101, 2198, 4122, 2000, 2424, 1037, 5576, 2488, 2084, 10941, 1005, 1055, 1012, 102], [101, 6187, 9035, 2099, 2003, 8828, 2011, 2990, 2062, 2084, 14163, 4095, 1012, 102], [101, 2062, 6187, 9035, 2099, 2084, 14163, 4095, 2003, 8828, 2011, 2990, 1012, 102], [101, 2990, 8823, 2062, 1997, 2023, 2084, 2002, 8823, 1997, 2008, 1012, 102], [101, 1996, 2795, 2003, 2936, 2084, 1996, 2341, 2003, 2898, 1012, 102], [101, 2984, 1005, 1055, 3407, 2055, 2014, 2147, 1010, 1998, 2198, 1005, 1055, 3407, 2055, 2010, 2336, 1012, 102], [101, 2984, 1005, 1055, 3407, 2055, 2014, 2147, 1010, 1998, 2198, 1005, 1055, 2055, 2010, 2336, 1012, 102], [101, 2984, 1005, 1055, 3407, 2055, 2014, 2147, 1010, 1998, 2198, 2003, 2055, 2010, 2336, 1012, 102], [101, 2984, 2003, 3407, 2007, 2014, 2147, 1010, 1998, 2198, 2003, 2007, 2010, 2336, 1012, 102], [101, 2984, 1005, 1055, 3407, 2007, 2014, 2147, 1010, 1998, 2198, 1005, 1055, 2007, 2010, 2336, 1012, 102], [101, 1996, 2795, 2003, 2936, 2084, 1996, 2341, 1005, 1055, 2898, 1012, 102], [101, 1996, 2795, 2003, 2146, 1010, 1998, 1996, 2341, 1005, 1055, 2898, 1012, 102], [101, 1045, 2001, 19366, 2045, 2084, 1045, 1005, 1049, 2182, 1012, 102], [101, 1045, 1005, 1049, 6517, 1010, 2062, 2084, 1045, 1005, 1049, 4854, 1012, 102], [101, 1045, 1005, 1049, 6517, 4063, 2084, 1045, 1005, 1049, 4854, 1012, 102], [101, 1045, 1005, 1049, 2062, 6517, 2084, 4854, 1012, 102], [101, 1045, 1005, 1049, 15366, 1010, 2062, 2084, 3241, 1012, 102], [101, 1045, 1005, 1049, 2062, 15366, 2084, 3241, 1012, 102], [101, 1045, 1005, 1049, 6517, 4063, 2084, 4854, 1012, 102], [101, 1045, 1005, 1049, 6517, 1010, 2004, 2172, 2004, 1045, 1005, 1049, 4854, 1012, 102], [101, 1045, 1005, 1049, 2004, 2172, 6517, 2004, 4854, 1012, 102], [101, 1045, 1005, 1049, 2004, 6517, 2004, 4854, 1012, 102], [101, 1045, 2572, 17076, 16252, 2651, 2008, 1045, 2001, 7483, 1012, 102], [101, 2198, 2003, 12283, 2084, 2416, 2519, 1012, 102], [101, 2198, 2003, 12283, 2084, 3021, 1012, 102], [101, 2984, 2038, 2062, 2084, 2048, 2814, 1012, 102], [101, 2984, 2038, 2062, 2084, 2074, 3021, 1998, 6969, 2814, 1012, 102], [101, 2984, 2038, 2062, 2814, 2084, 2048, 1012, 102], [101, 2984, 2038, 2062, 2814, 2084, 2074, 3021, 1998, 6969, 1012, 102], [101, 2027, 2089, 4982, 2004, 2172, 2004, 2416, 2519, 2152, 1012, 102], [101, 2027, 2089, 4982, 2004, 2172, 2004, 15216, 2152, 1012, 102], [101, 2027, 2089, 4982, 2004, 2152, 2004, 2416, 2519, 1012, 102], [101, 2070, 1997, 2068, 2081, 2004, 2116, 2004, 2322, 10697, 1012, 102], [101, 2070, 1997, 2068, 2081, 2004, 2116, 2004, 7437, 10697, 1012, 102], [101, 2070, 1997, 2068, 2081, 2004, 2116, 10697, 2004, 7437, 1012, 102], [101, 2198, 2003, 12283, 2084, 2416, 2519, 2003, 1012, 102], [101, 2198, 2003, 12283, 2084, 6969, 2003, 1012, 102], [101, 2984, 2038, 2062, 2814, 2008, 2048, 1012, 102], [101, 2984, 2038, 2062, 2814, 2084, 2074, 3021, 1998, 6969, 2024, 1012, 102], [101, 2198, 2003, 2062, 2084, 2274, 2519, 2460, 1012, 102], [101, 2198, 2003, 7820, 2084, 2274, 2519, 1012, 102], [101, 2984, 2038, 2062, 6716, 2084, 3021, 2038, 2814, 1012, 102], [101, 2984, 2038, 2062, 2084, 3021, 2038, 2814, 6716, 1012, 102], [101, 2984, 2987, 1005, 1056, 2031, 2004, 2116, 2205, 2116, 2205, 2116, 2004, 4869, 1012, 102], [101, 4869, 2038, 2062, 3053, 2004, 2116, 2205, 2116, 2084, 2984, 1012, 102], [101, 2984, 16849, 2274, 2062, 10876, 2084, 7437, 16849, 1012, 102], [101, 2984, 16849, 2004, 2116, 2062, 10876, 2084, 7437, 2004, 8507, 1012, 102], [101, 3021, 4782, 2370, 1012, 102], [101, 3021, 4782, 2841, 1012, 102], [101, 8836, 4782, 2841, 1012, 102], [101, 3610, 2370, 1012, 102], [101, 1996, 8957, 4782, 2993, 1012, 102], [101, 2016, 6573, 2841, 2006, 1996, 2132, 2007, 1037, 16950, 25955, 3490, 1012, 102], [101, 2016, 6573, 2370, 2006, 1996, 2132, 2007, 1037, 16950, 25955, 3490, 1012, 102], [101, 1996, 7488, 16379, 2993, 2114, 1996, 2600, 1012, 102], [101, 1996, 3557, 2229, 2228, 3209, 1996, 2190, 2155, 2006, 1996, 3796, 1012, 102], [101, 1996, 3557, 2229, 2228, 2370, 1996, 2087, 7272, 3124, 2006, 1996, 3796, 1012, 102], [101, 5639, 1998, 4901, 2743, 3209, 2046, 15575, 1012, 102], [101, 5639, 1998, 4901, 2743, 2370, 2046, 15575, 1012, 102], [101, 2111, 2013, 17478, 2228, 2200, 3811, 1997, 3209, 1012, 102], [101, 1045, 2435, 2870, 1996, 13610, 1997, 3256, 6949, 1012, 102], [101, 2016, 2718, 2870, 2007, 1037, 8691, 1012, 102], [101, 2016, 2718, 2841, 2007, 1037, 8691, 1012, 102], [101, 8788, 8682, 1996, 2311, 2039, 1012, 102], [101, 8788, 8682, 2039, 1996, 2311, 1012, 102], [101, 8788, 8682, 2009, 2039, 1012, 102], [101, 8788, 8682, 2039, 2009, 1012, 102], [101, 2040, 2079, 2017, 4687, 2054, 4149, 1029, 102], [101, 1045, 4687, 2054, 13073, 4149, 1012, 102], [101, 11868, 18623, 1996, 2003, 2630, 1012, 102], [101, 8808, 12328, 2293, 27136, 2015, 1012, 102], [101, 1996, 5613, 7165, 2240, 1997, 16825, 3631, 2026, 2547, 2275, 1012, 102], [101, 15820, 7459, 2932, 14997, 1012, 102], [101, 1045, 2228, 15820, 7459, 2932, 14997, 1012, 102], [101, 11271, 13579, 2008, 3881, 7164, 1045, 2228, 15820, 7459, 2932, 14997, 1012, 102], [101, 4913, 2187, 1012, 102], [101, 4913, 1998, 4862, 2532, 2187, 1012, 102], [101, 4913, 1010, 4907, 1010, 11781, 1010, 1998, 4862, 2532, 2187, 1012, 102], [101, 2040, 2079, 2017, 2228, 2008, 9915, 5521, 2097, 3160, 2034, 1029, 102], [101, 2040, 2079, 2017, 2228, 9915, 5521, 2097, 3160, 2034, 1029, 102], [101, 2040, 2079, 2017, 2228, 2097, 3160, 24993, 2034, 1029, 102], [101, 2040, 2079, 2017, 2228, 2008, 2097, 3160, 24993, 2034, 1029, 102], [101, 1045, 5987, 2574, 2000, 2156, 1996, 3463, 1012, 102], [101, 1045, 5987, 2000, 2156, 1996, 3463, 2574, 1012, 102], [101, 1045, 5987, 2000, 2574, 2156, 1996, 3463, 1012, 102], [101, 1045, 5987, 2062, 2084, 2000, 3313, 2026, 11372, 1012, 102], [101, 1045, 5987, 2000, 3313, 2062, 2084, 2026, 11372, 1012, 102], [101, 1045, 5987, 2000, 3313, 2026, 11372, 2062, 2084, 1012, 102], [101, 1045, 5987, 2000, 2062, 2084, 3313, 2026, 11372, 1012, 102], [101, 2040, 2106, 2017, 2156, 1999, 5869, 7136, 1029, 102], [101, 2017, 2024, 12283, 2084, 2033, 1012, 102], [101, 2026, 2417, 2003, 18097, 1012, 102], [101, 2040, 2079, 2017, 2228, 2008, 2387, 3021, 1029, 102], [101, 2026, 2814, 2359, 2000, 2855, 2681, 1996, 2283, 1012, 102], [101, 21122, 15580, 25659, 2015, 4521, 1012, 102], [101, 2577, 6369, 2000, 2370, 1012, 102], [101, 2370, 6369, 2000, 2577, 1012, 102], [101, 22396, 7459, 2841, 1999, 2630, 5898, 1012, 102], [101, 3071, 2323, 2022, 2583, 2000, 6985, 2370, 1012, 102], [101, 3071, 2323, 2022, 2583, 2000, 6985, 2841, 1012, 102], [101, 1045, 3246, 6343, 2097, 3480, 3209, 1012, 102], [101, 1045, 3246, 6343, 2097, 3480, 2370, 1012, 102], [101, 2123, 1005, 1056, 2718, 4426, 999, 102], [101, 2016, 2003, 5613, 1012, 102], [101, 2027, 2024, 5613, 1012, 102], [101, 1996, 2158, 2003, 5613, 1012, 102], [101, 1996, 2273, 2024, 5613, 1012, 102], [101, 1996, 2493, 2777, 2000, 6848, 1996, 2622, 1012, 102], [101, 18270, 12984, 1998, 8823, 1996, 20238, 1012, 102], [101, 18270, 8823, 1998, 12984, 1996, 20238, 1012, 102], [101, 2002, 2404, 1996, 4253, 1012, 102], [101, 2002, 2404, 1999, 1996, 12699, 3698, 1012, 102], [101, 1045, 2435, 2026, 2567, 1037, 5798, 2556, 1012, 102], [101, 1045, 2435, 1037, 5798, 2556, 2000, 2026, 2567, 1012, 102], [101, 2073, 2079, 2017, 4364, 2444, 2012, 1029, 102], [101, 2009, 2003, 5793, 2000, 7955, 2008, 25448, 7777, 28616, 3270, 1012, 102], [101, 1996, 2158, 3866, 21443, 12136, 16324, 1012, 102], [101, 1996, 17022, 3866, 21443, 12136, 16324, 1012, 102], [101, 1996, 2332, 3866, 21443, 12136, 16324, 1012, 102], [101, 1996, 2665, 3866, 21443, 12136, 16324, 1012, 102], [101, 1996, 1999, 3866, 21443, 12136, 16324, 1012, 102], [101, 1996, 6170, 3866, 21443, 12136, 16324, 1012, 102], [101, 2198, 2253, 2000, 1996, 3573, 1012, 102], [101, 1996, 2158, 2253, 2000, 1996, 3573, 1012, 102], [101, 2855, 7365, 2253, 2000, 1996, 3573, 1012, 102], [101, 2000, 1996, 9378, 9954, 4782, 1996, 1038, 8017, 5420, 2962, 1012, 102], [101, 1996, 6215, 1997, 1996, 2103, 11250, 1996, 22235, 1012, 102], [101, 23997, 2003, 2019, 2590, 3737, 1012, 102], [101, 1996, 10102, 1997, 1996, 2343, 1012, 102], [101, 17478, 2003, 1037, 2307, 2173, 2000, 2444, 1012, 102], [101, 16988, 1005, 1055, 2388, 2003, 2019, 12946, 13422, 1012, 102], [101, 10654, 15608, 2388, 8702, 13195, 1012, 102], [101, 12815, 1005, 1055, 2388, 2406, 2003, 10399, 1012, 102], [101, 3434, 2056, 2008, 3033, 1997, 4613, 18896, 2014, 1012, 102], [101, 4937, 8823, 1996, 6804, 1012, 102], [101, 1996, 4937, 8823, 1996, 6804, 1012, 102], [101, 8870, 8823, 1996, 6804, 1012, 102], [101, 1996, 8870, 8823, 1996, 6804, 1012, 102], [101, 1045, 8823, 6207, 1012, 102], [101, 1045, 8823, 1996, 6207, 1012, 102], [101, 1045, 8823, 5699, 1012, 102], [101, 1045, 8823, 1996, 5699, 1012, 102], [101, 2002, 2003, 3561, 2007, 23997, 1012, 102], [101, 1045, 4797, 2010, 23997, 1012, 102], [101, 1996, 8695, 7559, 18718, 9431, 10312, 1996, 7522, 1005, 1055, 6265, 1012, 102], [101, 1045, 2356, 1996, 3160, 1012, 102], [101, 1045, 2356, 2065, 2017, 2354, 1996, 3437, 1012, 102], [101, 1045, 2718, 1996, 3608, 1012, 102], [101, 1045, 16891, 2032, 1996, 4390, 1012, 102], [101, 1045, 2404, 1996, 3482, 1996, 2338, 1012, 102], [101, 1045, 2404, 1996, 2338, 1999, 1996, 3482, 1012, 102], [101, 1045, 2435, 1996, 3482, 2000, 14188, 1012, 102], [101, 1045, 2435, 14188, 1996, 3482, 1012, 102], [101, 1045, 2409, 3817, 1996, 2466, 1012, 102], [101, 1045, 2409, 3817, 2008, 1996, 11360, 2001, 8014, 1012, 102], [101, 1045, 2409, 1996, 2466, 2000, 3817, 1012, 102], [101, 1996, 3010, 2231, 3594, 1037, 5768, 2291, 1997, 7072, 1012, 102], [101, 1996, 3010, 4149, 2370, 1037, 26375, 1012, 102], [101, 1996, 10975, 21041, 4095, 22978, 2134, 1005, 1056, 5959, 2559, 2012, 1996, 4274, 1012, 102], [101, 2057, 2562, 2216, 8292, 29577, 2098, 4809, 1997, 1996, 2338, 5023, 2000, 4047, 1996, 12411, 5332, 14680, 1997, 1996, 10975, 21041, 4095, 1012, 102], [101, 6294, 4149, 2070, 4870, 2005, 2014, 2388, 1012, 102], [101, 6294, 4149, 2070, 4870, 2005, 2014, 5798, 1012, 102], [101, 6294, 4149, 2014, 5798, 2070, 4870, 1012, 102], [101, 1045, 2435, 2668, 1012, 102], [101, 1045, 2123, 1005, 1056, 2507, 1037, 18243, 2078, 1012, 102], [101, 5557, 3957, 10350, 1997, 2010, 2051, 1012, 102], [101, 4907, 2435, 2010, 2166, 1012, 102], [101, 4907, 3957, 2000, 5952, 1012, 102], [101, 3374, 1010, 1045, 2435, 2197, 2733, 1012, 102], [101, 1996, 3076, 3866, 2010, 6887, 17175, 6483, 15324, 1012, 102], [101, 1045, 2387, 2122, 10487, 1998, 2216, 5389, 9422, 2242, 1012, 102], [101, 1045, 2572, 5948, 14380, 9648, 1998, 5983, 1037, 2829, 2666, 1012, 102], [101, 2057, 2253, 2083, 1996, 5249, 1998, 2058, 1996, 2958, 1012, 102], [101, 1996, 2158, 3005, 2482, 1045, 2718, 2197, 2733, 12923, 2033, 1012, 102], [101, 1996, 2502, 2158, 2013, 6396, 2038, 2411, 2056, 2008, 2002, 2435, 27613, 2000, 16825, 1012, 102], [101, 1996, 2158, 2730, 1996, 2332, 2007, 1996, 5442, 1012, 102], [101, 2057, 8823, 2012, 1037, 2428, 11281, 4825, 1012, 102], [101, 2057, 8823, 2012, 1012, 102], [101, 2502, 15220, 1997, 13435, 2024, 2054, 1045, 2066, 1012, 102], [101, 1996, 2502, 2879, 2001, 4782, 2011, 1996, 2852, 13669, 2075, 3899, 1012, 102], [101, 1996, 2852, 13669, 2075, 3899, 4782, 1996, 2502, 2879, 1012, 102], [101, 2198, 1998, 1996, 2158, 2253, 2000, 1996, 3573, 1012, 102], [101, 2198, 1998, 2200, 2630, 2253, 2000, 1996, 3573, 1012, 102], [101, 5503, 3866, 1998, 5163, 6283, 6887, 17175, 6483, 2465, 1012, 102], [101, 1996, 2007, 6501, 4157, 2003, 2980, 1012, 102], [101, 1996, 21652, 17230, 2058, 1996, 4744, 1012, 102], [101, 1045, 4033, 1005, 1056, 2464, 2023, 6251, 2077, 1012, 102], [101, 6294, 2097, 2196, 6170, 2012, 20429, 1012, 102], [101, 1996, 2961, 5362, 20456, 1996, 6105, 1012, 102], [101, 2296, 4937, 2467, 4282, 1996, 3295, 1997, 2014, 5440, 4937, 3490, 2361, 9121, 1012, 102], [101, 1996, 4937, 2404, 2014, 4937, 3490, 2361, 9121, 2006, 1996, 6081, 13523, 1012, 102], [101, 1996, 2200, 2402, 2775, 2939, 2013, 2082, 2000, 1996, 3573, 1012, 102], [101, 2198, 3825, 1037, 7922, 2005, 1037, 2132, 1997, 2292, 8525, 3401, 1012, 102], [101, 12908, 3298, 2738, 2855, 1012, 102], [101, 1037, 12266, 16669, 2007, 1996, 2157, 3941, 2064, 7966, 1996, 4378, 4089, 1012, 102], [101, 1996, 2610, 2453, 3269, 1996, 5850, 1999, 1996, 4545, 1012, 102], [101, 2216, 4386, 17772, 2015, 2323, 3218, 29454, 29206, 14626, 3679, 1012, 102], [101, 1996, 6745, 2470, 2006, 8738, 2075, 2467, 19428, 2111, 2055, 1996, 16796, 1997, 2205, 2172, 16480, 4244, 27833, 1012, 102], [101, 2008, 15703, 6904, 18796, 2102, 2001, 14309, 7887, 2005, 2706, 1012, 102], [101, 14042, 16278, 2065, 1996, 7427, 2013, 3731, 2097, 2412, 7180, 1012, 102], [101, 1045, 2056, 2008, 19349, 2100, 2323, 2079, 2070, 11278, 2013, 1996, 2690, 2264, 1012, 102], [101, 2008, 4907, 5610, 2015, 1999, 1996, 2436, 2428, 8572, 2015, 4862, 2532, 1012, 102], [101, 1996, 6772, 2008, 19962, 2696, 13306, 3399, 7657, 1996, 5110, 3252, 1997, 11746, 7861, 27495, 6675, 1996, 2525, 2172, 2205, 24995, 2934, 1012, 102], [101, 1045, 4149, 1996, 22530, 1999, 1996, 3573, 1012, 102], [101, 1045, 2404, 1996, 6501, 1999, 1996, 16716, 1012, 102], [101, 1045, 5653, 2098, 1996, 14329, 2000, 2984, 1012, 102], [101, 1045, 2354, 1996, 2158, 2007, 1996, 2829, 2606, 1012, 102], [101, 2198, 2056, 2984, 2253, 2000, 1996, 3573, 2855, 1012, 102], [101, 1045, 3603, 2019, 2214, 2394, 5961, 1012, 102], [101, 6294, 2638, 2435, 1996, 7163, 6212, 2000, 2577, 1012, 102], [101, 12085, 2288, 1037, 13459, 2293, 3661, 2013, 18566, 1012, 102], [101, 2002, 8682, 2041, 1996, 13541, 1012, 102], [101, 2002, 2357, 2125, 1996, 2422, 1012, 102], [101, 2002, 8682, 2039, 1996, 2311, 1012, 102], [101, 2002, 8469, 2041, 1996, 4040, 1012, 102], [101, 10881, 4782, 5168, 1996, 18401, 1012, 102], [101, 10881, 2187, 5168, 2296, 2154, 1012, 102], [101, 13707, 2758, 2008, 12390, 3658, 2000, 2010, 3008, 1037, 2843, 1012, 102], [101, 1996, 17022, 11181, 1996, 18401, 1005, 1055, 2227, 1012, 102], [101, 2009, 2003, 24057, 1012, 102], [101, 5965, 5683, 2986, 1012, 102], [101, 2008, 3021, 1005, 1055, 3052, 14747, 1997, 24444, 8572, 2015, 11781, 1012, 102], [101, 6294, 4782, 1996, 15912, 1005, 1055, 4451, 1012, 102], [101, 26170, 10948, 1037, 22193, 10147, 2290, 1012, 102], [101, 8512, 2056, 2008, 1996, 10168, 2001, 26433, 1012, 102], [101, 13097, 26393, 2232, 3013, 1996, 21475, 2007, 1037, 5442, 1012, 102], [101, 2057, 5225, 2035, 1996, 2126, 2000, 9204, 9149, 1012, 102], [101, 2198, 26610, 4572, 2007, 1037, 7816, 3598, 2006, 9857, 1012, 102], [101, 1996, 2502, 2158, 2013, 2047, 2259, 7459, 4524, 9050, 2007, 6949, 8808, 1012, 102], [101, 6294, 8469, 1037, 4408, 2630, 3345, 2013, 2047, 2259, 1012, 102], [101, 1996, 20228, 12722, 2100, 20228, 4017, 22571, 2271, 6476, 1037, 2064, 1997, 11350, 2013, 2047, 2259, 2000, 17478, 1012, 102], [101, 2198, 2056, 9246, 6369, 1996, 9342, 2007, 26903, 2080, 1012, 102], [101, 9246, 2056, 2198, 6369, 1996, 9342, 2013, 2474, 8945, 29122, 2063, 1012, 102], [101, 1996, 2338, 1997, 5878, 2007, 1996, 4408, 2417, 3104, 27136, 2015, 1012, 102], [101, 3434, 21795, 2984, 10312, 1996, 8722, 13366, 14626, 1012, 102], [101, 1996, 5186, 5458, 2493, 6283, 19962, 2696, 13306, 3628, 2007, 1037, 6896, 1012, 102], [101, 2116, 3548, 2031, 3555, 26071, 2300, 2938, 2483, 14213, 21810, 2190, 1012, 102], [101, 14048, 7126, 2017, 4982, 2115, 2449, 1012, 102], [101, 1045, 2134, 1005, 1056, 3191, 1037, 2309, 2338, 1996, 2878, 2051, 1045, 2001, 1999, 1996, 3075, 1012, 102], [101, 1045, 2106, 2025, 2031, 1037, 2417, 9358, 1012, 102], [101, 27579, 2626, 1037, 2986, 3259, 2006, 23564, 11008, 8586, 1012, 102], [101, 21372, 2718, 2841, 2006, 1996, 2132, 2007, 1037, 16950, 25955, 3490, 1012, 102], [101, 2841, 2718, 21372, 2006, 1996, 2132, 2007, 1037, 16950, 25955, 3490, 1012, 102], [101, 21372, 7164, 2151, 6412, 1997, 2841, 1012, 102], [101, 2198, 2354, 2008, 2045, 2052, 2022, 1037, 3861, 1997, 2370, 5689, 1999, 1996, 2695, 1012, 102], [101, 2348, 2002, 7459, 9409, 9067, 8261, 2015, 1010, 2198, 2003, 2025, 1037, 2502, 5470, 1997, 7967, 1012, 102], [101, 2010, 24803, 3861, 3957, 3419, 1996, 19815, 2015, 1012, 102], [101, 14749, 9747, 2003, 20692, 3744, 2063, 6243, 1012, 102], [101, 4962, 13672, 2001, 2761, 2315, 15030, 2213, 18522, 1012, 102], [101, 4901, 8823, 26666, 2007, 1037, 15642, 1998, 20248, 17080, 2063, 2106, 2061, 2205, 1012, 102], [101, 1996, 10026, 20323, 13435, 1998, 4240, 16521, 2015, 2007, 19896, 1012, 102], [101, 1045, 2572, 10363, 1997, 7600, 1012, 102], [101, 1045, 2572, 4452, 1997, 7600, 1012, 102], [101, 1045, 2572, 13545, 1997, 9661, 9567, 1012, 102], [101, 1045, 3571, 7600, 1012, 102], [101, 1045, 2066, 9661, 9567, 1012, 102], [101, 1045, 2572, 4452, 1997, 7600, 1998, 13545, 1997, 15912, 2015, 2302, 6453, 1012, 102], [101, 1045, 2572, 10363, 1997, 7600, 1998, 13545, 1997, 15912, 2015, 2302, 6453, 1012, 102], [101, 3960, 2003, 2200, 3809, 2055, 2984, 1010, 2021, 2625, 2061, 2084, 2703, 1012, 102], [101, 1996, 2338, 1997, 5878, 2007, 1037, 2417, 3104, 2013, 18776, 2011, 2728, 7641, 3138, 1037, 2200, 2146, 2051, 2000, 3191, 1012, 102], [101, 1996, 2338, 1997, 5878, 2007, 1037, 2417, 3104, 2013, 18776, 2011, 2728, 7641, 3138, 1037, 2200, 2146, 2051, 2000, 3191, 1012, 102], [101, 1996, 2338, 1997, 5878, 2013, 18776, 2007, 1037, 2417, 3104, 2011, 2728, 7641, 3138, 1037, 2200, 2146, 2051, 2000, 3191, 1012, 102], [101, 1996, 2338, 1997, 5878, 2013, 18776, 2011, 2728, 7641, 2007, 1037, 2417, 3104, 3138, 1037, 2200, 2146, 2051, 2000, 3191, 1012, 102], [101, 1996, 2338, 1997, 5878, 2011, 2728, 7641, 2013, 18776, 2007, 1037, 2417, 3104, 3138, 1037, 2200, 2146, 2051, 2000, 3191, 1012, 102], [101, 1996, 2338, 1997, 5878, 2011, 2728, 7641, 2007, 1037, 2417, 3104, 2013, 18776, 3138, 1037, 2200, 2146, 2051, 2000, 3191, 1012, 102], [101, 1996, 2338, 1997, 5878, 2007, 1037, 2417, 3104, 2011, 2728, 7641, 2013, 18776, 3138, 1037, 2200, 2146, 2051, 2000, 3191, 1012, 102], [101, 1996, 2338, 2007, 1037, 2417, 3104, 1997, 5878, 2013, 18776, 2011, 2728, 7641, 3138, 1037, 2200, 2146, 2051, 2000, 3191, 1012, 102], [101, 1996, 2338, 2007, 1037, 2417, 3104, 2013, 18776, 1997, 5878, 2011, 2728, 7641, 3138, 1037, 2200, 2146, 2051, 2000, 3191, 1012, 102], [101, 1996, 2338, 2007, 1037, 2417, 3104, 2013, 18776, 2011, 2728, 7641, 1997, 5878, 3138, 1037, 2200, 2146, 2051, 2000, 3191, 1012, 102], [101, 1996, 2338, 1997, 5878, 2007, 1037, 2417, 3104, 1998, 2007, 1037, 2630, 8560, 3138, 1037, 2200, 2146, 2051, 2000, 3191, 1012, 102], [101, 1996, 2338, 1997, 5878, 1998, 1997, 4349, 2013, 18776, 3138, 1037, 2200, 2146, 2051, 2000, 3191, 1012, 102], [101, 1996, 2028, 1997, 5878, 2007, 1037, 2417, 3104, 3138, 1037, 2200, 2146, 2051, 2000, 3191, 1012, 102], [101, 1045, 3866, 1996, 14460, 20531, 2007, 2035, 2026, 2540, 1012, 102], [101, 1045, 3866, 20531, 1996, 14460, 2007, 2035, 2026, 2540, 1012, 102], [101, 1045, 3866, 1996, 14460, 1996, 6243, 20531, 2007, 2035, 2026, 2540, 1012, 102], [101, 27857, 3866, 1996, 14460, 20531, 1998, 6294, 2106, 2061, 2431, 18627, 2135, 1012, 102], [101, 6294, 2106, 2061, 1996, 6243, 1012, 102], [101, 2198, 10069, 6077, 1012, 102], [101, 2198, 2003, 4452, 1997, 6077, 1012, 102], [101, 2048, 2030, 2093, 2808, 2202, 1037, 2200, 2146, 2051, 2000, 3191, 1012, 102], [101, 2048, 2030, 11771, 2808, 2202, 1037, 2200, 2146, 2051, 2000, 3191, 1012, 102], [101, 1996, 2417, 4377, 2007, 1996, 5061, 13560, 3504, 2204, 2006, 7525, 1012, 102], [101, 1996, 9200, 2158, 2013, 4380, 2179, 2808, 1997, 5878, 1999, 1996, 25081, 1012, 102], [101, 11781, 2196, 7906, 2014, 14745, 2015, 1999, 1996, 6149, 13065, 1012, 102], [101, 4907, 2939, 2000, 2047, 3290, 1999, 1996, 4542, 2197, 2095, 1012, 102], [101, 2577, 2626, 1037, 3872, 1997, 5878, 1999, 3763, 2005, 4869, 1012, 102], [101, 2111, 2007, 8378, 1997, 2214, 4253, 7732, 2039, 2369, 1996, 2341, 1997, 1996, 2311, 2007, 1996, 17271, 2100, 4412, 1012, 102], [101, 2008, 9935, 11123, 11113, 28819, 1999, 4174, 15508, 2033, 6551, 1012, 102], [101, 2053, 2028, 19821, 2008, 7655, 3252, 3513, 4863, 1996, 2210, 5319, 9575, 1997, 1996, 10709, 3091, 1997, 11746, 1012, 102], [101, 2026, 5440, 2653, 2003, 1037, 2653, 2007, 3722, 19476, 1998, 8552, 20231, 1012, 102], [101, 7332, 2288, 1037, 14978, 2006, 9317, 2013, 1996, 4487, 28745, 15532, 14782, 2493, 1997, 6887, 17175, 6483, 2013, 4174, 1012, 102], [101, 1996, 3074, 1997, 20231, 4790, 2007, 1996, 2417, 3104, 8501, 2015, 2493, 1997, 20231, 1999, 17478, 1012, 102], [101, 1996, 2417, 3872, 1997, 27744, 7893, 2013, 3304, 7135, 1996, 16405, 25279, 3969, 1997, 1996, 2704, 2007, 1996, 10154, 3243, 12246, 7483, 1012, 102], [101, 1996, 5221, 2158, 1999, 1996, 2282, 2056, 2008, 2198, 10948, 2019, 3493, 10147, 2290, 2013, 2221, 11260, 2000, 2221, 17333, 2006, 9432, 1012, 102], [101, 1037, 20934, 12190, 9331, 12803, 1997, 14629, 2007, 7954, 2100, 21049, 3062, 2006, 1996, 2934, 1997, 15397, 2007, 1996, 6659, 5510, 1999, 1056, 1011, 11344, 2013, 1996, 11313, 2466, 1012, 102], [101, 1996, 4408, 2665, 15242, 5239, 2001, 3561, 2000, 1996, 7987, 5714, 2007, 1996, 2087, 11771, 4790, 2013, 1037, 8919, 3485, 1997, 15397, 2007, 1037, 17844, 2312, 8141, 5605, 1012, 102], [101, 1996, 5435, 1997, 1996, 15133, 2003, 2601, 2304, 1012, 102], [101, 1996, 4412, 1997, 1996, 2311, 2003, 24325, 1012, 102], [101, 1996, 6045, 1997, 1996, 2158, 3061, 2058, 2045, 7622, 2033, 6551, 1012, 102], [101, 1996, 15133, 1005, 1055, 5435, 2003, 2601, 2304, 1012, 102], [101, 1996, 2311, 1005, 1055, 4412, 2003, 24325, 1012, 102], [101, 1996, 2158, 3061, 2058, 2045, 1005, 1055, 6045, 7622, 2033, 6551, 1012, 102], [101, 1996, 2158, 1005, 1055, 3061, 2058, 2045, 6045, 7622, 2033, 6551, 1012, 102], [101, 1996, 2158, 3061, 2058, 2045, 1005, 1055, 1996, 6045, 7622, 2033, 6551, 1012, 102], [101, 1996, 2879, 2743, 1012, 102], [101, 4922, 2003, 1037, 15397, 3076, 1012, 102], [101, 2848, 2056, 2008, 6266, 10948, 1012, 102], [101, 3021, 4122, 6294, 2000, 2681, 1012, 102], [101, 2848, 6732, 2008, 18305, 7459, 2032, 1012, 102], [101, 2111, 4855, 2037, 15768, 3303, 1996, 5823, 1997, 4612, 1012, 102], [101, 2005, 2984, 2000, 2293, 2008, 22017, 2099, 2003, 1037, 19817, 21055, 3723, 1012, 102], [101, 1045, 2056, 2008, 2984, 2772, 2026, 24803, 1012, 102], [101, 1045, 2215, 2984, 2000, 3696, 2026, 24803, 1012, 102], [101, 1045, 1005, 2310, 2196, 2464, 2017, 4521, 2004, 28689, 12349, 1012, 102], [101, 1045, 2113, 2017, 8823, 2004, 28689, 12349, 1012, 102], [101, 1045, 1005, 2310, 2196, 2464, 2017, 8823, 2004, 28689, 12349, 1012, 102], [101, 1045, 1005, 2310, 2196, 2464, 2032, 20323, 2004, 28689, 12349, 1012, 102], [101, 1045, 1005, 2310, 2196, 2464, 2032, 4521, 2004, 28689, 12349, 1012, 102], [101, 1045, 2228, 2008, 2002, 20323, 2004, 28689, 12349, 1012, 102], [101, 1045, 2215, 2000, 4521, 2004, 28689, 12349, 1012, 102], [101, 1045, 2215, 2032, 2000, 4521, 2004, 28689, 12349, 1012, 102], [101, 1045, 4687, 2065, 2002, 20323, 2004, 28689, 12349, 1012, 102], [101, 2005, 2032, 2000, 4521, 2004, 28689, 12349, 2003, 1037, 19817, 21055, 3723, 1012, 102], [101, 1045, 2356, 2005, 2032, 2000, 4521, 1996, 2004, 28689, 12349, 1012, 102], [101, 1045, 2228, 2002, 2097, 4521, 2004, 28689, 12349, 1012, 102], [101, 25616, 2356, 2065, 19118, 2018, 2448, 1037, 8589, 1012, 102], [101, 25616, 2356, 2065, 2018, 19118, 2448, 1037, 8589, 1012, 102], [101, 25616, 2356, 2018, 2065, 19118, 2448, 1037, 8589, 1012, 102], [101, 2017, 2064, 2599, 1037, 3586, 2000, 2300, 2021, 2097, 2009, 4392, 1029, 102], [101, 2002, 2097, 2175, 1012, 102], [101, 2002, 3632, 1012, 102], [101, 1996, 21443, 12136, 2038, 2288, 18282, 2100, 1012, 102], [101, 1996, 7370, 18461, 1996, 5439, 3608, 2408, 1996, 2665, 1012, 102], [101, 2008, 4302, 7459, 5613, 2003, 21328, 2011, 2010, 12538, 11112, 6007, 1012, 102], [101, 1996, 6142, 2015, 16486, 1996, 3514, 2408, 1996, 2314, 1012, 102], [101, 17497, 7164, 1996, 17608, 2000, 2022, 1037, 2373, 7501, 21237, 1012, 102], [101, 7987, 9351, 7295, 6777, 2018, 2056, 2005, 1998, 18981, 4492, 2000, 2681, 1012, 102], [101, 6300, 21593, 2378, 2387, 13125, 3173, 1996, 4524, 1012, 102], [101, 2728, 6732, 2008, 2493, 2323, 4521, 2004, 28689, 12349, 1012, 102], [101, 2728, 6732, 2008, 3076, 2323, 4521, 2004, 28689, 12349, 1012, 102], [101, 15397, 2493, 2066, 26664, 2015, 14924, 26340, 1012, 102], [101, 9246, 2056, 2008, 3021, 3866, 2010, 15138, 10735, 1999, 1996, 2851, 1012, 102], [101, 3449, 23565, 4122, 2017, 2000, 2817, 1037, 2047, 2653, 1012, 7868, 2000, 1027, 1056, 1012, 102], [101, 2005, 7994, 2000, 26260, 2007, 8963, 10363, 8538, 1012, 102], [101, 2053, 2158, 2038, 2412, 7854, 1996, 9358, 21159, 1012, 102], [101, 2070, 2158, 2038, 2412, 7854, 1996, 9358, 21159, 1012, 102], [101, 2296, 2158, 2038, 2412, 7854, 1996, 9358, 21159, 1012, 102], [101, 18040, 16424, 2047, 2259, 1012, 102], [101, 18040, 16424, 1012, 102], [101, 27557, 3281, 1012, 102], [101, 27557, 3281, 1996, 18302, 1012, 102], [101, 19817, 6305, 2072, 2435, 1996, 13156, 1037, 8840, 6894, 16340, 1012, 102], [101, 19817, 6305, 2072, 2435, 1996, 13156, 1012, 102], [101, 19817, 6305, 2072, 2435, 1037, 8840, 6894, 16340, 1012, 102], [101, 4575, 2718, 4080, 1012, 102], [101, 2745, 9554, 3631, 1996, 3221, 1012, 102], [101, 14188, 7777, 16324, 1012, 102], [101, 12484, 2387, 1996, 13232, 1012, 102], [101, 20231, 25966, 6132, 8888, 1012, 102], [101, 26442, 2921, 2014, 20231, 2338, 1012, 102], [101, 1996, 8612, 2718, 3841, 1012, 102], [101, 1996, 15034, 16424, 6887, 17175, 6483, 1012, 102], [101, 8788, 2253, 2000, 3190, 1012, 102], [101, 4913, 2001, 2445, 1996, 24570, 4666, 1012, 102], [101, 2577, 2435, 8201, 1996, 2338, 1012, 102], [101, 3817, 2363, 1037, 8040, 11614, 2075, 2013, 10579, 1012, 102], [101, 3960, 2435, 3889, 1996, 20231, 8775, 1012, 102], [101, 18566, 2234, 3495, 2013, 15397, 2465, 1012, 102], [101, 4080, 2003, 1999, 17478, 1005, 1055, 10418, 4545, 1012, 102], [101, 3782, 28719, 1996, 3274, 4237, 2007, 2019, 12946, 1012, 102], [101, 2023, 3145, 2097, 2330, 1996, 2341, 2000, 1996, 15397, 2311, 1012, 102], [101, 2002, 4149, 2122, 4870, 2005, 7158, 1012, 102], [101, 2016, 12984, 4717, 4596, 1012, 102], [101, 2198, 2872, 1996, 8928, 1012, 102], [101, 2198, 2404, 1996, 2338, 2006, 1996, 2795, 1012, 102], [101, 2198, 2404, 1996, 2338, 2006, 1996, 2795, 2007, 1037, 3940, 1997, 15740, 2015, 1012, 102], [101, 12756, 7459, 4901, 1012, 102], [101, 12756, 7459, 1012, 102], [101, 12756, 7459, 4463, 1012, 102], [101, 2009, 28270, 1012, 102], [101, 2009, 4586, 2098, 1012, 102], [101, 2009, 16586, 1012, 102], [101, 2008, 3021, 7459, 7967, 2003, 3497, 1012, 102], [101, 2009, 2003, 3497, 2008, 3021, 7777, 7967, 1012, 102], [101, 1045, 2404, 1037, 2338, 2006, 2009, 1012, 102], [101, 2009, 2978, 2033, 2006, 1996, 4190, 1012, 102], [101, 10881, 2741, 4907, 2019, 10373, 1012, 102], [101, 18566, 2718, 1037, 3598, 2000, 6423, 1012, 102], [101, 14519, 10948, 1037, 10147, 2290, 1012, 102], [101, 9805, 3683, 7503, 1996, 10733, 2007, 1037, 20548, 18856, 21818, 1012, 102], [101, 2009, 2003, 24057, 1999, 2624, 3799, 1012, 102], [101, 1996, 2358, 7716, 6292, 2934, 2187, 2007, 2010, 4252, 3353, 1012, 102], [101, 1045, 2209, 1037, 8694, 2006, 2026, 26322, 1012, 102], [101, 9618, 2435, 11130, 1037, 3610, 1012, 102], [101, 10793, 2435, 1037, 3231, 2000, 1996, 2493, 1999, 1996, 8835, 2534, 1012, 102], [101, 3962, 8823, 1037, 4937, 7438, 1012, 102], [101, 6294, 8823, 7483, 2012, 1996, 4825, 1012, 102], [101, 11697, 2246, 2012, 1037, 2543, 4744, 1012, 102], [101, 2745, 2356, 1037, 3160, 1012, 102], [101, 4205, 2356, 2065, 1044, 3148, 15459, 2705, 7777, 7222, 23804, 2015, 1012, 102], [101, 1045, 2514, 2009, 2003, 15140, 2008, 2547, 2003, 2061, 29364, 2122, 2420, 1012, 102], [101, 2008, 13682, 16424, 10514, 6182, 2003, 8075, 1012, 102], [101, 27557, 3281, 1996, 11642, 1012, 102], [101, 2872, 1996, 8928, 2006, 1996, 2795, 1012, 102], [101, 2198, 2872, 2006, 1996, 2795, 1012, 102], [101, 2198, 2872, 1996, 8928, 1996, 6710, 2006, 1996, 2795, 1012, 102], [101, 1996, 2600, 2872, 1996, 3712, 2007, 1996, 9292, 1012, 102], [101, 2198, 2872, 1996, 8928, 1996, 2795, 1012, 102], [101, 2198, 2978, 1996, 6207, 1012, 102], [101, 6294, 2005, 3654, 3726, 3434, 1012, 102], [101, 1996, 13989, 12271, 1996, 3586, 1012, 102], [101, 10852, 2435, 1996, 5268, 1996, 3101, 1012, 102], [101, 1996, 6207, 2001, 19026, 1012, 102], [101, 3434, 2001, 24280, 1012, 102], [101, 1996, 3586, 2001, 15230, 1012, 102], [101, 1996, 3101, 2001, 2445, 2000, 1996, 5268, 1012, 102], [101, 1996, 5268, 2001, 2445, 1996, 3101, 1012, 102], [101, 1996, 6207, 2001, 19026, 2011, 2198, 1012, 102], [101, 3434, 2001, 24280, 2011, 6294, 1012, 102], [101, 1996, 3586, 2001, 15230, 2011, 1996, 13989, 1012, 102], [101, 1996, 3101, 2001, 2445, 2000, 1996, 5268, 2011, 10852, 1012, 102], [101, 1996, 5268, 2001, 2445, 1996, 3101, 2011, 10852, 1012, 102], [101, 1045, 8823, 1037, 10810, 1997, 18108, 1012, 102], [101, 1045, 8823, 1012, 102], [101, 1045, 2228, 2008, 2198, 7777, 2010, 5404, 1012, 102], [101, 1045, 2228, 2198, 7777, 2010, 5404, 1012, 102], [101, 1045, 2228, 2005, 2198, 2000, 2066, 2010, 5404, 1012, 102], [101, 1045, 2228, 2065, 2198, 7777, 2010, 5404, 1012, 102], [101, 1045, 3641, 2008, 2198, 4392, 2010, 5404, 1012, 102], [101, 1045, 3641, 2198, 4392, 2010, 5404, 1012, 102], [101, 1045, 3641, 2005, 2198, 2000, 4392, 2010, 5404, 1012, 102], [101, 1045, 3641, 2198, 2000, 4392, 2010, 5404, 1012, 102], [101, 1045, 3641, 2065, 2198, 4392, 2010, 5404, 1012, 102], [101, 1045, 24849, 2008, 2198, 2066, 2010, 5404, 1012, 102], [101, 1045, 24849, 2198, 7777, 2010, 5404, 1012, 102], [101, 1045, 24849, 2005, 2198, 2000, 2066, 2010, 5404, 1012, 102], [101, 1045, 24849, 2198, 2000, 2066, 2010, 5404, 1012, 102], [101, 1045, 24849, 2065, 2198, 7777, 2010, 5404, 1012, 102], [101, 21372, 6732, 2008, 5557, 2003, 5983, 11840, 14894, 2098, 9485, 6963, 1012, 102], [101, 21372, 6732, 2008, 5557, 2038, 8828, 11840, 14894, 2098, 9485, 6963, 1012, 102], [101, 21372, 6732, 2008, 5557, 2097, 4521, 11840, 14894, 2098, 9485, 6963, 1012, 102], [101, 21372, 6732, 2008, 5557, 20323, 11840, 14894, 2098, 9485, 6963, 1012, 102], [101, 21372, 6732, 2008, 1996, 11840, 14894, 2098, 9485, 6963, 2020, 8828, 1012, 102], [101, 2002, 2038, 10948, 1012, 102], [101, 1045, 2018, 8828, 1996, 2784, 13017, 14163, 15379, 2015, 1012, 102], [101, 1045, 2031, 8828, 1996, 12486, 11333, 18142, 2015, 1012, 102], [101, 1045, 2097, 2031, 8828, 1996, 12486, 11333, 18142, 2015, 1012, 102], [101, 5076, 2001, 5613, 2007, 13378, 2096, 6864, 2938, 14136, 2012, 2037, 2795, 1012, 102], [101, 1996, 11350, 2018, 2042, 2108, 8828, 2043, 2009, 2288, 13439, 1012, 102], [101, 5076, 2442, 2031, 8828, 1996, 2784, 13017, 14163, 15379, 1012, 102], [101, 5076, 2038, 2442, 8828, 1996, 2784, 13017, 14163, 15379, 1012, 102], [101, 5076, 2442, 2025, 2031, 8828, 1996, 2784, 13017, 14163, 15379, 1012, 102], [101, 5076, 2025, 2442, 2031, 8828, 1996, 2784, 13017, 14163, 15379, 1012, 102], [101, 11130, 2038, 1037, 21443, 1012, 102], [101, 6294, 2038, 1037, 3147, 1012, 102], [101, 3021, 2018, 2019, 4926, 1012, 102], [101, 11130, 2038, 8828, 1037, 21443, 1012, 102], [101, 3581, 2038, 7144, 2205, 2172, 1012, 102], [101, 3021, 2038, 2042, 5613, 1012, 102], [101, 14569, 2003, 1037, 3460, 1012, 102], [101, 10853, 2001, 1996, 2028, 1012, 102], [101, 4074, 2001, 5983, 1996, 16949, 25128, 1012, 102], [101, 12756, 2001, 2938, 2006, 2011, 2014, 2567, 1012, 102], [101, 6615, 2106, 2014, 19453, 1012, 102], [101, 6615, 2106, 2025, 4521, 1012, 102], [101, 11130, 2106, 2025, 2079, 1037, 2067, 11238, 1012, 102], [101, 2038, 3021, 8828, 2010, 24799, 1029, 102], [101, 2003, 3021, 5983, 2010, 24799, 1029, 102], [101, 2106, 3021, 4521, 2010, 4596, 1029, 102], [101, 8823, 3021, 2010, 4596, 1029, 102], [101, 2038, 11130, 1037, 4605, 1029, 102], [101, 13682, 2003, 2025, 2975, 1012, 102], [101, 11130, 2038, 2025, 8828, 2010, 4596, 1012, 102], [101, 3962, 2106, 2025, 2377, 2007, 2010, 8000, 1012, 102], [101, 11130, 8823, 2025, 2010, 4596, 1012, 102], [101, 11130, 2038, 2025, 2151, 4937, 3490, 2361, 1012, 102], [101, 13682, 2106, 2025, 2010, 19453, 1012, 102], [101, 1045, 2323, 2025, 4521, 22088, 2015, 1012, 102], [101, 1045, 2031, 2025, 2323, 4521, 22088, 2015, 1012, 102], [101, 1045, 2442, 2064, 4521, 22088, 2015, 1012, 102], [101, 1045, 2031, 2323, 4521, 22088, 2015, 1012, 102], [101, 1045, 2215, 2000, 2323, 4521, 22088, 2015, 1012, 102], [101, 11130, 2097, 2025, 4521, 1996, 12486, 11333, 18142, 2015, 1012, 102], [101, 11130, 2025, 2097, 4521, 1996, 12486, 11333, 18142, 2015, 1012, 102], [101, 11130, 2071, 2097, 4521, 1996, 12486, 11333, 18142, 2015, 1012, 102], [101, 11130, 2097, 2071, 4521, 1996, 12486, 11333, 18142, 2015, 1012, 102], [101, 1045, 8823, 2784, 13017, 14163, 15379, 2015, 1012, 102], [101, 2002, 2467, 20323, 2784, 13017, 14163, 15379, 2015, 1012, 102], [101, 1045, 2453, 8823, 2784, 13017, 14163, 15379, 2015, 1012, 102], [101, 2002, 2467, 2453, 20323, 2784, 13017, 14163, 15379, 2015, 1012, 102], [101, 2002, 2453, 4521, 2784, 13017, 14163, 15379, 2015, 1012, 102], [101, 1045, 2453, 4521, 2784, 13017, 14163, 15379, 2015, 1012, 102], [101, 2002, 2097, 4521, 2784, 13017, 14163, 15379, 2015, 1012, 102], [101, 2002, 2097, 20323, 2784, 13017, 14163, 15379, 2015, 1012, 102], [101, 13378, 2097, 2022, 22021, 5076, 14961, 1996, 2132, 1999, 7761, 2840, 2465, 1012, 102], [101, 13378, 2071, 2022, 22021, 5076, 14961, 1996, 2132, 1999, 7761, 2840, 2465, 1012, 102], [101, 13378, 2003, 22021, 5076, 14961, 1996, 2132, 1999, 7761, 2840, 2465, 1012, 102], [101, 1996, 4937, 2018, 8828, 1012, 102], [101, 1996, 4937, 2018, 2042, 5983, 1012, 102], [101, 1996, 24799, 2018, 2042, 8828, 1012, 102], [101, 1996, 4937, 2018, 4033, 8828, 1012, 102], [101, 1996, 4937, 2001, 2975, 1012, 102], [101, 1996, 24799, 2001, 2108, 8828, 1012, 102], [101, 1996, 4937, 2001, 2108, 5983, 1012, 102], [101, 1996, 4937, 2001, 2383, 8828, 1012, 102], [101, 1996, 9850, 2001, 8828, 1012, 102], [101, 1996, 9850, 2001, 2042, 5983, 1012, 102], [101, 1996, 9850, 2001, 2031, 8828, 1012, 102], [101, 17963, 2106, 2025, 5252, 1996, 3608, 1012, 102], [101, 2106, 11130, 4521, 1996, 12486, 11333, 18142, 2015, 1029, 102], [101, 2054, 2106, 11130, 4521, 1029, 102], [101, 2198, 2442, 2025, 2079, 2031, 8828, 1012, 102], [101, 2198, 2442, 2079, 2025, 2031, 8828, 1012, 102], [101, 1996, 7267, 2442, 2031, 2042, 2108, 6970, 26565, 2043, 1996, 12366, 2939, 2046, 1996, 2282, 1998, 2387, 2054, 2001, 2183, 2006, 1998, 2404, 1037, 2644, 2000, 2009, 1012, 102], [101, 13073, 2442, 2025, 4521, 1996, 7842, 10421, 2098, 9485, 11942, 2015, 1012, 102], [101, 13073, 2038, 2025, 8828, 1996, 7842, 10421, 2098, 9485, 11942, 2015, 1012, 102], [101, 2064, 13073, 4521, 7842, 10421, 2098, 9485, 11942, 2015, 1029, 102], [101, 1045, 2359, 2008, 2002, 2323, 2681, 1012, 102], [101, 1045, 2359, 2002, 2323, 2681, 1012, 102], [101, 1045, 2359, 2065, 2002, 2323, 2681, 1012, 102], [101, 1045, 2359, 2032, 2000, 2681, 1012, 102], [101, 1045, 2359, 2000, 2681, 1012, 102], [101, 21372, 10847, 2008, 2198, 8823, 1996, 6187, 15859, 14156, 1012, 102], [101, 21372, 10847, 2198, 8823, 1996, 6187, 15859, 14156, 1012, 102], [101, 21372, 10847, 3251, 2198, 8823, 1996, 6187, 15859, 14156, 1012, 102], [101, 21372, 10847, 2065, 2198, 8823, 1996, 6187, 15859, 14156, 1012, 102], [101, 21372, 10847, 2198, 2000, 4521, 1996, 6187, 15859, 14156, 1012, 102], [101, 21372, 10847, 2000, 4521, 1996, 6187, 15859, 14156, 1012, 102], [101, 2198, 2056, 21372, 2001, 15896, 2007, 22953, 21408, 3669, 1012, 102], [101, 2198, 2056, 2065, 21372, 2001, 15896, 2007, 22953, 21408, 3669, 1012, 102], [101, 2198, 2056, 21372, 2000, 4521, 1996, 22953, 21408, 3669, 1012, 102], [101, 5557, 5763, 2008, 2057, 2052, 2175, 1012, 102], [101, 5557, 5763, 2057, 2052, 2175, 1012, 102], [101, 5557, 5763, 2065, 2057, 2052, 2175, 1012, 102], [101, 5557, 5763, 2149, 2000, 2175, 1012, 102], [101, 5557, 5763, 2000, 2175, 1012, 102], [101, 2065, 1045, 2020, 1037, 4138, 2158, 1010, 1045, 1005, 1040, 4965, 1037, 6323, 3614, 1012, 102], [101, 2065, 2002, 2003, 1037, 4138, 2158, 1010, 2002, 1005, 1040, 4965, 1037, 6323, 3614, 1012, 102], [101, 14285, 20323, 1012, 102], [101, 14285, 8823, 14163, 15379, 2015, 1012, 102], [101, 1996, 14163, 15379, 2015, 2020, 8828, 1012, 102], [101, 14285, 2018, 8828, 1996, 14163, 15379, 2015, 1012, 102], [101, 14285, 2038, 8828, 1996, 14163, 15379, 2015, 1012, 102], [101, 14285, 2442, 2031, 8828, 1996, 14163, 15379, 2015, 1012, 102], [101, 14285, 2089, 2022, 5983, 1996, 14163, 15379, 2015, 1012, 102], [101, 14285, 2097, 4521, 1996, 14163, 15379, 2015, 1012, 102], [101, 14285, 20323, 14163, 15379, 2015, 1012, 102], [101, 14285, 2003, 5983, 14163, 15379, 2015, 1012, 102], [101, 14285, 2453, 2031, 2042, 5983, 1996, 14163, 15379, 2015, 1012, 102], [101, 1996, 14163, 15379, 2015, 2453, 2031, 2042, 2108, 8828, 1012, 102], [101, 1996, 24799, 2018, 2042, 2108, 8828, 1012, 102], [101, 11130, 2097, 4521, 1012, 102], [101, 1996, 24799, 2097, 2022, 8828, 1012, 102], [101, 11130, 2097, 2022, 5983, 1012, 102], [101, 11130, 2097, 2031, 8828, 1012, 102], [101, 1996, 24799, 2097, 2022, 2108, 8828, 1012, 102], [101, 1996, 24799, 2097, 2031, 2042, 8828, 1012, 102], [101, 11130, 2097, 2031, 2042, 5983, 1012, 102], [101, 11130, 2001, 5983, 1012, 102], [101, 11130, 2018, 8828, 1012, 102], [101, 11130, 2018, 2042, 5983, 1012, 102], [101, 1996, 24799, 2442, 2031, 2042, 8828, 1012, 102], [101, 1996, 24799, 2097, 2031, 2042, 2108, 8828, 1012, 102], [101, 2002, 2038, 2025, 8828, 2664, 2651, 1012, 102], [101, 1045, 2031, 2196, 2464, 2023, 3185, 1012, 102], [101, 1045, 2196, 2031, 1037, 7279, 2043, 1045, 2342, 2009, 1012, 102], [101, 1045, 2031, 2467, 3866, 21443, 12136, 1012, 102], [101, 1045, 2079, 2025, 2293, 21443, 12136, 1012, 102], [101, 9246, 2411, 6732, 5035, 16424, 6887, 17175, 6483, 1012, 102], [101, 2079, 2017, 2066, 21443, 12136, 1029, 102], [101, 2031, 2017, 2467, 6283, 21443, 12136, 1029, 102], [101, 2024, 2017, 2467, 3241, 6530, 4301, 1029, 102], [101, 8981, 2187, 1012, 102], [101, 18566, 2187, 17478, 1012, 102], [101, 2198, 2187, 2010, 2564, 1012, 102], [101, 1045, 2215, 8981, 2008, 2187, 1012, 102], [101, 2198, 6732, 2008, 2187, 1012, 102], [101, 2008, 2198, 2097, 2681, 2003, 3497, 1012, 102], [101, 2009, 2003, 3497, 2008, 2198, 2097, 2681, 1012, 102], [101, 1996, 14460, 4782, 1996, 17022, 1012, 102], [101, 1996, 17022, 2001, 4782, 2011, 1996, 14460, 1012, 102], [101, 1996, 17022, 2001, 4782, 1012, 102], [101, 2198, 4191, 1012, 102], [101, 1996, 4378, 4191, 1012, 102], [101, 3021, 2003, 3497, 2198, 2000, 2718, 1012, 102], [101, 2009, 2001, 4782, 1996, 17022, 1012, 102], [101, 7673, 25414, 3064, 3889, 1012, 102], [101, 3889, 25414, 3064, 7673, 1012, 102], [101, 2016, 25414, 3064, 2032, 1012, 102], [101, 2002, 25414, 3064, 2014, 1012, 102], [101, 1045, 3328, 1012, 102], [101, 2017, 3328, 1012, 102], [101, 2009, 2003, 3497, 2008, 4754, 2187, 1012, 102], [101, 2008, 4754, 2187, 2003, 3497, 1012, 102], [101, 4754, 2003, 3497, 2008, 2187, 1012, 102], [101, 2009, 2003, 3497, 4754, 2000, 2681, 1012, 102], [101, 4754, 2000, 2681, 2003, 3497, 1012, 102], [101, 4754, 2003, 3497, 2000, 2681, 1012, 102], [101, 2002, 4782, 2014, 1012, 102], [101, 2016, 2001, 4782, 1012, 102], [101, 2016, 2001, 4782, 2032, 1012, 102], [101, 2009, 2001, 4782, 2014, 1012, 102], [101, 18566, 10948, 2012, 1996, 4186, 1012, 102], [101, 18566, 3369, 2012, 1996, 4186, 1012, 102], [101, 2045, 10948, 2093, 2273, 2012, 1996, 4186, 1012, 102], [101, 2045, 3369, 2093, 2273, 2012, 1996, 4186, 1012, 102], [101, 2009, 3849, 13584, 2000, 2293, 24188, 1012, 102], [101, 3021, 2001, 19026, 1996, 3899, 1012, 102], [101, 2123, 4890, 2003, 3497, 2008, 2187, 1012, 102], [101, 1996, 7890, 7771, 1999, 1037, 2793, 1012, 102], [101, 1996, 2793, 2001, 7771, 1999, 2011, 1996, 7890, 1012, 102], [101, 6497, 3062, 2006, 1996, 2793, 1012, 102], [101, 1996, 2793, 2001, 5357, 2006, 2011, 1996, 6497, 1012, 102], [101, 3021, 2001, 2718, 2011, 1996, 3598, 1012, 102], [101, 2001, 2042, 2718, 2011, 3021, 2011, 1996, 3598, 1012, 102], [101, 3021, 2435, 9790, 1996, 2338, 1012, 102], [101, 9790, 2001, 2445, 1996, 2338, 2011, 3021, 1012, 102], [101, 1996, 2338, 2001, 2042, 2445, 2011, 3021, 2011, 9790, 1012, 102], [101, 1045, 3013, 1996, 3730, 7852, 1012, 102], [101, 1996, 3730, 7852, 7659, 4089, 1012, 102], [101, 1996, 4049, 7569, 1012, 102], [101, 1996, 9862, 7569, 1996, 4049, 1012, 102], [101, 1996, 2952, 7569, 1996, 4049, 1012, 102], [101, 1996, 2952, 7569, 1996, 4049, 2007, 1037, 9862, 1012, 102], [101, 2001, 10417, 2011, 1996, 4049, 1012, 102], [101, 1996, 4049, 2001, 10417, 2011, 1996, 2952, 2007, 1037, 9862, 1012, 102], [101, 1045, 2741, 1037, 2338, 2000, 3434, 1012, 102], [101, 1045, 2741, 3434, 1037, 2338, 1012, 102], [101, 1037, 2338, 2001, 2741, 2000, 3434, 1012, 102], [101, 3434, 2001, 2741, 1037, 2338, 2000, 1012, 102], [101, 2000, 3434, 2001, 2741, 1037, 2338, 1012, 102], [101, 3434, 2001, 2741, 1037, 2338, 1012, 102], [101, 1037, 2338, 2001, 2741, 3434, 1012, 102], [101, 2198, 3849, 2000, 2031, 2187, 1012, 102], [101, 3021, 4122, 2198, 2000, 2681, 1012, 102], [101, 2198, 4122, 3021, 2000, 2681, 1012, 102], [101, 2198, 4122, 2032, 2000, 2681, 1012, 102], [101, 2198, 7164, 2032, 2000, 2031, 2042, 2012, 1996, 2208, 1012, 102], [101, 2002, 2003, 3373, 2011, 2198, 2000, 2031, 2042, 2012, 1996, 2208, 1012, 102], [101, 2002, 2003, 3373, 2000, 2031, 2042, 2012, 1996, 2208, 1012, 102], [101, 14407, 4149, 1996, 20231, 2338, 1012, 102], [101, 2054, 2106, 14407, 4965, 1029, 102], [101, 2054, 2106, 18566, 2360, 14407, 4149, 1029, 102], [101, 4717, 4782, 2014, 1012, 102], [101, 3183, 2106, 4717, 3610, 1029, 102], [101, 1045, 4687, 2040, 3958, 4782, 1012, 102], [101, 1996, 2755, 2008, 1045, 2066, 16876, 14894, 2098, 6501, 10854, 2003, 3904, 1997, 2115, 2449, 1012, 102], [101, 2016, 2081, 1996, 25506, 4366, 2008, 24799, 14894, 2098, 6501, 7377, 9681, 2024, 2204, 2005, 2017, 1012, 102], [101, 1045, 2356, 2073, 2017, 2179, 2009, 1012, 102], [101, 1045, 2180, 1005, 1056, 7487, 1996, 2173, 1012, 102], [101, 1045, 2356, 2040, 2016, 4782, 1012, 102], [101, 1045, 2113, 2195, 2111, 2040, 2016, 4782, 1012, 102], [101, 1045, 2113, 2195, 2111, 2016, 4782, 1012, 102], [101, 1045, 2113, 2195, 2111, 2008, 2016, 4782, 1012, 102], [101, 1045, 2113, 1045, 4149, 1996, 2338, 2017, 6749, 1012, 102], [101, 1045, 2113, 1045, 4149, 1996, 2338, 2008, 2017, 6749, 1012, 102], [101, 1996, 3124, 2040, 2003, 4147, 1996, 2417, 6045, 2074, 2718, 2033, 999, 102], [101, 2008, 3124, 1010, 2040, 1045, 2228, 2453, 2022, 7144, 1010, 2074, 2718, 2033, 999, 102], [101, 1996, 2158, 1010, 2040, 1045, 2228, 2453, 2022, 7144, 1010, 2008, 2003, 13002, 2718, 2033, 1012, 102], [101, 2054, 2106, 3021, 4366, 2008, 2002, 3191, 1029, 102], [101, 2054, 2079, 2017, 2228, 4717, 4782, 1029, 102], [101, 2054, 2106, 3021, 2191, 1996, 4366, 2008, 2002, 3191, 1999, 1996, 20231, 2338, 1029, 102], [101, 2029, 9850, 2106, 2017, 2156, 1996, 2158, 2040, 17776, 1029, 102], [101, 1045, 4687, 2054, 2198, 4149, 1012, 102], [101, 2129, 2079, 2017, 2228, 2198, 4149, 1996, 14329, 1029, 102], [101, 2129, 2079, 2017, 4687, 2054, 2198, 4149, 1029, 102], [101, 2129, 2079, 2017, 2228, 2198, 4149, 2054, 1029, 102], [101, 1045, 4687, 2054, 2198, 4149, 2129, 1012, 102], [101, 1045, 4687, 2054, 2198, 4782, 1012, 102], [101, 2040, 2106, 2017, 4687, 2054, 4782, 1029, 102], [101, 1045, 2356, 2054, 2198, 4782, 1012, 102], [101, 2008, 1996, 2610, 2052, 6545, 2195, 11421, 2545, 2001, 1037, 15855, 1012, 102], [101, 1045, 4669, 2984, 1998, 2198, 1012, 102], [101, 2040, 2106, 2017, 2066, 1998, 2198, 1029, 102], [101, 1045, 8823, 2070, 24593, 1998, 10749, 2070, 14904, 1012, 102], [101, 2054, 2106, 2017, 4521, 2070, 24593, 1998, 4392, 1029, 102], [101, 2040, 7459, 2040, 1029, 102], [101, 2040, 7459, 3183, 1029, 102], [101, 28360, 7459, 2040, 1029, 102], [101, 5965, 2387, 1037, 25516, 1999, 1996, 15397, 11549, 1029, 102], [101, 2054, 2003, 17067, 2017, 1029, 102], [101, 2040, 2038, 2464, 2026, 1055, 12131, 11705, 1029, 102], [101, 2129, 2001, 1996, 5436, 3603, 2011, 1996, 4614, 1029, 102], [101, 2029, 4176, 3711, 2000, 2031, 2439, 2037, 9127, 2015, 1029, 102], [101, 2054, 2106, 3744, 2228, 2001, 3497, 2000, 2031, 2042, 7376, 1029, 102], [101, 2482, 4341, 2031, 4527, 1996, 4518, 12618, 11451, 1012, 102], [101, 2064, 2017, 2424, 1996, 2422, 20581, 3573, 1029, 102], [101, 2198, 2001, 19026, 2011, 2019, 6475, 3237, 1012, 102], [101, 2009, 2003, 3497, 2008, 17214, 2072, 2097, 2681, 2047, 2259, 1012, 102], [101, 17214, 2072, 2003, 3497, 2000, 2681, 2047, 2259, 1012, 102], [101, 7004, 3849, 2000, 2031, 2042, 14757, 5999, 1012, 102], [101, 2054, 2106, 2017, 4965, 2012, 1996, 17006, 1029, 102], [101, 2054, 2003, 2009, 3497, 2005, 7014, 2000, 2031, 4149, 2012, 1996, 17006, 1029, 102], [101, 2054, 2003, 3497, 2000, 2031, 2042, 4149, 2012, 1996, 17006, 1029, 102], [101, 1996, 4446, 2057, 2939, 2651, 2001, 2328, 2011, 6658, 4450, 1012, 102], [101, 3021, 2003, 2467, 17949, 2055, 1996, 4364, 2040, 2147, 2379, 2032, 1012, 102], [101, 1996, 3465, 1997, 4524, 9050, 2008, 2024, 10964, 2013, 10399, 4527, 1996, 3836, 2040, 3505, 5086, 2197, 2733, 1012, 102], [101, 6498, 2435, 5726, 5362, 1037, 2338, 1012, 102], [101, 6498, 2435, 5726, 1037, 2338, 5362, 1012, 102], [101, 4422, 2050, 3662, 6796, 2370, 1012, 102], [101, 4422, 2050, 3662, 2370, 6796, 1012, 102], [101, 1045, 8682, 2039, 1996, 2311, 1012, 102], [101, 1045, 8682, 1996, 2311, 2039, 1012, 102], [101, 1045, 8682, 2039, 2009, 1012, 102], [101, 1045, 8682, 2009, 2039, 1012, 102], [101, 6294, 2741, 1996, 7427, 2000, 21372, 1012, 102], [101, 1045, 2356, 3505, 2065, 2002, 2018, 2464, 1996, 2664, 2072, 1012, 102], [101, 1045, 4149, 2070, 4870, 2005, 7762, 1012, 102], [101, 1045, 4149, 7762, 2070, 4870, 1012, 102], [101, 3744, 2003, 3497, 2000, 2681, 1012, 102], [101, 3744, 2003, 11542, 2000, 2681, 1012, 102], [101, 3744, 2003, 3497, 1012, 102], [101, 3744, 4122, 4422, 2000, 2681, 1012, 102], [101, 3744, 11766, 4422, 2000, 2681, 1012, 102], [101, 2008, 3744, 2187, 2003, 3497, 1012, 102], [101, 2009, 2003, 3497, 2008, 3744, 2187, 1012, 102], [101, 2003, 3497, 3744, 2000, 2681, 1012, 102], [101, 2009, 2003, 11542, 2008, 3744, 2187, 1012, 102], [101, 2008, 3744, 2187, 2003, 11542, 1012, 102], [101, 3744, 2003, 3497, 2000, 3153, 1012, 102], [101, 1996, 4937, 2003, 2041, 1997, 1996, 4524, 1012, 102], [101, 1996, 4937, 6732, 2008, 2002, 2003, 2041, 1997, 1996, 4524, 1012, 102], [101, 2003, 3497, 2000, 3744, 3153, 1012, 102], [101, 2009, 2003, 3497, 2008, 3744, 2097, 3153, 1012, 102], [101, 3744, 4122, 2728, 1012, 102], [101, 3744, 4122, 2032, 1012, 102], [101, 1045, 2215, 2016, 2000, 3153, 1012, 102], [101, 1045, 2215, 3744, 1012, 102], [101, 1045, 2215, 3744, 2000, 3153, 1012, 102], [101, 3744, 4122, 2841, 2000, 3153, 1012, 102], [101, 3744, 2003, 11542, 1012, 102], [101, 2000, 2424, 1037, 2047, 6775, 1010, 2175, 2000, 1037, 5306, 2326, 1012, 102], [101, 3744, 2699, 2000, 16582, 1012, 102], [101, 2728, 4282, 2008, 2009, 2003, 6827, 2000, 2022, 2092, 26979, 1012, 102], [101, 2728, 4282, 2008, 2009, 2003, 6827, 1012, 102], [101, 2728, 4282, 2009, 2003, 6827, 2008, 2002, 2003, 2092, 26979, 1012, 102], [101, 3434, 12999, 5736, 2000, 2681, 1012, 102], [101, 3434, 12999, 5736, 2008, 2016, 2681, 2014, 3105, 1012, 102], [101, 3434, 12999, 5736, 2000, 27545, 2370, 1012, 102], [101, 3434, 12999, 5736, 2008, 2002, 2022, 3039, 2000, 27545, 2370, 1012, 102], [101, 2000, 16582, 25763, 1999, 2270, 2003, 3517, 1012, 102], [101, 2728, 2354, 2008, 2009, 2001, 4072, 2000, 16582, 2370, 1012, 102], [101, 3505, 3517, 6754, 19721, 2000, 2202, 2041, 1996, 11669, 1012, 102], [101, 1996, 3337, 2123, 1005, 1056, 2035, 2215, 2000, 2681, 1012, 102], [101, 2728, 2003, 9461, 2000, 2079, 2010, 19453, 1012, 102], [101, 3744, 3849, 2000, 2022, 1999, 1037, 2204, 6888, 1012, 102], [101, 18040, 2699, 2000, 2131, 1037, 2047, 2482, 1012, 102], [101, 6294, 12999, 3021, 2000, 2292, 2014, 6170, 1999, 1996, 4164, 1012, 102], [101, 6294, 12999, 2000, 2022, 3039, 2000, 6170, 1999, 1996, 4164, 1012, 102], [101, 12657, 2003, 3201, 2000, 2681, 1012, 102], [101, 5965, 2001, 3373, 2000, 2031, 2359, 2000, 3046, 2000, 3153, 1012, 102], [101, 6294, 9619, 2098, 2000, 3046, 2000, 4025, 2000, 2031, 2042, 4782, 1012, 102], [101, 5070, 2409, 2033, 2040, 2359, 2000, 4025, 2000, 2022, 25018, 1012, 102], [101, 2054, 2106, 2198, 2215, 2000, 4521, 1029, 102], [101, 2023, 2338, 2003, 3733, 2000, 3191, 1012, 102], [101, 2198, 2003, 3733, 2000, 3531, 1012, 102], [101, 2000, 5335, 2870, 2003, 1037, 3125, 2005, 2279, 2095, 1012, 102], [101, 2000, 5335, 4426, 2052, 2022, 1037, 2204, 2801, 1012, 102], [101, 2000, 5335, 2370, 1010, 5503, 2323, 5136, 7242, 1012, 102], [101, 2000, 5335, 2841, 1010, 4869, 2253, 2000, 1037, 2740, 12403, 1012, 102], [101, 14559, 2428, 16424, 2014, 3105, 1012, 102], [101, 2026, 2567, 7777, 9334, 4166, 2636, 1012, 102], [101, 23508, 2003, 2331, 2135, 4452, 1997, 14160, 1012, 102], [101, 2008, 2785, 1997, 5248, 5754, 27153, 2033, 1012, 102], [101, 1996, 2739, 7537, 1996, 2493, 1012, 102], [101, 5469, 3152, 22995, 20359, 1012, 102], [101, 1996, 4538, 2428, 7622, 1996, 4401, 1012, 102], [101, 14559, 16424, 2216, 4620, 1997, 2841, 1012, 102], [101, 1996, 2336, 12749, 7760, 1997, 2169, 2060, 1012, 102], [101, 12834, 16424, 3752, 2055, 2841, 1999, 1996, 24173, 2015, 1012, 102], [101, 4620, 1997, 2370, 2467, 22995, 20359, 1012, 102], [101, 2000, 2022, 2583, 2000, 4965, 2870, 1037, 7281, 2000, 2605, 2052, 2022, 1037, 3959, 1012, 102], [101, 3752, 2055, 2841, 1999, 1996, 24173, 2015, 2467, 5754, 27153, 12834, 1012, 102], [101, 8825, 2038, 2042, 3752, 2062, 6002, 2084, 2002, 2038, 2460, 3441, 1012, 102], [101, 5863, 2097, 4521, 28540, 2021, 2016, 2180, 1005, 1056, 3256, 6949, 1012, 102], [101, 2198, 2071, 8670, 3489, 2242, 1010, 2021, 1045, 1005, 1049, 2025, 2469, 2054, 1012, 102], [101, 3581, 2097, 4521, 2019, 6207, 1998, 5253, 2097, 2205, 1012, 102], [101, 3581, 2097, 4521, 2019, 6207, 1998, 5253, 2097, 4521, 2019, 6207, 2205, 1012, 102], [101, 11130, 2097, 4894, 2370, 1012, 102], [101, 11130, 2097, 4894, 2370, 1998, 8064, 2097, 2205, 1012, 102], [101, 11130, 2097, 4894, 2370, 1998, 8064, 2097, 4894, 2370, 2205, 1012, 102], [101, 11130, 2038, 6052, 2296, 2611, 2040, 5076, 2038, 1012, 102], [101, 11130, 2038, 6052, 2296, 2611, 2040, 5076, 2038, 6052, 1012, 102], [101, 1045, 2113, 2029, 4364, 2017, 1005, 2310, 6052, 1010, 2021, 1045, 2123, 1005, 1056, 2113, 2029, 4364, 2017, 4033, 1005, 1056, 1012, 102], [101, 2029, 2653, 2079, 2017, 2215, 2000, 10887, 2619, 2040, 8847, 1029, 102], [101, 2027, 2215, 2000, 10887, 2619, 2040, 8847, 1037, 17581, 2653, 1010, 2021, 1045, 2123, 1005, 1056, 2113, 2029, 2653, 1012, 102], [101, 11130, 2097, 2543, 2619, 2651, 1010, 2021, 1045, 2123, 1005, 1056, 2113, 2040, 1012, 102], [101, 2848, 2001, 3331, 2007, 2619, 2021, 1045, 2123, 1005, 1056, 2113, 2040, 1012, 102], [101, 8825, 3191, 2296, 2338, 2008, 12756, 2106, 1012, 102], [101, 2296, 2338, 2008, 12756, 2106, 8825, 3191, 2205, 1012, 102], [101, 18243, 2378, 2038, 8828, 2062, 26852, 2084, 2198, 2038, 24318, 1012, 102], [101, 2054, 2515, 11130, 2066, 1012, 102], [101, 10481, 4122, 2000, 4608, 1037, 3869, 1998, 13378, 2515, 2205, 1012, 102], [101, 11130, 12749, 2370, 1999, 1996, 5259, 1012, 102], [101, 3782, 2056, 2008, 2370, 2001, 6517, 1012, 102], [101, 3782, 4122, 2370, 2000, 2663, 1012, 102], [101, 2029, 4620, 1997, 2370, 2106, 3782, 2156, 1999, 1996, 3916, 1029, 102], [101, 3782, 4669, 2029, 4620, 1997, 2370, 1029, 102], [101, 2029, 4620, 1997, 2370, 2106, 3782, 2066, 1029, 102], [101, 21372, 7164, 3021, 1005, 1055, 6412, 1997, 2841, 1012, 102], [101, 21372, 6732, 2008, 2016, 2038, 2180, 1012, 102], [101, 21372, 6732, 2008, 4620, 1997, 2841, 2024, 3376, 1012, 102], [101, 21372, 2435, 1037, 2556, 2000, 2841, 1012, 102], [101, 1996, 2390, 1005, 1055, 6215, 1997, 1996, 4186, 2001, 1037, 10576, 1012, 102], [101, 1996, 2390, 3908, 1996, 4186, 1012, 102], [101, 21372, 4122, 2000, 3610, 2841, 1012, 102], [101, 21372, 7164, 2198, 1005, 1055, 6412, 1997, 2841, 1012, 102], [101, 21372, 18959, 2015, 1996, 2694, 1005, 1055, 15921, 1997, 2841, 1012, 102], [101, 21372, 2056, 2008, 4620, 1997, 2841, 2020, 16436, 1012, 102], [101, 21372, 2056, 2008, 3021, 1005, 1055, 4620, 1997, 2841, 2020, 16436, 1012, 102], [101, 3782, 2056, 2008, 2370, 2001, 4854, 1012, 102], [101, 21372, 2387, 2848, 1005, 1055, 3861, 1997, 2014, 1012, 102], [101, 21372, 2387, 9254, 1997, 2014, 1012, 102], [101, 2198, 7459, 2370, 1012, 102], [101, 2198, 7459, 4620, 1997, 2370, 1012, 102], [101, 2198, 7459, 2984, 1005, 1055, 4620, 1997, 2370, 1012, 102], [101, 2198, 6732, 2008, 2984, 1005, 1055, 15921, 1997, 2370, 2003, 3308, 1012, 102], [101, 2198, 6732, 2008, 2087, 20818, 1997, 2370, 2024, 3308, 1012, 102], [101, 2198, 3849, 2000, 2066, 4620, 1997, 2370, 1012, 102], [101, 2198, 7164, 2370, 2000, 2022, 1996, 2190, 2012, 3598, 1012, 102], [101, 2198, 4122, 2000, 26478, 8609, 9869, 2370, 1012, 102], [101, 2198, 7459, 2032, 1012, 102], [101, 2198, 7459, 2010, 17022, 1012, 102], [101, 2198, 2356, 2065, 1996, 4895, 10258, 20097, 2075, 6412, 1997, 2010, 2147, 2052, 2022, 2405, 1999, 1996, 3259, 1012, 102], [101, 2198, 2356, 2065, 2010, 9491, 2052, 2022, 2405, 1999, 1996, 3259, 1012, 102], [101, 2151, 13547, 2064, 5690, 12328, 1012, 102], [101, 2198, 5720, 2000, 2151, 2450, 1012, 102], [101, 2151, 2450, 5201, 2000, 1996, 4636, 1012, 102], [101, 2198, 5720, 2000, 2151, 2450, 2040, 2234, 2039, 2000, 2032, 1012, 102], [101, 2151, 2450, 2040, 2657, 1996, 2739, 5201, 2000, 1996, 4636, 1012, 102], [101, 2151, 2158, 2040, 2387, 1996, 4875, 1999, 1996, 2833, 2134, 1005, 1056, 4521, 4596, 1012, 102], [101, 2017, 2089, 4060, 2151, 6546, 1012, 102], [101, 2017, 2442, 4060, 2151, 6546, 1012, 102], [101, 2151, 4405, 2071, 2022, 3909, 2023, 4946, 1012, 102], [101, 2151, 4405, 2442, 2022, 3909, 2023, 4946, 1012, 102], [101, 2151, 3076, 2442, 2147, 2524, 1012, 102], [101, 2151, 3460, 2097, 2425, 2017, 2008, 1012, 102], [101, 2151, 5268, 2323, 2022, 4810, 2000, 3280, 2005, 2014, 2406, 1012, 102], [101, 2198, 5720, 2000, 1037, 2450, 1012, 102], [101, 2198, 2134, 1005, 1056, 2831, 2000, 1037, 2450, 1012, 102], [101, 2198, 4782, 2130, 1996, 1057, 25394, 4355, 2450, 1012, 102], [101, 2198, 4782, 2130, 1996, 1057, 25394, 4355, 2450, 2040, 2234, 2039, 2000, 2032, 1012, 102], [101, 1037, 7006, 2003, 2788, 22337, 1012, 102], [101, 2151, 7006, 2003, 2788, 22337, 1012, 102], [101, 1037, 9667, 2003, 2823, 3308, 1012, 102], [101, 2151, 9667, 2003, 2823, 3308, 1012, 102], [101, 2017, 2442, 4060, 1037, 6546, 1012, 102], [101, 1037, 4405, 2442, 2022, 3909, 2023, 4946, 1012, 102], [101, 1037, 3076, 2442, 2147, 2524, 1012, 102], [101, 1037, 5268, 2323, 2022, 4810, 2000, 3280, 2005, 2014, 2406, 1012, 102], [101, 6524, 2003, 2151, 7006, 22337, 1012, 102], [101, 15839, 2003, 2151, 7006, 22337, 1012, 102], [101, 2196, 2003, 2151, 7006, 22337, 1012, 102], [101, 2788, 1010, 2151, 7006, 2003, 22337, 1012, 102], [101, 2411, 1010, 2151, 7006, 2003, 22337, 1012, 102], [101, 2467, 1010, 2151, 7006, 2003, 22337, 1012, 102], [101, 2017, 2089, 4060, 7078, 2151, 6546, 1012, 102], [101, 2017, 2089, 4060, 2471, 2151, 6546, 1012, 102], [101, 2471, 2151, 4405, 2071, 2022, 3909, 2023, 4946, 1012, 102], [101, 7078, 2151, 4405, 2071, 2022, 3909, 2023, 4946, 1012, 102], [101, 2017, 2089, 4060, 2151, 6546, 3272, 1996, 3123, 1012, 102], [101, 2151, 4405, 3272, 9790, 2071, 2022, 3909, 2023, 4946, 1012, 102], [101, 2198, 5720, 2000, 7078, 2151, 2450, 2040, 2234, 2039, 2000, 2032, 1012, 102], [101, 2198, 5720, 2000, 2471, 2151, 2450, 2040, 2234, 2039, 2000, 2032, 1012, 102], [101, 2198, 5720, 2000, 2151, 2450, 2040, 2234, 2039, 2000, 2032, 3272, 9790, 1012, 102], [101, 2198, 2404, 25659, 2015, 2013, 2010, 3871, 1999, 1996, 16521, 1012, 102], [101, 2198, 2404, 2151, 25659, 2013, 2010, 3871, 1999, 1996, 16521, 1012, 102], [101, 2198, 5720, 2000, 1037, 2450, 2040, 2234, 2039, 2000, 2032, 1012, 102], [101, 1037, 2450, 2040, 2657, 1996, 2739, 5201, 2000, 1996, 4636, 1012, 102], [101, 1037, 2158, 2040, 2387, 1996, 4875, 1999, 1996, 2833, 2134, 1005, 1056, 4521, 4596, 1012, 102], [101, 2198, 5720, 2000, 2296, 2450, 2040, 2234, 2039, 2000, 2032, 1012, 102], [101, 2296, 2450, 2040, 2657, 1996, 2739, 5201, 2000, 1996, 4636, 1012, 102], [101, 2296, 2158, 2040, 2387, 1996, 4875, 1999, 1996, 2833, 2134, 1005, 1056, 4521, 4596, 1012, 102], [101, 2198, 5720, 2000, 2296, 2450, 1012, 102], [101, 2984, 18991, 2008, 2016, 2106, 2505, 2000, 2393, 2032, 1012, 102], [101, 2984, 5720, 2000, 2151, 2158, 2030, 2151, 2450, 1012, 102], [101, 2296, 3076, 2040, 2003, 1999, 2984, 1005, 1055, 2465, 2003, 2551, 2006, 11508, 3012, 5167, 1012, 102], [101, 2009, 6433, 2000, 2022, 2995, 1997, 2296, 3076, 1999, 2984, 1005, 1055, 2465, 2008, 2002, 2003, 2551, 2006, 11508, 3012, 5167, 1012, 102], [101, 2296, 3076, 1999, 2984, 1005, 1055, 2465, 1010, 2011, 11870, 1997, 2108, 1999, 2014, 2465, 1010, 2003, 2551, 2006, 11508, 3012, 5167, 1012, 102], [101, 2296, 3076, 1999, 2984, 1005, 1055, 2465, 3047, 2000, 3789, 3951, 1012, 102], [101, 2296, 2450, 3061, 2104, 2008, 3392, 2003, 2984, 1005, 1055, 2767, 1012, 102], [101, 1996, 2343, 15583, 2296, 5268, 2040, 2018, 4061, 1999, 1996, 1012, 102], [101, 7955, 2040, 3230, 2197, 2733, 1005, 1055, 4121, 8320, 2772, 1996, 9964, 1012, 102], [101, 2057, 2134, 1005, 1056, 2562, 1037, 2862, 1997, 1996, 3415, 1010, 2021, 1996, 2343, 15583, 2296, 5268, 2040, 2018, 4061, 1999, 1996, 6084, 2162, 1012, 102], [101, 2296, 3076, 1999, 2984, 1005, 1055, 2465, 1010, 9444, 2027, 2020, 1010, 3047, 2000, 3789, 3951, 1012, 102], [101, 2296, 2450, 3061, 2104, 2008, 3392, 1010, 9444, 2016, 2089, 2022, 1010, 2003, 2984, 1005, 1055, 2767, 1012, 102], [101, 2151, 3076, 1999, 2984, 1005, 1055, 2465, 3047, 2000, 3789, 1012, 102], [101, 2151, 2450, 3061, 2104, 2008, 3392, 2003, 2984, 1005, 1055, 2767, 1012, 102], [101, 1996, 2343, 15583, 2151, 5268, 2040, 2018, 4061, 1999, 1996, 6084, 1012, 102], [101, 2296, 4825, 2008, 4748, 16874, 13087, 1999, 2151, 1997, 2122, 4981, 6433, 2000, 2031, 2176, 3340, 1999, 1996, 14812, 1012, 102], [101, 7955, 2040, 2003, 1999, 2984, 1005, 1055, 28081, 18014, 2003, 3015, 1037, 3259, 2006, 11508, 3012, 5167, 1012, 102], [101, 2198, 5720, 2000, 2151, 2450, 2012, 1996, 2283, 1012, 102], [101, 2198, 5720, 2000, 2151, 3761, 2040, 2003, 3928, 1012, 102], [101, 2198, 5720, 2000, 2151, 3928, 3761, 1012, 102], [101, 2984, 28415, 4660, 2151, 17304, 1012, 102], [101, 2044, 1996, 4596, 1010, 2057, 4711, 2185, 2151, 2187, 24302, 1012, 102], [101, 2198, 4149, 2151, 3861, 1997, 3035, 3870, 1012, 102], [101, 2198, 4149, 2151, 3861, 1997, 3035, 3870, 2008, 2001, 2006, 5096, 1012, 102], [101, 2296, 9667, 2003, 2823, 3308, 1010, 2021, 2002, 2788, 2987, 1005, 1056, 6449, 2009, 1012, 102], [101, 2151, 7006, 2003, 3227, 22337, 1012, 102], [101, 2151, 7006, 2003, 4678, 1012, 102], [101, 2151, 2931, 6816, 2038, 4589, 6519, 1010, 4417, 2007, 2304, 13560, 1012, 102], [101, 5055, 4875, 1012, 102], [101, 2151, 4743, 10029, 1012, 102], [101, 2035, 21329, 2015, 2024, 1999, 7173, 2085, 1012, 102], [101, 2035, 23898, 2097, 3280, 1012, 102], [101, 7483, 2198, 5720, 2000, 2151, 2450, 1012, 102], [101, 7483, 2198, 5720, 2000, 2151, 2450, 2002, 2387, 1012, 102], [101, 4586, 2003, 2317, 1998, 4586, 2003, 2025, 2317, 1012, 102], [101, 2151, 2158, 2134, 1005, 1056, 4521, 4596, 1012, 102], [101, 2984, 7566, 2000, 2151, 3076, 1012, 102], [101, 2984, 5720, 2000, 2151, 4854, 3076, 1012, 102], [101, 2984, 5720, 2000, 2151, 3076, 2040, 2001, 4854, 1012, 102], [101, 2984, 5720, 2000, 2151, 5025, 3076, 1012, 102], [101, 2151, 4405, 2006, 4611, 2651, 2442, 2022, 3909, 2023, 4946, 1012, 102], [101, 2151, 4405, 2442, 2022, 2041, 3909, 9738, 2651, 1012, 102], [101, 2296, 3076, 3191, 2151, 2338, 2006, 21025, 27528, 7959, 2015, 2002, 2179, 1012, 102], [101, 2017, 2442, 4060, 2151, 6546, 1999, 2023, 2793, 1012, 102], [101, 2017, 2089, 4060, 2151, 1997, 1996, 4870, 1012, 102], [101, 2017, 2442, 4060, 2151, 1997, 1996, 4870, 1012, 102], [101, 2984, 3856, 2151, 1997, 1996, 4870, 1012, 102], [101, 2017, 2089, 4060, 2296, 6546, 1012, 102], [101, 2017, 2089, 4060, 2151, 6546, 1010, 2021, 2681, 1037, 2261, 2005, 2984, 1012, 102], [101, 2017, 2089, 4060, 2151, 2274, 4870, 1012, 102], [101, 2984, 2134, 1005, 1056, 4060, 2151, 1997, 1996, 4870, 1012, 102], [101, 4060, 2151, 6546, 1012, 102], [101, 9530, 8873, 15782, 2618, 2151, 13207, 1012, 102], [101, 4060, 2151, 1997, 2122, 4870, 1012, 102], [101, 9530, 8873, 15782, 2618, 2151, 1997, 2023, 13207, 1012, 102], [101, 2984, 2134, 1005, 1056, 2156, 2471, 2296, 6546, 1012, 102], [101, 2984, 2134, 1005, 1056, 2156, 2471, 2151, 6546, 1012, 102], [101, 2296, 3076, 1999, 2984, 1005, 1055, 2465, 2003, 2551, 2006, 4997, 11508, 3012, 1012, 102], [101, 2045, 2020, 3174, 2493, 2012, 1996, 8835, 1998, 2296, 3076, 2040, 2001, 2045, 2056, 2009, 2001, 18988, 1012, 102], [101, 2045, 2020, 3174, 2493, 2012, 1996, 8835, 1998, 2151, 3076, 2040, 2001, 2045, 2056, 2009, 2001, 18988, 1012, 102], [101, 2057, 2031, 2116, 4619, 2493, 2021, 2023, 2095, 1996, 4619, 2472, 2777, 2007, 2296, 3076, 1999, 1996, 4619, 2565, 14258, 2000, 6848, 2037, 5082, 1012, 102], [101, 2057, 2031, 2116, 4619, 2493, 2021, 2023, 2095, 1996, 4619, 2472, 2777, 2007, 2151, 3076, 1999, 1996, 4619, 2565, 14258, 2000, 6848, 2037, 5082, 1012, 102], [101, 6294, 2179, 2296, 2338, 2016, 2018, 2042, 2559, 2005, 2012, 6645, 1012, 102], [101, 6294, 2179, 2151, 2338, 2016, 2018, 2042, 2559, 2005, 2012, 6645, 1012, 102], [101, 2703, 2038, 10263, 2296, 3076, 2040, 2001, 2012, 1996, 3496, 1997, 1996, 4126, 1998, 5736, 2038, 10263, 2068, 2205, 1012, 102], [101, 2703, 2038, 10263, 2151, 3076, 2040, 2001, 2012, 1996, 3496, 1997, 1996, 4126, 1998, 5736, 2038, 10263, 2068, 2205, 1012, 102], [101, 2934, 3044, 2052, 2490, 9790, 1998, 11268, 3557, 3021, 1012, 102], [101, 2045, 2003, 2296, 2338, 2011, 16480, 5244, 4801, 1999, 2023, 3075, 1012, 102], [101, 2045, 2003, 2151, 2338, 2011, 16480, 5244, 4801, 1999, 2023, 3075, 1012, 102], [101, 2045, 1005, 1055, 2673, 2984, 2018, 2356, 2005, 1999, 2023, 3573, 1012, 102], [101, 2045, 1005, 1055, 2505, 2984, 2018, 2356, 2005, 1999, 2023, 3573, 1012, 102], [101, 2045, 2003, 2151, 2338, 2017, 2071, 5674, 1999, 2023, 3075, 1012, 102], [101, 2045, 1005, 1055, 2505, 2984, 2071, 4792, 1999, 2023, 3573, 1012, 102], [101, 2008, 3944, 2198, 4191, 2007, 7955, 2002, 5720, 2000, 1012, 102], [101, 2008, 3944, 2198, 4191, 2007, 10334, 2002, 5720, 2000, 1012, 102], [101, 2198, 5720, 2000, 7955, 2040, 2234, 2039, 2000, 2032, 2012, 1996, 2283, 1012, 102], [101, 2198, 5720, 2000, 10334, 2040, 2234, 2039, 2000, 2032, 2012, 1996, 2283, 1012, 102], [101, 3021, 3253, 2984, 2673, 2002, 2018, 12984, 2005, 4596, 1012, 102], [101, 3021, 3253, 2984, 2505, 2002, 2018, 12984, 2005, 4596, 1012, 102], [101, 2216, 2420, 3021, 3253, 2984, 2673, 2002, 12984, 1012, 102], [101, 2216, 2420, 3021, 3253, 2984, 2505, 2002, 12984, 1012, 102], [101, 2198, 2081, 1037, 7966, 1997, 2370, 1999, 2392, 1997, 3071, 2040, 2001, 2045, 1012, 102], [101, 2198, 2081, 1037, 7966, 1997, 2370, 1999, 2392, 1997, 3087, 2040, 2001, 2045, 1012, 102], [101, 2984, 6369, 2005, 3071, 2040, 2359, 2000, 2963, 2014, 1012, 102], [101, 2984, 6369, 2005, 3087, 2040, 2359, 2000, 2963, 2014, 1012, 102], [101, 2198, 5707, 1999, 2392, 1997, 3071, 2040, 2001, 2045, 1012, 102], [101, 2198, 5707, 1999, 2392, 1997, 3087, 2040, 2001, 2045, 1012, 102], [101, 2012, 1018, 1052, 1012, 1049, 1012, 1045, 2387, 2198, 3393, 19159, 2000, 3071, 2040, 2001, 2379, 2032, 1012, 102], [101, 2012, 1018, 1052, 1012, 1049, 1012, 1045, 2387, 2198, 3393, 19159, 2000, 3087, 2040, 2001, 2379, 2032, 1012, 102], [101, 2198, 2354, 2296, 2653, 2008, 2057, 8567, 2006, 2256, 4440, 1012, 102], [101, 2198, 2354, 2151, 2653, 2008, 2057, 8567, 2006, 2256, 4440, 1012, 102], [101, 2198, 4669, 2673, 2008, 2001, 2872, 2077, 2032, 1012, 102], [101, 2198, 4669, 2505, 2008, 2001, 2872, 2077, 2032, 1012, 102], [101, 2012, 1996, 2203, 1997, 2010, 4613, 1010, 1996, 2343, 15583, 2151, 5268, 2040, 2018, 4061, 1999, 1996, 6084, 2162, 1012, 102], [101, 3960, 2515, 2025, 2228, 2008, 2045, 2003, 3087, 2013, 5483, 1999, 2010, 8102, 1012, 102], [101, 2064, 3087, 16393, 1002, 6694, 1029, 102], [101, 2003, 2009, 2825, 2005, 3071, 2000, 2000, 16393, 1002, 6694, 1029, 102], [101, 2003, 2045, 2619, 2040, 2064, 16393, 1002, 6694, 1029, 102], [101, 2065, 10334, 3310, 1010, 2002, 7635, 1996, 25422, 1012, 102], [101, 2296, 3076, 2040, 5222, 2151, 5384, 8834, 2009, 1999, 1037, 4069, 2173, 1012, 102], [101, 2198, 2387, 2505, 1012, 102], [101, 2198, 2134, 1005, 1056, 2156, 2505, 1012, 102], [101, 2070, 2040, 3191, 2505, 2979, 1012, 102], [101, 2296, 2040, 3191, 2505, 2979, 1012, 102], [101, 2053, 3076, 2040, 3191, 2505, 2979, 1012, 102], [101, 2070, 4660, 2151, 3160, 1012, 102], [101, 2296, 3076, 4660, 2151, 3160, 1012, 102], [101, 2151, 4937, 2987, 1005, 1056, 2066, 12328, 1012, 102], [101, 2296, 4937, 2987, 1005, 1056, 2066, 12328, 1012, 102], [101, 2296, 4937, 2987, 1005, 1056, 2066, 12328, 1010, 2005, 2742, 8383, 2987, 1005, 1056, 1012, 102], [101, 2471, 2296, 4937, 7777, 12328, 1010, 2021, 8383, 2987, 1005, 1056, 1012, 102], [101, 2296, 4937, 2987, 1005, 1056, 2066, 12328, 1010, 2021, 8383, 2987, 1005, 1056, 1012, 102], [101, 2471, 2296, 4937, 7777, 12328, 1010, 2005, 2742, 8383, 2987, 1005, 1056, 1012, 102], [101, 1996, 13391, 3786, 1996, 2417, 9175, 1998, 1996, 13391, 2020, 7854, 2011, 1996, 7230, 1012, 102], [101, 1996, 13391, 3786, 1996, 2417, 9175, 1998, 1996, 7230, 3786, 1996, 13391, 1012, 102], [101, 2367, 2780, 3786, 1996, 2417, 9175, 1998, 2020, 7854, 2011, 1996, 7230, 1012, 102], [101, 2198, 2435, 1996, 2808, 2000, 2984, 1998, 1996, 2636, 2000, 9790, 1012, 102], [101, 2129, 2116, 2106, 2017, 4965, 1997, 2216, 11345, 2015, 2012, 1996, 4189, 1029, 102], [101, 2129, 2116, 2031, 2017, 2445, 1997, 2122, 2808, 2000, 2122, 2111, 1012, 102], [101, 1996, 2158, 13303, 10882, 3527, 2513, 1012, 102], [101, 1996, 2158, 2008, 13303, 10882, 3527, 2513, 1012, 102], [101, 1996, 2158, 1045, 2228, 13303, 10882, 3527, 2513, 1012, 102], [101, 1996, 2158, 1045, 2228, 2008, 13303, 10882, 3527, 2513, 1012, 102], [101, 1996, 2158, 2040, 1045, 2228, 13303, 10882, 3527, 2513, 1012, 102], [101, 1996, 2158, 2040, 1045, 2228, 2008, 13303, 10882, 3527, 2513, 1012, 102], [101, 2040, 2106, 2017, 2228, 2984, 2387, 1029, 102], [101, 2129, 3254, 2052, 2017, 2360, 2002, 2001, 4439, 1029, 102], [101, 2129, 10027, 2001, 2984, 1029, 102], [101, 2040, 2387, 1996, 2158, 1029, 102], [101, 2040, 2079, 2017, 2228, 2008, 2017, 2387, 1029, 102], [101, 2040, 2079, 2017, 2228, 2008, 2387, 2017, 1029, 102], [101, 2040, 2079, 2017, 9038, 2008, 2017, 2387, 1029, 102], [101, 2040, 2079, 2017, 9038, 2008, 2387, 2017, 1029, 102], [101, 2040, 2079, 2017, 2228, 2017, 2387, 1029, 102], [101, 2040, 2079, 2017, 2228, 2387, 2017, 1029, 102], [101, 2040, 2079, 2017, 9038, 2017, 2387, 1029, 102], [101, 2040, 2079, 2017, 9038, 2387, 2017, 1029, 102], [101, 2040, 2106, 2017, 2903, 2008, 2234, 1029, 102], [101, 2040, 2106, 2017, 4687, 3251, 2234, 1029, 102], [101, 2040, 2106, 2017, 4687, 2065, 2234, 1029, 102], [101, 2040, 2106, 2017, 13621, 2005, 2000, 2272, 1029, 102], [101, 2029, 2795, 2106, 2017, 4687, 2006, 5035, 2404, 1996, 2338, 1029, 102], [101, 2029, 2106, 2017, 4965, 1996, 2795, 2006, 5035, 2404, 1996, 2338, 1029, 102], [101, 2054, 2079, 2017, 2903, 2008, 3707, 2003, 2000, 2022, 1037, 2755, 2092, 2124, 2000, 8990, 7955, 1029, 102], [101, 2040, 2106, 2017, 4687, 2387, 5035, 1029, 102], [101, 2029, 2106, 2017, 4965, 1996, 2795, 3569, 1996, 2338, 1029, 102], [101, 1996, 2755, 1010, 1045, 2404, 2009, 2091, 2000, 2008, 5035, 2234, 1012, 102], [101, 1996, 2795, 1010, 1045, 2404, 5035, 2006, 2029, 3569, 1996, 2338, 1012, 102], [101, 2040, 2003, 2009, 2008, 2984, 7777, 1029, 102], [101, 2002, 2001, 2831, 8082, 1012, 102], [101, 2002, 2001, 1037, 20716, 1012, 102], [101, 2002, 2001, 2831, 8082, 1998, 1037, 20716, 1012, 102], [101, 1996, 2831, 8082, 1998, 1037, 20716, 2158, 3133, 1012, 102], [101, 2831, 8082, 1998, 1037, 20716, 3133, 1012, 102], [101, 2198, 2003, 3733, 2000, 3531, 1998, 2000, 2293, 2984, 1012, 102], [101, 1996, 2158, 2040, 2984, 7459, 1998, 8836, 16424, 2577, 24806, 2026, 4171, 1012, 102], [101, 2198, 2003, 3733, 2000, 3531, 1998, 2000, 2293, 1012, 102], [101, 1996, 6358, 11877, 2029, 2984, 2081, 1998, 10882, 3527, 25126, 1999, 2038, 2042, 7376, 1012, 102], [101, 1996, 6358, 11877, 1999, 2029, 2984, 7906, 5850, 1998, 10882, 3527, 25126, 2038, 2042, 7376, 1012, 102], [101, 1996, 6358, 11877, 1999, 2029, 2984, 2081, 1998, 10882, 3527, 25126, 2038, 2042, 7376, 1012, 102], [101, 2198, 2387, 2062, 5194, 2084, 3021, 2387, 2030, 6969, 5720, 2000, 1012, 102], [101, 2198, 2387, 2062, 5194, 2084, 3021, 2387, 17188, 2030, 6969, 5720, 2000, 8870, 1012, 102], [101, 2198, 2387, 2062, 5194, 2084, 3021, 2387, 17188, 2030, 6969, 5720, 2000, 1012, 102], [101, 1045, 2113, 1037, 2158, 2040, 3021, 2387, 1998, 2984, 4669, 1012, 102], [101, 1045, 2113, 1037, 2158, 2040, 2387, 3021, 1998, 4669, 2984, 1012, 102], [101, 1045, 2113, 1037, 2158, 2040, 3021, 2387, 1998, 4669, 2984, 1012, 102], [101, 1045, 4687, 2040, 3021, 2387, 1998, 2984, 4669, 1012, 102], [101, 1045, 4687, 2040, 3021, 2387, 1998, 4669, 2984, 1012, 102], [101, 1045, 4687, 2040, 2984, 7777, 1998, 8069, 2097, 2663, 1012, 102], [101, 2198, 2356, 2040, 1998, 2073, 3021, 2018, 2464, 1012, 102], [101, 2029, 2338, 1998, 2029, 14745, 2106, 2198, 4965, 1029, 102], [101, 2073, 1998, 2043, 2106, 3021, 2404, 1996, 2338, 1029, 102], [101, 2006, 2029, 2795, 1998, 2104, 2029, 6546, 8962, 2106, 2198, 2404, 1996, 6309, 1029, 102], [101, 2000, 2029, 2103, 1998, 2000, 2029, 3034, 2106, 3021, 2175, 1029, 102], [101, 2000, 2029, 2103, 1998, 2029, 3034, 2106, 3021, 2175, 1029, 102], [101, 2029, 2103, 1998, 2029, 3034, 2106, 3021, 2175, 2000, 1029, 102], [101, 2029, 2103, 1998, 2029, 3034, 2106, 3021, 2175, 2000, 2000, 1029, 102], [101, 2029, 2103, 1998, 2000, 2029, 3034, 2106, 3021, 2175, 2000, 1029, 102], [101, 2000, 2029, 2103, 1998, 2029, 3034, 2106, 3021, 2175, 2000, 1029, 102], [101, 2198, 1010, 2040, 1998, 3005, 2814, 2017, 2387, 1010, 2003, 1037, 7966, 1012, 102], [101, 2198, 1010, 2000, 2040, 1998, 2000, 3005, 2814, 2008, 3661, 2001, 8280, 1010, 2003, 1037, 7966, 1012, 102], [101, 1045, 4687, 2043, 1998, 2129, 2411, 2016, 2253, 2008, 2154, 1012, 102], [101, 1045, 4687, 2040, 1998, 3005, 2814, 2002, 4375, 2058, 2000, 1996, 8495, 1012, 102], [101, 1045, 2031, 2359, 2000, 2113, 3599, 2054, 3047, 2000, 9508, 28359, 6633, 4645, 2005, 2116, 2086, 1012, 102], [101, 1045, 2031, 2359, 2000, 2113, 2005, 2116, 2086, 3599, 2054, 3047, 2000, 9508, 1012, 102], [101, 1045, 2018, 5113, 2008, 2009, 2001, 2995, 2008, 9508, 28359, 6633, 4645, 2018, 2941, 26330, 2000, 10399, 2005, 2116, 2086, 1012, 102], [101, 1045, 2018, 5113, 2008, 2009, 2001, 2995, 2005, 2116, 2086, 2008, 9508, 28359, 6633, 4645, 2018, 2941, 26330, 2000, 10399, 1012, 102], [101, 1045, 2031, 2359, 2000, 3113, 1996, 2158, 2040, 2985, 2061, 2172, 2769, 4041, 1996, 10102, 1997, 5817, 2005, 2116, 2086, 1012, 102], [101, 1045, 2031, 2359, 2000, 3113, 2005, 2116, 2086, 1996, 2158, 2040, 2985, 2061, 2172, 2769, 4041, 1996, 10102, 1997, 5817, 1012, 102], [101, 1996, 2450, 3373, 2008, 1996, 2158, 2001, 5665, 2040, 2001, 2182, 1012, 102], [101, 1996, 2450, 3373, 2008, 1996, 2158, 2040, 2001, 2182, 2001, 5665, 1012, 102], [101, 1996, 2450, 2040, 2001, 2182, 3373, 2008, 1996, 2158, 2001, 5665, 1012, 102], [101, 1037, 2450, 2718, 1037, 2611, 2040, 2001, 6875, 1012, 102], [101, 2111, 2024, 2056, 2000, 2079, 13675, 16103, 2121, 2477, 2012, 3020, 10898, 2045, 2011, 9984, 2084, 2027, 2024, 2011, 2060, 2111, 1012, 102], [101, 2111, 2024, 2056, 2000, 2079, 2107, 4689, 2477, 2012, 2107, 2152, 10898, 2045, 2011, 9984, 2008, 1045, 2572, 2893, 18386, 1012, 102], [101, 1037, 2450, 2718, 1037, 6875, 2611, 1012, 102], [101, 1037, 6875, 2450, 2718, 1037, 2611, 1012, 102], [101, 1037, 2158, 2074, 2234, 1999, 1998, 1037, 2450, 2253, 2041, 2040, 2020, 2714, 1999, 2035, 7957, 1997, 3971, 1012, 102], [101, 1037, 2158, 2074, 2234, 1999, 1998, 1037, 2450, 2253, 2041, 2040, 5223, 2169, 2060, 2066, 9947, 1998, 2467, 2031, 1012, 102], [101, 1045, 2424, 2009, 3733, 2000, 2903, 1011, 2021, 7437, 4858, 2009, 2524, 2000, 2903, 1011, 3419, 2000, 2022, 9841, 21821, 2102, 1012, 102], [101, 2198, 3253, 1010, 1998, 4302, 2435, 1010, 8836, 1037, 20425, 1012, 102], [101, 2198, 2409, 1010, 1998, 4302, 3662, 1010, 13254, 2008, 8836, 2001, 1037, 6261, 1012, 102], [101, 2990, 2089, 2022, 1998, 4116, 5121, 2003, 1037, 12797, 1012, 102], [101, 4302, 2038, 3555, 2021, 1045, 2079, 2025, 2903, 2008, 20993, 2003, 1037, 4750, 1012, 102], [101, 1045, 2066, 2021, 3419, 2987, 1005, 1056, 2066, 2000, 3942, 2047, 3182, 1012, 102], [101, 1045, 2064, 2425, 2017, 2043, 1010, 2021, 1045, 2064, 1005, 1056, 2425, 2017, 2339, 1010, 2002, 2187, 2033, 1012, 102], [101, 1045, 1005, 2310, 2042, 6603, 3251, 1010, 2021, 2876, 1005, 1056, 13567, 2215, 2000, 2110, 2008, 1012, 102], [101, 2198, 26747, 1010, 1998, 2984, 6369, 1010, 1996, 2168, 8694, 1012, 102], [101, 2198, 26747, 1010, 1998, 2984, 6369, 1010, 2012, 5020, 6702, 1012, 102], [101, 2198, 2435, 2984, 1010, 1998, 7437, 3591, 2000, 5965, 1010, 2808, 2029, 2246, 1012, 102], [101, 1996, 2417, 9175, 3786, 1010, 1998, 1996, 7230, 2020, 7854, 2011, 1010, 2367, 2780, 1012, 102], [101, 3044, 13190, 1010, 1998, 2010, 7794, 2101, 6955, 1010, 1037, 7070, 3074, 1997, 10485, 2000, 1996, 3075, 1012, 102], [101, 2029, 2252, 2106, 2017, 2718, 1996, 3045, 2404, 2102, 2007, 1029, 102], [101, 2007, 2029, 2252, 2106, 2017, 2718, 1996, 3045, 2404, 2102, 1029, 102], [101, 19180, 2001, 3564, 2012, 2014, 4624, 1012, 102], [101, 1996, 19180, 2001, 3564, 2012, 2014, 4624, 1012, 102], [101, 17907, 2001, 3564, 2012, 2014, 4624, 1012, 102], [101, 1996, 17907, 2001, 3564, 2012, 2014, 4624, 1012, 102], [101, 29114, 15727, 2256, 16156, 2296, 2095, 1012, 102], [101, 1045, 2052, 2066, 2019, 29114, 2000, 4066, 2041, 2026, 4171, 2709, 1012, 102], [101, 2070, 29114, 2020, 5168, 10320, 1999, 1996, 2067, 2436, 1012, 102], [101, 2052, 2062, 29114, 2191, 2151, 4489, 2000, 2026, 4171, 3021, 1029, 102], [101, 1996, 4744, 3659, 5474, 1012, 102], [101, 1996, 4744, 3659, 1996, 5474, 1012, 102], [101, 1996, 4744, 3659, 23480, 1012, 102], [101, 2023, 4744, 3659, 2625, 5474, 2084, 2008, 2028, 1012, 102], [101, 2023, 4744, 3659, 8491, 5474, 2084, 2008, 2028, 1012, 102], [101, 2045, 2024, 8491, 9322, 2006, 1996, 13119, 2023, 3467, 1012, 102], [101, 2045, 2024, 2625, 9322, 2006, 1996, 13119, 2023, 3467, 1012, 102], [101, 1996, 2317, 10442, 9955, 2010, 3422, 1012, 102], [101, 6077, 5252, 8870, 1012, 102], [101, 6077, 5252, 1012, 102], [101, 10088, 26929, 1012, 102], [101, 10088, 26929, 2175, 3126, 11368, 12278, 1012, 102], [101, 1996, 4937, 2915, 2046, 1996, 3829, 2006, 4465, 2851, 4755, 1037, 2757, 8000, 1012, 102], [101, 1996, 4937, 7842, 16671, 6850, 2046, 1996, 3829, 4755, 1037, 2757, 8000, 1012, 102], [101, 14736, 11741, 5225, 2014, 2482, 2013, 16956, 5178, 2000, 29011, 2006, 9317, 1012, 102], [101, 2006, 9317, 14736, 11741, 5225, 2014, 2482, 2013, 16956, 5178, 2000, 29011, 1012, 102], [101, 14736, 11741, 5225, 2014, 2482, 2006, 9317, 2013, 16956, 5178, 2000, 29011, 1012, 102], [101, 15333, 23047, 7842, 16671, 6850, 2046, 1996, 2282, 1012, 102], [101, 2046, 15333, 23047, 7842, 16671, 6850, 1996, 2282, 1012, 102], [101, 2046, 1996, 2282, 7842, 16671, 6850, 15333, 23047, 1012, 102], [101, 2029, 2282, 2106, 15333, 23047, 7842, 16671, 6850, 2046, 1029, 102], [101, 2046, 2029, 2282, 2106, 15333, 23047, 7842, 16671, 6850, 1029, 102], [101, 6437, 4375, 1996, 3463, 2000, 5070, 2006, 9857, 1012, 102], [101, 1996, 7391, 1999, 2023, 8785, 2015, 2465, 2435, 22619, 2000, 5545, 2296, 1012, 102], [101, 22619, 2020, 2445, 2000, 5545, 2296, 5958, 2011, 1996, 7391, 1999, 2023, 8785, 2015, 2465, 1012, 102], [101, 2023, 20463, 2003, 2200, 3082, 1012, 102], [101, 2023, 2200, 3082, 20463, 2001, 5359, 7483, 1012, 102], [101, 2200, 3082, 1010, 2023, 20463, 999, 102], [101, 2054, 2023, 20463, 2003, 2003, 2200, 3082, 1012, 102], [101, 2057, 3062, 2098, 1996, 4028, 2007, 2023, 8859, 10376, 1012, 102], [101, 2007, 2023, 8859, 10376, 2057, 3062, 2098, 1996, 4028, 1012, 102], [101, 6437, 4375, 1996, 23824, 3463, 1997, 1996, 6745, 7749, 2000, 5070, 2006, 9857, 1012, 102], [101, 6437, 4375, 2068, 2000, 5070, 2006, 9857, 1012, 102], [101, 2023, 2312, 20463, 2003, 2200, 3082, 1012, 102], [101, 2023, 2312, 20463, 2003, 2200, 3082, 1998, 2061, 2003, 2023, 2235, 14771, 1012, 102], [101, 12297, 2003, 26098, 1999, 1996, 11549, 1012, 102], [101, 12297, 2003, 26098, 2045, 1012, 102], [101, 13055, 2003, 2746, 2000, 2720, 16833, 2100, 1005, 1055, 2082, 4826, 1012, 102], [101, 13055, 2003, 2746, 2182, 4826, 1012, 102], [101, 1996, 4937, 2001, 5777, 1999, 1996, 3829, 1012, 102], [101, 1996, 4937, 19817, 26174, 2046, 1996, 3829, 1012, 102], [101, 1996, 8000, 5598, 2041, 1997, 1996, 8808, 3482, 1012, 102], [101, 1996, 8000, 2001, 2041, 1996, 8808, 3482, 1012, 102], [101, 1996, 4937, 19817, 26174, 1999, 1996, 3829, 1012, 102], [101, 1996, 4937, 19817, 26174, 1999, 1012, 102], [101, 1996, 8000, 5598, 2041, 1012, 102], [101, 1996, 26568, 2121, 4457, 1996, 20934, 10623, 8017, 1012, 102], [101, 1996, 26568, 2121, 9576, 2094, 1996, 20934, 10623, 8017, 1005, 1055, 15392, 1012, 102], [101, 1996, 26568, 2121, 4457, 1996, 20934, 10623, 8017, 1998, 1996, 26568, 2121, 9576, 2094, 1996, 20934, 10623, 8017, 1005, 1055, 15392, 1012, 102], [101, 1996, 26568, 2121, 4457, 1996, 20934, 10623, 8017, 1998, 9576, 2094, 1996, 20934, 10623, 8017, 1005, 1055, 15392, 1012, 102], [101, 2106, 1996, 7272, 2402, 2158, 4965, 2008, 3682, 2005, 2010, 3595, 19455, 1029, 102], [101, 2040, 4149, 2008, 3682, 2005, 2010, 3595, 19455, 1029, 102], [101, 2054, 2106, 1996, 7272, 2402, 2158, 4965, 2005, 2010, 3595, 19455, 1029, 102], [101, 2040, 2106, 1996, 7272, 2402, 2158, 4965, 2008, 3682, 2005, 1029, 102], [101, 1996, 7272, 2402, 2158, 4149, 2010, 3595, 19455, 2008, 3682, 1012, 102], [101, 2008, 3682, 2001, 4149, 2005, 2010, 3595, 19455, 2011, 1996, 7272, 2402, 2158, 1012, 102], [101, 1045, 2123, 1005, 1056, 2066, 1996, 22088, 17951, 1010, 2021, 1996, 3417, 1045, 2074, 2293, 1012, 102], [101, 3581, 4149, 1996, 3682, 2005, 4869, 1012, 102], [101, 3581, 4149, 4869, 1996, 3682, 1012, 102], [101, 1996, 3682, 2001, 4149, 2005, 4869, 2011, 3581, 1012, 102], [101, 1996, 3682, 3581, 4149, 2005, 4869, 1012, 102], [101, 2106, 3581, 4965, 1996, 3682, 2005, 4869, 1029, 102], [101, 2106, 3581, 4965, 4869, 1996, 3682, 1029, 102], [101, 2001, 1996, 3682, 4149, 2005, 4869, 2011, 3581, 1029, 102], [101, 2054, 2106, 3581, 4965, 2005, 4869, 1029, 102], [101, 3581, 4149, 2242, 2005, 4869, 1012, 102], [101, 2106, 3581, 4965, 2242, 2005, 4869, 1012, 102], [101, 2054, 2106, 3581, 4965, 2005, 4869, 1012, 102], [101, 1996, 2336, 13303, 1996, 3899, 1012, 102], [101, 1996, 5660, 5552, 2053, 15121, 2015, 2005, 1996, 3899, 1012, 102], [101, 4532, 16475, 16777, 1996, 22619, 1999, 1996, 3829, 2197, 2305, 1012, 102], [101, 2720, 5000, 3051, 13905, 2098, 1012, 102], [101, 5616, 7263, 2098, 3335, 11205, 1012, 102], [101, 4869, 17833, 2790, 6314, 1012, 102], [101, 2720, 3536, 4580, 2938, 1999, 2019, 29372, 1012, 102], [101, 2720, 5000, 3051, 2939, 2046, 1996, 5059, 2282, 1012, 102], [101, 2720, 19127, 4375, 2010, 2564, 2046, 1996, 9118, 1012, 102], [101, 5616, 2435, 2919, 6040, 2000, 14207, 1012, 102], [101, 2720, 5000, 3051, 4081, 2008, 15862, 2052, 3338, 2046, 7530, 3790, 1012, 102], [101, 10508, 11248, 24919, 2005, 19887, 1005, 1055, 4895, 3270, 9397, 9961, 1012, 102], [101, 10508, 11248, 19887, 1005, 1055, 4895, 3270, 9397, 9961, 2006, 24919, 1012, 102], [101, 1996, 10900, 2328, 2023, 24016, 1012, 102], [101, 1996, 3274, 2097, 18422, 1996, 3643, 1997, 1996, 8023, 1012, 102], [101, 2122, 17304, 2730, 1996, 6378, 1012, 102], [101, 9162, 2001, 3564, 2012, 2014, 4624, 1012, 102], [101, 2205, 2172, 5474, 12394, 4683, 1012, 102], [101, 2205, 2172, 4683, 2024, 5591, 2011, 5474, 1012, 102], [101, 2205, 2116, 5474, 12394, 4683, 1012, 102], [101, 2205, 2116, 4683, 2024, 5591, 2011, 5474, 1012, 102], [101, 3581, 10888, 2435, 1037, 3682, 2000, 4869, 17833, 1012, 102], [101, 1037, 3682, 2001, 2445, 2000, 4869, 17833, 2011, 3581, 10888, 1012, 102], [101, 15536, 3600, 3511, 3449, 24174, 2007, 14076, 1012, 102], [101, 3335, 11205, 2064, 24691, 2006, 2005, 2847, 1012, 102], [101, 2888, 10554, 3866, 17813, 2021, 17813, 3866, 9493, 1012, 102], [101, 2720, 17620, 3051, 2150, 5458, 1997, 4869, 2030, 2720, 1040, 1005, 8115, 2100, 11766, 2720, 1012, 102], [101, 3870, 18991, 2008, 2016, 2018, 2777, 15536, 3600, 3511, 1012, 102], [101, 6615, 8615, 2008, 1996, 6103, 2001, 11171, 1012, 102], [101, 2008, 4776, 2001, 1999, 4512, 2007, 2720, 9899, 20006, 2098, 2952, 1012, 102], [101, 17813, 2001, 15936, 2011, 1996, 2801, 2008, 2016, 2071, 4942, 29234, 2000, 1037, 3075, 1012, 102], [101, 2040, 2245, 2039, 1996, 6378, 2008, 1996, 2837, 2022, 8961, 1029, 102], [101, 1996, 9151, 2029, 3680, 11454, 3702, 3970, 2001, 2738, 2235, 1012, 102], [101, 1996, 10170, 2040, 5552, 19887, 2001, 24919, 1012, 102], [101, 1996, 2311, 2008, 2057, 4669, 2003, 1999, 14630, 16355, 1012, 102], [101, 2009, 2001, 4776, 9899, 2040, 3866, 2952, 20572, 2021, 2040, 5837, 2010, 2034, 6378, 1012, 102], [101, 1037, 5013, 2923, 2038, 2988, 2008, 1996, 2346, 2003, 8534, 2011, 4586, 2012, 15742, 2940, 1012, 102], [101, 1996, 18604, 8823, 2035, 1996, 2833, 2029, 2057, 2187, 2006, 1996, 3829, 2795, 1012, 102], [101, 2265, 2033, 1996, 19622, 1999, 2029, 2017, 8250, 1996, 5491, 1012, 102], [101, 1045, 2066, 1996, 2338, 2008, 2017, 2435, 2033, 1012, 102], [101, 1045, 2293, 1996, 2833, 2027, 5660, 1999, 1996, 9873, 1997, 5039, 1012, 102], [101, 1037, 5013, 2923, 2038, 2988, 1996, 2346, 2003, 8534, 2012, 15742, 2940, 1012, 102], [101, 1045, 2572, 15936, 2012, 1996, 2801, 2027, 2453, 9703, 13602, 1996, 26050, 3578, 1012, 102], [101, 1996, 9151, 2029, 3680, 11454, 3702, 3970, 2001, 2200, 2235, 1012, 102], [101, 4776, 14163, 28745, 22401, 2038, 2074, 2464, 2720, 9899, 1999, 7198, 2395, 1012, 102], [101, 6821, 28620, 2063, 2038, 3603, 2073, 4776, 9899, 4370, 1012, 102], [101, 6821, 28620, 2063, 6878, 2008, 3680, 5726, 3740, 2000, 2448, 2185, 2007, 1012, 102], [101, 4776, 22741, 2014, 2269, 1012, 102], [101, 2008, 2952, 20572, 2496, 4776, 22741, 2014, 2269, 1012, 102], [101, 2909, 4787, 9899, 8078, 1996, 3496, 1012, 102], [101, 2909, 4787, 9899, 8078, 2008, 2002, 2001, 2145, 8502, 1012, 102], [101, 7483, 14076, 3449, 24174, 2007, 15536, 3600, 3511, 1012, 102], [101, 14076, 3449, 24174, 2007, 15536, 3600, 3511, 7483, 1012, 102], [101, 2043, 14076, 2253, 2000, 10309, 1010, 2016, 3449, 24174, 2007, 15536, 3600, 3511, 1012, 102], [101, 14076, 3449, 24174, 2007, 15536, 3600, 3511, 2043, 2016, 2253, 2000, 10309, 1012, 102], [101, 2138, 1997, 1996, 4894, 1996, 14334, 2015, 7837, 2011, 2390, 8840, 12244, 1012, 102], [101, 1996, 14334, 2015, 7837, 2011, 2390, 8840, 12244, 2138, 1997, 1996, 4894, 1012, 102], [101, 2138, 1996, 3902, 6853, 2020, 2006, 4894, 1010, 1996, 14334, 2015, 7837, 2011, 2390, 8840, 12244, 1012, 102], [101, 1996, 14334, 2015, 7837, 2011, 2390, 8840, 12244, 2138, 1996, 3902, 6853, 2020, 2006, 4894, 1012, 102], [101, 2348, 2720, 1040, 1005, 8115, 2100, 18966, 3680, 3841, 7159, 2002, 2496, 3870, 1012, 102], [101, 1999, 8741, 1997, 2010, 18959, 1997, 3680, 3841, 7159, 1010, 2720, 1040, 1005, 8115, 2100, 2496, 3870, 1012, 102], [101, 2065, 5616, 2018, 2187, 7530, 3790, 1010, 2720, 3536, 4580, 2052, 2031, 2042, 12511, 1012, 102], [101, 2106, 2952, 20572, 4339, 1037, 3661, 2000, 4776, 9899, 1029, 102], [101, 4339, 1037, 3661, 2000, 4776, 9899, 1012, 102], [101, 2138, 2106, 19887, 2293, 24919, 1010, 2016, 4188, 2000, 1012, 102], [101, 2065, 2106, 5616, 2681, 7530, 3790, 1010, 2720, 3536, 4580, 2052, 2022, 12511, 1012, 102], [101, 2043, 2106, 17813, 2709, 1010, 2016, 2179, 3419, 27515, 2200, 5665, 1012, 102], [101, 1996, 9151, 2029, 2106, 3680, 11454, 3702, 5138, 2001, 2738, 2235, 1012, 102], [101, 6615, 8615, 2008, 2001, 1996, 6103, 11171, 1012, 102], [101, 1996, 3057, 4999, 2040, 2720, 3841, 7159, 2018, 2363, 1999, 2010, 3075, 1012, 102], [101, 2057, 2020, 6603, 2040, 2106, 2017, 3113, 2012, 1996, 3034, 1012, 102], [101, 2016, 2056, 2008, 1999, 2234, 5916, 15466, 1012, 102], [101, 2016, 2056, 2008, 2046, 1996, 2282, 2234, 5916, 15466, 1012, 102], [101, 1996, 2711, 2040, 1999, 2234, 2012, 2008, 2617, 2001, 5916, 15466, 1012, 102], [101, 2138, 1999, 2234, 5916, 15466, 1010, 17813, 3030, 3331, 1012, 102], [101, 2043, 1999, 2234, 5916, 15466, 1010, 17813, 3030, 3331, 1012, 102], [101, 2138, 2046, 1996, 2282, 2234, 5916, 15466, 1010, 17813, 3030, 3331, 1012, 102], [101, 2043, 2046, 1996, 2282, 2234, 5916, 15466, 1010, 17813, 3030, 3331, 1012, 102], [101, 2196, 2018, 2909, 2726, 2042, 2061, 15807, 1012, 102], [101, 1996, 2711, 2040, 2196, 2018, 2002, 2042, 2061, 15807, 2001, 2909, 2726, 1012, 102], [101, 2138, 2196, 2018, 2909, 2726, 2042, 2061, 15807, 1010, 2130, 2720, 20356, 2187, 1012, 102], [101, 2043, 2196, 2018, 2909, 2726, 2042, 2061, 15807, 1010, 2720, 20356, 2187, 1012, 102], [101, 2852, 3557, 10427, 28488, 8823, 2205, 2172, 4138, 2833, 1010, 2134, 1005, 1056, 2002, 1029, 102], [101, 2057, 11323, 2008, 2852, 3557, 2351, 2138, 2002, 8823, 2205, 2172, 4138, 2833, 1010, 2134, 1005, 1056, 2002, 1029, 102], [101, 1996, 2711, 2040, 8823, 2205, 2172, 4138, 2833, 2134, 1005, 1056, 2002, 2001, 2852, 1012, 102], [101, 2138, 2852, 3557, 8823, 2205, 2172, 4138, 2833, 2134, 1005, 1056, 2002, 1010, 2002, 2351, 1997, 9706, 27469, 18037, 1012, 102], [101, 2043, 2852, 3557, 2351, 1997, 9706, 27469, 18037, 2134, 1005, 1056, 2002, 1010, 2984, 10554, 2253, 2000, 2444, 2007, 2010, 2564, 1012, 102], [101, 17813, 3030, 3331, 2138, 1999, 2234, 5916, 15466, 1012, 102], [101, 2138, 1999, 2234, 5916, 15466, 17813, 3030, 3331, 1012, 102], [101, 2720, 20356, 2187, 2138, 2196, 2018, 2909, 2726, 2042, 2061, 15807, 1012, 102], [101, 2138, 2196, 2018, 2909, 2726, 2042, 2061, 15807, 1010, 2720, 20356, 2187, 1012, 102], [101, 17813, 3030, 3331, 2043, 1999, 2234, 5916, 15466, 1012, 102], [101, 2043, 1999, 2234, 5916, 15466, 17813, 3030, 3331, 1012, 102], [101, 17813, 2506, 3331, 2348, 1999, 2234, 5916, 15466, 1012, 102], [101, 2348, 1999, 2234, 5916, 15466, 1010, 17813, 2506, 3331, 1012, 102], [101, 17813, 2018, 2074, 3030, 3331, 2043, 1999, 2234, 5916, 15466, 1012, 102], [101, 17813, 18991, 3331, 2000, 2984, 1012, 102], [101, 2888, 2359, 2000, 5914, 17813, 1012, 102], [101, 3680, 3841, 7159, 2383, 2579, 1996, 2500, 8721, 1010, 2720, 17620, 3051, 3818, 2000, 1012, 102], [101, 2035, 2720, 6868, 2515, 2003, 8489, 3203, 2139, 8945, 12514, 1012, 102], [101, 3203, 2139, 8945, 12514, 2699, 2000, 13984, 3870, 2000, 17738, 17457, 2720, 1040, 1005, 8115, 2100, 1012, 102], [101, 2888, 2359, 2000, 2031, 2496, 17813, 2077, 9493, 2513, 1012, 102], [101, 17813, 18991, 2383, 5720, 2000, 2984, 1012, 102], [101, 2054, 2720, 6868, 2003, 2725, 2003, 15838, 3203, 2139, 8945, 12514, 1012, 102], [101, 17813, 18991, 2108, 3331, 2000, 2984, 1012, 102], [101, 2035, 2720, 6868, 2038, 2589, 2003, 2031, 5868, 3203, 2139, 8945, 12514, 1012, 102], [101, 6423, 1998, 3814, 2359, 2000, 2022, 3039, 2000, 4685, 1037, 2377, 1012, 102], [101, 9493, 2359, 17813, 2000, 2022, 2583, 2000, 4536, 1037, 3586, 1012, 102], [101, 2888, 2359, 2000, 4298, 5914, 17813, 1012, 102], [101, 17813, 3866, 3331, 2000, 2984, 1012, 102], [101, 15209, 1996, 2341, 1010, 2002, 2743, 2091, 1996, 4084, 1012, 102], [101, 2002, 2001, 4209, 1996, 2406, 2092, 1012, 102], [101, 2043, 22503, 1010, 2122, 18108, 2097, 2022, 12090, 1012, 102], [101, 1996, 7600, 5690, 8336, 2012, 2305, 1012, 102], [101, 13073, 5113, 2000, 3113, 1996, 3539, 2704, 1012, 102], [101, 4300, 2699, 2000, 8670, 3489, 1037, 9850, 1012, 102], [101, 13073, 11766, 4300, 2000, 8670, 3489, 1037, 9850, 1012, 102], [101, 6294, 2359, 4869, 2000, 2817, 2446, 1012, 102], [101, 1037, 28617, 2253, 2000, 1996, 3608, 1998, 11834, 3064, 2000, 5655, 24646, 17226, 1012, 102], [101, 1037, 28617, 2253, 2000, 1996, 3608, 1998, 5655, 24646, 17226, 11834, 3064, 2000, 1012, 102], [101, 1037, 28617, 2253, 2000, 1996, 3608, 1998, 2001, 11834, 3064, 2000, 2011, 5655, 24646, 17226, 1012, 102], [101, 2035, 1996, 11555, 2234, 2000, 21442, 2571, 2380, 1012, 102], [101, 1996, 11555, 2035, 2234, 2000, 21442, 2571, 2380, 1012, 102], [101, 2119, 4869, 1998, 3870, 2020, 2012, 2188, 1012, 102], [101, 4869, 1998, 3870, 2020, 2119, 2012, 2188, 1012, 102], [101, 6554, 14682, 2035, 1996, 24623, 1012, 102], [101, 6554, 2035, 14682, 1996, 24623, 1012, 102], [101, 6554, 14682, 1996, 24623, 2035, 1012, 102], [101, 2577, 2328, 2119, 1996, 3506, 1012, 102], [101, 2577, 2119, 2328, 1996, 3506, 1012, 102], [101, 2577, 2328, 1996, 3506, 2119, 1012, 102], [101, 2035, 1996, 24623, 2020, 14682, 2011, 6554, 1012, 102], [101, 13635, 11248, 2841, 2005, 2054, 3047, 1012, 102], [101, 2122, 5491, 3870, 2003, 9361, 2012, 2023, 2200, 2617, 1012, 102], [101, 8227, 3631, 1996, 2452, 1012, 102], [101, 12684, 5225, 1996, 2482, 1012, 102], [101, 9246, 18362, 1996, 7852, 1012, 102], [101, 1996, 2452, 2001, 3714, 2011, 8227, 1012, 102], [101, 1996, 2482, 2001, 5533, 2011, 12684, 1012, 102], [101, 1996, 7852, 2001, 18362, 2011, 9246, 1012, 102], [101, 2122, 4249, 2020, 9847, 2058, 2011, 2035, 1996, 8749, 1997, 2885, 1012, 102], [101, 2129, 2003, 2619, 2000, 11834, 2000, 1037, 2611, 2065, 2016, 2515, 2025, 2175, 2041, 1029, 102], [101, 2035, 1996, 8749, 1997, 2885, 9847, 2058, 2122, 4249, 1012, 102], [101, 1037, 28617, 2741, 2067, 1996, 6323, 13016, 1012, 102], [101, 1037, 28617, 2741, 1996, 6323, 13016, 2067, 1012, 102], [101, 1037, 28617, 2741, 2014, 5542, 1996, 6323, 13016, 1012, 102], [101, 1037, 28617, 2741, 2067, 2014, 5542, 1996, 6323, 13016, 1012, 102], [101, 22725, 2626, 2000, 2028, 11528, 1012, 102], [101, 3581, 4149, 1037, 3682, 2005, 4869, 1012, 102], [101, 7004, 2741, 1037, 3661, 2000, 4869, 1012, 102], [101, 7004, 2741, 4869, 1037, 3661, 1012, 102], [101, 1996, 2194, 2741, 2859, 2049, 3026, 5471, 6145, 2000, 2393, 2933, 1996, 2047, 7134, 1012, 102], [101, 1996, 8519, 7108, 12551, 2023, 3861, 1012, 102], [101, 1045, 2830, 2098, 2663, 10128, 5596, 1996, 3661, 1012, 102], [101, 1996, 3208, 3591, 1996, 18031, 1037, 2751, 3422, 1012, 102], [101, 5926, 2198, 1996, 3608, 1012, 102], [101, 1996, 4401, 2004, 26775, 20755, 8101, 2023, 2377, 1012, 102], [101, 2040, 2106, 2198, 4604, 1037, 2338, 2000, 1029, 102], [101, 2000, 3183, 2106, 2198, 4604, 1037, 2338, 1029, 102], [101, 2054, 2173, 2106, 2017, 3604, 2000, 1029, 102], [101, 2000, 2054, 2173, 2106, 2017, 3604, 1029, 102], [101, 2054, 2173, 2106, 2198, 4604, 1996, 2338, 1029, 102], [101, 2040, 2001, 1996, 2338, 2741, 2011, 2198, 1012, 102], [101, 2054, 2173, 2001, 1996, 2338, 2741, 2011, 2198, 1029, 102], [101, 2069, 2000, 1996, 2190, 2493, 2052, 2002, 2507, 2023, 2338, 1012, 102], [101, 2069, 1996, 2190, 2493, 2052, 2002, 2507, 2023, 2338, 1012, 102], [101, 2069, 2000, 6785, 2052, 2002, 2175, 2011, 3345, 1012, 102], [101, 2069, 6785, 2052, 2002, 3604, 2011, 3345, 1012, 102], [101, 2009, 2003, 2000, 1996, 2190, 2493, 2008, 2002, 3957, 2023, 2338, 1012, 102], [101, 2009, 2003, 1996, 2190, 2493, 2002, 3957, 2023, 2338, 1012, 102], [101, 2009, 2003, 2000, 3163, 2008, 2002, 2003, 2183, 1012, 102], [101, 2009, 2003, 3163, 2008, 2002, 2003, 2183, 1012, 102], [101, 2002, 2409, 2014, 1996, 2878, 2466, 1012, 102], [101, 2016, 2409, 2032, 1996, 2878, 2466, 1012, 102], [101, 1996, 2060, 2933, 2016, 5837, 2041, 1997, 2192, 1012, 102], [101, 1996, 18781, 2288, 3714, 2008, 15062, 2018, 2716, 2035, 1996, 2126, 2013, 1012, 102], [101, 1996, 2933, 2001, 5837, 2041, 1997, 2192, 2008, 4026, 2323, 2022, 7917, 1012, 102], [101, 5879, 3393, 25057, 5598, 2125, 1996, 7656, 1998, 2520, 3393, 25057, 2106, 2061, 2205, 1012, 102], [101, 5879, 3393, 25057, 5598, 2125, 1996, 7656, 1998, 2061, 2106, 2520, 3393, 25057, 1012, 102], [101, 14207, 2481, 1005, 1056, 5914, 2720, 5000, 3051, 2021, 5616, 2071, 1012, 102], [101, 2054, 14207, 2106, 2001, 5914, 2720, 3235, 1012, 102], [101, 5914, 2720, 3235, 2001, 2054, 14207, 2106, 1012, 102], [101, 5616, 23637, 3335, 11205, 1998, 11654, 2720, 5000, 3051, 1012, 102], [101, 14207, 25430, 7828, 2098, 1012, 102], [101, 1996, 2338, 2003, 26137, 2135, 11771, 1012, 102], [101, 1996, 19180, 2057, 2035, 2113, 1998, 2293, 8996, 2000, 3198, 2017, 2070, 9596, 3980, 1012, 102], [101, 20601, 2015, 2064, 2022, 2204, 2194, 1012, 102], [101, 14727, 20601, 2015, 2007, 2312, 15822, 2015, 2064, 2022, 2204, 2194, 1012, 102], [101, 2122, 14727, 20601, 2015, 2008, 1045, 2777, 2012, 1996, 9137, 4920, 2064, 2022, 2204, 2194, 1012, 102], [101, 20601, 2040, 2003, 1999, 2731, 2038, 1037, 3492, 3928, 7370, 1012, 102], [101, 24443, 8823, 1996, 26666, 1012, 102], [101, 24443, 4669, 5869, 8490, 2532, 1012, 102], [101, 5616, 2081, 14207, 2014, 2767, 1012, 102], [101, 1996, 21864, 5403, 1998, 1045, 2020, 8434, 1012, 102], [101, 24900, 2081, 2014, 2388, 2019, 18168, 12260, 2102, 1998, 1996, 3829, 1037, 6752, 1012, 102], [101, 3021, 2253, 2000, 2414, 2006, 6928, 1012, 102], [101, 3021, 2253, 2006, 6928, 2000, 2414, 1012, 102], [101, 2026, 2567, 3268, 2379, 18104, 1012, 102], [101, 2379, 18104, 2026, 2567, 3268, 1012, 102], [101, 2002, 8461, 1996, 3871, 2007, 10529, 2197, 2281, 1012, 102], [101, 2002, 8461, 1996, 3871, 2197, 2281, 2007, 10529, 1012, 102], [101, 1996, 3336, 18362, 1996, 20377, 28168, 1012, 102], [101, 1996, 3336, 2003, 3082, 1012, 102], [101, 2054, 1996, 3336, 2106, 2001, 21271, 1996, 20377, 28168, 1012, 102], [101, 1996, 3336, 2001, 17492, 1996, 20377, 28168, 1012, 102], [101, 21271, 1996, 20377, 28168, 999, 102], [101, 7530, 3790, 2160, 2003, 1999, 9948, 1012, 102], [101, 2720, 5000, 3051, 8469, 2000, 9803, 1012, 102], [101, 10508, 1998, 19887, 7837, 2013, 19322, 1012, 102], [101, 3581, 2435, 1037, 3682, 2000, 4869, 17833, 1012, 102], [101, 4869, 17833, 2363, 1037, 3682, 2013, 3581, 1012, 102], [101, 1996, 12383, 14368, 1996, 3332, 2007, 1037, 8691, 1012, 102], [101, 2952, 20572, 6757, 1996, 3200, 2005, 3680, 3044, 1012, 102], [101, 1996, 3332, 2001, 3714, 2011, 1037, 8691, 1012, 102], [101, 16255, 2328, 2358, 2703, 1005, 1055, 5040, 1012, 102], [101, 9033, 16429, 4819, 11060, 1037, 5418, 2006, 1996, 3538, 1997, 3536, 1012, 102], [101, 1996, 3899, 8655, 1037, 4920, 1999, 1996, 10168, 1012, 102], [101, 1996, 18781, 2768, 2006, 1996, 2795, 1999, 1996, 2534, 1012, 102], [101, 10047, 23924, 2165, 1996, 18781, 2000, 2014, 2388, 1005, 1055, 1012, 102], [101, 10047, 23924, 3631, 1996, 18781, 1012, 102], [101, 9790, 4282, 1996, 3437, 1012, 102], [101, 1996, 3437, 2003, 2124, 2000, 9790, 1012, 102], [101, 3958, 2001, 11361, 24494, 4691, 15664, 1012, 102], [101, 3958, 2001, 24494, 4691, 15664, 2043, 5545, 2187, 1998, 2001, 2145, 2012, 2009, 2043, 2016, 2288, 2067, 1012, 102], [101, 3958, 2001, 24935, 24494, 4691, 15664, 1012, 102], [101, 2952, 1051, 8520, 2351, 1999, 2344, 2000, 3828, 2010, 19033, 1012, 102], [101, 2023, 7905, 6753, 1996, 3635, 1997, 1996, 3578, 1012, 102], [101, 2054, 2023, 7905, 2515, 2003, 2490, 1996, 3635, 1997, 1996, 3578, 1012, 102], [101, 2023, 7905, 2003, 4637, 1996, 3635, 1997, 1996, 3578, 1012, 102], [101, 1996, 3274, 2003, 2652, 2416, 17424, 2399, 1997, 2093, 8789, 7433, 1012, 102], [101, 1996, 6387, 3147, 2730, 1996, 7105, 2545, 1012, 102], [101, 1996, 7105, 2545, 2020, 2730, 2011, 1996, 6387, 3147, 1012, 102], [101, 1996, 7105, 2545, 2020, 2730, 2007, 1996, 6387, 3147, 1012, 102], [101, 4937, 14772, 2050, 2441, 1996, 2341, 2007, 2023, 3145, 1012, 102], [101, 1996, 24487, 2024, 2007, 1996, 19494, 1012, 102], [101, 8836, 2253, 2000, 1996, 2283, 2007, 4080, 1012, 102], [101, 5070, 2081, 1996, 27048, 2007, 2844, 2317, 13724, 1012, 102], [101, 1996, 16472, 2081, 1996, 2813, 2007, 5509, 5991, 1012, 102], [101, 1996, 19785, 8461, 10529, 1999, 1996, 3871, 1012, 102], [101, 2009, 2001, 10529, 2008, 1996, 19785, 8461, 1999, 1996, 3871, 1012, 102], [101, 2009, 2003, 1996, 3871, 2008, 1996, 19785, 8461, 2007, 10529, 1012, 102], [101, 10529, 2024, 3056, 2000, 2022, 8461, 1999, 1996, 3871, 2011, 1996, 19785, 1012, 102], [101, 1996, 3871, 2003, 3056, 2000, 2022, 8461, 2007, 10529, 2011, 1996, 19785, 1012, 102], [101, 6330, 2741, 1037, 18982, 2000, 3958, 2005, 5545, 1012, 102], [101, 2054, 3047, 2001, 2027, 2253, 2188, 1012, 102], [101, 2054, 3047, 2001, 2027, 2354, 2010, 3008, 1012, 102], [101, 2057, 2024, 4209, 2023, 3399, 1012, 102], [101, 2027, 1005, 2128, 8929, 2673, 2017, 2360, 1012, 102], [101, 2017, 1005, 2222, 2574, 2022, 19273, 2035, 1996, 2455, 2461, 2182, 1012, 102], [101, 2054, 2016, 2106, 2001, 1041, 1011, 5653, 2035, 2014, 2814, 1012, 102], [101, 2054, 2016, 2106, 2001, 2113, 2023, 3399, 1012, 102], [101, 2054, 2016, 2106, 2001, 2022, 2200, 3147, 1012, 102], [101, 2054, 2016, 2106, 2001, 2219, 2035, 1996, 2455, 2461, 2182, 1012, 102], [101, 14207, 5720, 2000, 5616, 2005, 2847, 1012, 102], [101, 1996, 3899, 13303, 1996, 4937, 2005, 2420, 1012, 102], [101, 14207, 2409, 5616, 1996, 2878, 2466, 1012, 102], [101, 1996, 3899, 3236, 1996, 4937, 1012, 102], [101, 1996, 13570, 2328, 1037, 5477, 1012, 102], [101, 4776, 2209, 1996, 8694, 2006, 1996, 3682, 1012, 102], [101, 4869, 2001, 2652, 1996, 3682, 1012, 102], [101, 4869, 2209, 1996, 3682, 1012, 102], [101, 15540, 2001, 10591, 2012, 1996, 2341, 1012, 102], [101, 15540, 6573, 2012, 1996, 2341, 1012, 102], [101, 3581, 10888, 2001, 5153, 1996, 2395, 1012, 102], [101, 4869, 2003, 5873, 5616, 1012, 102], [101, 4869, 7879, 5616, 1012, 102], [101, 15540, 2003, 10591, 2012, 1996, 2341, 1012, 102], [101, 15540, 21145, 2012, 1996, 2341, 1012, 102], [101, 3581, 10888, 2003, 5153, 1996, 2395, 1012, 102], [101, 3581, 10888, 7821, 1996, 2395, 1012, 102], [101, 2613, 2377, 13083, 2279, 4465, 1012, 102], [101, 1045, 2681, 2005, 3000, 2279, 2733, 1012, 102], [101, 1996, 12779, 9413, 29441, 2015, 2006, 9857, 1012, 102], [101, 1996, 2704, 2038, 3369, 1012, 102], [101, 1045, 1005, 2310, 2042, 2012, 2147, 2005, 2416, 2847, 1012, 102], [101, 2031, 2017, 2412, 4716, 21888, 2614, 1029, 102], [101, 2045, 2001, 2019, 2886, 7483, 1012, 102], [101, 5616, 1998, 14207, 2020, 4457, 2011, 2216, 19088, 1012, 102], [101, 2216, 19088, 4457, 5616, 1998, 14207, 7483, 1012, 102], [101, 1996, 18781, 2001, 14368, 9969, 1012, 102], [101, 1996, 8351, 2288, 10372, 2007, 15121, 2666, 1012, 102], [101, 1996, 4599, 2020, 9969, 19157, 2011, 1037, 6538, 2177, 1012, 102], [101, 1996, 4599, 2288, 9969, 19157, 2011, 1037, 6538, 2177, 1012, 102], [101, 2416, 2493, 2288, 2915, 9554, 1012, 102], [101, 2070, 9604, 2131, 2109, 1037, 6474, 2030, 2061, 2335, 1037, 2095, 1012, 102], [101, 2064, 1005, 1056, 2017, 2156, 1045, 1005, 1049, 3752, 1029, 102], [101, 2111, 2175, 5933, 1999, 1996, 7114, 1012, 102], [101, 2057, 2985, 7483, 8434, 1012, 102], [101, 2016, 23311, 2005, 5292, 18933, 5104, 1012, 102], [101, 1045, 2387, 1998, 2002, 24494, 2015, 1012, 102], [101, 2023, 14329, 9378, 2229, 2092, 1012, 102], [101, 2023, 2338, 9631, 2092, 1012, 102], [101, 2122, 3765, 2853, 2200, 2855, 2197, 2733, 1012, 102], [101, 2009, 2097, 2202, 2086, 2005, 1996, 21442, 7952, 2000, 4550, 1012, 102], [101, 1996, 2607, 2003, 8660, 2092, 1012, 102], [101, 2028, 5968, 2134, 1005, 1056, 5009, 1998, 8007, 1012, 102], [101, 13073, 2089, 2022, 2182, 2011, 1019, 1051, 1005, 5119, 1012, 102], [101, 2065, 13073, 2003, 2182, 2011, 1019, 1051, 1005, 5119, 1010, 2057, 2064, 2175, 2000, 1996, 2283, 1012, 102], [101, 2009, 1005, 1055, 2152, 2051, 13073, 2288, 1037, 3105, 1012, 102], [101, 2009, 1005, 1055, 2152, 2051, 13073, 4152, 1037, 3105, 1012, 102], [101, 6986, 2003, 2593, 5236, 2030, 1037, 16374, 1012, 102], [101, 6986, 2003, 1037, 3951, 1998, 7098, 1997, 2009, 1012, 102], [101, 6986, 2003, 7965, 1998, 1997, 2614, 2568, 1012, 102], [101, 6986, 2003, 2593, 6680, 2030, 2012, 1996, 2436, 1012, 102], [101, 2008, 2001, 1037, 12726, 17674, 1998, 1999, 2200, 2919, 5510, 1012, 102], [101, 7525, 2003, 2593, 1037, 26594, 2030, 2104, 1996, 3747, 1997, 5850, 1012, 102], [101, 1045, 2572, 5327, 2000, 2131, 2019, 8468, 1998, 21931, 2055, 2026, 9592, 1012, 102], [101, 1045, 2572, 4445, 2019, 3691, 2006, 2023, 3395, 4496, 2667, 2000, 17279, 2870, 2004, 2028, 1012, 102], [101, 6986, 2001, 4445, 6749, 2005, 4712, 4496, 2104, 2151, 24883, 2055, 2054, 2008, 3214, 1012, 102], [101, 6986, 2038, 2468, 1037, 13448, 1998, 2200, 4603, 1012, 102], [101, 1045, 5136, 2008, 1037, 12726, 17674, 1998, 1999, 2200, 2919, 5510, 1012, 102], [101, 1996, 3496, 1997, 1996, 3185, 2001, 1999, 3190, 1012, 102], [101, 1996, 3496, 1997, 1996, 3185, 1998, 2008, 1045, 2626, 2001, 1999, 3190, 1012, 102], [101, 2198, 6369, 17950, 1012, 102], [101, 2198, 6369, 1037, 8594, 1012, 102], [101, 2198, 6369, 17950, 1998, 1037, 8594, 1012, 102], [101, 5035, 6369, 1998, 7525, 10948, 1012, 102], [101, 5035, 1998, 7525, 2777, 1012, 102], [101, 5035, 6369, 1998, 2001, 5642, 2011, 7525, 1012, 102], [101, 1996, 29348, 1998, 1037, 20716, 2158, 2001, 2026, 2567, 1012, 102], [101, 2574, 29348, 1998, 1037, 20716, 2318, 11273, 2153, 1012, 102], [101, 5035, 2001, 1037, 13448, 1012, 102], [101, 11271, 2001, 3243, 17824, 1012, 102], [101, 8886, 2001, 1999, 1996, 7186, 4224, 1012, 102], [101, 11688, 2001, 3331, 2000, 10223, 1012, 102], [101, 3744, 2001, 2445, 1037, 3396, 1012, 102], [101, 6986, 2038, 2468, 1037, 3951, 1012, 102], [101, 14926, 2150, 3243, 4603, 1012, 102], [101, 16560, 2038, 2468, 1997, 1996, 5448, 2008, 2057, 2323, 2131, 2041, 1012, 102], [101, 10555, 2150, 3018, 1037, 3396, 1012, 102], [101, 3782, 2097, 2468, 3331, 2000, 8628, 1012, 102], [101, 6986, 2150, 1037, 3951, 1998, 3243, 4603, 1012, 102], [101, 10555, 2038, 2468, 1037, 3951, 1998, 1997, 1996, 5448, 2008, 2057, 2442, 2173, 4517, 4255, 1999, 2885, 1012, 102], [101, 3782, 2150, 3243, 4603, 1998, 2667, 2000, 2689, 2037, 9273, 1012, 102], [101, 14926, 2150, 1037, 3951, 1998, 3018, 1037, 3396, 1012, 102], [101, 2057, 2939, 3254, 1998, 2007, 2307, 2729, 1012, 102], [101, 2027, 2359, 2000, 2681, 4826, 2030, 2006, 9857, 1012, 102], [101, 2057, 2024, 2330, 18860, 1010, 2151, 2120, 6209, 1010, 1998, 2006, 6585, 1012, 102], [101, 5035, 7344, 8520, 8870, 1998, 10299, 2010, 3899, 1012, 102], [101, 5035, 7344, 8520, 8870, 1998, 3786, 2010, 3899, 1012, 102], [101, 5035, 7344, 4383, 8870, 1998, 10299, 2010, 3899, 1012, 102], [101, 5035, 7344, 4383, 8870, 1998, 3786, 2010, 3899, 1012, 102], [101, 5035, 7344, 4383, 8870, 1998, 7854, 2010, 3899, 1012, 102], [101, 5035, 6012, 2010, 3899, 1998, 7344, 8520, 8870, 1012, 102], [101, 5035, 2000, 3786, 2010, 3899, 1998, 7344, 4383, 8870, 1012, 102], [101, 5035, 7854, 2010, 3899, 1998, 7344, 8520, 8870, 1012, 102], [101, 2029, 3076, 1005, 1055, 7022, 2253, 4895, 2890, 6442, 2098, 1029, 102], [101, 2027, 2179, 4620, 1997, 3209, 1012, 102], [101, 2040, 2106, 2017, 2360, 2026, 3331, 2000, 2052, 8572, 22744, 1029, 102], [101, 2040, 2106, 2017, 2360, 2026, 3331, 2000, 2052, 8572, 1029, 102], [101, 2029, 3720, 2106, 6609, 5371, 2302, 3752, 1029, 102], [101, 2029, 2808, 2106, 5863, 3191, 1998, 5223, 1029, 102], [101, 2029, 2808, 2106, 5863, 2831, 2000, 3782, 1998, 3191, 1029, 102], [101, 2029, 2808, 2106, 5863, 3191, 1998, 2831, 2000, 3782, 1029, 102], [101, 2040, 2106, 5863, 3942, 1998, 1029, 102], [101, 2027, 5720, 2000, 5035, 1998, 2000, 2169, 2060, 1012, 102], [101, 2002, 6283, 2370, 1998, 2010, 2814, 1012, 102], [101, 2027, 2020, 15705, 1997, 3209, 1998, 1997, 2169, 2060, 1012, 102], [101, 2027, 2356, 2029, 2493, 1998, 2029, 5089, 2052, 2131, 2247, 2362, 1012, 102], [101, 2057, 2170, 2039, 2296, 2158, 3005, 2269, 1998, 3005, 2388, 2018, 2209, 2006, 1996, 2136, 1012, 102], [101, 1045, 2253, 2000, 1996, 3573, 1998, 4149, 2070, 13803, 1012, 102], [101, 2016, 1005, 1055, 2908, 1998, 9868, 2014, 4377, 2085, 1012, 102], [101, 1045, 1005, 2310, 2288, 2000, 3046, 1998, 2424, 2008, 11224, 1012, 102], [101, 2016, 3632, 1998, 23311, 2070, 13803, 1012, 102], [101, 1045, 2031, 2908, 1998, 4149, 2070, 13803, 1012, 102], [101, 1045, 2097, 2175, 1998, 4965, 2070, 13803, 1012, 102], [101, 1045, 2097, 3046, 1998, 4965, 2070, 13803, 1012, 102], [101, 1045, 2031, 2908, 1998, 23311, 2070, 13803, 1012, 102], [101, 2000, 2175, 1998, 9343, 13803, 2003, 2025, 1996, 5576, 2000, 2115, 3291, 1012, 102], [101, 1045, 2097, 2175, 1998, 4149, 2070, 13803, 1012, 102], [101, 1045, 2699, 1998, 4965, 2070, 13803, 1012, 102], [101, 1045, 2001, 2667, 1998, 9343, 2070, 13803, 1012, 102], [101, 2054, 2106, 2017, 2360, 1045, 2253, 1998, 2131, 1029, 102], [101, 2054, 2106, 2017, 2360, 1045, 2175, 1998, 2288, 1029, 102], [101, 1045, 2253, 2000, 1996, 3573, 1998, 1045, 4149, 2070, 13803, 1012, 102], [101, 1045, 1005, 2310, 2288, 2000, 3046, 1998, 1045, 1005, 2310, 2288, 2000, 2424, 2008, 11224, 1012, 102], [101, 1045, 2119, 2253, 2000, 1996, 3573, 1998, 4149, 2070, 13803, 1012, 102], [101, 1045, 1005, 2310, 2288, 2000, 2119, 3046, 1998, 2424, 2008, 11224, 1012, 102], [101, 2182, 1005, 1055, 1996, 13803, 2029, 1045, 2253, 2000, 1996, 3573, 1998, 4149, 1012, 102], [101, 2029, 4377, 2038, 2016, 2908, 1998, 9868, 2085, 1029, 102], [101, 1996, 11224, 2029, 1045, 1005, 2310, 2288, 2000, 3046, 1998, 2424, 4324, 1996, 2341, 2000, 1996, 4853, 1012, 102], [101, 2593, 2057, 4841, 2030, 1045, 2870, 2097, 2131, 9731, 1999, 4390, 1012, 102], [101, 2593, 2017, 2030, 1045, 2097, 4297, 20026, 14776, 9731, 1012, 102], [101, 2017, 1998, 1045, 2089, 4297, 20026, 14776, 9731, 1012, 102], [101, 2057, 4841, 1998, 1996, 2329, 14089, 4842, 9731, 1012, 102], [101, 2017, 2329, 1998, 2017, 4841, 14089, 4842, 25035, 1012, 102], [101, 2017, 2329, 2030, 2017, 4841, 2097, 2131, 25035, 1999, 4390, 1012, 102], [101, 2017, 1998, 11260, 2031, 2041, 5280, 2063, 25035, 1012, 102], [101, 2017, 2030, 11260, 2031, 2566, 26949, 25035, 1012, 102], [101, 1996, 3337, 1998, 1996, 3057, 4025, 3407, 1012, 102], [101, 1996, 3337, 1998, 1996, 3057, 3849, 3407, 1012, 102], [101, 2593, 1996, 3337, 2030, 1996, 3057, 2024, 2183, 2000, 2022, 2045, 1012, 102], [101, 1996, 2493, 1998, 2934, 26699, 5063, 2024, 3116, 1999, 1996, 2380, 1012, 102], [101, 2593, 2934, 26699, 5063, 2030, 1996, 4619, 2493, 2024, 2183, 2000, 28770, 1996, 11360, 1012, 102], [101, 2593, 11271, 2030, 3389, 2003, 2183, 2000, 2599, 1996, 7700, 1012, 102], [101, 5035, 1998, 6609, 2024, 3407, 1012, 102], [101, 2593, 1996, 3337, 2030, 1996, 3057, 2003, 2183, 2000, 2022, 2045, 1012, 102], [101, 1996, 2493, 1998, 2934, 26699, 5063, 2003, 3116, 1999, 1996, 2380, 1012, 102], [101, 2593, 2934, 26699, 5063, 2030, 1996, 4619, 2493, 2003, 2183, 2000, 28770, 1996, 11360, 1012, 102], [101, 2593, 11271, 2030, 3389, 2024, 2183, 2000, 2599, 1996, 7700, 1012, 102], [101, 5035, 7777, 7525, 1010, 1998, 3389, 8886, 1012, 2000, 3046, 2000, 2175, 2000, 4199, 1012, 102], [101, 6986, 2359, 2000, 3046, 2000, 2175, 2000, 16595, 2063, 1010, 1998, 3782, 2000, 2175, 2000, 4199, 1012, 2000, 4199, 1012, 102], [101, 5035, 2253, 2000, 1996, 3573, 1010, 1998, 2059, 10223, 1012, 102], [101, 2070, 2111, 2175, 2011, 2482, 1010, 2021, 2500, 2011, 7997, 1012, 102], [101, 2070, 2111, 2066, 4524, 9050, 1010, 2021, 2500, 6949, 8808, 1012, 102], [101, 2006, 19759, 1010, 6609, 20323, 6240, 1998, 11546, 1010, 2021, 2006, 13499, 1010, 2069, 11546, 1012, 102], [101, 2198, 8974, 4157, 2012, 2340, 1010, 1998, 2984, 1010, 5572, 2012, 2184, 1024, 2382, 1012, 102], [101, 2198, 2435, 1996, 2808, 2000, 2984, 2012, 4234, 1010, 1998, 1996, 2636, 2000, 9790, 2005, 2014, 5798, 1012, 102], [101, 2198, 5720, 2000, 2010, 12366, 2055, 2010, 9459, 1010, 1998, 17513, 2000, 1996, 4670, 2055, 2533, 4331, 1012, 102], [101, 1037, 6883, 2097, 4392, 1037, 24480, 2000, 9483, 1010, 1998, 1037, 2740, 17490, 1010, 1037, 3221, 1997, 4511, 1010, 2074, 2000, 3961, 7965, 1012, 102], [101, 2198, 2187, 2012, 2340, 1998, 2012, 2260, 1010, 3021, 1012, 102], [101, 2198, 2187, 2010, 2436, 2012, 2340, 1998, 2012, 2260, 1010, 1996, 3075, 1012, 102], [101, 1037, 14460, 2939, 1999, 2012, 2340, 1010, 1998, 2012, 2260, 1010, 1037, 2543, 2386, 1012, 102], [101, 2048, 2420, 3283, 1010, 2057, 2253, 2041, 2000, 4596, 1010, 1998, 2023, 5027, 1010, 2000, 1996, 5691, 1012, 102], [101, 2006, 2023, 2795, 1010, 2027, 2404, 1037, 10437, 1010, 1998, 2006, 2008, 2795, 1010, 1037, 2557, 1012, 102], [101, 2198, 2134, 1005, 1056, 2156, 2984, 1998, 3021, 9790, 1012, 102], [101, 2198, 2134, 1005, 1056, 2507, 1996, 2808, 2000, 2984, 1998, 1996, 4981, 2000, 9790, 1012, 102], [101, 5035, 7777, 7525, 1010, 1998, 3389, 2000, 8886, 1012, 102], [101, 6986, 2359, 2000, 2175, 2000, 16595, 2063, 1010, 1998, 3782, 2183, 2000, 4199, 1012, 102], [101, 5035, 2435, 1037, 7922, 2000, 27731, 1998, 1037, 27211, 2046, 2010, 4979, 1012, 102], [101, 5035, 7777, 3389, 1010, 1998, 2000, 11688, 1012, 102], [101, 5035, 7777, 7525, 1998, 3389, 7777, 2000, 8886, 1012, 102], [101, 8886, 2003, 2738, 13219, 1010, 1998, 10223, 1037, 3143, 10041, 1012, 102], [101, 5035, 3849, 2000, 2022, 2074, 6405, 1010, 1998, 6609, 1999, 18704, 2342, 1997, 2256, 2393, 1012, 102], [101, 2057, 5136, 8886, 2738, 13219, 1010, 1998, 10223, 1037, 3143, 10041, 1012, 102], [101, 6986, 2038, 2468, 4689, 1010, 1998, 3782, 2019, 9788, 8501, 1012, 102], [101, 6986, 2038, 2468, 4689, 1010, 1998, 3782, 1999, 2204, 8633, 1012, 102], [101, 1045, 2435, 1037, 2338, 2000, 2198, 1005, 1055, 2388, 1998, 1037, 2932, 2000, 2032, 1012, 102], [101, 6986, 4622, 1996, 6098, 1998, 2008, 2009, 2001, 2590, 2000, 2022, 2006, 2051, 1012, 102], [101, 2008, 25507, 2805, 4931, 23335, 1998, 1996, 13494, 21739, 10363, 2116, 14009, 1012, 102], [101, 2057, 5720, 2055, 2720, 1012, 8902, 3385, 1998, 2008, 2002, 2018, 2499, 2012, 1996, 1012, 102], [101, 2017, 2064, 12530, 2006, 2026, 3353, 1998, 2008, 2002, 2097, 2022, 2006, 2051, 1012, 102], [101, 6986, 2001, 11654, 2011, 1996, 2336, 1005, 1055, 5005, 1998, 2008, 2037, 3008, 2106, 2498, 2000, 2644, 2009, 1012, 102], [101, 2057, 5720, 2055, 2008, 2002, 2018, 2499, 2012, 1996, 2317, 2160, 1012, 102], [101, 2017, 2064, 12530, 2006, 2008, 2002, 2097, 2022, 2006, 2051, 1012, 102], [101, 6986, 2001, 11654, 2011, 2008, 2037, 3008, 2106, 2498, 2000, 2644, 2009, 1012, 102], [101, 2057, 5720, 2055, 1996, 3314, 2057, 2018, 2499, 2006, 2004, 2493, 1998, 2008, 2256, 15251, 2018, 2904, 2058, 1996, 2086, 1012, 102], [101, 2057, 5720, 2055, 2008, 2256, 15251, 2018, 2904, 2058, 1996, 2086, 1998, 1996, 3314, 2057, 2018, 2499, 2006, 2004, 2493, 1012, 102], [101, 2008, 2256, 15251, 2018, 2904, 2058, 1996, 2086, 1998, 1996, 3314, 2057, 2018, 2499, 2006, 2004, 2493, 2020, 1996, 7832, 1997, 6594, 1012, 102], [101, 1996, 12266, 7488, 5419, 2046, 1037, 4920, 1999, 1996, 2598, 1012, 102], [101, 4920, 2046, 5419, 2598, 1996, 1996, 1999, 12266, 1037, 2210, 1012, 102], [101, 1996, 7488, 12266, 5419, 2046, 1037, 4920, 1999, 1996, 2598, 1012, 102], [101, 2023, 2611, 1999, 1996, 2417, 5435, 2097, 2404, 1037, 3861, 1997, 3021, 2009, 2006, 2115, 4624, 2077, 4826, 1012, 102], [101, 2023, 2611, 1999, 1996, 2417, 5435, 2097, 2404, 1037, 3861, 1997, 3021, 2006, 2115, 4624, 2045, 2077, 4826, 1012, 102], [101, 2023, 2611, 1999, 1996, 2417, 5435, 2028, 2097, 2404, 1037, 3861, 1997, 3021, 2006, 2115, 4624, 2077, 4826, 1012, 102], [101, 2023, 2611, 1999, 1996, 2417, 5435, 2097, 2404, 1037, 3861, 1997, 3021, 2006, 2115, 4624, 2009, 2077, 4826, 1012, 102], [101, 2023, 2611, 1999, 1996, 2417, 5435, 2097, 2404, 1037, 3861, 1997, 3021, 2006, 2115, 4624, 2077, 4826, 1012, 102], [101, 3021, 2097, 2404, 1037, 3861, 1997, 2023, 2611, 1999, 1996, 2417, 5435, 2006, 2115, 4624, 2077, 4826, 1012, 102], [101, 2016, 2097, 2404, 1037, 3861, 1997, 3021, 2006, 2115, 4624, 2077, 4826, 1012, 102], [101, 3021, 2097, 2404, 1037, 3861, 1997, 2016, 2006, 2115, 4624, 2077, 4826, 1012, 102], [101, 3021, 2097, 2404, 1037, 3861, 1997, 2014, 2006, 2115, 4624, 2077, 4826, 1012, 102], [101, 2014, 2097, 2404, 1037, 3861, 1997, 3021, 2006, 2115, 4624, 2077, 4826, 1012, 102], [101, 2016, 2014, 2097, 2404, 1037, 3861, 1997, 3021, 2006, 2115, 4624, 2077, 4826, 1012, 102], [101, 3021, 2097, 2404, 1037, 3861, 1997, 2016, 2014, 2006, 2115, 4624, 2077, 4826, 1012, 102], [101, 4550, 2115, 4624, 2077, 4826, 1012, 102], [101, 2023, 2611, 2097, 2404, 1037, 3861, 1997, 3021, 2006, 2115, 4624, 2077, 4826, 1012, 102], [101, 2023, 2879, 2442, 2025, 2175, 2000, 2082, 1010, 1998, 2010, 2269, 2442, 2025, 2175, 2000, 2082, 2593, 1012, 102], [101, 2023, 2879, 2442, 2025, 2175, 2000, 2605, 1010, 2021, 2010, 2269, 2442, 2175, 2000, 2605, 1012, 102], [101, 2023, 3883, 2442, 2377, 1999, 2023, 3185, 1998, 2016, 2097, 2377, 1999, 2023, 3185, 1012, 102], [101, 2064, 2984, 2663, 1996, 2679, 1998, 2097, 9790, 2663, 1996, 2679, 2205, 1029, 102], [101, 2023, 2611, 2097, 4965, 7852, 1998, 2061, 2097, 2008, 2028, 4965, 7852, 1012, 102], [101, 1996, 9045, 2097, 2175, 2000, 1996, 2380, 1012, 102], [101, 2097, 1996, 9045, 2175, 2000, 1996, 2380, 1029, 102], [101, 2070, 3076, 2013, 2660, 8847, 2822, 1012, 102], [101, 2515, 2070, 3076, 2013, 2660, 3713, 2822, 1029, 102], [101, 2027, 2052, 2031, 2042, 3788, 2005, 2847, 1012, 102], [101, 2052, 2027, 2031, 2042, 3788, 2005, 2847, 1029, 102], [101, 2023, 2611, 2097, 2025, 4965, 7852, 1010, 2097, 2016, 4965, 7852, 1029, 102], [101, 5977, 9502, 2064, 2552, 2092, 1999, 2116, 7957, 1997, 5691, 1010, 2064, 1005, 1056, 2002, 2552, 2092, 1999, 2116, 7957, 1997, 5691, 1029, 102], [101, 2017, 2097, 2404, 1037, 3861, 1997, 3021, 2006, 2115, 4624, 2077, 4826, 1012, 102], [101, 2023, 2611, 1999, 1996, 2417, 5435, 2030, 2017, 2097, 2404, 1037, 3861, 1997, 3021, 2006, 2115, 4624, 2077, 4826, 1012, 102], [101, 2053, 3337, 2097, 2404, 1037, 3861, 1997, 3021, 2006, 2115, 4624, 2077, 4826, 1012, 102], [101, 2023, 2611, 1999, 1996, 2417, 5435, 2021, 2053, 3337, 2097, 2404, 1037, 3861, 1997, 3021, 2006, 2115, 4624, 2077, 4826, 1012, 102], [101, 2023, 2611, 1999, 1996, 2417, 5435, 2097, 2404, 2009, 1998, 1037, 3861, 1997, 3021, 2006, 2115, 4624, 2077, 4826, 1012, 102], [101, 2023, 2611, 1999, 1996, 2417, 5435, 2097, 2404, 1037, 3861, 1997, 3021, 1999, 1996, 5653, 8758, 2077, 4826, 1012, 102], [101, 2023, 2611, 1999, 1996, 2417, 5435, 2097, 2404, 1037, 3861, 1997, 3021, 2006, 2115, 4624, 2044, 1996, 4596, 1012, 102], [101, 2023, 2611, 1999, 1996, 2417, 5435, 2097, 2404, 1037, 3861, 1997, 3021, 2006, 2115, 4624, 2044, 1996, 4596, 1998, 2077, 4826, 1012, 102], [101, 2023, 2611, 1999, 1996, 2417, 5435, 2097, 4521, 2014, 6350, 2077, 4826, 1012, 102], [101, 2023, 2611, 1999, 1996, 2417, 5435, 2097, 4521, 2014, 6350, 2077, 4826, 1998, 2404, 1037, 3861, 1997, 3021, 2006, 2115, 4624, 2077, 4826, 1012, 102], [101, 2023, 2611, 1999, 1996, 2417, 5435, 2097, 4521, 2014, 6350, 1998, 2097, 2404, 1037, 3861, 1997, 3021, 2006, 2115, 4624, 2077, 4826, 1012, 102], [101, 2023, 2611, 1999, 1996, 2417, 5435, 2097, 2404, 1037, 3861, 1997, 3021, 2006, 2115, 4624, 1012, 102], [101, 2023, 2611, 1999, 1996, 2417, 4377, 2442, 2404, 1037, 3861, 1997, 3021, 2006, 2115, 4624, 1012, 102], [101, 2023, 2611, 1999, 1996, 2417, 5435, 2097, 1998, 4377, 2442, 2404, 1037, 3861, 1997, 3021, 2006, 2115, 4624, 1012, 102], [101, 2023, 2611, 1999, 1996, 2030, 2006, 1996, 2417, 5435, 2097, 2404, 1037, 3861, 1997, 3021, 2006, 2115, 4624, 1012, 102], [101, 2198, 1998, 2984, 2097, 2377, 2007, 2888, 1998, 2007, 9790, 1012, 102], [101, 2027, 2377, 5866, 2189, 1010, 1998, 1045, 4952, 2000, 5866, 2189, 1012, 102], [101, 2027, 2377, 1998, 1045, 4952, 2000, 5866, 2189, 1012, 102], [101, 1045, 2293, 3256, 6501, 5572, 2021, 2017, 5223, 3256, 6501, 5572, 1012, 102], [101, 1045, 2293, 2021, 2017, 5223, 3256, 6501, 5572, 1012, 102], [101, 2016, 2089, 2031, 22794, 15557, 1996, 25043, 1998, 2323, 2031, 22794, 15557, 1996, 25043, 1012, 102], [101, 2016, 2089, 2031, 1998, 2323, 2031, 22794, 15557, 1996, 25043, 1012, 102], [101, 3044, 13190, 1037, 7070, 3074, 1997, 10485, 2000, 1996, 3075, 1010, 1998, 2010, 7794, 2101, 6955, 1037, 7070, 3074, 1997, 10485, 2000, 1996, 3075, 1012, 102], [101, 3044, 13190, 1998, 2010, 7794, 2101, 6955, 1037, 7070, 3074, 1997, 10485, 2000, 1996, 3075, 1012, 102], [101, 1045, 11780, 2312, 20571, 1997, 2769, 2013, 1996, 2924, 1010, 1998, 2026, 2905, 10312, 2312, 20571, 1997, 2769, 2013, 1996, 2924, 1012, 102], [101, 1045, 11780, 1998, 2026, 2905, 10312, 2312, 20571, 1997, 2769, 2013, 1996, 2924, 1012, 102], [101, 2404, 1037, 3861, 1997, 3021, 2006, 2115, 4624, 1010, 2023, 2611, 1999, 1996, 2417, 5435, 2097, 2404, 1037, 3861, 1997, 3021, 2006, 2115, 4624, 2077, 4826, 1012, 102], [101, 2984, 2323, 2113, 2008, 2017, 2442, 2175, 2000, 1996, 2276, 1012, 102], [101, 2008, 2017, 2442, 2175, 2000, 1996, 2276, 1010, 2984, 2323, 2113, 2008, 2017, 2442, 2175, 2000, 1996, 2276, 1012, 102], [101, 2023, 2115, 1010, 2023, 2611, 1999, 1996, 2417, 5435, 2097, 2404, 1037, 3861, 1997, 3021, 2006, 2115, 4624, 2077, 4826, 1012, 102], [101, 2097, 3021, 1010, 2023, 2611, 1999, 1996, 2417, 5435, 2097, 2404, 1037, 3861, 1997, 3021, 2006, 2115, 4624, 2077, 4826, 1012, 102], [101, 2417, 3861, 4624, 1010, 2023, 2611, 1999, 1996, 2417, 5435, 2097, 2404, 1037, 3861, 1997, 1012, 102], [101, 2077, 2115, 1010, 2023, 2611, 1999, 1996, 2417, 5435, 2097, 2404, 1037, 3861, 1997, 3021, 2006, 2115, 4624, 2077, 4826, 1012, 102], [101, 2611, 1999, 1996, 2417, 5435, 1010, 2023, 2611, 1999, 1996, 2417, 5435, 2097, 2404, 1037, 3861, 1997, 3021, 2006, 2115, 4624, 2077, 4826, 1012, 102], [101, 2097, 2404, 1037, 3861, 1997, 3021, 2006, 2115, 4624, 2077, 4826, 1010, 2023, 2611, 1999, 1996, 2417, 5435, 2097, 2404, 1037, 3861, 1997, 3021, 2006, 2115, 4624, 2077, 4826, 1012, 102], [101, 1996, 2417, 1010, 2023, 2611, 1999, 1996, 2417, 5435, 2097, 2404, 1037, 3861, 1997, 3021, 2006, 2115, 4624, 2077, 4826, 1012, 102], [101, 1997, 3021, 2006, 1010, 2023, 2611, 1999, 1996, 2417, 5435, 2097, 2404, 1037, 3861, 1997, 3021, 2006, 2115, 4624, 2077, 4826, 1012, 102], [101, 2097, 2404, 1010, 2023, 2611, 1999, 1996, 2417, 5435, 2097, 2404, 1037, 3861, 1997, 3021, 2006, 2115, 4624, 2077, 4826, 1012, 102], [101, 2115, 4624, 2077, 1010, 2023, 2611, 1999, 1996, 2417, 5435, 2097, 2404, 1037, 3861, 1997, 3021, 2006, 2115, 4624, 2077, 4826, 1012, 102], [101, 2009, 2003, 2115, 3964, 2008, 2198, 4122, 2000, 2298, 2012, 2044, 2465, 1012, 102], [101, 2009, 2003, 2044, 2465, 2008, 2198, 4122, 2000, 2298, 2012, 2115, 3964, 1012, 102], [101, 2009, 2003, 2198, 2040, 4122, 2000, 2298, 2012, 2115, 3964, 2044, 2465, 1012, 102], [101, 2009, 2001, 5754, 2040, 4149, 1037, 2034, 3179, 1997, 2957, 3523, 2005, 1002, 6694, 1012, 102], [101, 2009, 2001, 1037, 2034, 3179, 1997, 2957, 3523, 2008, 5754, 4149, 2005, 1002, 6694, 1012, 102], [101, 2009, 2001, 2005, 1002, 6694, 2008, 5754, 4149, 1037, 2034, 3179, 1997, 2957, 3523, 1012, 102], [101, 2009, 2003, 2077, 4826, 2008, 2023, 2611, 1999, 1996, 2417, 5435, 2097, 2404, 1037, 3861, 1997, 3021, 2006, 2115, 4624, 2077, 4826, 1012, 102], [101, 2984, 2387, 1996, 4206, 2158, 2746, 2013, 2563, 1012, 102], [101, 2009, 2003, 1996, 4206, 2158, 2746, 2013, 2563, 2008, 2984, 2387, 1996, 4206, 2158, 2746, 2013, 2563, 1012, 102], [101, 2984, 2387, 1996, 4206, 2158, 2272, 2013, 1996, 2067, 1012, 102], [101, 2009, 2003, 1996, 4206, 2158, 2272, 2013, 1996, 2067, 2008, 2984, 2387, 1996, 4206, 2158, 2272, 2013, 1996, 2067, 1012, 102], [101, 2009, 2003, 1037, 3861, 1997, 3021, 2008, 2023, 2611, 1999, 1996, 2417, 5435, 2097, 2404, 2006, 2115, 4624, 2077, 4826, 1012, 102], [101, 2009, 2003, 2404, 1037, 3861, 1997, 3021, 2006, 2115, 4624, 2077, 4826, 2008, 2023, 2611, 1999, 1996, 2417, 5435, 2097, 1012, 102], [101, 2054, 2198, 4122, 2000, 2298, 2012, 2085, 2003, 2115, 3964, 1012, 102], [101, 2054, 2984, 2435, 2001, 1037, 2338, 2000, 2198, 1012, 102], [101, 2054, 2984, 6955, 2001, 1037, 2843, 1997, 2769, 2000, 21411, 1012, 102], [101, 2009, 2003, 2000, 6044, 2008, 2198, 5225, 1996, 4744, 1012, 102], [101, 2054, 2198, 2150, 2001, 9252, 4452, 1997, 3909, 1012, 102], [101, 2009, 2003, 9252, 4452, 1997, 3909, 2008, 2198, 2150, 1012, 102], [101, 2198, 2409, 2149, 2008, 2002, 4122, 2000, 8046, 2082, 1012, 102], [101, 2009, 2003, 2008, 2002, 4122, 2000, 8046, 2082, 2008, 2198, 2409, 2149, 1012, 102], [101, 2054, 2198, 2409, 2149, 2003, 2008, 2002, 4122, 2000, 8046, 2082, 1012, 102], [101, 2198, 5763, 2149, 2000, 2022, 7132, 1012, 102], [101, 2009, 2003, 2000, 2022, 7132, 2008, 2198, 5763, 1012, 102], [101, 2984, 2097, 7180, 4826, 1012, 102], [101, 2009, 2003, 7180, 4826, 2008, 2984, 2097, 1012, 102], [101, 8863, 4122, 1996, 2338, 2029, 2003, 2006, 1996, 2327, 11142, 1012, 102], [101, 2054, 8863, 4122, 2003, 1996, 2338, 2029, 2003, 2006, 1996, 2327, 11142, 1012, 102], [101, 1996, 8645, 2150, 2205, 5379, 2007, 2010, 2047, 10402, 1012, 102], [101, 2054, 1996, 8645, 2150, 2001, 2205, 5379, 2007, 2010, 2047, 10402, 1012, 102], [101, 2054, 2023, 2611, 1999, 1996, 2417, 5435, 2097, 2079, 2003, 2404, 1037, 3861, 1997, 3021, 2006, 2115, 4624, 2077, 4826, 1012, 102], [101, 8863, 4122, 2000, 4965, 2122, 2808, 2055, 8434, 1012, 102], [101, 2029, 2808, 2055, 8434, 2515, 8863, 2215, 2000, 4965, 1029, 102], [101, 1045, 2741, 2009, 2000, 2017, 1012, 102], [101, 1045, 2741, 2000, 2017, 2009, 1012, 102], [101, 1045, 2741, 2000, 2017, 19328, 1012, 102], [101, 3021, 1005, 1055, 2388, 1005, 1055, 2814, 2024, 3403, 2012, 1996, 4825, 1012, 102], [101, 3021, 1005, 1055, 2388, 1005, 1055, 2814, 1998, 2198, 2024, 3403, 2012, 1996, 4825, 1012, 102], [101, 2009, 2001, 2198, 2008, 2001, 3403, 2012, 1996, 4825, 1012, 102], [101, 2009, 2001, 2198, 3021, 2008, 2020, 3403, 2012, 1996, 4825, 1012, 102], [101, 2009, 2001, 2198, 1998, 3021, 2008, 2020, 3403, 2012, 1996, 4825, 1012, 102], [101, 1045, 2097, 4521, 26666, 2006, 4465, 2007, 8879, 1012, 102], [101, 1045, 2097, 3713, 2000, 10590, 2055, 2023, 1012, 102], [101, 1045, 4797, 2008, 2984, 9631, 15572, 1012, 102], [101, 2002, 6250, 2008, 1996, 5731, 2097, 2681, 1012, 102], [101, 1996, 2755, 2008, 2198, 2003, 1055, 12131, 2075, 2003, 12367, 8082, 1012, 102], [101, 1996, 2158, 2008, 2984, 2387, 2354, 2033, 1012, 102], [101, 2008, 1996, 5873, 2136, 2180, 1996, 2679, 2071, 4474, 2068, 1012, 102], [101, 2008, 2003, 2054, 2017, 2323, 2156, 1012, 102], [101, 2198, 4282, 2008, 2016, 2187, 1012, 102], [101, 2198, 4282, 3251, 2016, 2097, 2272, 2067, 1012, 102], [101, 2198, 4282, 2008, 2016, 2187, 1998, 3251, 2016, 2097, 2272, 2067, 1012, 102], [101, 2198, 4282, 2008, 2016, 2187, 1998, 2198, 4282, 3251, 2016, 2097, 2272, 2067, 1012, 102], [101, 2198, 2356, 3251, 2016, 2187, 1012, 102], [101, 1045, 4797, 2065, 2016, 14590, 3819, 3289, 2296, 2051, 1012, 102], [101, 2027, 2228, 2008, 2016, 2064, 2079, 2009, 1012, 102], [101, 3251, 2016, 2187, 2003, 2087, 10599, 1012, 102], [101, 2008, 1996, 2611, 2404, 1037, 3861, 2045, 16481, 2014, 8056, 1012, 102], [101, 1045, 9544, 2005, 1996, 2611, 2000, 2404, 1037, 3861, 2045, 1012, 102], [101, 2005, 1996, 2611, 2000, 2404, 1037, 3861, 2045, 2003, 2054, 1045, 9544, 1012, 102], [101, 2005, 1996, 2611, 2000, 2404, 1037, 3861, 2045, 2052, 4474, 2017, 1012, 102], [101, 1045, 9544, 2005, 1996, 2611, 2000, 2663, 1012, 102], [101, 1045, 9544, 2005, 1996, 2611, 2000, 2097, 2663, 1012, 102], [101, 1045, 9544, 2005, 1996, 2611, 2000, 5222, 1012, 102], [101, 2292, 1005, 1055, 3328, 1012, 102], [101, 1045, 2448, 2006, 1996, 3509, 1012, 102], [101, 1996, 2093, 3103, 14479, 22328, 2253, 5742, 1012, 102], [101, 1045, 3246, 2008, 2984, 5222, 1012, 102], [101, 2027, 2113, 2065, 2984, 2180, 1012, 102], [101, 1045, 4687, 3251, 2984, 2097, 2663, 1012, 102], [101, 2027, 9544, 2005, 2984, 2000, 2681, 1012, 102], [101, 2198, 16278, 3251, 2984, 2097, 2663, 1012, 102], [101, 2198, 16278, 3251, 2000, 2663, 1012, 102], [101, 3251, 2016, 2097, 2663, 2003, 1037, 3160, 2984, 2196, 2641, 1012, 102], [101, 3251, 2000, 2663, 2003, 1037, 3160, 2984, 2196, 2641, 1012, 102], [101, 1045, 2228, 2008, 2017, 2097, 2156, 2008, 1996, 2611, 2097, 2404, 1037, 3861, 2006, 2115, 4624, 1012, 102], [101, 2027, 3305, 2008, 2017, 2097, 9544, 2005, 1996, 2611, 2000, 2404, 1037, 3861, 2006, 2115, 4624, 1012, 102], [101, 2984, 7659, 1996, 3259, 4089, 1012, 102], [101, 1996, 3259, 7659, 4089, 1012, 102], [101, 2008, 2002, 2180, 1996, 2679, 2071, 4474, 2068, 1012, 102], [101, 2008, 2032, 2180, 1996, 2679, 2071, 4474, 2068, 1012, 102], [101, 2005, 2032, 2000, 2663, 1996, 2679, 2052, 4474, 2068, 1012, 102], [101, 2005, 2002, 2000, 2663, 1996, 2679, 2052, 4474, 2068, 1012, 102], [101, 2198, 2387, 2984, 1012, 102], [101, 4302, 7777, 5691, 1012, 102], [101, 2005, 2984, 2000, 2681, 2006, 2051, 2003, 2590, 1012, 102], [101, 2228, 2055, 15397, 2035, 2305, 1010, 2016, 2515, 2228, 2055, 15397, 2035, 2305, 1012, 102], [101, 7105, 2000, 1996, 2327, 1010, 2027, 2079, 7105, 2000, 1996, 2327, 1012, 102], [101, 2198, 2064, 2175, 2000, 1996, 3006, 2006, 2010, 7997, 1012, 102], [101, 2984, 2323, 4965, 2070, 4870, 2006, 4465, 1012, 102], [101, 2026, 12286, 2071, 4339, 2033, 4144, 2077, 2014, 2353, 5798, 1012, 102], [101, 2026, 7833, 2071, 4339, 4144, 2000, 2010, 3008, 2007, 1037, 9545, 7279, 1012, 102], [101, 2198, 2064, 2175, 2000, 1996, 3006, 2855, 1012, 102], [101, 2984, 2323, 4965, 2070, 4870, 2005, 2014, 2388, 2000, 13621, 1012, 102], [101, 2026, 12286, 2071, 4339, 2033, 4144, 2062, 11633, 2135, 1012, 102], [101, 2198, 2064, 2855, 2175, 2000, 1996, 3006, 1012, 102], [101, 2026, 12286, 2071, 2062, 11633, 2135, 4339, 2033, 4144, 1012, 102], [101, 2198, 2064, 2175, 2000, 1996, 3006, 2000, 2634, 1012, 102], [101, 2984, 2323, 4965, 2070, 4870, 2070, 7852, 1012, 102], [101, 2026, 12286, 2071, 4339, 2033, 2017, 4144, 1012, 102], [101, 2026, 7833, 2071, 4339, 4144, 1996, 2695, 17965, 2000, 2010, 3008, 1012, 102], [101, 2198, 2064, 2175, 2000, 1996, 3006, 2006, 2010, 7997, 2006, 1037, 4744, 1012, 102], [101, 2984, 2323, 4965, 2070, 4870, 2006, 4465, 2012, 1019, 1051, 1005, 5119, 1012, 102], [101, 2026, 7833, 2071, 4339, 4144, 2000, 2010, 3008, 2007, 1037, 9545, 7279, 2007, 2115, 2393, 1012, 102], [101, 21877, 2571, 4716, 2010, 4470, 1012, 102], [101, 2016, 2853, 1996, 2482, 2000, 3520, 2005, 2274, 6363, 1012, 102], [101, 2016, 2743, 1996, 2482, 2006, 17678, 7231, 2013, 17738, 2000, 7136, 1012, 102], [101, 1996, 2832, 2904, 1996, 9415, 2013, 5024, 2000, 6381, 2000, 3806, 2000, 2943, 1012, 102], [101, 2057, 3378, 2037, 20178, 2007, 2256, 5971, 2436, 1012, 102], [101, 1045, 5402, 2094, 2105, 2605, 1012, 102], [101, 2984, 10749, 2070, 5404, 1999, 1996, 8659, 2013, 1020, 2000, 3157, 1012, 102], [101, 2009, 2001, 1999, 1996, 8659, 2030, 2009, 2165, 2173, 1999, 1996, 8659, 1012, 102], [101, 2009, 2001, 2070, 5404, 2030, 2009, 2165, 2173, 2070, 5404, 1012, 102], [101, 2027, 4687, 3251, 2984, 2097, 2448, 1012, 102], [101, 2027, 4687, 2055, 2023, 1012, 102], [101, 2027, 4687, 1012, 102], [101, 1045, 2113, 2008, 2016, 3216, 1012, 102], [101, 1045, 2113, 1012, 102], [101, 1045, 2056, 2008, 2016, 3216, 1012, 102], [101, 1045, 2056, 2008, 1012, 102], [101, 1045, 2056, 1012, 102], [101, 1045, 9544, 2005, 2984, 2000, 2448, 1012, 102], [101, 1045, 9544, 2023, 1012, 102], [101, 1045, 9544, 1012, 102], [101, 1045, 2056, 2005, 2984, 2000, 2448, 1012, 102], [101, 1045, 2056, 2023, 1012, 102], [101, 1045, 2404, 1996, 2338, 2006, 1996, 11142, 1012, 102], [101, 1045, 2404, 1996, 2338, 1012, 102], [101, 1045, 2404, 1012, 102], [101, 2048, 3719, 2596, 1010, 3369, 1010, 2815, 1010, 6003, 1012, 102], [101, 3402, 1010, 2045, 2596, 2048, 3719, 2006, 1996, 9154, 1012, 102], [101, 2048, 28421, 2013, 1996, 16021, 2596, 1010, 3369, 1010, 2815, 1010, 6003, 1012, 102], [101, 1996, 3256, 14899, 2015, 1010, 7807, 1012, 102], [101, 1996, 2341, 7480, 1010, 14572, 1012, 102], [101, 2027, 12501, 1010, 3631, 1996, 3256, 1012, 102], [101, 2027, 2441, 1010, 2701, 1996, 2341, 1012, 102], [101, 2027, 12984, 1010, 4317, 6675, 1996, 11350, 1012, 102], [101, 1045, 2175, 1010, 2448, 1010, 9880, 1010, 5376, 1010, 4875, 1010, 13529, 1010, 3153, 1010, 3328, 1012, 102], [101, 2027, 2253, 2033, 1010, 2743, 2033, 1010, 16849, 2033, 1010, 5598, 2033, 1010, 5520, 2033, 1010, 12425, 2033, 1010, 10948, 2033, 1010, 2939, 2033, 1012, 102], [101, 1045, 10948, 1037, 3153, 1012, 102], [101, 2002, 2939, 1996, 3328, 1012, 102], [101, 1996, 2051, 3449, 9331, 6924, 3254, 1012, 102], [101, 1996, 2051, 3449, 9331, 6924, 1996, 2154, 1012, 102], [101, 1045, 2156, 3340, 1012, 102], [101, 1045, 2156, 1012, 102], [101, 1045, 4669, 2984, 1012, 102], [101, 1045, 4669, 1012, 102], [101, 2027, 5129, 1996, 3481, 1012, 102], [101, 2027, 5129, 1012, 102], [101, 1045, 2435, 1996, 5952, 1012, 102], [101, 1045, 2435, 2769, 1012, 102], [101, 1045, 2435, 1012, 102], [101, 1045, 4375, 1996, 3608, 2000, 19723, 1012, 102], [101, 1045, 4375, 1996, 3608, 1012, 102], [101, 1045, 4375, 2000, 19723, 1012, 102], [101, 1045, 4375, 1012, 102], [101, 2198, 8823, 1012, 102], [101, 2198, 4282, 1012, 102], [101, 2198, 2734, 1012, 102], [101, 2198, 6367, 1012, 102], [101, 2198, 2387, 1012, 102], [101, 2198, 2409, 1012, 102], [101, 1996, 4034, 6219, 1996, 5491, 1012, 102], [101, 1996, 4034, 6219, 1012, 102], [101, 1996, 2162, 15767, 1996, 5635, 1012, 102], [101, 2023, 2622, 2003, 6133, 3085, 1012, 102], [101, 2009, 13836, 2006, 4465, 1012, 102], [101, 1045, 2387, 2198, 2006, 4465, 1012, 102], [101, 1045, 2404, 1996, 2338, 2006, 1996, 4624, 2006, 4465, 1012, 102], [101, 1045, 2387, 2198, 2007, 1037, 12772, 1012, 102], [101, 2009, 13836, 2007, 1037, 12772, 1012, 102], [101, 1045, 3139, 1996, 7852, 2007, 12136, 1012, 102], [101, 1045, 21764, 2009, 2007, 12136, 1012, 102], [101, 2984, 2097, 3143, 2014, 11360, 2306, 2019, 3178, 1012, 102], [101, 2984, 2097, 3143, 2014, 11360, 2005, 2019, 3178, 1012, 102], [101, 1996, 21857, 2099, 2097, 3362, 1996, 2327, 1997, 1996, 3137, 2306, 2019, 3178, 1012, 102], [101, 1996, 21857, 2099, 2097, 3362, 1996, 2327, 1997, 1996, 3137, 2005, 2019, 3178, 1012, 102], [101, 8863, 2097, 6773, 1996, 2723, 2005, 2019, 3178, 1012, 102], [101, 1045, 2097, 3191, 15397, 2005, 2019, 3178, 1012, 102], [101, 1996, 3076, 2187, 1012, 102], [101, 2069, 1996, 3076, 2187, 1012, 102], [101, 2130, 1996, 3076, 2187, 1012, 102], [101, 2035, 1996, 2493, 2187, 1012, 102], [101, 1045, 2387, 1996, 3076, 1012, 102], [101, 1045, 2387, 2069, 1996, 3076, 1012, 102], [101, 1045, 2387, 2035, 1996, 2493, 1012, 102], [101, 2198, 1010, 2040, 1045, 2387, 7483, 1010, 2097, 3942, 2149, 1012, 102], [101, 1045, 2387, 1996, 8235, 3076, 1012, 102], [101, 1045, 2387, 1996, 8235, 2028, 1012, 102], [101, 1045, 2387, 1996, 8235, 3076, 2007, 2146, 2606, 1012, 102], [101, 1045, 2387, 1996, 8235, 2028, 2007, 2146, 2606, 1012, 102], [101, 1045, 2387, 1996, 2028, 2007, 2146, 2606, 1012, 102], [101, 1045, 2387, 1996, 5584, 3076, 1012, 102], [101, 1045, 2387, 1996, 5584, 2028, 1012, 102], [101, 1045, 2387, 1996, 3076, 1997, 5584, 1012, 102], [101, 1045, 2387, 1996, 2028, 1997, 5584, 1012, 102], [101, 1045, 2387, 1996, 3076, 1997, 5584, 2007, 2146, 2606, 1012, 102], [101, 1996, 2502, 3076, 1997, 5584, 2007, 2146, 2606, 1999, 1996, 3075, 1012, 102], [101, 2009, 2003, 2502, 1012, 102], [101, 2009, 2003, 2007, 2146, 2606, 1012, 102], [101, 2009, 2003, 1997, 5584, 1012, 102], [101, 2009, 2003, 1999, 1996, 3075, 1012, 102], [101, 2027, 2024, 6387, 1012, 102], [101, 2027, 2024, 6387, 1997, 3021, 1012, 102], [101, 2027, 15767, 1012, 102], [101, 2027, 2024, 2569, 1012, 102], [101, 2027, 2024, 2569, 1997, 3021, 1012, 102], [101, 2027, 7772, 1012, 102], [101, 2016, 2003, 7098, 1012, 102], [101, 2016, 2003, 1996, 2388, 1012, 102], [101, 2016, 2003, 1996, 2388, 1997, 2198, 1012, 102], [101, 2027, 3191, 1996, 3259, 1012, 102], [101, 1996, 3259, 2003, 3191, 3085, 1012, 102], [101, 2009, 2003, 3191, 3085, 1997, 1996, 3259, 1012, 102], [101, 2027, 2024, 3191, 3085, 1997, 1996, 3259, 1012, 102], [101, 1996, 4062, 1997, 1996, 2482, 6732, 2008, 2984, 2323, 2681, 5759, 2005, 23193, 4826, 1012, 102], [101, 2014, 2210, 2905, 2097, 21090, 2007, 2014, 1012, 102], [101, 1996, 2611, 2002, 2777, 2012, 1996, 28912, 2283, 2097, 2200, 7543, 2655, 2032, 1012, 102], [101, 13570, 2015, 3857, 17278, 1012, 102], [101, 2198, 2097, 2156, 2017, 1012, 102], [101, 2198, 6732, 2008, 2984, 2187, 1012, 102], [101, 2198, 6732, 2984, 2187, 1012, 102], [101, 2198, 3990, 2008, 2984, 2187, 1012, 102], [101, 2198, 2097, 5362, 2817, 2845, 1012, 102], [101, 2198, 5362, 2913, 2845, 1012, 102], [101, 2198, 2913, 5362, 2845, 1012, 102], [101, 1045, 4687, 2065, 2016, 2097, 2224, 23262, 1012, 102], [101, 2748, 1010, 2016, 2097, 1012, 102], [101, 2748, 1010, 2016, 1012, 102], [101, 2748, 1010, 2016, 2097, 2224, 1012, 102], [101, 1045, 4687, 2065, 2016, 2109, 23262, 1012, 102], [101, 2748, 1010, 2016, 2106, 1012, 102], [101, 2748, 1010, 2016, 2109, 1012, 102], [101, 2198, 2097, 2031, 2042, 5983, 9850, 1012, 102], [101, 2984, 2180, 1005, 1056, 2031, 2042, 5983, 9850, 1010, 2021, 2198, 1012, 102], [101, 2984, 2180, 1005, 1056, 2031, 2042, 5983, 9850, 1010, 2021, 2198, 2097, 1012, 102], [101, 2984, 2180, 1005, 1056, 2031, 2042, 5983, 9850, 1010, 2021, 2198, 2097, 2031, 1012, 102], [101, 2984, 2180, 1005, 1056, 2031, 2042, 5983, 9850, 1010, 2021, 2198, 2097, 2031, 2042, 1012, 102], [101, 2198, 2097, 24935, 2031, 2042, 5983, 9850, 1012, 102], [101, 2198, 2097, 2031, 24935, 2042, 5983, 9850, 1012, 102], [101, 2198, 2097, 2031, 2042, 5983, 24935, 9850, 1012, 102], [101, 2198, 2097, 2031, 2042, 5983, 9850, 24935, 1012, 102], [101, 2198, 3273, 5362, 2845, 1012, 102], [101, 2198, 2038, 5362, 3273, 2845, 1012, 102], [101, 2198, 2018, 5362, 3273, 2845, 1012, 102], [101, 2198, 2003, 5362, 5702, 2845, 1012, 102], [101, 2198, 2001, 5362, 5702, 2845, 1012, 102], [101, 2198, 3632, 2000, 2082, 1012, 102], [101, 3632, 2198, 2000, 2082, 1029, 102], [101, 2984, 6732, 2008, 3021, 2097, 2272, 1012, 102], [101, 2984, 6732, 3251, 3021, 2097, 2272, 1012, 102], [101, 2984, 6732, 2005, 3021, 2000, 2272, 1012, 102], [101, 2984, 16278, 3251, 3021, 2097, 2272, 1012, 102], [101, 2984, 16278, 2005, 3021, 2000, 2272, 1012, 102], [101, 2984, 19233, 2008, 3021, 2097, 2272, 1012, 102], [101, 2984, 19233, 3251, 3021, 2097, 2272, 1012, 102], [101, 2984, 19233, 2005, 3021, 2000, 2272, 1012, 102], [101, 1045, 4687, 2038, 2984, 2499, 2005, 7513, 1012, 102], [101, 1045, 4687, 3251, 2984, 2038, 2499, 2005, 7513, 1012, 102], [101, 1045, 4687, 3251, 2038, 2984, 2499, 2005, 7513, 1012, 102], [101, 1045, 4687, 2038, 3251, 2984, 2499, 2005, 7513, 1012, 102], [101, 2097, 2198, 2025, 2175, 2000, 2082, 1029, 102], [101, 2038, 8863, 2025, 3273, 2005, 2010, 11360, 1029, 102], [101, 2106, 9790, 2025, 3413, 2014, 11360, 1029, 102], [101, 2180, 1005, 1056, 2198, 2175, 2000, 2082, 1029, 102], [101, 5807, 1005, 1056, 2984, 5510, 1996, 11350, 1029, 102], [101, 8440, 1005, 1056, 8863, 3273, 2005, 2010, 11360, 1029, 102], [101, 3475, 1005, 1056, 3021, 5305, 1029, 102], [101, 2134, 1005, 1056, 9790, 3413, 2014, 11360, 1029, 102], [101, 2097, 2025, 2198, 2175, 2000, 2082, 1029, 102], [101, 2323, 2025, 2984, 5510, 1996, 11350, 1029, 102], [101, 2038, 2025, 8863, 3273, 2005, 2010, 11360, 1029, 102], [101, 2003, 2025, 3021, 5305, 1029, 102], [101, 2106, 2025, 9790, 3413, 2014, 11360, 1029, 102], [101, 9790, 2404, 1012, 102], [101, 8863, 3369, 3021, 1012, 102], [101, 2984, 16278, 2008, 2198, 2056, 2065, 3021, 2187, 1012, 102], [101, 8863, 2409, 9790, 1999, 1996, 13065, 2008, 3021, 2404, 14829, 1012, 102], [101, 2016, 2097, 2663, 1996, 2679, 1012, 102], [101, 2014, 2097, 1996, 2679, 1012, 102], [101, 21464, 2736, 1996, 9850, 1998, 2198, 2106, 2205, 1010, 3926, 1996, 9850, 1012, 102], [101, 2057, 2342, 2000, 3073, 2048, 3628, 1998, 1012, 102], [101, 2057, 2036, 2342, 2000, 4863, 1996, 7189, 2090, 2122, 3628, 1012, 102], [101, 2198, 2025, 4669, 2984, 1012, 102], [101, 2198, 4669, 2025, 2984, 1012, 102], [101, 2198, 2106, 2025, 2066, 2984, 1012, 102], [101, 2198, 2097, 2203, 5668, 2063, 1996, 5036, 1010, 2021, 10870, 2097, 2025, 2203, 5668, 2063, 1996, 5036, 1012, 102], [101, 2097, 2577, 5262, 2025, 2203, 5668, 2063, 1996, 5036, 1029, 102], [101, 2002, 2097, 5262, 2025, 2203, 5668, 2063, 1996, 5036, 1012, 102], [101, 2002, 2097, 5262, 2203, 5668, 2063, 1996, 5036, 1012, 102], [101, 2002, 2097, 2025, 2203, 5668, 2063, 1996, 5036, 1025, 1998, 5262, 1012, 102], [101, 2198, 6732, 2008, 3021, 2187, 1012, 102], [101, 2198, 2356, 3251, 3021, 2187, 1012, 102], [101, 2198, 2001, 6603, 3251, 2000, 2681, 2030, 2025, 1012, 102], [101, 2198, 2001, 6603, 3251, 2000, 2681, 1012, 102], [101, 1045, 3191, 2122, 2502, 2093, 2808, 1012, 102], [101, 2984, 2741, 1012, 102], [101, 2984, 2741, 1037, 2338, 2000, 3021, 1012, 102], [101, 2984, 4604, 1037, 2338, 1012, 102], [101, 2984, 2741, 3021, 1037, 2338, 1010, 1529, 1012, 102], [101, 3021, 8920, 1037, 2338, 1012, 102], [101, 23997, 8920, 1037, 2338, 1012, 102], [101, 2057, 2404, 1012, 102], [101, 2057, 2404, 1037, 2338, 2006, 1996, 2795, 1012, 102], [101, 2057, 2228, 2008, 3021, 2187, 1012, 102], [101, 2057, 2228, 2005, 3021, 2187, 1012, 102], [101, 2057, 2228, 2065, 3021, 2187, 1012, 102], [101, 2057, 4687, 3251, 3021, 2187, 1012, 102], [101, 2057, 4687, 2065, 3021, 2187, 1012, 102], [101, 2057, 4687, 2008, 3021, 2187, 1012, 102], [101, 2198, 2234, 1999, 1012, 102], [101, 2059, 1010, 2198, 2187, 1012, 102], [101, 2002, 2165, 2010, 12977, 1012, 102], [101, 2002, 3480, 2370, 2007, 2009, 2043, 2002, 2699, 2000, 2330, 2009, 1012, 102], [101, 1996, 10041, 2064, 1005, 1056, 2130, 2330, 2019, 12977, 999, 102], [101, 2198, 3480, 2198, 2007, 2198, 1005, 1055, 12977, 2043, 2198, 2699, 2000, 2330, 2009, 1012, 102], [101, 2198, 2064, 1005, 1056, 2130, 2330, 2019, 12977, 999, 102], [101, 2198, 2056, 2002, 2001, 5305, 1012, 102], [101, 1996, 11937, 2040, 21976, 2032, 2758, 2008, 2198, 2106, 2428, 2092, 1012, 102], [101, 2370, 2323, 5630, 2574, 1012, 102], [101, 2984, 2626, 1037, 3661, 2000, 2370, 2197, 2095, 1012, 102], [101, 2002, 2323, 5630, 2574, 1012, 102], [101, 2984, 2626, 1037, 3661, 2000, 2032, 2197, 2095, 1012, 102], [101, 2256, 10442, 1998, 1996, 11429, 1005, 1055, 4937, 2066, 2169, 2060, 1012, 102], [101, 1996, 3337, 4061, 2007, 2169, 2060, 1012, 102], [101, 2169, 1997, 2256, 10442, 1998, 1996, 11429, 1005, 1055, 4937, 7777, 1996, 2060, 1012, 102], [101, 2169, 1997, 1996, 3337, 4061, 2007, 1996, 2060, 3337, 1012, 102], [101, 1996, 2879, 7777, 2370, 1012, 102], [101, 1996, 2879, 7777, 2841, 1012, 102], [101, 1996, 2879, 7777, 3209, 1012, 102], [101, 1996, 3057, 7777, 3209, 1012, 102], [101, 1996, 3057, 7777, 2841, 1012, 102], [101, 2169, 1997, 1996, 3057, 7777, 2841, 1012, 102], [101, 1996, 3057, 7777, 25035, 1012, 102], [101, 2370, 7777, 2198, 1012, 102], [101, 2984, 1005, 1055, 4620, 1997, 2841, 4527, 3021, 1012, 102], [101, 1045, 4384, 2198, 1005, 1055, 11664, 12284, 1997, 2370, 1012, 102], [101, 2984, 4384, 2198, 1005, 1055, 11664, 12284, 1997, 2370, 1012, 102], [101, 2984, 4384, 2198, 1005, 1055, 11664, 12284, 1997, 2841, 1012, 102], [101, 2984, 4384, 2008, 2198, 11664, 2135, 9120, 2015, 2841, 1012, 102], [101, 2198, 3866, 1996, 2047, 4620, 1997, 2370, 1012, 102], [101, 1045, 3662, 2984, 2195, 9668, 1997, 2841, 1012, 102], [101, 2198, 7164, 2008, 2984, 2387, 2370, 1012, 102], [101, 2984, 4384, 2008, 2198, 11664, 2135, 9120, 2015, 2370, 1012, 102], [101, 2984, 9120, 2015, 2069, 2198, 1998, 2841, 1012, 102], [101, 2984, 9120, 2015, 2198, 1998, 2370, 1012, 102], [101, 2984, 2428, 9120, 2015, 1998, 7887, 27128, 2841, 1998, 9790, 4282, 2009, 1012, 102], [101, 2984, 2428, 9120, 2015, 1998, 7887, 27128, 2370, 1998, 3021, 4282, 2009, 1012, 102], [101, 2198, 2657, 2037, 6256, 1997, 2169, 2060, 1012, 102], [101, 2198, 2657, 2037, 6256, 1997, 3209, 1012, 102], [101, 2027, 2657, 2198, 1005, 1055, 6256, 1997, 2169, 2060, 1012, 102], [101, 2027, 2657, 2198, 1005, 1055, 6256, 1997, 3209, 1012, 102], [101, 2198, 2657, 2008, 2027, 6367, 2169, 2060, 1012, 102], [101, 2027, 2657, 2008, 2198, 6367, 2169, 2060, 1012, 102], [101, 2198, 7777, 2370, 1012, 102], [101, 1996, 2493, 2024, 7098, 1997, 3209, 1012, 102], [101, 3071, 7777, 2370, 1012, 102], [101, 2053, 8645, 12056, 2370, 1012, 102], [101, 1045, 2657, 2198, 1005, 1055, 6256, 1997, 2370, 1012, 102], [101, 1045, 2657, 2198, 1005, 1055, 6256, 1997, 2870, 1012, 102], [101, 2198, 2657, 2008, 1045, 6367, 2870, 1012, 102], [101, 1045, 2657, 2008, 2198, 6367, 2870, 1012, 102], [101, 2984, 7777, 2841, 1012, 102], [101, 2256, 10442, 1998, 1996, 11429, 1005, 1055, 4937, 2066, 2068, 1012, 102], [101, 3021, 7777, 2841, 1012, 102], [101, 2370, 11680, 1012, 102], [101, 1996, 3057, 7777, 2068, 1012, 102], [101, 2198, 1005, 1055, 2388, 7777, 2032, 1012, 102], [101, 2198, 7164, 2008, 3021, 2387, 2370, 1012, 102], [101, 2198, 7164, 2008, 3021, 2387, 2032, 1012, 102], [101, 2984, 7164, 2008, 3021, 2387, 2841, 1012, 102], [101, 2027, 2066, 2037, 2808, 1012, 102], [101, 3071, 6732, 2002, 2003, 6047, 1012, 102], [101, 2040, 1999, 2023, 2465, 6732, 2002, 2003, 6047, 1029, 102], [101, 3021, 1005, 1055, 2388, 2387, 2032, 1012, 102], [101, 2053, 2028, 1005, 1055, 2388, 2387, 2370, 1012, 102], [101, 1996, 3664, 1997, 2198, 1005, 1055, 9627, 2626, 2000, 2032, 1012, 102], [101, 1996, 12508, 1997, 2010, 2160, 4716, 2848, 1012, 102], [101, 2008, 2003, 1037, 4743, 1012, 102], [101, 2008, 1005, 1055, 1996, 3606, 1012, 102], [101, 2002, 2003, 2198, 1012, 102], [101, 3960, 7758, 2003, 2728, 27946, 1012, 102], [101, 1045, 2066, 2984, 1998, 2016, 7777, 2033, 1012, 102], [101, 1045, 2066, 2984, 1998, 2016, 2515, 2205, 1012, 102], [101, 1045, 2066, 2984, 1998, 2016, 2515, 2066, 2984, 2205, 1012, 102], [101, 2016, 10592, 2198, 7098, 1997, 2010, 2147, 1012, 102], [101, 2027, 2387, 3021, 2681, 1012, 102], [101, 2984, 19233, 2008, 2014, 3256, 6949, 2003, 1999, 1037, 13171, 1012, 102], [101, 2888, 2387, 2008, 3021, 2187, 1012, 102], [101, 2054, 2984, 19233, 2003, 2014, 3256, 6949, 1999, 1037, 13171, 1012, 102], [101, 2054, 2016, 10592, 2003, 2198, 7098, 1997, 2010, 2147, 1012, 102], [101, 2054, 2888, 2179, 2003, 3021, 6517, 1012, 102], [101, 2054, 2027, 2387, 2003, 3021, 2681, 1012, 102], [101, 2054, 2888, 2424, 2001, 3021, 6517, 1012, 102], [101, 2198, 2657, 2984, 6235, 2370, 1012, 102], [101, 2198, 2657, 2984, 6235, 2841, 1012, 102], [101, 2984, 10592, 2198, 7098, 1997, 2841, 1012, 102], [101, 2984, 10592, 2198, 7098, 1997, 2014, 1012, 102], [101, 2984, 10592, 2198, 7098, 1997, 2370, 1012, 102], [101, 2198, 7164, 2370, 2000, 2022, 7098, 1997, 2984, 1012, 102], [101, 1996, 4620, 1997, 3021, 2016, 2404, 2006, 2115, 4624, 1012, 102], [101, 2029, 4620, 1997, 3021, 2106, 2016, 2404, 2006, 2115, 4624, 1012, 102], [101, 6294, 2359, 2000, 3637, 1012, 102], [101, 2016, 2404, 1996, 4620, 1997, 3021, 2006, 2115, 4624, 1012, 102], [101, 1996, 4620, 1997, 3021, 1010, 2016, 2404, 2006, 2115, 4624, 1012, 102], [101, 1996, 3861, 1997, 3021, 2016, 7771, 1012, 102], [101, 2016, 7771, 1996, 3861, 1997, 3021, 1012, 102], [101, 2017, 2404, 2029, 3861, 1997, 3021, 2006, 2010, 4624, 1029, 102], [101, 2029, 3861, 1997, 3021, 2106, 2017, 2404, 2006, 2010, 4624, 1029, 102], [101, 2129, 2116, 7817, 2106, 2017, 2360, 2016, 2018, 2000, 4139, 1999, 2344, 2000, 2079, 2008, 1029, 102], [101, 2129, 2172, 2729, 2079, 2017, 2228, 2002, 2052, 2022, 2635, 1997, 2010, 5022, 2104, 2216, 6214, 1029, 102], [101, 2129, 2172, 2132, 4576, 2003, 2002, 3497, 2000, 2191, 1012, 102], [101, 2040, 2187, 3021, 1012, 102], [101, 3183, 2187, 3021, 1012, 102], [101, 2040, 2106, 3021, 2681, 1012, 102], [101, 3183, 2106, 3021, 2681, 1012, 102], [101, 2003, 2045, 2505, 2000, 2079, 2651, 1029, 102], [101, 2045, 2024, 2048, 2364, 3494, 1999, 1996, 3117, 1012, 102], [101, 2045, 2024, 1017, 2543, 3549, 2800, 1012, 102], [101, 2045, 13263, 2019, 4111, 1012, 102], [101, 2045, 2743, 2116, 2111, 1012, 102], [101, 2984, 13224, 2045, 1012, 102], [101, 1045, 2018, 1037, 12393, 1997, 2045, 1012, 102], [101, 2045, 2020, 2698, 2111, 1012, 102], [101, 2045, 2020, 2195, 7435, 2800, 1012, 102], [101, 13898, 2001, 5983, 2070, 26852, 1010, 2347, 1005, 1056, 2002, 1029, 102], [101, 2045, 2003, 1037, 2158, 3201, 2000, 5376, 2013, 1996, 4412, 1010, 3475, 1005, 1056, 2045, 1029, 102], [101, 12004, 4025, 2000, 9880, 3254, 1999, 1996, 19817, 7361, 6558, 1012, 102], [101, 1996, 4937, 3849, 2000, 2022, 2041, 1997, 1996, 4524, 1012, 102], [101, 1996, 4485, 3849, 2000, 2031, 2718, 1996, 5470, 1012, 102], [101, 2045, 2448, 2116, 2111, 1012, 102], [101, 2045, 3849, 2000, 2022, 1037, 6821, 2800, 1012, 102], [101, 2045, 3849, 2000, 17079, 2019, 4111, 1012, 102], [101, 2045, 3849, 2000, 2448, 2116, 2111, 2000, 1996, 2276, 1012, 102], [101, 2009, 3849, 2008, 2198, 2187, 1012, 102], [101, 2195, 2111, 4025, 5305, 1012, 102], [101, 2198, 10592, 2195, 2111, 5305, 1012, 102], [101, 2045, 2024, 2195, 2111, 5305, 1012, 102], [101, 2195, 2111, 4025, 2195, 2111, 5305, 1012, 102], [101, 2195, 2111, 2024, 5305, 1012, 102], [101, 3021, 2003, 5305, 1012, 102], [101, 6294, 8069, 2000, 3637, 1012, 102], [101, 6294, 8069, 2008, 2016, 2097, 3637, 1012, 102], [101, 6294, 8069, 6294, 2000, 3637, 1012, 102], [101, 3071, 8069, 2032, 2000, 3637, 1012, 102], [101, 3071, 8069, 2000, 3637, 1012, 102], [101, 3071, 8069, 2008, 3071, 2097, 3637, 1012, 102], [101, 6294, 8069, 2014, 2000, 3637, 1012, 102], [101, 2069, 10888, 4622, 3228, 1996, 2668, 1010, 7518, 1998, 4000, 4613, 1012, 102], [101, 2069, 10888, 4622, 2010, 3228, 1996, 2668, 1010, 7518, 1998, 4000, 4613, 1012, 102], [101, 2069, 10888, 4622, 2370, 3228, 1996, 2668, 1010, 7518, 1998, 1012, 102], [101, 6294, 8069, 2841, 2000, 3637, 1012, 102], [101, 2005, 2198, 2000, 3480, 2010, 2814, 2003, 5236, 1012, 102], [101, 2000, 3480, 2010, 2814, 2003, 5236, 1012, 102], [101, 2005, 2198, 2000, 3480, 2370, 2003, 5236, 1012, 102], [101, 2000, 3480, 25763, 2003, 5236, 1012, 102], [101, 2005, 2198, 2000, 3480, 25763, 2003, 5236, 1012, 102], [101, 2198, 5763, 3021, 2000, 2681, 1012, 102], [101, 2198, 5763, 2984, 2008, 2002, 2052, 2681, 1012, 102], [101, 2198, 5763, 2984, 2000, 3013, 1996, 5568, 1012, 102], [101, 2198, 4872, 2984, 2000, 2491, 2370, 1012, 102], [101, 2198, 5763, 2984, 2000, 2491, 2841, 1012, 102], [101, 2198, 5763, 2984, 2000, 27545, 2841, 1012, 102], [101, 2198, 3849, 2000, 3637, 2035, 2154, 1012, 102], [101, 2198, 8069, 2000, 3637, 1012, 102], [101, 2198, 2699, 2000, 3637, 1012, 102], [101, 2198, 7164, 2000, 2031, 7771, 1012, 102], [101, 2198, 7164, 3021, 2000, 2031, 7771, 1012, 102], [101, 2198, 7164, 2005, 3021, 2000, 2031, 7771, 1012, 102], [101, 2198, 7164, 2008, 3021, 2038, 7771, 1012, 102], [101, 2198, 7164, 3021, 2008, 2984, 2038, 7771, 1012, 102], [101, 2198, 6427, 2000, 3637, 1012, 102], [101, 2198, 6427, 3021, 2000, 3637, 1012, 102], [101, 2198, 6427, 3021, 2005, 2984, 2000, 3637, 1012, 102], [101, 2198, 6427, 2008, 3021, 2038, 7771, 1012, 102], [101, 2009, 6427, 3021, 2008, 2984, 2323, 3637, 1012, 102], [101, 2198, 7164, 2009, 2000, 2022, 5793, 2008, 3021, 2187, 1012, 102], [101, 2198, 7164, 2009, 2000, 2022, 24057, 1012, 102], [101, 2198, 6427, 2009, 2000, 2022, 5793, 2008, 3021, 2187, 1012, 102], [101, 2198, 6427, 2009, 2000, 2022, 24057, 1012, 102], [101, 2198, 6427, 2045, 2000, 2022, 2195, 2543, 3549, 2800, 1012, 102], [101, 3021, 12984, 1996, 5785, 1012, 102], [101, 1996, 5785, 2001, 12984, 2011, 3021, 1012, 102], [101, 3021, 4716, 2984, 1012, 102], [101, 2984, 2001, 4716, 2011, 3021, 1012, 102], [101, 2198, 7164, 3021, 2000, 2031, 12984, 1996, 5785, 1012, 102], [101, 2198, 7164, 1996, 5785, 2000, 2031, 2042, 12984, 2011, 3021, 1012, 102], [101, 2198, 7164, 3021, 2000, 2031, 4716, 2984, 1012, 102], [101, 2198, 7164, 2984, 2000, 2031, 2042, 4716, 2011, 3021, 1012, 102], [101, 2198, 6427, 3021, 2000, 5660, 1996, 5785, 1012, 102], [101, 2198, 6427, 1996, 5785, 2000, 2022, 12984, 2011, 3021, 1012, 102], [101, 2198, 6427, 3021, 2000, 3942, 2984, 1012, 102], [101, 2198, 7164, 2008, 3021, 7771, 1012, 102], [101, 1045, 2741, 2769, 1012, 102], [101, 1045, 2741, 2984, 2769, 1012, 102], [101, 1045, 2741, 2769, 2000, 2984, 1012, 102], [101, 1045, 2741, 3021, 2769, 2000, 2984, 2000, 3520, 1012, 102], [101, 1045, 2499, 2006, 4465, 1999, 1996, 2103, 2006, 2008, 2622, 2302, 1037, 3338, 1012, 102], [101, 1045, 5868, 2984, 1012, 102], [101, 1045, 5868, 1012, 102], [101, 1996, 4231, 8652, 2015, 1999, 1996, 4768, 1012, 102], [101, 1996, 4231, 8652, 2015, 1012, 102], [101, 1045, 6369, 1037, 2299, 2007, 2984, 2096, 2017, 2106, 2061, 2007, 3021, 1012, 102], [101, 2054, 2984, 2106, 2007, 3021, 2001, 6170, 1037, 2299, 1012, 102], [101, 2016, 2699, 2000, 2681, 102], [101, 2040, 2056, 2002, 2052, 2507, 1996, 11965, 2000, 3389, 1029, 102], [101, 13097, 26393, 2232, 2987, 1005, 1056, 2022, 1999, 1996, 16633, 102], [101, 2029, 2338, 2055, 2841, 2106, 8437, 2360, 2008, 25435, 2018, 2517, 1012, 102], [101, 2703, 2018, 12021, 2809, 4551, 8442, 2093, 2454, 5659, 1011, 2176, 4595, 3157, 3634, 2012, 102], [101, 2054, 1045, 2056, 2008, 2001, 2057, 2052, 2175, 1012, 102], [101, 1996, 2879, 2245, 2016, 2001, 3407, 1012, 102], [101, 1996, 18196, 6955, 1037, 7739, 102], [101, 2087, 8626, 2031, 2042, 11265, 19901, 2098, 1012, 102], [101, 2040, 2106, 2017, 3113, 2035, 2043, 2017, 2020, 1999, 17455, 1029, 102], [101, 4463, 11766, 19960, 5243, 2000, 5532, 2014, 2155, 1012, 102], [101, 2745, 4704, 2019, 2214, 2767, 2012, 9388, 4305, 24665, 3022, 102], [101, 2017, 2814, 1997, 1996, 2332, 2024, 2035, 1996, 2168, 102], [101, 2002, 2003, 2008, 2785, 1997, 3364, 102], [101, 7004, 1005, 1055, 12791, 1005, 1055, 15882, 102], [101, 19960, 5243, 11121, 2000, 3711, 2000, 2022, 4763, 1012, 102], [101, 2002, 1005, 1055, 5391, 2000, 2071, 2079, 2009, 102], [101, 7150, 2363, 1996, 11965, 2013, 6425, 102], [101, 2008, 1996, 2088, 2003, 2461, 2003, 5793, 1012, 102], [101, 13382, 28201, 24966, 1010, 2044, 1996, 7781, 2121, 2187, 1012, 102], [101, 1045, 2356, 2040, 2106, 19960, 5243, 9947, 1012, 102], [101, 1045, 2196, 4669, 2010, 4106, 1012, 102], [101, 2848, 2003, 2070, 3407, 14695, 2029, 2064, 4875, 1012, 102], [101, 13097, 26393, 2232, 2025, 2187, 1012, 102], [101, 2045, 3369, 2011, 19960, 5243, 1012, 102], [101, 1045, 2453, 2031, 8828, 2070, 2712, 18041, 1012, 102], [101, 2045, 3544, 2000, 2022, 1037, 3291, 2007, 2023, 5576, 1012, 102], [101, 2054, 7628, 2150, 2001, 13545, 1997, 6746, 1012, 102], [101, 3021, 2106, 2025, 4154, 1996, 5932, 2021, 13097, 26393, 2232, 2106, 1012, 102], [101, 9706, 8093, 7716, 4221, 2489, 2015, 4176, 102], [101, 1996, 2902, 2001, 6955, 1996, 2338, 2000, 1012, 102], [101, 19960, 5243, 1010, 4463, 17672, 1012, 102], [101, 2027, 6476, 2370, 102], [101, 6253, 3662, 6425, 2370, 1999, 1996, 5259, 1012, 102], [101, 4463, 2001, 2730, 2011, 19960, 5243, 1012, 102], [101, 2129, 2106, 2017, 4521, 1996, 9850, 1029, 102], [101, 1045, 2356, 2040, 19960, 5243, 17672, 1012, 102], [101, 9706, 8093, 7716, 4221, 2359, 2000, 2444, 1998, 2003, 22893, 2099, 2699, 2000, 102], [101, 1045, 2001, 3564, 2025, 2104, 1996, 3392, 2021, 2104, 1996, 5747, 102], [101, 1996, 2775, 23701, 4877, 102], [101, 13097, 26393, 2232, 8440, 1005, 1056, 2187, 102], [101, 13803, 2079, 1045, 4392, 1012, 102], [101, 18500, 2245, 2008, 2002, 2001, 1996, 3159, 1997, 4768, 1012, 102], [101, 2002, 2246, 2039, 1996, 2193, 1012, 102], [101, 2016, 2038, 4782, 2014, 1012, 102], [101, 12943, 14074, 2213, 8540, 3030, 4463, 9179, 1996, 6297, 102], [101, 4286, 2293, 2000, 4521, 2070, 4487, 28745, 15532, 14782, 2214, 14695, 1999, 2216, 14033, 2229, 1012, 102], [101, 4463, 3990, 2008, 1996, 6708, 2018, 6376, 102], [101, 6902, 5791, 2038, 4149, 1037, 3899, 1012, 102], [101, 2002, 2338, 102], [101, 2040, 2003, 2009, 5793, 2008, 18858, 7459, 1012, 102], [101, 2029, 2643, 1996, 6231, 1029, 102], [101, 3610, 14695, 2003, 2026, 5292, 9397, 10458, 3638, 102], [101, 9649, 5496, 102], [101, 2008, 3861, 1997, 8437, 1999, 1037, 8903, 4377, 2987, 1005, 1056, 4257, 3334, 2014, 1012, 102], [101, 2002, 2453, 2071, 2175, 102], [101, 6425, 2435, 3389, 1996, 11965, 1998, 7150, 1996, 15775, 13231, 1012, 102], [101, 2008, 10608, 2003, 8823, 1996, 15212, 102], [101, 1045, 4149, 1037, 2338, 2055, 4302, 102], [101, 1996, 2336, 23701, 4877, 102], [101, 2040, 2001, 2009, 5793, 2008, 18858, 3866, 1029, 102], [101, 2009, 2001, 2005, 8437, 2008, 1045, 3832, 2000, 2022, 2556, 1012, 102], [101, 1045, 2228, 2016, 2003, 6875, 102], [101, 2009, 1005, 1055, 5186, 27370, 2651, 1012, 102], [101, 2040, 2106, 2017, 2903, 2008, 2000, 3610, 2790, 3308, 1029, 102], [101, 4463, 2052, 9544, 19960, 5243, 2000, 2031, 10678, 12943, 14074, 2213, 8540, 1012, 102], [101, 1996, 19294, 1005, 1055, 4106, 1997, 7004, 1005, 1055, 102], [101, 2040, 2106, 21880, 8970, 2000, 3183, 1029, 102], [101, 2009, 3544, 2008, 13382, 28201, 8617, 1037, 5202, 102], [101, 1045, 2031, 2411, 8828, 14163, 15379, 2015, 1012, 102], [101, 13097, 26393, 2232, 2064, 6148, 2003, 22893, 2099, 102], [101, 2017, 6476, 4426, 102], [101, 12943, 14074, 2213, 8540, 3849, 2000, 2031, 2187, 1012, 102], [101, 1996, 8626, 2018, 2035, 8828, 1996, 14695, 1012, 102], [101, 25435, 2915, 1996, 15799, 2007, 2010, 5883, 1999, 1996, 8894, 102], [101, 22519, 2046, 7228, 1996, 5259, 1012, 102], [101, 1045, 2411, 2031, 8828, 14163, 15379, 2015, 1012, 102], [101, 2002, 6476, 2370, 102], [101, 13097, 26393, 2232, 2038, 2025, 3191, 1996, 12731, 2638, 22631, 17596, 1012, 102], [101, 2002, 2453, 2672, 2079, 2008, 1010, 2453, 2078, 1005, 1056, 2002, 1029, 102], [101, 1045, 3832, 2005, 8437, 2000, 2022, 2556, 1012, 102], [101, 2057, 3373, 2000, 2022, 18168, 3490, 11008, 4765, 1012, 102], [101, 3005, 5961, 2055, 23167, 2106, 11525, 13984, 4463, 2008, 2002, 2323, 3191, 1029, 102], [101, 4463, 2052, 9544, 2005, 19960, 5243, 2000, 2031, 10678, 12943, 14074, 2213, 8540, 1012, 102], [101, 1045, 2356, 2040, 19960, 5243, 2435, 2054, 1029, 102], [101, 1045, 2031, 2296, 3246, 2008, 2017, 2097, 4154, 2032, 1012, 102], [101, 3000, 2003, 2053, 2062, 102], [101, 2002, 2097, 2064, 2079, 2009, 102], [101, 2057, 3373, 2032, 2000, 2022, 1996, 16296, 102], [101, 2040, 4782, 2040, 1029, 102], [101, 2040, 2106, 2017, 2360, 2008, 2198, 2245, 2052, 2681, 2220, 1029, 102], [101, 2151, 2879, 2387, 2053, 2028, 1012, 102], [101, 2054, 1045, 5412, 2005, 8437, 2001, 2000, 2022, 2556, 1012, 102], [101, 2002, 6476, 2841, 102], [101, 15609, 2038, 7420, 12943, 14074, 2213, 8540, 2153, 1012, 102], [101, 13097, 26393, 2232, 2038, 2042, 3554, 1996, 5202, 1012, 102], [101, 7004, 1005, 1055, 9982, 1997, 4869, 102], [101, 2040, 2106, 4463, 2228, 19960, 5243, 2018, 17672, 1029, 102], [101, 13097, 26393, 2232, 2089, 2031, 2855, 3459, 1996, 6297, 102], [101, 2383, 3191, 1997, 8101, 8510, 2033, 102], [101, 19960, 5243, 2699, 2014, 2000, 2681, 1012, 102], [101, 1996, 26722, 17020, 2058, 102], [101, 2045, 3369, 1037, 2047, 3364, 1012, 102], [101, 1045, 8823, 5909, 102], [101, 1045, 5113, 2008, 2017, 2052, 4154, 2032, 1012, 102], [101, 2040, 3849, 2000, 2022, 3056, 2000, 2681, 2034, 1029, 102], [101, 2016, 4669, 9587, 3148, 1005, 1055, 2374, 1012, 102], [101, 2010, 21863, 7459, 25435, 1012, 102], [101, 1045, 8823, 1037, 24792, 1998, 22358, 2106, 2205, 1012, 102], [101, 2339, 2106, 2017, 4521, 1996, 9850, 1029, 102], [101, 2002, 2052, 2064, 2175, 102], [101, 3383, 13097, 26393, 2232, 2323, 2022, 2975, 102], [101, 1045, 2215, 2000, 2064, 2079, 2009, 102], [101, 4463, 3832, 2005, 2032, 2000, 4553, 3894, 1012, 102], [101, 1045, 2253, 2000, 1996, 4497, 2005, 2000, 2131, 7852, 1012, 102], [101, 1045, 2356, 2029, 2332, 10836, 2029, 2103, 1012, 102], [101, 2057, 2081, 1996, 4366, 2008, 2566, 3366, 2271, 2730, 1996, 2175, 18581, 2078, 1012, 102], [101, 18858, 7791, 2000, 1040, 2361, 18267, 10760, 5267, 1005, 2030, 3370, 2055, 5170, 1012, 102], [101, 1996, 2214, 2160, 7798, 1012, 102], [101, 1045, 3373, 2016, 2003, 6875, 102], [101, 2129, 2024, 2017, 3110, 1029, 102], [101, 9706, 8093, 7716, 4221, 22182, 13097, 26393, 2232, 1012, 102], [101, 25435, 2200, 11361, 5698, 3550, 2585, 1012, 102], [101, 2008, 18858, 3866, 2004, 3334, 4928, 2000, 2022, 2010, 25672, 2075, 1012, 102], [101, 8440, 1005, 1056, 1996, 26722, 2499, 1029, 102], [101, 3021, 1005, 1055, 3752, 8101, 8510, 2033, 102], [101, 2296, 4393, 7771, 1012, 102], [101, 1045, 2453, 2022, 2975, 2574, 1012, 102], [101, 2009, 1005, 1055, 3369, 2034, 2008, 7628, 1998, 8437, 102], [101, 1996, 2158, 1045, 2387, 2187, 1012, 102], [101, 2002, 3880, 2010, 3437, 1012, 102], [101, 2138, 2027, 6283, 2032, 1010, 1996, 2852, 21272, 2015, 3140, 4463, 2000, 2444, 1999, 1037, 25337, 102], [101, 2057, 6476, 9731, 102], [101, 2106, 19960, 5243, 9947, 4463, 1029, 102], [101, 9706, 8093, 7716, 4221, 10650, 4176, 102], [101, 1996, 2338, 2001, 6955, 2000, 1996, 2902, 1012, 102], [101, 19960, 5243, 17672, 2062, 2336, 2084, 4463, 2106, 1012, 102], [101, 7150, 3662, 6425, 2370, 1999, 1996, 5259, 1012, 102], [101, 2008, 18858, 3866, 2004, 3334, 6171, 2001, 5793, 1012, 102], [101, 2002, 6476, 2032, 102], [101, 4463, 3517, 1996, 3460, 2000, 7438, 19960, 5243, 102], [101, 1996, 19294, 1005, 1055, 4106, 1997, 7004, 102], [101, 2073, 2024, 2017, 2542, 1029, 102], [101, 2040, 3662, 2054, 2000, 2040, 1029, 102], [101, 19960, 5243, 2245, 2008, 1010, 2044, 1996, 7781, 2121, 2018, 2187, 1010, 13382, 28201, 2052, 2022, 7653, 1012, 102], [101, 1996, 11801, 1005, 1055, 5592, 1997, 1996, 5580, 2401, 4263, 2000, 2370, 1012, 102], [101, 2035, 1996, 8626, 2031, 2042, 19668, 1012, 102], [101, 13097, 26393, 2232, 2323, 3254, 2022, 16356, 2989, 1996, 2158, 7265, 3489, 1012, 102], [101, 1051, 5149, 11393, 2271, 3740, 2000, 2963, 1996, 20675, 1012, 102], [101, 3021, 3752, 8101, 1998, 19167, 4823, 24645, 2938, 2483, 14213, 2033, 102], [101, 1996, 5008, 1997, 1996, 9624, 2001, 2200, 5189, 1012, 102], [101, 1996, 13850, 2015, 7777, 2808, 1012, 102], [101, 2064, 2002, 2097, 2079, 2009, 1029, 102], [101, 1045, 3641, 2045, 2000, 2022, 2093, 2808, 2006, 1996, 3395, 1012, 102], [101, 15237, 11696, 3779, 102], [101, 2002, 2150, 13545, 1997, 27613, 1012, 102], [101, 1996, 19294, 20302, 23274, 2094, 7004, 102], [101, 18500, 2245, 2370, 2000, 2022, 1996, 3159, 1997, 4768, 1012, 102], [101, 2029, 5961, 2106, 2017, 2963, 2216, 25521, 2015, 1997, 2197, 2305, 1029, 102], [101, 21880, 3107, 19960, 5243, 2000, 4463, 102], [101, 2002, 1005, 2222, 2053, 2064, 2079, 2009, 1010, 2097, 2002, 1029, 102], [101, 25435, 2003, 11757, 3697, 2000, 3531, 1012, 102], [101, 2009, 2001, 3555, 2011, 3071, 2008, 1996, 9947, 2001, 8699, 5084, 102], [101, 1996, 15212, 2003, 2108, 8828, 2011, 2008, 10608, 1012, 102], [101, 1045, 2215, 2000, 3610, 14695, 102], [101, 6402, 4144, 2000, 2032, 999, 102], [101, 2010, 4106, 1997, 2014, 2001, 25077, 102], [101, 2106, 1996, 26722, 26077, 2058, 1029, 102], [101, 1045, 2134, 1005, 1056, 2156, 2032, 2412, 1012, 102], [101, 2016, 2056, 9587, 3148, 4669, 2374, 1012, 102], [101, 2057, 2035, 2245, 2032, 2000, 2022, 12511, 102], [101, 2029, 2338, 2024, 2017, 3752, 1029, 102], [101, 2008, 10608, 2003, 5983, 1996, 15212, 1012, 102], [101, 2008, 5835, 1997, 2300, 2453, 2031, 9630, 2330, 1012, 102], [101, 2040, 2106, 13097, 26393, 2232, 2903, 2000, 2031, 4782, 9706, 8093, 7716, 4221, 1029, 102], [101, 2703, 2018, 2093, 3821, 1012, 1012, 1012, 102], [101, 2485, 1996, 2341, 999, 102], [101, 1045, 2001, 5983, 2025, 1037, 18237, 2021, 2019, 6207, 102], [101, 2029, 5961, 2106, 2017, 2175, 2000, 2963, 1037, 25521, 1997, 2197, 2305, 1029, 102], [101, 2043, 2051, 2097, 2017, 2022, 2045, 1012, 102], [101, 1045, 2031, 2741, 1014, 4144, 2000, 4483, 9895, 1012, 102], [101, 2339, 2106, 2017, 3102, 26606, 1029, 102], [101, 9706, 8093, 7716, 4221, 2515, 2489, 4176, 102], [101, 13097, 26393, 2232, 2097, 6148, 2003, 22893, 2099, 102], [101, 1045, 5071, 2032, 2000, 2022, 7036, 102], [101, 1045, 2572, 2108, 12428, 102], [101, 2196, 2097, 1045, 2079, 20231, 2153, 1012, 102], [101, 1996, 2336, 23701, 2140, 102], [101, 2984, 3062, 1012, 102], [101, 1045, 24849, 2065, 2057, 2071, 2681, 2220, 1012, 102], [101, 6425, 2435, 1996, 11965, 1998, 2741, 1996, 2338, 2000, 3389, 102], [101, 2014, 2050, 2699, 2000, 3711, 2000, 2022, 3407, 1012, 102], [101, 1045, 5412, 2005, 2000, 2156, 2014, 1012, 102], [101, 3021, 1005, 1055, 3752, 8101, 1998, 19167, 1005, 1055, 4823, 24645, 2938, 2483, 14213, 2033, 102], [101, 2870, 20665, 2033, 1012, 102], [101, 2053, 3752, 8101, 8510, 2033, 102], [101, 1996, 3750, 1005, 1055, 2296, 4299, 2001, 3202, 3344, 2041, 1012, 102], [101, 8437, 2038, 8828, 1037, 9850, 1012, 102], [101, 9587, 3148, 2209, 2374, 2007, 2014, 102], [101, 1045, 2046, 7228, 5909, 102], [101, 1996, 8351, 5390, 102], [101, 2002, 2064, 1005, 1056, 4298, 2079, 2008, 1010, 2064, 2002, 102], [101, 2057, 3373, 2008, 9706, 8093, 7716, 4221, 2001, 18168, 3490, 11008, 4765, 1012, 102], [101, 2029, 2338, 2055, 22784, 2106, 2017, 2360, 2008, 2017, 2052, 3191, 1029, 102], [101, 1045, 2359, 2151, 9850, 1012, 102], [101, 13097, 26393, 2232, 2003, 2025, 3752, 1996, 12731, 2638, 22631, 17596, 1012, 102], [101, 4463, 11766, 19960, 5243, 2000, 3046, 2000, 2448, 2185, 1012, 102], [101, 2057, 3373, 9706, 8093, 7716, 4221, 2000, 2022, 18168, 3490, 11008, 4765, 102], [101, 2008, 5835, 1997, 2300, 2453, 2031, 1012, 102], [101, 1045, 2123, 1005, 1056, 3342, 2054, 2035, 1045, 2056, 1029, 102], [101, 9706, 8093, 7716, 4221, 2056, 2002, 10650, 1996, 4176, 1998, 10650, 1996, 4176, 2002, 102], [101, 2008, 9706, 8093, 7716, 4221, 2001, 2061, 20877, 2483, 10841, 3560, 2004, 24826, 25848, 1996, 2060, 5932, 1012, 102], [101, 13097, 26393, 2232, 2987, 1005, 1056, 8823, 1996, 6861, 102], [101, 1045, 3555, 2008, 2016, 2001, 6875, 102], [101, 9706, 8093, 7716, 4221, 2079, 10650, 4176, 1012, 102], [101, 2585, 2626, 2008, 2017, 2056, 2008, 25435, 2245, 2008, 7628, 2018, 8143, 2098, 102], [101, 13097, 26393, 2232, 3478, 2411, 7366, 102], [101, 2009, 28270, 102], [101, 13382, 28201, 2001, 6680, 1010, 2043, 1996, 7781, 2121, 3369, 1012, 102], [101, 2111, 2024, 1999, 1996, 3871, 102], [101, 25435, 2150, 3407, 102], [101, 2009, 2003, 7823, 2000, 6570, 20231, 1012, 102], [101, 2045, 1005, 1055, 2183, 2000, 2022, 1037, 2283, 1010, 3475, 1005, 1056, 2045, 1029, 102], [101, 1045, 2031, 2453, 2022, 3909, 12400, 1012, 102], [101, 2027, 2716, 1996, 6045, 2000, 1996, 3836, 102], [101, 2054, 19960, 5243, 4692, 2001, 2000, 9947, 2014, 2336, 1012, 102], [101, 6425, 2435, 1996, 11965, 1014, 1998, 2741, 1996, 2338, 2000, 3389, 102], [101, 1996, 2158, 26088, 102], [101, 3542, 2532, 2097, 2191, 24857, 1012, 102], [101, 9706, 8093, 7716, 4221, 2106, 2489, 4176, 102], [101, 13097, 26393, 2232, 2323, 6148, 2003, 22893, 2099, 102], [101, 2027, 12530, 2006, 2984, 1012, 102], [101, 1996, 13176, 3369, 2035, 1012, 102], [101, 2038, 2025, 1996, 26722, 2499, 102], [101, 12791, 1005, 1055, 9982, 1997, 16405, 5620, 3051, 1997, 7004, 1005, 1055, 102], [101, 2097, 2064, 2002, 2079, 2009, 1029, 102], [101, 4286, 2293, 2000, 4521, 1996, 2214, 14695, 1012, 102], [101, 2002, 2071, 2453, 2175, 102], [101, 2009, 1005, 1055, 2104, 1996, 2793, 2008, 1005, 1055, 1996, 2190, 2173, 2000, 5342, 102], [101, 2002, 2187, 1012, 102], [101, 2008, 3861, 1997, 2014, 3531, 2015, 8437, 1012, 102], [101, 7887, 3752, 8101, 8510, 2033, 102], [101, 2045, 2001, 1037, 5202, 1999, 1996, 5430, 1012, 102], [101, 2111, 2066, 2474, 4103, 1012, 102], [101, 2122, 3924, 2024, 2000, 2022, 20673, 11533, 2013, 5872, 1012, 102], [101, 6253, 3662, 2370, 2000, 6425, 1999, 1996, 5259, 1012, 102], [101, 1045, 2056, 2008, 2008, 4463, 2001, 9981, 11654, 19960, 5243, 102], [101, 2057, 6955, 1037, 28057, 2000, 1996, 2047, 2902, 102], [101, 2122, 6450, 1998, 6206, 11015, 1997, 14689, 18447, 5369, 2024, 2000, 2022, 20673, 11533, 2013, 5872, 1012, 102], [101, 1037, 4746, 2055, 7327, 29443, 8621, 2003, 2006, 1037, 2557, 1018, 3892, 1012, 102], [101, 7004, 1005, 1055, 4106, 2001, 1996, 2087, 3144, 102], [101, 1045, 2572, 2383, 8828, 2712, 18041, 1012, 102], [101, 19960, 5243, 2699, 2000, 9947, 2014, 2336, 1012, 102], [101, 25435, 5698, 3550, 2214, 102], [101, 2054, 1045, 2056, 2001, 2008, 2057, 2052, 2175, 1012, 102], [101, 2045, 2024, 2116, 3869, 1999, 1996, 2712, 1012, 102], [101, 4463, 2435, 1996, 17672, 4253, 2000, 2040, 1029, 102], [101, 2011, 2003, 8828, 10608, 15212, 2008, 1996, 2108, 102], [101, 6425, 2056, 2002, 2052, 2448, 2185, 1998, 2002, 2106, 1012, 102], [101, 2040, 2003, 8354, 2000, 27939, 1029, 102], [101, 2027, 2938, 2006, 2984, 1012, 102], [101, 7628, 6406, 4144, 2000, 2841, 1012, 102], [101, 2002, 2246, 2009, 2039, 102], [101, 2040, 1005, 1055, 2045, 1029, 102], [101, 2045, 2001, 2002, 1999, 1996, 3871, 1012, 102], [101, 2002, 2453, 2053, 2071, 2031, 2589, 2009, 102], [101, 13097, 26393, 2232, 2134, 1005, 1056, 8823, 1996, 6861, 102], [101, 1996, 8351, 12842, 102], [101, 2005, 9706, 8093, 7716, 4221, 2000, 3711, 2000, 2022, 3407, 2052, 2022, 5263, 1012, 102], [101, 2040, 2106, 18858, 4952, 2000, 1040, 2361, 18267, 10760, 5267, 1005, 2030, 3370, 2055, 1029, 102], [101, 2033, 2435, 2009, 2000, 2032, 1012, 102], [101, 2065, 2028, 2020, 2000, 8954, 21368, 20257, 2015, 2013, 12566, 1010, 2059, 2008, 2052, 2022, 4795, 1012, 102], [101, 3021, 2106, 2025, 6033, 1996, 2088, 1012, 102], [101, 2119, 1996, 8178, 2453, 2031, 2042, 2012, 1996, 2283, 1012, 102], [101, 2008, 18858, 3866, 2004, 3334, 2001, 5793, 1012, 102], [101, 1996, 14695, 20696, 102], [101, 2073, 2173, 2024, 2017, 2542, 1012, 102], [101, 2040, 2001, 2005, 19960, 5243, 2000, 9947, 9643, 1029, 102], [101, 7628, 5224, 2065, 1996, 3347, 2386, 2001, 17358, 1012, 102], [101, 1996, 4106, 1997, 7004, 2165, 2936, 2084, 2008, 1997, 12791, 1012, 102], [101, 7628, 2150, 1037, 13545, 1012, 102], [101, 1045, 6589, 2039, 1996, 3392, 1012, 102], [101, 1045, 24849, 2043, 2057, 2071, 2681, 1012, 102], [101, 2073, 12684, 1998, 2585, 13077, 2037, 2519, 2001, 1999, 1996, 3829, 102], [101, 2054, 19960, 5243, 4999, 2065, 2001, 1996, 26722, 2001, 3201, 102], [101, 2008, 9982, 1997, 4869, 1997, 7004, 1005, 1055, 102], [101, 1996, 5377, 3752, 1997, 8101, 8510, 2033, 102], [101, 19960, 5243, 4999, 2065, 2008, 1996, 26722, 2001, 3201, 102], [101, 2054, 2016, 2245, 2001, 2008, 1996, 9947, 2001, 8699, 5084, 102], [101, 2138, 2016, 2018, 2288, 1996, 3284, 6017, 1010, 19960, 5243, 2001, 3407, 102], [101, 2043, 2106, 2017, 7180, 1029, 102], [101, 2029, 22641, 3269, 2003, 2009, 3056, 2008, 2057, 2097, 2424, 1999, 9733, 2401, 1029, 102], [101, 1996, 15545, 18968, 1005, 1055, 1014, 29348, 6986, 3334, 2001, 21660, 1012, 102], [101, 1996, 3000, 1045, 2109, 2000, 2113, 2003, 2053, 2062, 102], [101, 3520, 2435, 1996, 11965, 2000, 3389, 1998, 2435, 1996, 3894, 15775, 13231, 2000, 5487, 1012, 102], [101, 13097, 26393, 2232, 2038, 8828, 1996, 6861, 102], [101, 1045, 2097, 4521, 1037, 24792, 1010, 1998, 22358, 2097, 2205, 1012, 102], [101, 3274, 18191, 3445, 1999, 6819, 6820, 22717, 2197, 2095, 1012, 102], [101, 2012, 3119, 1010, 25435, 10948, 5186, 16460, 102], [101, 2957, 2003, 2183, 2000, 24494, 2070, 3536, 1012, 102], [101, 1996, 5961, 2008, 11525, 2626, 1012, 102], [101, 2040, 2106, 4392, 1996, 9947, 1029, 102], [101, 9340, 1005, 1055, 2296, 2801, 2001, 3294, 9577, 1012, 102], [101, 8836, 2003, 2437, 8040, 21821, 1010, 1998, 22358, 2003, 2205, 1012, 102], [101, 3071, 3555, 2008, 1996, 9947, 2001, 8699, 3550, 1012, 102], [101, 5655, 11766, 5736, 2000, 15385, 2370, 1012, 102], [101, 2008, 4463, 3369, 1999, 27942, 15070, 19960, 5243, 1012, 102], [101, 19960, 5243, 2001, 3407, 1010, 2138, 2016, 2018, 2288, 1996, 3284, 6017, 102], [101, 2562, 4426, 4550, 999, 102], [101, 15609, 2038, 18921, 3406, 6392, 7071, 2153, 1012, 102], [101, 3021, 1005, 1055, 3752, 1997, 8101, 8510, 2033, 102], [101, 2040, 17672, 2040, 1029, 102], [101, 14695, 2293, 19817, 16093, 28331, 1012, 102], [101, 5608, 1997, 14695, 2293, 19817, 16093, 28331, 102], [101, 2061, 2855, 2106, 1996, 4393, 2693, 1010, 2008, 2057, 4510, 2387, 2032, 1012, 102], [101, 4286, 2293, 2000, 4521, 2216, 14695, 1012, 102], [101, 2016, 2038, 4782, 2016, 1012, 102], [101, 4463, 3832, 2005, 2002, 2000, 4553, 3894, 1012, 102], [101, 4463, 11766, 19960, 5243, 2000, 2022, 5845, 2011, 1996, 3460, 102], [101, 2009, 2003, 2995, 2008, 1045, 2453, 2022, 2725, 2242, 2060, 2084, 2183, 2000, 1996, 2283, 1012, 102], [101, 4463, 3517, 19960, 5243, 2000, 2022, 5845, 2011, 1996, 3460, 102], [101, 1045, 2179, 2045, 1012, 102], [101, 9587, 3148, 2056, 2016, 4669, 2374, 1012, 102], [101, 25435, 2150, 1996, 3664, 102], [101, 8472, 8823, 6900, 1012, 102], [101, 6425, 2435, 1996, 11965, 2000, 7150, 102], [101, 1996, 20965, 10252, 102], [101, 13382, 28201, 2018, 2448, 2185, 1010, 2138, 1996, 7781, 2121, 7129, 2014, 2050, 1012, 102], [101, 1037, 6412, 1997, 17484, 2003, 1999, 1996, 2338, 1012, 102], [101, 7628, 1998, 8437, 2106, 1012, 102], [101, 2009, 1005, 1055, 4284, 2627, 2176, 1012, 102], [101, 5608, 1997, 1037, 10369, 2293, 2000, 4521, 19817, 16093, 28331, 1012, 102], [101, 2008, 3251, 1996, 2088, 2003, 2461, 2003, 4242, 11250, 21880, 1012, 102], [101, 2053, 2028, 3517, 12943, 14074, 2213, 8540, 2000, 2000, 2663, 102], [101, 7327, 20464, 3593, 2001, 4699, 1999, 18858, 1005, 1055, 6412, 1997, 10988, 1012, 102], [101, 2296, 3752, 8101, 8510, 2033, 102], [101, 2064, 2097, 2002, 2079, 2009, 1029, 102], [101, 19960, 5243, 17672, 2040, 1029, 102], [101, 2002, 2246, 2039, 2009, 102], [101, 2040, 3124, 2106, 2017, 2156, 1012, 102], [101, 2057, 6476, 2870, 102], [101, 2040, 2052, 13382, 28201, 2448, 2185, 1010, 2065, 1996, 7781, 2121, 7129, 1029, 102], [101, 25435, 4782, 2032, 102], [101, 2029, 2103, 1996, 4366, 2008, 5170, 2052, 18445, 1012, 102], [101, 1045, 4033, 1005, 1056, 2187, 2664, 102], [101, 1045, 2572, 5983, 1037, 24792, 1998, 22358, 2038, 2205, 1012, 102], [101, 3661, 2003, 2006, 1996, 2795, 102], [101, 2040, 8823, 1996, 9850, 1029, 102], [101, 2339, 2106, 2017, 2360, 2008, 2017, 2020, 2975, 1029, 102], [101, 2745, 2187, 12669, 102], [101, 9706, 8093, 7716, 4221, 2855, 2089, 2489, 1996, 4176, 102], [101, 1996, 3752, 1997, 8101, 8510, 2033, 102], [101, 1996, 4633, 28270, 102], [101, 13097, 26393, 2232, 6148, 2089, 2003, 22893, 2099, 102], [101, 2053, 2028, 3517, 2000, 2663, 1012, 102], [101, 2040, 2106, 2008, 18858, 3866, 4025, 2000, 2022, 2124, 2011, 3071, 1012, 102], [101, 1996, 4562, 27907, 2015, 102], [101, 2009, 5112, 2006, 1996, 2813, 1012, 102], [101, 4463, 2730, 1012, 102], [101, 2116, 2111, 2020, 2045, 2652, 2006, 1996, 3509, 102], [101, 2113, 4426, 999, 102], [101, 12943, 14074, 2213, 8540, 4692, 2000, 16582, 2092, 1012, 102], [101, 7628, 2371, 2002, 2001, 2045, 102], [101, 2002, 2245, 2008, 18500, 2001, 1996, 3159, 1997, 4768, 1012, 102], [101, 1045, 2031, 8828, 2525, 102], [101, 2009, 2003, 2025, 2995, 2008, 1045, 2031, 2187, 2664, 1012, 102], [101, 2008, 17059, 2003, 5983, 1996, 15212, 1012, 102], [101, 1045, 2071, 2031, 2042, 3909, 12400, 2011, 2085, 1012, 102], [101, 25435, 2404, 1037, 2338, 102], [101, 13097, 26393, 2232, 2453, 2031, 2025, 2042, 3752, 1996, 12731, 2638, 22631, 17596, 1012, 102], [101, 1045, 2356, 2065, 19960, 5243, 17672, 4463, 1012, 102], [101, 2040, 2106, 2017, 13984, 2000, 2175, 1029, 102], [101, 2054, 2106, 2017, 2131, 2035, 2005, 1060, 9335, 1029, 102], [101, 2070, 4487, 28745, 15532, 14782, 2214, 14695, 1999, 2216, 14033, 2229, 2293, 19817, 16093, 28331, 102], [101, 4463, 2001, 2730, 1012, 102], [101, 1045, 2052, 2066, 2000, 2453, 2079, 2009, 102], [101, 2848, 2003, 2070, 4487, 28745, 15532, 14782, 2214, 14695, 1999, 2216, 14033, 2229, 1012, 102], [101, 2045, 2001, 2032, 1999, 1996, 3871, 1012, 102], [101, 13097, 26393, 2232, 2003, 1999, 1996, 16633, 1012, 102], [101, 25435, 2097, 2272, 2000, 1996, 2283, 1012, 102], [101, 13097, 26393, 2232, 2038, 2196, 10583, 1037, 5202, 1012, 102], [101, 7628, 5224, 2014, 2219, 3980, 2058, 1996, 2607, 1997, 1996, 6685, 1012, 102], [101, 2010, 4106, 1010, 1045, 2196, 4669, 1012, 102], [101, 2008, 5835, 1997, 2300, 2453, 1012, 102], [101, 2106, 19960, 5243, 9947, 2040, 1029, 102], [101, 2016, 2165, 1037, 3861, 1997, 1996, 6708, 102], [101, 2298, 2044, 2841, 999, 102], [101, 2040, 2106, 19960, 5243, 9947, 1029, 102], [101, 1045, 2699, 2005, 2000, 2131, 2068, 1012, 102], [101, 2040, 2106, 2017, 8970, 21880, 2000, 1029, 102], [101, 2064, 1045, 2562, 1996, 11224, 23663, 2099, 2074, 2066, 1037, 10533, 2562, 1996, 11224, 23663, 2099, 1029, 102], [101, 4463, 20703, 2098, 2013, 9179, 1996, 6297, 102], [101, 4080, 7777, 2474, 4103, 2006, 2010, 22094, 102], [101, 2040, 2790, 2000, 2031, 2187, 2034, 1029, 102], [101, 6902, 2356, 2008, 1996, 26722, 2001, 3201, 102], [101, 12571, 1997, 21796, 1024, 102], [101, 2057, 2787, 2000, 6773, 1996, 5723, 1037, 11320, 14615, 14123, 2665, 6120, 1012, 102], [101, 2016, 6476, 2014, 102], [101, 2002, 4282, 2002, 1012, 102], [101, 1045, 3373, 2045, 2000, 2022, 2093, 2808, 2006, 1996, 3395, 1012, 102], [101, 1996, 2775, 23701, 2140, 102], [101, 2029, 2611, 8823, 1996, 9850, 1029, 102], [101, 2008, 18858, 2973, 1999, 1996, 2103, 1997, 7571, 2001, 2092, 1011, 2124, 1012, 102], [101, 7798, 4302, 1012, 102], [101, 2005, 2017, 2000, 2079, 2008, 2052, 2022, 1037, 6707, 1012, 102], [101, 4463, 6732, 2040, 19960, 5243, 2018, 17672, 1012, 102], [101, 1045, 2903, 2016, 2003, 6875, 102], [101, 2053, 2028, 3517, 2032, 2000, 2000, 2663, 1012, 102], [101, 2002, 1005, 2222, 2053, 2064, 2079, 2009, 1010, 2064, 2002, 1029, 102], [101, 2029, 5961, 2106, 2017, 2963, 11525, 1005, 1055, 25521, 1997, 2197, 2305, 1029, 102], [101, 7148, 8873, 7771, 2092, 1010, 1998, 22358, 2097, 2205, 102], [101, 2002, 1005, 1055, 5391, 2000, 2323, 2079, 2009, 102], [101, 2009, 2453, 2031, 9630, 2330, 102], [101, 2073, 2106, 2566, 3366, 2271, 2156, 1996, 2175, 18581, 2078, 1029, 102], [101, 1996, 25806, 2024, 2439, 102], [101, 13097, 26393, 2232, 2323, 2022, 3254, 16356, 2989, 1996, 2158, 7265, 3489, 102], [101, 12943, 14074, 2213, 8540, 3849, 4013, 2000, 2022, 1037, 29310, 2278, 102], [101, 2870, 2387, 2033, 102], [101, 1045, 3373, 2016, 2001, 6875, 102], [101, 25435, 2435, 27036, 2000, 8437, 1012, 102], [101, 1996, 2200, 2214, 1998, 5186, 7968, 13547, 1012, 102], [101, 2040, 2106, 2008, 18858, 3866, 6011, 2000, 2022, 2010, 25672, 2075, 1012, 102], [101, 2054, 19960, 5243, 3373, 2001, 4463, 2000, 2022, 1037, 13422, 1012, 102], [101, 1996, 13547, 6283, 1996, 4763, 7151, 1998, 3866, 1996, 7968, 6755, 1012, 102], [101, 2053, 2028, 2071, 6366, 1996, 2668, 2006, 1996, 2813, 102], [101, 2002, 2064, 2064, 2175, 102], [101, 22358, 2038, 2081, 24857, 1998, 2585, 2003, 2205, 1012, 102], [101, 4463, 3832, 2005, 4013, 2000, 4553, 3894, 1012, 102], [101, 1996, 3337, 2323, 2071, 2035, 2175, 102], [101, 1045, 5071, 2000, 2022, 7036, 102], [101, 25435, 10948, 5186, 16460, 2012, 3119, 1012, 102], [101, 1996, 2175, 18581, 2078, 2003, 3733, 2000, 2903, 1996, 4366, 2008, 2566, 3366, 2271, 22889, 7974, 1012, 102], [101, 2016, 6476, 2993, 102], [101, 7628, 2150, 1037, 13545, 1997, 6746, 1012, 102], [101, 3389, 1005, 1055, 6587, 1998, 6440, 1005, 1055, 4587, 2365, 2743, 2185, 1012, 102], [101, 25435, 6476, 1996, 4937, 102], [101, 15993, 2003, 5186, 4763, 1012, 102], [101, 20231, 2003, 3733, 2000, 9811, 2008, 2017, 2064, 6570, 1012, 102], [101, 1045, 2215, 2000, 4521, 6097, 10464, 3490, 102], [101, 2029, 24040, 2106, 2029, 4802, 4339, 1029, 102], [101, 2054, 2016, 2245, 2008, 2001, 1996, 9947, 2001, 8699, 5084, 102], [101, 2040, 10749, 1996, 9947, 1029, 102], [101, 2054, 19960, 5243, 5412, 2001, 2005, 2014, 2336, 2000, 2022, 17672, 1012, 102], [101, 2053, 2028, 1005, 1055, 2388, 2018, 17776, 2505, 1012, 102], [101, 2054, 2785, 1997, 3364, 2003, 2002, 1029, 102], [101, 2054, 2106, 2016, 4521, 1029, 102], [101, 16460, 2012, 1010, 25435, 10948, 5186, 3119, 102], [101, 1045, 2031, 2411, 1037, 3147, 1012, 102], [101, 2040, 2106, 3814, 2360, 2008, 2016, 1005, 1040, 3610, 1998, 5926, 1029, 102], [101, 2073, 2106, 2027, 2175, 2035, 2005, 2037, 11938, 1029, 102], [101, 2027, 2234, 2770, 2058, 1996, 2940, 1998, 2083, 1996, 5249, 102], [101, 1996, 3199, 27626, 102], [101, 2129, 2855, 2106, 2017, 4521, 1996, 9850, 1029, 102], [101, 2116, 3869, 2024, 1999, 1996, 2712, 1012, 102], [101, 2027, 3369, 2034, 102], [101, 2111, 2020, 2652, 2006, 1996, 3509, 1012, 102], [101, 6425, 2435, 2000, 3389, 2009, 1012, 102], [101, 2002, 4669, 25435, 1012, 102], [101, 1996, 4562, 27907, 102], [101, 1045, 24849, 2071, 2057, 2681, 2220, 1012, 102], [101, 1996, 6468, 27907, 102], [101, 1045, 11766, 2045, 2000, 2022, 1037, 3291, 1012, 102], [101, 2010, 2338, 102], [101, 2002, 2246, 1996, 2193, 2039, 102], [101, 2038, 8437, 8828, 1037, 9850, 1029, 102], [101, 2029, 7804, 3271, 2149, 1029, 102], [101, 19960, 5243, 2730, 4463, 1012, 102], [101, 6902, 5121, 2097, 4965, 1037, 3899, 1012, 102], [101, 2027, 20665, 2585, 1998, 25435, 1012, 102], [101, 2057, 3373, 2000, 2022, 1996, 16296, 102], [101, 2029, 2332, 2106, 2017, 4687, 10836, 2029, 2103, 1029, 102], [101, 2053, 2028, 3517, 12943, 14074, 2213, 8540, 2000, 2663, 1012, 102], [101, 1996, 2154, 4586, 2098, 102], [101, 13097, 26393, 2232, 2196, 10029, 8626, 1012, 102], [101, 2562, 2870, 4550, 999, 102], [101, 1996, 8626, 2031, 2035, 2042, 19668, 1012, 102], [101, 2106, 2008, 19960, 5243, 2730, 2014, 2336, 6314, 4463, 1029, 102], [101, 1996, 2572, 8913, 3676, 19055, 1998, 2059, 2009, 8143, 2098, 1012, 102], [101, 1045, 2215, 2000, 6170, 102], [101, 2002, 2097, 2064, 2175, 102], [101, 19960, 5243, 2790, 2008, 2038, 17672, 4463, 1012, 102], [101, 2383, 3191, 8101, 8510, 2033, 102], [101, 2848, 2003, 5608, 1997, 14695, 1012, 102], [101, 1051, 5149, 11393, 2271, 4692, 1996, 16254, 11512, 2000, 2963, 1996, 20675, 1012, 102], [101, 13097, 26393, 2232, 2089, 6148, 2003, 22893, 2099, 102], [101, 1996, 13850, 7777, 2808, 1012, 102], [101, 12684, 1998, 2585, 13077, 2037, 2519, 2044, 4596, 102], [101, 2984, 2003, 5514, 2084, 2198, 2003, 1012, 102], [101, 12684, 1998, 2585, 13077, 2037, 2519, 1999, 1996, 3829, 102], [101, 2017, 6476, 2017, 102], [101, 2106, 2017, 2156, 2984, 1029, 102], [101, 7148, 8873, 2038, 2081, 24857, 1010, 1998, 2585, 2038, 2205, 1012, 102], [101, 2045, 2790, 2000, 2022, 2093, 2273, 1999, 1996, 3871, 1012, 102], [101, 2008, 19960, 5243, 7129, 4463, 2134, 1005, 1056, 4474, 3087, 1012, 102], [101, 9587, 3148, 1005, 1055, 2374, 2136, 3866, 2014, 102], [101, 1045, 2741, 2016, 2185, 1012, 102], [101, 4463, 11766, 19960, 5243, 2008, 2016, 2323, 5532, 2014, 2155, 102], [101, 9706, 8093, 7716, 4221, 27136, 2015, 2000, 2022, 18168, 3490, 11008, 4765, 1012, 102], [101, 2296, 3752, 1997, 8101, 8510, 2033, 102], [101, 3021, 3752, 8101, 1998, 19167, 4823, 24645, 13225, 2033, 102], [101, 2043, 1996, 7781, 2121, 3369, 1010, 13382, 28201, 2001, 6680, 102], [101, 2027, 6476, 3209, 102], [101, 2116, 6144, 2031, 2468, 23566, 1012, 102], [101, 2008, 2008, 1996, 2088, 2003, 2461, 2003, 5793, 6314, 24127, 1012, 102], [101, 3021, 2025, 3908, 1996, 2088, 1012, 102], [101, 2198, 2387, 15963, 102], [101, 1045, 3908, 2045, 1012, 102], [101, 2054, 2001, 7327, 20464, 3593, 4699, 1999, 18858, 1005, 1055, 6412, 1997, 1029, 102], [101, 1045, 2066, 25435, 102], [101, 1996, 8626, 3432, 2035, 2351, 2041, 1012, 102], [101, 13097, 26393, 2232, 2106, 2025, 4875, 1996, 5202, 1012, 102], [101, 2029, 7804, 2453, 2393, 2149, 1029, 102], [101, 4286, 2293, 2000, 4521, 14695, 1012, 102], [101, 2029, 5961, 2055, 23167, 2106, 11525, 28667, 4221, 1029, 102], [101, 1996, 3337, 2323, 2035, 2071, 2175, 102], [101, 1996, 13547, 6283, 1996, 4763, 1998, 1996, 7968, 6755, 1012, 102], [101, 1996, 6099, 2008, 5552, 23167, 2166, 1012, 102], [101, 9340, 1005, 1055, 2296, 4792, 102], [101, 1045, 4999, 3251, 19960, 5243, 2018, 6783, 1012, 102], [101, 1045, 2031, 8828, 2026, 6045, 2525, 102], [101, 2002, 2097, 2071, 2175, 102], [101, 8437, 7351, 1996, 4875, 102], [101, 1996, 3909, 2482, 2718, 1996, 3392, 1999, 1996, 2250, 102], [101, 1045, 2031, 1037, 2338, 1012, 102], [101, 4463, 2245, 1997, 6984, 1996, 5202, 102], [101, 2009, 3849, 2008, 12943, 14074, 2213, 8540, 2003, 1037, 29310, 2278, 102], [101, 2029, 2103, 2079, 2017, 2903, 1996, 4366, 2008, 5170, 2052, 18445, 1029, 102], [101, 2057, 3555, 2008, 2566, 3366, 2271, 2018, 2730, 1996, 2175, 18581, 2078, 102], [101, 2057, 2342, 2070, 16661, 2000, 2393, 2149, 1012, 102], [101, 1996, 25806, 2003, 2439, 102], [101, 1045, 2031, 2042, 3909, 12400, 2005, 2086, 1012, 102], [101, 3520, 2435, 1996, 11965, 2000, 3389, 1998, 1996, 3894, 15775, 13231, 2000, 5487, 1012, 102], [101, 2057, 6476, 2149, 102], [101, 2053, 3752, 1997, 8101, 8510, 2033, 102], [101, 2054, 2106, 2002, 7514, 1029, 102], [101, 2009, 2001, 3555, 2008, 2011, 3071, 1996, 9947, 2001, 8699, 5084, 102], [101, 1045, 2356, 2029, 2103, 2029, 2332, 10836, 1012, 102], [101, 7148, 8873, 3084, 20739, 2080, 24857, 1010, 1998, 2585, 2515, 2205, 102], [101, 4521, 6900, 999, 102], [101, 2298, 2044, 4426, 999, 102], [101, 2016, 2359, 2000, 2064, 2681, 102], [101, 4300, 2435, 1996, 25213, 2000, 9993, 10994, 1012, 102], [101, 2057, 2165, 1996, 2482, 2000, 1996, 2237, 102], [101, 6425, 2435, 1996, 11965, 2000, 3389, 1012, 102], [101, 2025, 3752, 8101, 8510, 2033, 102], [101, 2045, 2020, 2730, 2093, 2273, 1012, 102], [101, 13097, 26393, 2232, 2038, 2025, 2042, 3752, 1996, 12731, 2638, 22631, 17596, 102], [101, 1996, 17727, 19234, 1997, 1996, 2231, 1997, 1037, 2986, 1012, 102], [101, 2043, 12684, 1998, 2585, 13077, 2037, 2519, 2001, 2044, 4596, 102], [101, 2023, 3291, 1005, 1055, 4106, 2003, 2081, 1037, 2843, 6082, 2043, 2017, 3305, 11658, 11380, 1012, 102], [101, 18500, 2245, 2008, 2370, 2001, 1996, 3159, 1997, 4768, 1012, 102], [101, 13097, 26393, 2232, 2453, 2031, 2042, 2025, 3752, 1996, 12731, 2638, 22631, 17596, 1012, 102], [101, 2040, 2356, 2029, 6231, 2029, 7538, 2018, 2579, 1037, 6302, 1997, 1029, 102], [101, 11940, 2056, 2008, 2016, 1005, 1040, 3610, 10225, 1998, 5926, 29019, 1012, 102], [101, 1045, 6589, 2157, 2039, 1996, 3392, 1012, 102], [101, 2035, 1996, 8626, 2018, 6376, 1012, 102], [101, 2040, 2106, 2017, 3535, 2000, 2486, 4463, 2000, 3102, 1029, 102], [101, 1045, 2245, 1997, 1996, 4231, 102], [101, 6425, 2245, 2002, 2052, 2507, 1996, 11965, 2000, 3389, 1998, 1996, 11965, 2000, 3389, 2002, 2435, 1012, 102], [101, 1045, 4999, 2018, 2002, 2187, 2664, 1012, 102], [101, 1045, 2245, 2016, 2001, 6875, 102], [101, 1045, 5412, 2005, 2032, 2000, 2156, 2014, 1012, 102], [101, 2009, 2001, 2058, 1996, 2940, 1998, 2083, 1996, 5249, 2008, 2027, 2234, 2770, 102], [101, 2040, 2106, 2017, 3198, 2387, 2054, 1029, 102], [101, 13097, 26393, 2232, 2453, 2064, 6148, 2003, 22893, 2099, 102], [101, 13097, 26393, 2232, 3369, 102], [101, 4463, 3369, 2011, 19960, 5243, 1012, 102], [101, 3514, 3659, 2058, 1996, 2712, 5370, 1012, 102], [101, 2054, 4463, 2356, 2001, 3251, 1996, 26722, 2001, 3201, 102], [101, 4463, 2356, 3251, 2008, 1996, 26722, 2001, 3201, 102], [101, 2031, 2017, 2464, 2984, 1029, 1045, 2031, 21210, 2464, 2984, 102], [101, 2009, 3849, 2008, 12943, 14074, 2213, 8540, 2187, 1012, 102], [101, 2216, 17059, 2024, 5983, 1996, 15212, 1012, 102], [101, 1045, 3107, 2014, 2000, 2002, 1012, 102], [101, 7150, 3662, 2000, 6425, 2009, 1012, 102], [101, 2002, 6476, 4426, 102], [101, 25435, 2699, 2000, 27545, 2370, 1012, 102], [101, 13097, 26393, 2232, 2196, 2038, 10583, 1037, 5202, 1012, 102], [101, 2054, 7628, 2106, 1997, 6746, 2001, 2468, 13545, 1012, 102], [101, 2009, 2003, 2025, 3039, 2000, 4297, 20026, 14776, 25763, 1012, 102], [101, 1996, 4106, 1997, 1996, 3291, 2001, 25077, 102], [101, 2029, 7804, 2106, 2393, 2149, 1029, 102], [101, 13382, 28201, 3544, 2000, 2031, 2357, 2041, 2000, 2031, 2187, 1012, 102], [101, 13097, 26393, 2232, 2038, 2042, 2025, 3752, 1996, 12731, 2638, 22631, 17596, 1012, 102], [101, 10948, 5186, 1010, 25435, 16460, 2012, 3119, 102], [101, 9706, 8093, 7716, 4221, 2359, 2000, 2444, 1998, 2003, 22893, 2099, 2699, 2000, 2079, 102], [101, 1045, 6476, 4426, 102], [101, 2129, 13545, 1997, 14631, 2003, 12943, 14074, 2213, 8540, 1029, 102], [101, 6902, 2657, 1037, 6594, 1999, 1996, 16683, 102], [101, 2026, 2388, 6283, 2870, 102], [101, 1996, 2493, 7645, 1996, 6028, 2023, 2851, 102], [101, 2002, 2939, 2039, 1996, 2940, 1012, 102], [101, 2057, 2359, 2000, 8823, 9850, 102], [101, 4463, 2354, 2216, 19960, 5243, 2018, 3459, 1996, 6297, 102], [101, 13097, 26393, 2232, 2442, 2323, 6148, 2003, 22893, 2099, 102], [101, 9706, 8093, 7716, 4221, 2056, 2002, 10650, 1996, 4176, 1998, 2489, 1996, 4176, 2002, 2106, 102], [101, 2106, 2017, 4392, 1996, 9947, 1029, 102], [101, 3251, 12943, 14074, 2213, 8540, 2018, 10911, 2098, 2001, 4242, 1012, 102], [101, 2014, 2038, 4782, 2014, 1012, 102], [101, 1045, 2411, 2031, 1037, 3147, 1012, 102], [101, 4463, 3990, 1996, 6708, 2018, 6376, 102], [101, 3021, 3752, 1997, 8101, 8510, 2033, 102], [101, 2134, 1005, 1056, 1996, 3894, 2147, 1029, 102], [101, 25435, 2245, 7628, 2018, 8143, 2098, 102], [101, 1996, 3586, 3062, 102], [101, 1051, 5149, 11393, 2271, 4692, 1051, 5149, 11393, 2271, 2000, 2963, 1996, 20675, 1012, 102], [101, 6402, 4144, 2000, 2848, 999, 102], [101, 22519, 2046, 7228, 1996, 7083, 102], [101, 13097, 26393, 2232, 2134, 1005, 1056, 4875, 1996, 23528, 21354, 1012, 102], [101, 6902, 1005, 1055, 3497, 2000, 2022, 2006, 1996, 4773, 1010, 3475, 1005, 1056, 2002, 1029, 102], [101, 3021, 1005, 1055, 3752, 8101, 1998, 19167, 1005, 1055, 4823, 24645, 13225, 2033, 102], [101, 5608, 1997, 1037, 10369, 7459, 2000, 4521, 19817, 16093, 28331, 102], [101, 13097, 26393, 2232, 2453, 3866, 2003, 22893, 2099, 102], [101, 2703, 2018, 2019, 6771, 102], [101, 13382, 28201, 3544, 2000, 2219, 1037, 5202, 102], [101, 1996, 8178, 2453, 2031, 2119, 2042, 2012, 1996, 2283, 1012, 102], [101, 2008, 4463, 2018, 3369, 2001, 5793, 1999, 27942, 15070, 19960, 5243, 1012, 102], [101, 2008, 1045, 2323, 9345, 17822, 3686, 2003, 2026, 13545, 4355, 3959, 102], [101, 2054, 13097, 26393, 2232, 2089, 2079, 2003, 6148, 2003, 22893, 2099, 102], [101, 2017, 2056, 2008, 25435, 2245, 2008, 7628, 2018, 8143, 2098, 102], [101, 1996, 13547, 6283, 1996, 4763, 7151, 1998, 1996, 7968, 6755, 102], [101, 2054, 2106, 2198, 4965, 1029, 102], [101, 12943, 14074, 2213, 8540, 3140, 9706, 8093, 7716, 4221, 2000, 2681, 1996, 2082, 1012, 102], [101, 2045, 2003, 1037, 6412, 1997, 17484, 1999, 1996, 2338, 1012, 102], [101, 19960, 5243, 12713, 2065, 1996, 26722, 2001, 3201, 102], [101, 4286, 2293, 2000, 4521, 2068, 1012, 102], [101, 2619, 2106, 19960, 5243, 9947, 1012, 102], [101, 3383, 12997, 4048, 6914, 2401, 2097, 2031, 7129, 1051, 2098, 11514, 2271, 2011, 4826, 1012, 102], [101, 2061, 2008, 2002, 2071, 4019, 1010, 4463, 2150, 8841, 102], [101, 1045, 4999, 2040, 2018, 19960, 5243, 17672, 1012, 102], [101, 1045, 2356, 2106, 19960, 5243, 9947, 4463, 1012, 102], [101, 12943, 14074, 2213, 8540, 3030, 4463, 2013, 9179, 1996, 6297, 102], [101, 2053, 2028, 2359, 2151, 9850, 1012, 102], [101, 1045, 2359, 5261, 2005, 2000, 2272, 2007, 2033, 1012, 102], [101, 2002, 2939, 1996, 2940, 2039, 1012, 102], [101, 2027, 2323, 2031, 2035, 2741, 1051, 2098, 11514, 2271, 2000, 1996, 12681, 102], [101, 2216, 10608, 2024, 5983, 1996, 15212, 1012, 102], [101, 2040, 2018, 13382, 28201, 2448, 2185, 1010, 2077, 1996, 7781, 2121, 7129, 1029, 102], [101, 1045, 2356, 25435, 2065, 2002, 2001, 3407, 102], [101, 3817, 2150, 1037, 8855, 1012, 102], [101, 2038, 2008, 2057, 2031, 3369, 2067, 2012, 2256, 3225, 2391, 4928, 2008, 1996, 2088, 2003, 2461, 1029, 102], [101, 2009, 2001, 1996, 2158, 1045, 2387, 2008, 2017, 2359, 2000, 3113, 1012, 102], [101, 2008, 9982, 2011, 12791, 1997, 16405, 5620, 3051, 1997, 7004, 1005, 1055, 102], [101, 1045, 8823, 2008, 1012, 102], [101, 2009, 4586, 2098, 102], [101, 9706, 8093, 7716, 4221, 2056, 2002, 2052, 2489, 1996, 4176, 1998, 2489, 1996, 4176, 2002, 2097, 102], [101, 2008, 1996, 3585, 11689, 2052, 2265, 4463, 2010, 4130, 2083, 1996, 24239, 2001, 102], [101, 7628, 1998, 8437, 3369, 2034, 102], [101, 2054, 2031, 2017, 8828, 1029, 102], [101, 2848, 2003, 5608, 1012, 102], [101, 1045, 2056, 2023, 2002, 2187, 102], [101, 2040, 2038, 7144, 2026, 13803, 1029, 102], [101, 2017, 2056, 2016, 4669, 4426, 102], [101, 2016, 2699, 2000, 2187, 102], [101, 1045, 1005, 1040, 3740, 2000, 2031, 2736, 1010, 1998, 2736, 1045, 2031, 102], [101, 6902, 3517, 1996, 12803, 1012, 102], [101, 2008, 1045, 2572, 2182, 16481, 2008, 1045, 2729, 1012, 102], [101, 2016, 2699, 2000, 2089, 2681, 102], [101, 13097, 26393, 2232, 22182, 9706, 8093, 7716, 4221, 102], [101, 2040, 2790, 2018, 17672, 4463, 1029, 102], [101, 2008, 18858, 3866, 2004, 3334, 2790, 2000, 2022, 2124, 2011, 3071, 1012, 102], [101, 2043, 7759, 2007, 4763, 21843, 2015, 1010, 2009, 2003, 4748, 11365, 3085, 2000, 4929, 12371, 1012, 102], [101, 6425, 2056, 2002, 2052, 2507, 1996, 11965, 2000, 3389, 1998, 2507, 1996, 11965, 2002, 2106, 2000, 3389, 1012, 102], [101, 2106, 1996, 3894, 2147, 1029, 102], [101, 2040, 2038, 7144, 1996, 9947, 1029, 102], [101, 6425, 2056, 2002, 2052, 2507, 1996, 11965, 2000, 3389, 1998, 2507, 1996, 11965, 2000, 3389, 2002, 2106, 1012, 102], [101, 4463, 2150, 8841, 1010, 2061, 2008, 2002, 2071, 4019, 102], [101, 9706, 8093, 7716, 4221, 2089, 2855, 2489, 1996, 4176, 1012, 102], [101, 1996, 3586, 25624, 5669, 102], [101, 2129, 2855, 2106, 1996, 13176, 2202, 9553, 1029, 102], [101, 2070, 3407, 14695, 2029, 2064, 4875, 2293, 19817, 16093, 28331, 102], [101, 7628, 2371, 1037, 5519, 3351, 1999, 2014, 2849, 102], [101, 1996, 10276, 2357, 1996, 7813, 2046, 5404, 2007, 1037, 4400, 1997, 2010, 23967, 102], [101, 2040, 2790, 2008, 2018, 17672, 4463, 1029, 102], [101, 5926, 2033, 999, 102], [101, 2057, 2359, 2000, 4521, 9850, 102], [101, 12791, 1005, 1055, 9982, 1997, 16405, 5620, 3051, 7495, 2000, 7004, 1012, 102], [101, 2035, 1996, 3337, 2323, 2071, 2175, 102], [101, 7628, 5224, 2014, 2219, 4784, 2058, 1996, 2607, 1997, 1996, 6685, 1012, 102], [101, 1996, 20014, 2890, 23267, 11304, 1998, 1996, 19725, 2952, 1005, 1055, 6775, 10417, 1996, 26033, 10242, 1012, 102], [101, 13097, 26393, 2232, 2453, 2025, 2031, 2042, 3752, 1996, 12731, 2638, 22631, 17596, 1012, 102], [101, 2009, 2001, 5793, 2008, 18858, 3866, 2004, 3334, 5793, 1012, 102], [101, 2002, 7459, 2032, 102], [101, 2057, 2035, 2245, 2002, 2001, 12511, 102], [101, 6253, 3662, 2370, 6425, 1999, 1996, 5259, 1012, 102], [101, 25435, 3373, 1996, 3189, 1012, 102], [101, 1045, 2246, 1996, 2193, 2039, 1012, 102], [101, 25435, 2003, 11757, 3697, 2000, 2022, 7537, 1012, 102], [101, 2053, 4393, 7771, 1012, 102], [101, 2044, 1996, 7781, 2121, 2187, 1010, 13382, 28201, 24966, 1012, 102], [101, 2848, 2001, 2012, 1996, 2283, 102], [101, 17967, 2031, 1045, 2464, 1012, 102], [101, 1045, 2245, 2016, 2003, 6875, 102], [101, 2370, 2387, 2032, 102], [101, 2008, 2002, 2003, 2746, 2003, 3154, 1012, 102], [101, 2045, 4025, 2093, 2273, 2000, 2022, 1999, 1996, 3871, 1012, 102], [101, 2002, 4106, 2014, 2001, 25077, 102], [101, 2073, 2035, 2106, 2027, 2175, 2005, 2037, 11938, 1029, 102], [101, 13097, 26393, 2232, 2787, 2025, 2000, 3102, 2003, 22893, 2099, 102], [101, 3021, 3752, 8101, 8510, 2033, 102], [101, 2566, 3366, 2271, 2387, 1996, 2175, 18581, 2078, 1999, 2010, 6099, 1012, 102], [101, 13382, 28201, 2052, 2448, 2185, 1010, 2065, 1996, 7781, 2121, 7129, 2014, 2050, 1012, 102], [101, 2040, 2106, 1037, 6231, 1997, 4474, 19960, 5243, 1029, 102], [101, 2054, 2106, 2017, 2360, 1006, 2008, 1007, 1996, 4802, 2018, 2517, 1029, 102], [101, 1045, 2387, 2111, 2652, 2045, 2006, 1996, 3509, 1012, 102], [101, 2040, 2001, 2008, 18858, 3866, 5793, 1029, 102], [101, 1045, 2134, 1005, 1056, 2215, 2151, 9850, 1012, 102], [101, 2008, 1045, 2323, 3610, 14695, 2003, 2026, 13545, 4355, 3959, 102], [101, 13097, 26393, 2232, 5520, 2025, 1996, 23528, 21354, 1012, 102], [101, 6902, 3478, 7366, 1010, 6854, 102], [101, 1996, 2273, 15375, 102], [101, 1045, 3517, 2045, 2000, 2022, 1037, 3291, 1012, 102], [101, 13097, 26393, 2232, 2359, 2000, 23199, 2003, 22893, 2099, 1010, 1998, 23199, 2003, 22893, 2099, 2002, 2106, 1012, 102], [101, 4302, 7798, 1012, 102], [101, 1045, 2356, 2040, 2387, 2054, 1012, 102], [101, 1996, 3460, 3369, 1037, 2047, 3364, 1012, 102], [101, 2032, 7459, 2032, 102], [101, 2040, 2018, 13382, 28201, 2448, 2185, 1010, 2138, 1996, 7781, 2121, 7129, 1029, 102], [101, 2002, 2038, 2042, 3407, 102], [101, 13382, 28201, 2018, 2448, 2185, 1010, 2077, 1996, 7781, 2121, 7129, 2014, 2050, 1012, 102], [101, 2029, 1996, 5961, 2106, 11525, 28667, 4221, 1029, 102], [101, 2025, 3752, 1997, 8101, 8510, 2033, 102], [101, 2040, 2106, 21880, 8970, 2040, 2000, 1029, 102], [101, 15993, 2003, 1037, 4795, 23324, 1012, 102], [101, 25435, 2387, 25435, 1012, 102], [101, 1045, 2572, 2000, 4521, 6097, 10464, 3490, 1012, 102], [101, 13382, 28201, 2018, 6376, 1010, 2077, 1996, 7781, 2121, 3369, 1012, 102], [101, 5608, 2293, 19817, 16093, 28331, 102], [101, 1996, 8626, 2020, 19668, 2035, 1012, 102], [101, 1045, 2387, 2032, 2412, 1012, 102], [101, 4286, 2293, 2000, 4521, 5608, 1997, 14695, 1012, 102], [101, 1045, 2031, 2741, 1014, 3661, 2000, 4483, 9895, 102], [101, 2054, 4463, 2356, 3251, 2001, 1996, 26722, 2001, 3201, 102], [101, 2216, 14695, 2293, 19817, 16093, 28331, 102], [101, 2057, 2035, 2245, 2002, 2000, 2022, 12511, 102], [101, 1045, 1005, 1040, 3740, 2000, 2031, 2736, 2011, 2085, 1012, 102], [101, 2038, 1996, 26722, 2025, 2499, 1029, 102], [101, 2054, 1045, 2293, 2003, 15174, 1998, 3103, 9550, 12851, 102], [101, 2984, 2743, 1012, 102], [101, 1996, 2158, 1045, 2387, 20665, 2870, 1012, 102], [101, 15324, 8101, 8510, 2033, 102], [101, 1996, 3861, 1997, 2053, 2028, 5112, 2588, 2151, 2813, 1012, 102], [101, 2002, 3880, 2008, 2002, 2001, 3407, 1012, 102], [101, 2053, 2028, 2071, 6366, 1996, 2668, 2013, 1996, 2813, 102], [101, 7628, 5224, 2008, 1996, 3347, 2386, 2001, 17358, 1012, 102], [101, 1045, 6476, 2033, 102], [101, 6425, 2435, 3389, 1996, 11965, 1012, 102], [101, 9706, 8093, 7716, 4221, 2359, 2014, 2050, 2000, 13984, 21880, 2000, 2681, 1012, 102], [101, 13097, 26393, 2232, 2003, 3554, 1996, 5202, 1012, 102], [101, 1045, 3555, 2016, 2001, 6875, 102], [101, 2005, 8437, 1010, 1045, 3832, 2000, 2022, 2556, 1012, 102], [101, 13097, 26393, 2232, 4771, 9706, 8093, 7716, 4221, 102], [101, 2016, 2453, 2022, 6875, 1012, 102], [101, 1996, 10369, 20696, 102], [101, 25435, 5698, 3550, 2585, 2012, 1996, 2252, 1012, 102], [101, 4463, 2356, 3251, 1996, 26722, 2001, 3201, 102], [101, 13017, 2050, 2701, 1996, 2341, 102], [101, 2848, 2003, 1996, 2214, 14695, 1012, 102], [101, 19960, 5243, 2453, 2031, 2445, 4463, 1037, 17672, 11111, 1006, 2074, 7438, 1037, 17672, 11111, 2004, 2019, 27937, 102], [101, 2855, 3610, 25435, 999, 102], [101, 25435, 3373, 8437, 2000, 2031, 3480, 2370, 1012, 102], [101, 7628, 2371, 2980, 102], [101, 12943, 14074, 2213, 8540, 3517, 14631, 2000, 4025, 2000, 2022, 3407, 1012, 102], [101, 2032, 2338, 102], [101, 2008, 1996, 3437, 2003, 5793, 6314, 24127, 1012, 102], [101, 1996, 11801, 1005, 1055, 5592, 1997, 2370, 2000, 1996, 5580, 2401, 4263, 1012, 102], [101, 11525, 24843, 1996, 5961, 2055, 23167, 1029, 102], [101, 2053, 4393, 2064, 5788, 13932, 1012, 102], [101, 2104, 1996, 2793, 2003, 1996, 2190, 2173, 2000, 5342, 102], [101, 25435, 2596, 102], [101, 2045, 3849, 2000, 2022, 1037, 3291, 1012, 102], [101, 25435, 2150, 2008, 2002, 2001, 3407, 102], [101, 1045, 2046, 7228, 2008, 2016, 2001, 3407, 102], [101, 2057, 2035, 2245, 2032, 2001, 12511, 102], [101, 19960, 5243, 2387, 2040, 1029, 102], [101, 2053, 2028, 3517, 2008, 12943, 14074, 2213, 8540, 2052, 2663, 1012, 102], [101, 8929, 2008, 1996, 2088, 2003, 4257, 3957, 2028, 2070, 14017, 10732, 1012, 102], [101, 5926, 2068, 999, 102], [101, 1996, 6468, 27907, 2015, 102], [101, 2073, 2106, 2017, 10436, 2077, 2017, 11041, 1996, 2751, 1029, 102], [101, 2016, 2699, 2000, 2079, 2175, 1012, 102], [101, 19960, 5243, 4999, 2065, 1996, 26722, 2001, 3201, 102], [101, 2040, 2035, 2106, 2017, 3113, 2043, 2017, 2020, 1999, 17455, 1029, 102], [101, 2040, 2106, 2017, 2963, 2019, 2030, 3370, 2055, 1029, 102], [101, 12684, 2743, 102], [101, 12390, 2741, 4144, 2000, 13707, 1012, 102], [101, 2957, 1005, 1055, 5592, 1997, 1996, 7739, 2000, 1996, 2902, 1998, 1997, 1996, 3902, 2000, 1996, 2082, 1012, 102], [101, 7150, 3303, 6425, 2000, 2156, 2370, 1999, 1996, 5259, 1012, 102], [101, 1037, 1012, 19324, 3740, 2000, 4608, 1996, 18906, 10672, 2015, 1998, 2016, 2106, 1012, 102], [101, 19960, 5243, 2699, 19960, 5243, 2000, 9947, 2014, 2336, 1012, 102], [101, 2029, 3379, 2106, 21880, 9530, 18532, 15725, 1996, 3114, 2008, 2014, 22707, 2018, 2328, 1029, 102], [101, 1045, 2106, 2025, 3305, 1012, 102], [101, 13097, 26393, 2232, 3866, 2003, 22893, 2099, 1998, 9706, 8093, 7716, 4221, 2106, 2205, 102], [101, 2057, 3373, 2032, 2000, 2022, 18168, 3490, 11008, 4765, 102], [101, 6902, 4110, 2855, 1037, 6708, 102], [101, 2585, 8823, 24792, 2229, 1998, 7148, 8873, 2323, 2205, 1012, 102], [101, 7628, 1998, 9443, 8823, 2216, 12090, 11345, 2015, 1999, 7628, 1005, 1055, 2067, 3871, 1012, 102], [101, 1996, 2214, 14695, 2293, 19817, 16093, 28331, 102], [101, 1996, 3337, 2035, 2323, 2071, 2175, 102], [101, 9706, 8093, 7716, 4221, 2855, 10650, 1996, 4176, 102], [101, 2703, 2018, 2048, 3821, 102], [101, 2054, 12684, 1998, 2585, 2106, 2001, 2061, 4817, 2037, 2519, 1999, 1037, 13610, 102], [101, 25435, 5698, 3550, 2585, 2471, 7887, 1012, 102], [101, 12943, 14074, 2213, 8540, 2790, 2008, 2187, 1012, 102], [101, 25435, 1005, 1055, 21863, 9152, 12820, 2010, 4540, 1012, 102], [101, 2054, 1037, 2785, 1997, 3364, 2003, 2002, 1029, 102], [101, 1996, 7887, 3752, 8101, 8510, 2033, 102], [101, 2077, 1996, 7781, 2121, 3369, 1010, 13382, 28201, 2018, 6376, 102], [101, 13097, 26393, 2232, 2134, 1005, 1056, 2681, 1012, 102], [101, 22519, 2046, 7228, 2008, 2016, 2001, 5458, 102], [101, 2298, 2012, 2035, 2122, 2808, 1012, 2029, 2338, 2052, 2017, 2066, 1029, 102], [101, 2045, 2020, 2730, 2093, 2273, 2011, 1996, 12025, 1012, 102], [101, 2848, 2003, 2216, 14695, 1012, 102], [101, 1045, 2123, 1005, 1056, 3342, 2054, 1045, 2056, 2035, 1029, 102], [101, 1996, 10369, 20696, 2015, 102], [101, 1996, 9947, 2001, 8699, 5084, 2001, 3555, 2008, 2011, 3071, 102], [101, 2111, 2024, 5236, 102], [101, 2054, 1045, 5412, 2001, 2005, 8437, 2000, 2022, 2556, 1012, 102], [101, 1045, 4102, 14580, 2000, 5965, 102], [101, 2848, 2003, 14695, 102], [101, 2029, 4802, 2626, 2029, 24040, 1029, 102], [101, 2129, 2106, 7628, 3198, 2065, 8437, 2187, 1029, 102], [101, 18500, 2245, 2032, 2000, 2022, 1996, 3159, 1997, 4768, 1012, 102], [101, 2002, 2064, 1005, 1056, 4298, 2079, 2008, 1010, 4298, 2002, 1029, 102], [101, 1045, 2442, 4521, 6097, 10464, 3490, 1012, 102], [101, 1045, 2356, 2040, 2198, 2052, 8970, 2000, 2040, 1012, 102], [101, 1996, 13547, 6283, 1996, 1998, 3866, 1996, 7151, 1012, 102], [101, 3752, 8101, 8510, 2033, 102], [101, 4286, 2293, 2000, 4521, 5608, 1012, 102], [101, 13097, 26393, 2232, 10069, 2331, 1998, 23167, 2515, 2004, 2092, 102], [101, 1996, 14695, 20696, 2015, 102], [101, 5377, 3752, 8101, 8510, 2033, 102], [101, 25435, 3373, 2000, 2022, 3407, 1012, 102], [101, 2129, 2106, 7628, 2360, 2008, 8437, 2187, 1029, 102], [101, 2265, 2033, 4144, 999, 102], [101, 1996, 15324, 1997, 8101, 8510, 2033, 102], [101, 25435, 5698, 3550, 2585, 2296, 2154, 1012, 102], [101, 1996, 2493, 7645, 2023, 2851, 102], [101, 2057, 3373, 9706, 8093, 7716, 4221, 2000, 2022, 18168, 3490, 11008, 4765, 1012, 102], [101, 6253, 3303, 6425, 2000, 2156, 2370, 1999, 1996, 5259, 1012, 102], [101, 25435, 2187, 2077, 8437, 2387, 2370, 1012, 102], [101, 2498, 2066, 2008, 2052, 1045, 2412, 4521, 2153, 1012, 102], [101, 2073, 2038, 2002, 2404, 1996, 9850, 1029, 102], [101, 4463, 11766, 19960, 5243, 2000, 5532, 2014, 2155, 102], [101, 13097, 26393, 2232, 3383, 2323, 2022, 2975, 1012, 102], [101, 13097, 26393, 2232, 8440, 1005, 1056, 4782, 2003, 22893, 2099, 1012, 102], [101, 25435, 2245, 2008, 2370, 2001, 2183, 2000, 1996, 2252, 1012, 102], [101, 13382, 28201, 3544, 2000, 2219, 1037, 5202, 102], [101, 15340, 4697, 2003, 2026, 5292, 9397, 10458, 3638, 102], [101, 2009, 2003, 3733, 2000, 22889, 4710, 1996, 2175, 18581, 2078, 1012, 102], [101, 1045, 2018, 1996, 4326, 3367, 3110, 2008, 1045, 2354, 2017, 1012, 102], [101, 2054, 2035, 2106, 2017, 2131, 2005, 4234, 1029, 102]]\n"
     ]
    }
   ],
   "source": [
    "# print sentence 0, now as a list of IDs\n",
    "print('Original: ', sentences[0],'\\n')\n",
    "print('Token IDs: ', input_ids)"
   ]
  },
  {
   "cell_type": "markdown",
   "metadata": {
    "id": "X7I6sGX4GkVo"
   },
   "source": [
    "## 3.3. Padding & Truncating"
   ]
  },
  {
   "cell_type": "markdown",
   "metadata": {
    "id": "_ugkUexFGlqh"
   },
   "source": [
    "Pad and truncate our sequences so that they all have the same length, `MAX_LEN`.\n",
    "\n",
    "First, what's the maximum sentence length in our dataset?"
   ]
  },
  {
   "cell_type": "code",
   "execution_count": 18,
   "metadata": {
    "colab": {
     "base_uri": "https://localhost:8080/"
    },
    "id": "RSEtclwMF4Y8",
    "outputId": "f46c4f9c-6077-4b74-fb99-5440a060a578"
   },
   "outputs": [
    {
     "name": "stdout",
     "output_type": "stream",
     "text": [
      "Max sentence length:  47\n"
     ]
    }
   ],
   "source": [
    "print('Max sentence length: ', max([len(sen) for sen in input_ids]))"
   ]
  },
  {
   "cell_type": "markdown",
   "metadata": {
    "id": "7YB0Vn4VHSSN"
   },
   "source": [
    "Given that, let's choose MAX_LEN = 64 and apply the padding."
   ]
  },
  {
   "cell_type": "code",
   "execution_count": 19,
   "metadata": {
    "colab": {
     "base_uri": "https://localhost:8080/"
    },
    "id": "aRTCphLEG7_Y",
    "outputId": "aa78f523-c469-4c70-827c-2fa9f1ab43de"
   },
   "outputs": [
    {
     "name": "stdout",
     "output_type": "stream",
     "text": [
      "\n",
      " Padding/Truncating all sentences to 64 values..\n",
      "\n",
      " Padding token: \"[PAD]\", ID: 0 \n",
      "\n",
      " Done\n"
     ]
    }
   ],
   "source": [
    "# let's use the `pad_sequence` from keras library\n",
    "from keras.preprocessing.sequence import pad_sequences\n",
    "\n",
    "# set the max sequence length\n",
    "# we choose 64 arbitrarily. which is slight larger \n",
    "#than max training sentence len of 47\n",
    "MAX_LEN = 64\n",
    "print('\\n Padding/Truncating all sentences to %d values..' % MAX_LEN)\n",
    "\n",
    "print('\\n Padding token: \"{:}\", ID: {:} '.format(tokenizer.pad_token, tokenizer.pad_token_id))\n",
    "\n",
    "\n",
    "# Pad our input tokens with value 0.\n",
    "# \"post\" indicates that we want to pad and truncate at the end of the sequene\n",
    "# as opposed to the beginning.\n",
    "\n",
    "input_ids = pad_sequences(input_ids, maxlen=MAX_LEN, dtype='long', padding='post', truncating='post', value=0)\n",
    "print('\\n Done')"
   ]
  },
  {
   "cell_type": "code",
   "execution_count": 20,
   "metadata": {
    "colab": {
     "base_uri": "https://localhost:8080/"
    },
    "id": "M54zUMU_IvLB",
    "outputId": "01440b2a-d376-435e-9a2f-ab78c3205622"
   },
   "outputs": [
    {
     "data": {
      "text/plain": [
       "array([[  101,  2256,  2814,  2180,  1005,  1056,  4965,  2023,  4106,\n",
       "         1010,  2292,  2894,  1996,  2279,  2028,  2057, 16599,  1012,\n",
       "          102,     0,     0,     0,     0,     0,     0,     0,     0,\n",
       "            0,     0,     0,     0,     0,     0,     0,     0,     0,\n",
       "            0,     0,     0,     0,     0,     0,     0,     0,     0,\n",
       "            0,     0,     0,     0,     0,     0,     0,     0,     0,\n",
       "            0,     0,     0,     0,     0,     0,     0,     0,     0,\n",
       "            0],\n",
       "       [  101,  2028,  2062, 18404,  2236,  3989,  1998,  1045,  1005,\n",
       "         1049,  3228,  2039,  1012,   102,     0,     0,     0,     0,\n",
       "            0,     0,     0,     0,     0,     0,     0,     0,     0,\n",
       "            0,     0,     0,     0,     0,     0,     0,     0,     0,\n",
       "            0,     0,     0,     0,     0,     0,     0,     0,     0,\n",
       "            0,     0,     0,     0,     0,     0,     0,     0,     0,\n",
       "            0,     0,     0,     0,     0,     0,     0,     0,     0,\n",
       "            0],\n",
       "       [  101,  2028,  2062, 18404,  2236,  3989,  2030,  1045,  1005,\n",
       "         1049,  3228,  2039,  1012,   102,     0,     0,     0,     0,\n",
       "            0,     0,     0,     0,     0,     0,     0,     0,     0,\n",
       "            0,     0,     0,     0,     0,     0,     0,     0,     0,\n",
       "            0,     0,     0,     0,     0,     0,     0,     0,     0,\n",
       "            0,     0,     0,     0,     0,     0,     0,     0,     0,\n",
       "            0,     0,     0,     0,     0,     0,     0,     0,     0,\n",
       "            0]])"
      ]
     },
     "execution_count": 20,
     "metadata": {},
     "output_type": "execute_result"
    }
   ],
   "source": [
    "# sample of our padded IDs\n",
    "input_ids[0:3]"
   ]
  },
  {
   "cell_type": "markdown",
   "metadata": {
    "id": "Fz__WH8BKokU"
   },
   "source": [
    "## 3.4. Attention Masks"
   ]
  },
  {
   "cell_type": "markdown",
   "metadata": {
    "id": "lyBQoUVuKrvU"
   },
   "source": [
    "The attention mask simply makes it explicit which tokens are actual words versus which are padding. \n",
    "\n",
    "The BERT vocabulary does not use the ID 0, so if a token ID is 0, then it's padding, and otherwise it's a real token."
   ]
  },
  {
   "cell_type": "code",
   "execution_count": 21,
   "metadata": {
    "id": "ySaEGgmHKQJN"
   },
   "outputs": [],
   "source": [
    "# Creating attention masks\n",
    "attention_masks = []\n",
    "\n",
    "\n",
    "for sent in input_ids:\n",
    "  # create the attention mask\n",
    "  # - if the token ID is 0, then it's padding, set mask to 0\n",
    "  # if a token ID is >0, the it's a real token set mask to 1\n",
    "  att_mask =  [int(token_id > 0 ) for token_id in sent]\n",
    "\n",
    "  # append to attention_mask \n",
    "  attention_masks.append(att_mask)"
   ]
  },
  {
   "cell_type": "markdown",
   "metadata": {
    "id": "ozSr-OF2L47a"
   },
   "source": [
    "## 3.5. Training & Validation Split\n"
   ]
  },
  {
   "cell_type": "markdown",
   "metadata": {
    "id": "1vwJvO69L-Bj"
   },
   "source": [
    "Divide up our training set to use 90% for training and 10% for validation."
   ]
  },
  {
   "cell_type": "code",
   "execution_count": 22,
   "metadata": {
    "id": "L2HJOuNfLyfx"
   },
   "outputs": [],
   "source": [
    "# Use train_test_split to split our data into train and validation sets for\n",
    "# training\n",
    "from sklearn.model_selection import train_test_split\n",
    "\n",
    "# Use 90% for training and 10% for validation.\n",
    "train_inputs, validation_inputs, train_labels, validation_labels = train_test_split(input_ids, labels, \n",
    "                                                            random_state=2018, test_size=0.1)\n",
    "# Do the same for the masks.\n",
    "train_masks, validation_masks, _, _ = train_test_split(attention_masks, labels,\n",
    "                                             random_state=2018, test_size=0.1)"
   ]
  },
  {
   "cell_type": "markdown",
   "metadata": {
    "id": "0T2L4LU1MS3a"
   },
   "source": [
    "## 3.6. Converting to PyTorch Data Types"
   ]
  },
  {
   "cell_type": "markdown",
   "metadata": {
    "id": "LAtVc8xCopt8"
   },
   "source": [
    "Our model expects PyTorch tensors rather than numpy.ndarrays, so convert all of our dataset variables."
   ]
  },
  {
   "cell_type": "code",
   "execution_count": 23,
   "metadata": {
    "id": "o_v3NdA6ME5c"
   },
   "outputs": [],
   "source": [
    "# Convert all inputs and labels into torch tensors, the required datatype \n",
    "# for our model.\n",
    "train_inputs = torch.tensor(train_inputs)\n",
    "validation_inputs = torch.tensor(validation_inputs)\n",
    "\n",
    "train_labels = torch.tensor(train_labels)\n",
    "validation_labels = torch.tensor(validation_labels)\n",
    "\n",
    "train_masks = torch.tensor(train_masks)\n",
    "validation_masks = torch.tensor(validation_masks)"
   ]
  },
  {
   "cell_type": "markdown",
   "metadata": {
    "id": "iNwNa7rGpm4t"
   },
   "source": [
    "We'll also create an iterator for our dataset using the `torch DataLoader` class. This helps save on memory during training because, unlike a for loop, with an iterator the entire dataset does not need to be loaded into memory."
   ]
  },
  {
   "cell_type": "code",
   "execution_count": 24,
   "metadata": {
    "id": "Akm81RiApZ0T"
   },
   "outputs": [],
   "source": [
    "from torch.utils.data import TensorDataset, DataLoader, RandomSampler, SequentialSampler\n",
    "\n",
    "# The DataLoader needs to know our batch size for training, so we specify it \n",
    "# here.\n",
    "# For fine-tuning BERT on a specific task, the authors recommend a batch size of\n",
    "# 16 or 32.\n",
    "\n",
    "batch_size = 32\n",
    "\n",
    "# Create the DataLoader for our trainin set\n",
    "\n",
    "train_data = TensorDataset(train_inputs, train_masks, train_labels)\n",
    "train_sampler = RandomSampler(train_data)\n",
    "train_dataloader = DataLoader(train_data, sampler=train_sampler, batch_size = batch_size)\n",
    "\n",
    "# Create the DataLoader for our validation set\n",
    "\n",
    "validation_data = TensorDataset(validation_inputs, validation_masks, validation_labels)\n",
    "validation_sampler = SequentialSampler(validation_data)\n",
    "validation_dataloader = DataLoader(validation_data, sampler=validation_sampler, batch_size = batch_size)"
   ]
  },
  {
   "cell_type": "markdown",
   "metadata": {
    "id": "zo216Lddr-2H"
   },
   "source": [
    "# 4. Train Our Classification Model\n",
    "\n",
    "Now that our input data is properly formatted, it's time to fine tune the BERT model. "
   ]
  },
  {
   "cell_type": "markdown",
   "metadata": {
    "id": "Z1Ia38LisZdL"
   },
   "source": [
    "## 4.1. BertForSequenceClassification"
   ]
  },
  {
   "cell_type": "markdown",
   "metadata": {
    "id": "DRt4fd5_s39w"
   },
   "source": [
    "For this task, we first want to modify the pre-trained BERT model to give outputs for classification, and then we want to continue training the model on our dataset until that the entire model, end-to-end, is well-suited for our task. \n",
    "\n",
    "Thankfully, the huggingface pytorch implementation includes a set of interfaces designed for a variety of NLP tasks. Though these interfaces are all built on top of a trained BERT model, each has different top layers and output types designed to accomodate their specific NLP task.  \n",
    "\n",
    "Here is the current list of classes provided for fine-tuning:\n",
    "* BertModel\n",
    "* BertForPreTraining\n",
    "* BertForMaskedLM\n",
    "* BertForNextSentencePrediction\n",
    "* **BertForSequenceClassification** - The one we'll use.\n",
    "* BertForTokenClassification\n",
    "* BertForQuestionAnswering\n",
    "\n",
    "The documentation for these can be found under [here](https://huggingface.co/transformers/v2.2.0/model_doc/bert.html)."
   ]
  },
  {
   "cell_type": "markdown",
   "metadata": {
    "id": "1SKbJtzHtANm"
   },
   "source": [
    "\n",
    "\n",
    "We'll be using [BertForSequenceClassification](https://huggingface.co/transformers/v2.2.0/model_doc/bert.html#bertforsequenceclassification). This is the normal BERT model with an added single linear layer on top for classification that we will use as a sentence classifier. As we feed input data, the entire pre-trained BERT model and the additional untrained classification layer is trained on our specific task. \n"
   ]
  },
  {
   "cell_type": "markdown",
   "metadata": {
    "id": "q0Vk14P1vJoO"
   },
   "source": [
    "OK, let's load BERT! There are a few different pre-trained BERT models available. \"bert-base-uncased\" means the version that has only lowercase letters (\"uncased\") and is the smaller version of the two (\"base\" vs \"large\").\n",
    "\n",
    "The documentation for `from_pretrained` can be found [here](https://huggingface.co/transformers/v2.2.0/main_classes/model.html#transformers.PreTrainedModel.from_pretrained), with the additional parameters defined [here](https://huggingface.co/transformers/v2.2.0/main_classes/configuration.html#transformers.PretrainedConfig)."
   ]
  },
  {
   "cell_type": "code",
   "execution_count": 25,
   "metadata": {
    "id": "9LKpOiuVq3VH"
   },
   "outputs": [],
   "source": [
    "from transformers import BertForSequenceClassification, AdamW, BertConfig\n"
   ]
  },
  {
   "cell_type": "code",
   "execution_count": 26,
   "metadata": {
    "colab": {
     "base_uri": "https://localhost:8080/",
     "height": 1000,
     "referenced_widgets": [
      "1eec93e070034d159d9286e6088a1754",
      "887f342c9a5646acb14dbe7168e0ce7b",
      "63afff1f45c3416281f3d0ddde5fa609",
      "23f628574d314ac18c1f76a2d55a15be",
      "293e972265574bc490c1e16158423202",
      "bbdb529a782a40549fce2e566effa671",
      "2ff8c6026c5b4d3b82caaf237ff2d6e8",
      "26591470f58d43c79e06f4b3b1d8558b",
      "16ccc3d825db4779aab9c7495107c962",
      "673b89fd4296465d95205fe1b699748d",
      "e3c13842395a49a2ac8f40ea51fe7bc1"
     ]
    },
    "id": "cFINd35qr6lY",
    "outputId": "b81b3ce4-1ec8-4f8c-a4ab-eafff38004db"
   },
   "outputs": [
    {
     "data": {
      "application/vnd.jupyter.widget-view+json": {
       "model_id": "1eec93e070034d159d9286e6088a1754",
       "version_major": 2,
       "version_minor": 0
      },
      "text/plain": [
       "Downloading:   0%|          | 0.00/420M [00:00<?, ?B/s]"
      ]
     },
     "metadata": {},
     "output_type": "display_data"
    },
    {
     "name": "stderr",
     "output_type": "stream",
     "text": [
      "Some weights of the model checkpoint at bert-base-uncased were not used when initializing BertForSequenceClassification: ['cls.predictions.transform.LayerNorm.bias', 'cls.predictions.transform.dense.bias', 'cls.seq_relationship.bias', 'cls.predictions.decoder.weight', 'cls.predictions.transform.LayerNorm.weight', 'cls.seq_relationship.weight', 'cls.predictions.bias', 'cls.predictions.transform.dense.weight']\n",
      "- This IS expected if you are initializing BertForSequenceClassification from the checkpoint of a model trained on another task or with another architecture (e.g. initializing a BertForSequenceClassification model from a BertForPreTraining model).\n",
      "- This IS NOT expected if you are initializing BertForSequenceClassification from the checkpoint of a model that you expect to be exactly identical (initializing a BertForSequenceClassification model from a BertForSequenceClassification model).\n",
      "Some weights of BertForSequenceClassification were not initialized from the model checkpoint at bert-base-uncased and are newly initialized: ['classifier.weight', 'classifier.bias']\n",
      "You should probably TRAIN this model on a down-stream task to be able to use it for predictions and inference.\n"
     ]
    },
    {
     "data": {
      "text/plain": [
       "BertForSequenceClassification(\n",
       "  (bert): BertModel(\n",
       "    (embeddings): BertEmbeddings(\n",
       "      (word_embeddings): Embedding(30522, 768, padding_idx=0)\n",
       "      (position_embeddings): Embedding(512, 768)\n",
       "      (token_type_embeddings): Embedding(2, 768)\n",
       "      (LayerNorm): LayerNorm((768,), eps=1e-12, elementwise_affine=True)\n",
       "      (dropout): Dropout(p=0.1, inplace=False)\n",
       "    )\n",
       "    (encoder): BertEncoder(\n",
       "      (layer): ModuleList(\n",
       "        (0): BertLayer(\n",
       "          (attention): BertAttention(\n",
       "            (self): BertSelfAttention(\n",
       "              (query): Linear(in_features=768, out_features=768, bias=True)\n",
       "              (key): Linear(in_features=768, out_features=768, bias=True)\n",
       "              (value): Linear(in_features=768, out_features=768, bias=True)\n",
       "              (dropout): Dropout(p=0.1, inplace=False)\n",
       "            )\n",
       "            (output): BertSelfOutput(\n",
       "              (dense): Linear(in_features=768, out_features=768, bias=True)\n",
       "              (LayerNorm): LayerNorm((768,), eps=1e-12, elementwise_affine=True)\n",
       "              (dropout): Dropout(p=0.1, inplace=False)\n",
       "            )\n",
       "          )\n",
       "          (intermediate): BertIntermediate(\n",
       "            (dense): Linear(in_features=768, out_features=3072, bias=True)\n",
       "            (intermediate_act_fn): GELUActivation()\n",
       "          )\n",
       "          (output): BertOutput(\n",
       "            (dense): Linear(in_features=3072, out_features=768, bias=True)\n",
       "            (LayerNorm): LayerNorm((768,), eps=1e-12, elementwise_affine=True)\n",
       "            (dropout): Dropout(p=0.1, inplace=False)\n",
       "          )\n",
       "        )\n",
       "        (1): BertLayer(\n",
       "          (attention): BertAttention(\n",
       "            (self): BertSelfAttention(\n",
       "              (query): Linear(in_features=768, out_features=768, bias=True)\n",
       "              (key): Linear(in_features=768, out_features=768, bias=True)\n",
       "              (value): Linear(in_features=768, out_features=768, bias=True)\n",
       "              (dropout): Dropout(p=0.1, inplace=False)\n",
       "            )\n",
       "            (output): BertSelfOutput(\n",
       "              (dense): Linear(in_features=768, out_features=768, bias=True)\n",
       "              (LayerNorm): LayerNorm((768,), eps=1e-12, elementwise_affine=True)\n",
       "              (dropout): Dropout(p=0.1, inplace=False)\n",
       "            )\n",
       "          )\n",
       "          (intermediate): BertIntermediate(\n",
       "            (dense): Linear(in_features=768, out_features=3072, bias=True)\n",
       "            (intermediate_act_fn): GELUActivation()\n",
       "          )\n",
       "          (output): BertOutput(\n",
       "            (dense): Linear(in_features=3072, out_features=768, bias=True)\n",
       "            (LayerNorm): LayerNorm((768,), eps=1e-12, elementwise_affine=True)\n",
       "            (dropout): Dropout(p=0.1, inplace=False)\n",
       "          )\n",
       "        )\n",
       "        (2): BertLayer(\n",
       "          (attention): BertAttention(\n",
       "            (self): BertSelfAttention(\n",
       "              (query): Linear(in_features=768, out_features=768, bias=True)\n",
       "              (key): Linear(in_features=768, out_features=768, bias=True)\n",
       "              (value): Linear(in_features=768, out_features=768, bias=True)\n",
       "              (dropout): Dropout(p=0.1, inplace=False)\n",
       "            )\n",
       "            (output): BertSelfOutput(\n",
       "              (dense): Linear(in_features=768, out_features=768, bias=True)\n",
       "              (LayerNorm): LayerNorm((768,), eps=1e-12, elementwise_affine=True)\n",
       "              (dropout): Dropout(p=0.1, inplace=False)\n",
       "            )\n",
       "          )\n",
       "          (intermediate): BertIntermediate(\n",
       "            (dense): Linear(in_features=768, out_features=3072, bias=True)\n",
       "            (intermediate_act_fn): GELUActivation()\n",
       "          )\n",
       "          (output): BertOutput(\n",
       "            (dense): Linear(in_features=3072, out_features=768, bias=True)\n",
       "            (LayerNorm): LayerNorm((768,), eps=1e-12, elementwise_affine=True)\n",
       "            (dropout): Dropout(p=0.1, inplace=False)\n",
       "          )\n",
       "        )\n",
       "        (3): BertLayer(\n",
       "          (attention): BertAttention(\n",
       "            (self): BertSelfAttention(\n",
       "              (query): Linear(in_features=768, out_features=768, bias=True)\n",
       "              (key): Linear(in_features=768, out_features=768, bias=True)\n",
       "              (value): Linear(in_features=768, out_features=768, bias=True)\n",
       "              (dropout): Dropout(p=0.1, inplace=False)\n",
       "            )\n",
       "            (output): BertSelfOutput(\n",
       "              (dense): Linear(in_features=768, out_features=768, bias=True)\n",
       "              (LayerNorm): LayerNorm((768,), eps=1e-12, elementwise_affine=True)\n",
       "              (dropout): Dropout(p=0.1, inplace=False)\n",
       "            )\n",
       "          )\n",
       "          (intermediate): BertIntermediate(\n",
       "            (dense): Linear(in_features=768, out_features=3072, bias=True)\n",
       "            (intermediate_act_fn): GELUActivation()\n",
       "          )\n",
       "          (output): BertOutput(\n",
       "            (dense): Linear(in_features=3072, out_features=768, bias=True)\n",
       "            (LayerNorm): LayerNorm((768,), eps=1e-12, elementwise_affine=True)\n",
       "            (dropout): Dropout(p=0.1, inplace=False)\n",
       "          )\n",
       "        )\n",
       "        (4): BertLayer(\n",
       "          (attention): BertAttention(\n",
       "            (self): BertSelfAttention(\n",
       "              (query): Linear(in_features=768, out_features=768, bias=True)\n",
       "              (key): Linear(in_features=768, out_features=768, bias=True)\n",
       "              (value): Linear(in_features=768, out_features=768, bias=True)\n",
       "              (dropout): Dropout(p=0.1, inplace=False)\n",
       "            )\n",
       "            (output): BertSelfOutput(\n",
       "              (dense): Linear(in_features=768, out_features=768, bias=True)\n",
       "              (LayerNorm): LayerNorm((768,), eps=1e-12, elementwise_affine=True)\n",
       "              (dropout): Dropout(p=0.1, inplace=False)\n",
       "            )\n",
       "          )\n",
       "          (intermediate): BertIntermediate(\n",
       "            (dense): Linear(in_features=768, out_features=3072, bias=True)\n",
       "            (intermediate_act_fn): GELUActivation()\n",
       "          )\n",
       "          (output): BertOutput(\n",
       "            (dense): Linear(in_features=3072, out_features=768, bias=True)\n",
       "            (LayerNorm): LayerNorm((768,), eps=1e-12, elementwise_affine=True)\n",
       "            (dropout): Dropout(p=0.1, inplace=False)\n",
       "          )\n",
       "        )\n",
       "        (5): BertLayer(\n",
       "          (attention): BertAttention(\n",
       "            (self): BertSelfAttention(\n",
       "              (query): Linear(in_features=768, out_features=768, bias=True)\n",
       "              (key): Linear(in_features=768, out_features=768, bias=True)\n",
       "              (value): Linear(in_features=768, out_features=768, bias=True)\n",
       "              (dropout): Dropout(p=0.1, inplace=False)\n",
       "            )\n",
       "            (output): BertSelfOutput(\n",
       "              (dense): Linear(in_features=768, out_features=768, bias=True)\n",
       "              (LayerNorm): LayerNorm((768,), eps=1e-12, elementwise_affine=True)\n",
       "              (dropout): Dropout(p=0.1, inplace=False)\n",
       "            )\n",
       "          )\n",
       "          (intermediate): BertIntermediate(\n",
       "            (dense): Linear(in_features=768, out_features=3072, bias=True)\n",
       "            (intermediate_act_fn): GELUActivation()\n",
       "          )\n",
       "          (output): BertOutput(\n",
       "            (dense): Linear(in_features=3072, out_features=768, bias=True)\n",
       "            (LayerNorm): LayerNorm((768,), eps=1e-12, elementwise_affine=True)\n",
       "            (dropout): Dropout(p=0.1, inplace=False)\n",
       "          )\n",
       "        )\n",
       "        (6): BertLayer(\n",
       "          (attention): BertAttention(\n",
       "            (self): BertSelfAttention(\n",
       "              (query): Linear(in_features=768, out_features=768, bias=True)\n",
       "              (key): Linear(in_features=768, out_features=768, bias=True)\n",
       "              (value): Linear(in_features=768, out_features=768, bias=True)\n",
       "              (dropout): Dropout(p=0.1, inplace=False)\n",
       "            )\n",
       "            (output): BertSelfOutput(\n",
       "              (dense): Linear(in_features=768, out_features=768, bias=True)\n",
       "              (LayerNorm): LayerNorm((768,), eps=1e-12, elementwise_affine=True)\n",
       "              (dropout): Dropout(p=0.1, inplace=False)\n",
       "            )\n",
       "          )\n",
       "          (intermediate): BertIntermediate(\n",
       "            (dense): Linear(in_features=768, out_features=3072, bias=True)\n",
       "            (intermediate_act_fn): GELUActivation()\n",
       "          )\n",
       "          (output): BertOutput(\n",
       "            (dense): Linear(in_features=3072, out_features=768, bias=True)\n",
       "            (LayerNorm): LayerNorm((768,), eps=1e-12, elementwise_affine=True)\n",
       "            (dropout): Dropout(p=0.1, inplace=False)\n",
       "          )\n",
       "        )\n",
       "        (7): BertLayer(\n",
       "          (attention): BertAttention(\n",
       "            (self): BertSelfAttention(\n",
       "              (query): Linear(in_features=768, out_features=768, bias=True)\n",
       "              (key): Linear(in_features=768, out_features=768, bias=True)\n",
       "              (value): Linear(in_features=768, out_features=768, bias=True)\n",
       "              (dropout): Dropout(p=0.1, inplace=False)\n",
       "            )\n",
       "            (output): BertSelfOutput(\n",
       "              (dense): Linear(in_features=768, out_features=768, bias=True)\n",
       "              (LayerNorm): LayerNorm((768,), eps=1e-12, elementwise_affine=True)\n",
       "              (dropout): Dropout(p=0.1, inplace=False)\n",
       "            )\n",
       "          )\n",
       "          (intermediate): BertIntermediate(\n",
       "            (dense): Linear(in_features=768, out_features=3072, bias=True)\n",
       "            (intermediate_act_fn): GELUActivation()\n",
       "          )\n",
       "          (output): BertOutput(\n",
       "            (dense): Linear(in_features=3072, out_features=768, bias=True)\n",
       "            (LayerNorm): LayerNorm((768,), eps=1e-12, elementwise_affine=True)\n",
       "            (dropout): Dropout(p=0.1, inplace=False)\n",
       "          )\n",
       "        )\n",
       "        (8): BertLayer(\n",
       "          (attention): BertAttention(\n",
       "            (self): BertSelfAttention(\n",
       "              (query): Linear(in_features=768, out_features=768, bias=True)\n",
       "              (key): Linear(in_features=768, out_features=768, bias=True)\n",
       "              (value): Linear(in_features=768, out_features=768, bias=True)\n",
       "              (dropout): Dropout(p=0.1, inplace=False)\n",
       "            )\n",
       "            (output): BertSelfOutput(\n",
       "              (dense): Linear(in_features=768, out_features=768, bias=True)\n",
       "              (LayerNorm): LayerNorm((768,), eps=1e-12, elementwise_affine=True)\n",
       "              (dropout): Dropout(p=0.1, inplace=False)\n",
       "            )\n",
       "          )\n",
       "          (intermediate): BertIntermediate(\n",
       "            (dense): Linear(in_features=768, out_features=3072, bias=True)\n",
       "            (intermediate_act_fn): GELUActivation()\n",
       "          )\n",
       "          (output): BertOutput(\n",
       "            (dense): Linear(in_features=3072, out_features=768, bias=True)\n",
       "            (LayerNorm): LayerNorm((768,), eps=1e-12, elementwise_affine=True)\n",
       "            (dropout): Dropout(p=0.1, inplace=False)\n",
       "          )\n",
       "        )\n",
       "        (9): BertLayer(\n",
       "          (attention): BertAttention(\n",
       "            (self): BertSelfAttention(\n",
       "              (query): Linear(in_features=768, out_features=768, bias=True)\n",
       "              (key): Linear(in_features=768, out_features=768, bias=True)\n",
       "              (value): Linear(in_features=768, out_features=768, bias=True)\n",
       "              (dropout): Dropout(p=0.1, inplace=False)\n",
       "            )\n",
       "            (output): BertSelfOutput(\n",
       "              (dense): Linear(in_features=768, out_features=768, bias=True)\n",
       "              (LayerNorm): LayerNorm((768,), eps=1e-12, elementwise_affine=True)\n",
       "              (dropout): Dropout(p=0.1, inplace=False)\n",
       "            )\n",
       "          )\n",
       "          (intermediate): BertIntermediate(\n",
       "            (dense): Linear(in_features=768, out_features=3072, bias=True)\n",
       "            (intermediate_act_fn): GELUActivation()\n",
       "          )\n",
       "          (output): BertOutput(\n",
       "            (dense): Linear(in_features=3072, out_features=768, bias=True)\n",
       "            (LayerNorm): LayerNorm((768,), eps=1e-12, elementwise_affine=True)\n",
       "            (dropout): Dropout(p=0.1, inplace=False)\n",
       "          )\n",
       "        )\n",
       "        (10): BertLayer(\n",
       "          (attention): BertAttention(\n",
       "            (self): BertSelfAttention(\n",
       "              (query): Linear(in_features=768, out_features=768, bias=True)\n",
       "              (key): Linear(in_features=768, out_features=768, bias=True)\n",
       "              (value): Linear(in_features=768, out_features=768, bias=True)\n",
       "              (dropout): Dropout(p=0.1, inplace=False)\n",
       "            )\n",
       "            (output): BertSelfOutput(\n",
       "              (dense): Linear(in_features=768, out_features=768, bias=True)\n",
       "              (LayerNorm): LayerNorm((768,), eps=1e-12, elementwise_affine=True)\n",
       "              (dropout): Dropout(p=0.1, inplace=False)\n",
       "            )\n",
       "          )\n",
       "          (intermediate): BertIntermediate(\n",
       "            (dense): Linear(in_features=768, out_features=3072, bias=True)\n",
       "            (intermediate_act_fn): GELUActivation()\n",
       "          )\n",
       "          (output): BertOutput(\n",
       "            (dense): Linear(in_features=3072, out_features=768, bias=True)\n",
       "            (LayerNorm): LayerNorm((768,), eps=1e-12, elementwise_affine=True)\n",
       "            (dropout): Dropout(p=0.1, inplace=False)\n",
       "          )\n",
       "        )\n",
       "        (11): BertLayer(\n",
       "          (attention): BertAttention(\n",
       "            (self): BertSelfAttention(\n",
       "              (query): Linear(in_features=768, out_features=768, bias=True)\n",
       "              (key): Linear(in_features=768, out_features=768, bias=True)\n",
       "              (value): Linear(in_features=768, out_features=768, bias=True)\n",
       "              (dropout): Dropout(p=0.1, inplace=False)\n",
       "            )\n",
       "            (output): BertSelfOutput(\n",
       "              (dense): Linear(in_features=768, out_features=768, bias=True)\n",
       "              (LayerNorm): LayerNorm((768,), eps=1e-12, elementwise_affine=True)\n",
       "              (dropout): Dropout(p=0.1, inplace=False)\n",
       "            )\n",
       "          )\n",
       "          (intermediate): BertIntermediate(\n",
       "            (dense): Linear(in_features=768, out_features=3072, bias=True)\n",
       "            (intermediate_act_fn): GELUActivation()\n",
       "          )\n",
       "          (output): BertOutput(\n",
       "            (dense): Linear(in_features=3072, out_features=768, bias=True)\n",
       "            (LayerNorm): LayerNorm((768,), eps=1e-12, elementwise_affine=True)\n",
       "            (dropout): Dropout(p=0.1, inplace=False)\n",
       "          )\n",
       "        )\n",
       "      )\n",
       "    )\n",
       "    (pooler): BertPooler(\n",
       "      (dense): Linear(in_features=768, out_features=768, bias=True)\n",
       "      (activation): Tanh()\n",
       "    )\n",
       "  )\n",
       "  (dropout): Dropout(p=0.1, inplace=False)\n",
       "  (classifier): Linear(in_features=768, out_features=2, bias=True)\n",
       ")"
      ]
     },
     "execution_count": 26,
     "metadata": {},
     "output_type": "execute_result"
    }
   ],
   "source": [
    "# Load BertForSequenceClassification, the pretrained BERT model with a single\n",
    "# linear classification layer on top\n",
    "\n",
    "model = BertForSequenceClassification.from_pretrained(\n",
    "    'bert-base-uncased', # use the 12-layer BERT model, with an uncased vocab\n",
    "    num_labels =2, # the number of output labels is 2 for binary classification\n",
    "\n",
    "    output_attentions = False, # whether the model returns attention weights\n",
    "    output_hidden_states = False # whether the model returns hidden-states\n",
    ")\n",
    "\n",
    "# Tell pytorch to run this model on the GPU\n",
    "model.cuda()"
   ]
  },
  {
   "cell_type": "markdown",
   "metadata": {
    "id": "OJdylyDIw0KV"
   },
   "source": [
    "## model's parameters by name.\n",
    "\n",
    "In the below cell, I've printed out the names and dimensions of the weights for:\n",
    "\n",
    "1. The embedding layer.\n",
    "2. The first of the twelve transformers.\n",
    "3. The output layer."
   ]
  },
  {
   "cell_type": "code",
   "execution_count": 27,
   "metadata": {
    "colab": {
     "base_uri": "https://localhost:8080/"
    },
    "id": "gK2lTQ3Rwovl",
    "outputId": "bbc134d2-caef-4145-c343-8aa679d49c63"
   },
   "outputs": [
    {
     "name": "stdout",
     "output_type": "stream",
     "text": [
      "The BERT model has 201 different named parameters.\n",
      "\n",
      "=== Embedding Layer ===\n",
      "\n",
      "bert.embeddings.word_embeddings.weight                  (30522, 768)\n",
      "bert.embeddings.position_embeddings.weight              (512, 768)  \n",
      "bert.embeddings.token_type_embeddings.weight            (2, 768)    \n",
      "bert.embeddings.LayerNorm.weight                        (768,)      \n",
      "bert.embeddings.LayerNorm.bias                          (768,)      \n",
      "\n",
      "==== First Transformer ====\n",
      "\n",
      "bert.encoder.layer.0.attention.self.query.weight        (768, 768)  \n",
      "bert.encoder.layer.0.attention.self.query.bias          (768,)      \n",
      "bert.encoder.layer.0.attention.self.key.weight          (768, 768)  \n",
      "bert.encoder.layer.0.attention.self.key.bias            (768,)      \n",
      "bert.encoder.layer.0.attention.self.value.weight        (768, 768)  \n",
      "bert.encoder.layer.0.attention.self.value.bias          (768,)      \n",
      "bert.encoder.layer.0.attention.output.dense.weight      (768, 768)  \n",
      "bert.encoder.layer.0.attention.output.dense.bias        (768,)      \n",
      "bert.encoder.layer.0.attention.output.LayerNorm.weight  (768,)      \n",
      "bert.encoder.layer.0.attention.output.LayerNorm.bias    (768,)      \n",
      "bert.encoder.layer.0.intermediate.dense.weight          (3072, 768) \n",
      "bert.encoder.layer.0.intermediate.dense.bias            (3072,)     \n",
      "bert.encoder.layer.0.output.dense.weight                (768, 3072) \n",
      "bert.encoder.layer.0.output.dense.bias                  (768,)      \n",
      "bert.encoder.layer.0.output.LayerNorm.weight            (768,)      \n",
      "bert.encoder.layer.0.output.LayerNorm.bias              (768,)      \n",
      "\n",
      "==== Output Layer ====\n",
      "\n",
      "bert.pooler.dense.weight                                  (768, 768)\n",
      "bert.pooler.dense.bias                                        (768,)\n",
      "classifier.weight                                           (2, 768)\n",
      "classifier.bias                                                 (2,)\n"
     ]
    }
   ],
   "source": [
    "# Print all the model's parameters as a list of tuples\n",
    "params = list(model.named_parameters())\n",
    "print('The BERT model has {:} different named parameters.\\n'.format(len(params)))\n",
    "\n",
    "print('=== Embedding Layer ===\\n')\n",
    "\n",
    "for p in params[0:5]:\n",
    "  print(\"{:<55} {:<12}\".format(p[0], str(tuple(p[1].size()))))\n",
    "\n",
    "print('\\n==== First Transformer ====\\n')\n",
    "\n",
    "for p in params[5:21]:\n",
    "  print(\"{:<55} {:<12}\".format(p[0], str(tuple(p[1].size()))))\n",
    "\n",
    "print('\\n==== Output Layer ====\\n')\n",
    "\n",
    "for p in params[-4:]:\n",
    "    print(\"{:<55} {:>12}\".format(p[0], str(tuple(p[1].size()))))"
   ]
  },
  {
   "cell_type": "markdown",
   "metadata": {
    "id": "7JfQP6Jgz09P"
   },
   "source": [
    "## 4.2. Optimizer & Learning Rate Scheduler"
   ]
  },
  {
   "cell_type": "markdown",
   "metadata": {
    "id": "IMCfaMSFz-Oh"
   },
   "source": [
    "Now that we have our model loaded we need to grab the training hyperparameters from within the stored model.\n",
    "\n",
    "For the purposes of fine-tuning, the authors recommend choosing from the following values:\n",
    "- Batch size: 16, 32  (We chose 32 when creating our DataLoaders).\n",
    "- Learning rate (Adam): 5e-5, 3e-5, 2e-5  (We'll use 2e-5).\n",
    "- Number of epochs: 2, 3, 4  (We'll use 4).\n",
    "\n",
    "The epsilon parameter `eps = 1e-8` is \"a very small number to prevent any division by zero in the implementation\" (from [here](https://machinelearningmastery.com/adam-optimization-algorithm-for-deep-learning/)).\n",
    "\n",
    "You can find the creation of the AdamW optimizer in `run_glue.py` [here](https://github.com/huggingface/transformers/blob/5bfcd0485ece086ebcbed2d008813037968a9e58/examples/run_glue.py#L109)."
   ]
  },
  {
   "cell_type": "code",
   "execution_count": 28,
   "metadata": {
    "colab": {
     "base_uri": "https://localhost:8080/"
    },
    "id": "5Mc-BCYfznuY",
    "outputId": "36b6c6c6-6b4e-4cc2-8a27-f430385c9e0a"
   },
   "outputs": [
    {
     "name": "stderr",
     "output_type": "stream",
     "text": [
      "/usr/local/lib/python3.7/dist-packages/transformers/optimization.py:309: FutureWarning: This implementation of AdamW is deprecated and will be removed in a future version. Use the PyTorch implementation torch.optim.AdamW instead, or set `no_deprecation_warning=True` to disable this warning\n",
      "  FutureWarning,\n"
     ]
    }
   ],
   "source": [
    "# Note: AdamW is a class from the huggingface library (as opposed to pytorch) \n",
    "# I believe the 'W' stands for 'Weight Decay fix\"\n",
    "optimizer = AdamW(model.parameters(),\n",
    "                  lr = 2e-5, # args.learning_rate - default is 5e-5, our notebook had 2e-5\n",
    "                  eps = 1e-8 # args.adam_epsilon  - default is 1e-8.\n",
    "                  )"
   ]
  },
  {
   "cell_type": "code",
   "execution_count": 36,
   "metadata": {
    "id": "CFSzY5Cx5bG7"
   },
   "outputs": [],
   "source": [
    "from transformers import get_linear_schedule_with_warmup\n",
    "\n",
    "# Number of training epochs (authors recommend between 2 and 4)\n",
    "epochs = 10\n",
    "\n",
    "# Total number of training steps is number of batches * number of epochs.\n",
    "total_steps = len(train_dataloader) * epochs\n",
    "\n",
    "# Create the learning rate scheduler.\n",
    "scheduler = get_linear_schedule_with_warmup(optimizer, \n",
    "                                            num_warmup_steps = 0, # Default value in run_glue.py\n",
    "                                            num_training_steps = total_steps)"
   ]
  },
  {
   "cell_type": "markdown",
   "metadata": {
    "id": "QIp7-hmX59gd"
   },
   "source": [
    "## 4.3. Training Loop"
   ]
  },
  {
   "cell_type": "markdown",
   "metadata": {
    "id": "-FyriiHQOd7y"
   },
   "source": [
    "Below is our training loop. There's a lot going on, but fundamentally for each pass in our loop we have a trianing phase and a validation phase. At each pass we need to:\n",
    "\n",
    "Training loop:\n",
    "- Unpack our data inputs and labels\n",
    "- Load data onto the GPU for acceleration\n",
    "- Clear out the gradients calculated in the previous pass. \n",
    "    - In pytorch the gradients accumulate by default (useful for things like RNNs) unless you explicitly clear them out.\n",
    "- Forward pass (feed input data through the network)\n",
    "- Backward pass (backpropagation)\n",
    "- Tell the network to update parameters with optimizer.step()\n",
    "- Track variables for monitoring progress\n",
    "\n",
    "Evalution loop:\n",
    "- Unpack our data inputs and labels\n",
    "- Load data onto the GPU for acceleration\n",
    "- Forward pass (feed input data through the network)\n",
    "- Compute loss on our validation data and track variables for monitoring progress\n",
    "\n",
    "So please read carefully through the comments to get an understanding of what's happening. If you're unfamiliar with pytorch a quick look at some of their [beginner tutorials](https://pytorch.org/tutorials/beginner/blitz/cifar10_tutorial.html#sphx-glr-beginner-blitz-cifar10-tutorial-py) will help show you that training loops really involve only a few simple steps; the rest is usually just decoration and logging.  "
   ]
  },
  {
   "cell_type": "markdown",
   "metadata": {
    "id": "Y8aV2tdsOxIM"
   },
   "source": [
    "Define a **helper function** for calculating accuracy."
   ]
  },
  {
   "cell_type": "code",
   "execution_count": 37,
   "metadata": {
    "id": "DUSBGk0Y5ubJ"
   },
   "outputs": [],
   "source": [
    "import numpy as np"
   ]
  },
  {
   "cell_type": "code",
   "execution_count": 38,
   "metadata": {
    "id": "Lhd-oZ77O93Q"
   },
   "outputs": [],
   "source": [
    "# function to calculate the accuracy of our prediction vs label\n",
    "def flat_accuracy(preds, labels):\n",
    "  pred_flat = np.argmax(preds, axis=1).flatten()\n",
    "  labels_flat = labels.flatten()\n",
    "  return np.sum(pred_flat == labels_flat) / len(labels_flat)"
   ]
  },
  {
   "cell_type": "markdown",
   "metadata": {
    "id": "BLHCrMnTP81j"
   },
   "source": [
    "***Helper function*** for formatting elapsed times.\n"
   ]
  },
  {
   "cell_type": "code",
   "execution_count": 39,
   "metadata": {
    "id": "bY9_33L7P5jN"
   },
   "outputs": [],
   "source": [
    "import time \n",
    "import datetime\n",
    "\n",
    "def format_time(elapsed):\n",
    "  '''\n",
    "  Takes a time in seconds and returns a string hh::mm::ss\n",
    "  '''\n",
    "  #Round to the nearest second\n",
    "  elapsed_rounded = int(round((elapsed)))\n",
    "\n",
    "  # format as hh:mm:ss\n",
    "  return str(datetime.timedelta(seconds = elapsed_rounded))\n"
   ]
  },
  {
   "cell_type": "markdown",
   "metadata": {
    "id": "gk7KUXnTSBVo"
   },
   "source": [
    "We're ready to kick off the training!"
   ]
  },
  {
   "cell_type": "code",
   "execution_count": 40,
   "metadata": {
    "colab": {
     "base_uri": "https://localhost:8080/"
    },
    "id": "37QlLgiJR9n4",
    "outputId": "7ffe22e6-0969-4d8e-99c0-1bf18194f2e2"
   },
   "outputs": [
    {
     "name": "stdout",
     "output_type": "stream",
     "text": [
      "\n",
      "========Epoch 1 / 10 ======\n",
      "Training......\n",
      " Batch    40 of   241. Elapsed: 0:00:00.\n",
      " Batch    80 of   241. Elapsed: 0:00:00.\n",
      " Batch   120 of   241. Elapsed: 0:00:01.\n",
      " Batch   160 of   241. Elapsed: 0:00:01.\n",
      " Batch   200 of   241. Elapsed: 0:00:01.\n",
      " Batch   240 of   241. Elapsed: 0:00:02.\n",
      "\n",
      "  Average training loss: 0.01\n",
      "  Training epcoh took: 0:00:02\n",
      "\n",
      "Running Validation...\n",
      "  Accuracy: 0.69\n",
      "  Validation took: 0:00:03\n",
      "\n",
      "========Epoch 2 / 10 ======\n",
      "Training......\n",
      " Batch    40 of   241. Elapsed: 0:00:00.\n",
      " Batch    80 of   241. Elapsed: 0:00:00.\n",
      " Batch   120 of   241. Elapsed: 0:00:01.\n",
      " Batch   160 of   241. Elapsed: 0:00:01.\n",
      " Batch   200 of   241. Elapsed: 0:00:01.\n",
      " Batch   240 of   241. Elapsed: 0:00:02.\n",
      "\n",
      "  Average training loss: 0.01\n",
      "  Training epcoh took: 0:00:02\n",
      "\n",
      "Running Validation...\n",
      "  Accuracy: 0.69\n",
      "  Validation took: 0:00:03\n",
      "\n",
      "========Epoch 3 / 10 ======\n",
      "Training......\n",
      " Batch    40 of   241. Elapsed: 0:00:00.\n",
      " Batch    80 of   241. Elapsed: 0:00:00.\n",
      " Batch   120 of   241. Elapsed: 0:00:01.\n",
      " Batch   160 of   241. Elapsed: 0:00:01.\n",
      " Batch   200 of   241. Elapsed: 0:00:01.\n",
      " Batch   240 of   241. Elapsed: 0:00:02.\n",
      "\n",
      "  Average training loss: 0.01\n",
      "  Training epcoh took: 0:00:02\n",
      "\n",
      "Running Validation...\n",
      "  Accuracy: 0.71\n",
      "  Validation took: 0:00:03\n",
      "\n",
      "========Epoch 4 / 10 ======\n",
      "Training......\n",
      " Batch    40 of   241. Elapsed: 0:00:00.\n",
      " Batch    80 of   241. Elapsed: 0:00:00.\n",
      " Batch   120 of   241. Elapsed: 0:00:01.\n",
      " Batch   160 of   241. Elapsed: 0:00:01.\n",
      " Batch   200 of   241. Elapsed: 0:00:01.\n",
      " Batch   240 of   241. Elapsed: 0:00:02.\n",
      "\n",
      "  Average training loss: 0.01\n",
      "  Training epcoh took: 0:00:02\n",
      "\n",
      "Running Validation...\n",
      "  Accuracy: 0.71\n",
      "  Validation took: 0:00:03\n",
      "\n",
      "========Epoch 5 / 10 ======\n",
      "Training......\n",
      " Batch    40 of   241. Elapsed: 0:00:00.\n",
      " Batch    80 of   241. Elapsed: 0:00:00.\n",
      " Batch   120 of   241. Elapsed: 0:00:01.\n",
      " Batch   160 of   241. Elapsed: 0:00:01.\n",
      " Batch   200 of   241. Elapsed: 0:00:01.\n",
      " Batch   240 of   241. Elapsed: 0:00:02.\n",
      "\n",
      "  Average training loss: 0.01\n",
      "  Training epcoh took: 0:00:02\n",
      "\n",
      "Running Validation...\n",
      "  Accuracy: 0.72\n",
      "  Validation took: 0:00:03\n",
      "\n",
      "========Epoch 6 / 10 ======\n",
      "Training......\n",
      " Batch    40 of   241. Elapsed: 0:00:00.\n",
      " Batch    80 of   241. Elapsed: 0:00:00.\n",
      " Batch   120 of   241. Elapsed: 0:00:01.\n",
      " Batch   160 of   241. Elapsed: 0:00:01.\n",
      " Batch   200 of   241. Elapsed: 0:00:01.\n",
      " Batch   240 of   241. Elapsed: 0:00:02.\n",
      "\n",
      "  Average training loss: 0.01\n",
      "  Training epcoh took: 0:00:02\n",
      "\n",
      "Running Validation...\n",
      "  Accuracy: 0.71\n",
      "  Validation took: 0:00:03\n",
      "\n",
      "========Epoch 7 / 10 ======\n",
      "Training......\n",
      " Batch    40 of   241. Elapsed: 0:00:00.\n",
      " Batch    80 of   241. Elapsed: 0:00:00.\n",
      " Batch   120 of   241. Elapsed: 0:00:01.\n",
      " Batch   160 of   241. Elapsed: 0:00:01.\n",
      " Batch   200 of   241. Elapsed: 0:00:01.\n",
      " Batch   240 of   241. Elapsed: 0:00:02.\n",
      "\n",
      "  Average training loss: 0.01\n",
      "  Training epcoh took: 0:00:02\n",
      "\n",
      "Running Validation...\n",
      "  Accuracy: 0.73\n",
      "  Validation took: 0:00:03\n",
      "\n",
      "========Epoch 8 / 10 ======\n",
      "Training......\n",
      " Batch    40 of   241. Elapsed: 0:00:00.\n",
      " Batch    80 of   241. Elapsed: 0:00:00.\n",
      " Batch   120 of   241. Elapsed: 0:00:01.\n",
      " Batch   160 of   241. Elapsed: 0:00:01.\n",
      " Batch   200 of   241. Elapsed: 0:00:01.\n",
      " Batch   240 of   241. Elapsed: 0:00:02.\n",
      "\n",
      "  Average training loss: 0.01\n",
      "  Training epcoh took: 0:00:02\n",
      "\n",
      "Running Validation...\n",
      "  Accuracy: 0.77\n",
      "  Validation took: 0:00:03\n",
      "\n",
      "========Epoch 9 / 10 ======\n",
      "Training......\n",
      " Batch    40 of   241. Elapsed: 0:00:00.\n",
      " Batch    80 of   241. Elapsed: 0:00:00.\n",
      " Batch   120 of   241. Elapsed: 0:00:01.\n",
      " Batch   160 of   241. Elapsed: 0:00:01.\n",
      " Batch   200 of   241. Elapsed: 0:00:01.\n",
      " Batch   240 of   241. Elapsed: 0:00:02.\n",
      "\n",
      "  Average training loss: 0.01\n",
      "  Training epcoh took: 0:00:02\n",
      "\n",
      "Running Validation...\n",
      "  Accuracy: 0.75\n",
      "  Validation took: 0:00:03\n",
      "\n",
      "========Epoch 10 / 10 ======\n",
      "Training......\n",
      " Batch    40 of   241. Elapsed: 0:00:00.\n",
      " Batch    80 of   241. Elapsed: 0:00:00.\n",
      " Batch   120 of   241. Elapsed: 0:00:01.\n",
      " Batch   160 of   241. Elapsed: 0:00:01.\n",
      " Batch   200 of   241. Elapsed: 0:00:01.\n",
      " Batch   240 of   241. Elapsed: 0:00:02.\n",
      "\n",
      "  Average training loss: 0.01\n",
      "  Training epcoh took: 0:00:02\n",
      "\n",
      "Running Validation...\n",
      "  Accuracy: 0.75\n",
      "  Validation took: 0:00:03\n",
      "\n",
      "Training complete!\n"
     ]
    }
   ],
   "source": [
    "import random\n",
    "\n",
    "# This training code is based on the `run_glue.py` script here:\n",
    "\n",
    "# Set the seed value all over the place to make this reproducible.\n",
    "seed_val = 42\n",
    "\n",
    "random.seed(seed_val)\n",
    "np.random.seed(seed_val) \n",
    "torch.manual_seed(seed_val)\n",
    "torch.cuda.manual_seed_all(seed_val)\n",
    "\n",
    "# Store the average loss after each epoch so we can plot them.\n",
    "loss_values = []\n",
    "\n",
    "# For each epoch...\n",
    "for epoch_i in range(0, epochs):\n",
    "  # ========================================\n",
    "    #               Training\n",
    "    # ========================================\n",
    "    \n",
    "    # Perform one full pass over the training set.\n",
    "    print(\"\")\n",
    "    print('========Epoch {:} / {:} ======'.format(epoch_i +1, epochs ))\n",
    "    print('Training......') \n",
    "\n",
    "    # Measure how long the training epoch takes.\n",
    "    t0 = time.time()\n",
    "\n",
    "    # Reset the total loss for this epoch\n",
    "    total_loss = 0\n",
    "\n",
    "    # Put the model into training mode. Don't be mislead--the call to \n",
    "    # `train` just changes the *mode*, it doesn't *perform* the training.\n",
    "    # `dropout` and `batchnorm` layers behave differently during training\n",
    "    # vs test\n",
    "    model.train()\n",
    "\n",
    "    # for each batch of training data.....\n",
    "    for step, batch in enumerate(train_dataloader):\n",
    "      # Progress update every 40 batches\n",
    "      if step % 40 == 0  and not step ==0:\n",
    "        # Calculate elapsed time in minutes.\n",
    "        elapsed = format_time(time.time() - t0)\n",
    "\n",
    "        # Report progress.\n",
    "        print(' Batch {:>5,} of {:>5,}. Elapsed: {:}.'.format(step, len(train_dataloader), elapsed))\n",
    "\n",
    "        # Unpack this training batch from our dataloader.\n",
    "        # As we unpack the batch, we'll also copy each tensor to the GPU using the \n",
    "        # `to` method.\n",
    "        #\n",
    "        # `batch` contains three pytorch tensors:\n",
    "        #   [0]: input ids \n",
    "        #   [1]: attention masks\n",
    "        #   [2]: labels \n",
    "        b_input_ids = batch[0].to(device)\n",
    "        b_input_mask = batch[1].to(device)\n",
    "        b_labels = batch[2].to(device)\n",
    "        # Always clear any previously calculated gradients before performing a\n",
    "        # backward pass. PyTorch doesn't do this automatically because \n",
    "        # accumulating the gradients is \"convenient while training RNNs\". \n",
    "        model.zero_grad()\n",
    "\n",
    "         # Perform a forward pass (evaluate the model on this training batch).\n",
    "        # This will return the loss (rather than the model output) because we\n",
    "        # have provided the `labels`.\n",
    "        # The documentation for this `model` function is here: \n",
    "        # https://huggingface.co/transformers/v2.2.0/model_doc/bert.html#transformers.BertForSequenceClassification\n",
    "        outputs = model(b_input_ids,\n",
    "                        token_type_ids = None,\n",
    "                        attention_mask = b_input_mask,\n",
    "                        labels = b_labels)\n",
    "        # The call to `model` always returns a tuple, so we need to pull the \n",
    "        # loss value out of the tuple.\n",
    "        loss = outputs[0]\n",
    "\n",
    "        # Accumulate the training loss over all of the batches so that we can\n",
    "        # calculate the average loss at the end. `loss` is a Tensor containing a\n",
    "        # single value; the `.item()` function just returns the Python value \n",
    "        # from the tensor.\n",
    "        total_loss += loss.item()\n",
    "\n",
    "        # Perform a backward pass to calculate the gradients.\n",
    "        loss.backward()\n",
    "\n",
    "        # Clip the norm of the gradients to 1.0.\n",
    "        # This is to help prevent the \"exploding gradients\" problem.\n",
    "        torch.nn.utils.clip_grad_norm_(model.parameters(), 1.0)\n",
    "\n",
    "         # Update parameters and take a step using the computed gradient.\n",
    "        # The optimizer dictates the \"update rule\"--how the parameters are\n",
    "        # modified based on their gradients, the learning rate, etc.\n",
    "        optimizer.step()\n",
    "\n",
    "        # Update the learning rate.\n",
    "        scheduler.step()\n",
    "    # Calculate the average loss over the training data\n",
    "    avg_train_loss = total_loss / len(train_dataloader)\n",
    "\n",
    "    # Store the loss value for plotting the learning\n",
    "    loss_values.append(avg_train_loss)\n",
    "\n",
    "    print(\"\")\n",
    "    print(\"  Average training loss: {0:.2f}\".format(avg_train_loss))\n",
    "    print(\"  Training epcoh took: {:}\".format(format_time(time.time() - t0)))\n",
    "        \n",
    "    # ========================================\n",
    "    #               Validation\n",
    "    # ========================================\n",
    "    # After the completion of each training epoch, measure our performance on\n",
    "    # our validation set.\n",
    "\n",
    "    print(\"\")\n",
    "    print(\"Running Validation...\")\n",
    "\n",
    "    t0 = time.time()\n",
    "\n",
    "    # Put the model in evaluation mode--the dropout layers behave differently\n",
    "    # during evaluation.\n",
    "    model.eval()\n",
    "\n",
    "    # Tracking variables\n",
    "    eval_loss, eval_accuracy = 0, 0\n",
    "    nb_eval_steps, nb_eval_examples = 0, 0\n",
    "\n",
    "    # Evaluate data for one epoch\n",
    "\n",
    "    for batch in validation_dataloader:\n",
    "      # Add batch to GPU\n",
    "      batch = tuple(t.to(device) for t in batch)\n",
    "\n",
    "      # Unpack the inputs from our dataloader\n",
    "      b_input_ids, b_input_mask, b_labels = batch\n",
    "\n",
    "      # Telling the model not to compute or store gradients, saving memory and\n",
    "      # speeding up validation\n",
    "      with torch.no_grad():\n",
    "        # Forward pass, calculate logit predictions.\n",
    "            # This will return the logits rather than the loss because we have\n",
    "            # not provided labels.\n",
    "            # token_type_ids is the same as the \"segment ids\", which \n",
    "            # differentiates sentence 1 and 2 in 2-sentence tasks.\n",
    "            # The documentation for this `model` function is here: \n",
    "            # https://huggingface.co/transformers/v2.2.0/model_doc/bert.html#transformers.BertForSequenceClassification\n",
    "            outputs  = model(b_input_ids,\n",
    "                             token_type_ids = None,\n",
    "                             attention_mask = b_input_mask)\n",
    "      # Get the \"logits\" output by the model. The \"logits\" are the output\n",
    "      # values prior to applying an activation function like the softmax.\n",
    "\n",
    "      logits = outputs[0]\n",
    "\n",
    "      # move logits and labels to CPU\n",
    "\n",
    "      logits = logits.detach().cpu().numpy()\n",
    "      label_ids = b_labels.to('cpu').numpy()\n",
    "\n",
    "      # Calculate the accuracy for this batch of test sentences\n",
    "      tmp_eval_accuracy = flat_accuracy(logits, label_ids)\n",
    "\n",
    "      # Accumulate the total accuracy.\n",
    "      eval_accuracy += tmp_eval_accuracy\n",
    "\n",
    "      # Track the number of batches\n",
    "      nb_eval_steps += 1\n",
    "\n",
    "    #Report the final accuracy for this validation run.\n",
    "    print(\"  Accuracy: {0:.2f}\".format(eval_accuracy/nb_eval_steps))\n",
    "    print(\"  Validation took: {:}\".format(format_time(time.time() - t0)))\n",
    "\n",
    "print(\"\")\n",
    "print(\"Training complete!\")\n",
    "    \n"
   ]
  },
  {
   "cell_type": "markdown",
   "metadata": {
    "id": "nbyfl5hJSAi5"
   },
   "source": [
    "Let's take a look at our training loss over all batches:"
   ]
  },
  {
   "cell_type": "code",
   "execution_count": 42,
   "metadata": {
    "colab": {
     "base_uri": "https://localhost:8080/",
     "height": 427
    },
    "id": "HkZzrkHAo9qT",
    "outputId": "89022ca8-7f21-4915-cc99-bd3368ee82ac"
   },
   "outputs": [
    {
     "data": {
      "image/png": "[encoded data removed]",
      "text/plain": [
       "<Figure size 864x432 with 1 Axes>"
      ]
     },
     "metadata": {},
     "output_type": "display_data"
    }
   ],
   "source": [
    "import matplotlib.pyplot as plt\n",
    "% matplotlib inline\n",
    "\n",
    "import seaborn as sns\n",
    "\n",
    "# Use plot styling from seaborn.\n",
    "sns.set(style='darkgrid')\n",
    "\n",
    "# Increase the plot size and font size.\n",
    "sns.set(font_scale=1.5)\n",
    "plt.rcParams[\"figure.figsize\"] = (12,6)\n",
    "\n",
    "# Plot the learning curve.\n",
    "plt.plot(loss_values, 'b-o')\n",
    "\n",
    "# Label the plot.\n",
    "plt.title(\"Training loss\")\n",
    "plt.xlabel(\"Epoch\")\n",
    "plt.ylabel(\"Loss\")\n",
    "\n",
    "plt.show()"
   ]
  },
  {
   "cell_type": "markdown",
   "metadata": {
    "id": "llwXJSzXpTUV"
   },
   "source": [
    "# 5. Performance On Test Set"
   ]
  },
  {
   "cell_type": "markdown",
   "metadata": {
    "id": "r1Bd_rOt0O-K"
   },
   "source": [
    "Now we'll load the holdout dataset and prepare inputs just as we did with the training set. Then we'll evaluate predictions using [Matthew's correlation coefficient](https://scikit-learn.org/stable/modules/generated/sklearn.metrics.matthews_corrcoef.html) because this is the metric used by the wider NLP community to evaluate performance on CoLA (Corpus of Linguistic Acceptability ). With this metric, +1 is the best score, and -1 is the worst score. This way, we can see how well we perform against the state of the art models for this specific task."
   ]
  },
  {
   "cell_type": "markdown",
   "metadata": {
    "id": "UHlH_vPE1ssf"
   },
   "source": [
    "\n",
    "\n",
    "### 5.1. Test Data Preparation\n"
   ]
  },
  {
   "cell_type": "code",
   "execution_count": 43,
   "metadata": {
    "colab": {
     "base_uri": "https://localhost:8080/"
    },
    "id": "J-QgTZ-opT8E",
    "outputId": "e4618a0a-5cee-4e99-dd37-3a4068961a98"
   },
   "outputs": [
    {
     "name": "stdout",
     "output_type": "stream",
     "text": [
      "Number of test sentences: 516\n",
      "\n"
     ]
    }
   ],
   "source": [
    "import pandas as pd\n",
    "\n",
    "# Load the dataset into a pandas dataframe.\n",
    "df = pd.read_csv(\"./cola_public/raw/out_of_domain_dev.tsv\", delimiter='\\t', header=None, names=['sentence_source', 'label', 'label_notes', 'sentence'])\n",
    "\n",
    "# Report the number of sentences.\n",
    "print('Number of test sentences: {:,}\\n'.format(df.shape[0]))\n",
    "\n",
    "# Create sentence and label lists\n",
    "sentences = df.sentence.values\n",
    "labels = df.label.values\n",
    "\n",
    "# Tokenize all of the sentences and map the tokens to thier word IDs.\n",
    "input_ids = []\n",
    "\n",
    "# For every sentence...\n",
    "for sent in sentences:\n",
    "    # `encode` will:\n",
    "    #   (1) Tokenize the sentence.\n",
    "    #   (2) Prepend the `[CLS]` token to the start.\n",
    "    #   (3) Append the `[SEP]` token to the end.\n",
    "    #   (4) Map tokens to their IDs.\n",
    "    encoded_sent = tokenizer.encode(\n",
    "                        sent,                      # Sentence to encode.\n",
    "                        add_special_tokens = True, # Add '[CLS]' and '[SEP]'\n",
    "                   )\n",
    "    \n",
    "    input_ids.append(encoded_sent)\n",
    "\n",
    "# Pad our input tokens\n",
    "input_ids = pad_sequences(input_ids, maxlen=MAX_LEN, \n",
    "                          dtype=\"long\", truncating=\"post\", padding=\"post\")\n",
    "\n",
    "# Create attention masks\n",
    "attention_masks = []\n",
    "\n",
    "# Create a mask of 1s for each token followed by 0s for padding\n",
    "for seq in input_ids:\n",
    "  seq_mask = [float(i>0) for i in seq]\n",
    "  attention_masks.append(seq_mask) \n",
    "\n",
    "# Convert to tensors.\n",
    "prediction_inputs = torch.tensor(input_ids)\n",
    "prediction_masks = torch.tensor(attention_masks)\n",
    "prediction_labels = torch.tensor(labels)\n",
    "\n",
    "# Set the batch size.  \n",
    "batch_size = 32  \n",
    "\n",
    "# Create the DataLoader.\n",
    "prediction_data = TensorDataset(prediction_inputs, prediction_masks, prediction_labels)\n",
    "prediction_sampler = SequentialSampler(prediction_data)\n",
    "prediction_dataloader = DataLoader(prediction_data, sampler=prediction_sampler, batch_size=batch_size)"
   ]
  },
  {
   "cell_type": "markdown",
   "metadata": {
    "id": "W2P5SO3Mptxr"
   },
   "source": [
    "## 5.2. Evaluate on Test Set\n"
   ]
  },
  {
   "cell_type": "markdown",
   "metadata": {
    "id": "ssReDVprp2ck"
   },
   "source": [
    "\n",
    "With the test set prepared, we can apply our fine-tuned model to generate predictions on the test set."
   ]
  },
  {
   "cell_type": "code",
   "execution_count": 44,
   "metadata": {
    "colab": {
     "base_uri": "https://localhost:8080/"
    },
    "id": "ftbiQIeEpisq",
    "outputId": "28f00bcd-08f8-4f19-c71a-c06313956374"
   },
   "outputs": [
    {
     "name": "stdout",
     "output_type": "stream",
     "text": [
      "Predicting labels for 516 test sentences...\n",
      "    DONE.\n"
     ]
    }
   ],
   "source": [
    "# Prediction on test set\n",
    "\n",
    "print('Predicting labels for {:,} test sentences...'.format(len(prediction_inputs)))\n",
    "\n",
    "# Put model in evaluation mode\n",
    "model.eval()\n",
    "\n",
    "# Tracking variables \n",
    "predictions , true_labels = [], []\n",
    "\n",
    "# Predict \n",
    "for batch in prediction_dataloader:\n",
    "  # Add batch to GPU\n",
    "  batch = tuple(t.to(device) for t in batch)\n",
    "  \n",
    "  # Unpack the inputs from our dataloader\n",
    "  b_input_ids, b_input_mask, b_labels = batch\n",
    "  \n",
    "  # Telling the model not to compute or store gradients, saving memory and \n",
    "  # speeding up prediction\n",
    "  with torch.no_grad():\n",
    "      # Forward pass, calculate logit predictions\n",
    "      outputs = model(b_input_ids, token_type_ids=None, \n",
    "                      attention_mask=b_input_mask)\n",
    "\n",
    "  logits = outputs[0]\n",
    "\n",
    "  # Move logits and labels to CPU\n",
    "  logits = logits.detach().cpu().numpy()\n",
    "  label_ids = b_labels.to('cpu').numpy()\n",
    "  \n",
    "  # Store predictions and true labels\n",
    "  predictions.append(logits)\n",
    "  true_labels.append(label_ids)\n",
    "\n",
    "print('    DONE.')"
   ]
  },
  {
   "cell_type": "markdown",
   "metadata": {
    "id": "lcNzE9kvqM9Z"
   },
   "source": [
    "Accuracy on the CoLA benchmark is measured using the \"[Matthews correlation coefficient](https://scikit-learn.org/stable/modules/generated/sklearn.metrics.matthews_corrcoef.html)\" (MCC).\n",
    "\n",
    "We use MCC here because the classes are imbalanced:\n"
   ]
  },
  {
   "cell_type": "code",
   "execution_count": 45,
   "metadata": {
    "colab": {
     "base_uri": "https://localhost:8080/"
    },
    "id": "2CGTOaxRqNar",
    "outputId": "c0492f57-4846-4c69-847c-13b55eeba9bf"
   },
   "outputs": [
    {
     "name": "stdout",
     "output_type": "stream",
     "text": [
      "Positive samples: 354 of 516 (68.60%)\n"
     ]
    }
   ],
   "source": [
    "print('Positive samples: %d of %d (%.2f%%)' % (df.label.sum(), len(df.label), (df.label.sum() / len(df.label) * 100.0)))"
   ]
  },
  {
   "cell_type": "code",
   "execution_count": 46,
   "metadata": {
    "colab": {
     "base_uri": "https://localhost:8080/"
    },
    "id": "xz4JMs8lqTlH",
    "outputId": "685be6a8-6957-4294-d903-bf271d391ed2"
   },
   "outputs": [
    {
     "name": "stdout",
     "output_type": "stream",
     "text": [
      "Calculating Matthews Corr. Coef. for each batch...\n"
     ]
    }
   ],
   "source": [
    "from sklearn.metrics import matthews_corrcoef\n",
    "\n",
    "matthews_set = []\n",
    "\n",
    "# Evaluate each test batch using Matthew's correlation coefficient\n",
    "print('Calculating Matthews Corr. Coef. for each batch...')\n",
    "\n",
    "# For each input batch...\n",
    "for i in range(len(true_labels)):\n",
    "  \n",
    "  # The predictions for this batch are a 2-column ndarray (one column for \"0\" \n",
    "  # and one column for \"1\"). Pick the label with the highest value and turn this\n",
    "  # in to a list of 0s and 1s.\n",
    "  pred_labels_i = np.argmax(predictions[i], axis=1).flatten()\n",
    "  \n",
    "  # Calculate and store the coef for this batch.  \n",
    "  matthews = matthews_corrcoef(true_labels[i], pred_labels_i)                \n",
    "  matthews_set.append(matthews)"
   ]
  },
  {
   "cell_type": "markdown",
   "metadata": {
    "id": "e6eddR_yqbFE"
   },
   "source": [
    "The final score will be based on the entire test set, but let's take a look at the scores on the individual batches to get a sense of the variability in the metric between batches. \n",
    "\n",
    "Each batch has 32 sentences in it, except the last batch which has only (516 % 32) = 4 test sentences in it.\n"
   ]
  },
  {
   "cell_type": "code",
   "execution_count": 47,
   "metadata": {
    "colab": {
     "base_uri": "https://localhost:8080/"
    },
    "id": "TcopmUrTqcic",
    "outputId": "981d2d98-3b2c-4ee0-a914-d3d9f36cdad1"
   },
   "outputs": [
    {
     "data": {
      "text/plain": [
       "[0.0,\n",
       " 0.0,\n",
       " 0.5202453946507077,\n",
       " 0.4127594582445936,\n",
       " 0.0,\n",
       " 0.4857959309463206,\n",
       " 0.4152273992686999,\n",
       " 0.0,\n",
       " 0.7453559924999299,\n",
       " 0.5114083119567587,\n",
       " 0.5141671091113803,\n",
       " 0.4364357804719848,\n",
       " 0.6979824404521128,\n",
       " 0.5204956780951701,\n",
       " 0.2342878320018382,\n",
       " 0.41281272698065485,\n",
       " 0.0]"
      ]
     },
     "execution_count": 47,
     "metadata": {},
     "output_type": "execute_result"
    }
   ],
   "source": [
    "matthews_set"
   ]
  },
  {
   "cell_type": "code",
   "execution_count": 48,
   "metadata": {
    "colab": {
     "base_uri": "https://localhost:8080/"
    },
    "id": "atklAMvEsj3A",
    "outputId": "7f063a86-36d5-4be3-da79-446b8828f0c5"
   },
   "outputs": [
    {
     "name": "stdout",
     "output_type": "stream",
     "text": [
      "MCC: 0.418\n"
     ]
    }
   ],
   "source": [
    "# Combine the predictions for each batch into a single list of 0s and 1s.\n",
    "flat_predictions = [item for sublist in predictions for item in sublist]\n",
    "flat_predictions = np.argmax(flat_predictions, axis=1).flatten()\n",
    "\n",
    "# Combine the correct labels for each batch into a single list.\n",
    "flat_true_labels = [item for sublist in true_labels for item in sublist]\n",
    "\n",
    "# Calculate the MCC\n",
    "mcc = matthews_corrcoef(flat_true_labels, flat_predictions)\n",
    "\n",
    "print('MCC: %.3f' % mcc)"
   ]
  },
  {
   "cell_type": "markdown",
   "metadata": {
    "id": "TGRU-ibfs1GA"
   },
   "source": [
    "Cool! In about half an hour and without doing any hyperparameter tuning (adjusting the learning rate, epochs, batch size, ADAM properties, etc.) we are able to get a good score. I should also mention we didn't train on the entire training dataset, but set aside a portion of it as our validation set for legibililty of code.\n",
    "\n",
    "The library documents the expected accuracy for this benchmark [here](https://huggingface.co/transformers/examples.html#glue).\n",
    "\n",
    "You can also look at the official leaderboard [here](https://gluebenchmark.com/leaderboard/submission/zlssuBTm5XRs0aSKbFYGVIVdvbj1/-LhijX9VVmvJcvzKymxy). \n",
    "\n",
    "Note that (due to the small dataset size?) the accuracy can vary significantly with different random seeds.\n"
   ]
  },
  {
   "cell_type": "markdown",
   "metadata": {
    "id": "Bs_qktrSs3Ll"
   },
   "source": [
    "# Conclusion"
   ]
  },
  {
   "cell_type": "markdown",
   "metadata": {
    "id": "1EzJvchqtCuY"
   },
   "source": [
    "This post demonstrates that with a pre-trained BERT model you can quickly and effectively create a high quality model with minimal effort and training time using the pytorch interface, regardless of the specific NLP task you are interested in."
   ]
  },
  {
   "cell_type": "code",
   "execution_count": null,
   "metadata": {
    "id": "gl1I_jwfs65e"
   },
   "outputs": [],
   "source": []
  }
 ],
 "metadata": {
  "accelerator": "GPU",
  "colab": {
   "name": "Sentence Classification with BERT.ipynb",
   "provenance": []
  },
  "kernelspec": {
   "display_name": "Python 3 (ipykernel)",
   "language": "python",
   "name": "python3"
  },
  "language_info": {
   "codemirror_mode": {
    "name": "ipython",
    "version": 3
   },
   "file_extension": ".py",
   "mimetype": "text/x-python",
   "name": "python",
   "nbconvert_exporter": "python",
   "pygments_lexer": "ipython3",
   "version": "3.8.12"
  },
  "widgets": {
   "application/vnd.jupyter.widget-state+json": {
    "08716288507a471ca0ed0edeb2cf3dfd": {
     "model_module": "@jupyter-widgets/base",
     "model_module_version": "1.2.0",
     "model_name": "LayoutModel",
     "state": {
      "_model_module": "@jupyter-widgets/base",
      "_model_module_version": "1.2.0",
      "_model_name": "LayoutModel",
      "_view_count": null,
      "_view_module": "@jupyter-widgets/base",
      "_view_module_version": "1.2.0",
      "_view_name": "LayoutView",
      "align_content": null,
      "align_items": null,
      "align_self": null,
      "border": null,
      "bottom": null,
      "display": null,
      "flex": null,
      "flex_flow": null,
      "grid_area": null,
      "grid_auto_columns": null,
      "grid_auto_flow": null,
      "grid_auto_rows": null,
      "grid_column": null,
      "grid_gap": null,
      "grid_row": null,
      "grid_template_areas": null,
      "grid_template_columns": null,
      "grid_template_rows": null,
      "height": null,
      "justify_content": null,
      "justify_items": null,
      "left": null,
      "margin": null,
      "max_height": null,
      "max_width": null,
      "min_height": null,
      "min_width": null,
      "object_fit": null,
      "object_position": null,
      "order": null,
      "overflow": null,
      "overflow_x": null,
      "overflow_y": null,
      "padding": null,
      "right": null,
      "top": null,
      "visibility": null,
      "width": null
     }
    },
    "0ab5e9c393ae4405987e9a438354e590": {
     "model_module": "@jupyter-widgets/controls",
     "model_module_version": "1.5.0",
     "model_name": "HTMLModel",
     "state": {
      "_dom_classes": [],
      "_model_module": "@jupyter-widgets/controls",
      "_model_module_version": "1.5.0",
      "_model_name": "HTMLModel",
      "_view_count": null,
      "_view_module": "@jupyter-widgets/controls",
      "_view_module_version": "1.5.0",
      "_view_name": "HTMLView",
      "description": "",
      "description_tooltip": null,
      "layout": "IPY_MODEL_7b4547ea7d9f4a17abe418796b5fa558",
      "placeholder": "​",
      "style": "IPY_MODEL_8e345e8d32164d93b8bb1962895ad6b8",
      "value": "Downloading: 100%"
     }
    },
    "128aace3e857444fb8d2a3a5b59216cf": {
     "model_module": "@jupyter-widgets/base",
     "model_module_version": "1.2.0",
     "model_name": "LayoutModel",
     "state": {
      "_model_module": "@jupyter-widgets/base",
      "_model_module_version": "1.2.0",
      "_model_name": "LayoutModel",
      "_view_count": null,
      "_view_module": "@jupyter-widgets/base",
      "_view_module_version": "1.2.0",
      "_view_name": "LayoutView",
      "align_content": null,
      "align_items": null,
      "align_self": null,
      "border": null,
      "bottom": null,
      "display": null,
      "flex": null,
      "flex_flow": null,
      "grid_area": null,
      "grid_auto_columns": null,
      "grid_auto_flow": null,
      "grid_auto_rows": null,
      "grid_column": null,
      "grid_gap": null,
      "grid_row": null,
      "grid_template_areas": null,
      "grid_template_columns": null,
      "grid_template_rows": null,
      "height": null,
      "justify_content": null,
      "justify_items": null,
      "left": null,
      "margin": null,
      "max_height": null,
      "max_width": null,
      "min_height": null,
      "min_width": null,
      "object_fit": null,
      "object_position": null,
      "order": null,
      "overflow": null,
      "overflow_x": null,
      "overflow_y": null,
      "padding": null,
      "right": null,
      "top": null,
      "visibility": null,
      "width": null
     }
    },
    "16ccc3d825db4779aab9c7495107c962": {
     "model_module": "@jupyter-widgets/controls",
     "model_module_version": "1.5.0",
     "model_name": "ProgressStyleModel",
     "state": {
      "_model_module": "@jupyter-widgets/controls",
      "_model_module_version": "1.5.0",
      "_model_name": "ProgressStyleModel",
      "_view_count": null,
      "_view_module": "@jupyter-widgets/base",
      "_view_module_version": "1.2.0",
      "_view_name": "StyleView",
      "bar_color": null,
      "description_width": ""
     }
    },
    "18b58b3446a64189b8b44cf781d7f2c3": {
     "model_module": "@jupyter-widgets/base",
     "model_module_version": "1.2.0",
     "model_name": "LayoutModel",
     "state": {
      "_model_module": "@jupyter-widgets/base",
      "_model_module_version": "1.2.0",
      "_model_name": "LayoutModel",
      "_view_count": null,
      "_view_module": "@jupyter-widgets/base",
      "_view_module_version": "1.2.0",
      "_view_name": "LayoutView",
      "align_content": null,
      "align_items": null,
      "align_self": null,
      "border": null,
      "bottom": null,
      "display": null,
      "flex": null,
      "flex_flow": null,
      "grid_area": null,
      "grid_auto_columns": null,
      "grid_auto_flow": null,
      "grid_auto_rows": null,
      "grid_column": null,
      "grid_gap": null,
      "grid_row": null,
      "grid_template_areas": null,
      "grid_template_columns": null,
      "grid_template_rows": null,
      "height": null,
      "justify_content": null,
      "justify_items": null,
      "left": null,
      "margin": null,
      "max_height": null,
      "max_width": null,
      "min_height": null,
      "min_width": null,
      "object_fit": null,
      "object_position": null,
      "order": null,
      "overflow": null,
      "overflow_x": null,
      "overflow_y": null,
      "padding": null,
      "right": null,
      "top": null,
      "visibility": null,
      "width": null
     }
    },
    "1986612148a4470e86f70aa25bfad0c2": {
     "model_module": "@jupyter-widgets/base",
     "model_module_version": "1.2.0",
     "model_name": "LayoutModel",
     "state": {
      "_model_module": "@jupyter-widgets/base",
      "_model_module_version": "1.2.0",
      "_model_name": "LayoutModel",
      "_view_count": null,
      "_view_module": "@jupyter-widgets/base",
      "_view_module_version": "1.2.0",
      "_view_name": "LayoutView",
      "align_content": null,
      "align_items": null,
      "align_self": null,
      "border": null,
      "bottom": null,
      "display": null,
      "flex": null,
      "flex_flow": null,
      "grid_area": null,
      "grid_auto_columns": null,
      "grid_auto_flow": null,
      "grid_auto_rows": null,
      "grid_column": null,
      "grid_gap": null,
      "grid_row": null,
      "grid_template_areas": null,
      "grid_template_columns": null,
      "grid_template_rows": null,
      "height": null,
      "justify_content": null,
      "justify_items": null,
      "left": null,
      "margin": null,
      "max_height": null,
      "max_width": null,
      "min_height": null,
      "min_width": null,
      "object_fit": null,
      "object_position": null,
      "order": null,
      "overflow": null,
      "overflow_x": null,
      "overflow_y": null,
      "padding": null,
      "right": null,
      "top": null,
      "visibility": null,
      "width": null
     }
    },
    "1eec93e070034d159d9286e6088a1754": {
     "model_module": "@jupyter-widgets/controls",
     "model_module_version": "1.5.0",
     "model_name": "HBoxModel",
     "state": {
      "_dom_classes": [],
      "_model_module": "@jupyter-widgets/controls",
      "_model_module_version": "1.5.0",
      "_model_name": "HBoxModel",
      "_view_count": null,
      "_view_module": "@jupyter-widgets/controls",
      "_view_module_version": "1.5.0",
      "_view_name": "HBoxView",
      "box_style": "",
      "children": [
       "IPY_MODEL_887f342c9a5646acb14dbe7168e0ce7b",
       "IPY_MODEL_63afff1f45c3416281f3d0ddde5fa609",
       "IPY_MODEL_23f628574d314ac18c1f76a2d55a15be"
      ],
      "layout": "IPY_MODEL_293e972265574bc490c1e16158423202"
     }
    },
    "202b322e1c1b4ad2b05bdf8f95602f7f": {
     "model_module": "@jupyter-widgets/base",
     "model_module_version": "1.2.0",
     "model_name": "LayoutModel",
     "state": {
      "_model_module": "@jupyter-widgets/base",
      "_model_module_version": "1.2.0",
      "_model_name": "LayoutModel",
      "_view_count": null,
      "_view_module": "@jupyter-widgets/base",
      "_view_module_version": "1.2.0",
      "_view_name": "LayoutView",
      "align_content": null,
      "align_items": null,
      "align_self": null,
      "border": null,
      "bottom": null,
      "display": null,
      "flex": null,
      "flex_flow": null,
      "grid_area": null,
      "grid_auto_columns": null,
      "grid_auto_flow": null,
      "grid_auto_rows": null,
      "grid_column": null,
      "grid_gap": null,
      "grid_row": null,
      "grid_template_areas": null,
      "grid_template_columns": null,
      "grid_template_rows": null,
      "height": null,
      "justify_content": null,
      "justify_items": null,
      "left": null,
      "margin": null,
      "max_height": null,
      "max_width": null,
      "min_height": null,
      "min_width": null,
      "object_fit": null,
      "object_position": null,
      "order": null,
      "overflow": null,
      "overflow_x": null,
      "overflow_y": null,
      "padding": null,
      "right": null,
      "top": null,
      "visibility": null,
      "width": null
     }
    },
    "23f628574d314ac18c1f76a2d55a15be": {
     "model_module": "@jupyter-widgets/controls",
     "model_module_version": "1.5.0",
     "model_name": "HTMLModel",
     "state": {
      "_dom_classes": [],
      "_model_module": "@jupyter-widgets/controls",
      "_model_module_version": "1.5.0",
      "_model_name": "HTMLModel",
      "_view_count": null,
      "_view_module": "@jupyter-widgets/controls",
      "_view_module_version": "1.5.0",
      "_view_name": "HTMLView",
      "description": "",
      "description_tooltip": null,
      "layout": "IPY_MODEL_673b89fd4296465d95205fe1b699748d",
      "placeholder": "​",
      "style": "IPY_MODEL_e3c13842395a49a2ac8f40ea51fe7bc1",
      "value": " 420M/420M [00:15&lt;00:00, 25.9MB/s]"
     }
    },
    "26591470f58d43c79e06f4b3b1d8558b": {
     "model_module": "@jupyter-widgets/base",
     "model_module_version": "1.2.0",
     "model_name": "LayoutModel",
     "state": {
      "_model_module": "@jupyter-widgets/base",
      "_model_module_version": "1.2.0",
      "_model_name": "LayoutModel",
      "_view_count": null,
      "_view_module": "@jupyter-widgets/base",
      "_view_module_version": "1.2.0",
      "_view_name": "LayoutView",
      "align_content": null,
      "align_items": null,
      "align_self": null,
      "border": null,
      "bottom": null,
      "display": null,
      "flex": null,
      "flex_flow": null,
      "grid_area": null,
      "grid_auto_columns": null,
      "grid_auto_flow": null,
      "grid_auto_rows": null,
      "grid_column": null,
      "grid_gap": null,
      "grid_row": null,
      "grid_template_areas": null,
      "grid_template_columns": null,
      "grid_template_rows": null,
      "height": null,
      "justify_content": null,
      "justify_items": null,
      "left": null,
      "margin": null,
      "max_height": null,
      "max_width": null,
      "min_height": null,
      "min_width": null,
      "object_fit": null,
      "object_position": null,
      "order": null,
      "overflow": null,
      "overflow_x": null,
      "overflow_y": null,
      "padding": null,
      "right": null,
      "top": null,
      "visibility": null,
      "width": null
     }
    },
    "293e972265574bc490c1e16158423202": {
     "model_module": "@jupyter-widgets/base",
     "model_module_version": "1.2.0",
     "model_name": "LayoutModel",
     "state": {
      "_model_module": "@jupyter-widgets/base",
      "_model_module_version": "1.2.0",
      "_model_name": "LayoutModel",
      "_view_count": null,
      "_view_module": "@jupyter-widgets/base",
      "_view_module_version": "1.2.0",
      "_view_name": "LayoutView",
      "align_content": null,
      "align_items": null,
      "align_self": null,
      "border": null,
      "bottom": null,
      "display": null,
      "flex": null,
      "flex_flow": null,
      "grid_area": null,
      "grid_auto_columns": null,
      "grid_auto_flow": null,
      "grid_auto_rows": null,
      "grid_column": null,
      "grid_gap": null,
      "grid_row": null,
      "grid_template_areas": null,
      "grid_template_columns": null,
      "grid_template_rows": null,
      "height": null,
      "justify_content": null,
      "justify_items": null,
      "left": null,
      "margin": null,
      "max_height": null,
      "max_width": null,
      "min_height": null,
      "min_width": null,
      "object_fit": null,
      "object_position": null,
      "order": null,
      "overflow": null,
      "overflow_x": null,
      "overflow_y": null,
      "padding": null,
      "right": null,
      "top": null,
      "visibility": null,
      "width": null
     }
    },
    "2f2eb3c7415a4046ad50e88d84b3e450": {
     "model_module": "@jupyter-widgets/controls",
     "model_module_version": "1.5.0",
     "model_name": "HBoxModel",
     "state": {
      "_dom_classes": [],
      "_model_module": "@jupyter-widgets/controls",
      "_model_module_version": "1.5.0",
      "_model_name": "HBoxModel",
      "_view_count": null,
      "_view_module": "@jupyter-widgets/controls",
      "_view_module_version": "1.5.0",
      "_view_name": "HBoxView",
      "box_style": "",
      "children": [
       "IPY_MODEL_be896cdeb7454a9ca4190abda53c4ff4",
       "IPY_MODEL_9a8a644b9a8943668f438becabe7590a",
       "IPY_MODEL_38b8be7d5a6746878b1e6cf706a206d3"
      ],
      "layout": "IPY_MODEL_38930c7b81a8464b9a6891ee9392fc14"
     }
    },
    "2ff8c6026c5b4d3b82caaf237ff2d6e8": {
     "model_module": "@jupyter-widgets/controls",
     "model_module_version": "1.5.0",
     "model_name": "DescriptionStyleModel",
     "state": {
      "_model_module": "@jupyter-widgets/controls",
      "_model_module_version": "1.5.0",
      "_model_name": "DescriptionStyleModel",
      "_view_count": null,
      "_view_module": "@jupyter-widgets/base",
      "_view_module_version": "1.2.0",
      "_view_name": "StyleView",
      "description_width": ""
     }
    },
    "30bd656fc6744a9daf1b3b2eeafc65d8": {
     "model_module": "@jupyter-widgets/controls",
     "model_module_version": "1.5.0",
     "model_name": "DescriptionStyleModel",
     "state": {
      "_model_module": "@jupyter-widgets/controls",
      "_model_module_version": "1.5.0",
      "_model_name": "DescriptionStyleModel",
      "_view_count": null,
      "_view_module": "@jupyter-widgets/base",
      "_view_module_version": "1.2.0",
      "_view_name": "StyleView",
      "description_width": ""
     }
    },
    "3409fab1840f432cb5336705673e8976": {
     "model_module": "@jupyter-widgets/controls",
     "model_module_version": "1.5.0",
     "model_name": "DescriptionStyleModel",
     "state": {
      "_model_module": "@jupyter-widgets/controls",
      "_model_module_version": "1.5.0",
      "_model_name": "DescriptionStyleModel",
      "_view_count": null,
      "_view_module": "@jupyter-widgets/base",
      "_view_module_version": "1.2.0",
      "_view_name": "StyleView",
      "description_width": ""
     }
    },
    "38930c7b81a8464b9a6891ee9392fc14": {
     "model_module": "@jupyter-widgets/base",
     "model_module_version": "1.2.0",
     "model_name": "LayoutModel",
     "state": {
      "_model_module": "@jupyter-widgets/base",
      "_model_module_version": "1.2.0",
      "_model_name": "LayoutModel",
      "_view_count": null,
      "_view_module": "@jupyter-widgets/base",
      "_view_module_version": "1.2.0",
      "_view_name": "LayoutView",
      "align_content": null,
      "align_items": null,
      "align_self": null,
      "border": null,
      "bottom": null,
      "display": null,
      "flex": null,
      "flex_flow": null,
      "grid_area": null,
      "grid_auto_columns": null,
      "grid_auto_flow": null,
      "grid_auto_rows": null,
      "grid_column": null,
      "grid_gap": null,
      "grid_row": null,
      "grid_template_areas": null,
      "grid_template_columns": null,
      "grid_template_rows": null,
      "height": null,
      "justify_content": null,
      "justify_items": null,
      "left": null,
      "margin": null,
      "max_height": null,
      "max_width": null,
      "min_height": null,
      "min_width": null,
      "object_fit": null,
      "object_position": null,
      "order": null,
      "overflow": null,
      "overflow_x": null,
      "overflow_y": null,
      "padding": null,
      "right": null,
      "top": null,
      "visibility": null,
      "width": null
     }
    },
    "38b8be7d5a6746878b1e6cf706a206d3": {
     "model_module": "@jupyter-widgets/controls",
     "model_module_version": "1.5.0",
     "model_name": "HTMLModel",
     "state": {
      "_dom_classes": [],
      "_model_module": "@jupyter-widgets/controls",
      "_model_module_version": "1.5.0",
      "_model_name": "HTMLModel",
      "_view_count": null,
      "_view_module": "@jupyter-widgets/controls",
      "_view_module_version": "1.5.0",
      "_view_name": "HTMLView",
      "description": "",
      "description_tooltip": null,
      "layout": "IPY_MODEL_202b322e1c1b4ad2b05bdf8f95602f7f",
      "placeholder": "​",
      "style": "IPY_MODEL_30bd656fc6744a9daf1b3b2eeafc65d8",
      "value": " 28.0/28.0 [00:00&lt;00:00, 771B/s]"
     }
    },
    "3c823256cd504c8eb8db9f7897748a1b": {
     "model_module": "@jupyter-widgets/controls",
     "model_module_version": "1.5.0",
     "model_name": "HTMLModel",
     "state": {
      "_dom_classes": [],
      "_model_module": "@jupyter-widgets/controls",
      "_model_module_version": "1.5.0",
      "_model_name": "HTMLModel",
      "_view_count": null,
      "_view_module": "@jupyter-widgets/controls",
      "_view_module_version": "1.5.0",
      "_view_name": "HTMLView",
      "description": "",
      "description_tooltip": null,
      "layout": "IPY_MODEL_a991c903dbee40cf9254dd5af0b38439",
      "placeholder": "​",
      "style": "IPY_MODEL_6ee5182305504252b415fdf2356b6786",
      "value": "Downloading: 100%"
     }
    },
    "3ca89b5a58b640c7af457fa3fa68ee1c": {
     "model_module": "@jupyter-widgets/base",
     "model_module_version": "1.2.0",
     "model_name": "LayoutModel",
     "state": {
      "_model_module": "@jupyter-widgets/base",
      "_model_module_version": "1.2.0",
      "_model_name": "LayoutModel",
      "_view_count": null,
      "_view_module": "@jupyter-widgets/base",
      "_view_module_version": "1.2.0",
      "_view_name": "LayoutView",
      "align_content": null,
      "align_items": null,
      "align_self": null,
      "border": null,
      "bottom": null,
      "display": null,
      "flex": null,
      "flex_flow": null,
      "grid_area": null,
      "grid_auto_columns": null,
      "grid_auto_flow": null,
      "grid_auto_rows": null,
      "grid_column": null,
      "grid_gap": null,
      "grid_row": null,
      "grid_template_areas": null,
      "grid_template_columns": null,
      "grid_template_rows": null,
      "height": null,
      "justify_content": null,
      "justify_items": null,
      "left": null,
      "margin": null,
      "max_height": null,
      "max_width": null,
      "min_height": null,
      "min_width": null,
      "object_fit": null,
      "object_position": null,
      "order": null,
      "overflow": null,
      "overflow_x": null,
      "overflow_y": null,
      "padding": null,
      "right": null,
      "top": null,
      "visibility": null,
      "width": null
     }
    },
    "4f4eb63e42d54221a5629052ca68f67c": {
     "model_module": "@jupyter-widgets/controls",
     "model_module_version": "1.5.0",
     "model_name": "HBoxModel",
     "state": {
      "_dom_classes": [],
      "_model_module": "@jupyter-widgets/controls",
      "_model_module_version": "1.5.0",
      "_model_name": "HBoxModel",
      "_view_count": null,
      "_view_module": "@jupyter-widgets/controls",
      "_view_module_version": "1.5.0",
      "_view_name": "HBoxView",
      "box_style": "",
      "children": [
       "IPY_MODEL_3c823256cd504c8eb8db9f7897748a1b",
       "IPY_MODEL_f5e3614da5764fb892daf84eb8de63a8",
       "IPY_MODEL_6d96bdf272ae476fa3546159acf898a7"
      ],
      "layout": "IPY_MODEL_51acdf4798b14f608b1b4ed50e874569"
     }
    },
    "51acdf4798b14f608b1b4ed50e874569": {
     "model_module": "@jupyter-widgets/base",
     "model_module_version": "1.2.0",
     "model_name": "LayoutModel",
     "state": {
      "_model_module": "@jupyter-widgets/base",
      "_model_module_version": "1.2.0",
      "_model_name": "LayoutModel",
      "_view_count": null,
      "_view_module": "@jupyter-widgets/base",
      "_view_module_version": "1.2.0",
      "_view_name": "LayoutView",
      "align_content": null,
      "align_items": null,
      "align_self": null,
      "border": null,
      "bottom": null,
      "display": null,
      "flex": null,
      "flex_flow": null,
      "grid_area": null,
      "grid_auto_columns": null,
      "grid_auto_flow": null,
      "grid_auto_rows": null,
      "grid_column": null,
      "grid_gap": null,
      "grid_row": null,
      "grid_template_areas": null,
      "grid_template_columns": null,
      "grid_template_rows": null,
      "height": null,
      "justify_content": null,
      "justify_items": null,
      "left": null,
      "margin": null,
      "max_height": null,
      "max_width": null,
      "min_height": null,
      "min_width": null,
      "object_fit": null,
      "object_position": null,
      "order": null,
      "overflow": null,
      "overflow_x": null,
      "overflow_y": null,
      "padding": null,
      "right": null,
      "top": null,
      "visibility": null,
      "width": null
     }
    },
    "63afff1f45c3416281f3d0ddde5fa609": {
     "model_module": "@jupyter-widgets/controls",
     "model_module_version": "1.5.0",
     "model_name": "FloatProgressModel",
     "state": {
      "_dom_classes": [],
      "_model_module": "@jupyter-widgets/controls",
      "_model_module_version": "1.5.0",
      "_model_name": "FloatProgressModel",
      "_view_count": null,
      "_view_module": "@jupyter-widgets/controls",
      "_view_module_version": "1.5.0",
      "_view_name": "ProgressView",
      "bar_style": "success",
      "description": "",
      "description_tooltip": null,
      "layout": "IPY_MODEL_26591470f58d43c79e06f4b3b1d8558b",
      "max": 440473133,
      "min": 0,
      "orientation": "horizontal",
      "style": "IPY_MODEL_16ccc3d825db4779aab9c7495107c962",
      "value": 440473133
     }
    },
    "673b89fd4296465d95205fe1b699748d": {
     "model_module": "@jupyter-widgets/base",
     "model_module_version": "1.2.0",
     "model_name": "LayoutModel",
     "state": {
      "_model_module": "@jupyter-widgets/base",
      "_model_module_version": "1.2.0",
      "_model_name": "LayoutModel",
      "_view_count": null,
      "_view_module": "@jupyter-widgets/base",
      "_view_module_version": "1.2.0",
      "_view_name": "LayoutView",
      "align_content": null,
      "align_items": null,
      "align_self": null,
      "border": null,
      "bottom": null,
      "display": null,
      "flex": null,
      "flex_flow": null,
      "grid_area": null,
      "grid_auto_columns": null,
      "grid_auto_flow": null,
      "grid_auto_rows": null,
      "grid_column": null,
      "grid_gap": null,
      "grid_row": null,
      "grid_template_areas": null,
      "grid_template_columns": null,
      "grid_template_rows": null,
      "height": null,
      "justify_content": null,
      "justify_items": null,
      "left": null,
      "margin": null,
      "max_height": null,
      "max_width": null,
      "min_height": null,
      "min_width": null,
      "object_fit": null,
      "object_position": null,
      "order": null,
      "overflow": null,
      "overflow_x": null,
      "overflow_y": null,
      "padding": null,
      "right": null,
      "top": null,
      "visibility": null,
      "width": null
     }
    },
    "6d96bdf272ae476fa3546159acf898a7": {
     "model_module": "@jupyter-widgets/controls",
     "model_module_version": "1.5.0",
     "model_name": "HTMLModel",
     "state": {
      "_dom_classes": [],
      "_model_module": "@jupyter-widgets/controls",
      "_model_module_version": "1.5.0",
      "_model_name": "HTMLModel",
      "_view_count": null,
      "_view_module": "@jupyter-widgets/controls",
      "_view_module_version": "1.5.0",
      "_view_name": "HTMLView",
      "description": "",
      "description_tooltip": null,
      "layout": "IPY_MODEL_b2952d4f984242559ceb58a247f0f680",
      "placeholder": "​",
      "style": "IPY_MODEL_af6965b932754a50931ecc4240babbf3",
      "value": " 570/570 [00:00&lt;00:00, 18.1kB/s]"
     }
    },
    "6ee5182305504252b415fdf2356b6786": {
     "model_module": "@jupyter-widgets/controls",
     "model_module_version": "1.5.0",
     "model_name": "DescriptionStyleModel",
     "state": {
      "_model_module": "@jupyter-widgets/controls",
      "_model_module_version": "1.5.0",
      "_model_name": "DescriptionStyleModel",
      "_view_count": null,
      "_view_module": "@jupyter-widgets/base",
      "_view_module_version": "1.2.0",
      "_view_name": "StyleView",
      "description_width": ""
     }
    },
    "71bee048147d4d7b8362f32ba5dc8aab": {
     "model_module": "@jupyter-widgets/controls",
     "model_module_version": "1.5.0",
     "model_name": "HTMLModel",
     "state": {
      "_dom_classes": [],
      "_model_module": "@jupyter-widgets/controls",
      "_model_module_version": "1.5.0",
      "_model_name": "HTMLModel",
      "_view_count": null,
      "_view_module": "@jupyter-widgets/controls",
      "_view_module_version": "1.5.0",
      "_view_name": "HTMLView",
      "description": "",
      "description_tooltip": null,
      "layout": "IPY_MODEL_1986612148a4470e86f70aa25bfad0c2",
      "placeholder": "​",
      "style": "IPY_MODEL_3409fab1840f432cb5336705673e8976",
      "value": " 226k/226k [00:00&lt;00:00, 4.25MB/s]"
     }
    },
    "7b4547ea7d9f4a17abe418796b5fa558": {
     "model_module": "@jupyter-widgets/base",
     "model_module_version": "1.2.0",
     "model_name": "LayoutModel",
     "state": {
      "_model_module": "@jupyter-widgets/base",
      "_model_module_version": "1.2.0",
      "_model_name": "LayoutModel",
      "_view_count": null,
      "_view_module": "@jupyter-widgets/base",
      "_view_module_version": "1.2.0",
      "_view_name": "LayoutView",
      "align_content": null,
      "align_items": null,
      "align_self": null,
      "border": null,
      "bottom": null,
      "display": null,
      "flex": null,
      "flex_flow": null,
      "grid_area": null,
      "grid_auto_columns": null,
      "grid_auto_flow": null,
      "grid_auto_rows": null,
      "grid_column": null,
      "grid_gap": null,
      "grid_row": null,
      "grid_template_areas": null,
      "grid_template_columns": null,
      "grid_template_rows": null,
      "height": null,
      "justify_content": null,
      "justify_items": null,
      "left": null,
      "margin": null,
      "max_height": null,
      "max_width": null,
      "min_height": null,
      "min_width": null,
      "object_fit": null,
      "object_position": null,
      "order": null,
      "overflow": null,
      "overflow_x": null,
      "overflow_y": null,
      "padding": null,
      "right": null,
      "top": null,
      "visibility": null,
      "width": null
     }
    },
    "887f342c9a5646acb14dbe7168e0ce7b": {
     "model_module": "@jupyter-widgets/controls",
     "model_module_version": "1.5.0",
     "model_name": "HTMLModel",
     "state": {
      "_dom_classes": [],
      "_model_module": "@jupyter-widgets/controls",
      "_model_module_version": "1.5.0",
      "_model_name": "HTMLModel",
      "_view_count": null,
      "_view_module": "@jupyter-widgets/controls",
      "_view_module_version": "1.5.0",
      "_view_name": "HTMLView",
      "description": "",
      "description_tooltip": null,
      "layout": "IPY_MODEL_bbdb529a782a40549fce2e566effa671",
      "placeholder": "​",
      "style": "IPY_MODEL_2ff8c6026c5b4d3b82caaf237ff2d6e8",
      "value": "Downloading: 100%"
     }
    },
    "8e345e8d32164d93b8bb1962895ad6b8": {
     "model_module": "@jupyter-widgets/controls",
     "model_module_version": "1.5.0",
     "model_name": "DescriptionStyleModel",
     "state": {
      "_model_module": "@jupyter-widgets/controls",
      "_model_module_version": "1.5.0",
      "_model_name": "DescriptionStyleModel",
      "_view_count": null,
      "_view_module": "@jupyter-widgets/base",
      "_view_module_version": "1.2.0",
      "_view_name": "StyleView",
      "description_width": ""
     }
    },
    "8f4bc84164bb40f7b8905a58ac32833d": {
     "model_module": "@jupyter-widgets/controls",
     "model_module_version": "1.5.0",
     "model_name": "HBoxModel",
     "state": {
      "_dom_classes": [],
      "_model_module": "@jupyter-widgets/controls",
      "_model_module_version": "1.5.0",
      "_model_name": "HBoxModel",
      "_view_count": null,
      "_view_module": "@jupyter-widgets/controls",
      "_view_module_version": "1.5.0",
      "_view_name": "HBoxView",
      "box_style": "",
      "children": [
       "IPY_MODEL_0ab5e9c393ae4405987e9a438354e590",
       "IPY_MODEL_b8b8972d25d44d59bdf49139cc9a593a",
       "IPY_MODEL_71bee048147d4d7b8362f32ba5dc8aab"
      ],
      "layout": "IPY_MODEL_b39569611e974683a9fb4017a76c556f"
     }
    },
    "9a8a644b9a8943668f438becabe7590a": {
     "model_module": "@jupyter-widgets/controls",
     "model_module_version": "1.5.0",
     "model_name": "FloatProgressModel",
     "state": {
      "_dom_classes": [],
      "_model_module": "@jupyter-widgets/controls",
      "_model_module_version": "1.5.0",
      "_model_name": "FloatProgressModel",
      "_view_count": null,
      "_view_module": "@jupyter-widgets/controls",
      "_view_module_version": "1.5.0",
      "_view_name": "ProgressView",
      "bar_style": "success",
      "description": "",
      "description_tooltip": null,
      "layout": "IPY_MODEL_18b58b3446a64189b8b44cf781d7f2c3",
      "max": 28,
      "min": 0,
      "orientation": "horizontal",
      "style": "IPY_MODEL_c250cc2b41ef48e4ac6c03303afd87a7",
      "value": 28
     }
    },
    "a06915cec84e4beb8e3556e00369f074": {
     "model_module": "@jupyter-widgets/controls",
     "model_module_version": "1.5.0",
     "model_name": "DescriptionStyleModel",
     "state": {
      "_model_module": "@jupyter-widgets/controls",
      "_model_module_version": "1.5.0",
      "_model_name": "DescriptionStyleModel",
      "_view_count": null,
      "_view_module": "@jupyter-widgets/base",
      "_view_module_version": "1.2.0",
      "_view_name": "StyleView",
      "description_width": ""
     }
    },
    "a7bb0a6a2d9a4a609eb10f2b3a08a98f": {
     "model_module": "@jupyter-widgets/controls",
     "model_module_version": "1.5.0",
     "model_name": "ProgressStyleModel",
     "state": {
      "_model_module": "@jupyter-widgets/controls",
      "_model_module_version": "1.5.0",
      "_model_name": "ProgressStyleModel",
      "_view_count": null,
      "_view_module": "@jupyter-widgets/base",
      "_view_module_version": "1.2.0",
      "_view_name": "StyleView",
      "bar_color": null,
      "description_width": ""
     }
    },
    "a991c903dbee40cf9254dd5af0b38439": {
     "model_module": "@jupyter-widgets/base",
     "model_module_version": "1.2.0",
     "model_name": "LayoutModel",
     "state": {
      "_model_module": "@jupyter-widgets/base",
      "_model_module_version": "1.2.0",
      "_model_name": "LayoutModel",
      "_view_count": null,
      "_view_module": "@jupyter-widgets/base",
      "_view_module_version": "1.2.0",
      "_view_name": "LayoutView",
      "align_content": null,
      "align_items": null,
      "align_self": null,
      "border": null,
      "bottom": null,
      "display": null,
      "flex": null,
      "flex_flow": null,
      "grid_area": null,
      "grid_auto_columns": null,
      "grid_auto_flow": null,
      "grid_auto_rows": null,
      "grid_column": null,
      "grid_gap": null,
      "grid_row": null,
      "grid_template_areas": null,
      "grid_template_columns": null,
      "grid_template_rows": null,
      "height": null,
      "justify_content": null,
      "justify_items": null,
      "left": null,
      "margin": null,
      "max_height": null,
      "max_width": null,
      "min_height": null,
      "min_width": null,
      "object_fit": null,
      "object_position": null,
      "order": null,
      "overflow": null,
      "overflow_x": null,
      "overflow_y": null,
      "padding": null,
      "right": null,
      "top": null,
      "visibility": null,
      "width": null
     }
    },
    "ae8bd98ad8e149bcb4f8bbe749c91379": {
     "model_module": "@jupyter-widgets/controls",
     "model_module_version": "1.5.0",
     "model_name": "ProgressStyleModel",
     "state": {
      "_model_module": "@jupyter-widgets/controls",
      "_model_module_version": "1.5.0",
      "_model_name": "ProgressStyleModel",
      "_view_count": null,
      "_view_module": "@jupyter-widgets/base",
      "_view_module_version": "1.2.0",
      "_view_name": "StyleView",
      "bar_color": null,
      "description_width": ""
     }
    },
    "af6965b932754a50931ecc4240babbf3": {
     "model_module": "@jupyter-widgets/controls",
     "model_module_version": "1.5.0",
     "model_name": "DescriptionStyleModel",
     "state": {
      "_model_module": "@jupyter-widgets/controls",
      "_model_module_version": "1.5.0",
      "_model_name": "DescriptionStyleModel",
      "_view_count": null,
      "_view_module": "@jupyter-widgets/base",
      "_view_module_version": "1.2.0",
      "_view_name": "StyleView",
      "description_width": ""
     }
    },
    "b2952d4f984242559ceb58a247f0f680": {
     "model_module": "@jupyter-widgets/base",
     "model_module_version": "1.2.0",
     "model_name": "LayoutModel",
     "state": {
      "_model_module": "@jupyter-widgets/base",
      "_model_module_version": "1.2.0",
      "_model_name": "LayoutModel",
      "_view_count": null,
      "_view_module": "@jupyter-widgets/base",
      "_view_module_version": "1.2.0",
      "_view_name": "LayoutView",
      "align_content": null,
      "align_items": null,
      "align_self": null,
      "border": null,
      "bottom": null,
      "display": null,
      "flex": null,
      "flex_flow": null,
      "grid_area": null,
      "grid_auto_columns": null,
      "grid_auto_flow": null,
      "grid_auto_rows": null,
      "grid_column": null,
      "grid_gap": null,
      "grid_row": null,
      "grid_template_areas": null,
      "grid_template_columns": null,
      "grid_template_rows": null,
      "height": null,
      "justify_content": null,
      "justify_items": null,
      "left": null,
      "margin": null,
      "max_height": null,
      "max_width": null,
      "min_height": null,
      "min_width": null,
      "object_fit": null,
      "object_position": null,
      "order": null,
      "overflow": null,
      "overflow_x": null,
      "overflow_y": null,
      "padding": null,
      "right": null,
      "top": null,
      "visibility": null,
      "width": null
     }
    },
    "b39569611e974683a9fb4017a76c556f": {
     "model_module": "@jupyter-widgets/base",
     "model_module_version": "1.2.0",
     "model_name": "LayoutModel",
     "state": {
      "_model_module": "@jupyter-widgets/base",
      "_model_module_version": "1.2.0",
      "_model_name": "LayoutModel",
      "_view_count": null,
      "_view_module": "@jupyter-widgets/base",
      "_view_module_version": "1.2.0",
      "_view_name": "LayoutView",
      "align_content": null,
      "align_items": null,
      "align_self": null,
      "border": null,
      "bottom": null,
      "display": null,
      "flex": null,
      "flex_flow": null,
      "grid_area": null,
      "grid_auto_columns": null,
      "grid_auto_flow": null,
      "grid_auto_rows": null,
      "grid_column": null,
      "grid_gap": null,
      "grid_row": null,
      "grid_template_areas": null,
      "grid_template_columns": null,
      "grid_template_rows": null,
      "height": null,
      "justify_content": null,
      "justify_items": null,
      "left": null,
      "margin": null,
      "max_height": null,
      "max_width": null,
      "min_height": null,
      "min_width": null,
      "object_fit": null,
      "object_position": null,
      "order": null,
      "overflow": null,
      "overflow_x": null,
      "overflow_y": null,
      "padding": null,
      "right": null,
      "top": null,
      "visibility": null,
      "width": null
     }
    },
    "b8b8972d25d44d59bdf49139cc9a593a": {
     "model_module": "@jupyter-widgets/controls",
     "model_module_version": "1.5.0",
     "model_name": "FloatProgressModel",
     "state": {
      "_dom_classes": [],
      "_model_module": "@jupyter-widgets/controls",
      "_model_module_version": "1.5.0",
      "_model_name": "FloatProgressModel",
      "_view_count": null,
      "_view_module": "@jupyter-widgets/controls",
      "_view_module_version": "1.5.0",
      "_view_name": "ProgressView",
      "bar_style": "success",
      "description": "",
      "description_tooltip": null,
      "layout": "IPY_MODEL_08716288507a471ca0ed0edeb2cf3dfd",
      "max": 231508,
      "min": 0,
      "orientation": "horizontal",
      "style": "IPY_MODEL_a7bb0a6a2d9a4a609eb10f2b3a08a98f",
      "value": 231508
     }
    },
    "bbdb529a782a40549fce2e566effa671": {
     "model_module": "@jupyter-widgets/base",
     "model_module_version": "1.2.0",
     "model_name": "LayoutModel",
     "state": {
      "_model_module": "@jupyter-widgets/base",
      "_model_module_version": "1.2.0",
      "_model_name": "LayoutModel",
      "_view_count": null,
      "_view_module": "@jupyter-widgets/base",
      "_view_module_version": "1.2.0",
      "_view_name": "LayoutView",
      "align_content": null,
      "align_items": null,
      "align_self": null,
      "border": null,
      "bottom": null,
      "display": null,
      "flex": null,
      "flex_flow": null,
      "grid_area": null,
      "grid_auto_columns": null,
      "grid_auto_flow": null,
      "grid_auto_rows": null,
      "grid_column": null,
      "grid_gap": null,
      "grid_row": null,
      "grid_template_areas": null,
      "grid_template_columns": null,
      "grid_template_rows": null,
      "height": null,
      "justify_content": null,
      "justify_items": null,
      "left": null,
      "margin": null,
      "max_height": null,
      "max_width": null,
      "min_height": null,
      "min_width": null,
      "object_fit": null,
      "object_position": null,
      "order": null,
      "overflow": null,
      "overflow_x": null,
      "overflow_y": null,
      "padding": null,
      "right": null,
      "top": null,
      "visibility": null,
      "width": null
     }
    },
    "be896cdeb7454a9ca4190abda53c4ff4": {
     "model_module": "@jupyter-widgets/controls",
     "model_module_version": "1.5.0",
     "model_name": "HTMLModel",
     "state": {
      "_dom_classes": [],
      "_model_module": "@jupyter-widgets/controls",
      "_model_module_version": "1.5.0",
      "_model_name": "HTMLModel",
      "_view_count": null,
      "_view_module": "@jupyter-widgets/controls",
      "_view_module_version": "1.5.0",
      "_view_name": "HTMLView",
      "description": "",
      "description_tooltip": null,
      "layout": "IPY_MODEL_128aace3e857444fb8d2a3a5b59216cf",
      "placeholder": "​",
      "style": "IPY_MODEL_a06915cec84e4beb8e3556e00369f074",
      "value": "Downloading: 100%"
     }
    },
    "c250cc2b41ef48e4ac6c03303afd87a7": {
     "model_module": "@jupyter-widgets/controls",
     "model_module_version": "1.5.0",
     "model_name": "ProgressStyleModel",
     "state": {
      "_model_module": "@jupyter-widgets/controls",
      "_model_module_version": "1.5.0",
      "_model_name": "ProgressStyleModel",
      "_view_count": null,
      "_view_module": "@jupyter-widgets/base",
      "_view_module_version": "1.2.0",
      "_view_name": "StyleView",
      "bar_color": null,
      "description_width": ""
     }
    },
    "e3c13842395a49a2ac8f40ea51fe7bc1": {
     "model_module": "@jupyter-widgets/controls",
     "model_module_version": "1.5.0",
     "model_name": "DescriptionStyleModel",
     "state": {
      "_model_module": "@jupyter-widgets/controls",
      "_model_module_version": "1.5.0",
      "_model_name": "DescriptionStyleModel",
      "_view_count": null,
      "_view_module": "@jupyter-widgets/base",
      "_view_module_version": "1.2.0",
      "_view_name": "StyleView",
      "description_width": ""
     }
    },
    "f5e3614da5764fb892daf84eb8de63a8": {
     "model_module": "@jupyter-widgets/controls",
     "model_module_version": "1.5.0",
     "model_name": "FloatProgressModel",
     "state": {
      "_dom_classes": [],
      "_model_module": "@jupyter-widgets/controls",
      "_model_module_version": "1.5.0",
      "_model_name": "FloatProgressModel",
      "_view_count": null,
      "_view_module": "@jupyter-widgets/controls",
      "_view_module_version": "1.5.0",
      "_view_name": "ProgressView",
      "bar_style": "success",
      "description": "",
      "description_tooltip": null,
      "layout": "IPY_MODEL_3ca89b5a58b640c7af457fa3fa68ee1c",
      "max": 570,
      "min": 0,
      "orientation": "horizontal",
      "style": "IPY_MODEL_ae8bd98ad8e149bcb4f8bbe749c91379",
      "value": 570
     }
    }
   }
  }
 },
 "nbformat": 4,
 "nbformat_minor": 1
}
